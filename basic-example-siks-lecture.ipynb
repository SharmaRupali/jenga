{
 "cells": [
  {
   "cell_type": "code",
   "execution_count": 1,
   "metadata": {},
   "outputs": [],
   "source": [
    "import numpy as np"
   ]
  },
  {
   "cell_type": "markdown",
   "metadata": {},
   "source": [
    "### Instantiate the prediction task"
   ]
  },
  {
   "cell_type": "code",
   "execution_count": 2,
   "metadata": {},
   "outputs": [],
   "source": [
    "from jenga.tasks.income import IncomeEstimationTask\n",
    "\n",
    "task = IncomeEstimationTask(seed=42)"
   ]
  },
  {
   "cell_type": "markdown",
   "metadata": {},
   "source": [
    "### Task details\n",
    "\n",
    "In this task, we try to predict the income level of a person (more or less than 50K dollars per years) from demographic and work-related data. It is often used as a proxy to study automated decision making for loan applications.\n",
    "\n",
    "The original data is available in the UCI machine learning repository at https://archive.ics.uci.edu/ml/datasets/adult"
   ]
  },
  {
   "cell_type": "code",
   "execution_count": 3,
   "metadata": {},
   "outputs": [
    {
     "data": {
      "text/html": [
       "<div>\n",
       "<style scoped>\n",
       "    .dataframe tbody tr th:only-of-type {\n",
       "        vertical-align: middle;\n",
       "    }\n",
       "\n",
       "    .dataframe tbody tr th {\n",
       "        vertical-align: top;\n",
       "    }\n",
       "\n",
       "    .dataframe thead th {\n",
       "        text-align: right;\n",
       "    }\n",
       "</style>\n",
       "<table border=\"1\" class=\"dataframe\">\n",
       "  <thead>\n",
       "    <tr style=\"text-align: right;\">\n",
       "      <th></th>\n",
       "      <th>workclass</th>\n",
       "      <th>occupation</th>\n",
       "      <th>marital_status</th>\n",
       "      <th>education</th>\n",
       "      <th>hours_per_week</th>\n",
       "      <th>age</th>\n",
       "    </tr>\n",
       "  </thead>\n",
       "  <tbody>\n",
       "    <tr>\n",
       "      <td>22582</td>\n",
       "      <td>Private</td>\n",
       "      <td>Sales</td>\n",
       "      <td>Never-married</td>\n",
       "      <td>11th</td>\n",
       "      <td>16</td>\n",
       "      <td>17</td>\n",
       "    </tr>\n",
       "    <tr>\n",
       "      <td>15224</td>\n",
       "      <td>Private</td>\n",
       "      <td>Adm-clerical</td>\n",
       "      <td>Never-married</td>\n",
       "      <td>HS-grad</td>\n",
       "      <td>48</td>\n",
       "      <td>34</td>\n",
       "    </tr>\n",
       "    <tr>\n",
       "      <td>12360</td>\n",
       "      <td>Private</td>\n",
       "      <td>Adm-clerical</td>\n",
       "      <td>Widowed</td>\n",
       "      <td>Some-college</td>\n",
       "      <td>40</td>\n",
       "      <td>64</td>\n",
       "    </tr>\n",
       "    <tr>\n",
       "      <td>2959</td>\n",
       "      <td>Self-emp-inc</td>\n",
       "      <td>Farming-fishing</td>\n",
       "      <td>Married-civ-spouse</td>\n",
       "      <td>10th</td>\n",
       "      <td>80</td>\n",
       "      <td>48</td>\n",
       "    </tr>\n",
       "    <tr>\n",
       "      <td>5076</td>\n",
       "      <td>Federal-gov</td>\n",
       "      <td>Other-service</td>\n",
       "      <td>Never-married</td>\n",
       "      <td>HS-grad</td>\n",
       "      <td>32</td>\n",
       "      <td>32</td>\n",
       "    </tr>\n",
       "    <tr>\n",
       "      <td>...</td>\n",
       "      <td>...</td>\n",
       "      <td>...</td>\n",
       "      <td>...</td>\n",
       "      <td>...</td>\n",
       "      <td>...</td>\n",
       "      <td>...</td>\n",
       "    </tr>\n",
       "    <tr>\n",
       "      <td>12682</td>\n",
       "      <td>Private</td>\n",
       "      <td>Adm-clerical</td>\n",
       "      <td>Never-married</td>\n",
       "      <td>HS-grad</td>\n",
       "      <td>35</td>\n",
       "      <td>19</td>\n",
       "    </tr>\n",
       "    <tr>\n",
       "      <td>10553</td>\n",
       "      <td>Private</td>\n",
       "      <td>Other-service</td>\n",
       "      <td>Married-civ-spouse</td>\n",
       "      <td>Bachelors</td>\n",
       "      <td>40</td>\n",
       "      <td>40</td>\n",
       "    </tr>\n",
       "    <tr>\n",
       "      <td>15135</td>\n",
       "      <td>Private</td>\n",
       "      <td>Machine-op-inspct</td>\n",
       "      <td>Married-civ-spouse</td>\n",
       "      <td>HS-grad</td>\n",
       "      <td>40</td>\n",
       "      <td>47</td>\n",
       "    </tr>\n",
       "    <tr>\n",
       "      <td>25392</td>\n",
       "      <td>Local-gov</td>\n",
       "      <td>Other-service</td>\n",
       "      <td>Divorced</td>\n",
       "      <td>Masters</td>\n",
       "      <td>40</td>\n",
       "      <td>57</td>\n",
       "    </tr>\n",
       "    <tr>\n",
       "      <td>2500</td>\n",
       "      <td>Private</td>\n",
       "      <td>Adm-clerical</td>\n",
       "      <td>Never-married</td>\n",
       "      <td>Some-college</td>\n",
       "      <td>40</td>\n",
       "      <td>27</td>\n",
       "    </tr>\n",
       "  </tbody>\n",
       "</table>\n",
       "<p>26048 rows × 6 columns</p>\n",
       "</div>"
      ],
      "text/plain": [
       "          workclass         occupation      marital_status     education  \\\n",
       "22582       Private              Sales       Never-married          11th   \n",
       "15224       Private       Adm-clerical       Never-married       HS-grad   \n",
       "12360       Private       Adm-clerical             Widowed  Some-college   \n",
       "2959   Self-emp-inc    Farming-fishing  Married-civ-spouse          10th   \n",
       "5076    Federal-gov      Other-service       Never-married       HS-grad   \n",
       "...             ...                ...                 ...           ...   \n",
       "12682       Private       Adm-clerical       Never-married       HS-grad   \n",
       "10553       Private      Other-service  Married-civ-spouse     Bachelors   \n",
       "15135       Private  Machine-op-inspct  Married-civ-spouse       HS-grad   \n",
       "25392     Local-gov      Other-service            Divorced       Masters   \n",
       "2500        Private       Adm-clerical       Never-married  Some-college   \n",
       "\n",
       "       hours_per_week  age  \n",
       "22582              16   17  \n",
       "15224              48   34  \n",
       "12360              40   64  \n",
       "2959               80   48  \n",
       "5076               32   32  \n",
       "...               ...  ...  \n",
       "12682              35   19  \n",
       "10553              40   40  \n",
       "15135              40   47  \n",
       "25392              40   57  \n",
       "2500               40   27  \n",
       "\n",
       "[26048 rows x 6 columns]"
      ]
     },
     "execution_count": 3,
     "metadata": {},
     "output_type": "execute_result"
    }
   ],
   "source": [
    "task.train_data"
   ]
  },
  {
   "cell_type": "markdown",
   "metadata": {},
   "source": [
    "### Train the provided baseline model\n",
    "\n",
    "Jenga allows us to easily train and evaluate a logistic regression model for this task. Have a look at https://github.com/schelterlabs/jenga/blob/master/jenga/tasks/income.py if you want to know the details.\n"
   ]
  },
  {
   "cell_type": "code",
   "execution_count": 4,
   "metadata": {},
   "outputs": [
    {
     "name": "stdout",
     "output_type": "stream",
     "text": [
      "Fitting 5 folds for each of 12 candidates, totalling 60 fits\n"
     ]
    },
    {
     "name": "stderr",
     "output_type": "stream",
     "text": [
      "[Parallel(n_jobs=-1)]: Using backend LokyBackend with 8 concurrent workers.\n",
      "[Parallel(n_jobs=-1)]: Done  34 tasks      | elapsed:    3.4s\n",
      "[Parallel(n_jobs=-1)]: Done  60 out of  60 | elapsed:    3.9s finished\n"
     ]
    }
   ],
   "source": [
    "model = task.fit_baseline_model(task.train_data,task.train_labels)"
   ]
  },
  {
   "cell_type": "code",
   "execution_count": 5,
   "metadata": {},
   "outputs": [
    {
     "data": {
      "text/plain": [
       "'The ROC AUC score on the test data is 0.8799448422970204'"
      ]
     },
     "execution_count": 5,
     "metadata": {},
     "output_type": "execute_result"
    }
   ],
   "source": [
    "y_pred = model.predict_proba(task.test_data)\n",
    "\n",
    "f\"The ROC AUC score on the test data is {task.score_on_test_data(y_pred)}\""
   ]
  },
  {
   "cell_type": "markdown",
   "metadata": {},
   "source": [
    "### Let's have a look at the test data"
   ]
  },
  {
   "cell_type": "code",
   "execution_count": 6,
   "metadata": {},
   "outputs": [
    {
     "data": {
      "text/html": [
       "<div>\n",
       "<style scoped>\n",
       "    .dataframe tbody tr th:only-of-type {\n",
       "        vertical-align: middle;\n",
       "    }\n",
       "\n",
       "    .dataframe tbody tr th {\n",
       "        vertical-align: top;\n",
       "    }\n",
       "\n",
       "    .dataframe thead th {\n",
       "        text-align: right;\n",
       "    }\n",
       "</style>\n",
       "<table border=\"1\" class=\"dataframe\">\n",
       "  <thead>\n",
       "    <tr style=\"text-align: right;\">\n",
       "      <th></th>\n",
       "      <th>workclass</th>\n",
       "      <th>occupation</th>\n",
       "      <th>marital_status</th>\n",
       "      <th>education</th>\n",
       "      <th>hours_per_week</th>\n",
       "      <th>age</th>\n",
       "    </tr>\n",
       "  </thead>\n",
       "  <tbody>\n",
       "    <tr>\n",
       "      <td>8917</td>\n",
       "      <td>Private</td>\n",
       "      <td>Craft-repair</td>\n",
       "      <td>Married-civ-spouse</td>\n",
       "      <td>HS-grad</td>\n",
       "      <td>40</td>\n",
       "      <td>47</td>\n",
       "    </tr>\n",
       "    <tr>\n",
       "      <td>20837</td>\n",
       "      <td>Local-gov</td>\n",
       "      <td>Exec-managerial</td>\n",
       "      <td>Married-civ-spouse</td>\n",
       "      <td>Bachelors</td>\n",
       "      <td>40</td>\n",
       "      <td>58</td>\n",
       "    </tr>\n",
       "    <tr>\n",
       "      <td>17361</td>\n",
       "      <td>Private</td>\n",
       "      <td>Tech-support</td>\n",
       "      <td>Never-married</td>\n",
       "      <td>Bachelors</td>\n",
       "      <td>40</td>\n",
       "      <td>29</td>\n",
       "    </tr>\n",
       "    <tr>\n",
       "      <td>2954</td>\n",
       "      <td>Private</td>\n",
       "      <td>Machine-op-inspct</td>\n",
       "      <td>Never-married</td>\n",
       "      <td>HS-grad</td>\n",
       "      <td>40</td>\n",
       "      <td>26</td>\n",
       "    </tr>\n",
       "    <tr>\n",
       "      <td>21803</td>\n",
       "      <td>NaN</td>\n",
       "      <td>NaN</td>\n",
       "      <td>Never-married</td>\n",
       "      <td>Some-college</td>\n",
       "      <td>40</td>\n",
       "      <td>22</td>\n",
       "    </tr>\n",
       "    <tr>\n",
       "      <td>...</td>\n",
       "      <td>...</td>\n",
       "      <td>...</td>\n",
       "      <td>...</td>\n",
       "      <td>...</td>\n",
       "      <td>...</td>\n",
       "      <td>...</td>\n",
       "    </tr>\n",
       "    <tr>\n",
       "      <td>22218</td>\n",
       "      <td>Private</td>\n",
       "      <td>Adm-clerical</td>\n",
       "      <td>Divorced</td>\n",
       "      <td>HS-grad</td>\n",
       "      <td>43</td>\n",
       "      <td>46</td>\n",
       "    </tr>\n",
       "    <tr>\n",
       "      <td>23194</td>\n",
       "      <td>State-gov</td>\n",
       "      <td>Prof-specialty</td>\n",
       "      <td>Married-civ-spouse</td>\n",
       "      <td>Doctorate</td>\n",
       "      <td>45</td>\n",
       "      <td>37</td>\n",
       "    </tr>\n",
       "    <tr>\n",
       "      <td>27052</td>\n",
       "      <td>Self-emp-not-inc</td>\n",
       "      <td>Farming-fishing</td>\n",
       "      <td>Married-civ-spouse</td>\n",
       "      <td>HS-grad</td>\n",
       "      <td>56</td>\n",
       "      <td>47</td>\n",
       "    </tr>\n",
       "    <tr>\n",
       "      <td>11722</td>\n",
       "      <td>State-gov</td>\n",
       "      <td>Other-service</td>\n",
       "      <td>Married-civ-spouse</td>\n",
       "      <td>HS-grad</td>\n",
       "      <td>40</td>\n",
       "      <td>46</td>\n",
       "    </tr>\n",
       "    <tr>\n",
       "      <td>26091</td>\n",
       "      <td>Private</td>\n",
       "      <td>Tech-support</td>\n",
       "      <td>Never-married</td>\n",
       "      <td>Bachelors</td>\n",
       "      <td>40</td>\n",
       "      <td>27</td>\n",
       "    </tr>\n",
       "  </tbody>\n",
       "</table>\n",
       "<p>6513 rows × 6 columns</p>\n",
       "</div>"
      ],
      "text/plain": [
       "              workclass         occupation      marital_status     education  \\\n",
       "8917            Private       Craft-repair  Married-civ-spouse       HS-grad   \n",
       "20837         Local-gov    Exec-managerial  Married-civ-spouse     Bachelors   \n",
       "17361           Private       Tech-support       Never-married     Bachelors   \n",
       "2954            Private  Machine-op-inspct       Never-married       HS-grad   \n",
       "21803               NaN                NaN       Never-married  Some-college   \n",
       "...                 ...                ...                 ...           ...   \n",
       "22218           Private       Adm-clerical            Divorced       HS-grad   \n",
       "23194         State-gov     Prof-specialty  Married-civ-spouse     Doctorate   \n",
       "27052  Self-emp-not-inc    Farming-fishing  Married-civ-spouse       HS-grad   \n",
       "11722         State-gov      Other-service  Married-civ-spouse       HS-grad   \n",
       "26091           Private       Tech-support       Never-married     Bachelors   \n",
       "\n",
       "       hours_per_week  age  \n",
       "8917               40   47  \n",
       "20837              40   58  \n",
       "17361              40   29  \n",
       "2954               40   26  \n",
       "21803              40   22  \n",
       "...               ...  ...  \n",
       "22218              43   46  \n",
       "23194              45   37  \n",
       "27052              56   47  \n",
       "11722              40   46  \n",
       "26091              40   27  \n",
       "\n",
       "[6513 rows x 6 columns]"
      ]
     },
     "execution_count": 6,
     "metadata": {},
     "output_type": "execute_result"
    }
   ],
   "source": [
    "task.test_data"
   ]
  },
  {
   "cell_type": "markdown",
   "metadata": {},
   "source": [
    "### Corruptions\n",
    "\n",
    "Jenga provides a set of predefined data corruptions that we can use to simulate errors in the test data. We will simulate 'implicit missing values' in a column and see how this impacts the prediction quality.\n",
    "\n",
    "Jenga supports much more predefined corruptions, have a look at https://github.com/schelterlabs/jenga/tree/master/jenga/corruptions.\n"
   ]
  },
  {
   "cell_type": "code",
   "execution_count": 7,
   "metadata": {},
   "outputs": [],
   "source": [
    "from jenga.corruptions.generic import MissingValues\n",
    "\n",
    "marital_status_corruption = MissingValues(column='marital_status', fraction=0.99, na_value='BROKEN')\n"
   ]
  },
  {
   "cell_type": "code",
   "execution_count": 8,
   "metadata": {},
   "outputs": [
    {
     "data": {
      "text/html": [
       "<div>\n",
       "<style scoped>\n",
       "    .dataframe tbody tr th:only-of-type {\n",
       "        vertical-align: middle;\n",
       "    }\n",
       "\n",
       "    .dataframe tbody tr th {\n",
       "        vertical-align: top;\n",
       "    }\n",
       "\n",
       "    .dataframe thead th {\n",
       "        text-align: right;\n",
       "    }\n",
       "</style>\n",
       "<table border=\"1\" class=\"dataframe\">\n",
       "  <thead>\n",
       "    <tr style=\"text-align: right;\">\n",
       "      <th></th>\n",
       "      <th>workclass</th>\n",
       "      <th>occupation</th>\n",
       "      <th>marital_status</th>\n",
       "      <th>education</th>\n",
       "      <th>hours_per_week</th>\n",
       "      <th>age</th>\n",
       "    </tr>\n",
       "  </thead>\n",
       "  <tbody>\n",
       "    <tr>\n",
       "      <td>8917</td>\n",
       "      <td>Private</td>\n",
       "      <td>Craft-repair</td>\n",
       "      <td>BROKEN</td>\n",
       "      <td>HS-grad</td>\n",
       "      <td>40</td>\n",
       "      <td>47</td>\n",
       "    </tr>\n",
       "    <tr>\n",
       "      <td>20837</td>\n",
       "      <td>Local-gov</td>\n",
       "      <td>Exec-managerial</td>\n",
       "      <td>BROKEN</td>\n",
       "      <td>Bachelors</td>\n",
       "      <td>40</td>\n",
       "      <td>58</td>\n",
       "    </tr>\n",
       "    <tr>\n",
       "      <td>17361</td>\n",
       "      <td>Private</td>\n",
       "      <td>Tech-support</td>\n",
       "      <td>BROKEN</td>\n",
       "      <td>Bachelors</td>\n",
       "      <td>40</td>\n",
       "      <td>29</td>\n",
       "    </tr>\n",
       "    <tr>\n",
       "      <td>2954</td>\n",
       "      <td>Private</td>\n",
       "      <td>Machine-op-inspct</td>\n",
       "      <td>BROKEN</td>\n",
       "      <td>HS-grad</td>\n",
       "      <td>40</td>\n",
       "      <td>26</td>\n",
       "    </tr>\n",
       "    <tr>\n",
       "      <td>21803</td>\n",
       "      <td>NaN</td>\n",
       "      <td>NaN</td>\n",
       "      <td>BROKEN</td>\n",
       "      <td>Some-college</td>\n",
       "      <td>40</td>\n",
       "      <td>22</td>\n",
       "    </tr>\n",
       "    <tr>\n",
       "      <td>...</td>\n",
       "      <td>...</td>\n",
       "      <td>...</td>\n",
       "      <td>...</td>\n",
       "      <td>...</td>\n",
       "      <td>...</td>\n",
       "      <td>...</td>\n",
       "    </tr>\n",
       "    <tr>\n",
       "      <td>22218</td>\n",
       "      <td>Private</td>\n",
       "      <td>Adm-clerical</td>\n",
       "      <td>BROKEN</td>\n",
       "      <td>HS-grad</td>\n",
       "      <td>43</td>\n",
       "      <td>46</td>\n",
       "    </tr>\n",
       "    <tr>\n",
       "      <td>23194</td>\n",
       "      <td>State-gov</td>\n",
       "      <td>Prof-specialty</td>\n",
       "      <td>BROKEN</td>\n",
       "      <td>Doctorate</td>\n",
       "      <td>45</td>\n",
       "      <td>37</td>\n",
       "    </tr>\n",
       "    <tr>\n",
       "      <td>27052</td>\n",
       "      <td>Self-emp-not-inc</td>\n",
       "      <td>Farming-fishing</td>\n",
       "      <td>BROKEN</td>\n",
       "      <td>HS-grad</td>\n",
       "      <td>56</td>\n",
       "      <td>47</td>\n",
       "    </tr>\n",
       "    <tr>\n",
       "      <td>11722</td>\n",
       "      <td>State-gov</td>\n",
       "      <td>Other-service</td>\n",
       "      <td>BROKEN</td>\n",
       "      <td>HS-grad</td>\n",
       "      <td>40</td>\n",
       "      <td>46</td>\n",
       "    </tr>\n",
       "    <tr>\n",
       "      <td>26091</td>\n",
       "      <td>Private</td>\n",
       "      <td>Tech-support</td>\n",
       "      <td>BROKEN</td>\n",
       "      <td>Bachelors</td>\n",
       "      <td>40</td>\n",
       "      <td>27</td>\n",
       "    </tr>\n",
       "  </tbody>\n",
       "</table>\n",
       "<p>6513 rows × 6 columns</p>\n",
       "</div>"
      ],
      "text/plain": [
       "              workclass         occupation marital_status     education  \\\n",
       "8917            Private       Craft-repair         BROKEN       HS-grad   \n",
       "20837         Local-gov    Exec-managerial         BROKEN     Bachelors   \n",
       "17361           Private       Tech-support         BROKEN     Bachelors   \n",
       "2954            Private  Machine-op-inspct         BROKEN       HS-grad   \n",
       "21803               NaN                NaN         BROKEN  Some-college   \n",
       "...                 ...                ...            ...           ...   \n",
       "22218           Private       Adm-clerical         BROKEN       HS-grad   \n",
       "23194         State-gov     Prof-specialty         BROKEN     Doctorate   \n",
       "27052  Self-emp-not-inc    Farming-fishing         BROKEN       HS-grad   \n",
       "11722         State-gov      Other-service         BROKEN       HS-grad   \n",
       "26091           Private       Tech-support         BROKEN     Bachelors   \n",
       "\n",
       "       hours_per_week  age  \n",
       "8917               40   47  \n",
       "20837              40   58  \n",
       "17361              40   29  \n",
       "2954               40   26  \n",
       "21803              40   22  \n",
       "...               ...  ...  \n",
       "22218              43   46  \n",
       "23194              45   37  \n",
       "27052              56   47  \n",
       "11722              40   46  \n",
       "26091              40   27  \n",
       "\n",
       "[6513 rows x 6 columns]"
      ]
     },
     "execution_count": 8,
     "metadata": {},
     "output_type": "execute_result"
    }
   ],
   "source": [
    "corrupted_test_data = marital_status_corruption.transform(task.test_data)\n",
    "corrupted_test_data"
   ]
  },
  {
   "cell_type": "code",
   "execution_count": 9,
   "metadata": {},
   "outputs": [
    {
     "data": {
      "text/plain": [
       "'The ROC AUC score on the corrupted test data is 0.8045116792453368'"
      ]
     },
     "execution_count": 9,
     "metadata": {},
     "output_type": "execute_result"
    }
   ],
   "source": [
    "y_pred = model.predict_proba(corrupted_test_data)\n",
    "\n",
    "f\"The ROC AUC score on the corrupted test data is {task.score_on_test_data(y_pred)}\""
   ]
  },
  {
   "cell_type": "markdown",
   "metadata": {},
   "source": [
    "### Jenga's evaluators\n",
    "\n",
    "Jenga provides a set of evaluators which allow us to automate the evaluation of the impact of given data corruptions."
   ]
  },
  {
   "cell_type": "code",
   "execution_count": 10,
   "metadata": {},
   "outputs": [],
   "source": [
    "from jenga.evaluation.corruption_impact import CorruptionImpactEvaluator\n",
    "\n",
    "evaluator = CorruptionImpactEvaluator(task)"
   ]
  },
  {
   "cell_type": "code",
   "execution_count": 11,
   "metadata": {},
   "outputs": [],
   "source": [
    "corruptions = [\n",
    "    MissingValues(column='marital_status', fraction=0.99, na_value='BROKEN'),\n",
    "    MissingValues(column='age', fraction=0.05, na_value=-999),\n",
    "]"
   ]
  },
  {
   "cell_type": "markdown",
   "metadata": {},
   "source": [
    "### Run the evaluation of the corruptions with 10 repetitions "
   ]
  },
  {
   "cell_type": "code",
   "execution_count": 12,
   "metadata": {},
   "outputs": [
    {
     "name": "stdout",
     "output_type": "stream",
     "text": [
      "0/20 (0.019395000000000273)\n",
      "10/20 (0.19835700000000056)\n"
     ]
    }
   ],
   "source": [
    "num_repetitions = 10\n",
    "results = evaluator.evaluate(model, num_repetitions, *corruptions)"
   ]
  },
  {
   "cell_type": "markdown",
   "metadata": {},
   "source": [
    "### Investigate the impact on the predictive performance of the model"
   ]
  },
  {
   "cell_type": "code",
   "execution_count": 13,
   "metadata": {},
   "outputs": [
    {
     "name": "stdout",
     "output_type": "stream",
     "text": [
      "MissingValues: {'column': 'marital_status', 'fraction': 0.99, 'sampling': 'MCAR', 'na_value': 'BROKEN'}\n",
      "\n",
      "     Score (AUC) on \n",
      "      clean data:     0.8799448422970204\n",
      "      corrupted data: 0.8038035552511928\n",
      "     \n",
      "\n",
      "\n",
      "MissingValues: {'column': 'age', 'fraction': 0.05, 'sampling': 'MCAR', 'na_value': -999}\n",
      "\n",
      "     Score (AUC) on \n",
      "      clean data:     0.8799448422970204\n",
      "      corrupted data: 0.843399127066248\n",
      "     \n",
      "\n",
      "\n"
     ]
    }
   ],
   "source": [
    "for validation_result in results:\n",
    "    \n",
    "    print(validation_result.corruption)\n",
    "    print(f\"\"\"\n",
    "     Score (AUC) on \n",
    "      clean data:     {validation_result.baseline_score}\n",
    "      corrupted data: {np.mean(validation_result.corrupted_scores)}\n",
    "     \"\"\")    \n",
    "    print(\"\\n\")"
   ]
  }
 ],
 "metadata": {
  "kernelspec": {
   "display_name": "Python 3",
   "language": "python",
   "name": "python3"
  },
  "language_info": {
   "codemirror_mode": {
    "name": "ipython",
    "version": 3
   },
   "file_extension": ".py",
   "mimetype": "text/x-python",
   "name": "python",
   "nbconvert_exporter": "python",
   "pygments_lexer": "ipython3",
   "version": "3.7.8"
  }
 },
 "nbformat": 4,
 "nbformat_minor": 4
}
