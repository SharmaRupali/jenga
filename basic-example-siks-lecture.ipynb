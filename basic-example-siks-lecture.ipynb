{
 "cells": [
  {
   "cell_type": "code",
   "execution_count": 1,
   "metadata": {},
   "outputs": [],
   "source": [
    "import numpy as np"
   ]
  },
  {
   "cell_type": "markdown",
   "metadata": {},
   "source": [
    "### Instantiate the prediction task"
   ]
  },
  {
   "cell_type": "code",
   "execution_count": 2,
   "metadata": {},
   "outputs": [],
   "source": [
    "from jenga.tasks.income import IncomeEstimationTask\n",
    "\n",
    "task = IncomeEstimationTask(seed=42)"
   ]
  },
  {
   "cell_type": "markdown",
   "metadata": {},
   "source": [
    "### Task details\n",
    "\n",
    "In this task, we try to predict the income level of a person (more or less than 50K dollars per years) from demographic and work-related data. It is often used as a proxy to study automated decision making for loan applications.\n",
    "\n",
    "The original data is available in the UCI machine learning repository at https://archive.ics.uci.edu/ml/datasets/adult"
   ]
  },
  {
   "cell_type": "code",
   "execution_count": 3,
   "metadata": {},
   "outputs": [
    {
     "data": {
      "text/html": [
       "<div>\n",
       "<style scoped>\n",
       "    .dataframe tbody tr th:only-of-type {\n",
       "        vertical-align: middle;\n",
       "    }\n",
       "\n",
       "    .dataframe tbody tr th {\n",
       "        vertical-align: top;\n",
       "    }\n",
       "\n",
       "    .dataframe thead th {\n",
       "        text-align: right;\n",
       "    }\n",
       "</style>\n",
       "<table border=\"1\" class=\"dataframe\">\n",
       "  <thead>\n",
       "    <tr style=\"text-align: right;\">\n",
       "      <th></th>\n",
       "      <th>workclass</th>\n",
       "      <th>occupation</th>\n",
       "      <th>marital_status</th>\n",
       "      <th>education</th>\n",
       "      <th>hours_per_week</th>\n",
       "      <th>age</th>\n",
       "    </tr>\n",
       "  </thead>\n",
       "  <tbody>\n",
       "    <tr>\n",
       "      <td>3874</td>\n",
       "      <td>Private</td>\n",
       "      <td>Exec-managerial</td>\n",
       "      <td>Never-married</td>\n",
       "      <td>Some-college</td>\n",
       "      <td>40</td>\n",
       "      <td>22</td>\n",
       "    </tr>\n",
       "    <tr>\n",
       "      <td>13112</td>\n",
       "      <td>Private</td>\n",
       "      <td>Exec-managerial</td>\n",
       "      <td>Married-civ-spouse</td>\n",
       "      <td>Bachelors</td>\n",
       "      <td>45</td>\n",
       "      <td>60</td>\n",
       "    </tr>\n",
       "    <tr>\n",
       "      <td>17805</td>\n",
       "      <td>Local-gov</td>\n",
       "      <td>Prof-specialty</td>\n",
       "      <td>Divorced</td>\n",
       "      <td>Masters</td>\n",
       "      <td>25</td>\n",
       "      <td>60</td>\n",
       "    </tr>\n",
       "    <tr>\n",
       "      <td>17675</td>\n",
       "      <td>Self-emp-not-inc</td>\n",
       "      <td>Sales</td>\n",
       "      <td>Married-civ-spouse</td>\n",
       "      <td>Some-college</td>\n",
       "      <td>40</td>\n",
       "      <td>68</td>\n",
       "    </tr>\n",
       "    <tr>\n",
       "      <td>6004</td>\n",
       "      <td>Private</td>\n",
       "      <td>Sales</td>\n",
       "      <td>Married-civ-spouse</td>\n",
       "      <td>Assoc-acdm</td>\n",
       "      <td>48</td>\n",
       "      <td>52</td>\n",
       "    </tr>\n",
       "    <tr>\n",
       "      <td>...</td>\n",
       "      <td>...</td>\n",
       "      <td>...</td>\n",
       "      <td>...</td>\n",
       "      <td>...</td>\n",
       "      <td>...</td>\n",
       "      <td>...</td>\n",
       "    </tr>\n",
       "    <tr>\n",
       "      <td>19219</td>\n",
       "      <td>Private</td>\n",
       "      <td>Sales</td>\n",
       "      <td>Married-civ-spouse</td>\n",
       "      <td>Assoc-acdm</td>\n",
       "      <td>45</td>\n",
       "      <td>37</td>\n",
       "    </tr>\n",
       "    <tr>\n",
       "      <td>27436</td>\n",
       "      <td>Private</td>\n",
       "      <td>Tech-support</td>\n",
       "      <td>Never-married</td>\n",
       "      <td>Bachelors</td>\n",
       "      <td>45</td>\n",
       "      <td>38</td>\n",
       "    </tr>\n",
       "    <tr>\n",
       "      <td>20172</td>\n",
       "      <td>Private</td>\n",
       "      <td>Other-service</td>\n",
       "      <td>Married-civ-spouse</td>\n",
       "      <td>7th-8th</td>\n",
       "      <td>40</td>\n",
       "      <td>63</td>\n",
       "    </tr>\n",
       "    <tr>\n",
       "      <td>9799</td>\n",
       "      <td>Private</td>\n",
       "      <td>Exec-managerial</td>\n",
       "      <td>Married-civ-spouse</td>\n",
       "      <td>Some-college</td>\n",
       "      <td>55</td>\n",
       "      <td>52</td>\n",
       "    </tr>\n",
       "    <tr>\n",
       "      <td>8110</td>\n",
       "      <td>Private</td>\n",
       "      <td>Craft-repair</td>\n",
       "      <td>Married-civ-spouse</td>\n",
       "      <td>HS-grad</td>\n",
       "      <td>4</td>\n",
       "      <td>41</td>\n",
       "    </tr>\n",
       "  </tbody>\n",
       "</table>\n",
       "<p>26048 rows × 6 columns</p>\n",
       "</div>"
      ],
      "text/plain": [
       "              workclass       occupation      marital_status     education  \\\n",
       "3874            Private  Exec-managerial       Never-married  Some-college   \n",
       "13112           Private  Exec-managerial  Married-civ-spouse     Bachelors   \n",
       "17805         Local-gov   Prof-specialty            Divorced       Masters   \n",
       "17675  Self-emp-not-inc            Sales  Married-civ-spouse  Some-college   \n",
       "6004            Private            Sales  Married-civ-spouse    Assoc-acdm   \n",
       "...                 ...              ...                 ...           ...   \n",
       "19219           Private            Sales  Married-civ-spouse    Assoc-acdm   \n",
       "27436           Private     Tech-support       Never-married     Bachelors   \n",
       "20172           Private    Other-service  Married-civ-spouse       7th-8th   \n",
       "9799            Private  Exec-managerial  Married-civ-spouse  Some-college   \n",
       "8110            Private     Craft-repair  Married-civ-spouse       HS-grad   \n",
       "\n",
       "       hours_per_week  age  \n",
       "3874               40   22  \n",
       "13112              45   60  \n",
       "17805              25   60  \n",
       "17675              40   68  \n",
       "6004               48   52  \n",
       "...               ...  ...  \n",
       "19219              45   37  \n",
       "27436              45   38  \n",
       "20172              40   63  \n",
       "9799               55   52  \n",
       "8110                4   41  \n",
       "\n",
       "[26048 rows x 6 columns]"
      ]
     },
     "execution_count": 3,
     "metadata": {},
     "output_type": "execute_result"
    }
   ],
   "source": [
    "task.train_data"
   ]
  },
  {
   "cell_type": "markdown",
   "metadata": {},
   "source": [
    "### Train the provided baseline model\n",
    "\n",
    "Jenga allows us to easily train and evaluate a logistic regression model for this task. Have a look at https://github.com/schelterlabs/jenga/blob/master/jenga/tasks/income.py if you want to know the details.\n"
   ]
  },
  {
   "cell_type": "code",
   "execution_count": 4,
   "metadata": {},
   "outputs": [
    {
     "name": "stdout",
     "output_type": "stream",
     "text": [
      "Fitting 5 folds for each of 12 candidates, totalling 60 fits\n"
     ]
    },
    {
     "name": "stderr",
     "output_type": "stream",
     "text": [
      "[Parallel(n_jobs=-1)]: Using backend LokyBackend with 8 concurrent workers.\n",
      "[Parallel(n_jobs=-1)]: Done  34 tasks      | elapsed:    2.7s\n",
      "[Parallel(n_jobs=-1)]: Done  60 out of  60 | elapsed:    3.1s finished\n"
     ]
    }
   ],
   "source": [
    "model = task.fit_baseline_model(task.train_data,task.train_labels)"
   ]
  },
  {
   "cell_type": "code",
   "execution_count": 5,
   "metadata": {},
   "outputs": [
    {
     "data": {
      "text/plain": [
       "'The ROC AUC score on the test data is 0.8787212685178679'"
      ]
     },
     "execution_count": 5,
     "metadata": {},
     "output_type": "execute_result"
    }
   ],
   "source": [
    "y_pred = model.predict_proba(task.test_data)\n",
    "\n",
    "f\"The ROC AUC score on the test data is {task.score_on_test_data(y_pred)}\""
   ]
  },
  {
   "cell_type": "markdown",
   "metadata": {},
   "source": [
    "### Let's have a look at the test data"
   ]
  },
  {
   "cell_type": "code",
   "execution_count": 6,
   "metadata": {},
   "outputs": [
    {
     "data": {
      "text/html": [
       "<div>\n",
       "<style scoped>\n",
       "    .dataframe tbody tr th:only-of-type {\n",
       "        vertical-align: middle;\n",
       "    }\n",
       "\n",
       "    .dataframe tbody tr th {\n",
       "        vertical-align: top;\n",
       "    }\n",
       "\n",
       "    .dataframe thead th {\n",
       "        text-align: right;\n",
       "    }\n",
       "</style>\n",
       "<table border=\"1\" class=\"dataframe\">\n",
       "  <thead>\n",
       "    <tr style=\"text-align: right;\">\n",
       "      <th></th>\n",
       "      <th>workclass</th>\n",
       "      <th>occupation</th>\n",
       "      <th>marital_status</th>\n",
       "      <th>education</th>\n",
       "      <th>hours_per_week</th>\n",
       "      <th>age</th>\n",
       "    </tr>\n",
       "  </thead>\n",
       "  <tbody>\n",
       "    <tr>\n",
       "      <td>22273</td>\n",
       "      <td>Federal-gov</td>\n",
       "      <td>Prof-specialty</td>\n",
       "      <td>Widowed</td>\n",
       "      <td>Masters</td>\n",
       "      <td>40</td>\n",
       "      <td>61</td>\n",
       "    </tr>\n",
       "    <tr>\n",
       "      <td>20658</td>\n",
       "      <td>Private</td>\n",
       "      <td>Other-service</td>\n",
       "      <td>Separated</td>\n",
       "      <td>9th</td>\n",
       "      <td>40</td>\n",
       "      <td>36</td>\n",
       "    </tr>\n",
       "    <tr>\n",
       "      <td>2898</td>\n",
       "      <td>Local-gov</td>\n",
       "      <td>Prof-specialty</td>\n",
       "      <td>Never-married</td>\n",
       "      <td>Masters</td>\n",
       "      <td>40</td>\n",
       "      <td>29</td>\n",
       "    </tr>\n",
       "    <tr>\n",
       "      <td>26845</td>\n",
       "      <td>Private</td>\n",
       "      <td>Tech-support</td>\n",
       "      <td>Married-civ-spouse</td>\n",
       "      <td>Assoc-voc</td>\n",
       "      <td>40</td>\n",
       "      <td>29</td>\n",
       "    </tr>\n",
       "    <tr>\n",
       "      <td>28814</td>\n",
       "      <td>Local-gov</td>\n",
       "      <td>Exec-managerial</td>\n",
       "      <td>Married-civ-spouse</td>\n",
       "      <td>Bachelors</td>\n",
       "      <td>42</td>\n",
       "      <td>38</td>\n",
       "    </tr>\n",
       "    <tr>\n",
       "      <td>...</td>\n",
       "      <td>...</td>\n",
       "      <td>...</td>\n",
       "      <td>...</td>\n",
       "      <td>...</td>\n",
       "      <td>...</td>\n",
       "      <td>...</td>\n",
       "    </tr>\n",
       "    <tr>\n",
       "      <td>904</td>\n",
       "      <td>Private</td>\n",
       "      <td>Sales</td>\n",
       "      <td>Never-married</td>\n",
       "      <td>HS-grad</td>\n",
       "      <td>45</td>\n",
       "      <td>35</td>\n",
       "    </tr>\n",
       "    <tr>\n",
       "      <td>27829</td>\n",
       "      <td>Local-gov</td>\n",
       "      <td>Prof-specialty</td>\n",
       "      <td>Divorced</td>\n",
       "      <td>Bachelors</td>\n",
       "      <td>40</td>\n",
       "      <td>36</td>\n",
       "    </tr>\n",
       "    <tr>\n",
       "      <td>11216</td>\n",
       "      <td>Private</td>\n",
       "      <td>Prof-specialty</td>\n",
       "      <td>Married-civ-spouse</td>\n",
       "      <td>Masters</td>\n",
       "      <td>20</td>\n",
       "      <td>66</td>\n",
       "    </tr>\n",
       "    <tr>\n",
       "      <td>694</td>\n",
       "      <td>State-gov</td>\n",
       "      <td>Tech-support</td>\n",
       "      <td>Never-married</td>\n",
       "      <td>Bachelors</td>\n",
       "      <td>20</td>\n",
       "      <td>23</td>\n",
       "    </tr>\n",
       "    <tr>\n",
       "      <td>15448</td>\n",
       "      <td>Private</td>\n",
       "      <td>Prof-specialty</td>\n",
       "      <td>Married-civ-spouse</td>\n",
       "      <td>Prof-school</td>\n",
       "      <td>60</td>\n",
       "      <td>28</td>\n",
       "    </tr>\n",
       "  </tbody>\n",
       "</table>\n",
       "<p>6513 rows × 6 columns</p>\n",
       "</div>"
      ],
      "text/plain": [
       "         workclass       occupation      marital_status    education  \\\n",
       "22273  Federal-gov   Prof-specialty             Widowed      Masters   \n",
       "20658      Private    Other-service           Separated          9th   \n",
       "2898     Local-gov   Prof-specialty       Never-married      Masters   \n",
       "26845      Private     Tech-support  Married-civ-spouse    Assoc-voc   \n",
       "28814    Local-gov  Exec-managerial  Married-civ-spouse    Bachelors   \n",
       "...            ...              ...                 ...          ...   \n",
       "904        Private            Sales       Never-married      HS-grad   \n",
       "27829    Local-gov   Prof-specialty            Divorced    Bachelors   \n",
       "11216      Private   Prof-specialty  Married-civ-spouse      Masters   \n",
       "694      State-gov     Tech-support       Never-married    Bachelors   \n",
       "15448      Private   Prof-specialty  Married-civ-spouse  Prof-school   \n",
       "\n",
       "       hours_per_week  age  \n",
       "22273              40   61  \n",
       "20658              40   36  \n",
       "2898               40   29  \n",
       "26845              40   29  \n",
       "28814              42   38  \n",
       "...               ...  ...  \n",
       "904                45   35  \n",
       "27829              40   36  \n",
       "11216              20   66  \n",
       "694                20   23  \n",
       "15448              60   28  \n",
       "\n",
       "[6513 rows x 6 columns]"
      ]
     },
     "execution_count": 6,
     "metadata": {},
     "output_type": "execute_result"
    }
   ],
   "source": [
    "task.test_data"
   ]
  },
  {
   "cell_type": "markdown",
   "metadata": {},
   "source": [
    "### Corruptions\n",
    "\n",
    "Jenga provides a set of predefined data corruptions that we can use to simulate errors in the test data. We will simulate 'implicit missing values' in a column and see how this impacts the prediction quality.\n",
    "\n",
    "Jenga supports much more predefined corruptions, have a look at https://github.com/schelterlabs/jenga/tree/master/jenga/corruptions.\n"
   ]
  },
  {
   "cell_type": "code",
   "execution_count": 7,
   "metadata": {},
   "outputs": [],
   "source": [
    "from jenga.corruptions.generic import MissingValues\n",
    "\n",
    "marital_status_corruption = MissingValues(column='marital_status', fraction=0.99, na_value='BROKEN')\n"
   ]
  },
  {
   "cell_type": "code",
   "execution_count": 8,
   "metadata": {},
   "outputs": [
    {
     "data": {
      "text/html": [
       "<div>\n",
       "<style scoped>\n",
       "    .dataframe tbody tr th:only-of-type {\n",
       "        vertical-align: middle;\n",
       "    }\n",
       "\n",
       "    .dataframe tbody tr th {\n",
       "        vertical-align: top;\n",
       "    }\n",
       "\n",
       "    .dataframe thead th {\n",
       "        text-align: right;\n",
       "    }\n",
       "</style>\n",
       "<table border=\"1\" class=\"dataframe\">\n",
       "  <thead>\n",
       "    <tr style=\"text-align: right;\">\n",
       "      <th></th>\n",
       "      <th>workclass</th>\n",
       "      <th>occupation</th>\n",
       "      <th>marital_status</th>\n",
       "      <th>education</th>\n",
       "      <th>hours_per_week</th>\n",
       "      <th>age</th>\n",
       "    </tr>\n",
       "  </thead>\n",
       "  <tbody>\n",
       "    <tr>\n",
       "      <td>22273</td>\n",
       "      <td>Federal-gov</td>\n",
       "      <td>Prof-specialty</td>\n",
       "      <td>BROKEN</td>\n",
       "      <td>Masters</td>\n",
       "      <td>40</td>\n",
       "      <td>61</td>\n",
       "    </tr>\n",
       "    <tr>\n",
       "      <td>20658</td>\n",
       "      <td>Private</td>\n",
       "      <td>Other-service</td>\n",
       "      <td>BROKEN</td>\n",
       "      <td>9th</td>\n",
       "      <td>40</td>\n",
       "      <td>36</td>\n",
       "    </tr>\n",
       "    <tr>\n",
       "      <td>2898</td>\n",
       "      <td>Local-gov</td>\n",
       "      <td>Prof-specialty</td>\n",
       "      <td>BROKEN</td>\n",
       "      <td>Masters</td>\n",
       "      <td>40</td>\n",
       "      <td>29</td>\n",
       "    </tr>\n",
       "    <tr>\n",
       "      <td>26845</td>\n",
       "      <td>Private</td>\n",
       "      <td>Tech-support</td>\n",
       "      <td>BROKEN</td>\n",
       "      <td>Assoc-voc</td>\n",
       "      <td>40</td>\n",
       "      <td>29</td>\n",
       "    </tr>\n",
       "    <tr>\n",
       "      <td>28814</td>\n",
       "      <td>Local-gov</td>\n",
       "      <td>Exec-managerial</td>\n",
       "      <td>BROKEN</td>\n",
       "      <td>Bachelors</td>\n",
       "      <td>42</td>\n",
       "      <td>38</td>\n",
       "    </tr>\n",
       "    <tr>\n",
       "      <td>...</td>\n",
       "      <td>...</td>\n",
       "      <td>...</td>\n",
       "      <td>...</td>\n",
       "      <td>...</td>\n",
       "      <td>...</td>\n",
       "      <td>...</td>\n",
       "    </tr>\n",
       "    <tr>\n",
       "      <td>904</td>\n",
       "      <td>Private</td>\n",
       "      <td>Sales</td>\n",
       "      <td>BROKEN</td>\n",
       "      <td>HS-grad</td>\n",
       "      <td>45</td>\n",
       "      <td>35</td>\n",
       "    </tr>\n",
       "    <tr>\n",
       "      <td>27829</td>\n",
       "      <td>Local-gov</td>\n",
       "      <td>Prof-specialty</td>\n",
       "      <td>BROKEN</td>\n",
       "      <td>Bachelors</td>\n",
       "      <td>40</td>\n",
       "      <td>36</td>\n",
       "    </tr>\n",
       "    <tr>\n",
       "      <td>11216</td>\n",
       "      <td>Private</td>\n",
       "      <td>Prof-specialty</td>\n",
       "      <td>BROKEN</td>\n",
       "      <td>Masters</td>\n",
       "      <td>20</td>\n",
       "      <td>66</td>\n",
       "    </tr>\n",
       "    <tr>\n",
       "      <td>694</td>\n",
       "      <td>State-gov</td>\n",
       "      <td>Tech-support</td>\n",
       "      <td>BROKEN</td>\n",
       "      <td>Bachelors</td>\n",
       "      <td>20</td>\n",
       "      <td>23</td>\n",
       "    </tr>\n",
       "    <tr>\n",
       "      <td>15448</td>\n",
       "      <td>Private</td>\n",
       "      <td>Prof-specialty</td>\n",
       "      <td>BROKEN</td>\n",
       "      <td>Prof-school</td>\n",
       "      <td>60</td>\n",
       "      <td>28</td>\n",
       "    </tr>\n",
       "  </tbody>\n",
       "</table>\n",
       "<p>6513 rows × 6 columns</p>\n",
       "</div>"
      ],
      "text/plain": [
       "         workclass       occupation marital_status    education  \\\n",
       "22273  Federal-gov   Prof-specialty         BROKEN      Masters   \n",
       "20658      Private    Other-service         BROKEN          9th   \n",
       "2898     Local-gov   Prof-specialty         BROKEN      Masters   \n",
       "26845      Private     Tech-support         BROKEN    Assoc-voc   \n",
       "28814    Local-gov  Exec-managerial         BROKEN    Bachelors   \n",
       "...            ...              ...            ...          ...   \n",
       "904        Private            Sales         BROKEN      HS-grad   \n",
       "27829    Local-gov   Prof-specialty         BROKEN    Bachelors   \n",
       "11216      Private   Prof-specialty         BROKEN      Masters   \n",
       "694      State-gov     Tech-support         BROKEN    Bachelors   \n",
       "15448      Private   Prof-specialty         BROKEN  Prof-school   \n",
       "\n",
       "       hours_per_week  age  \n",
       "22273              40   61  \n",
       "20658              40   36  \n",
       "2898               40   29  \n",
       "26845              40   29  \n",
       "28814              42   38  \n",
       "...               ...  ...  \n",
       "904                45   35  \n",
       "27829              40   36  \n",
       "11216              20   66  \n",
       "694                20   23  \n",
       "15448              60   28  \n",
       "\n",
       "[6513 rows x 6 columns]"
      ]
     },
     "execution_count": 8,
     "metadata": {},
     "output_type": "execute_result"
    }
   ],
   "source": [
    "corrupted_test_data = marital_status_corruption.transform(task.test_data)\n",
    "corrupted_test_data"
   ]
  },
  {
   "cell_type": "code",
   "execution_count": 9,
   "metadata": {},
   "outputs": [
    {
     "data": {
      "text/plain": [
       "'The ROC AUC score on the corrupted test data is 0.8110489186579961'"
      ]
     },
     "execution_count": 9,
     "metadata": {},
     "output_type": "execute_result"
    }
   ],
   "source": [
    "y_pred = model.predict_proba(corrupted_test_data)\n",
    "\n",
    "f\"The ROC AUC score on the corrupted test data is {task.score_on_test_data(y_pred)}\""
   ]
  },
  {
   "cell_type": "markdown",
   "metadata": {},
   "source": [
    "### Jenga's evaluators\n",
    "\n",
    "Jenga provides a set of evaluators which allow us to automate the evaluation of the impact of given data corruptions."
   ]
  },
  {
   "cell_type": "code",
   "execution_count": 10,
   "metadata": {},
   "outputs": [],
   "source": [
    "from jenga.evaluation.corruption_impact import CorruptionImpactEvaluator\n",
    "\n",
    "evaluator = CorruptionImpactEvaluator(task)"
   ]
  },
  {
   "cell_type": "code",
   "execution_count": 11,
   "metadata": {},
   "outputs": [],
   "source": [
    "corruptions = [\n",
    "    MissingValues(column='marital_status', fraction=0.99, na_value='BROKEN'),\n",
    "    MissingValues(column='age', fraction=0.05, na_value=-999),\n",
    "]"
   ]
  },
  {
   "cell_type": "markdown",
   "metadata": {},
   "source": [
    "### Run the evaluation of the corruptions with 10 repetitions "
   ]
  },
  {
   "cell_type": "code",
   "execution_count": 12,
   "metadata": {},
   "outputs": [
    {
     "name": "stdout",
     "output_type": "stream",
     "text": [
      "0/20 (0.01639400000000002)\n",
      "10/20 (0.18642299999999956)\n"
     ]
    }
   ],
   "source": [
    "num_repetitions = 10\n",
    "results = evaluator.evaluate(model, num_repetitions, *corruptions)"
   ]
  },
  {
   "cell_type": "markdown",
   "metadata": {},
   "source": [
    "### Investigate the impact on the predictive performance of the model"
   ]
  },
  {
   "cell_type": "code",
   "execution_count": 13,
   "metadata": {},
   "outputs": [
    {
     "name": "stdout",
     "output_type": "stream",
     "text": [
      "MissingValues: {'column': 'marital_status', 'fraction': 0.99, 'sampling': 'MCAR', 'na_value': 'BROKEN'}\n",
      "\n",
      "     Score (AUC) on \n",
      "      clean data:     0.8787212685178679\n",
      "      corrupted data: 0.8107457304490607\n",
      "     \n",
      "\n",
      "\n",
      "MissingValues: {'column': 'age', 'fraction': 0.05, 'sampling': 'MCAR', 'na_value': -999}\n",
      "\n",
      "     Score (AUC) on \n",
      "      clean data:     0.8787212685178679\n",
      "      corrupted data: 0.8416967740592416\n",
      "     \n",
      "\n",
      "\n"
     ]
    }
   ],
   "source": [
    "for validation_result in results:\n",
    "    \n",
    "    print(validation_result.corruption)\n",
    "    print(f\"\"\"\n",
    "     Score (AUC) on \n",
    "      clean data:     {validation_result.baseline_score}\n",
    "      corrupted data: {np.mean(validation_result.corrupted_scores)}\n",
    "     \"\"\")    \n",
    "    print(\"\\n\")"
   ]
  }
 ],
 "metadata": {
  "kernelspec": {
   "display_name": "Python 3",
   "language": "python",
   "name": "python3"
  },
  "language_info": {
   "codemirror_mode": {
    "name": "ipython",
    "version": 3
   },
   "file_extension": ".py",
   "mimetype": "text/x-python",
   "name": "python",
   "nbconvert_exporter": "python",
   "pygments_lexer": "ipython3",
   "version": "3.7.8"
  }
 },
 "nbformat": 4,
 "nbformat_minor": 4
}
