{
 "cells": [
  {
   "cell_type": "code",
   "execution_count": 1,
   "metadata": {},
   "outputs": [],
   "source": [
    "import jsonpickle"
   ]
  },
  {
   "cell_type": "code",
   "execution_count": 2,
   "metadata": {},
   "outputs": [
    {
     "name": "stderr",
     "output_type": "stream",
     "text": [
      "/home/ssc/Entwicklung/projects/jenga/env/lib/python3.6/site-packages/tensorflow/python/framework/dtypes.py:526: FutureWarning: Passing (type, 1) or '1type' as a synonym of type is deprecated; in a future version of numpy, it will be understood as (type, (1,)) / '(1,)type'.\n",
      "  _np_qint8 = np.dtype([(\"qint8\", np.int8, 1)])\n",
      "/home/ssc/Entwicklung/projects/jenga/env/lib/python3.6/site-packages/tensorflow/python/framework/dtypes.py:527: FutureWarning: Passing (type, 1) or '1type' as a synonym of type is deprecated; in a future version of numpy, it will be understood as (type, (1,)) / '(1,)type'.\n",
      "  _np_quint8 = np.dtype([(\"quint8\", np.uint8, 1)])\n",
      "/home/ssc/Entwicklung/projects/jenga/env/lib/python3.6/site-packages/tensorflow/python/framework/dtypes.py:528: FutureWarning: Passing (type, 1) or '1type' as a synonym of type is deprecated; in a future version of numpy, it will be understood as (type, (1,)) / '(1,)type'.\n",
      "  _np_qint16 = np.dtype([(\"qint16\", np.int16, 1)])\n",
      "/home/ssc/Entwicklung/projects/jenga/env/lib/python3.6/site-packages/tensorflow/python/framework/dtypes.py:529: FutureWarning: Passing (type, 1) or '1type' as a synonym of type is deprecated; in a future version of numpy, it will be understood as (type, (1,)) / '(1,)type'.\n",
      "  _np_quint16 = np.dtype([(\"quint16\", np.uint16, 1)])\n",
      "/home/ssc/Entwicklung/projects/jenga/env/lib/python3.6/site-packages/tensorflow/python/framework/dtypes.py:530: FutureWarning: Passing (type, 1) or '1type' as a synonym of type is deprecated; in a future version of numpy, it will be understood as (type, (1,)) / '(1,)type'.\n",
      "  _np_qint32 = np.dtype([(\"qint32\", np.int32, 1)])\n",
      "/home/ssc/Entwicklung/projects/jenga/env/lib/python3.6/site-packages/tensorflow/python/framework/dtypes.py:535: FutureWarning: Passing (type, 1) or '1type' as a synonym of type is deprecated; in a future version of numpy, it will be understood as (type, (1,)) / '(1,)type'.\n",
      "  np_resource = np.dtype([(\"resource\", np.ubyte, 1)])\n"
     ]
    }
   ],
   "source": [
    "f = open(\"datawig-results.jsonpickle\",\"r\")\n",
    "datawig_results = jsonpickle.decode(f.read())"
   ]
  },
  {
   "cell_type": "code",
   "execution_count": 3,
   "metadata": {},
   "outputs": [
    {
     "data": {
      "text/plain": [
       "[<jenga.evaluation.corruption_impact.ValidationResult at 0x7fa09806c940>,\n",
       " <jenga.evaluation.corruption_impact.ValidationResult at 0x7fa083d6b4e0>,\n",
       " <jenga.evaluation.corruption_impact.ValidationResult at 0x7fa083d6b0f0>,\n",
       " <jenga.evaluation.corruption_impact.ValidationResult at 0x7fa083d6bb70>,\n",
       " <jenga.evaluation.corruption_impact.ValidationResult at 0x7fa04637ef28>,\n",
       " <jenga.evaluation.corruption_impact.ValidationResult at 0x7fa04637ef98>,\n",
       " <jenga.evaluation.corruption_impact.ValidationResult at 0x7fa046d08da0>,\n",
       " <jenga.evaluation.corruption_impact.ValidationResult at 0x7fa045eb60b8>,\n",
       " <jenga.evaluation.corruption_impact.ValidationResult at 0x7fa045eb6080>,\n",
       " <jenga.evaluation.corruption_impact.ValidationResult at 0x7fa045eb60f0>,\n",
       " <jenga.evaluation.corruption_impact.ValidationResult at 0x7fa045eb6160>,\n",
       " <jenga.evaluation.corruption_impact.ValidationResult at 0x7fa045eb61d0>,\n",
       " <jenga.evaluation.corruption_impact.ValidationResult at 0x7fa045eb6240>,\n",
       " <jenga.evaluation.corruption_impact.ValidationResult at 0x7fa045eb62b0>,\n",
       " <jenga.evaluation.corruption_impact.ValidationResult at 0x7fa045eb6320>,\n",
       " <jenga.evaluation.corruption_impact.ValidationResult at 0x7fa045eb6390>,\n",
       " <jenga.evaluation.corruption_impact.ValidationResult at 0x7fa045eb6400>,\n",
       " <jenga.evaluation.corruption_impact.ValidationResult at 0x7fa045eb6470>,\n",
       " <jenga.evaluation.corruption_impact.ValidationResult at 0x7fa045eb64e0>,\n",
       " <jenga.evaluation.corruption_impact.ValidationResult at 0x7fa045eb6550>,\n",
       " <jenga.evaluation.corruption_impact.ValidationResult at 0x7fa045eb65c0>,\n",
       " <jenga.evaluation.corruption_impact.ValidationResult at 0x7fa045eb6630>,\n",
       " <jenga.evaluation.corruption_impact.ValidationResult at 0x7fa045eb66a0>,\n",
       " <jenga.evaluation.corruption_impact.ValidationResult at 0x7fa045eb6710>,\n",
       " <jenga.evaluation.corruption_impact.ValidationResult at 0x7fa045eb6780>,\n",
       " <jenga.evaluation.corruption_impact.ValidationResult at 0x7fa045eb67f0>,\n",
       " <jenga.evaluation.corruption_impact.ValidationResult at 0x7fa045eb6860>,\n",
       " <jenga.evaluation.corruption_impact.ValidationResult at 0x7fa045eb68d0>,\n",
       " <jenga.evaluation.corruption_impact.ValidationResult at 0x7fa045eb6940>,\n",
       " <jenga.evaluation.corruption_impact.ValidationResult at 0x7fa045eb69b0>,\n",
       " <jenga.evaluation.corruption_impact.ValidationResult at 0x7fa045eb6a20>,\n",
       " <jenga.evaluation.corruption_impact.ValidationResult at 0x7fa045eb6a90>,\n",
       " <jenga.evaluation.corruption_impact.ValidationResult at 0x7fa045eb6b00>,\n",
       " <jenga.evaluation.corruption_impact.ValidationResult at 0x7fa045eb6b70>,\n",
       " <jenga.evaluation.corruption_impact.ValidationResult at 0x7fa045eb6be0>,\n",
       " <jenga.evaluation.corruption_impact.ValidationResult at 0x7fa045eb6c50>,\n",
       " <jenga.evaluation.corruption_impact.ValidationResult at 0x7fa045eb6cc0>,\n",
       " <jenga.evaluation.corruption_impact.ValidationResult at 0x7fa045eb6d30>,\n",
       " <jenga.evaluation.corruption_impact.ValidationResult at 0x7fa045eb6da0>,\n",
       " <jenga.evaluation.corruption_impact.ValidationResult at 0x7fa045eb6e10>,\n",
       " <jenga.evaluation.corruption_impact.ValidationResult at 0x7fa045eb6e80>,\n",
       " <jenga.evaluation.corruption_impact.ValidationResult at 0x7fa045eb6ef0>,\n",
       " <jenga.evaluation.corruption_impact.ValidationResult at 0x7fa045eb6f60>,\n",
       " <jenga.evaluation.corruption_impact.ValidationResult at 0x7fa045ec50b8>,\n",
       " <jenga.evaluation.corruption_impact.ValidationResult at 0x7fa045ec5080>,\n",
       " <jenga.evaluation.corruption_impact.ValidationResult at 0x7fa045ec50f0>,\n",
       " <jenga.evaluation.corruption_impact.ValidationResult at 0x7fa045ec5160>,\n",
       " <jenga.evaluation.corruption_impact.ValidationResult at 0x7fa045ec51d0>,\n",
       " <jenga.evaluation.corruption_impact.ValidationResult at 0x7fa045ec5240>,\n",
       " <jenga.evaluation.corruption_impact.ValidationResult at 0x7fa045ec52b0>,\n",
       " <jenga.evaluation.corruption_impact.ValidationResult at 0x7fa045ec5320>,\n",
       " <jenga.evaluation.corruption_impact.ValidationResult at 0x7fa045ec5390>,\n",
       " <jenga.evaluation.corruption_impact.ValidationResult at 0x7fa045ec5400>,\n",
       " <jenga.evaluation.corruption_impact.ValidationResult at 0x7fa045ec5470>,\n",
       " <jenga.evaluation.corruption_impact.ValidationResult at 0x7fa045ec54e0>,\n",
       " <jenga.evaluation.corruption_impact.ValidationResult at 0x7fa045ec5550>,\n",
       " <jenga.evaluation.corruption_impact.ValidationResult at 0x7fa045ec55c0>,\n",
       " <jenga.evaluation.corruption_impact.ValidationResult at 0x7fa045ec5630>,\n",
       " <jenga.evaluation.corruption_impact.ValidationResult at 0x7fa045ec56a0>,\n",
       " <jenga.evaluation.corruption_impact.ValidationResult at 0x7fa045ec5710>]"
      ]
     },
     "execution_count": 3,
     "metadata": {},
     "output_type": "execute_result"
    }
   ],
   "source": [
    "datawig_results"
   ]
  },
  {
   "cell_type": "code",
   "execution_count": null,
   "metadata": {},
   "outputs": [],
   "source": []
  }
 ],
 "metadata": {
  "kernelspec": {
   "display_name": "Python 3",
   "language": "python",
   "name": "python3"
  },
  "language_info": {
   "codemirror_mode": {
    "name": "ipython",
    "version": 3
   },
   "file_extension": ".py",
   "mimetype": "text/x-python",
   "name": "python",
   "nbconvert_exporter": "python",
   "pygments_lexer": "ipython3",
   "version": "3.6.10"
  }
 },
 "nbformat": 4,
 "nbformat_minor": 4
}
