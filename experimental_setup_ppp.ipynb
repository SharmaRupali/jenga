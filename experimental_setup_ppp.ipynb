{
 "cells": [
  {
   "cell_type": "code",
   "execution_count": null,
   "metadata": {
    "colab": {},
    "colab_type": "code",
    "executionInfo": {
     "elapsed": 808,
     "status": "ok",
     "timestamp": 1592830563826,
     "user": {
      "displayName": "Rupali Sharma",
      "photoUrl": "https://lh3.googleusercontent.com/a-/AOh14GiH6obBahOBk5ezQLBEEgw1DvKRo8haEZvXXnQ83ww=s64",
      "userId": "15074179419258593720"
     },
     "user_tz": -120
    },
    "id": "fayndmIqCkMZ"
   },
   "outputs": [],
   "source": [
    "# mount drive for access to the\n",
    "from google.colab import drive"
   ]
  },
  {
   "cell_type": "code",
   "execution_count": null,
   "metadata": {
    "colab": {
     "base_uri": "https://localhost:8080/",
     "height": 55
    },
    "colab_type": "code",
    "executionInfo": {
     "elapsed": 796,
     "status": "ok",
     "timestamp": 1592830567073,
     "user": {
      "displayName": "Rupali Sharma",
      "photoUrl": "https://lh3.googleusercontent.com/a-/AOh14GiH6obBahOBk5ezQLBEEgw1DvKRo8haEZvXXnQ83ww=s64",
      "userId": "15074179419258593720"
     },
     "user_tz": -120
    },
    "id": "Bh4QPZ6bCkPt",
    "outputId": "31ea80bd-76d4-44b1-e540-4a424d2e13f4"
   },
   "outputs": [],
   "source": [
    "drive.mount(\"/content/drive\")"
   ]
  },
  {
   "cell_type": "code",
   "execution_count": null,
   "metadata": {
    "colab": {
     "base_uri": "https://localhost:8080/",
     "height": 164
    },
    "colab_type": "code",
    "executionInfo": {
     "elapsed": 2585,
     "status": "ok",
     "timestamp": 1592830572927,
     "user": {
      "displayName": "Rupali Sharma",
      "photoUrl": "https://lh3.googleusercontent.com/a-/AOh14GiH6obBahOBk5ezQLBEEgw1DvKRo8haEZvXXnQ83ww=s64",
      "userId": "15074179419258593720"
     },
     "user_tz": -120
    },
    "id": "0oZ_L2NJCkTe",
    "outputId": "665ea7de-ac53-452a-e5a2-c968fcb6e92f"
   },
   "outputs": [],
   "source": [
    "# all the drive the files are present in \"/content/drive/My Drive\"\n",
    "!ls \"/content/drive/My Drive/Beuth Uni/Master Thesis\""
   ]
  },
  {
   "cell_type": "code",
   "execution_count": null,
   "metadata": {
    "colab": {},
    "colab_type": "code",
    "executionInfo": {
     "elapsed": 869,
     "status": "ok",
     "timestamp": 1592830577062,
     "user": {
      "displayName": "Rupali Sharma",
      "photoUrl": "https://lh3.googleusercontent.com/a-/AOh14GiH6obBahOBk5ezQLBEEgw1DvKRo8haEZvXXnQ83ww=s64",
      "userId": "15074179419258593720"
     },
     "user_tz": -120
    },
    "id": "ID30XczQEkox"
   },
   "outputs": [],
   "source": [
    "import sys\n",
    "sys.path.append('/content/drive/My Drive/Beuth Uni/Master Thesis/jenga')"
   ]
  },
  {
   "cell_type": "code",
   "execution_count": null,
   "metadata": {
    "colab": {},
    "colab_type": "code",
    "executionInfo": {
     "elapsed": 766,
     "status": "ok",
     "timestamp": 1592830580655,
     "user": {
      "displayName": "Rupali Sharma",
      "photoUrl": "https://lh3.googleusercontent.com/a-/AOh14GiH6obBahOBk5ezQLBEEgw1DvKRo8haEZvXXnQ83ww=s64",
      "userId": "15074179419258593720"
     },
     "user_tz": -120
    },
    "id": "VvXeW2mGFVhH"
   },
   "outputs": [],
   "source": [
    "#! pip install openml"
   ]
  },
  {
   "cell_type": "code",
   "execution_count": null,
   "metadata": {
    "colab": {},
    "colab_type": "code",
    "executionInfo": {
     "elapsed": 2948,
     "status": "ok",
     "timestamp": 1592830586429,
     "user": {
      "displayName": "Rupali Sharma",
      "photoUrl": "https://lh3.googleusercontent.com/a-/AOh14GiH6obBahOBk5ezQLBEEgw1DvKRo8haEZvXXnQ83ww=s64",
      "userId": "15074179419258593720"
     },
     "user_tz": -120
    },
    "id": "IblH8cPLCV6S"
   },
   "outputs": [],
   "source": [
    "from sklearn.linear_model import SGDClassifier\n",
    "\n",
    "from sklearn.pipeline import Pipeline\n",
    "from sklearn.impute import SimpleImputer\n",
    "from sklearn.preprocessing import OneHotEncoder, StandardScaler\n",
    "from sklearn.compose import ColumnTransformer\n",
    "\n",
    "from jenga.basis import Dataset\n",
    "from jenga.cleaning.ppp import PipelinePerformancePrediction"
   ]
  },
  {
   "cell_type": "code",
   "execution_count": null,
   "metadata": {
    "colab": {},
    "colab_type": "code",
    "executionInfo": {
     "elapsed": 1009,
     "status": "ok",
     "timestamp": 1592830592989,
     "user": {
      "displayName": "Rupali Sharma",
      "photoUrl": "https://lh3.googleusercontent.com/a-/AOh14GiH6obBahOBk5ezQLBEEgw1DvKRo8haEZvXXnQ83ww=s64",
      "userId": "15074179419258593720"
     },
     "user_tz": -120
    },
    "id": "APaY2B3SCV6f"
   },
   "outputs": [],
   "source": [
    "seed = 10"
   ]
  },
  {
   "cell_type": "code",
   "execution_count": null,
   "metadata": {
    "colab": {
     "base_uri": "https://localhost:8080/",
     "height": 1000
    },
    "colab_type": "code",
    "executionInfo": {
     "elapsed": 5450,
     "status": "ok",
     "timestamp": 1592830600491,
     "user": {
      "displayName": "Rupali Sharma",
      "photoUrl": "https://lh3.googleusercontent.com/a-/AOh14GiH6obBahOBk5ezQLBEEgw1DvKRo8haEZvXXnQ83ww=s64",
      "userId": "15074179419258593720"
     },
     "user_tz": -120
    },
    "id": "BtNsxk-VCV6p",
    "outputId": "4483b690-17fc-4038-e287-e34aa2cfb710",
    "scrolled": true
   },
   "outputs": [],
   "source": [
    "dataset = Dataset(seed, \"credit-g\")"
   ]
  },
  {
   "cell_type": "code",
   "execution_count": null,
   "metadata": {
    "colab": {
     "base_uri": "https://localhost:8080/",
     "height": 565
    },
    "colab_type": "code",
    "executionInfo": {
     "elapsed": 824,
     "status": "ok",
     "timestamp": 1592830630142,
     "user": {
      "displayName": "Rupali Sharma",
      "photoUrl": "https://lh3.googleusercontent.com/a-/AOh14GiH6obBahOBk5ezQLBEEgw1DvKRo8haEZvXXnQ83ww=s64",
      "userId": "15074179419258593720"
     },
     "user_tz": -120
    },
    "id": "pVkR3KEYCV60",
    "outputId": "50d99abc-6537-4f63-de03-1d844f90a53c"
   },
   "outputs": [],
   "source": [
    "all_data = dataset.all_data\n",
    "all_data"
   ]
  },
  {
   "cell_type": "code",
   "execution_count": null,
   "metadata": {
    "colab": {
     "base_uri": "https://localhost:8080/",
     "height": 384
    },
    "colab_type": "code",
    "executionInfo": {
     "elapsed": 774,
     "status": "ok",
     "timestamp": 1592830633836,
     "user": {
      "displayName": "Rupali Sharma",
      "photoUrl": "https://lh3.googleusercontent.com/a-/AOh14GiH6obBahOBk5ezQLBEEgw1DvKRo8haEZvXXnQ83ww=s64",
      "userId": "15074179419258593720"
     },
     "user_tz": -120
    },
    "id": "7GbmV9p5CV67",
    "outputId": "6f60fad0-8f52-4524-873c-891684df2876"
   },
   "outputs": [],
   "source": [
    "attribute_names = dataset.attribute_names\n",
    "attribute_names"
   ]
  },
  {
   "cell_type": "code",
   "execution_count": null,
   "metadata": {
    "colab": {
     "base_uri": "https://localhost:8080/",
     "height": 677
    },
    "colab_type": "code",
    "executionInfo": {
     "elapsed": 724,
     "status": "ok",
     "timestamp": 1592830636913,
     "user": {
      "displayName": "Rupali Sharma",
      "photoUrl": "https://lh3.googleusercontent.com/a-/AOh14GiH6obBahOBk5ezQLBEEgw1DvKRo8haEZvXXnQ83ww=s64",
      "userId": "15074179419258593720"
     },
     "user_tz": -120
    },
    "id": "FHhLilUVCV7E",
    "outputId": "88c27b49-0c5a-4381-a437-fed8746e22c5"
   },
   "outputs": [],
   "source": [
    "attribute_types = dataset.attribute_types\n",
    "attribute_types"
   ]
  },
  {
   "cell_type": "code",
   "execution_count": null,
   "metadata": {
    "colab": {
     "base_uri": "https://localhost:8080/",
     "height": 256
    },
    "colab_type": "code",
    "executionInfo": {
     "elapsed": 779,
     "status": "ok",
     "timestamp": 1592830640333,
     "user": {
      "displayName": "Rupali Sharma",
      "photoUrl": "https://lh3.googleusercontent.com/a-/AOh14GiH6obBahOBk5ezQLBEEgw1DvKRo8haEZvXXnQ83ww=s64",
      "userId": "15074179419258593720"
     },
     "user_tz": -120
    },
    "id": "kjegVmknCV7M",
    "outputId": "f988f8cf-e129-4f27-f605-08bec05634a7"
   },
   "outputs": [],
   "source": [
    "categorical_columns = dataset.categorical_columns\n",
    "categorical_columns"
   ]
  },
  {
   "cell_type": "code",
   "execution_count": null,
   "metadata": {
    "colab": {
     "base_uri": "https://localhost:8080/",
     "height": 146
    },
    "colab_type": "code",
    "executionInfo": {
     "elapsed": 831,
     "status": "ok",
     "timestamp": 1592830643042,
     "user": {
      "displayName": "Rupali Sharma",
      "photoUrl": "https://lh3.googleusercontent.com/a-/AOh14GiH6obBahOBk5ezQLBEEgw1DvKRo8haEZvXXnQ83ww=s64",
      "userId": "15074179419258593720"
     },
     "user_tz": -120
    },
    "id": "L-9EEsq9CV7R",
    "outputId": "76f26450-2d39-40e1-e95d-a3330f2a61ec"
   },
   "outputs": [],
   "source": [
    "numerical_columns = dataset.numerical_columns\n",
    "numerical_columns"
   ]
  },
  {
   "cell_type": "code",
   "execution_count": null,
   "metadata": {},
   "outputs": [],
   "source": [
    "print(f\"Found {len(categorical_columns)} categorical and {len(numerical_columns)} numeric features\")"
   ]
  },
  {
   "cell_type": "code",
   "execution_count": null,
   "metadata": {
    "colab": {},
    "colab_type": "code",
    "executionInfo": {
     "elapsed": 799,
     "status": "ok",
     "timestamp": 1592830646996,
     "user": {
      "displayName": "Rupali Sharma",
      "photoUrl": "https://lh3.googleusercontent.com/a-/AOh14GiH6obBahOBk5ezQLBEEgw1DvKRo8haEZvXXnQ83ww=s64",
      "userId": "15074179419258593720"
     },
     "user_tz": -120
    },
    "id": "FYYLCTGyCV7W"
   },
   "outputs": [],
   "source": [
    "## model parameters\n",
    "learner = SGDClassifier(max_iter=1000)\n",
    "param_grid = {\n",
    "    'learner__loss': ['log'],\n",
    "    'learner__penalty': ['l2', 'l1', 'elasticnet'],\n",
    "    'learner__alpha': [0.0001, 0.001, 0.01, 0.1]\n",
    "}"
   ]
  },
  {
   "cell_type": "code",
   "execution_count": null,
   "metadata": {
    "colab": {},
    "colab_type": "code",
    "executionInfo": {
     "elapsed": 11658,
     "status": "ok",
     "timestamp": 1592830661421,
     "user": {
      "displayName": "Rupali Sharma",
      "photoUrl": "https://lh3.googleusercontent.com/a-/AOh14GiH6obBahOBk5ezQLBEEgw1DvKRo8haEZvXXnQ83ww=s64",
      "userId": "15074179419258593720"
     },
     "user_tz": -120
    },
    "id": "nyx6rBXrCV7c"
   },
   "outputs": [],
   "source": [
    "## preprocessing pipeline for both numerical and categorical columns\n",
    "\n",
    "# preprocessing pipeline for numerical columns\n",
    "transformer_numeric = Pipeline([\n",
    "    ('imputer', SimpleImputer(strategy='constant', fill_value=0)),\n",
    "    ('standard_scale', StandardScaler())\n",
    "])\n",
    "\n",
    "# preprocessing pipeline for categorical columns\n",
    "transformer_categorical = Pipeline([\n",
    "    ('imputer', SimpleImputer(strategy='constant', fill_value='__NA__')),\n",
    "    ('one_hot_encode', OneHotEncoder(handle_unknown='ignore'))\n",
    "])\n",
    "\n",
    "# preprocessor\n",
    "feature_transform = ColumnTransformer(transformers=[\n",
    "    ('categorical_features', transformer_categorical, categorical_columns),\n",
    "    ('numerical_features', transformer_numeric, numerical_columns)\n",
    "])"
   ]
  },
  {
   "cell_type": "code",
   "execution_count": null,
   "metadata": {
    "colab": {},
    "colab_type": "code",
    "id": "1P9v2kQ-CV7j"
   },
   "outputs": [],
   "source": [
    "## prediction pipeline: append classifier (learner) to the preprocessing pipeline\n",
    "pipeline = Pipeline([\n",
    "    ('features', feature_transform),\n",
    "    ('learner', learner)\n",
    "])"
   ]
  },
  {
   "cell_type": "code",
   "execution_count": null,
   "metadata": {
    "colab": {
     "base_uri": "https://localhost:8080/",
     "height": 539
    },
    "colab_type": "code",
    "executionInfo": {
     "elapsed": 907,
     "status": "ok",
     "timestamp": 1592830669345,
     "user": {
      "displayName": "Rupali Sharma",
      "photoUrl": "https://lh3.googleusercontent.com/a-/AOh14GiH6obBahOBk5ezQLBEEgw1DvKRo8haEZvXXnQ83ww=s64",
      "userId": "15074179419258593720"
     },
     "user_tz": -120
    },
    "id": "CxobsHwrCV8E",
    "outputId": "c1f51dbd-4158-40c5-b786-ff631443138c",
    "scrolled": true
   },
   "outputs": [],
   "source": [
    "train_data, train_labels, test_data, test_labels = dataset.get_train_test_data()\n",
    "\n",
    "display(train_data.head())\n",
    "print(train_labels[0:5])\n",
    "\n",
    "display(test_data.head())\n",
    "print(test_labels[0:5])"
   ]
  },
  {
   "cell_type": "code",
   "execution_count": null,
   "metadata": {
    "colab": {},
    "colab_type": "code",
    "id": "G-uhWRfTCV7p"
   },
   "outputs": [],
   "source": [
    "ppp = PipelinePerformancePrediction(seed, train_data, train_labels, test_data, test_labels, categorical_columns, numerical_columns, learner, param_grid)"
   ]
  },
  {
   "cell_type": "code",
   "execution_count": null,
   "metadata": {},
   "outputs": [],
   "source": [
    "ppp_model = ppp.fit_ppp(train_data)"
   ]
  },
  {
   "cell_type": "code",
   "execution_count": null,
   "metadata": {},
   "outputs": [],
   "source": [
    "score_no_cleaning = ppp.predict_score_ppp(ppp_model, test_data)\n",
    "score_no_cleaning"
   ]
  },
  {
   "cell_type": "code",
   "execution_count": null,
   "metadata": {
    "colab": {},
    "colab_type": "code",
    "id": "E6sEs3ALCV7w"
   },
   "outputs": [],
   "source": [
    "# generate corrpted test data\n",
    "test_data_corrupted, perturbations, cols_perturbed = ppp.get_corrupted(test_data)"
   ]
  },
  {
   "cell_type": "code",
   "execution_count": null,
   "metadata": {
    "colab": {},
    "colab_type": "code",
    "id": "rlepmZckCV73"
   },
   "outputs": [],
   "source": [
    "## clean"
   ]
  },
  {
   "cell_type": "code",
   "execution_count": null,
   "metadata": {},
   "outputs": [],
   "source": []
  },
  {
   "cell_type": "code",
   "execution_count": null,
   "metadata": {},
   "outputs": [],
   "source": []
  },
  {
   "cell_type": "code",
   "execution_count": null,
   "metadata": {},
   "outputs": [],
   "source": []
  },
  {
   "cell_type": "code",
   "execution_count": null,
   "metadata": {},
   "outputs": [],
   "source": []
  },
  {
   "cell_type": "code",
   "execution_count": null,
   "metadata": {},
   "outputs": [],
   "source": []
  },
  {
   "cell_type": "code",
   "execution_count": null,
   "metadata": {
    "colab": {},
    "colab_type": "code",
    "executionInfo": {
     "elapsed": 850,
     "status": "ok",
     "timestamp": 1592830665644,
     "user": {
      "displayName": "Rupali Sharma",
      "photoUrl": "https://lh3.googleusercontent.com/a-/AOh14GiH6obBahOBk5ezQLBEEgw1DvKRo8haEZvXXnQ83ww=s64",
      "userId": "15074179419258593720"
     },
     "user_tz": -120
    },
    "id": "njBIKqc-CV78",
    "scrolled": true
   },
   "outputs": [],
   "source": [
    "# test without given pipeline\n",
    "ppp = PipelinePerformancePrediction(seed, train_data, train_labels, test_data, test_labels, categorical_columns, numerical_columns, learner, param_grid)"
   ]
  },
  {
   "cell_type": "code",
   "execution_count": null,
   "metadata": {
    "colab": {
     "base_uri": "https://localhost:8080/",
     "height": 476
    },
    "colab_type": "code",
    "executionInfo": {
     "elapsed": 971,
     "status": "ok",
     "timestamp": 1592830674055,
     "user": {
      "displayName": "Rupali Sharma",
      "photoUrl": "https://lh3.googleusercontent.com/a-/AOh14GiH6obBahOBk5ezQLBEEgw1DvKRo8haEZvXXnQ83ww=s64",
      "userId": "15074179419258593720"
     },
     "user_tz": -120
    },
    "id": "2bPgGe9pCV8J",
    "outputId": "695e0b9c-bff5-4cf5-e500-7171578f9bd5",
    "scrolled": true
   },
   "outputs": [],
   "source": [
    "pipeline = ppp.pipeline\n",
    "pipeline"
   ]
  },
  {
   "cell_type": "code",
   "execution_count": null,
   "metadata": {
    "colab": {
     "base_uri": "https://localhost:8080/",
     "height": 72
    },
    "colab_type": "code",
    "executionInfo": {
     "elapsed": 4751,
     "status": "ok",
     "timestamp": 1592830681970,
     "user": {
      "displayName": "Rupali Sharma",
      "photoUrl": "https://lh3.googleusercontent.com/a-/AOh14GiH6obBahOBk5ezQLBEEgw1DvKRo8haEZvXXnQ83ww=s64",
      "userId": "15074179419258593720"
     },
     "user_tz": -120
    },
    "id": "nNXNd07QCV8M",
    "outputId": "0a24cd7d-bae7-4af2-a0d2-05c32ea34aea"
   },
   "outputs": [],
   "source": [
    "# model trained on original train data\n",
    "model_orig = ppp.fit_ppp(train_data)"
   ]
  },
  {
   "cell_type": "code",
   "execution_count": null,
   "metadata": {
    "colab": {
     "base_uri": "https://localhost:8080/",
     "height": 166
    },
    "colab_type": "code",
    "executionInfo": {
     "elapsed": 874,
     "status": "ok",
     "timestamp": 1592830686167,
     "user": {
      "displayName": "Rupali Sharma",
      "photoUrl": "https://lh3.googleusercontent.com/a-/AOh14GiH6obBahOBk5ezQLBEEgw1DvKRo8haEZvXXnQ83ww=s64",
      "userId": "15074179419258593720"
     },
     "user_tz": -120
    },
    "id": "Xz66D9GQCV8R",
    "outputId": "ed746925-e76c-4ed5-c1d6-1cfca556b636"
   },
   "outputs": [],
   "source": [
    "# generate corrpted test data\n",
    "test_data_corrupted, perturbations, cols_perturbed = ppp.get_corrupted(test_data)"
   ]
  },
  {
   "cell_type": "code",
   "execution_count": null,
   "metadata": {
    "colab": {
     "base_uri": "https://localhost:8080/",
     "height": 35
    },
    "colab_type": "code",
    "executionInfo": {
     "elapsed": 776,
     "status": "ok",
     "timestamp": 1592830693030,
     "user": {
      "displayName": "Rupali Sharma",
      "photoUrl": "https://lh3.googleusercontent.com/a-/AOh14GiH6obBahOBk5ezQLBEEgw1DvKRo8haEZvXXnQ83ww=s64",
      "userId": "15074179419258593720"
     },
     "user_tz": -120
    },
    "id": "l9JP88GTCV8W",
    "outputId": "7cd92762-ca57-41bf-8bc7-c5a6962ef73a"
   },
   "outputs": [],
   "source": [
    "# score on original test data\n",
    "ppp.predict_score_ppp(model_orig, test_data)"
   ]
  },
  {
   "cell_type": "code",
   "execution_count": null,
   "metadata": {
    "colab": {
     "base_uri": "https://localhost:8080/",
     "height": 35
    },
    "colab_type": "code",
    "executionInfo": {
     "elapsed": 929,
     "status": "ok",
     "timestamp": 1592830696511,
     "user": {
      "displayName": "Rupali Sharma",
      "photoUrl": "https://lh3.googleusercontent.com/a-/AOh14GiH6obBahOBk5ezQLBEEgw1DvKRo8haEZvXXnQ83ww=s64",
      "userId": "15074179419258593720"
     },
     "user_tz": -120
    },
    "id": "TYTVMupkCV8a",
    "outputId": "86c36ae7-f6dc-4904-a6fa-ff85afc0adb4"
   },
   "outputs": [],
   "source": [
    "# score on corrupted test data\n",
    "ppp.predict_score_ppp(model_orig, test_data_corrupted)"
   ]
  },
  {
   "cell_type": "code",
   "execution_count": null,
   "metadata": {
    "colab": {},
    "colab_type": "code",
    "id": "S0Gcd40dCV8l"
   },
   "outputs": [],
   "source": []
  },
  {
   "cell_type": "code",
   "execution_count": null,
   "metadata": {
    "colab": {},
    "colab_type": "code",
    "id": "OhuZDAPRCV8q"
   },
   "outputs": [],
   "source": []
  },
  {
   "cell_type": "code",
   "execution_count": null,
   "metadata": {
    "colab": {},
    "colab_type": "code",
    "id": "w2Kjm1P_CV8t"
   },
   "outputs": [],
   "source": []
  },
  {
   "cell_type": "code",
   "execution_count": null,
   "metadata": {
    "colab": {},
    "colab_type": "code",
    "id": "WBD5cArBCV80"
   },
   "outputs": [],
   "source": []
  }
 ],
 "metadata": {
  "colab": {
   "collapsed_sections": [],
   "name": "experimental_setup_ppp.ipynb",
   "provenance": []
  },
  "kernelspec": {
   "display_name": "Python 3",
   "language": "python",
   "name": "python3"
  },
  "language_info": {
   "codemirror_mode": {
    "name": "ipython",
    "version": 3
   },
   "file_extension": ".py",
   "mimetype": "text/x-python",
   "name": "python",
   "nbconvert_exporter": "python",
   "pygments_lexer": "ipython3",
   "version": "3.6.8"
  }
 },
 "nbformat": 4,
 "nbformat_minor": 1
}
