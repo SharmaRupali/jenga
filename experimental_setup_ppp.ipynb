{
 "cells": [
  {
   "cell_type": "markdown",
   "metadata": {},
   "source": [
    "## Adjustment for Google Colab"
   ]
  },
  {
   "cell_type": "code",
   "execution_count": null,
   "metadata": {
    "colab": {},
    "colab_type": "code",
    "executionInfo": {
     "elapsed": 808,
     "status": "ok",
     "timestamp": 1592830563826,
     "user": {
      "displayName": "Rupali Sharma",
      "photoUrl": "https://lh3.googleusercontent.com/a-/AOh14GiH6obBahOBk5ezQLBEEgw1DvKRo8haEZvXXnQ83ww=s64",
      "userId": "15074179419258593720"
     },
     "user_tz": -120
    },
    "id": "fayndmIqCkMZ"
   },
   "outputs": [],
   "source": [
    "# mount drive for access to the\n",
    "from google.colab import drive"
   ]
  },
  {
   "cell_type": "code",
   "execution_count": null,
   "metadata": {
    "colab": {
     "base_uri": "https://localhost:8080/",
     "height": 55
    },
    "colab_type": "code",
    "executionInfo": {
     "elapsed": 796,
     "status": "ok",
     "timestamp": 1592830567073,
     "user": {
      "displayName": "Rupali Sharma",
      "photoUrl": "https://lh3.googleusercontent.com/a-/AOh14GiH6obBahOBk5ezQLBEEgw1DvKRo8haEZvXXnQ83ww=s64",
      "userId": "15074179419258593720"
     },
     "user_tz": -120
    },
    "id": "Bh4QPZ6bCkPt",
    "outputId": "31ea80bd-76d4-44b1-e540-4a424d2e13f4"
   },
   "outputs": [],
   "source": [
    "drive.mount(\"/content/drive\")"
   ]
  },
  {
   "cell_type": "code",
   "execution_count": null,
   "metadata": {
    "colab": {
     "base_uri": "https://localhost:8080/",
     "height": 164
    },
    "colab_type": "code",
    "executionInfo": {
     "elapsed": 2585,
     "status": "ok",
     "timestamp": 1592830572927,
     "user": {
      "displayName": "Rupali Sharma",
      "photoUrl": "https://lh3.googleusercontent.com/a-/AOh14GiH6obBahOBk5ezQLBEEgw1DvKRo8haEZvXXnQ83ww=s64",
      "userId": "15074179419258593720"
     },
     "user_tz": -120
    },
    "id": "0oZ_L2NJCkTe",
    "outputId": "665ea7de-ac53-452a-e5a2-c968fcb6e92f"
   },
   "outputs": [],
   "source": [
    "# all the drive the files are present in \"/content/drive/My Drive\"\n",
    "!ls \"/content/drive/My Drive/Beuth Uni/Master Thesis\""
   ]
  },
  {
   "cell_type": "code",
   "execution_count": null,
   "metadata": {
    "colab": {},
    "colab_type": "code",
    "executionInfo": {
     "elapsed": 869,
     "status": "ok",
     "timestamp": 1592830577062,
     "user": {
      "displayName": "Rupali Sharma",
      "photoUrl": "https://lh3.googleusercontent.com/a-/AOh14GiH6obBahOBk5ezQLBEEgw1DvKRo8haEZvXXnQ83ww=s64",
      "userId": "15074179419258593720"
     },
     "user_tz": -120
    },
    "id": "ID30XczQEkox"
   },
   "outputs": [],
   "source": [
    "import sys\n",
    "sys.path.append('/content/drive/My Drive/Beuth Uni/Master Thesis/jenga')"
   ]
  },
  {
   "cell_type": "code",
   "execution_count": null,
   "metadata": {
    "colab": {},
    "colab_type": "code",
    "executionInfo": {
     "elapsed": 766,
     "status": "ok",
     "timestamp": 1592830580655,
     "user": {
      "displayName": "Rupali Sharma",
      "photoUrl": "https://lh3.googleusercontent.com/a-/AOh14GiH6obBahOBk5ezQLBEEgw1DvKRo8haEZvXXnQ83ww=s64",
      "userId": "15074179419258593720"
     },
     "user_tz": -120
    },
    "id": "VvXeW2mGFVhH"
   },
   "outputs": [],
   "source": [
    "#! pip install openml"
   ]
  },
  {
   "cell_type": "code",
   "execution_count": null,
   "metadata": {},
   "outputs": [],
   "source": []
  },
  {
   "cell_type": "code",
   "execution_count": 1,
   "metadata": {
    "colab": {},
    "colab_type": "code",
    "executionInfo": {
     "elapsed": 2948,
     "status": "ok",
     "timestamp": 1592830586429,
     "user": {
      "displayName": "Rupali Sharma",
      "photoUrl": "https://lh3.googleusercontent.com/a-/AOh14GiH6obBahOBk5ezQLBEEgw1DvKRo8haEZvXXnQ83ww=s64",
      "userId": "15074179419258593720"
     },
     "user_tz": -120
    },
    "id": "IblH8cPLCV6S"
   },
   "outputs": [],
   "source": [
    "import numpy as np\n",
    "from sklearn.linear_model import SGDClassifier\n",
    "\n",
    "from sklearn.pipeline import Pipeline\n",
    "from sklearn.impute import SimpleImputer\n",
    "from sklearn.preprocessing import OneHotEncoder, StandardScaler\n",
    "from sklearn.compose import ColumnTransformer\n",
    "\n",
    "from jenga.basis import Dataset\n",
    "from jenga.corruptions.generic import MissingValues, SwappedValues\n",
    "from jenga.corruptions.numerical import Scaling, GaussianNoise\n",
    "from jenga.cleaning.ppp import PipelinePerformancePrediction\n",
    "from jenga.cleaning.outlier_detection import NoOutlierDetection, PyODKNN, PyODIsolationForest\n",
    "from jenga.cleaning.imputation import NoImputation, MeanModeImputation, DatawigImputation\n",
    "from jenga.cleaning.clean import Clean"
   ]
  },
  {
   "cell_type": "code",
   "execution_count": 2,
   "metadata": {
    "colab": {},
    "colab_type": "code",
    "executionInfo": {
     "elapsed": 1009,
     "status": "ok",
     "timestamp": 1592830592989,
     "user": {
      "displayName": "Rupali Sharma",
      "photoUrl": "https://lh3.googleusercontent.com/a-/AOh14GiH6obBahOBk5ezQLBEEgw1DvKRo8haEZvXXnQ83ww=s64",
      "userId": "15074179419258593720"
     },
     "user_tz": -120
    },
    "id": "APaY2B3SCV6f"
   },
   "outputs": [],
   "source": [
    "seed = 10"
   ]
  },
  {
   "cell_type": "markdown",
   "metadata": {},
   "source": [
    "## Dataset"
   ]
  },
  {
   "cell_type": "code",
   "execution_count": 3,
   "metadata": {
    "colab": {
     "base_uri": "https://localhost:8080/",
     "height": 1000
    },
    "colab_type": "code",
    "executionInfo": {
     "elapsed": 5450,
     "status": "ok",
     "timestamp": 1592830600491,
     "user": {
      "displayName": "Rupali Sharma",
      "photoUrl": "https://lh3.googleusercontent.com/a-/AOh14GiH6obBahOBk5ezQLBEEgw1DvKRo8haEZvXXnQ83ww=s64",
      "userId": "15074179419258593720"
     },
     "user_tz": -120
    },
    "id": "BtNsxk-VCV6p",
    "outputId": "4483b690-17fc-4038-e287-e34aa2cfb710",
    "scrolled": true
   },
   "outputs": [
    {
     "name": "stdout",
     "output_type": "stream",
     "text": [
      "Dataset 'credit-g', target: 'class'\n",
      "**Author**: Dr. Hans Hofmann  \n",
      "\n",
      "**Source**: [UCI](https://archive.ics.uci.edu/ml/datasets/statlog+(german+credit+data)) - 1994    \n",
      "\n",
      "**Please cite**: [UCI](https://archive.ics.uci.edu/ml/citation_policy.html)\n",
      "\n",
      "\n",
      "\n",
      "**German Credit data**  \n",
      "\n",
      "This dataset classifies people described by a set of attributes as good or bad credit risks.\n",
      "\n",
      "\n",
      "\n",
      "This dataset comes with a cost matrix: \n",
      "\n",
      "``` \n",
      "\n",
      "      Good  Bad (predicted)  \n",
      "\n",
      "Good   0    1   (actual)  \n",
      "\n",
      "Bad    5    0  \n",
      "\n",
      "```\n",
      "\n",
      "\n",
      "\n",
      "It is worse to class a customer as go\n",
      "\n",
      "Attribute types: \n"
     ]
    },
    {
     "data": {
      "text/html": [
       "<div>\n",
       "<style scoped>\n",
       "    .dataframe tbody tr th:only-of-type {\n",
       "        vertical-align: middle;\n",
       "    }\n",
       "\n",
       "    .dataframe tbody tr th {\n",
       "        vertical-align: top;\n",
       "    }\n",
       "\n",
       "    .dataframe thead th {\n",
       "        text-align: right;\n",
       "    }\n",
       "</style>\n",
       "<table border=\"1\" class=\"dataframe\">\n",
       "  <thead>\n",
       "    <tr style=\"text-align: right;\">\n",
       "      <th></th>\n",
       "      <th>attribute_names</th>\n",
       "      <th>categorical_indicator</th>\n",
       "    </tr>\n",
       "  </thead>\n",
       "  <tbody>\n",
       "    <tr>\n",
       "      <th>0</th>\n",
       "      <td>checking_status</td>\n",
       "      <td>True</td>\n",
       "    </tr>\n",
       "    <tr>\n",
       "      <th>1</th>\n",
       "      <td>duration</td>\n",
       "      <td>False</td>\n",
       "    </tr>\n",
       "    <tr>\n",
       "      <th>2</th>\n",
       "      <td>credit_history</td>\n",
       "      <td>True</td>\n",
       "    </tr>\n",
       "    <tr>\n",
       "      <th>3</th>\n",
       "      <td>purpose</td>\n",
       "      <td>True</td>\n",
       "    </tr>\n",
       "    <tr>\n",
       "      <th>4</th>\n",
       "      <td>credit_amount</td>\n",
       "      <td>False</td>\n",
       "    </tr>\n",
       "    <tr>\n",
       "      <th>5</th>\n",
       "      <td>savings_status</td>\n",
       "      <td>True</td>\n",
       "    </tr>\n",
       "    <tr>\n",
       "      <th>6</th>\n",
       "      <td>employment</td>\n",
       "      <td>True</td>\n",
       "    </tr>\n",
       "    <tr>\n",
       "      <th>7</th>\n",
       "      <td>installment_commitment</td>\n",
       "      <td>False</td>\n",
       "    </tr>\n",
       "    <tr>\n",
       "      <th>8</th>\n",
       "      <td>personal_status</td>\n",
       "      <td>True</td>\n",
       "    </tr>\n",
       "    <tr>\n",
       "      <th>9</th>\n",
       "      <td>other_parties</td>\n",
       "      <td>True</td>\n",
       "    </tr>\n",
       "    <tr>\n",
       "      <th>10</th>\n",
       "      <td>residence_since</td>\n",
       "      <td>False</td>\n",
       "    </tr>\n",
       "    <tr>\n",
       "      <th>11</th>\n",
       "      <td>property_magnitude</td>\n",
       "      <td>True</td>\n",
       "    </tr>\n",
       "    <tr>\n",
       "      <th>12</th>\n",
       "      <td>age</td>\n",
       "      <td>False</td>\n",
       "    </tr>\n",
       "    <tr>\n",
       "      <th>13</th>\n",
       "      <td>other_payment_plans</td>\n",
       "      <td>True</td>\n",
       "    </tr>\n",
       "    <tr>\n",
       "      <th>14</th>\n",
       "      <td>housing</td>\n",
       "      <td>True</td>\n",
       "    </tr>\n",
       "    <tr>\n",
       "      <th>15</th>\n",
       "      <td>existing_credits</td>\n",
       "      <td>False</td>\n",
       "    </tr>\n",
       "    <tr>\n",
       "      <th>16</th>\n",
       "      <td>job</td>\n",
       "      <td>True</td>\n",
       "    </tr>\n",
       "    <tr>\n",
       "      <th>17</th>\n",
       "      <td>num_dependents</td>\n",
       "      <td>False</td>\n",
       "    </tr>\n",
       "    <tr>\n",
       "      <th>18</th>\n",
       "      <td>own_telephone</td>\n",
       "      <td>True</td>\n",
       "    </tr>\n",
       "    <tr>\n",
       "      <th>19</th>\n",
       "      <td>foreign_worker</td>\n",
       "      <td>True</td>\n",
       "    </tr>\n",
       "  </tbody>\n",
       "</table>\n",
       "</div>"
      ],
      "text/plain": [
       "           attribute_names  categorical_indicator\n",
       "0          checking_status                   True\n",
       "1                 duration                  False\n",
       "2           credit_history                   True\n",
       "3                  purpose                   True\n",
       "4            credit_amount                  False\n",
       "5           savings_status                   True\n",
       "6               employment                   True\n",
       "7   installment_commitment                  False\n",
       "8          personal_status                   True\n",
       "9            other_parties                   True\n",
       "10         residence_since                  False\n",
       "11      property_magnitude                   True\n",
       "12                     age                  False\n",
       "13     other_payment_plans                   True\n",
       "14                 housing                   True\n",
       "15        existing_credits                  False\n",
       "16                     job                   True\n",
       "17          num_dependents                  False\n",
       "18           own_telephone                   True\n",
       "19          foreign_worker                   True"
      ]
     },
     "metadata": {},
     "output_type": "display_data"
    }
   ],
   "source": [
    "dataset = Dataset(seed, \"credit-g\")"
   ]
  },
  {
   "cell_type": "code",
   "execution_count": 4,
   "metadata": {
    "colab": {
     "base_uri": "https://localhost:8080/",
     "height": 565
    },
    "colab_type": "code",
    "executionInfo": {
     "elapsed": 824,
     "status": "ok",
     "timestamp": 1592830630142,
     "user": {
      "displayName": "Rupali Sharma",
      "photoUrl": "https://lh3.googleusercontent.com/a-/AOh14GiH6obBahOBk5ezQLBEEgw1DvKRo8haEZvXXnQ83ww=s64",
      "userId": "15074179419258593720"
     },
     "user_tz": -120
    },
    "id": "pVkR3KEYCV60",
    "outputId": "50d99abc-6537-4f63-de03-1d844f90a53c",
    "scrolled": true
   },
   "outputs": [],
   "source": [
    "all_data = dataset.all_data\n",
    "# all_data"
   ]
  },
  {
   "cell_type": "code",
   "execution_count": 5,
   "metadata": {
    "colab": {
     "base_uri": "https://localhost:8080/",
     "height": 384
    },
    "colab_type": "code",
    "executionInfo": {
     "elapsed": 774,
     "status": "ok",
     "timestamp": 1592830633836,
     "user": {
      "displayName": "Rupali Sharma",
      "photoUrl": "https://lh3.googleusercontent.com/a-/AOh14GiH6obBahOBk5ezQLBEEgw1DvKRo8haEZvXXnQ83ww=s64",
      "userId": "15074179419258593720"
     },
     "user_tz": -120
    },
    "id": "7GbmV9p5CV67",
    "outputId": "6f60fad0-8f52-4524-873c-891684df2876",
    "scrolled": true
   },
   "outputs": [],
   "source": [
    "attribute_names = dataset.attribute_names\n",
    "# attribute_names"
   ]
  },
  {
   "cell_type": "code",
   "execution_count": 6,
   "metadata": {
    "colab": {
     "base_uri": "https://localhost:8080/",
     "height": 677
    },
    "colab_type": "code",
    "executionInfo": {
     "elapsed": 724,
     "status": "ok",
     "timestamp": 1592830636913,
     "user": {
      "displayName": "Rupali Sharma",
      "photoUrl": "https://lh3.googleusercontent.com/a-/AOh14GiH6obBahOBk5ezQLBEEgw1DvKRo8haEZvXXnQ83ww=s64",
      "userId": "15074179419258593720"
     },
     "user_tz": -120
    },
    "id": "FHhLilUVCV7E",
    "outputId": "88c27b49-0c5a-4381-a437-fed8746e22c5",
    "scrolled": true
   },
   "outputs": [],
   "source": [
    "attribute_types = dataset.attribute_types\n",
    "# attribute_types"
   ]
  },
  {
   "cell_type": "markdown",
   "metadata": {},
   "source": [
    "### Categorical and Numerical Features"
   ]
  },
  {
   "cell_type": "code",
   "execution_count": 7,
   "metadata": {
    "colab": {
     "base_uri": "https://localhost:8080/",
     "height": 256
    },
    "colab_type": "code",
    "executionInfo": {
     "elapsed": 779,
     "status": "ok",
     "timestamp": 1592830640333,
     "user": {
      "displayName": "Rupali Sharma",
      "photoUrl": "https://lh3.googleusercontent.com/a-/AOh14GiH6obBahOBk5ezQLBEEgw1DvKRo8haEZvXXnQ83ww=s64",
      "userId": "15074179419258593720"
     },
     "user_tz": -120
    },
    "id": "kjegVmknCV7M",
    "outputId": "f988f8cf-e129-4f27-f605-08bec05634a7"
   },
   "outputs": [],
   "source": [
    "categorical_columns = dataset.categorical_columns\n",
    "# categorical_columns"
   ]
  },
  {
   "cell_type": "code",
   "execution_count": 8,
   "metadata": {
    "colab": {
     "base_uri": "https://localhost:8080/",
     "height": 146
    },
    "colab_type": "code",
    "executionInfo": {
     "elapsed": 831,
     "status": "ok",
     "timestamp": 1592830643042,
     "user": {
      "displayName": "Rupali Sharma",
      "photoUrl": "https://lh3.googleusercontent.com/a-/AOh14GiH6obBahOBk5ezQLBEEgw1DvKRo8haEZvXXnQ83ww=s64",
      "userId": "15074179419258593720"
     },
     "user_tz": -120
    },
    "id": "L-9EEsq9CV7R",
    "outputId": "76f26450-2d39-40e1-e95d-a3330f2a61ec"
   },
   "outputs": [],
   "source": [
    "numerical_columns = dataset.numerical_columns\n",
    "# numerical_columns"
   ]
  },
  {
   "cell_type": "code",
   "execution_count": 9,
   "metadata": {},
   "outputs": [
    {
     "name": "stdout",
     "output_type": "stream",
     "text": [
      "Found 13 categorical and 7 numeric features\n"
     ]
    }
   ],
   "source": [
    "print(f\"Found {len(categorical_columns)} categorical and {len(numerical_columns)} numeric features\")"
   ]
  },
  {
   "cell_type": "markdown",
   "metadata": {},
   "source": [
    "## Model"
   ]
  },
  {
   "cell_type": "markdown",
   "metadata": {},
   "source": [
    "### Model parameters"
   ]
  },
  {
   "cell_type": "code",
   "execution_count": 10,
   "metadata": {
    "colab": {},
    "colab_type": "code",
    "executionInfo": {
     "elapsed": 799,
     "status": "ok",
     "timestamp": 1592830646996,
     "user": {
      "displayName": "Rupali Sharma",
      "photoUrl": "https://lh3.googleusercontent.com/a-/AOh14GiH6obBahOBk5ezQLBEEgw1DvKRo8haEZvXXnQ83ww=s64",
      "userId": "15074179419258593720"
     },
     "user_tz": -120
    },
    "id": "FYYLCTGyCV7W"
   },
   "outputs": [],
   "source": [
    "## model parameters\n",
    "learner = SGDClassifier(max_iter=1000)\n",
    "param_grid = {\n",
    "    'learner__loss': ['log'],\n",
    "    'learner__penalty': ['l2', 'l1', 'elasticnet'],\n",
    "    'learner__alpha': [0.0001, 0.001, 0.01, 0.1]\n",
    "}"
   ]
  },
  {
   "cell_type": "markdown",
   "metadata": {},
   "source": [
    "### Preprocessing Pipeline"
   ]
  },
  {
   "cell_type": "code",
   "execution_count": 11,
   "metadata": {
    "colab": {},
    "colab_type": "code",
    "executionInfo": {
     "elapsed": 11658,
     "status": "ok",
     "timestamp": 1592830661421,
     "user": {
      "displayName": "Rupali Sharma",
      "photoUrl": "https://lh3.googleusercontent.com/a-/AOh14GiH6obBahOBk5ezQLBEEgw1DvKRo8haEZvXXnQ83ww=s64",
      "userId": "15074179419258593720"
     },
     "user_tz": -120
    },
    "id": "nyx6rBXrCV7c"
   },
   "outputs": [],
   "source": [
    "## preprocessing pipeline for both numerical and categorical columns\n",
    "\n",
    "# preprocessing pipeline for numerical columns\n",
    "transformer_numeric = Pipeline([\n",
    "    ('imputer', SimpleImputer(strategy='constant', fill_value=0)),\n",
    "    ('standard_scale', StandardScaler())\n",
    "])\n",
    "\n",
    "# preprocessing pipeline for categorical columns\n",
    "transformer_categorical = Pipeline([\n",
    "    ('imputer', SimpleImputer(strategy='constant', fill_value='__NA__')),\n",
    "    ('one_hot_encode', OneHotEncoder(handle_unknown='ignore'))\n",
    "])\n",
    "\n",
    "# preprocessor\n",
    "feature_transform = ColumnTransformer(transformers=[\n",
    "    ('categorical_features', transformer_categorical, categorical_columns),\n",
    "    ('numerical_features', transformer_numeric, numerical_columns)\n",
    "])"
   ]
  },
  {
   "cell_type": "markdown",
   "metadata": {},
   "source": [
    "### Prediction Pipeline"
   ]
  },
  {
   "cell_type": "code",
   "execution_count": 12,
   "metadata": {
    "colab": {},
    "colab_type": "code",
    "id": "1P9v2kQ-CV7j"
   },
   "outputs": [],
   "source": [
    "## prediction pipeline: append classifier (learner) to the preprocessing pipeline\n",
    "pipeline = Pipeline([\n",
    "    ('features', feature_transform),\n",
    "    ('learner', learner)\n",
    "])"
   ]
  },
  {
   "cell_type": "markdown",
   "metadata": {},
   "source": [
    "### Train and Test Data"
   ]
  },
  {
   "cell_type": "code",
   "execution_count": 13,
   "metadata": {
    "colab": {
     "base_uri": "https://localhost:8080/",
     "height": 539
    },
    "colab_type": "code",
    "executionInfo": {
     "elapsed": 907,
     "status": "ok",
     "timestamp": 1592830669345,
     "user": {
      "displayName": "Rupali Sharma",
      "photoUrl": "https://lh3.googleusercontent.com/a-/AOh14GiH6obBahOBk5ezQLBEEgw1DvKRo8haEZvXXnQ83ww=s64",
      "userId": "15074179419258593720"
     },
     "user_tz": -120
    },
    "id": "CxobsHwrCV8E",
    "outputId": "c1f51dbd-4158-40c5-b786-ff631443138c",
    "scrolled": true
   },
   "outputs": [],
   "source": [
    "train_data, train_labels, test_data, test_labels = dataset.get_train_test_data()\n",
    "\n",
    "# display(train_data.head())\n",
    "# print(train_labels[0:5])\n",
    "\n",
    "# display(test_data.head())\n",
    "# print(test_labels[0:5])"
   ]
  },
  {
   "cell_type": "markdown",
   "metadata": {},
   "source": [
    "## Corruptions"
   ]
  },
  {
   "cell_type": "code",
   "execution_count": 14,
   "metadata": {},
   "outputs": [],
   "source": [
    "corruptions = [MissingValues, Scaling, GaussianNoise, MissingValues, MissingValues, Scaling, Scaling]"
   ]
  },
  {
   "cell_type": "code",
   "execution_count": 15,
   "metadata": {
    "colab": {},
    "colab_type": "code",
    "id": "G-uhWRfTCV7p"
   },
   "outputs": [],
   "source": [
    "ppp = PipelinePerformancePrediction(seed, train_data, train_labels, test_data, test_labels, categorical_columns, numerical_columns, learner, param_grid, corruptions)"
   ]
  },
  {
   "cell_type": "code",
   "execution_count": 16,
   "metadata": {
    "colab": {},
    "colab_type": "code",
    "id": "E6sEs3ALCV7w"
   },
   "outputs": [
    {
     "name": "stdout",
     "output_type": "stream",
     "text": [
      "Generating corrupted training data on 200 rows...\n",
      "Applying perturbations...\n",
      "MissingValues: {'column': 'other_parties', 'fraction': 0.75, 'na_value': nan, 'missingness': 'MCAR'}\n",
      "Scaling: {'column': 'age', 'fraction': 0.5}\n",
      "GaussianNoise: {'column': 'credit_amount', 'fraction': 0.25}\n",
      "MissingValues: {'column': 'existing_credits', 'fraction': 0.5, 'na_value': nan, 'missingness': 'MAR'}\n",
      "MissingValues: {'column': 'other_payment_plans', 'fraction': 0.25, 'na_value': nan, 'missingness': 'MNAR'}\n",
      "Scaling: {'column': 'duration', 'fraction': 0.5}\n",
      "Scaling: {'column': 'existing_credits', 'fraction': 0.25}\n"
     ]
    }
   ],
   "source": [
    "# generate corrpted test data\n",
    "test_data_corrupted, perturbations, cols_perturbed, summary_col_corrupt = ppp.get_corrupted(test_data, corruptions)"
   ]
  },
  {
   "cell_type": "code",
   "execution_count": 17,
   "metadata": {},
   "outputs": [
    {
     "data": {
      "text/plain": [
       "defaultdict(list,\n",
       "            {('other_parties',): [<jenga.corruptions.generic.MissingValues at 0x1e87e10d828>],\n",
       "             ('age',): [<jenga.corruptions.numerical.Scaling at 0x1e87e116b00>],\n",
       "             ('credit_amount',): [<jenga.corruptions.numerical.GaussianNoise at 0x1e87e10d6d8>],\n",
       "             ('existing_credits',): [<jenga.corruptions.generic.MissingValues at 0x1e87e10d550>,\n",
       "              <jenga.corruptions.numerical.Scaling at 0x1e87e116fd0>],\n",
       "             ('other_payment_plans',): [<jenga.corruptions.generic.MissingValues at 0x1e87e116f98>],\n",
       "             ('duration',): [<jenga.corruptions.numerical.Scaling at 0x1e87e1164a8>]})"
      ]
     },
     "execution_count": 17,
     "metadata": {},
     "output_type": "execute_result"
    }
   ],
   "source": [
    "summary_col_corrupt"
   ]
  },
  {
   "cell_type": "code",
   "execution_count": null,
   "metadata": {},
   "outputs": [],
   "source": []
  },
  {
   "cell_type": "markdown",
   "metadata": {
    "colab": {},
    "colab_type": "code",
    "id": "rlepmZckCV73"
   },
   "source": [
    "## Cleaning"
   ]
  },
  {
   "cell_type": "code",
   "execution_count": 18,
   "metadata": {},
   "outputs": [],
   "source": [
    "cleaners = [\n",
    "    (NoOutlierDetection, MeanModeImputation),\n",
    "#     # (NoOutlierDetection, DatawigImputation),\n",
    "#     (PyODKNN, NoImputation),\n",
    "    (PyODKNN, MeanModeImputation),\n",
    "#     # (PyODKNN, DatawigImputation),\n",
    "#     (PyODIsolationForest, NoImputation),\n",
    "    (PyODIsolationForest, MeanModeImputation)\n",
    "#     # (PyODIsolationForest, DatawigImputation)\n",
    "]"
   ]
  },
  {
   "cell_type": "code",
   "execution_count": 19,
   "metadata": {},
   "outputs": [
    {
     "name": "stdout",
     "output_type": "stream",
     "text": [
      "Fitting 5 folds for each of 12 candidates, totalling 60 fits\n"
     ]
    },
    {
     "name": "stderr",
     "output_type": "stream",
     "text": [
      "[Parallel(n_jobs=-1)]: Using backend LokyBackend with 4 concurrent workers.\n",
      "[Parallel(n_jobs=-1)]: Done  42 tasks      | elapsed:    5.0s\n",
      "[Parallel(n_jobs=-1)]: Done  60 out of  60 | elapsed:    5.4s finished\n"
     ]
    }
   ],
   "source": [
    "ppp_model = ppp.fit_ppp(train_data)"
   ]
  },
  {
   "cell_type": "code",
   "execution_count": 20,
   "metadata": {},
   "outputs": [],
   "source": [
    "clean = Clean(train_data, test_data_corrupted, categorical_columns, numerical_columns, ppp, ppp_model, cleaners)"
   ]
  },
  {
   "cell_type": "code",
   "execution_count": 21,
   "metadata": {
    "scrolled": true
   },
   "outputs": [
    {
     "name": "stdout",
     "output_type": "stream",
     "text": [
      "PPP score no cleaning: 0.5513090229079008\n",
      "Outlier detection method: <jenga.cleaning.outlier_detection.NoOutlierDetection object at 0x000001E87E116C18>\n",
      "Imputation method: <jenga.cleaning.imputation.MeanModeImputation object at 0x000001E87E1755C0>\n",
      "PPP score with cleaning: <jenga.cleaning.cleaner.Cleaner object at 0x000001E86E509550>: 0.5494389901823283 \n",
      "\n",
      "Outlier detection method: <jenga.cleaning.outlier_detection.PyODKNN object at 0x000001E87E1EAE10>\n",
      "Imputation method: <jenga.cleaning.imputation.MeanModeImputation object at 0x000001E87E1EAEB8>\n",
      "PPP score with cleaning: <jenga.cleaning.cleaner.Cleaner object at 0x000001E87E1EAA90>: 0.5494389901823283 \n",
      "\n",
      "Outlier detection method: <jenga.cleaning.outlier_detection.PyODIsolationForest object at 0x000001E87E1EA978>\n",
      "Imputation method: <jenga.cleaning.imputation.MeanModeImputation object at 0x000001E87E1EAD30>\n",
      "PPP score with cleaning: <jenga.cleaning.cleaner.Cleaner object at 0x000001E87E1EAC18>: 0.5494389901823283 \n",
      "\n",
      "Cleaning didnt't improve the score\n"
     ]
    }
   ],
   "source": [
    "test_data_cleaned, score_no_cleaning, cleaner_scores_ppp = clean(train_data, test_data_corrupted)"
   ]
  },
  {
   "cell_type": "code",
   "execution_count": null,
   "metadata": {},
   "outputs": [],
   "source": []
  },
  {
   "cell_type": "markdown",
   "metadata": {},
   "source": [
    "## Results"
   ]
  },
  {
   "cell_type": "markdown",
   "metadata": {},
   "source": [
    "### Model Results"
   ]
  },
  {
   "cell_type": "code",
   "execution_count": 22,
   "metadata": {
    "scrolled": true
   },
   "outputs": [
    {
     "data": {
      "text/plain": [
       "Pipeline(memory=None,\n",
       "         steps=[('features',\n",
       "                 ColumnTransformer(n_jobs=None, remainder='drop',\n",
       "                                   sparse_threshold=0.3,\n",
       "                                   transformer_weights=None,\n",
       "                                   transformers=[('categorical_features',\n",
       "                                                  Pipeline(memory=None,\n",
       "                                                           steps=[('imputer',\n",
       "                                                                   SimpleImputer(add_indicator=False,\n",
       "                                                                                 copy=True,\n",
       "                                                                                 fill_value='__NA__',\n",
       "                                                                                 missing_values=nan,\n",
       "                                                                                 strategy='constant',\n",
       "                                                                                 verbose=0)),\n",
       "                                                                  ('one_hot_encode',\n",
       "                                                                   OneHotE...\n",
       "                 SGDClassifier(alpha=0.0001, average=False, class_weight=None,\n",
       "                               early_stopping=False, epsilon=0.1, eta0=0.0,\n",
       "                               fit_intercept=True, l1_ratio=0.15,\n",
       "                               learning_rate='optimal', loss='hinge',\n",
       "                               max_iter=1000, n_iter_no_change=5, n_jobs=None,\n",
       "                               penalty='l2', power_t=0.5, random_state=None,\n",
       "                               shuffle=True, tol=0.001, validation_fraction=0.1,\n",
       "                               verbose=0, warm_start=False))],\n",
       "         verbose=False)"
      ]
     },
     "execution_count": 22,
     "metadata": {},
     "output_type": "execute_result"
    }
   ],
   "source": [
    "# model \n",
    "pipeline.fit(train_data, train_labels)"
   ]
  },
  {
   "cell_type": "code",
   "execution_count": 23,
   "metadata": {},
   "outputs": [
    {
     "data": {
      "text/plain": [
       "0.65"
      ]
     },
     "execution_count": 23,
     "metadata": {},
     "output_type": "execute_result"
    }
   ],
   "source": [
    "# original data test score\n",
    "pipeline.score(test_data, test_labels)"
   ]
  },
  {
   "cell_type": "code",
   "execution_count": 24,
   "metadata": {},
   "outputs": [
    {
     "data": {
      "text/plain": [
       "0.6"
      ]
     },
     "execution_count": 24,
     "metadata": {},
     "output_type": "execute_result"
    }
   ],
   "source": [
    "# corrupted data test score\n",
    "pipeline.score(test_data_corrupted, test_labels)"
   ]
  },
  {
   "cell_type": "code",
   "execution_count": 25,
   "metadata": {},
   "outputs": [
    {
     "data": {
      "text/plain": [
       "0.605"
      ]
     },
     "execution_count": 25,
     "metadata": {},
     "output_type": "execute_result"
    }
   ],
   "source": [
    "# cleaned data test score\n",
    "pipeline.score(test_data_cleaned, test_labels)"
   ]
  },
  {
   "cell_type": "markdown",
   "metadata": {},
   "source": [
    "### PPP Results"
   ]
  },
  {
   "cell_type": "code",
   "execution_count": 26,
   "metadata": {},
   "outputs": [
    {
     "data": {
      "text/plain": [
       "0.8113604488078542"
      ]
     },
     "execution_count": 26,
     "metadata": {},
     "output_type": "execute_result"
    }
   ],
   "source": [
    "# ppp model score\n",
    "ppp.predict_score_ppp(ppp_model, test_data)"
   ]
  },
  {
   "cell_type": "code",
   "execution_count": 27,
   "metadata": {},
   "outputs": [
    {
     "data": {
      "text/plain": [
       "0.5513090229079008"
      ]
     },
     "execution_count": 27,
     "metadata": {},
     "output_type": "execute_result"
    }
   ],
   "source": [
    "# ppp score corrupted\n",
    "score_no_cleaning"
   ]
  },
  {
   "cell_type": "code",
   "execution_count": 28,
   "metadata": {},
   "outputs": [
    {
     "data": {
      "text/plain": [
       "0.5494389901823283"
      ]
     },
     "execution_count": 28,
     "metadata": {},
     "output_type": "execute_result"
    }
   ],
   "source": [
    "# ppp score cleaned\n",
    "np.array(cleaner_scores_ppp).max()"
   ]
  },
  {
   "cell_type": "code",
   "execution_count": 29,
   "metadata": {},
   "outputs": [
    {
     "data": {
      "text/plain": [
       "[0.5494389901823283, 0.5494389901823283, 0.5494389901823283]"
      ]
     },
     "execution_count": 29,
     "metadata": {},
     "output_type": "execute_result"
    }
   ],
   "source": [
    "# ppp cleaner scores\n",
    "cleaner_scores_ppp"
   ]
  },
  {
   "cell_type": "code",
   "execution_count": null,
   "metadata": {},
   "outputs": [],
   "source": []
  },
  {
   "cell_type": "code",
   "execution_count": null,
   "metadata": {},
   "outputs": [],
   "source": []
  },
  {
   "cell_type": "code",
   "execution_count": null,
   "metadata": {},
   "outputs": [],
   "source": []
  },
  {
   "cell_type": "code",
   "execution_count": null,
   "metadata": {},
   "outputs": [],
   "source": []
  },
  {
   "cell_type": "code",
   "execution_count": null,
   "metadata": {},
   "outputs": [],
   "source": []
  },
  {
   "cell_type": "code",
   "execution_count": null,
   "metadata": {
    "colab": {},
    "colab_type": "code",
    "id": "OhuZDAPRCV8q"
   },
   "outputs": [],
   "source": []
  },
  {
   "cell_type": "code",
   "execution_count": null,
   "metadata": {
    "colab": {},
    "colab_type": "code",
    "id": "w2Kjm1P_CV8t"
   },
   "outputs": [],
   "source": []
  },
  {
   "cell_type": "code",
   "execution_count": null,
   "metadata": {
    "colab": {},
    "colab_type": "code",
    "id": "WBD5cArBCV80"
   },
   "outputs": [],
   "source": []
  }
 ],
 "metadata": {
  "colab": {
   "collapsed_sections": [],
   "name": "experimental_setup_ppp.ipynb",
   "provenance": []
  },
  "kernelspec": {
   "display_name": "Python 3",
   "language": "python",
   "name": "python3"
  },
  "language_info": {
   "codemirror_mode": {
    "name": "ipython",
    "version": 3
   },
   "file_extension": ".py",
   "mimetype": "text/x-python",
   "name": "python",
   "nbconvert_exporter": "python",
   "pygments_lexer": "ipython3",
   "version": "3.6.8"
  }
 },
 "nbformat": 4,
 "nbformat_minor": 1
}
