{
 "cells": [
  {
   "cell_type": "code",
   "execution_count": 1,
   "metadata": {},
   "outputs": [],
   "source": [
    "import pandas as pd\n",
    "import numpy as np\n",
    "import itertools, random\n",
    "\n",
    "from jenga.tasks.reviews import VideogameReviewsTask\n",
    "\n",
    "from jenga.cleaning.ppp import PipelineWithPPP\n",
    "from jenga.cleaning.autoclean import AutoClean\n",
    "\n",
    "from jenga.corruptions.numerical import SwappedValues, Outliers, Scaling\n",
    "from jenga.corruptions.text import BrokenCharacters\n",
    "from jenga.corruptions.missing import ( MissingValuesHighEntropy, \n",
    "                                  MissingValuesLowEntropy, \n",
    "                                  MissingValues\n",
    "                                )\n",
    "\n",
    "corruptions = {\n",
    "    'numeric':[Outliers, Scaling],\n",
    "    'text': [BrokenCharacters],\n",
    "    'missing': [MissingValuesHighEntropy, \n",
    "                MissingValuesLowEntropy, \n",
    "                MissingValues]\n",
    "}\n",
    "\n",
    "def get_random_perturbation(numerical_columns, \n",
    "                            categorical_columns, \n",
    "                            fractions=[.7, .9]):\n",
    "    '''\n",
    "    Returns a random perturbation, chosen from either a numeric (swapping, outlier, scaling)\n",
    "    or missingness\n",
    "    '''\n",
    "    random_fraction = random.choice(fractions)\n",
    "    \n",
    "    num_or_cat = np.random.rand() > .5\n",
    "    \n",
    "    if num_or_cat:\n",
    "        random_perturbation = random.choice(corruptions['numeric'])\n",
    "        rand_column = [random.choice(numerical_columns)]\n",
    "        return random_perturbation(random_fraction, rand_column)\n",
    "    else:\n",
    "        missingness = random.choice(['MCAR', 'MAR', 'MNAR'])\n",
    "        rand_column = random.choice(categorical_columns + numerical_columns)\n",
    "        return MissingValues(random_fraction, rand_column, None, missingness)\n",
    "    "
   ]
  },
  {
   "cell_type": "code",
   "execution_count": null,
   "metadata": {
    "scrolled": true
   },
   "outputs": [
    {
     "name": "stdout",
     "output_type": "stream",
     "text": [
      "----- Week 0 -----\n"
     ]
    }
   ],
   "source": [
    "task = VideogameReviewsTask()\n",
    "\n",
    "results = []\n",
    "\n",
    "while task.advance_current_week():\n",
    "\n",
    "    print(\"----- Week\", task.current_week(), \"-----\")\n",
    "\n",
    "    train_data = task.current_accumulated_train_data()\n",
    "    train_labels = task.current_accumulated_train_labels()\n",
    "\n",
    "    model = task.fit_baseline_model(train_data, train_labels)\n",
    "    \n",
    "    ac = AutoClean(train_data, \n",
    "                   train_labels, \n",
    "                   model, \n",
    "                   numerical_columns=task.numerical_attributes, \n",
    "                   categorical_columns=task.categorical_attributes,\n",
    "                   text_columns=task.text_attributes\n",
    "                  )\n",
    "    \n",
    "    test_data = task.current_test_data()\n",
    "    predictions = model.predict_proba(test_data)\n",
    "    clean_data_test_score = task.score_on_current_test_data(predictions)\n",
    "    print(\"\\tAUC on test data\", clean_data_test_score)\n",
    "    \n",
    "    rand_perturbation = get_random_perturbation(task.numerical_attributes,\n",
    "                                            task.categorical_attributes)\n",
    "    corrupted_test_data = rand_perturbation(test_data.copy(deep=True))\n",
    "    \n",
    "    # this is necessary to avoid crashes at prediction time, as \n",
    "    # the preprocessor simply passes on the nans and Nones\n",
    "    corrupted_test_data[task.numerical_attributes].fillna(0,inplace=True)\n",
    "    corrupted_test_data[task.categorical_attributes].fillna('',inplace=True)\n",
    "    \n",
    "    corrupted_predictions = model.predict_proba(corrupted_test_data)\n",
    "    corrupted_data_test_score = task.score_on_current_test_data(corrupted_predictions)\n",
    "    \n",
    "    \n",
    "    cleaned_test_data, ppp_score, cleaned_scores = ac(corrupted_test_data)\n",
    "    cleaned_predictions = model.predict_proba(cleaned_test_data)\n",
    "    cleaned_data_test_score = task.score_on_current_test_data(cleaned_predictions)\n",
    "    results.append({\n",
    "        'perturbation': rand_perturbation,\n",
    "        'clean_data_test_score': clean_data_test_score,\n",
    "        'corrupted_data_test_score': corrupted_data_test_score,\n",
    "        'cleaned_data_test_score': cleaned_data_test_score,\n",
    "        'ppp_score': ppp_score,\n",
    "        'cleaned_scores': cleaned_scores\n",
    "    })\n",
    "    print(f\"\\tScores for test data corrupted with {rand_perturbation.__dict__}\")\n",
    "    for k,v in results[-1].items():\n",
    "        print(f'\\t\\t{k}:{v}')\n"
   ]
  },
  {
   "cell_type": "code",
   "execution_count": null,
   "metadata": {},
   "outputs": [],
   "source": [
    "results"
   ]
  },
  {
   "cell_type": "code",
   "execution_count": null,
   "metadata": {},
   "outputs": [],
   "source": [
    "[r['perturbation'].__dict__ for r in results]"
   ]
  }
 ],
 "metadata": {
  "kernelspec": {
   "display_name": "Python 3",
   "language": "python",
   "name": "python3"
  },
  "language_info": {
   "codemirror_mode": {
    "name": "ipython",
    "version": 3
   },
   "file_extension": ".py",
   "mimetype": "text/x-python",
   "name": "python",
   "nbconvert_exporter": "python",
   "pygments_lexer": "ipython3",
   "version": "3.6.10"
  }
 },
 "nbformat": 4,
 "nbformat_minor": 4
}
