{
 "cells": [
  {
   "cell_type": "code",
   "execution_count": null,
   "metadata": {
    "colab": {
     "base_uri": "https://localhost:8080/",
     "height": 182
    },
    "colab_type": "code",
    "executionInfo": {
     "elapsed": 10718,
     "status": "ok",
     "timestamp": 1596221358120,
     "user": {
      "displayName": "Rupali Sharma",
      "photoUrl": "https://lh3.googleusercontent.com/a-/AOh14GiH6obBahOBk5ezQLBEEgw1DvKRo8haEZvXXnQ83ww=s64",
      "userId": "15074179419258593720"
     },
     "user_tz": -120
    },
    "id": "KOSliTrSSaMc",
    "outputId": "710c9ddb-45a7-421e-b44d-baa9495691d2"
   },
   "outputs": [],
   "source": [
    "# mount drive for access to the files\n",
    "# from google.colab import drive\n",
    "\n",
    "# drive.mount(\"/content/drive\")\n",
    "\n",
    "# all the drive the files are present in \"/content/drive/My Drive\"\n",
    "# !ls \"/content/drive/My Drive/Beuth Uni/Master Thesis\"\n",
    "\n",
    "# import sys\n",
    "# sys.path.append('/content/drive/My Drive/Beuth Uni/Master Thesis/jenga')"
   ]
  },
  {
   "cell_type": "code",
   "execution_count": null,
   "metadata": {
    "colab": {
     "base_uri": "https://localhost:8080/",
     "height": 1000
    },
    "colab_type": "code",
    "executionInfo": {
     "elapsed": 24297,
     "status": "ok",
     "timestamp": 1596221371715,
     "user": {
      "displayName": "Rupali Sharma",
      "photoUrl": "https://lh3.googleusercontent.com/a-/AOh14GiH6obBahOBk5ezQLBEEgw1DvKRo8haEZvXXnQ83ww=s64",
      "userId": "15074179419258593720"
     },
     "user_tz": -120
    },
    "id": "o3LW-36iSx5p",
    "outputId": "ebca8a19-d118-47d0-c74e-289c5a566532"
   },
   "outputs": [],
   "source": [
    "# !pip install openml\n",
    "# !pip install pyod\n",
    "\n",
    "# !pip install mxnet autogluon\n",
    "# !pip install mxnet-mkl --pre --upgrade"
   ]
  },
  {
   "cell_type": "code",
   "execution_count": null,
   "metadata": {
    "colab": {},
    "colab_type": "code",
    "executionInfo": {
     "elapsed": 32854,
     "status": "ok",
     "timestamp": 1596221380275,
     "user": {
      "displayName": "Rupali Sharma",
      "photoUrl": "https://lh3.googleusercontent.com/a-/AOh14GiH6obBahOBk5ezQLBEEgw1DvKRo8haEZvXXnQ83ww=s64",
      "userId": "15074179419258593720"
     },
     "user_tz": -120
    },
    "id": "FAMyjJVISMm6"
   },
   "outputs": [],
   "source": [
    "import random\n",
    "import numpy as np\n",
    "import pandas as pd\n",
    "\n",
    "from sklearn.linear_model import SGDClassifier\n",
    "from sklearn.ensemble import RandomForestClassifier\n",
    "from sklearn.pipeline import Pipeline\n",
    "from sklearn.impute import SimpleImputer\n",
    "from sklearn.preprocessing import OneHotEncoder, StandardScaler\n",
    "from sklearn.compose import ColumnTransformer\n",
    "\n",
    "from jenga.basis import Dataset\n",
    "from jenga.corruptions.generic import MissingValues, SwappedValues\n",
    "from jenga.corruptions.numerical import Scaling, GaussianNoise\n",
    "from jenga.cleaning.ppp import PipelinePerformancePrediction\n",
    "from jenga.cleaning.outlier_detection import NoOutlierDetection, PyODKNNOutlierDetection, PyODIsolationForestOutlierDetection, AutoGluonOutlierDetection\n",
    "from jenga.cleaning.imputation import NoImputation, MeanModeImputation, AutoGluonImputation\n",
    "from jenga.cleaning.clean import Clean"
   ]
  },
  {
   "cell_type": "code",
   "execution_count": null,
   "metadata": {
    "colab": {},
    "colab_type": "code",
    "executionInfo": {
     "elapsed": 32853,
     "status": "ok",
     "timestamp": 1596221380278,
     "user": {
      "displayName": "Rupali Sharma",
      "photoUrl": "https://lh3.googleusercontent.com/a-/AOh14GiH6obBahOBk5ezQLBEEgw1DvKRo8haEZvXXnQ83ww=s64",
      "userId": "15074179419258593720"
     },
     "user_tz": -120
    },
    "id": "ZtZOATF_SMnL"
   },
   "outputs": [],
   "source": [
    "seed = 10"
   ]
  },
  {
   "cell_type": "code",
   "execution_count": null,
   "metadata": {
    "colab": {},
    "colab_type": "code",
    "executionInfo": {
     "elapsed": 32853,
     "status": "ok",
     "timestamp": 1596221380280,
     "user": {
      "displayName": "Rupali Sharma",
      "photoUrl": "https://lh3.googleusercontent.com/a-/AOh14GiH6obBahOBk5ezQLBEEgw1DvKRo8haEZvXXnQ83ww=s64",
      "userId": "15074179419258593720"
     },
     "user_tz": -120
    },
    "id": "OplzJM33SMnZ"
   },
   "outputs": [],
   "source": [
    "def run_experiment(dataset_name, learner, param_grid, corruptions, fraction, cleaners, num_repetitions, categorical_precision_threshold=0.7, numerical_std_error_threshold=2.0):\n",
    "    \n",
    "    ## dataset\n",
    "    dataset = Dataset(seed, dataset_name)\n",
    "    \n",
    "    all_data = dataset.all_data\n",
    "    attribute_names = dataset.attribute_names\n",
    "    attribute_types = dataset.attribute_types\n",
    "    \n",
    "    ## categorical and numerical features\n",
    "    categorical_columns = dataset.categorical_columns\n",
    "    numerical_columns = dataset.numerical_columns\n",
    "    print(f\"Found {len(categorical_columns)} categorical and {len(numerical_columns)} numeric features \\n\")\n",
    "    \n",
    "    ## train and test data\n",
    "    df_train, lab_train, df_test, lab_test = dataset.get_train_test_data()\n",
    "    \n",
    "    \n",
    "    ## pipeline performance prediction (ppp)\n",
    "    ppp = PipelinePerformancePrediction(seed, df_train, lab_train, df_test, lab_test, categorical_columns, numerical_columns, learner, param_grid)\n",
    "    ppp_model = ppp.fit_ppp(df_train)\n",
    "    \n",
    "    ## generate corrpted data\n",
    "    df_corrupted, perturbations, cols_perturbed, summary_col_corrupt = ppp.get_corrupted(df_test, corruptions, fraction, num_repetitions)\n",
    "    \n",
    "    ## cleaning\n",
    "    clean = Clean(df_train, df_corrupted, categorical_columns, numerical_columns, categorical_precision_threshold, numerical_std_error_threshold, ppp, ppp_model, cleaners)\n",
    "    df_cleaned, corrupted_score_ppp, best_cleaning_score, cleaner_scores_ppp, summary_cleaners = clean(df_train, df_corrupted)\n",
    "    \n",
    "    ## results\n",
    "    result = {\n",
    "        'ppp_score_model': ppp.predict_score_ppp(ppp_model, df_test),\n",
    "        'ppp_score_corrupted': corrupted_score_ppp,\n",
    "        'ppp_score_cleaned': best_cleaning_score,\n",
    "        'ppp_scores_cleaners': cleaner_scores_ppp\n",
    "    }\n",
    "#     print('\\n'.join([f'{key}:{val}' for key, val in result.items()]))\n",
    "    \n",
    "    ## summary\n",
    "    summary = {\n",
    "        'dataset': dataset_name,\n",
    "        'model': learner,\n",
    "        'corruptions': summary_col_corrupt,\n",
    "        'cleaners': summary_cleaners,\n",
    "        'result': result\n",
    "    }\n",
    "#     print('\\n\\n\\n\\n'.join([f'{key}:{val}' for key, val in summary.items()]))\n",
    "    \n",
    "    return summary #summary_col_corrupt, result"
   ]
  },
  {
   "cell_type": "code",
   "execution_count": null,
   "metadata": {
    "colab": {},
    "colab_type": "code",
    "executionInfo": {
     "elapsed": 32849,
     "status": "ok",
     "timestamp": 1596221380281,
     "user": {
      "displayName": "Rupali Sharma",
      "photoUrl": "https://lh3.googleusercontent.com/a-/AOh14GiH6obBahOBk5ezQLBEEgw1DvKRo8haEZvXXnQ83ww=s64",
      "userId": "15074179419258593720"
     },
     "user_tz": -120
    },
    "id": "dNID3-WzSMnl"
   },
   "outputs": [],
   "source": [
    "datasets = [\n",
    "    'parkinsons',\n",
    "    'heart-statlog',\n",
    "    # 'credit-g'\n",
    "]"
   ]
  },
  {
   "cell_type": "code",
   "execution_count": null,
   "metadata": {
    "colab": {},
    "colab_type": "code",
    "executionInfo": {
     "elapsed": 32844,
     "status": "ok",
     "timestamp": 1596221380281,
     "user": {
      "displayName": "Rupali Sharma",
      "photoUrl": "https://lh3.googleusercontent.com/a-/AOh14GiH6obBahOBk5ezQLBEEgw1DvKRo8haEZvXXnQ83ww=s64",
      "userId": "15074179419258593720"
     },
     "user_tz": -120
    },
    "id": "jebH6ZVASMn0"
   },
   "outputs": [],
   "source": [
    "## model parameters\n",
    "## models is a dict where key = leaner & value = param_grid\n",
    "models = {SGDClassifier(loss='log'): {'learner__max_iter': [500, 1000, 5000], \n",
    "                                         'learner__penalty': ['l2', 'l1', 'elasticnet'], \n",
    "                                         'learner__alpha': [0.0001, 0.001, 0.01, 0.1]\n",
    "                                        }, \n",
    "          RandomForestClassifier():{'learner__n_estimators': [100, 200, 500], \n",
    "                                    'learner__max_depth': [5, 10, 15]\n",
    "                                   }\n",
    "         }\n",
    "\n",
    "## make dict of multiple leraners and corresponding param_grids"
   ]
  },
  {
   "cell_type": "code",
   "execution_count": null,
   "metadata": {
    "colab": {},
    "colab_type": "code",
    "executionInfo": {
     "elapsed": 32842,
     "status": "ok",
     "timestamp": 1596221380283,
     "user": {
      "displayName": "Rupali Sharma",
      "photoUrl": "https://lh3.googleusercontent.com/a-/AOh14GiH6obBahOBk5ezQLBEEgw1DvKRo8haEZvXXnQ83ww=s64",
      "userId": "15074179419258593720"
     },
     "user_tz": -120
    },
    "id": "hjTYjjXNSMoA"
   },
   "outputs": [],
   "source": [
    "corruptions = [MissingValues, SwappedValues, Scaling, GaussianNoise]"
   ]
  },
  {
   "cell_type": "code",
   "execution_count": null,
   "metadata": {
    "colab": {},
    "colab_type": "code",
    "executionInfo": {
     "elapsed": 32839,
     "status": "ok",
     "timestamp": 1596221380284,
     "user": {
      "displayName": "Rupali Sharma",
      "photoUrl": "https://lh3.googleusercontent.com/a-/AOh14GiH6obBahOBk5ezQLBEEgw1DvKRo8haEZvXXnQ83ww=s64",
      "userId": "15074179419258593720"
     },
     "user_tz": -120
    },
    "id": "WshmRzJ6SMoH"
   },
   "outputs": [],
   "source": [
    "fractions = np.random.uniform(0, 1, 2) # np.random.uniform(0, 1, 3)"
   ]
  },
  {
   "cell_type": "code",
   "execution_count": null,
   "metadata": {
    "colab": {},
    "colab_type": "code",
    "executionInfo": {
     "elapsed": 32835,
     "status": "ok",
     "timestamp": 1596221380285,
     "user": {
      "displayName": "Rupali Sharma",
      "photoUrl": "https://lh3.googleusercontent.com/a-/AOh14GiH6obBahOBk5ezQLBEEgw1DvKRo8haEZvXXnQ83ww=s64",
      "userId": "15074179419258593720"
     },
     "user_tz": -120
    },
    "id": "0-xUp0ZrSMoO"
   },
   "outputs": [],
   "source": [
    "cleaners = [\n",
    "    (NoOutlierDetection, MeanModeImputation),\n",
    "    (PyODKNNOutlierDetection, MeanModeImputation),\n",
    "    (PyODKNNOutlierDetection, AutoGluonImputation),\n",
    "    (PyODIsolationForestOutlierDetection, MeanModeImputation),\n",
    "    (PyODIsolationForestOutlierDetection, AutoGluonImputation),\n",
    "    (AutoGluonOutlierDetection, MeanModeImputation),\n",
    "    (AutoGluonOutlierDetection, AutoGluonImputation)\n",
    "]"
   ]
  },
  {
   "cell_type": "code",
   "execution_count": null,
   "metadata": {
    "colab": {
     "base_uri": "https://localhost:8080/",
     "height": 1000
    },
    "colab_type": "code",
    "executionInfo": {
     "elapsed": 4256320,
     "status": "ok",
     "timestamp": 1596225603878,
     "user": {
      "displayName": "Rupali Sharma",
      "photoUrl": "https://lh3.googleusercontent.com/a-/AOh14GiH6obBahOBk5ezQLBEEgw1DvKRo8haEZvXXnQ83ww=s64",
      "userId": "15074179419258593720"
     },
     "user_tz": -120
    },
    "id": "ixiNDlsuSMoZ",
    "outputId": "105d9afc-fca5-4a4f-a400-537702476f56",
    "scrolled": true
   },
   "outputs": [],
   "source": [
    "%%time\n",
    "for _ in range(1):\n",
    "  print(\"\\n\\n..................................ITERATION..................................\\n\")\n",
    "  ind_results = []\n",
    "\n",
    "  for dataset in datasets:\n",
    "      for learner, param_grid in models.items():\n",
    "          for fraction in fractions:\n",
    "              # ind_results.append(run_experiment(dataset, learner, param_grid, [MissingValues], fraction, [(PyODKNN, AutoGluonImputation)], 5))\n",
    "              ind_results.append(run_experiment(dataset, learner, param_grid, [MissingValues], fraction, cleaners, 100))"
   ]
  },
  {
   "cell_type": "code",
   "execution_count": null,
   "metadata": {
    "colab": {
     "base_uri": "https://localhost:8080/",
     "height": 1000
    },
    "colab_type": "code",
    "executionInfo": {
     "elapsed": 4256323,
     "status": "ok",
     "timestamp": 1596225603890,
     "user": {
      "displayName": "Rupali Sharma",
      "photoUrl": "https://lh3.googleusercontent.com/a-/AOh14GiH6obBahOBk5ezQLBEEgw1DvKRo8haEZvXXnQ83ww=s64",
      "userId": "15074179419258593720"
     },
     "user_tz": -120
    },
    "id": "AJtuDcXpSMon",
    "outputId": "946fb702-2dae-42db-c1cd-7c32dd18d5d7",
    "scrolled": true
   },
   "outputs": [],
   "source": [
    "ind_results"
   ]
  },
  {
   "cell_type": "code",
   "execution_count": null,
   "metadata": {
    "colab": {},
    "colab_type": "code",
    "executionInfo": {
     "elapsed": 4256322,
     "status": "ok",
     "timestamp": 1596225603892,
     "user": {
      "displayName": "Rupali Sharma",
      "photoUrl": "https://lh3.googleusercontent.com/a-/AOh14GiH6obBahOBk5ezQLBEEgw1DvKRo8haEZvXXnQ83ww=s64",
      "userId": "15074179419258593720"
     },
     "user_tz": -120
    },
    "id": "k9ktt-faSMpK",
    "scrolled": true
   },
   "outputs": [],
   "source": [
    "# %%time\n",
    "# for _ in range(1):\n",
    "#   print(\"\\n\\n..................................ITERATION..................................\\n\")\n",
    "#   results = []\n",
    "\n",
    "#   for dataset in datasets:\n",
    "#       for learner, param_grid in models.items():\n",
    "#           for fraction in fractions:\n",
    "#               results.append(run_experiment(dataset, learner, param_grid, corruptions, fraction, cleaners, 5))"
   ]
  },
  {
   "cell_type": "code",
   "execution_count": null,
   "metadata": {
    "colab": {},
    "colab_type": "code",
    "executionInfo": {
     "elapsed": 4256320,
     "status": "ok",
     "timestamp": 1596225603893,
     "user": {
      "displayName": "Rupali Sharma",
      "photoUrl": "https://lh3.googleusercontent.com/a-/AOh14GiH6obBahOBk5ezQLBEEgw1DvKRo8haEZvXXnQ83ww=s64",
      "userId": "15074179419258593720"
     },
     "user_tz": -120
    },
    "id": "lDQh1DzHSMpT",
    "scrolled": true
   },
   "outputs": [],
   "source": [
    "# results"
   ]
  }
 ],
 "metadata": {
  "accelerator": "TPU",
  "colab": {
   "collapsed_sections": [],
   "name": "experimental_setup_final.ipynb",
   "provenance": []
  },
  "kernelspec": {
   "display_name": "Python 3",
   "language": "python",
   "name": "python3"
  },
  "language_info": {
   "codemirror_mode": {
    "name": "ipython",
    "version": 3
   },
   "file_extension": ".py",
   "mimetype": "text/x-python",
   "name": "python",
   "nbconvert_exporter": "python",
   "pygments_lexer": "ipython3",
   "version": "3.8.2"
  }
 },
 "nbformat": 4,
 "nbformat_minor": 1
}
