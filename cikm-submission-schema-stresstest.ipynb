{
 "cells": [
  {
   "cell_type": "code",
   "execution_count": 2,
   "metadata": {},
   "outputs": [],
   "source": [
    "from jenga.tasks.reviews import VideogameReviewsTask\n",
    "from jenga.evaluation.schema_stresstest import SchemaStresstest\n",
    "\n",
    "import tensorflow_data_validation as tfdv\n",
    "\n",
    "import numpy as np\n",
    "import pandas as pd\n",
    "\n",
    "seed = np.random.randint(2**32-1)\n",
    "\n",
    "task = VideogameReviewsTask(seed=seed)"
   ]
  },
  {
   "cell_type": "code",
   "execution_count": 3,
   "metadata": {},
   "outputs": [],
   "source": [
    "train_data_stats = tfdv.generate_statistics_from_dataframe(task.train_data)\n",
    "schema = tfdv.infer_schema(statistics=train_data_stats)\n",
    "review_date_feature = tfdv.get_feature(schema, 'review_date')\n",
    "review_date_feature.distribution_constraints.min_domain_mass = 0.0"
   ]
  },
  {
   "cell_type": "code",
   "execution_count": 4,
   "metadata": {},
   "outputs": [],
   "source": [
    "model = task.fit_baseline_model(task.train_data, task.train_labels)"
   ]
  },
  {
   "cell_type": "code",
   "execution_count": 6,
   "metadata": {},
   "outputs": [],
   "source": [
    "stress_test = SchemaStresstest()\n"
   ]
  },
  {
   "cell_type": "code",
   "execution_count": 9,
   "metadata": {},
   "outputs": [
    {
     "name": "stdout",
     "output_type": "stream",
     "text": [
      "Scaling: {'column': 'star_rating', 'fraction': 0.61}\n"
     ]
    }
   ],
   "source": [
    "results = stress_test.run(task, model, schema, num_corruptions=10, performance_threshold=.03)"
   ]
  },
  {
   "cell_type": "code",
   "execution_count": 10,
   "metadata": {},
   "outputs": [
    {
     "data": {
      "text/html": [
       "<div>\n",
       "<style scoped>\n",
       "    .dataframe tbody tr th:only-of-type {\n",
       "        vertical-align: middle;\n",
       "    }\n",
       "\n",
       "    .dataframe tbody tr th {\n",
       "        vertical-align: top;\n",
       "    }\n",
       "\n",
       "    .dataframe thead th {\n",
       "        text-align: right;\n",
       "    }\n",
       "</style>\n",
       "<table border=\"1\" class=\"dataframe\">\n",
       "  <thead>\n",
       "    <tr style=\"text-align: right;\">\n",
       "      <th></th>\n",
       "      <th>corruption</th>\n",
       "      <th>status</th>\n",
       "      <th>anomalies</th>\n",
       "      <th>baseline_score</th>\n",
       "      <th>corrupted_score</th>\n",
       "    </tr>\n",
       "  </thead>\n",
       "  <tbody>\n",
       "    <tr>\n",
       "      <th>0</th>\n",
       "      <td>Scaling: {'column': 'star_rating', 'fraction':...</td>\n",
       "      <td>FN</td>\n",
       "      <td>{}</td>\n",
       "      <td>0.791215</td>\n",
       "      <td>0.575134</td>\n",
       "    </tr>\n",
       "  </tbody>\n",
       "</table>\n",
       "</div>"
      ],
      "text/plain": [
       "                                          corruption status anomalies  \\\n",
       "0  Scaling: {'column': 'star_rating', 'fraction':...     FN        {}   \n",
       "\n",
       "   baseline_score  corrupted_score  \n",
       "0        0.791215         0.575134  "
      ]
     },
     "execution_count": 10,
     "metadata": {},
     "output_type": "execute_result"
    }
   ],
   "source": [
    "results"
   ]
  },
  {
   "cell_type": "code",
   "execution_count": null,
   "metadata": {},
   "outputs": [],
   "source": []
  }
 ],
 "metadata": {
  "kernelspec": {
   "display_name": "Python 3",
   "language": "python",
   "name": "python3"
  },
  "language_info": {
   "codemirror_mode": {
    "name": "ipython",
    "version": 3
   },
   "file_extension": ".py",
   "mimetype": "text/x-python",
   "name": "python",
   "nbconvert_exporter": "python",
   "pygments_lexer": "ipython3",
   "version": "3.6.10"
  }
 },
 "nbformat": 4,
 "nbformat_minor": 4
}
