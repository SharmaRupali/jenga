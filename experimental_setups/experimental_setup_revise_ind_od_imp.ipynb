{
 "cells": [
  {
   "cell_type": "markdown",
   "metadata": {
    "id": "5J3YuFydIxdZ"
   },
   "source": [
    "## Dataset"
   ]
  },
  {
   "cell_type": "code",
   "execution_count": 1,
   "metadata": {
    "ExecuteTime": {
     "end_time": "2021-03-29T23:56:34.753538Z",
     "start_time": "2021-03-29T23:56:32.139709Z"
    },
    "executionInfo": {
     "elapsed": 14946,
     "status": "ok",
     "timestamp": 1605649250169,
     "user": {
      "displayName": "Rupali Sharma",
      "photoUrl": "https://lh3.googleusercontent.com/a-/AOh14GiH6obBahOBk5ezQLBEEgw1DvKRo8haEZvXXnQ83ww=s64",
      "userId": "15074179419258593720"
     },
     "user_tz": -60
    },
    "id": "2Ag3FZmFIxdb"
   },
   "outputs": [],
   "source": [
    "import warnings\n",
    "warnings.filterwarnings('ignore')\n",
    "\n",
    "import sys\n",
    "sys.path.append('/home/rupali/Documents/Master Thesis/jenga')\n",
    "\n",
    "import pandas as pd\n",
    "import numpy as np\n",
    "import seaborn as sns\n",
    "import matplotlib.pyplot as plt\n",
    "\n",
    "from jenga.basis import Dataset"
   ]
  },
  {
   "cell_type": "code",
   "execution_count": 2,
   "metadata": {
    "ExecuteTime": {
     "end_time": "2021-03-29T23:56:34.991408Z",
     "start_time": "2021-03-29T23:56:34.755488Z"
    },
    "colab": {
     "base_uri": "https://localhost:8080/"
    },
    "executionInfo": {
     "elapsed": 15532,
     "status": "ok",
     "timestamp": 1605649250767,
     "user": {
      "displayName": "Rupali Sharma",
      "photoUrl": "https://lh3.googleusercontent.com/a-/AOh14GiH6obBahOBk5ezQLBEEgw1DvKRo8haEZvXXnQ83ww=s64",
      "userId": "15074179419258593720"
     },
     "user_tz": -60
    },
    "id": "btvkVjkhIxeB",
    "outputId": "b2874819-abb1-4d8f-a1c6-c9361d43f776",
    "scrolled": true
   },
   "outputs": [
    {
     "name": "stdout",
     "output_type": "stream",
     "text": [
      "Dataset: thoracic-surgery\n",
      "Found 13 categorical and 3 numeric features \n",
      "\n"
     ]
    }
   ],
   "source": [
    "dataset = Dataset(\"thoracic-surgery\") ## hill-valley\n",
    "\n",
    "all_data = dataset.all_data\n",
    "attribute_names = dataset.attribute_names\n",
    "attribute_types = dataset.attribute_types\n",
    "\n",
    "categorical_columns = dataset.categorical_columns\n",
    "numerical_columns = dataset.numerical_columns\n",
    "\n",
    "print(f\"Found {len(categorical_columns)} categorical and {len(numerical_columns)} numeric features \\n\")"
   ]
  },
  {
   "cell_type": "markdown",
   "metadata": {
    "id": "8svnusk-Ixe2"
   },
   "source": [
    "### Get training and test sets"
   ]
  },
  {
   "cell_type": "code",
   "execution_count": 3,
   "metadata": {
    "ExecuteTime": {
     "end_time": "2021-03-29T23:56:35.011599Z",
     "start_time": "2021-03-29T23:56:34.994022Z"
    },
    "executionInfo": {
     "elapsed": 15537,
     "status": "ok",
     "timestamp": 1605649250779,
     "user": {
      "displayName": "Rupali Sharma",
      "photoUrl": "https://lh3.googleusercontent.com/a-/AOh14GiH6obBahOBk5ezQLBEEgw1DvKRo8haEZvXXnQ83ww=s64",
      "userId": "15074179419258593720"
     },
     "user_tz": -60
    },
    "id": "773WHs-7Ixe3",
    "scrolled": true
   },
   "outputs": [],
   "source": [
    "train_data, train_labels, test_data, test_labels = dataset.get_train_test_data(0.3)"
   ]
  },
  {
   "cell_type": "code",
   "execution_count": null,
   "metadata": {},
   "outputs": [],
   "source": [
    "########################################"
   ]
  },
  {
   "cell_type": "code",
   "execution_count": 4,
   "metadata": {
    "ExecuteTime": {
     "end_time": "2021-03-23T21:07:26.228995Z",
     "start_time": "2021-03-23T21:07:26.224664Z"
    }
   },
   "outputs": [],
   "source": [
    "## use categorical columns as strings\n",
    "def cat_cols_to_str(df):\n",
    "    for col in df.columns:\n",
    "        if pd.api.types.is_categorical_dtype(df[col]):\n",
    "            df[col] = df[col].astype(str)\n",
    "\n",
    "    return df"
   ]
  },
  {
   "cell_type": "code",
   "execution_count": 5,
   "metadata": {
    "ExecuteTime": {
     "end_time": "2021-03-23T21:07:29.491089Z",
     "start_time": "2021-03-23T21:07:29.482533Z"
    }
   },
   "outputs": [],
   "source": [
    "### if we don't convert the categorical columns to str, the swapping corruption doesn't let us assign new values to the column: \"Cannot setitem on a Categorical with a new category, set the categories first\"\n",
    "train_data = cat_cols_to_str(train_data)\n",
    "test_data = cat_cols_to_str(test_data)"
   ]
  },
  {
   "cell_type": "code",
   "execution_count": null,
   "metadata": {},
   "outputs": [],
   "source": [
    "########################################"
   ]
  },
  {
   "cell_type": "markdown",
   "metadata": {
    "ExecuteTime": {
     "end_time": "2021-03-24T21:25:44.776552Z",
     "start_time": "2021-03-24T21:25:44.772987Z"
    }
   },
   "source": [
    "## Workaround to get the data when OpenML decided not to work :D"
   ]
  },
  {
   "cell_type": "code",
   "execution_count": 2,
   "metadata": {
    "ExecuteTime": {
     "end_time": "2021-03-24T22:03:11.371464Z",
     "start_time": "2021-03-24T22:03:11.345378Z"
    }
   },
   "outputs": [],
   "source": [
    "train_dat = pd.read_csv(\"/home/rupali/Downloads/Hill_Valley_without_noise_Training.data\", sep=\",\")\n",
    "train_data = train_dat.loc[:, train_dat.columns != 'class']\n",
    "train_labels = train_dat[\"class\"]"
   ]
  },
  {
   "cell_type": "code",
   "execution_count": 3,
   "metadata": {
    "ExecuteTime": {
     "end_time": "2021-03-24T22:03:11.418258Z",
     "start_time": "2021-03-24T22:03:11.373983Z"
    }
   },
   "outputs": [],
   "source": [
    "test_dat = pd.read_csv(\"/home/rupali/Downloads/Hill_Valley_without_noise_Testing.data\", sep=\",\")\n",
    "test_data = test_dat.loc[:, test_dat.columns != 'class']\n",
    "test_labels = test_dat[\"class\"]"
   ]
  },
  {
   "cell_type": "code",
   "execution_count": 4,
   "metadata": {
    "ExecuteTime": {
     "end_time": "2021-03-24T22:03:11.442190Z",
     "start_time": "2021-03-24T22:03:11.422400Z"
    }
   },
   "outputs": [
    {
     "name": "stdout",
     "output_type": "stream",
     "text": [
      "Found 0 categorical and 100 numeric features \n",
      "\n"
     ]
    }
   ],
   "source": [
    "categorical_columns = []\n",
    "numerical_columns = []\n",
    "\n",
    "for col in train_data.columns:\n",
    "    if pd.api.types.is_categorical_dtype(train_data[col]):\n",
    "        categorical_columns.append(col)\n",
    "    elif pd.api.types.is_numeric_dtype(train_data[col]):\n",
    "        numerical_columns.append(col)\n",
    "\n",
    "print(f\"Found {len(categorical_columns)} categorical and {len(numerical_columns)} numeric features \\n\")"
   ]
  },
  {
   "cell_type": "markdown",
   "metadata": {
    "id": "LlqGYzOaIxe_"
   },
   "source": [
    "## Defined Model"
   ]
  },
  {
   "cell_type": "code",
   "execution_count": 25,
   "metadata": {
    "ExecuteTime": {
     "end_time": "2021-03-29T23:28:52.691824Z",
     "start_time": "2021-03-29T23:28:52.687410Z"
    },
    "executionInfo": {
     "elapsed": 15545,
     "status": "ok",
     "timestamp": 1605649250795,
     "user": {
      "displayName": "Rupali Sharma",
      "photoUrl": "https://lh3.googleusercontent.com/a-/AOh14GiH6obBahOBk5ezQLBEEgw1DvKRo8haEZvXXnQ83ww=s64",
      "userId": "15074179419258593720"
     },
     "user_tz": -60
    },
    "id": "1AniZHnJZP66"
   },
   "outputs": [],
   "source": [
    "from sklearn.linear_model import SGDClassifier\n",
    "\n",
    "learner = SGDClassifier(loss='log')\n",
    "param_grid = {\n",
    "    'learner__max_iter': [500, 1000, 5000],\n",
    "    'learner__penalty': ['l2', 'l1', 'elasticnet'], \n",
    "    'learner__alpha': [0.0001, 0.001, 0.01, 0.1]\n",
    "}"
   ]
  },
  {
   "cell_type": "markdown",
   "metadata": {
    "id": "bLgN-QerYrcl"
   },
   "source": [
    "## Corruptions using PPP"
   ]
  },
  {
   "cell_type": "code",
   "execution_count": 26,
   "metadata": {
    "ExecuteTime": {
     "end_time": "2021-03-29T23:28:52.722818Z",
     "start_time": "2021-03-29T23:28:52.700605Z"
    },
    "executionInfo": {
     "elapsed": 16053,
     "status": "ok",
     "timestamp": 1605649251308,
     "user": {
      "displayName": "Rupali Sharma",
      "photoUrl": "https://lh3.googleusercontent.com/a-/AOh14GiH6obBahOBk5ezQLBEEgw1DvKRo8haEZvXXnQ83ww=s64",
      "userId": "15074179419258593720"
     },
     "user_tz": -60
    },
    "id": "GabaIbVdZm6o"
   },
   "outputs": [],
   "source": [
    "from jenga.corruptions.generic import MissingValues, SwappedValues, CategoricalShift\n",
    "from jenga.corruptions.numerical import Scaling, GaussianNoise\n",
    "\n",
    "corruptions = [MissingValues, Scaling, GaussianNoise, CategoricalShift]\n",
    "fraction = 0.5\n",
    "num_repetitions = 5"
   ]
  },
  {
   "cell_type": "code",
   "execution_count": 27,
   "metadata": {
    "ExecuteTime": {
     "end_time": "2021-03-29T23:28:58.171545Z",
     "start_time": "2021-03-29T23:28:52.725384Z"
    },
    "colab": {
     "base_uri": "https://localhost:8080/"
    },
    "executionInfo": {
     "elapsed": 20838,
     "status": "ok",
     "timestamp": 1605649256099,
     "user": {
      "displayName": "Rupali Sharma",
      "photoUrl": "https://lh3.googleusercontent.com/a-/AOh14GiH6obBahOBk5ezQLBEEgw1DvKRo8haEZvXXnQ83ww=s64",
      "userId": "15074179419258593720"
     },
     "user_tz": -60
    },
    "id": "x5D_Ma-Pgodt",
    "outputId": "40fbf28d-b789-4347-df19-eb2390a8f960",
    "scrolled": true
   },
   "outputs": [
    {
     "name": "stdout",
     "output_type": "stream",
     "text": [
      "Fitting 5 folds for each of 36 candidates, totalling 180 fits\n",
      "\n",
      "Generating corrupted training data on 141 rows... \n",
      "\n",
      "\tperturbation: MissingValues: {'column': 'V2', 'fraction': 0.5, 'sampling': 'MAR', 'na_value': nan}\n",
      "\tperturbation: Scaling: {'column': 'V3', 'fraction': 0.5, 'sampling': 'MNAR'}\n",
      "\tperturbation: GaussianNoise: {'column': 'V2', 'fraction': 0.5, 'sampling': 'MAR'}\n",
      "\tperturbation: CategoricalShift: {'column': 'V4', 'fraction': 0.5, 'sampling': 'MNAR'}\n",
      "\n",
      "Generating corrupted training data on 141 rows... \n",
      "\n",
      "\tperturbation: MissingValues: {'column': 'V7', 'fraction': 0.5, 'sampling': 'MCAR', 'na_value': nan}\n",
      "\tperturbation: Scaling: {'column': 'V2', 'fraction': 0.5, 'sampling': 'MCAR'}\n",
      "\tperturbation: GaussianNoise: {'column': 'V3', 'fraction': 0.5, 'sampling': 'MNAR'}\n",
      "\tperturbation: CategoricalShift: {'column': 'V11', 'fraction': 0.5, 'sampling': 'MAR'}\n",
      "\n",
      "Generating corrupted training data on 141 rows... \n",
      "\n",
      "\tperturbation: MissingValues: {'column': 'V1', 'fraction': 0.5, 'sampling': 'MAR', 'na_value': nan}\n",
      "\tperturbation: Scaling: {'column': 'V16', 'fraction': 0.5, 'sampling': 'MAR'}\n",
      "\tperturbation: GaussianNoise: {'column': 'V16', 'fraction': 0.5, 'sampling': 'MAR'}\n",
      "\tperturbation: CategoricalShift: {'column': 'V11', 'fraction': 0.5, 'sampling': 'MAR'}\n",
      "\n",
      "Generating corrupted training data on 141 rows... \n",
      "\n",
      "\tperturbation: MissingValues: {'column': 'V9', 'fraction': 0.5, 'sampling': 'MCAR', 'na_value': nan}\n",
      "\tperturbation: Scaling: {'column': 'V2', 'fraction': 0.5, 'sampling': 'MAR'}\n",
      "\tperturbation: GaussianNoise: {'column': 'V3', 'fraction': 0.5, 'sampling': 'MNAR'}\n",
      "\tperturbation: CategoricalShift: {'column': 'V7', 'fraction': 0.5, 'sampling': 'MCAR'}\n",
      "\n",
      "Generating corrupted training data on 141 rows... \n",
      "\n",
      "\tperturbation: MissingValues: {'column': 'V6', 'fraction': 0.5, 'sampling': 'MCAR', 'na_value': nan}\n",
      "\tperturbation: Scaling: {'column': 'V2', 'fraction': 0.5, 'sampling': 'MCAR'}\n",
      "\tperturbation: GaussianNoise: {'column': 'V16', 'fraction': 0.5, 'sampling': 'MNAR'}\n",
      "\tperturbation: CategoricalShift: {'column': 'V4', 'fraction': 0.5, 'sampling': 'MCAR'}\n"
     ]
    }
   ],
   "source": [
    "from jenga.cleaning.ppp import PipelinePerformancePrediction\n",
    "\n",
    "ppp = PipelinePerformancePrediction(train_data, train_labels, test_data, test_labels, categorical_columns, numerical_columns, learner, param_grid)\n",
    "ppp_model = ppp.fit_ppp(train_data)\n",
    "\n",
    "## generate corrpted data\n",
    "for _ in range(num_repetitions):\n",
    "    df_corrupted, perturbations, cols_perturbed, summary_col_corrupt = ppp.get_corrupted(test_data, corruptions, fraction, num_repetitions)"
   ]
  },
  {
   "cell_type": "markdown",
   "metadata": {},
   "source": [
    "## Autogluon model and Corruptions"
   ]
  },
  {
   "cell_type": "code",
   "execution_count": 4,
   "metadata": {
    "ExecuteTime": {
     "end_time": "2021-03-29T23:56:56.570622Z",
     "start_time": "2021-03-29T23:56:56.564484Z"
    },
    "executionInfo": {
     "elapsed": 16053,
     "status": "ok",
     "timestamp": 1605649251308,
     "user": {
      "displayName": "Rupali Sharma",
      "photoUrl": "https://lh3.googleusercontent.com/a-/AOh14GiH6obBahOBk5ezQLBEEgw1DvKRo8haEZvXXnQ83ww=s64",
      "userId": "15074179419258593720"
     },
     "user_tz": -60
    },
    "id": "GabaIbVdZm6o"
   },
   "outputs": [],
   "source": [
    "from jenga.corruptions.generic import MissingValues, SwappedValues, CategoricalShift\n",
    "from jenga.corruptions.numerical import Scaling, GaussianNoise\n",
    "\n",
    "corruptions = [MissingValues, Scaling, GaussianNoise, CategoricalShift]\n",
    "fraction = 0.5\n",
    "num_repetitions = 5"
   ]
  },
  {
   "cell_type": "code",
   "execution_count": 5,
   "metadata": {
    "ExecuteTime": {
     "end_time": "2021-03-29T23:58:16.746431Z",
     "start_time": "2021-03-29T23:56:58.059527Z"
    },
    "colab": {
     "base_uri": "https://localhost:8080/"
    },
    "executionInfo": {
     "elapsed": 20838,
     "status": "ok",
     "timestamp": 1605649256099,
     "user": {
      "displayName": "Rupali Sharma",
      "photoUrl": "https://lh3.googleusercontent.com/a-/AOh14GiH6obBahOBk5ezQLBEEgw1DvKRo8haEZvXXnQ83ww=s64",
      "userId": "15074179419258593720"
     },
     "user_tz": -60
    },
    "id": "x5D_Ma-Pgodt",
    "outputId": "40fbf28d-b789-4347-df19-eb2390a8f960",
    "scrolled": true
   },
   "outputs": [
    {
     "name": "stderr",
     "output_type": "stream",
     "text": [
      "Level 25:autogluon.core.utils.utils:No path specified. Models will be saved in: \"AutogluonModels/ag-20210329_235658/\"\n",
      "INFO:autogluon.tabular.learner.default_learner:Beginning AutoGluon training ...\n",
      "INFO:autogluon.tabular.learner.default_learner:AutoGluon will save models to \"AutogluonModels/ag-20210329_235658/\"\n",
      "INFO:autogluon.tabular.learner.default_learner:AutoGluon Version:  0.1.0\n",
      "INFO:autogluon.tabular.learner.default_learner:Train Data Rows:    329\n",
      "INFO:autogluon.tabular.learner.default_learner:Train Data Columns: 16\n",
      "INFO:autogluon.tabular.learner.default_learner:Preprocessing data ...\n",
      "Level 25:autogluon.core.utils.utils:AutoGluon infers your prediction problem is: 'binary' (because only two unique label-values observed).\n",
      "INFO:autogluon.core.utils.utils:\t2 unique label values:  ['1', '2']\n",
      "Level 25:autogluon.core.utils.utils:\tIf 'binary' is not the correct problem_type, please manually specify the problem_type argument in fit() (You may specify problem_type as one of: ['binary', 'multiclass', 'regression'])\n",
      "INFO:autogluon.core.data.label_cleaner:Selected class <--> label mapping:  class 1 = 2, class 0 = 1\n",
      "INFO:autogluon.core.data.label_cleaner:\tNote: For your binary classification, AutoGluon arbitrarily selected which label-value represents positive (2) vs negative (1) class.\n",
      "\tTo explicitly set the positive_class, either rename classes to 1 and 0, or specify positive_class in Predictor init.\n",
      "INFO:autogluon.tabular.learner.default_learner:Using Feature Generators to preprocess the data ...\n",
      "INFO:autogluon.features.generators.abstract:Fitting AutoMLPipelineFeatureGenerator...\n",
      "INFO:autogluon.features.generators.abstract:\tAvailable Memory:                    2040.09 MB\n",
      "INFO:autogluon.features.generators.abstract:\tTrain Data (Original)  Memory Usage: 0.01 MB (0.0% of available memory)\n",
      "INFO:autogluon.features.generators.abstract:\tInferring data type of each feature based on column values. Set feature_metadata_in to manually specify special dtypes of the features.\n",
      "INFO:autogluon.features.generators.abstract:\tStage 1 Generators:\n",
      "INFO:autogluon.features.generators.abstract:\t\tFitting AsTypeFeatureGenerator...\n",
      "INFO:autogluon.features.generators.abstract:\tStage 2 Generators:\n",
      "INFO:autogluon.features.generators.abstract:\t\tFitting FillNaFeatureGenerator...\n",
      "INFO:autogluon.features.generators.abstract:\tStage 3 Generators:\n",
      "INFO:autogluon.features.generators.abstract:\t\tFitting IdentityFeatureGenerator...\n",
      "INFO:autogluon.features.generators.abstract:\t\tFitting CategoryFeatureGenerator...\n",
      "INFO:autogluon.features.generators.abstract:\t\t\tFitting CategoryMemoryMinimizeFeatureGenerator...\n",
      "INFO:autogluon.features.generators.abstract:\tStage 4 Generators:\n",
      "INFO:autogluon.features.generators.abstract:\t\tFitting DropUniqueFeatureGenerator...\n",
      "INFO:autogluon.features.generators.abstract:\tTypes of features in original data (raw dtype, special dtypes):\n",
      "INFO:autogluon.core.features.feature_metadata:\t\t('category', []) : 13 | ['V1', 'V4', 'V5', 'V6', 'V7', ...]\n",
      "INFO:autogluon.core.features.feature_metadata:\t\t('float', [])    :  3 | ['V2', 'V3', 'V16']\n",
      "INFO:autogluon.features.generators.abstract:\tTypes of features in processed data (raw dtype, special dtypes):\n",
      "INFO:autogluon.core.features.feature_metadata:\t\t('category', []) : 13 | ['V1', 'V4', 'V5', 'V6', 'V7', ...]\n",
      "INFO:autogluon.core.features.feature_metadata:\t\t('float', [])    :  3 | ['V2', 'V3', 'V16']\n",
      "INFO:autogluon.features.generators.abstract:\t0.1s = Fit runtime\n",
      "INFO:autogluon.features.generators.abstract:\t16 features in original data used to generate 16 features in processed data.\n",
      "INFO:autogluon.features.generators.abstract:\tTrain Data (Processed) Memory Usage: 0.01 MB (0.0% of available memory)\n",
      "INFO:autogluon.tabular.learner.default_learner:Data preprocessing and feature engineering runtime = 0.2s ...\n",
      "Level 25:autogluon.tabular.trainer.abstract_trainer:AutoGluon will gauge predictive performance using evaluation metric: 'accuracy'\n",
      "INFO:autogluon.tabular.trainer.abstract_trainer:\tTo change this, specify the eval_metric argument of fit()\n",
      "INFO:autogluon.tabular.trainer.auto_trainer:Automatically generating train/validation split with holdout_frac=0.2, Train Rows: 263, Val Rows: 66\n",
      "INFO:autogluon.tabular.trainer.abstract_trainer:Fitting model: RandomForestGini ...\n",
      "INFO:autogluon.tabular.trainer.abstract_trainer:\t0.8333\t = Validation accuracy score\n",
      "INFO:autogluon.tabular.trainer.abstract_trainer:\t0.75s\t = Training runtime\n",
      "INFO:autogluon.tabular.trainer.abstract_trainer:\t0.09s\t = Validation runtime\n",
      "INFO:autogluon.tabular.trainer.abstract_trainer:Fitting model: RandomForestEntr ...\n",
      "INFO:autogluon.tabular.trainer.abstract_trainer:\t0.8333\t = Validation accuracy score\n",
      "INFO:autogluon.tabular.trainer.abstract_trainer:\t0.75s\t = Training runtime\n",
      "INFO:autogluon.tabular.trainer.abstract_trainer:\t0.1s\t = Validation runtime\n",
      "INFO:autogluon.tabular.trainer.abstract_trainer:Fitting model: ExtraTreesGini ...\n",
      "INFO:autogluon.tabular.trainer.abstract_trainer:\t0.8182\t = Validation accuracy score\n",
      "INFO:autogluon.tabular.trainer.abstract_trainer:\t0.57s\t = Training runtime\n",
      "INFO:autogluon.tabular.trainer.abstract_trainer:\t0.07s\t = Validation runtime\n",
      "INFO:autogluon.tabular.trainer.abstract_trainer:Fitting model: ExtraTreesEntr ...\n",
      "INFO:autogluon.tabular.trainer.abstract_trainer:\t0.8182\t = Validation accuracy score\n",
      "INFO:autogluon.tabular.trainer.abstract_trainer:\t0.44s\t = Training runtime\n",
      "INFO:autogluon.tabular.trainer.abstract_trainer:\t0.07s\t = Validation runtime\n",
      "INFO:autogluon.tabular.trainer.abstract_trainer:Fitting model: KNeighborsUnif ...\n",
      "INFO:autogluon.tabular.trainer.abstract_trainer:\t0.8485\t = Validation accuracy score\n",
      "INFO:autogluon.tabular.trainer.abstract_trainer:\t0.0s\t = Training runtime\n",
      "INFO:autogluon.tabular.trainer.abstract_trainer:\t0.01s\t = Validation runtime\n",
      "INFO:autogluon.tabular.trainer.abstract_trainer:Fitting model: KNeighborsDist ...\n",
      "INFO:autogluon.tabular.trainer.abstract_trainer:\t0.7424\t = Validation accuracy score\n",
      "INFO:autogluon.tabular.trainer.abstract_trainer:\t0.0s\t = Training runtime\n",
      "INFO:autogluon.tabular.trainer.abstract_trainer:\t0.01s\t = Validation runtime\n",
      "INFO:autogluon.tabular.trainer.abstract_trainer:Fitting model: LightGBM ...\n",
      "INFO:autogluon.tabular.trainer.abstract_trainer:\t0.8636\t = Validation accuracy score\n",
      "INFO:autogluon.tabular.trainer.abstract_trainer:\t13.5s\t = Training runtime\n",
      "INFO:autogluon.tabular.trainer.abstract_trainer:\t0.03s\t = Validation runtime\n",
      "INFO:autogluon.tabular.trainer.abstract_trainer:Fitting model: LightGBMXT ...\n",
      "INFO:autogluon.tabular.trainer.abstract_trainer:\t0.8636\t = Validation accuracy score\n",
      "INFO:autogluon.tabular.trainer.abstract_trainer:\t10.68s\t = Training runtime\n",
      "INFO:autogluon.tabular.trainer.abstract_trainer:\t0.04s\t = Validation runtime\n",
      "INFO:autogluon.tabular.trainer.abstract_trainer:Fitting model: CatBoost ...\n",
      "INFO:autogluon.tabular.trainer.abstract_trainer:\t0.8485\t = Validation accuracy score\n",
      "INFO:autogluon.tabular.trainer.abstract_trainer:\t0.53s\t = Training runtime\n",
      "INFO:autogluon.tabular.trainer.abstract_trainer:\t0.02s\t = Validation runtime\n",
      "INFO:autogluon.tabular.trainer.abstract_trainer:Fitting model: XGBoost ...\n",
      "INFO:autogluon.tabular.trainer.abstract_trainer:\t0.8333\t = Validation accuracy score\n",
      "INFO:autogluon.tabular.trainer.abstract_trainer:\t15.6s\t = Training runtime\n",
      "INFO:autogluon.tabular.trainer.abstract_trainer:\t0.02s\t = Validation runtime\n",
      "INFO:autogluon.tabular.trainer.abstract_trainer:Fitting model: NeuralNetMXNet ...\n",
      "ERROR:autogluon.tabular.trainer.abstract_trainer:\tWarning: Exception caused NeuralNetMXNet to fail during training... Skipping this model.\n",
      "ERROR:autogluon.tabular.trainer.abstract_trainer:\t\tlibopenblas.so.0: cannot open shared object file: No such file or directory\n",
      "ERROR:autogluon.tabular.trainer.abstract_trainer:Detailed Traceback:\n",
      "Traceback (most recent call last):\n",
      "  File \"/home/rupali/.local/lib/python3.8/site-packages/autogluon/tabular/trainer/abstract_trainer.py\", line 911, in _train_and_save\n",
      "    model = self._train_single(X, y, model, X_val, y_val, **model_fit_kwargs)\n",
      "  File \"/home/rupali/.local/lib/python3.8/site-packages/autogluon/tabular/trainer/abstract_trainer.py\", line 883, in _train_single\n",
      "    model.fit(X=X, y=y, X_val=X_val, y_val=y_val, **model_fit_kwargs)\n",
      "  File \"/home/rupali/.local/lib/python3.8/site-packages/autogluon/core/models/abstract/abstract_model.py\", line 405, in fit\n",
      "    self._fit(**kwargs)\n",
      "  File \"/home/rupali/.local/lib/python3.8/site-packages/autogluon/tabular/models/tabular_nn/tabular_nn_model.py\", line 177, in _fit\n",
      "    try_import_mxnet()\n",
      "  File \"/home/rupali/.local/lib/python3.8/site-packages/autogluon/core/utils/try_import.py\", line 29, in try_import_mxnet\n",
      "    import mxnet as mx\n",
      "  File \"/home/rupali/.local/lib/python3.8/site-packages/mxnet/__init__.py\", line 23, in <module>\n",
      "    from .context import Context, current_context, cpu, gpu, cpu_pinned\n",
      "  File \"/home/rupali/.local/lib/python3.8/site-packages/mxnet/context.py\", line 23, in <module>\n",
      "    from .base import classproperty, with_metaclass, _MXClassPropertyMetaClass\n",
      "  File \"/home/rupali/.local/lib/python3.8/site-packages/mxnet/base.py\", line 351, in <module>\n",
      "    _LIB = _load_lib()\n",
      "  File \"/home/rupali/.local/lib/python3.8/site-packages/mxnet/base.py\", line 342, in _load_lib\n",
      "    lib = ctypes.CDLL(lib_path[0], ctypes.RTLD_LOCAL)\n",
      "  File \"/usr/lib/python3.8/ctypes/__init__.py\", line 373, in __init__\n",
      "    self._handle = _dlopen(self._name, mode)\n",
      "OSError: libopenblas.so.0: cannot open shared object file: No such file or directory\n"
     ]
    },
    {
     "name": "stderr",
     "output_type": "stream",
     "text": [
      "INFO:autogluon.tabular.trainer.abstract_trainer:Fitting model: NeuralNetFastAI ...\n"
     ]
    },
    {
     "name": "stdout",
     "output_type": "stream",
     "text": [
      "█\r"
     ]
    },
    {
     "name": "stderr",
     "output_type": "stream",
     "text": [
      "INFO:autogluon.tabular.trainer.abstract_trainer:\t0.8485\t = Validation accuracy score\n",
      "INFO:autogluon.tabular.trainer.abstract_trainer:\t6.96s\t = Training runtime\n",
      "INFO:autogluon.tabular.trainer.abstract_trainer:\t0.12s\t = Validation runtime\n",
      "INFO:autogluon.tabular.trainer.abstract_trainer:Fitting model: LightGBMLarge ...\n",
      "INFO:autogluon.tabular.trainer.abstract_trainer:\t0.8485\t = Validation accuracy score\n",
      "INFO:autogluon.tabular.trainer.abstract_trainer:\t25.84s\t = Training runtime\n",
      "INFO:autogluon.tabular.trainer.abstract_trainer:\t0.04s\t = Validation runtime\n"
     ]
    },
    {
     "name": "stdout",
     "output_type": "stream",
     "text": [
      "█\r"
     ]
    },
    {
     "name": "stderr",
     "output_type": "stream",
     "text": [
      "INFO:autogluon.tabular.trainer.abstract_trainer:Fitting model: WeightedEnsemble_L2 ...\n",
      "INFO:autogluon.tabular.trainer.abstract_trainer:\t0.8636\t = Validation accuracy score\n",
      "INFO:autogluon.tabular.trainer.abstract_trainer:\t0.52s\t = Training runtime\n",
      "INFO:autogluon.tabular.trainer.abstract_trainer:\t0.0s\t = Validation runtime\n",
      "INFO:autogluon.tabular.learner.default_learner:AutoGluon training complete, total runtime = 77.99s ...\n",
      "INFO:root:TabularPredictor saved. To load, use: predictor = TabularPredictor.load(\"AutogluonModels/ag-20210329_235658/\")\n"
     ]
    },
    {
     "name": "stdout",
     "output_type": "stream",
     "text": [
      "\n",
      "Generating corrupted training data on 141 rows... \n",
      "\n",
      "\tperturbation: MissingValues: {'column': 'V13', 'fraction': 0.5, 'sampling': 'MAR', 'na_value': nan}\n",
      "\tperturbation: Scaling: {'column': 'V3', 'fraction': 0.5, 'sampling': 'MCAR'}\n",
      "\tperturbation: GaussianNoise: {'column': 'V3', 'fraction': 0.5, 'sampling': 'MNAR'}\n",
      "\tperturbation: CategoricalShift: {'column': 'V10', 'fraction': 0.5, 'sampling': 'MAR'}\n",
      "\n",
      "Generating corrupted training data on 141 rows... \n",
      "\n",
      "\tperturbation: MissingValues: {'column': 'V6', 'fraction': 0.5, 'sampling': 'MAR', 'na_value': nan}\n",
      "\tperturbation: Scaling: {'column': 'V2', 'fraction': 0.5, 'sampling': 'MNAR'}\n",
      "\tperturbation: GaussianNoise: {'column': 'V2', 'fraction': 0.5, 'sampling': 'MAR'}\n",
      "\tperturbation: CategoricalShift: {'column': 'V15', 'fraction': 0.5, 'sampling': 'MNAR'}\n",
      "\n",
      "Generating corrupted training data on 141 rows... \n",
      "\n",
      "\tperturbation: MissingValues: {'column': 'V4', 'fraction': 0.5, 'sampling': 'MAR', 'na_value': nan}\n",
      "\tperturbation: Scaling: {'column': 'V2', 'fraction': 0.5, 'sampling': 'MAR'}\n",
      "\tperturbation: GaussianNoise: {'column': 'V2', 'fraction': 0.5, 'sampling': 'MNAR'}\n",
      "\tperturbation: CategoricalShift: {'column': 'V8', 'fraction': 0.5, 'sampling': 'MNAR'}\n",
      "\n",
      "Generating corrupted training data on 141 rows... \n",
      "\n",
      "\tperturbation: MissingValues: {'column': 'V1', 'fraction': 0.5, 'sampling': 'MAR', 'na_value': nan}\n",
      "\tperturbation: Scaling: {'column': 'V3', 'fraction': 0.5, 'sampling': 'MAR'}\n",
      "\tperturbation: GaussianNoise: {'column': 'V16', 'fraction': 0.5, 'sampling': 'MAR'}\n",
      "\tperturbation: CategoricalShift: {'column': 'V11', 'fraction': 0.5, 'sampling': 'MCAR'}\n",
      "\n",
      "Generating corrupted training data on 141 rows... \n",
      "\n",
      "\tperturbation: MissingValues: {'column': 'V14', 'fraction': 0.5, 'sampling': 'MAR', 'na_value': nan}\n",
      "\tperturbation: Scaling: {'column': 'V3', 'fraction': 0.5, 'sampling': 'MNAR'}\n",
      "\tperturbation: GaussianNoise: {'column': 'V16', 'fraction': 0.5, 'sampling': 'MCAR'}\n",
      "\tperturbation: CategoricalShift: {'column': 'V14', 'fraction': 0.5, 'sampling': 'MCAR'}\n"
     ]
    }
   ],
   "source": [
    "from jenga.cleaning.ppp import PipelinePerformancePrediction\n",
    "\n",
    "ppp = PipelinePerformancePrediction(train_data, train_labels, test_data, test_labels, categorical_columns, numerical_columns)\n",
    "ppp_model = ppp.fit_ppp(train_data)\n",
    "train_data = train_data.loc[:, train_data.columns != 'class']\n",
    "\n",
    "## generate corrpted data\n",
    "for _ in range(num_repetitions):\n",
    "    df_corrupted, perturbations, cols_perturbed, summary_col_corrupt = ppp.get_corrupted(test_data, corruptions, fraction, num_repetitions)"
   ]
  },
  {
   "cell_type": "markdown",
   "metadata": {
    "id": "AjsysJeNIxgD"
   },
   "source": [
    "## Cleaning"
   ]
  },
  {
   "cell_type": "markdown",
   "metadata": {},
   "source": [
    "### PPP Cleaning"
   ]
  },
  {
   "cell_type": "code",
   "execution_count": 7,
   "metadata": {
    "ExecuteTime": {
     "end_time": "2021-03-28T19:33:59.096108Z",
     "start_time": "2021-03-28T19:33:58.280198Z"
    }
   },
   "outputs": [
    {
     "name": "stderr",
     "output_type": "stream",
     "text": [
      "/home/rupali/.local/lib/python3.8/site-packages/ipykernel/ipkernel.py:283: DeprecationWarning: `should_run_async` will not call `transform_cell` automatically in the future. Please pass the result to `transformed_cell` argument and any exception that happen during thetransform in `preprocessing_exc_tuple` in IPython 7.17 and above.\n",
      "  and should_run_async(code)\n"
     ]
    }
   ],
   "source": [
    "from jenga.cleaning.outlier_detection import NoOutlierDetection, PyODKNNOutlierDetection, PyODIsolationForestOutlierDetection, PyODPCAOutlierDetection, PyODCBLOFOutlierDetection, PyODSOSOutlierDetection, SklearnOutlierDetection\n",
    "from jenga.cleaning.imputation import MeanModeImputation, SklearnImputation\n",
    "\n",
    "cleaners = []\n",
    "for od in [NoOutlierDetection, PyODKNNOutlierDetection, PyODIsolationForestOutlierDetection, PyODPCAOutlierDetection, PyODCBLOFOutlierDetection, PyODSOSOutlierDetection, SklearnOutlierDetection]:\n",
    "    for imp in [MeanModeImputation, SklearnImputation]:\n",
    "        cleaners.append((od, imp))"
   ]
  },
  {
   "cell_type": "code",
   "execution_count": 8,
   "metadata": {
    "ExecuteTime": {
     "end_time": "2021-03-28T19:40:35.110290Z",
     "start_time": "2021-03-28T19:33:59.098119Z"
    },
    "scrolled": true
   },
   "outputs": [
    {
     "name": "stdout",
     "output_type": "stream",
     "text": [
      "\n",
      "Applying cleaners... \n",
      "\n",
      "PPP score no cleaning: {'roc_auc_score': 0.5296551724137931, 'classification_report': {'1': {'precision': 0.0, 'recall': 0.0, 'f1-score': 0.0, 'support': 25}, '2': {'precision': 0.8226950354609929, 'recall': 1.0, 'f1-score': 0.9027237354085603, 'support': 116}, 'accuracy': 0.8226950354609929, 'macro avg': {'precision': 0.41134751773049644, 'recall': 0.5, 'f1-score': 0.45136186770428016, 'support': 141}, 'weighted avg': {'precision': 0.6768271213721644, 'recall': 0.8226950354609929, 'f1-score': 0.7426663355134255, 'support': 141}}}\n",
      "PPP scores with cleaning: \n",
      "\n",
      "Outlier detection method: NoOutlierDetection, Outlier Detection Score: {'Precision': 0.3820921985815603, 'Recall': 0.625, 'F1-score': 0.4420597484276729, 'Accuracy': 0.5141843971631206}\n",
      "Imputation method: MeanModeImputation, Imputation Score: {'Precision': 1.0, 'Recall': 1.0, 'F1-score': 1.0, 'Accuracy': 1.0, 'Mean Squared Error': 18550.73912934639}\n",
      "Cleaner: (NoOutlierDetection, MeanModeImputation): {'roc_auc_score': 0.5296551724137931, 'classification_report': {'1': {'precision': 0.0, 'recall': 0.0, 'f1-score': 0.0, 'support': 25}, '2': {'precision': 0.8226950354609929, 'recall': 1.0, 'f1-score': 0.9027237354085603, 'support': 116}, 'accuracy': 0.8226950354609929, 'macro avg': {'precision': 0.41134751773049644, 'recall': 0.5, 'f1-score': 0.45136186770428016, 'support': 141}, 'weighted avg': {'precision': 0.6768271213721644, 'recall': 0.8226950354609929, 'f1-score': 0.7426663355134255, 'support': 141}}}\n"
     ]
    },
    {
     "name": "stderr",
     "output_type": "stream",
     "text": [
      "/home/rupali/.local/lib/python3.8/site-packages/sklearn/metrics/_classification.py:1245: UndefinedMetricWarning: Precision and F-score are ill-defined and being set to 0.0 in labels with no predicted samples. Use `zero_division` parameter to control this behavior.\n",
      "  _warn_prf(average, modifier, msg_start, len(result))\n",
      "/home/rupali/.local/lib/python3.8/site-packages/sklearn/metrics/_classification.py:1245: UndefinedMetricWarning: Precision and F-score are ill-defined and being set to 0.0 in labels with no predicted samples. Use `zero_division` parameter to control this behavior.\n",
      "  _warn_prf(average, modifier, msg_start, len(result))\n",
      "/home/rupali/.local/lib/python3.8/site-packages/sklearn/metrics/_classification.py:1245: UndefinedMetricWarning: Precision and F-score are ill-defined and being set to 0.0 in labels with no predicted samples. Use `zero_division` parameter to control this behavior.\n",
      "  _warn_prf(average, modifier, msg_start, len(result))\n",
      "/home/rupali/.local/lib/python3.8/site-packages/sklearn/metrics/_classification.py:1245: UndefinedMetricWarning: Precision and F-score are ill-defined and being set to 0.0 in labels with no predicted samples. Use `zero_division` parameter to control this behavior.\n",
      "  _warn_prf(average, modifier, msg_start, len(result))\n",
      "/home/rupali/.local/lib/python3.8/site-packages/sklearn/metrics/_classification.py:1245: UndefinedMetricWarning: Precision and F-score are ill-defined and being set to 0.0 in labels with no predicted samples. Use `zero_division` parameter to control this behavior.\n",
      "  _warn_prf(average, modifier, msg_start, len(result))\n",
      "/home/rupali/.local/lib/python3.8/site-packages/sklearn/metrics/_classification.py:1245: UndefinedMetricWarning: Precision and F-score are ill-defined and being set to 0.0 in labels with no predicted samples. Use `zero_division` parameter to control this behavior.\n",
      "  _warn_prf(average, modifier, msg_start, len(result))\n",
      "/home/rupali/.local/lib/python3.8/site-packages/sklearn/metrics/_classification.py:1245: UndefinedMetricWarning: Precision and F-score are ill-defined and being set to 0.0 in labels with no predicted samples. Use `zero_division` parameter to control this behavior.\n",
      "  _warn_prf(average, modifier, msg_start, len(result))\n",
      "/home/rupali/.local/lib/python3.8/site-packages/sklearn/metrics/_classification.py:1245: UndefinedMetricWarning: Precision and F-score are ill-defined and being set to 0.0 in labels with no predicted samples. Use `zero_division` parameter to control this behavior.\n",
      "  _warn_prf(average, modifier, msg_start, len(result))\n",
      "/home/rupali/.local/lib/python3.8/site-packages/sklearn/metrics/_classification.py:1245: UndefinedMetricWarning: Precision and F-score are ill-defined and being set to 0.0 in labels with no predicted samples. Use `zero_division` parameter to control this behavior.\n",
      "  _warn_prf(average, modifier, msg_start, len(result))\n",
      "/home/rupali/.local/lib/python3.8/site-packages/sklearn/metrics/_classification.py:1245: UndefinedMetricWarning: Precision and F-score are ill-defined and being set to 0.0 in labels with no predicted samples. Use `zero_division` parameter to control this behavior.\n",
      "  _warn_prf(average, modifier, msg_start, len(result))\n",
      "/home/rupali/.local/lib/python3.8/site-packages/sklearn/metrics/_classification.py:1245: UndefinedMetricWarning: Precision and F-score are ill-defined and being set to 0.0 in labels with no predicted samples. Use `zero_division` parameter to control this behavior.\n",
      "  _warn_prf(average, modifier, msg_start, len(result))\n",
      "/home/rupali/.local/lib/python3.8/site-packages/sklearn/metrics/_classification.py:1245: UndefinedMetricWarning: Precision and F-score are ill-defined and being set to 0.0 in labels with no predicted samples. Use `zero_division` parameter to control this behavior.\n",
      "  _warn_prf(average, modifier, msg_start, len(result))\n",
      "/home/rupali/.local/lib/python3.8/site-packages/sklearn/metrics/_classification.py:1245: UndefinedMetricWarning: Precision and F-score are ill-defined and being set to 0.0 in labels with no predicted samples. Use `zero_division` parameter to control this behavior.\n",
      "  _warn_prf(average, modifier, msg_start, len(result))\n",
      "/home/rupali/.local/lib/python3.8/site-packages/sklearn/metrics/_classification.py:1245: UndefinedMetricWarning: Precision and F-score are ill-defined and being set to 0.0 in labels with no predicted samples. Use `zero_division` parameter to control this behavior.\n",
      "  _warn_prf(average, modifier, msg_start, len(result))\n",
      "/home/rupali/.local/lib/python3.8/site-packages/sklearn/metrics/_classification.py:1245: UndefinedMetricWarning: Precision and F-score are ill-defined and being set to 0.0 in labels with no predicted samples. Use `zero_division` parameter to control this behavior.\n",
      "  _warn_prf(average, modifier, msg_start, len(result))\n"
     ]
    },
    {
     "name": "stdout",
     "output_type": "stream",
     "text": [
      "Classifier for col: V1 reached 0.7566504742077261\n",
      "Classifier for col: V4 reached 0.8366007402266944\n",
      "Classifier for col: V5 reached 0.9353747397640527\n",
      "Classifier for col: V6 reached 0.8707494795281054\n",
      "Classifier for col: V7 reached 0.9353458246588018\n",
      "Classifier for col: V8 reached 0.8593280129539671\n",
      "Classifier for col: V9 reached 0.8859588248901227\n",
      "Classifier for col: V10 reached 0.5627457783946334\n",
      "Classifier for col: V11 reached 0.9049560490400185\n"
     ]
    },
    {
     "name": "stderr",
     "output_type": "stream",
     "text": [
      "/home/rupali/.local/lib/python3.8/site-packages/sklearn/model_selection/_split.py:666: UserWarning: The least populated class in y has only 1 members, which is less than n_splits=2.\n",
      "  warnings.warn((\"The least populated class in y has only %d\"\n",
      "/home/rupali/.local/lib/python3.8/site-packages/sklearn/model_selection/_search.py:918: UserWarning: One or more of the test scores are non-finite: [nan nan nan nan]\n",
      "  warnings.warn(\n"
     ]
    },
    {
     "name": "stdout",
     "output_type": "stream",
     "text": [
      "Classifier for col: V12 reached nan\n",
      "Classifier for col: V13 reached 0.9810316909553551\n",
      "Classifier for col: V14 reached 0.8327261161230627\n"
     ]
    },
    {
     "name": "stderr",
     "output_type": "stream",
     "text": [
      "/home/rupali/.local/lib/python3.8/site-packages/sklearn/model_selection/_split.py:666: UserWarning: The least populated class in y has only 1 members, which is less than n_splits=2.\n",
      "  warnings.warn((\"The least populated class in y has only %d\"\n",
      "/home/rupali/.local/lib/python3.8/site-packages/sklearn/model_selection/_search.py:918: UserWarning: One or more of the test scores are non-finite: [nan nan nan nan]\n",
      "  warnings.warn(\n"
     ]
    },
    {
     "name": "stdout",
     "output_type": "stream",
     "text": [
      "Classifier for col: V15 reached nan\n",
      "Regressor for col: V2/lower reached 0.44675368521124464\n",
      "Regressor for col: V2/median reached 0.7223907307596247\n",
      "Regressor for col: V2/upper reached 0.3427183910249776\n",
      "Regressor for col: V3/lower reached -0.04843796995165872\n",
      "Regressor for col: V3/median reached -0.20572382105944897\n",
      "Regressor for col: V3/upper reached -0.6129723677073518\n",
      "Regressor for col: V16/lower reached -0.9265095919483806\n",
      "Regressor for col: V16/median reached 0.06423017668243425\n",
      "Regressor for col: V16/upper reached -0.8791508076800824\n",
      "Imputed 70 values in column V3\n",
      "\n",
      "Outlier detection method: NoOutlierDetection, Outlier Detection Score: {'Precision': 0.3820921985815603, 'Recall': 0.625, 'F1-score': 0.4420597484276729, 'Accuracy': 0.5141843971631206}\n",
      "Imputation method: SklearnImputation, Imputation Score: {'Precision': 1.0, 'Recall': 1.0, 'F1-score': 1.0, 'Accuracy': 1.0, 'Mean Squared Error': 18549.73120580779}\n",
      "Cleaner: (NoOutlierDetection, SklearnImputation): {'roc_auc_score': 0.5296551724137931, 'classification_report': {'1': {'precision': 0.0, 'recall': 0.0, 'f1-score': 0.0, 'support': 25}, '2': {'precision': 0.8226950354609929, 'recall': 1.0, 'f1-score': 0.9027237354085603, 'support': 116}, 'accuracy': 0.8226950354609929, 'macro avg': {'precision': 0.41134751773049644, 'recall': 0.5, 'f1-score': 0.45136186770428016, 'support': 141}, 'weighted avg': {'precision': 0.6768271213721644, 'recall': 0.8226950354609929, 'f1-score': 0.7426663355134255, 'support': 141}}}\n"
     ]
    },
    {
     "name": "stderr",
     "output_type": "stream",
     "text": [
      "/home/rupali/.local/lib/python3.8/site-packages/sklearn/metrics/_classification.py:1245: UndefinedMetricWarning: Precision and F-score are ill-defined and being set to 0.0 in labels with no predicted samples. Use `zero_division` parameter to control this behavior.\n",
      "  _warn_prf(average, modifier, msg_start, len(result))\n",
      "/home/rupali/.local/lib/python3.8/site-packages/sklearn/metrics/_classification.py:1245: UndefinedMetricWarning: Precision and F-score are ill-defined and being set to 0.0 in labels with no predicted samples. Use `zero_division` parameter to control this behavior.\n",
      "  _warn_prf(average, modifier, msg_start, len(result))\n",
      "/home/rupali/.local/lib/python3.8/site-packages/sklearn/metrics/_classification.py:1245: UndefinedMetricWarning: Precision and F-score are ill-defined and being set to 0.0 in labels with no predicted samples. Use `zero_division` parameter to control this behavior.\n",
      "  _warn_prf(average, modifier, msg_start, len(result))\n",
      "/home/rupali/.local/lib/python3.8/site-packages/sklearn/metrics/_classification.py:1245: UndefinedMetricWarning: Precision and F-score are ill-defined and being set to 0.0 in labels with no predicted samples. Use `zero_division` parameter to control this behavior.\n",
      "  _warn_prf(average, modifier, msg_start, len(result))\n",
      "/home/rupali/.local/lib/python3.8/site-packages/sklearn/metrics/_classification.py:1245: UndefinedMetricWarning: Precision and F-score are ill-defined and being set to 0.0 in labels with no predicted samples. Use `zero_division` parameter to control this behavior.\n",
      "  _warn_prf(average, modifier, msg_start, len(result))\n",
      "/home/rupali/.local/lib/python3.8/site-packages/sklearn/metrics/_classification.py:1245: UndefinedMetricWarning: Precision and F-score are ill-defined and being set to 0.0 in labels with no predicted samples. Use `zero_division` parameter to control this behavior.\n",
      "  _warn_prf(average, modifier, msg_start, len(result))\n",
      "/home/rupali/.local/lib/python3.8/site-packages/sklearn/metrics/_classification.py:1245: UndefinedMetricWarning: Precision and F-score are ill-defined and being set to 0.0 in labels with no predicted samples. Use `zero_division` parameter to control this behavior.\n",
      "  _warn_prf(average, modifier, msg_start, len(result))\n",
      "/home/rupali/.local/lib/python3.8/site-packages/sklearn/metrics/_classification.py:1245: UndefinedMetricWarning: Precision and F-score are ill-defined and being set to 0.0 in labels with no predicted samples. Use `zero_division` parameter to control this behavior.\n",
      "  _warn_prf(average, modifier, msg_start, len(result))\n",
      "/home/rupali/.local/lib/python3.8/site-packages/sklearn/metrics/_classification.py:1245: UndefinedMetricWarning: Precision and F-score are ill-defined and being set to 0.0 in labels with no predicted samples. Use `zero_division` parameter to control this behavior.\n",
      "  _warn_prf(average, modifier, msg_start, len(result))\n",
      "/home/rupali/.local/lib/python3.8/site-packages/sklearn/metrics/_classification.py:1245: UndefinedMetricWarning: Precision and F-score are ill-defined and being set to 0.0 in labels with no predicted samples. Use `zero_division` parameter to control this behavior.\n",
      "  _warn_prf(average, modifier, msg_start, len(result))\n",
      "/home/rupali/.local/lib/python3.8/site-packages/sklearn/metrics/_classification.py:1245: UndefinedMetricWarning: Precision and F-score are ill-defined and being set to 0.0 in labels with no predicted samples. Use `zero_division` parameter to control this behavior.\n",
      "  _warn_prf(average, modifier, msg_start, len(result))\n",
      "/home/rupali/.local/lib/python3.8/site-packages/sklearn/metrics/_classification.py:1245: UndefinedMetricWarning: Precision and F-score are ill-defined and being set to 0.0 in labels with no predicted samples. Use `zero_division` parameter to control this behavior.\n",
      "  _warn_prf(average, modifier, msg_start, len(result))\n"
     ]
    },
    {
     "name": "stdout",
     "output_type": "stream",
     "text": [
      "\n",
      "Outlier detection method: PyODKNNOutlierDetection, Outlier Detection Score: {'Precision': 0.9727483164983165, 'Recall': 0.9491560979754848, 'F1-score': 0.9591521350324168, 'Accuracy': 0.9680851063829787}\n",
      "Imputation method: MeanModeImputation, Imputation Score: {'Precision': 1.0, 'Recall': 1.0, 'F1-score': 1.0, 'Accuracy': 1.0, 'Mean Squared Error': 119.87937630597219}\n",
      "Cleaner: (PyODKNNOutlierDetection, MeanModeImputation): {'roc_auc_score': 0.5344827586206897, 'classification_report': {'1': {'precision': 0.0, 'recall': 0.0, 'f1-score': 0.0, 'support': 25}, '2': {'precision': 0.8226950354609929, 'recall': 1.0, 'f1-score': 0.9027237354085603, 'support': 116}, 'accuracy': 0.8226950354609929, 'macro avg': {'precision': 0.41134751773049644, 'recall': 0.5, 'f1-score': 0.45136186770428016, 'support': 141}, 'weighted avg': {'precision': 0.6768271213721644, 'recall': 0.8226950354609929, 'f1-score': 0.7426663355134255, 'support': 141}}}\n"
     ]
    },
    {
     "name": "stderr",
     "output_type": "stream",
     "text": [
      "/home/rupali/.local/lib/python3.8/site-packages/sklearn/metrics/_classification.py:1245: UndefinedMetricWarning: Precision and F-score are ill-defined and being set to 0.0 in labels with no predicted samples. Use `zero_division` parameter to control this behavior.\n",
      "  _warn_prf(average, modifier, msg_start, len(result))\n",
      "/home/rupali/.local/lib/python3.8/site-packages/sklearn/metrics/_classification.py:1245: UndefinedMetricWarning: Precision and F-score are ill-defined and being set to 0.0 in labels with no predicted samples. Use `zero_division` parameter to control this behavior.\n",
      "  _warn_prf(average, modifier, msg_start, len(result))\n",
      "/home/rupali/.local/lib/python3.8/site-packages/sklearn/metrics/_classification.py:1245: UndefinedMetricWarning: Precision and F-score are ill-defined and being set to 0.0 in labels with no predicted samples. Use `zero_division` parameter to control this behavior.\n",
      "  _warn_prf(average, modifier, msg_start, len(result))\n"
     ]
    },
    {
     "name": "stdout",
     "output_type": "stream",
     "text": [
      "Classifier for col: V1 reached 0.722414989590562\n",
      "Classifier for col: V4 reached 0.8821709461022438\n",
      "Classifier for col: V5 reached 0.9315290307656721\n",
      "Classifier for col: V6 reached 0.8897467036780013\n",
      "Classifier for col: V7 reached 0.9467672912329401\n",
      "Classifier for col: V8 reached 0.8898912792042564\n",
      "Classifier for col: V9 reached 0.8251214434420542\n",
      "Classifier for col: V10 reached 0.5780129539671524\n",
      "Classifier for col: V11 reached 0.9125028915105251\n",
      "Classifier for col: V12 reached 0.9772148970622253\n",
      "Classifier for col: V13 reached 0.9619766365949572\n",
      "Classifier for col: V14 reached 0.8099988433957899\n",
      "Classifier for col: V15 reached 0.9771570668517233\n",
      "Regressor for col: V2/lower reached 0.348812953881798\n",
      "Regressor for col: V2/median reached 0.6871147192044527\n",
      "Regressor for col: V2/upper reached 0.36724678057645005\n",
      "Regressor for col: V3/lower reached -0.043337382334488805\n",
      "Regressor for col: V3/median reached -0.1793003568533842\n",
      "Regressor for col: V3/upper reached -0.49846630350875787\n",
      "Regressor for col: V16/lower reached -1.0428490432137436\n",
      "Regressor for col: V16/median reached 0.08073479097356218\n",
      "Regressor for col: V16/upper reached -0.866296336134335\n",
      "Imputed 1 values in column V1\n",
      "Imputed 72 values in column V2\n",
      "Imputed 108 values in column V3\n",
      "Imputed 5 values in column V16\n",
      "\n",
      "Outlier detection method: PyODKNNOutlierDetection, Outlier Detection Score: {'Precision': 0.9727483164983165, 'Recall': 0.9491560979754848, 'F1-score': 0.9591521350324168, 'Accuracy': 0.9680851063829787}\n",
      "Imputation method: SklearnImputation, Imputation Score: {'Precision': 1.0, 'Recall': 1.0, 'F1-score': 1.0, 'Accuracy': 1.0, 'Mean Squared Error': 125.15486439646624}\n",
      "Cleaner: (PyODKNNOutlierDetection, SklearnImputation): {'roc_auc_score': 0.5344827586206897, 'classification_report': {'1': {'precision': 0.0, 'recall': 0.0, 'f1-score': 0.0, 'support': 25}, '2': {'precision': 0.8226950354609929, 'recall': 1.0, 'f1-score': 0.9027237354085603, 'support': 116}, 'accuracy': 0.8226950354609929, 'macro avg': {'precision': 0.41134751773049644, 'recall': 0.5, 'f1-score': 0.45136186770428016, 'support': 141}, 'weighted avg': {'precision': 0.6768271213721644, 'recall': 0.8226950354609929, 'f1-score': 0.7426663355134255, 'support': 141}}}\n"
     ]
    },
    {
     "name": "stderr",
     "output_type": "stream",
     "text": [
      "/home/rupali/.local/lib/python3.8/site-packages/sklearn/metrics/_classification.py:1245: UndefinedMetricWarning: Precision and F-score are ill-defined and being set to 0.0 in labels with no predicted samples. Use `zero_division` parameter to control this behavior.\n",
      "  _warn_prf(average, modifier, msg_start, len(result))\n",
      "/home/rupali/.local/lib/python3.8/site-packages/sklearn/metrics/_classification.py:1245: UndefinedMetricWarning: Precision and F-score are ill-defined and being set to 0.0 in labels with no predicted samples. Use `zero_division` parameter to control this behavior.\n",
      "  _warn_prf(average, modifier, msg_start, len(result))\n",
      "/home/rupali/.local/lib/python3.8/site-packages/sklearn/metrics/_classification.py:1245: UndefinedMetricWarning: Precision and F-score are ill-defined and being set to 0.0 in labels with no predicted samples. Use `zero_division` parameter to control this behavior.\n",
      "  _warn_prf(average, modifier, msg_start, len(result))\n"
     ]
    },
    {
     "name": "stdout",
     "output_type": "stream",
     "text": [
      "\n",
      "Outlier detection method: PyODIsolationForestOutlierDetection, Outlier Detection Score: {'Precision': 0.9394163016568273, 'Recall': 0.8639851932105453, 'F1-score': 0.8830560027782539, 'Accuracy': 0.9095744680851063}\n",
      "Imputation method: MeanModeImputation, Imputation Score: {'Precision': 1.0, 'Recall': 1.0, 'F1-score': 1.0, 'Accuracy': 1.0, 'Mean Squared Error': 120.07675182512894}\n",
      "Cleaner: (PyODIsolationForestOutlierDetection, MeanModeImputation): {'roc_auc_score': 0.5344827586206897, 'classification_report': {'1': {'precision': 0.0, 'recall': 0.0, 'f1-score': 0.0, 'support': 25}, '2': {'precision': 0.8226950354609929, 'recall': 1.0, 'f1-score': 0.9027237354085603, 'support': 116}, 'accuracy': 0.8226950354609929, 'macro avg': {'precision': 0.41134751773049644, 'recall': 0.5, 'f1-score': 0.45136186770428016, 'support': 141}, 'weighted avg': {'precision': 0.6768271213721644, 'recall': 0.8226950354609929, 'f1-score': 0.7426663355134255, 'support': 141}}}\n"
     ]
    },
    {
     "name": "stderr",
     "output_type": "stream",
     "text": [
      "/home/rupali/.local/lib/python3.8/site-packages/sklearn/metrics/_classification.py:1245: UndefinedMetricWarning: Precision and F-score are ill-defined and being set to 0.0 in labels with no predicted samples. Use `zero_division` parameter to control this behavior.\n",
      "  _warn_prf(average, modifier, msg_start, len(result))\n",
      "/home/rupali/.local/lib/python3.8/site-packages/sklearn/metrics/_classification.py:1245: UndefinedMetricWarning: Precision and F-score are ill-defined and being set to 0.0 in labels with no predicted samples. Use `zero_division` parameter to control this behavior.\n",
      "  _warn_prf(average, modifier, msg_start, len(result))\n",
      "/home/rupali/.local/lib/python3.8/site-packages/sklearn/metrics/_classification.py:1245: UndefinedMetricWarning: Precision and F-score are ill-defined and being set to 0.0 in labels with no predicted samples. Use `zero_division` parameter to control this behavior.\n",
      "  _warn_prf(average, modifier, msg_start, len(result))\n",
      "/home/rupali/.local/lib/python3.8/site-packages/sklearn/model_selection/_split.py:666: UserWarning: The least populated class in y has only 1 members, which is less than n_splits=2.\n",
      "  warnings.warn((\"The least populated class in y has only %d\"\n"
     ]
    },
    {
     "name": "stdout",
     "output_type": "stream",
     "text": [
      "Classifier for col: V1 reached 0.7490747166319686\n",
      "Classifier for col: V4 reached 0.8517233402729586\n",
      "Classifier for col: V5 reached 0.9391337034466806\n",
      "Classifier for col: V6 reached 0.8593280129539671\n",
      "Classifier for col: V7 reached 0.9391337034466806\n",
      "Classifier for col: V8 reached 0.8935056673606292\n",
      "Classifier for col: V9 reached 0.8479065463798288\n",
      "Classifier for col: V10 reached 0.4904291001619246\n",
      "Classifier for col: V11 reached 0.9048982188295165\n",
      "Classifier for col: V12 reached 0.9848195697432338\n",
      "Classifier for col: V13 reached 0.9772148970622253\n",
      "Classifier for col: V14 reached 0.8060374739764053\n",
      "Classifier for col: V15 reached 0.9809449456396021\n",
      "Regressor for col: V2/lower reached 0.504553992116114\n",
      "Regressor for col: V2/median reached 0.7239167228875762\n",
      "Regressor for col: V2/upper reached 0.3794068925569461\n",
      "Regressor for col: V3/lower reached -0.05001235592710829\n",
      "Regressor for col: V3/median reached -0.26788256099233343\n",
      "Regressor for col: V3/upper reached -0.49174385677619603\n",
      "Regressor for col: V16/lower reached -1.2017373321531595\n",
      "Regressor for col: V16/median reached 0.041505133359103885\n",
      "Regressor for col: V16/upper reached -1.2356876772012328\n",
      "Imputed 1 values in column V1\n",
      "Imputed 89 values in column V2\n",
      "Imputed 118 values in column V3\n",
      "Imputed 38 values in column V16\n",
      "\n",
      "Outlier detection method: PyODIsolationForestOutlierDetection, Outlier Detection Score: {'Precision': 0.9394163016568273, 'Recall': 0.8639851932105453, 'F1-score': 0.8830560027782539, 'Accuracy': 0.9095744680851063}\n",
      "Imputation method: SklearnImputation, Imputation Score: {'Precision': 1.0, 'Recall': 1.0, 'F1-score': 1.0, 'Accuracy': 1.0, 'Mean Squared Error': 116.82302195800116}\n",
      "Cleaner: (PyODIsolationForestOutlierDetection, SklearnImputation): {'roc_auc_score': 0.5344827586206897, 'classification_report': {'1': {'precision': 0.0, 'recall': 0.0, 'f1-score': 0.0, 'support': 25}, '2': {'precision': 0.8226950354609929, 'recall': 1.0, 'f1-score': 0.9027237354085603, 'support': 116}, 'accuracy': 0.8226950354609929, 'macro avg': {'precision': 0.41134751773049644, 'recall': 0.5, 'f1-score': 0.45136186770428016, 'support': 141}, 'weighted avg': {'precision': 0.6768271213721644, 'recall': 0.8226950354609929, 'f1-score': 0.7426663355134255, 'support': 141}}}\n"
     ]
    },
    {
     "name": "stderr",
     "output_type": "stream",
     "text": [
      "/home/rupali/.local/lib/python3.8/site-packages/sklearn/metrics/_classification.py:1245: UndefinedMetricWarning: Precision and F-score are ill-defined and being set to 0.0 in labels with no predicted samples. Use `zero_division` parameter to control this behavior.\n",
      "  _warn_prf(average, modifier, msg_start, len(result))\n",
      "/home/rupali/.local/lib/python3.8/site-packages/sklearn/metrics/_classification.py:1245: UndefinedMetricWarning: Precision and F-score are ill-defined and being set to 0.0 in labels with no predicted samples. Use `zero_division` parameter to control this behavior.\n",
      "  _warn_prf(average, modifier, msg_start, len(result))\n",
      "/home/rupali/.local/lib/python3.8/site-packages/sklearn/metrics/_classification.py:1245: UndefinedMetricWarning: Precision and F-score are ill-defined and being set to 0.0 in labels with no predicted samples. Use `zero_division` parameter to control this behavior.\n",
      "  _warn_prf(average, modifier, msg_start, len(result))\n"
     ]
    },
    {
     "name": "stdout",
     "output_type": "stream",
     "text": [
      "\n",
      "Outlier detection method: PyODPCAOutlierDetection, Outlier Detection Score: {'Precision': 0.8487892657606403, 'Recall': 0.8334448622352516, 'F1-score': 0.8373024075980097, 'Accuracy': 0.8687943262411348}\n",
      "Imputation method: MeanModeImputation, Imputation Score: {'Precision': 1.0, 'Recall': 1.0, 'F1-score': 1.0, 'Accuracy': 1.0, 'Mean Squared Error': 128.99206237805606}\n",
      "Cleaner: (PyODPCAOutlierDetection, MeanModeImputation): {'roc_auc_score': 0.5344827586206897, 'classification_report': {'1': {'precision': 0.0, 'recall': 0.0, 'f1-score': 0.0, 'support': 25}, '2': {'precision': 0.8226950354609929, 'recall': 1.0, 'f1-score': 0.9027237354085603, 'support': 116}, 'accuracy': 0.8226950354609929, 'macro avg': {'precision': 0.41134751773049644, 'recall': 0.5, 'f1-score': 0.45136186770428016, 'support': 141}, 'weighted avg': {'precision': 0.6768271213721644, 'recall': 0.8226950354609929, 'f1-score': 0.7426663355134255, 'support': 141}}}\n"
     ]
    },
    {
     "name": "stderr",
     "output_type": "stream",
     "text": [
      "/home/rupali/.local/lib/python3.8/site-packages/sklearn/metrics/_classification.py:1245: UndefinedMetricWarning: Precision and F-score are ill-defined and being set to 0.0 in labels with no predicted samples. Use `zero_division` parameter to control this behavior.\n",
      "  _warn_prf(average, modifier, msg_start, len(result))\n",
      "/home/rupali/.local/lib/python3.8/site-packages/sklearn/metrics/_classification.py:1245: UndefinedMetricWarning: Precision and F-score are ill-defined and being set to 0.0 in labels with no predicted samples. Use `zero_division` parameter to control this behavior.\n",
      "  _warn_prf(average, modifier, msg_start, len(result))\n",
      "/home/rupali/.local/lib/python3.8/site-packages/sklearn/metrics/_classification.py:1245: UndefinedMetricWarning: Precision and F-score are ill-defined and being set to 0.0 in labels with no predicted samples. Use `zero_division` parameter to control this behavior.\n",
      "  _warn_prf(average, modifier, msg_start, len(result))\n",
      "/home/rupali/.local/lib/python3.8/site-packages/sklearn/model_selection/_split.py:666: UserWarning: The least populated class in y has only 1 members, which is less than n_splits=2.\n",
      "  warnings.warn((\"The least populated class in y has only %d\"\n"
     ]
    },
    {
     "name": "stdout",
     "output_type": "stream",
     "text": [
      "Classifier for col: V1 reached 0.7110513532269258\n",
      "Classifier for col: V4 reached 0.8668459403192228\n",
      "Classifier for col: V5 reached 0.9391626185519315\n",
      "Classifier for col: V6 reached 0.8783830673143651\n",
      "Classifier for col: V7 reached 0.9391626185519315\n",
      "Classifier for col: V8 reached 0.8897177885727504\n",
      "Classifier for col: V9 reached 0.8859877399953735\n",
      "Classifier for col: V10 reached 0.47906546379828824\n",
      "Classifier for col: V11 reached 0.9126185519315291\n",
      "Classifier for col: V12 reached 0.9733113578533426\n",
      "Classifier for col: V13 reached 0.9772148970622253\n",
      "Classifier for col: V14 reached 0.7947605829285218\n",
      "Classifier for col: V15 reached 0.965735600277585\n",
      "Regressor for col: V2/lower reached 0.24756508020546242\n",
      "Regressor for col: V2/median reached 0.7253744780286588\n",
      "Regressor for col: V2/upper reached 0.3269325861114751\n",
      "Regressor for col: V3/lower reached -0.04665650972328017\n",
      "Regressor for col: V3/median reached -0.02103980018250695\n",
      "Regressor for col: V3/upper reached -0.4443154689683736\n",
      "Regressor for col: V16/lower reached -1.1178907146974948\n",
      "Regressor for col: V16/median reached 0.027215993237370895\n",
      "Regressor for col: V16/upper reached -1.135910476488075\n",
      "Imputed 1 values in column V1\n",
      "Imputed 86 values in column V2\n",
      "Imputed 107 values in column V3\n",
      "Imputed 36 values in column V16\n",
      "\n",
      "Outlier detection method: PyODPCAOutlierDetection, Outlier Detection Score: {'Precision': 0.8487892657606403, 'Recall': 0.8334448622352516, 'F1-score': 0.8373024075980097, 'Accuracy': 0.8687943262411348}\n",
      "Imputation method: SklearnImputation, Imputation Score: {'Precision': 1.0, 'Recall': 1.0, 'F1-score': 1.0, 'Accuracy': 1.0, 'Mean Squared Error': 133.4438059602518}\n",
      "Cleaner: (PyODPCAOutlierDetection, SklearnImputation): {'roc_auc_score': 0.5344827586206897, 'classification_report': {'1': {'precision': 0.0, 'recall': 0.0, 'f1-score': 0.0, 'support': 25}, '2': {'precision': 0.8226950354609929, 'recall': 1.0, 'f1-score': 0.9027237354085603, 'support': 116}, 'accuracy': 0.8226950354609929, 'macro avg': {'precision': 0.41134751773049644, 'recall': 0.5, 'f1-score': 0.45136186770428016, 'support': 141}, 'weighted avg': {'precision': 0.6768271213721644, 'recall': 0.8226950354609929, 'f1-score': 0.7426663355134255, 'support': 141}}}\n"
     ]
    },
    {
     "name": "stderr",
     "output_type": "stream",
     "text": [
      "/home/rupali/.local/lib/python3.8/site-packages/sklearn/metrics/_classification.py:1245: UndefinedMetricWarning: Precision and F-score are ill-defined and being set to 0.0 in labels with no predicted samples. Use `zero_division` parameter to control this behavior.\n",
      "  _warn_prf(average, modifier, msg_start, len(result))\n",
      "/home/rupali/.local/lib/python3.8/site-packages/sklearn/metrics/_classification.py:1245: UndefinedMetricWarning: Precision and F-score are ill-defined and being set to 0.0 in labels with no predicted samples. Use `zero_division` parameter to control this behavior.\n",
      "  _warn_prf(average, modifier, msg_start, len(result))\n",
      "/home/rupali/.local/lib/python3.8/site-packages/sklearn/metrics/_classification.py:1245: UndefinedMetricWarning: Precision and F-score are ill-defined and being set to 0.0 in labels with no predicted samples. Use `zero_division` parameter to control this behavior.\n",
      "  _warn_prf(average, modifier, msg_start, len(result))\n",
      "/home/rupali/.local/lib/python3.8/site-packages/sklearn/cluster/_kmeans.py:792: FutureWarning: 'n_jobs' was deprecated in version 0.23 and will be removed in 1.0 (renaming of 0.25).\n",
      "  warnings.warn(\"'n_jobs' was deprecated in version 0.23 and will be\"\n",
      "/home/rupali/.local/lib/python3.8/site-packages/sklearn/cluster/_kmeans.py:792: FutureWarning: 'n_jobs' was deprecated in version 0.23 and will be removed in 1.0 (renaming of 0.25).\n",
      "  warnings.warn(\"'n_jobs' was deprecated in version 0.23 and will be\"\n",
      "/home/rupali/.local/lib/python3.8/site-packages/sklearn/cluster/_kmeans.py:792: FutureWarning: 'n_jobs' was deprecated in version 0.23 and will be removed in 1.0 (renaming of 0.25).\n",
      "  warnings.warn(\"'n_jobs' was deprecated in version 0.23 and will be\"\n"
     ]
    },
    {
     "name": "stdout",
     "output_type": "stream",
     "text": [
      "\n",
      "Outlier detection method: PyODCBLOFOutlierDetection, Outlier Detection Score: {'Precision': 0.9343816509577378, 'Recall': 0.876115289019183, 'F1-score': 0.8926409186974724, 'Accuracy': 0.9148936170212766}\n",
      "Imputation method: MeanModeImputation, Imputation Score: {'Precision': 1.0, 'Recall': 1.0, 'F1-score': 1.0, 'Accuracy': 1.0, 'Mean Squared Error': 120.00844941100793}\n",
      "Cleaner: (PyODCBLOFOutlierDetection, MeanModeImputation): {'roc_auc_score': 0.5344827586206897, 'classification_report': {'1': {'precision': 0.0, 'recall': 0.0, 'f1-score': 0.0, 'support': 25}, '2': {'precision': 0.8226950354609929, 'recall': 1.0, 'f1-score': 0.9027237354085603, 'support': 116}, 'accuracy': 0.8226950354609929, 'macro avg': {'precision': 0.41134751773049644, 'recall': 0.5, 'f1-score': 0.45136186770428016, 'support': 141}, 'weighted avg': {'precision': 0.6768271213721644, 'recall': 0.8226950354609929, 'f1-score': 0.7426663355134255, 'support': 141}}}\n"
     ]
    },
    {
     "name": "stderr",
     "output_type": "stream",
     "text": [
      "/home/rupali/.local/lib/python3.8/site-packages/sklearn/metrics/_classification.py:1245: UndefinedMetricWarning: Precision and F-score are ill-defined and being set to 0.0 in labels with no predicted samples. Use `zero_division` parameter to control this behavior.\n",
      "  _warn_prf(average, modifier, msg_start, len(result))\n",
      "/home/rupali/.local/lib/python3.8/site-packages/sklearn/metrics/_classification.py:1245: UndefinedMetricWarning: Precision and F-score are ill-defined and being set to 0.0 in labels with no predicted samples. Use `zero_division` parameter to control this behavior.\n",
      "  _warn_prf(average, modifier, msg_start, len(result))\n",
      "/home/rupali/.local/lib/python3.8/site-packages/sklearn/metrics/_classification.py:1245: UndefinedMetricWarning: Precision and F-score are ill-defined and being set to 0.0 in labels with no predicted samples. Use `zero_division` parameter to control this behavior.\n",
      "  _warn_prf(average, modifier, msg_start, len(result))\n",
      "/home/rupali/.local/lib/python3.8/site-packages/sklearn/cluster/_kmeans.py:792: FutureWarning: 'n_jobs' was deprecated in version 0.23 and will be removed in 1.0 (renaming of 0.25).\n",
      "  warnings.warn(\"'n_jobs' was deprecated in version 0.23 and will be\"\n",
      "/home/rupali/.local/lib/python3.8/site-packages/sklearn/cluster/_kmeans.py:792: FutureWarning: 'n_jobs' was deprecated in version 0.23 and will be removed in 1.0 (renaming of 0.25).\n",
      "  warnings.warn(\"'n_jobs' was deprecated in version 0.23 and will be\"\n",
      "/home/rupali/.local/lib/python3.8/site-packages/sklearn/cluster/_kmeans.py:792: FutureWarning: 'n_jobs' was deprecated in version 0.23 and will be removed in 1.0 (renaming of 0.25).\n",
      "  warnings.warn(\"'n_jobs' was deprecated in version 0.23 and will be\"\n",
      "/home/rupali/.local/lib/python3.8/site-packages/sklearn/model_selection/_split.py:666: UserWarning: The least populated class in y has only 1 members, which is less than n_splits=2.\n",
      "  warnings.warn((\"The least populated class in y has only %d\"\n"
     ]
    },
    {
     "name": "stdout",
     "output_type": "stream",
     "text": [
      "Classifier for col: V1 reached 0.7185403654869305\n",
      "Classifier for col: V4 reached 0.8555112190608374\n",
      "Classifier for col: V5 reached 0.9505840851260698\n",
      "Classifier for col: V6 reached 0.8745373583159843\n",
      "Classifier for col: V7 reached 0.9315290307656721\n",
      "Classifier for col: V8 reached 0.8897467036780013\n",
      "Classifier for col: V9 reached 0.8668459403192228\n",
      "Classifier for col: V10 reached 0.4714318760120287\n",
      "Classifier for col: V11 reached 0.9087728429331483\n",
      "Classifier for col: V12 reached 0.9733113578533426\n",
      "Classifier for col: V13 reached 0.9733981031690955\n",
      "Classifier for col: V14 reached 0.8516944251677077\n",
      "Classifier for col: V15 reached 0.9695813092759658\n",
      "Regressor for col: V2/lower reached 0.4431330748004406\n",
      "Regressor for col: V2/median reached 0.6421632487193891\n",
      "Regressor for col: V2/upper reached 0.29164426940860105\n",
      "Regressor for col: V3/lower reached -0.0387037284152838\n",
      "Regressor for col: V3/median reached -0.08159151718284785\n",
      "Regressor for col: V3/upper reached -0.28930755120698465\n",
      "Regressor for col: V16/lower reached -1.015993099416808\n",
      "Regressor for col: V16/median reached 0.03839077078157821\n",
      "Regressor for col: V16/upper reached -0.9888048464561732\n",
      "Imputed 1 values in column V1\n",
      "Imputed 83 values in column V2\n",
      "Imputed 115 values in column V3\n",
      "Imputed 36 values in column V16\n",
      "\n",
      "Outlier detection method: PyODCBLOFOutlierDetection, Outlier Detection Score: {'Precision': 0.9403715195229077, 'Recall': 0.8849181059205915, 'F1-score': 0.901808772059423, 'Accuracy': 0.9237588652482269}\n",
      "Imputation method: SklearnImputation, Imputation Score: {'Precision': 1.0, 'Recall': 1.0, 'F1-score': 1.0, 'Accuracy': 1.0, 'Mean Squared Error': 125.44303184485977}\n",
      "Cleaner: (PyODCBLOFOutlierDetection, SklearnImputation): {'roc_auc_score': 0.5344827586206897, 'classification_report': {'1': {'precision': 0.0, 'recall': 0.0, 'f1-score': 0.0, 'support': 25}, '2': {'precision': 0.8226950354609929, 'recall': 1.0, 'f1-score': 0.9027237354085603, 'support': 116}, 'accuracy': 0.8226950354609929, 'macro avg': {'precision': 0.41134751773049644, 'recall': 0.5, 'f1-score': 0.45136186770428016, 'support': 141}, 'weighted avg': {'precision': 0.6768271213721644, 'recall': 0.8226950354609929, 'f1-score': 0.7426663355134255, 'support': 141}}}\n"
     ]
    },
    {
     "name": "stderr",
     "output_type": "stream",
     "text": [
      "/home/rupali/.local/lib/python3.8/site-packages/sklearn/metrics/_classification.py:1245: UndefinedMetricWarning: Precision and F-score are ill-defined and being set to 0.0 in labels with no predicted samples. Use `zero_division` parameter to control this behavior.\n",
      "  _warn_prf(average, modifier, msg_start, len(result))\n",
      "/home/rupali/.local/lib/python3.8/site-packages/sklearn/metrics/_classification.py:1245: UndefinedMetricWarning: Precision and F-score are ill-defined and being set to 0.0 in labels with no predicted samples. Use `zero_division` parameter to control this behavior.\n",
      "  _warn_prf(average, modifier, msg_start, len(result))\n",
      "/home/rupali/.local/lib/python3.8/site-packages/sklearn/metrics/_classification.py:1245: UndefinedMetricWarning: Precision and F-score are ill-defined and being set to 0.0 in labels with no predicted samples. Use `zero_division` parameter to control this behavior.\n",
      "  _warn_prf(average, modifier, msg_start, len(result))\n",
      "/home/rupali/.local/lib/python3.8/site-packages/sklearn/metrics/_classification.py:1245: UndefinedMetricWarning: Precision and F-score are ill-defined and being set to 0.0 in labels with no predicted samples. Use `zero_division` parameter to control this behavior.\n",
      "  _warn_prf(average, modifier, msg_start, len(result))\n",
      "/home/rupali/.local/lib/python3.8/site-packages/sklearn/metrics/_classification.py:1245: UndefinedMetricWarning: Precision and F-score are ill-defined and being set to 0.0 in labels with no predicted samples. Use `zero_division` parameter to control this behavior.\n",
      "  _warn_prf(average, modifier, msg_start, len(result))\n",
      "/home/rupali/.local/lib/python3.8/site-packages/sklearn/metrics/_classification.py:1245: UndefinedMetricWarning: Precision and F-score are ill-defined and being set to 0.0 in labels with no predicted samples. Use `zero_division` parameter to control this behavior.\n",
      "  _warn_prf(average, modifier, msg_start, len(result))\n"
     ]
    },
    {
     "name": "stdout",
     "output_type": "stream",
     "text": [
      "\n",
      "Outlier detection method: PyODSOSOutlierDetection, Outlier Detection Score: {'Precision': 0.7002672060733194, 'Recall': 0.7965686274509804, 'F1-score': 0.7144875144600902, 'Accuracy': 0.7624113475177305}\n",
      "Imputation method: MeanModeImputation, Imputation Score: {'Precision': 1.0, 'Recall': 1.0, 'F1-score': 1.0, 'Accuracy': 1.0, 'Mean Squared Error': 18550.73912934639}\n",
      "Cleaner: (PyODSOSOutlierDetection, MeanModeImputation): {'roc_auc_score': 0.5344827586206897, 'classification_report': {'1': {'precision': 0.0, 'recall': 0.0, 'f1-score': 0.0, 'support': 25}, '2': {'precision': 0.8226950354609929, 'recall': 1.0, 'f1-score': 0.9027237354085603, 'support': 116}, 'accuracy': 0.8226950354609929, 'macro avg': {'precision': 0.41134751773049644, 'recall': 0.5, 'f1-score': 0.45136186770428016, 'support': 141}, 'weighted avg': {'precision': 0.6768271213721644, 'recall': 0.8226950354609929, 'f1-score': 0.7426663355134255, 'support': 141}}}\n"
     ]
    },
    {
     "name": "stderr",
     "output_type": "stream",
     "text": [
      "/home/rupali/.local/lib/python3.8/site-packages/sklearn/metrics/_classification.py:1245: UndefinedMetricWarning: Precision and F-score are ill-defined and being set to 0.0 in labels with no predicted samples. Use `zero_division` parameter to control this behavior.\n",
      "  _warn_prf(average, modifier, msg_start, len(result))\n",
      "/home/rupali/.local/lib/python3.8/site-packages/sklearn/metrics/_classification.py:1245: UndefinedMetricWarning: Precision and F-score are ill-defined and being set to 0.0 in labels with no predicted samples. Use `zero_division` parameter to control this behavior.\n",
      "  _warn_prf(average, modifier, msg_start, len(result))\n",
      "/home/rupali/.local/lib/python3.8/site-packages/sklearn/metrics/_classification.py:1245: UndefinedMetricWarning: Precision and F-score are ill-defined and being set to 0.0 in labels with no predicted samples. Use `zero_division` parameter to control this behavior.\n",
      "  _warn_prf(average, modifier, msg_start, len(result))\n",
      "/home/rupali/.local/lib/python3.8/site-packages/sklearn/model_selection/_split.py:666: UserWarning: The least populated class in y has only 1 members, which is less than n_splits=2.\n",
      "  warnings.warn((\"The least populated class in y has only %d\"\n"
     ]
    },
    {
     "name": "stdout",
     "output_type": "stream",
     "text": [
      "Classifier for col: V1 reached 0.7376532500578302\n",
      "Classifier for col: V4 reached 0.8707494795281054\n",
      "Classifier for col: V5 reached 0.9277989821882952\n",
      "Classifier for col: V6 reached 0.8707205644228545\n",
      "Classifier for col: V7 reached 0.9239821882951653\n",
      "Classifier for col: V8 reached 0.8592412676382142\n",
      "Classifier for col: V9 reached 0.8859009946796206\n",
      "Classifier for col: V10 reached 0.53235600277585\n",
      "Classifier for col: V11 reached 0.9277700670830442\n"
     ]
    },
    {
     "name": "stderr",
     "output_type": "stream",
     "text": [
      "/home/rupali/.local/lib/python3.8/site-packages/sklearn/model_selection/_split.py:666: UserWarning: The least populated class in y has only 1 members, which is less than n_splits=2.\n",
      "  warnings.warn((\"The least populated class in y has only %d\"\n",
      "/home/rupali/.local/lib/python3.8/site-packages/sklearn/model_selection/_search.py:918: UserWarning: One or more of the test scores are non-finite: [nan nan nan nan]\n",
      "  warnings.warn(\n"
     ]
    },
    {
     "name": "stdout",
     "output_type": "stream",
     "text": [
      "Classifier for col: V12 reached nan\n",
      "Classifier for col: V13 reached 0.965793430488087\n",
      "Classifier for col: V14 reached 0.8326972010178118\n"
     ]
    },
    {
     "name": "stderr",
     "output_type": "stream",
     "text": [
      "/home/rupali/.local/lib/python3.8/site-packages/sklearn/model_selection/_split.py:666: UserWarning: The least populated class in y has only 1 members, which is less than n_splits=2.\n",
      "  warnings.warn((\"The least populated class in y has only %d\"\n",
      "/home/rupali/.local/lib/python3.8/site-packages/sklearn/model_selection/_search.py:918: UserWarning: One or more of the test scores are non-finite: [nan nan nan nan]\n",
      "  warnings.warn(\n"
     ]
    },
    {
     "name": "stdout",
     "output_type": "stream",
     "text": [
      "Classifier for col: V15 reached nan\n",
      "Regressor for col: V2/lower reached 0.36219275573702414\n",
      "Regressor for col: V2/median reached 0.6541725250478418\n",
      "Regressor for col: V2/upper reached 0.24420021928087454\n",
      "Regressor for col: V3/lower reached -0.053373342261620826\n",
      "Regressor for col: V3/median reached -0.0322924228235133\n",
      "Regressor for col: V3/upper reached -0.28532899297879455\n",
      "Regressor for col: V16/lower reached -1.0209216540721855\n",
      "Regressor for col: V16/median reached -0.016487188260698615\n",
      "Regressor for col: V16/upper reached -1.100179363294596\n",
      "Imputed 1 values in column V1\n",
      "Imputed 70 values in column V3\n",
      "\n",
      "Outlier detection method: PyODSOSOutlierDetection, Outlier Detection Score: {'Precision': 0.7002672060733194, 'Recall': 0.7965686274509804, 'F1-score': 0.7144875144600902, 'Accuracy': 0.7624113475177305}\n",
      "Imputation method: SklearnImputation, Imputation Score: {'Precision': 1.0, 'Recall': 1.0, 'F1-score': 1.0, 'Accuracy': 1.0, 'Mean Squared Error': 18549.740260882474}\n",
      "Cleaner: (PyODSOSOutlierDetection, SklearnImputation): {'roc_auc_score': 0.5344827586206897, 'classification_report': {'1': {'precision': 0.0, 'recall': 0.0, 'f1-score': 0.0, 'support': 25}, '2': {'precision': 0.8226950354609929, 'recall': 1.0, 'f1-score': 0.9027237354085603, 'support': 116}, 'accuracy': 0.8226950354609929, 'macro avg': {'precision': 0.41134751773049644, 'recall': 0.5, 'f1-score': 0.45136186770428016, 'support': 141}, 'weighted avg': {'precision': 0.6768271213721644, 'recall': 0.8226950354609929, 'f1-score': 0.7426663355134255, 'support': 141}}}\n"
     ]
    },
    {
     "name": "stderr",
     "output_type": "stream",
     "text": [
      "/home/rupali/.local/lib/python3.8/site-packages/sklearn/metrics/_classification.py:1245: UndefinedMetricWarning: Precision and F-score are ill-defined and being set to 0.0 in labels with no predicted samples. Use `zero_division` parameter to control this behavior.\n",
      "  _warn_prf(average, modifier, msg_start, len(result))\n",
      "/home/rupali/.local/lib/python3.8/site-packages/sklearn/metrics/_classification.py:1245: UndefinedMetricWarning: Precision and F-score are ill-defined and being set to 0.0 in labels with no predicted samples. Use `zero_division` parameter to control this behavior.\n",
      "  _warn_prf(average, modifier, msg_start, len(result))\n",
      "/home/rupali/.local/lib/python3.8/site-packages/sklearn/metrics/_classification.py:1245: UndefinedMetricWarning: Precision and F-score are ill-defined and being set to 0.0 in labels with no predicted samples. Use `zero_division` parameter to control this behavior.\n",
      "  _warn_prf(average, modifier, msg_start, len(result))\n",
      "/home/rupali/.local/lib/python3.8/site-packages/sklearn/metrics/_classification.py:1245: UndefinedMetricWarning: Precision and F-score are ill-defined and being set to 0.0 in labels with no predicted samples. Use `zero_division` parameter to control this behavior.\n",
      "  _warn_prf(average, modifier, msg_start, len(result))\n",
      "/home/rupali/.local/lib/python3.8/site-packages/sklearn/metrics/_classification.py:1245: UndefinedMetricWarning: Precision and F-score are ill-defined and being set to 0.0 in labels with no predicted samples. Use `zero_division` parameter to control this behavior.\n",
      "  _warn_prf(average, modifier, msg_start, len(result))\n",
      "/home/rupali/.local/lib/python3.8/site-packages/sklearn/metrics/_classification.py:1245: UndefinedMetricWarning: Precision and F-score are ill-defined and being set to 0.0 in labels with no predicted samples. Use `zero_division` parameter to control this behavior.\n",
      "  _warn_prf(average, modifier, msg_start, len(result))\n",
      "/home/rupali/.local/lib/python3.8/site-packages/sklearn/model_selection/_split.py:666: UserWarning: The least populated class in y has only 1 members, which is less than n_splits=2.\n",
      "  warnings.warn((\"The least populated class in y has only %d\"\n"
     ]
    },
    {
     "name": "stdout",
     "output_type": "stream",
     "text": [
      "Classifier for col: V1 reached 0.7034466805459172\n",
      "Classifier for col: V4 reached 0.8669616007402268\n",
      "Classifier for col: V5 reached 0.9467672912329401\n",
      "Classifier for col: V6 reached 0.878325237103863\n",
      "Classifier for col: V7 reached 0.9544008790191997\n",
      "Classifier for col: V8 reached 0.8669616007402268\n",
      "Classifier for col: V9 reached 0.878325237103863\n",
      "Classifier for col: V10 reached 0.5435750636132315\n",
      "Classifier for col: V11 reached 0.9201653944020356\n"
     ]
    },
    {
     "name": "stderr",
     "output_type": "stream",
     "text": [
      "/home/rupali/.local/lib/python3.8/site-packages/sklearn/model_selection/_split.py:666: UserWarning: The least populated class in y has only 1 members, which is less than n_splits=2.\n",
      "  warnings.warn((\"The least populated class in y has only %d\"\n",
      "/home/rupali/.local/lib/python3.8/site-packages/sklearn/model_selection/_search.py:918: UserWarning: One or more of the test scores are non-finite: [nan nan nan nan]\n",
      "  warnings.warn(\n"
     ]
    },
    {
     "name": "stdout",
     "output_type": "stream",
     "text": [
      "Classifier for col: V12 reached nan\n",
      "Classifier for col: V13 reached 0.965851260698589\n",
      "Classifier for col: V14 reached 0.7871269951422624\n"
     ]
    },
    {
     "name": "stderr",
     "output_type": "stream",
     "text": [
      "/home/rupali/.local/lib/python3.8/site-packages/sklearn/model_selection/_split.py:666: UserWarning: The least populated class in y has only 1 members, which is less than n_splits=2.\n",
      "  warnings.warn((\"The least populated class in y has only %d\"\n",
      "/home/rupali/.local/lib/python3.8/site-packages/sklearn/model_selection/_search.py:918: UserWarning: One or more of the test scores are non-finite: [nan nan nan nan]\n",
      "  warnings.warn(\n"
     ]
    },
    {
     "name": "stdout",
     "output_type": "stream",
     "text": [
      "Classifier for col: V15 reached nan\n",
      "Regressor for col: V2/lower reached 0.33025873038401526\n",
      "Regressor for col: V2/median reached 0.6852165841632885\n",
      "Regressor for col: V2/upper reached 0.3907910361684365\n",
      "Regressor for col: V3/lower reached -0.05339651594567074\n",
      "Regressor for col: V3/median reached -0.10634095298641744\n",
      "Regressor for col: V3/upper reached -0.0944474019087791\n",
      "Regressor for col: V16/lower reached -1.1784814767710294\n",
      "Regressor for col: V16/median reached 0.019883366718124018\n",
      "Regressor for col: V16/upper reached -1.0672507435512983\n",
      "Column V1 contained 0 nans before, now 72\n",
      "Column V4 contained 0 nans before, now 0\n",
      "Column V5 contained 0 nans before, now 0\n",
      "Column V6 contained 0 nans before, now 0\n",
      "Column V7 contained 0 nans before, now 0\n",
      "Column V8 contained 0 nans before, now 25\n",
      "Column V9 contained 0 nans before, now 0\n",
      "Column V10 contained 0 nans before, now 0\n",
      "Column V11 contained 0 nans before, now 0\n",
      "Column V12 contained 0 nans before, now 3\n",
      "Column V13 contained 0 nans before, now 3\n",
      "Column V14 contained 0 nans before, now 0\n",
      "Column V15 contained 0 nans before, now 0\n",
      "Column V2 contained 0 nans before, now 97\n",
      "Column V3 contained 70 nans before, now 120\n",
      "Column V16 contained 0 nans before, now 43\n"
     ]
    },
    {
     "name": "stderr",
     "output_type": "stream",
     "text": [
      "/home/rupali/.local/lib/python3.8/site-packages/sklearn/metrics/_classification.py:1245: UndefinedMetricWarning: Recall and F-score are ill-defined and being set to 0.0 in labels with no true samples. Use `zero_division` parameter to control this behavior.\n",
      "  _warn_prf(average, modifier, msg_start, len(result))\n",
      "/home/rupali/.local/lib/python3.8/site-packages/sklearn/metrics/_classification.py:1245: UndefinedMetricWarning: Recall and F-score are ill-defined and being set to 0.0 in labels with no true samples. Use `zero_division` parameter to control this behavior.\n",
      "  _warn_prf(average, modifier, msg_start, len(result))\n",
      "/home/rupali/.local/lib/python3.8/site-packages/sklearn/metrics/_classification.py:1245: UndefinedMetricWarning: Recall and F-score are ill-defined and being set to 0.0 in labels with no true samples. Use `zero_division` parameter to control this behavior.\n",
      "  _warn_prf(average, modifier, msg_start, len(result))\n",
      "/home/rupali/.local/lib/python3.8/site-packages/sklearn/metrics/_classification.py:1245: UndefinedMetricWarning: Precision and F-score are ill-defined and being set to 0.0 in labels with no predicted samples. Use `zero_division` parameter to control this behavior.\n",
      "  _warn_prf(average, modifier, msg_start, len(result))\n",
      "/home/rupali/.local/lib/python3.8/site-packages/sklearn/metrics/_classification.py:1245: UndefinedMetricWarning: Precision and F-score are ill-defined and being set to 0.0 in labels with no predicted samples. Use `zero_division` parameter to control this behavior.\n",
      "  _warn_prf(average, modifier, msg_start, len(result))\n",
      "/home/rupali/.local/lib/python3.8/site-packages/sklearn/metrics/_classification.py:1245: UndefinedMetricWarning: Precision and F-score are ill-defined and being set to 0.0 in labels with no predicted samples. Use `zero_division` parameter to control this behavior.\n",
      "  _warn_prf(average, modifier, msg_start, len(result))\n"
     ]
    },
    {
     "name": "stdout",
     "output_type": "stream",
     "text": [
      "\n",
      "Outlier detection method: SklearnOutlierDetection, Outlier Detection Score: {'Precision': 0.788718090328915, 'Recall': 0.7005593620772806, 'F1-score': 0.7182426511973589, 'Accuracy': 0.8758865248226949}\n",
      "Imputation method: MeanModeImputation, Imputation Score: {'Precision': 1.0, 'Recall': 1.0, 'F1-score': 1.0, 'Accuracy': 1.0, 'Mean Squared Error': 120.3754383193766}\n",
      "Cleaner: (SklearnOutlierDetection, MeanModeImputation): {'roc_auc_score': 0.5439655172413792, 'classification_report': {'1': {'precision': 0.0, 'recall': 0.0, 'f1-score': 0.0, 'support': 25}, '2': {'precision': 0.8226950354609929, 'recall': 1.0, 'f1-score': 0.9027237354085603, 'support': 116}, 'accuracy': 0.8226950354609929, 'macro avg': {'precision': 0.41134751773049644, 'recall': 0.5, 'f1-score': 0.45136186770428016, 'support': 141}, 'weighted avg': {'precision': 0.6768271213721644, 'recall': 0.8226950354609929, 'f1-score': 0.7426663355134255, 'support': 141}}}\n",
      "Classifier for col: V1 reached 0.7033888503354153\n",
      "Classifier for col: V4 reached 0.8706916493176036\n",
      "Classifier for col: V5 reached 0.9239532731899144\n",
      "Classifier for col: V6 reached 0.8708362248438584\n",
      "Classifier for col: V7 reached 0.9391626185519315\n",
      "Classifier for col: V8 reached 0.863029146426093\n",
      "Classifier for col: V9 reached 0.8669326856349757\n",
      "Classifier for col: V10 reached 0.5322981725653482\n",
      "Classifier for col: V11 reached 0.9011392551468886\n"
     ]
    },
    {
     "name": "stderr",
     "output_type": "stream",
     "text": [
      "/home/rupali/.local/lib/python3.8/site-packages/sklearn/model_selection/_split.py:666: UserWarning: The least populated class in y has only 1 members, which is less than n_splits=2.\n",
      "  warnings.warn((\"The least populated class in y has only %d\"\n",
      "/home/rupali/.local/lib/python3.8/site-packages/sklearn/model_selection/_search.py:918: UserWarning: One or more of the test scores are non-finite: [nan nan nan nan]\n",
      "  warnings.warn(\n"
     ]
    },
    {
     "name": "stdout",
     "output_type": "stream",
     "text": [
      "Classifier for col: V12 reached nan\n",
      "Classifier for col: V13 reached 0.9504684247050659\n",
      "Classifier for col: V14 reached 0.8327261161230627\n"
     ]
    },
    {
     "name": "stderr",
     "output_type": "stream",
     "text": [
      "/home/rupali/.local/lib/python3.8/site-packages/sklearn/model_selection/_split.py:666: UserWarning: The least populated class in y has only 1 members, which is less than n_splits=2.\n",
      "  warnings.warn((\"The least populated class in y has only %d\"\n",
      "/home/rupali/.local/lib/python3.8/site-packages/sklearn/model_selection/_search.py:918: UserWarning: One or more of the test scores are non-finite: [nan nan nan nan]\n",
      "  warnings.warn(\n"
     ]
    },
    {
     "name": "stdout",
     "output_type": "stream",
     "text": [
      "Classifier for col: V15 reached nan\n",
      "Regressor for col: V2/lower reached 0.41543534105572577\n",
      "Regressor for col: V2/median reached 0.6293923320450601\n",
      "Regressor for col: V2/upper reached 0.3086499729296245\n",
      "Regressor for col: V3/lower reached -0.05059029797563752\n",
      "Regressor for col: V3/median reached -0.03742625438756497\n",
      "Regressor for col: V3/upper reached -1.6579551703433708\n",
      "Regressor for col: V16/lower reached -1.1117057004552335\n",
      "Regressor for col: V16/median reached 0.08818766459502303\n",
      "Regressor for col: V16/upper reached -0.8850921512353859\n",
      "Column V1 contained 0 nans before, now 70\n",
      "Column V4 contained 0 nans before, now 0\n",
      "Column V5 contained 0 nans before, now 0\n",
      "Column V6 contained 0 nans before, now 0\n",
      "Column V7 contained 0 nans before, now 0\n",
      "Column V8 contained 0 nans before, now 19\n",
      "Column V9 contained 0 nans before, now 0\n",
      "Column V10 contained 0 nans before, now 0\n",
      "Column V11 contained 0 nans before, now 0\n",
      "Column V12 contained 0 nans before, now 3\n",
      "Column V13 contained 0 nans before, now 0\n",
      "Column V14 contained 0 nans before, now 32\n",
      "Column V15 contained 0 nans before, now 0\n",
      "Column V2 contained 0 nans before, now 103\n",
      "Column V3 contained 70 nans before, now 122\n",
      "Column V16 contained 0 nans before, now 67\n",
      "Imputed 70 values in column V1\n",
      "Imputed 19 values in column V8\n",
      "Imputed 3 values in column V12\n",
      "Imputed 32 values in column V14\n",
      "Imputed 103 values in column V2\n",
      "Imputed 122 values in column V3\n",
      "Imputed 67 values in column V16\n",
      "\n",
      "Outlier detection method: SklearnOutlierDetection, Outlier Detection Score: {'Precision': 0.7939678497533026, 'Recall': 0.686036705777491, 'F1-score': 0.7034396215222561, 'Accuracy': 0.8652482269503546}\n",
      "Imputation method: SklearnImputation, Imputation Score: {'Precision': 1.0, 'Recall': 1.0, 'F1-score': 1.0, 'Accuracy': 1.0, 'Mean Squared Error': 109.89144293442565}\n"
     ]
    },
    {
     "name": "stderr",
     "output_type": "stream",
     "text": [
      "/home/rupali/.local/lib/python3.8/site-packages/sklearn/metrics/_classification.py:1245: UndefinedMetricWarning: Recall and F-score are ill-defined and being set to 0.0 in labels with no true samples. Use `zero_division` parameter to control this behavior.\n",
      "  _warn_prf(average, modifier, msg_start, len(result))\n",
      "/home/rupali/.local/lib/python3.8/site-packages/sklearn/metrics/_classification.py:1245: UndefinedMetricWarning: Recall and F-score are ill-defined and being set to 0.0 in labels with no true samples. Use `zero_division` parameter to control this behavior.\n",
      "  _warn_prf(average, modifier, msg_start, len(result))\n",
      "/home/rupali/.local/lib/python3.8/site-packages/sklearn/metrics/_classification.py:1245: UndefinedMetricWarning: Recall and F-score are ill-defined and being set to 0.0 in labels with no true samples. Use `zero_division` parameter to control this behavior.\n",
      "  _warn_prf(average, modifier, msg_start, len(result))\n",
      "/home/rupali/.local/lib/python3.8/site-packages/sklearn/metrics/_classification.py:1245: UndefinedMetricWarning: Precision and F-score are ill-defined and being set to 0.0 in labels with no predicted samples. Use `zero_division` parameter to control this behavior.\n",
      "  _warn_prf(average, modifier, msg_start, len(result))\n",
      "/home/rupali/.local/lib/python3.8/site-packages/sklearn/metrics/_classification.py:1245: UndefinedMetricWarning: Precision and F-score are ill-defined and being set to 0.0 in labels with no predicted samples. Use `zero_division` parameter to control this behavior.\n",
      "  _warn_prf(average, modifier, msg_start, len(result))\n",
      "/home/rupali/.local/lib/python3.8/site-packages/sklearn/metrics/_classification.py:1245: UndefinedMetricWarning: Precision and F-score are ill-defined and being set to 0.0 in labels with no predicted samples. Use `zero_division` parameter to control this behavior.\n",
      "  _warn_prf(average, modifier, msg_start, len(result))\n",
      "/home/rupali/.local/lib/python3.8/site-packages/sklearn/model_selection/_split.py:666: UserWarning: The least populated class in y has only 1 members, which is less than n_splits=2.\n",
      "  warnings.warn((\"The least populated class in y has only %d\"\n"
     ]
    },
    {
     "name": "stdout",
     "output_type": "stream",
     "text": [
      "Cleaner: (SklearnOutlierDetection, SklearnImputation): {'roc_auc_score': 0.538448275862069, 'classification_report': {'1': {'precision': 0.0, 'recall': 0.0, 'f1-score': 0.0, 'support': 25}, '2': {'precision': 0.8226950354609929, 'recall': 1.0, 'f1-score': 0.9027237354085603, 'support': 116}, 'accuracy': 0.8226950354609929, 'macro avg': {'precision': 0.41134751773049644, 'recall': 0.5, 'f1-score': 0.45136186770428016, 'support': 141}, 'weighted avg': {'precision': 0.6768271213721644, 'recall': 0.8226950354609929, 'f1-score': 0.7426663355134255, 'support': 141}}}\n",
      "Classifier for col: V1 reached 0.7108778625954199\n",
      "Classifier for col: V4 reached 0.8553955586398334\n",
      "Classifier for col: V5 reached 0.9315868609761739\n",
      "Classifier for col: V6 reached 0.8745662734212353\n",
      "Classifier for col: V7 reached 0.9277122368725422\n",
      "Classifier for col: V8 reached 0.8743927827897293\n",
      "Classifier for col: V9 reached 0.8478487161693269\n",
      "Classifier for col: V10 reached 0.4865833911635438\n",
      "Classifier for col: V11 reached 0.897293546148508\n"
     ]
    },
    {
     "name": "stderr",
     "output_type": "stream",
     "text": [
      "/home/rupali/.local/lib/python3.8/site-packages/sklearn/model_selection/_split.py:666: UserWarning: The least populated class in y has only 1 members, which is less than n_splits=2.\n",
      "  warnings.warn((\"The least populated class in y has only %d\"\n",
      "/home/rupali/.local/lib/python3.8/site-packages/sklearn/model_selection/_search.py:918: UserWarning: One or more of the test scores are non-finite: [nan nan nan nan]\n",
      "  warnings.warn(\n"
     ]
    },
    {
     "name": "stdout",
     "output_type": "stream",
     "text": [
      "Classifier for col: V12 reached nan\n",
      "Classifier for col: V13 reached 0.9695234790654639\n",
      "Classifier for col: V14 reached 0.8174589405505437\n"
     ]
    },
    {
     "name": "stderr",
     "output_type": "stream",
     "text": [
      "/home/rupali/.local/lib/python3.8/site-packages/sklearn/model_selection/_split.py:666: UserWarning: The least populated class in y has only 1 members, which is less than n_splits=2.\n",
      "  warnings.warn((\"The least populated class in y has only %d\"\n",
      "/home/rupali/.local/lib/python3.8/site-packages/sklearn/model_selection/_search.py:918: UserWarning: One or more of the test scores are non-finite: [nan nan nan nan]\n",
      "  warnings.warn(\n"
     ]
    },
    {
     "name": "stdout",
     "output_type": "stream",
     "text": [
      "Classifier for col: V15 reached nan\n",
      "Regressor for col: V2/lower reached 0.3940807049010007\n",
      "Regressor for col: V2/median reached 0.6107510802799219\n",
      "Regressor for col: V2/upper reached 0.33603349286995193\n",
      "Regressor for col: V3/lower reached -0.03686610650659916\n",
      "Regressor for col: V3/median reached -0.016106891523162914\n",
      "Regressor for col: V3/upper reached -0.21700939557096088\n",
      "Regressor for col: V16/lower reached -1.0005742968621791\n",
      "Regressor for col: V16/median reached 0.027911089304494208\n",
      "Regressor for col: V16/upper reached -0.983987890772203\n",
      "Column V1 contained 0 nans before, now 82\n",
      "Column V4 contained 0 nans before, now 23\n",
      "Column V5 contained 0 nans before, now 0\n",
      "Column V6 contained 0 nans before, now 0\n",
      "Column V7 contained 0 nans before, now 0\n",
      "Column V8 contained 0 nans before, now 0\n",
      "Column V9 contained 0 nans before, now 0\n",
      "Column V10 contained 0 nans before, now 0\n",
      "Column V11 contained 0 nans before, now 0\n",
      "Column V12 contained 0 nans before, now 0\n",
      "Column V13 contained 0 nans before, now 0\n",
      "Column V14 contained 0 nans before, now 31\n",
      "Column V15 contained 0 nans before, now 0\n",
      "Column V2 contained 0 nans before, now 100\n",
      "Column V3 contained 70 nans before, now 122\n",
      "Column V16 contained 0 nans before, now 43\n",
      "\n",
      "Best cleaning method:\n",
      "Cleaning score: Cleaner: (SklearnOutlierDetection, MeanModeImputation): {'roc_auc_score': 0.5439655172413792, 'classification_report': {'1': {'precision': 0.0, 'recall': 0.0, 'f1-score': 0.0, 'support': 25}, '2': {'precision': 0.8226950354609929, 'recall': 1.0, 'f1-score': 0.9027237354085603, 'support': 116}, 'accuracy': 0.8226950354609929, 'macro avg': {'precision': 0.41134751773049644, 'recall': 0.5, 'f1-score': 0.45136186770428016, 'support': 141}, 'weighted avg': {'precision': 0.6768271213721644, 'recall': 0.8226950354609929, 'f1-score': 0.7426663355134255, 'support': 141}}} \n",
      "\n",
      "Cleaning improved the overall score \n",
      "\n",
      "\n",
      "\n"
     ]
    }
   ],
   "source": [
    "from jenga.cleaning.clean import Clean\n",
    "\n",
    "categorical_precision_threshold=0.85\n",
    "numerical_std_error_threshold=0.9\n",
    "\n",
    "clean = Clean(train_data, df_corrupted, categorical_columns, numerical_columns, categorical_precision_threshold, numerical_std_error_threshold, ppp, ppp_model, cleaners)\n",
    "df_outliers, df_cleaned, corrupted_score_ppp, best_cleaning_score, cleaner_scores_ppp, summary_cleaners = clean(train_data, test_data, df_corrupted, cols_perturbed)"
   ]
  },
  {
   "cell_type": "code",
   "execution_count": 15,
   "metadata": {
    "executionInfo": {
     "elapsed": 21470,
     "status": "ok",
     "timestamp": 1605649256782,
     "user": {
      "displayName": "Rupali Sharma",
      "photoUrl": "https://lh3.googleusercontent.com/a-/AOh14GiH6obBahOBk5ezQLBEEgw1DvKRo8haEZvXXnQ83ww=s64",
      "userId": "15074179419258593720"
     },
     "user_tz": -60
    },
    "id": "GvkpkLiEdqKX"
   },
   "outputs": [],
   "source": []
  },
  {
   "cell_type": "markdown",
   "metadata": {
    "executionInfo": {
     "elapsed": 21723,
     "status": "ok",
     "timestamp": 1605649257083,
     "user": {
      "displayName": "Rupali Sharma",
      "photoUrl": "https://lh3.googleusercontent.com/a-/AOh14GiH6obBahOBk5ezQLBEEgw1DvKRo8haEZvXXnQ83ww=s64",
      "userId": "15074179419258593720"
     },
     "user_tz": -60
    },
    "id": "nHDOCXz9FjsU"
   },
   "source": [
    "## Model Evaluation"
   ]
  },
  {
   "cell_type": "markdown",
   "metadata": {},
   "source": [
    "### With learner and param_grid"
   ]
  },
  {
   "cell_type": "code",
   "execution_count": 256,
   "metadata": {
    "ExecuteTime": {
     "end_time": "2021-03-26T00:13:40.620091Z",
     "start_time": "2021-03-26T00:13:40.614898Z"
    }
   },
   "outputs": [],
   "source": [
    "from sklearn.pipeline import Pipeline\n",
    "from sklearn.impute import SimpleImputer\n",
    "from sklearn.preprocessing import OneHotEncoder, StandardScaler\n",
    "from sklearn.compose import ColumnTransformer\n",
    "\n",
    "# preprocessing pipeline for numerical columns\n",
    "transformer_numeric = Pipeline([\n",
    "    ('imputer', SimpleImputer(strategy='constant', fill_value=0)),\n",
    "    ('standard_scale', StandardScaler())\n",
    "])\n",
    "\n",
    "# preprocessing pipeline for categorical columns\n",
    "transformer_categorical = Pipeline([\n",
    "    ('imputer', SimpleImputer(strategy='constant', fill_value='__NA__')),\n",
    "    ('one_hot_encode', OneHotEncoder(handle_unknown='ignore'))\n",
    "])\n",
    "\n",
    "# preprocessor\n",
    "feature_transform = ColumnTransformer(transformers=[\n",
    "    ('categorical_features', transformer_categorical, categorical_columns),\n",
    "    ('numerical_features', transformer_numeric, numerical_columns)\n",
    "])\n",
    "\n",
    "## prediction pipeline: append classifier (learner) to the preprocessing pipeline\n",
    "pipeline = Pipeline([\n",
    "    ('features', feature_transform),\n",
    "    ('learner', learner)\n",
    "])"
   ]
  },
  {
   "cell_type": "code",
   "execution_count": 257,
   "metadata": {
    "ExecuteTime": {
     "end_time": "2021-03-26T00:13:47.477606Z",
     "start_time": "2021-03-26T00:13:41.449817Z"
    }
   },
   "outputs": [
    {
     "name": "stdout",
     "output_type": "stream",
     "text": [
      "Fitting 5 folds for each of 36 candidates, totalling 180 fits\n"
     ]
    }
   ],
   "source": [
    "from sklearn.model_selection import GridSearchCV\n",
    "\n",
    "grid_search = GridSearchCV(pipeline, param_grid, scoring='roc_auc', cv=5, verbose=1, n_jobs=-1)\n",
    "model = grid_search.fit(train_data, train_labels)"
   ]
  },
  {
   "cell_type": "code",
   "execution_count": 258,
   "metadata": {
    "ExecuteTime": {
     "end_time": "2021-03-26T00:13:57.876735Z",
     "start_time": "2021-03-26T00:13:57.856093Z"
    }
   },
   "outputs": [
    {
     "name": "stderr",
     "output_type": "stream",
     "text": [
      "/home/rupali/.local/lib/python3.8/site-packages/ipykernel/ipkernel.py:283: DeprecationWarning: `should_run_async` will not call `transform_cell` automatically in the future. Please pass the result to `transformed_cell` argument and any exception that happen during thetransform in `preprocessing_exc_tuple` in IPython 7.17 and above.\n",
      "  and should_run_async(code)\n"
     ]
    }
   ],
   "source": [
    "y_pred = model.predict(test_data)"
   ]
  },
  {
   "cell_type": "code",
   "execution_count": 259,
   "metadata": {
    "ExecuteTime": {
     "end_time": "2021-03-26T00:13:59.056039Z",
     "start_time": "2021-03-26T00:13:59.032965Z"
    }
   },
   "outputs": [
    {
     "name": "stderr",
     "output_type": "stream",
     "text": [
      "/home/rupali/.local/lib/python3.8/site-packages/ipykernel/ipkernel.py:283: DeprecationWarning: `should_run_async` will not call `transform_cell` automatically in the future. Please pass the result to `transformed_cell` argument and any exception that happen during thetransform in `preprocessing_exc_tuple` in IPython 7.17 and above.\n",
      "  and should_run_async(code)\n"
     ]
    },
    {
     "data": {
      "text/plain": [
       "0.5968965517241378"
      ]
     },
     "execution_count": 259,
     "metadata": {},
     "output_type": "execute_result"
    }
   ],
   "source": [
    "from sklearn.metrics import roc_auc_score\n",
    "\n",
    "roc_auc_score(test_labels, np.transpose(model.predict_proba(test_data))[1])"
   ]
  },
  {
   "cell_type": "code",
   "execution_count": 260,
   "metadata": {
    "ExecuteTime": {
     "end_time": "2021-03-26T00:14:01.775268Z",
     "start_time": "2021-03-26T00:14:01.731495Z"
    },
    "scrolled": true
   },
   "outputs": [
    {
     "name": "stderr",
     "output_type": "stream",
     "text": [
      "/home/rupali/.local/lib/python3.8/site-packages/ipykernel/ipkernel.py:283: DeprecationWarning: `should_run_async` will not call `transform_cell` automatically in the future. Please pass the result to `transformed_cell` argument and any exception that happen during thetransform in `preprocessing_exc_tuple` in IPython 7.17 and above.\n",
      "  and should_run_async(code)\n"
     ]
    },
    {
     "data": {
      "text/plain": [
       "array([[2.48923873e-01, 7.51076127e-01],\n",
       "       [1.19466022e-01, 8.80533978e-01],\n",
       "       [4.76675761e-01, 5.23324239e-01],\n",
       "       [7.52237373e-01, 2.47762627e-01],\n",
       "       [3.09806104e-02, 9.69019390e-01],\n",
       "       [3.95795689e-01, 6.04204311e-01],\n",
       "       [6.30358337e-02, 9.36964166e-01],\n",
       "       [6.53316975e-01, 3.46683025e-01],\n",
       "       [1.11722907e-01, 8.88277093e-01],\n",
       "       [2.10795831e-01, 7.89204169e-01],\n",
       "       [2.76059381e-01, 7.23940619e-01],\n",
       "       [5.10868216e-02, 9.48913178e-01],\n",
       "       [1.53031464e-02, 9.84696854e-01],\n",
       "       [6.78376864e-01, 3.21623136e-01],\n",
       "       [1.18168338e-01, 8.81831662e-01],\n",
       "       [7.34872186e-01, 2.65127814e-01],\n",
       "       [9.17923570e-05, 9.99908208e-01],\n",
       "       [2.21709604e-01, 7.78290396e-01],\n",
       "       [2.36037544e-01, 7.63962456e-01],\n",
       "       [7.19554811e-03, 9.92804452e-01],\n",
       "       [2.84619412e-01, 7.15380588e-01],\n",
       "       [5.03055384e-02, 9.49694462e-01],\n",
       "       [1.32424108e-01, 8.67575892e-01],\n",
       "       [9.91516577e-03, 9.90084834e-01],\n",
       "       [1.00436494e-01, 8.99563506e-01],\n",
       "       [8.35384493e-01, 1.64615507e-01],\n",
       "       [3.23209519e-01, 6.76790481e-01],\n",
       "       [2.36630033e-02, 9.76336997e-01],\n",
       "       [1.26026833e-01, 8.73973167e-01],\n",
       "       [2.05580761e-02, 9.79441924e-01],\n",
       "       [1.25536795e-01, 8.74463205e-01],\n",
       "       [2.11848443e-02, 9.78815156e-01],\n",
       "       [9.70736154e-02, 9.02926385e-01],\n",
       "       [5.87600323e-01, 4.12399677e-01],\n",
       "       [1.14739124e-02, 9.88526088e-01],\n",
       "       [6.90865614e-02, 9.30913439e-01],\n",
       "       [3.70544571e-02, 9.62945543e-01],\n",
       "       [6.69078329e-02, 9.33092167e-01],\n",
       "       [9.58284440e-02, 9.04171556e-01],\n",
       "       [2.24151686e-01, 7.75848314e-01],\n",
       "       [1.04546340e-02, 9.89545366e-01],\n",
       "       [9.64370594e-04, 9.99035629e-01],\n",
       "       [2.60033343e-01, 7.39966657e-01],\n",
       "       [7.75153500e-02, 9.22484650e-01],\n",
       "       [4.21655026e-02, 9.57834497e-01],\n",
       "       [3.98946832e-02, 9.60105317e-01],\n",
       "       [4.64884211e-02, 9.53511579e-01],\n",
       "       [1.25221238e-01, 8.74778762e-01],\n",
       "       [2.29735618e-04, 9.99770264e-01],\n",
       "       [4.13336200e-02, 9.58666380e-01],\n",
       "       [8.03063012e-04, 9.99196937e-01],\n",
       "       [2.95133833e-02, 9.70486617e-01],\n",
       "       [8.45573480e-04, 9.99154427e-01],\n",
       "       [5.88156044e-01, 4.11843956e-01],\n",
       "       [5.06200185e-02, 9.49379982e-01],\n",
       "       [1.10881339e-01, 8.89118661e-01],\n",
       "       [2.35939840e-02, 9.76406016e-01],\n",
       "       [1.13581434e-01, 8.86418566e-01],\n",
       "       [9.36074397e-01, 6.39256035e-02],\n",
       "       [2.98062451e-01, 7.01937549e-01],\n",
       "       [1.07297101e-01, 8.92702899e-01],\n",
       "       [6.26013734e-02, 9.37398627e-01],\n",
       "       [4.81123468e-02, 9.51887653e-01],\n",
       "       [1.64896275e-06, 9.99998351e-01],\n",
       "       [3.98966330e-02, 9.60103367e-01],\n",
       "       [5.35005031e-01, 4.64994969e-01],\n",
       "       [9.37492890e-02, 9.06250711e-01],\n",
       "       [6.41510564e-02, 9.35848944e-01],\n",
       "       [1.01634420e-01, 8.98365580e-01],\n",
       "       [9.59171895e-01, 4.08281054e-02],\n",
       "       [2.48363158e-02, 9.75163684e-01],\n",
       "       [1.31940596e-01, 8.68059404e-01],\n",
       "       [8.80738552e-02, 9.11926145e-01],\n",
       "       [3.54646208e-01, 6.45353792e-01],\n",
       "       [3.24615325e-01, 6.75384675e-01],\n",
       "       [4.36838451e-01, 5.63161549e-01],\n",
       "       [6.67148898e-02, 9.33285110e-01],\n",
       "       [4.82626095e-02, 9.51737390e-01],\n",
       "       [2.47578194e-03, 9.97524218e-01],\n",
       "       [7.20805366e-03, 9.92791946e-01],\n",
       "       [5.86865734e-02, 9.41313427e-01],\n",
       "       [5.74084428e-01, 4.25915572e-01],\n",
       "       [4.11733884e-04, 9.99588266e-01],\n",
       "       [1.99563392e-02, 9.80043661e-01],\n",
       "       [3.76264402e-01, 6.23735598e-01],\n",
       "       [2.90530925e-01, 7.09469075e-01],\n",
       "       [1.55183856e-01, 8.44816144e-01],\n",
       "       [4.28388934e-01, 5.71611066e-01],\n",
       "       [3.98477559e-02, 9.60152244e-01],\n",
       "       [2.73397685e-02, 9.72660231e-01],\n",
       "       [4.21919984e-02, 9.57808002e-01],\n",
       "       [2.20495678e-01, 7.79504322e-01],\n",
       "       [4.97447538e-02, 9.50255246e-01],\n",
       "       [1.25792690e-02, 9.87420731e-01],\n",
       "       [7.80357217e-02, 9.21964278e-01],\n",
       "       [2.12586570e-01, 7.87413430e-01],\n",
       "       [5.68461527e-02, 9.43153847e-01],\n",
       "       [1.53294368e-01, 8.46705632e-01],\n",
       "       [5.12935903e-03, 9.94870641e-01],\n",
       "       [9.56754490e-01, 4.32455100e-02],\n",
       "       [1.22781897e-02, 9.87721810e-01],\n",
       "       [1.57062553e-01, 8.42937447e-01],\n",
       "       [4.87000344e-01, 5.12999656e-01],\n",
       "       [2.43036718e-03, 9.97569633e-01],\n",
       "       [5.54404993e-02, 9.44559501e-01],\n",
       "       [1.54652244e-01, 8.45347756e-01],\n",
       "       [4.35607477e-01, 5.64392523e-01],\n",
       "       [2.86473227e-01, 7.13526773e-01],\n",
       "       [9.96802651e-01, 3.19734942e-03],\n",
       "       [1.47430556e-02, 9.85256944e-01],\n",
       "       [1.28694750e-01, 8.71305250e-01],\n",
       "       [1.72538345e-02, 9.82746166e-01],\n",
       "       [1.14484766e-03, 9.98855152e-01],\n",
       "       [1.08440552e-01, 8.91559448e-01],\n",
       "       [8.17129549e-03, 9.91828705e-01],\n",
       "       [8.43954661e-01, 1.56045339e-01],\n",
       "       [1.64363419e-01, 8.35636581e-01],\n",
       "       [5.06600795e-04, 9.99493399e-01],\n",
       "       [1.42271113e-03, 9.98577289e-01],\n",
       "       [6.51042571e-01, 3.48957429e-01],\n",
       "       [4.08902059e-01, 5.91097941e-01],\n",
       "       [1.23234127e-02, 9.87676587e-01],\n",
       "       [1.41724245e-02, 9.85827576e-01],\n",
       "       [2.29100697e-01, 7.70899303e-01],\n",
       "       [4.51413056e-01, 5.48586944e-01],\n",
       "       [8.85758310e-01, 1.14241690e-01],\n",
       "       [5.74698873e-07, 9.99999425e-01],\n",
       "       [6.23143970e-03, 9.93768560e-01],\n",
       "       [1.37133253e-01, 8.62866747e-01],\n",
       "       [1.93329049e-01, 8.06670951e-01],\n",
       "       [7.06327387e-01, 2.93672613e-01],\n",
       "       [1.58508415e-01, 8.41491585e-01],\n",
       "       [2.44505808e-01, 7.55494192e-01],\n",
       "       [1.62981305e-02, 9.83701869e-01],\n",
       "       [1.89147329e-02, 9.81085267e-01],\n",
       "       [4.73503892e-02, 9.52649611e-01],\n",
       "       [1.37308821e-01, 8.62691179e-01],\n",
       "       [1.41216227e-01, 8.58783773e-01],\n",
       "       [1.85347266e-01, 8.14652734e-01],\n",
       "       [2.72001803e-01, 7.27998197e-01],\n",
       "       [1.31536453e-01, 8.68463547e-01]])"
      ]
     },
     "execution_count": 260,
     "metadata": {},
     "output_type": "execute_result"
    }
   ],
   "source": [
    "model.predict_proba(test_data)"
   ]
  },
  {
   "cell_type": "code",
   "execution_count": 261,
   "metadata": {
    "ExecuteTime": {
     "end_time": "2021-03-26T00:14:03.686954Z",
     "start_time": "2021-03-26T00:14:03.673649Z"
    }
   },
   "outputs": [
    {
     "name": "stderr",
     "output_type": "stream",
     "text": [
      "/home/rupali/.local/lib/python3.8/site-packages/ipykernel/ipkernel.py:283: DeprecationWarning: `should_run_async` will not call `transform_cell` automatically in the future. Please pass the result to `transformed_cell` argument and any exception that happen during thetransform in `preprocessing_exc_tuple` in IPython 7.17 and above.\n",
      "  and should_run_async(code)\n"
     ]
    },
    {
     "data": {
      "text/plain": [
       "{'1': {'precision': 0.35294117647058826,\n",
       "  'recall': 0.24,\n",
       "  'f1-score': 0.28571428571428564,\n",
       "  'support': 25},\n",
       " '2': {'precision': 0.8467741935483871,\n",
       "  'recall': 0.9051724137931034,\n",
       "  'f1-score': 0.875,\n",
       "  'support': 116},\n",
       " 'accuracy': 0.7872340425531915,\n",
       " 'macro avg': {'precision': 0.5998576850094877,\n",
       "  'recall': 0.5725862068965517,\n",
       "  'f1-score': 0.5803571428571428,\n",
       "  'support': 141},\n",
       " 'weighted avg': {'precision': 0.7592151479672171,\n",
       "  'recall': 0.7872340425531915,\n",
       "  'f1-score': 0.770516717325228,\n",
       "  'support': 141}}"
      ]
     },
     "execution_count": 261,
     "metadata": {},
     "output_type": "execute_result"
    }
   ],
   "source": [
    "from sklearn.metrics import classification_report\n",
    "\n",
    "classification_report(test_labels, y_pred, output_dict=True)"
   ]
  },
  {
   "cell_type": "code",
   "execution_count": null,
   "metadata": {},
   "outputs": [],
   "source": []
  },
  {
   "cell_type": "code",
   "execution_count": null,
   "metadata": {},
   "outputs": [],
   "source": []
  },
  {
   "cell_type": "markdown",
   "metadata": {},
   "source": [
    "### With Autogluon"
   ]
  },
  {
   "cell_type": "code",
   "execution_count": 262,
   "metadata": {
    "ExecuteTime": {
     "end_time": "2021-03-26T00:14:23.698681Z",
     "start_time": "2021-03-26T00:14:10.157068Z"
    },
    "scrolled": true
   },
   "outputs": [
    {
     "name": "stderr",
     "output_type": "stream",
     "text": [
      "/home/rupali/.local/lib/python3.8/site-packages/ipykernel/ipkernel.py:283: DeprecationWarning: `should_run_async` will not call `transform_cell` automatically in the future. Please pass the result to `transformed_cell` argument and any exception that happen during thetransform in `preprocessing_exc_tuple` in IPython 7.17 and above.\n",
      "  and should_run_async(code)\n",
      "Level 25:autogluon.core.utils.utils:No path specified. Models will be saved in: \"AutogluonModels/ag-20210326_001410/\"\n",
      "INFO:autogluon.tabular.learner.default_learner:Beginning AutoGluon training ...\n",
      "INFO:autogluon.tabular.learner.default_learner:AutoGluon will save models to \"AutogluonModels/ag-20210326_001410/\"\n",
      "INFO:autogluon.tabular.learner.default_learner:AutoGluon Version:  0.1.0\n",
      "INFO:autogluon.tabular.learner.default_learner:Train Data Rows:    329\n",
      "INFO:autogluon.tabular.learner.default_learner:Train Data Columns: 16\n",
      "INFO:autogluon.tabular.learner.default_learner:Preprocessing data ...\n",
      "Level 25:autogluon.core.utils.utils:AutoGluon infers your prediction problem is: 'binary' (because only two unique label-values observed).\n",
      "INFO:autogluon.core.utils.utils:\t2 unique label values:  ['2', '1']\n",
      "Level 25:autogluon.core.utils.utils:\tIf 'binary' is not the correct problem_type, please manually specify the problem_type argument in fit() (You may specify problem_type as one of: ['binary', 'multiclass', 'regression'])\n",
      "INFO:autogluon.core.data.label_cleaner:Selected class <--> label mapping:  class 1 = 2, class 0 = 1\n",
      "INFO:autogluon.core.data.label_cleaner:\tNote: For your binary classification, AutoGluon arbitrarily selected which label-value represents positive (2) vs negative (1) class.\n",
      "\tTo explicitly set the positive_class, either rename classes to 1 and 0, or specify positive_class in Predictor init.\n",
      "INFO:autogluon.tabular.learner.default_learner:Using Feature Generators to preprocess the data ...\n",
      "INFO:autogluon.features.generators.abstract:Fitting AutoMLPipelineFeatureGenerator...\n",
      "INFO:autogluon.features.generators.abstract:\tAvailable Memory:                    1485.99 MB\n",
      "INFO:autogluon.features.generators.abstract:\tTrain Data (Original)  Memory Usage: 0.01 MB (0.0% of available memory)\n",
      "INFO:autogluon.features.generators.abstract:\tInferring data type of each feature based on column values. Set feature_metadata_in to manually specify special dtypes of the features.\n",
      "INFO:autogluon.features.generators.abstract:\tStage 1 Generators:\n",
      "INFO:autogluon.features.generators.abstract:\t\tFitting AsTypeFeatureGenerator...\n",
      "INFO:autogluon.features.generators.abstract:\tStage 2 Generators:\n",
      "INFO:autogluon.features.generators.abstract:\t\tFitting FillNaFeatureGenerator...\n",
      "INFO:autogluon.features.generators.abstract:\tStage 3 Generators:\n",
      "INFO:autogluon.features.generators.abstract:\t\tFitting IdentityFeatureGenerator...\n",
      "INFO:autogluon.features.generators.abstract:\t\tFitting CategoryFeatureGenerator...\n",
      "INFO:autogluon.features.generators.abstract:\t\t\tFitting CategoryMemoryMinimizeFeatureGenerator...\n",
      "INFO:autogluon.features.generators.abstract:\tStage 4 Generators:\n",
      "INFO:autogluon.features.generators.abstract:\t\tFitting DropUniqueFeatureGenerator...\n",
      "INFO:autogluon.features.generators.abstract:\tTypes of features in original data (raw dtype, special dtypes):\n",
      "INFO:autogluon.core.features.feature_metadata:\t\t('category', []) : 13 | ['V1', 'V4', 'V5', 'V6', 'V7', ...]\n",
      "INFO:autogluon.core.features.feature_metadata:\t\t('float', [])    :  3 | ['V2', 'V3', 'V16']\n",
      "INFO:autogluon.features.generators.abstract:\tTypes of features in processed data (raw dtype, special dtypes):\n",
      "INFO:autogluon.core.features.feature_metadata:\t\t('category', []) : 13 | ['V1', 'V4', 'V5', 'V6', 'V7', ...]\n",
      "INFO:autogluon.core.features.feature_metadata:\t\t('float', [])    :  3 | ['V2', 'V3', 'V16']\n",
      "INFO:autogluon.features.generators.abstract:\t0.1s = Fit runtime\n",
      "INFO:autogluon.features.generators.abstract:\t16 features in original data used to generate 16 features in processed data.\n",
      "INFO:autogluon.features.generators.abstract:\tTrain Data (Processed) Memory Usage: 0.01 MB (0.0% of available memory)\n",
      "INFO:autogluon.tabular.learner.default_learner:Data preprocessing and feature engineering runtime = 0.19s ...\n",
      "Level 25:autogluon.tabular.trainer.abstract_trainer:AutoGluon will gauge predictive performance using evaluation metric: 'accuracy'\n",
      "INFO:autogluon.tabular.trainer.abstract_trainer:\tTo change this, specify the eval_metric argument of fit()\n",
      "INFO:autogluon.tabular.trainer.auto_trainer:Automatically generating train/validation split with holdout_frac=0.2, Train Rows: 263, Val Rows: 66\n",
      "INFO:autogluon.tabular.trainer.abstract_trainer:Fitting model: RandomForestGini ...\n",
      "INFO:autogluon.tabular.trainer.abstract_trainer:\t0.8485\t = Validation accuracy score\n",
      "INFO:autogluon.tabular.trainer.abstract_trainer:\t0.71s\t = Training runtime\n",
      "INFO:autogluon.tabular.trainer.abstract_trainer:\t0.1s\t = Validation runtime\n",
      "INFO:autogluon.tabular.trainer.abstract_trainer:Fitting model: RandomForestEntr ...\n",
      "INFO:autogluon.tabular.trainer.abstract_trainer:\t0.8485\t = Validation accuracy score\n",
      "INFO:autogluon.tabular.trainer.abstract_trainer:\t0.73s\t = Training runtime\n",
      "INFO:autogluon.tabular.trainer.abstract_trainer:\t0.11s\t = Validation runtime\n",
      "INFO:autogluon.tabular.trainer.abstract_trainer:Fitting model: ExtraTreesGini ...\n",
      "INFO:autogluon.tabular.trainer.abstract_trainer:\t0.8182\t = Validation accuracy score\n",
      "INFO:autogluon.tabular.trainer.abstract_trainer:\t0.56s\t = Training runtime\n",
      "INFO:autogluon.tabular.trainer.abstract_trainer:\t0.1s\t = Validation runtime\n",
      "INFO:autogluon.tabular.trainer.abstract_trainer:Fitting model: ExtraTreesEntr ...\n",
      "INFO:autogluon.tabular.trainer.abstract_trainer:\t0.8485\t = Validation accuracy score\n",
      "INFO:autogluon.tabular.trainer.abstract_trainer:\t0.5s\t = Training runtime\n",
      "INFO:autogluon.tabular.trainer.abstract_trainer:\t0.09s\t = Validation runtime\n",
      "INFO:autogluon.tabular.trainer.abstract_trainer:Fitting model: KNeighborsUnif ...\n",
      "INFO:autogluon.tabular.trainer.abstract_trainer:\t0.8636\t = Validation accuracy score\n",
      "INFO:autogluon.tabular.trainer.abstract_trainer:\t0.01s\t = Training runtime\n",
      "INFO:autogluon.tabular.trainer.abstract_trainer:\t0.01s\t = Validation runtime\n",
      "INFO:autogluon.tabular.trainer.abstract_trainer:Fitting model: KNeighborsDist ...\n",
      "INFO:autogluon.tabular.trainer.abstract_trainer:\t0.803\t = Validation accuracy score\n",
      "INFO:autogluon.tabular.trainer.abstract_trainer:\t0.0s\t = Training runtime\n",
      "INFO:autogluon.tabular.trainer.abstract_trainer:\t0.01s\t = Validation runtime\n",
      "INFO:autogluon.tabular.trainer.abstract_trainer:Fitting model: LightGBM ...\n",
      "INFO:autogluon.tabular.trainer.abstract_trainer:\t0.8636\t = Validation accuracy score\n",
      "INFO:autogluon.tabular.trainer.abstract_trainer:\t0.85s\t = Training runtime\n",
      "INFO:autogluon.tabular.trainer.abstract_trainer:\t0.02s\t = Validation runtime\n",
      "INFO:autogluon.tabular.trainer.abstract_trainer:Fitting model: LightGBMXT ...\n",
      "INFO:autogluon.tabular.trainer.abstract_trainer:\t0.8636\t = Validation accuracy score\n",
      "INFO:autogluon.tabular.trainer.abstract_trainer:\t0.57s\t = Training runtime\n",
      "INFO:autogluon.tabular.trainer.abstract_trainer:\t0.02s\t = Validation runtime\n",
      "INFO:autogluon.tabular.trainer.abstract_trainer:Fitting model: CatBoost ...\n",
      "INFO:autogluon.tabular.trainer.abstract_trainer:\t0.8636\t = Validation accuracy score\n",
      "INFO:autogluon.tabular.trainer.abstract_trainer:\t0.45s\t = Training runtime\n",
      "INFO:autogluon.tabular.trainer.abstract_trainer:\t0.02s\t = Validation runtime\n",
      "INFO:autogluon.tabular.trainer.abstract_trainer:Fitting model: XGBoost ...\n",
      "INFO:autogluon.tabular.trainer.abstract_trainer:\t0.8636\t = Validation accuracy score\n",
      "INFO:autogluon.tabular.trainer.abstract_trainer:\t0.25s\t = Training runtime\n",
      "INFO:autogluon.tabular.trainer.abstract_trainer:\t0.01s\t = Validation runtime\n",
      "INFO:autogluon.tabular.trainer.abstract_trainer:Fitting model: NeuralNetMXNet ...\n",
      "ERROR:autogluon.tabular.trainer.abstract_trainer:\tWarning: Exception caused NeuralNetMXNet to fail during training... Skipping this model.\n",
      "ERROR:autogluon.tabular.trainer.abstract_trainer:\t\tlibopenblas.so.0: cannot open shared object file: No such file or directory\n",
      "ERROR:autogluon.tabular.trainer.abstract_trainer:Detailed Traceback:\n",
      "Traceback (most recent call last):\n",
      "  File \"/home/rupali/.local/lib/python3.8/site-packages/autogluon/tabular/trainer/abstract_trainer.py\", line 911, in _train_and_save\n",
      "    model = self._train_single(X, y, model, X_val, y_val, **model_fit_kwargs)\n",
      "  File \"/home/rupali/.local/lib/python3.8/site-packages/autogluon/tabular/trainer/abstract_trainer.py\", line 883, in _train_single\n",
      "    model.fit(X=X, y=y, X_val=X_val, y_val=y_val, **model_fit_kwargs)\n",
      "  File \"/home/rupali/.local/lib/python3.8/site-packages/autogluon/core/models/abstract/abstract_model.py\", line 405, in fit\n",
      "    self._fit(**kwargs)\n",
      "  File \"/home/rupali/.local/lib/python3.8/site-packages/autogluon/tabular/models/tabular_nn/tabular_nn_model.py\", line 177, in _fit\n",
      "    try_import_mxnet()\n",
      "  File \"/home/rupali/.local/lib/python3.8/site-packages/autogluon/core/utils/try_import.py\", line 29, in try_import_mxnet\n",
      "    import mxnet as mx\n",
      "  File \"/home/rupali/.local/lib/python3.8/site-packages/mxnet/__init__.py\", line 23, in <module>\n",
      "    from .context import Context, current_context, cpu, gpu, cpu_pinned\n",
      "  File \"/home/rupali/.local/lib/python3.8/site-packages/mxnet/context.py\", line 23, in <module>\n",
      "    from .base import classproperty, with_metaclass, _MXClassPropertyMetaClass\n",
      "  File \"/home/rupali/.local/lib/python3.8/site-packages/mxnet/base.py\", line 351, in <module>\n",
      "    _LIB = _load_lib()\n",
      "  File \"/home/rupali/.local/lib/python3.8/site-packages/mxnet/base.py\", line 342, in _load_lib\n",
      "    lib = ctypes.CDLL(lib_path[0], ctypes.RTLD_LOCAL)\n",
      "  File \"/usr/lib/python3.8/ctypes/__init__.py\", line 373, in __init__\n",
      "    self._handle = _dlopen(self._name, mode)\n",
      "OSError: libopenblas.so.0: cannot open shared object file: No such file or directory\n"
     ]
    },
    {
     "name": "stderr",
     "output_type": "stream",
     "text": [
      "INFO:autogluon.tabular.trainer.abstract_trainer:Fitting model: NeuralNetFastAI ...\n"
     ]
    },
    {
     "name": "stdout",
     "output_type": "stream",
     "text": [
      "Epoch 21: early stopping\n",
      "█\r"
     ]
    },
    {
     "name": "stderr",
     "output_type": "stream",
     "text": [
      "INFO:autogluon.tabular.trainer.abstract_trainer:\t0.8636\t = Validation accuracy score\n",
      "INFO:autogluon.tabular.trainer.abstract_trainer:\t6.1s\t = Training runtime\n",
      "INFO:autogluon.tabular.trainer.abstract_trainer:\t0.11s\t = Validation runtime\n",
      "INFO:autogluon.tabular.trainer.abstract_trainer:Fitting model: LightGBMLarge ...\n",
      "INFO:autogluon.tabular.trainer.abstract_trainer:\t0.8636\t = Validation accuracy score\n",
      "INFO:autogluon.tabular.trainer.abstract_trainer:\t0.7s\t = Training runtime\n",
      "INFO:autogluon.tabular.trainer.abstract_trainer:\t0.02s\t = Validation runtime\n"
     ]
    },
    {
     "name": "stdout",
     "output_type": "stream",
     "text": [
      "█\r"
     ]
    },
    {
     "name": "stderr",
     "output_type": "stream",
     "text": [
      "INFO:autogluon.tabular.trainer.abstract_trainer:Fitting model: WeightedEnsemble_L2 ...\n",
      "INFO:autogluon.tabular.trainer.abstract_trainer:\t0.8636\t = Validation accuracy score\n",
      "INFO:autogluon.tabular.trainer.abstract_trainer:\t0.39s\t = Training runtime\n",
      "INFO:autogluon.tabular.trainer.abstract_trainer:\t0.0s\t = Validation runtime\n",
      "INFO:autogluon.tabular.learner.default_learner:AutoGluon training complete, total runtime = 13.5s ...\n",
      "INFO:root:TabularPredictor saved. To load, use: predictor = TabularPredictor.load(\"AutogluonModels/ag-20210326_001410/\")\n"
     ]
    }
   ],
   "source": [
    "from autogluon.tabular import TabularPredictor\n",
    "\n",
    "## training\n",
    "train_data[\"class\"] = train_labels\n",
    "\n",
    "label = \"class\"\n",
    "\n",
    "## folder to save trained models\n",
    "#save_path = '/home/rupali/Documents/Master Thesis/jenga/autogluon_models/'\n",
    "\n",
    "predictor = TabularPredictor(label=label).fit(train_data)"
   ]
  },
  {
   "cell_type": "code",
   "execution_count": 263,
   "metadata": {
    "ExecuteTime": {
     "end_time": "2021-03-26T00:14:31.861170Z",
     "start_time": "2021-03-26T00:14:31.746651Z"
    },
    "scrolled": true
   },
   "outputs": [
    {
     "name": "stderr",
     "output_type": "stream",
     "text": [
      "/home/rupali/.local/lib/python3.8/site-packages/ipykernel/ipkernel.py:283: DeprecationWarning: `should_run_async` will not call `transform_cell` automatically in the future. Please pass the result to `transformed_cell` argument and any exception that happen during thetransform in `preprocessing_exc_tuple` in IPython 7.17 and above.\n",
      "  and should_run_async(code)\n",
      "INFO:autogluon.tabular.learner.abstract_learner:Evaluation: accuracy on test data: 0.8226950354609929\n",
      "INFO:autogluon.tabular.learner.abstract_learner:Evaluations on test data:\n",
      "INFO:autogluon.tabular.learner.abstract_learner:{\n",
      "    \"accuracy\": 0.8226950354609929,\n",
      "    \"accuracy_score\": 0.8226950354609929,\n",
      "    \"balanced_accuracy_score\": 0.5,\n",
      "    \"matthews_corrcoef\": 0.0,\n",
      "    \"f1_score\": 0.8226950354609928\n",
      "}\n",
      "/home/rupali/.local/lib/python3.8/site-packages/sklearn/metrics/_classification.py:1245: UndefinedMetricWarning: Precision and F-score are ill-defined and being set to 0.0 in labels with no predicted samples. Use `zero_division` parameter to control this behavior.\n",
      "  _warn_prf(average, modifier, msg_start, len(result))\n",
      "/home/rupali/.local/lib/python3.8/site-packages/sklearn/metrics/_classification.py:1245: UndefinedMetricWarning: Precision and F-score are ill-defined and being set to 0.0 in labels with no predicted samples. Use `zero_division` parameter to control this behavior.\n",
      "  _warn_prf(average, modifier, msg_start, len(result))\n",
      "/home/rupali/.local/lib/python3.8/site-packages/sklearn/metrics/_classification.py:1245: UndefinedMetricWarning: Precision and F-score are ill-defined and being set to 0.0 in labels with no predicted samples. Use `zero_division` parameter to control this behavior.\n",
      "  _warn_prf(average, modifier, msg_start, len(result))\n",
      "INFO:autogluon.tabular.learner.abstract_learner:Detailed (per-class) classification report:\n",
      "INFO:autogluon.tabular.learner.abstract_learner:{\n",
      "    \"1\": {\n",
      "        \"precision\": 0.0,\n",
      "        \"recall\": 0.0,\n",
      "        \"f1-score\": 0.0,\n",
      "        \"support\": 25\n",
      "    },\n",
      "    \"2\": {\n",
      "        \"precision\": 0.8226950354609929,\n",
      "        \"recall\": 1.0,\n",
      "        \"f1-score\": 0.9027237354085603,\n",
      "        \"support\": 116\n",
      "    },\n",
      "    \"accuracy\": 0.8226950354609929,\n",
      "    \"macro avg\": {\n",
      "        \"precision\": 0.41134751773049644,\n",
      "        \"recall\": 0.5,\n",
      "        \"f1-score\": 0.45136186770428016,\n",
      "        \"support\": 141\n",
      "    },\n",
      "    \"weighted avg\": {\n",
      "        \"precision\": 0.6768271213721644,\n",
      "        \"recall\": 0.8226950354609929,\n",
      "        \"f1-score\": 0.7426663355134255,\n",
      "        \"support\": 141\n",
      "    }\n",
      "}\n"
     ]
    }
   ],
   "source": [
    "## test on original data\n",
    "y_pred_test = predictor.predict(test_data)\n",
    "perf = predictor.evaluate_predictions(y_true=pd.Series(test_labels), y_pred=y_pred_test, auxiliary_metrics=True)"
   ]
  },
  {
   "cell_type": "code",
   "execution_count": 264,
   "metadata": {
    "ExecuteTime": {
     "end_time": "2021-03-26T00:14:36.225636Z",
     "start_time": "2021-03-26T00:14:36.110089Z"
    },
    "scrolled": true
   },
   "outputs": [
    {
     "name": "stderr",
     "output_type": "stream",
     "text": [
      "/home/rupali/.local/lib/python3.8/site-packages/ipykernel/ipkernel.py:283: DeprecationWarning: `should_run_async` will not call `transform_cell` automatically in the future. Please pass the result to `transformed_cell` argument and any exception that happen during thetransform in `preprocessing_exc_tuple` in IPython 7.17 and above.\n",
      "  and should_run_async(code)\n",
      "INFO:autogluon.tabular.learner.abstract_learner:Evaluation: accuracy on test data: 0.8226950354609929\n",
      "INFO:autogluon.tabular.learner.abstract_learner:Evaluations on test data:\n",
      "INFO:autogluon.tabular.learner.abstract_learner:{\n",
      "    \"accuracy\": 0.8226950354609929,\n",
      "    \"accuracy_score\": 0.8226950354609929,\n",
      "    \"balanced_accuracy_score\": 0.5,\n",
      "    \"matthews_corrcoef\": 0.0,\n",
      "    \"f1_score\": 0.8226950354609928\n",
      "}\n",
      "/home/rupali/.local/lib/python3.8/site-packages/sklearn/metrics/_classification.py:1245: UndefinedMetricWarning: Precision and F-score are ill-defined and being set to 0.0 in labels with no predicted samples. Use `zero_division` parameter to control this behavior.\n",
      "  _warn_prf(average, modifier, msg_start, len(result))\n",
      "/home/rupali/.local/lib/python3.8/site-packages/sklearn/metrics/_classification.py:1245: UndefinedMetricWarning: Precision and F-score are ill-defined and being set to 0.0 in labels with no predicted samples. Use `zero_division` parameter to control this behavior.\n",
      "  _warn_prf(average, modifier, msg_start, len(result))\n",
      "/home/rupali/.local/lib/python3.8/site-packages/sklearn/metrics/_classification.py:1245: UndefinedMetricWarning: Precision and F-score are ill-defined and being set to 0.0 in labels with no predicted samples. Use `zero_division` parameter to control this behavior.\n",
      "  _warn_prf(average, modifier, msg_start, len(result))\n",
      "INFO:autogluon.tabular.learner.abstract_learner:Detailed (per-class) classification report:\n",
      "INFO:autogluon.tabular.learner.abstract_learner:{\n",
      "    \"1\": {\n",
      "        \"precision\": 0.0,\n",
      "        \"recall\": 0.0,\n",
      "        \"f1-score\": 0.0,\n",
      "        \"support\": 25\n",
      "    },\n",
      "    \"2\": {\n",
      "        \"precision\": 0.8226950354609929,\n",
      "        \"recall\": 1.0,\n",
      "        \"f1-score\": 0.9027237354085603,\n",
      "        \"support\": 116\n",
      "    },\n",
      "    \"accuracy\": 0.8226950354609929,\n",
      "    \"macro avg\": {\n",
      "        \"precision\": 0.41134751773049644,\n",
      "        \"recall\": 0.5,\n",
      "        \"f1-score\": 0.45136186770428016,\n",
      "        \"support\": 141\n",
      "    },\n",
      "    \"weighted avg\": {\n",
      "        \"precision\": 0.6768271213721644,\n",
      "        \"recall\": 0.8226950354609929,\n",
      "        \"f1-score\": 0.7426663355134255,\n",
      "        \"support\": 141\n",
      "    }\n",
      "}\n"
     ]
    }
   ],
   "source": [
    "## test on corrupted data\n",
    "y_pred_corrupted = predictor.predict(df_corrupted)\n",
    "perf = predictor.evaluate_predictions(y_true=pd.Series(test_labels), y_pred=y_pred_corrupted, auxiliary_metrics=True)"
   ]
  },
  {
   "cell_type": "code",
   "execution_count": 265,
   "metadata": {
    "ExecuteTime": {
     "end_time": "2021-03-26T00:14:40.909760Z",
     "start_time": "2021-03-26T00:14:40.792155Z"
    },
    "scrolled": true
   },
   "outputs": [
    {
     "name": "stderr",
     "output_type": "stream",
     "text": [
      "/home/rupali/.local/lib/python3.8/site-packages/ipykernel/ipkernel.py:283: DeprecationWarning: `should_run_async` will not call `transform_cell` automatically in the future. Please pass the result to `transformed_cell` argument and any exception that happen during thetransform in `preprocessing_exc_tuple` in IPython 7.17 and above.\n",
      "  and should_run_async(code)\n",
      "INFO:autogluon.tabular.learner.abstract_learner:Evaluation: accuracy on test data: 0.8226950354609929\n",
      "INFO:autogluon.tabular.learner.abstract_learner:Evaluations on test data:\n",
      "INFO:autogluon.tabular.learner.abstract_learner:{\n",
      "    \"accuracy\": 0.8226950354609929,\n",
      "    \"accuracy_score\": 0.8226950354609929,\n",
      "    \"balanced_accuracy_score\": 0.5,\n",
      "    \"matthews_corrcoef\": 0.0,\n",
      "    \"f1_score\": 0.8226950354609928\n",
      "}\n",
      "/home/rupali/.local/lib/python3.8/site-packages/sklearn/metrics/_classification.py:1245: UndefinedMetricWarning: Precision and F-score are ill-defined and being set to 0.0 in labels with no predicted samples. Use `zero_division` parameter to control this behavior.\n",
      "  _warn_prf(average, modifier, msg_start, len(result))\n",
      "/home/rupali/.local/lib/python3.8/site-packages/sklearn/metrics/_classification.py:1245: UndefinedMetricWarning: Precision and F-score are ill-defined and being set to 0.0 in labels with no predicted samples. Use `zero_division` parameter to control this behavior.\n",
      "  _warn_prf(average, modifier, msg_start, len(result))\n",
      "/home/rupali/.local/lib/python3.8/site-packages/sklearn/metrics/_classification.py:1245: UndefinedMetricWarning: Precision and F-score are ill-defined and being set to 0.0 in labels with no predicted samples. Use `zero_division` parameter to control this behavior.\n",
      "  _warn_prf(average, modifier, msg_start, len(result))\n",
      "INFO:autogluon.tabular.learner.abstract_learner:Detailed (per-class) classification report:\n",
      "INFO:autogluon.tabular.learner.abstract_learner:{\n",
      "    \"1\": {\n",
      "        \"precision\": 0.0,\n",
      "        \"recall\": 0.0,\n",
      "        \"f1-score\": 0.0,\n",
      "        \"support\": 25\n",
      "    },\n",
      "    \"2\": {\n",
      "        \"precision\": 0.8226950354609929,\n",
      "        \"recall\": 1.0,\n",
      "        \"f1-score\": 0.9027237354085603,\n",
      "        \"support\": 116\n",
      "    },\n",
      "    \"accuracy\": 0.8226950354609929,\n",
      "    \"macro avg\": {\n",
      "        \"precision\": 0.41134751773049644,\n",
      "        \"recall\": 0.5,\n",
      "        \"f1-score\": 0.45136186770428016,\n",
      "        \"support\": 141\n",
      "    },\n",
      "    \"weighted avg\": {\n",
      "        \"precision\": 0.6768271213721644,\n",
      "        \"recall\": 0.8226950354609929,\n",
      "        \"f1-score\": 0.7426663355134255,\n",
      "        \"support\": 141\n",
      "    }\n",
      "}\n"
     ]
    }
   ],
   "source": [
    "## test on cleaned data\n",
    "y_pred_cleaned = predictor.predict(df_cleaned)\n",
    "perf = predictor.evaluate_predictions(y_true=pd.Series(test_labels), y_pred=y_pred_cleaned, auxiliary_metrics=True)"
   ]
  },
  {
   "cell_type": "code",
   "execution_count": 266,
   "metadata": {
    "ExecuteTime": {
     "end_time": "2021-03-26T00:14:46.901208Z",
     "start_time": "2021-03-26T00:14:46.075718Z"
    }
   },
   "outputs": [
    {
     "name": "stderr",
     "output_type": "stream",
     "text": [
      "/home/rupali/.local/lib/python3.8/site-packages/ipykernel/ipkernel.py:283: DeprecationWarning: `should_run_async` will not call `transform_cell` automatically in the future. Please pass the result to `transformed_cell` argument and any exception that happen during thetransform in `preprocessing_exc_tuple` in IPython 7.17 and above.\n",
      "  and should_run_async(code)\n"
     ]
    },
    {
     "name": "stdout",
     "output_type": "stream",
     "text": [
      "█\r"
     ]
    },
    {
     "data": {
      "text/html": [
       "<div>\n",
       "<style scoped>\n",
       "    .dataframe tbody tr th:only-of-type {\n",
       "        vertical-align: middle;\n",
       "    }\n",
       "\n",
       "    .dataframe tbody tr th {\n",
       "        vertical-align: top;\n",
       "    }\n",
       "\n",
       "    .dataframe thead th {\n",
       "        text-align: right;\n",
       "    }\n",
       "</style>\n",
       "<table border=\"1\" class=\"dataframe\">\n",
       "  <thead>\n",
       "    <tr style=\"text-align: right;\">\n",
       "      <th></th>\n",
       "      <th>model</th>\n",
       "      <th>score_test</th>\n",
       "      <th>score_val</th>\n",
       "      <th>pred_time_test</th>\n",
       "      <th>pred_time_val</th>\n",
       "      <th>fit_time</th>\n",
       "      <th>pred_time_test_marginal</th>\n",
       "      <th>pred_time_val_marginal</th>\n",
       "      <th>fit_time_marginal</th>\n",
       "      <th>stack_level</th>\n",
       "      <th>can_infer</th>\n",
       "      <th>fit_order</th>\n",
       "    </tr>\n",
       "  </thead>\n",
       "  <tbody>\n",
       "    <tr>\n",
       "      <th>0</th>\n",
       "      <td>LightGBMXT</td>\n",
       "      <td>0.822695</td>\n",
       "      <td>0.863636</td>\n",
       "      <td>0.015985</td>\n",
       "      <td>0.019807</td>\n",
       "      <td>0.565477</td>\n",
       "      <td>0.015985</td>\n",
       "      <td>0.019807</td>\n",
       "      <td>0.565477</td>\n",
       "      <td>1</td>\n",
       "      <td>True</td>\n",
       "      <td>8</td>\n",
       "    </tr>\n",
       "    <tr>\n",
       "      <th>1</th>\n",
       "      <td>LightGBMLarge</td>\n",
       "      <td>0.822695</td>\n",
       "      <td>0.863636</td>\n",
       "      <td>0.019482</td>\n",
       "      <td>0.017002</td>\n",
       "      <td>0.703127</td>\n",
       "      <td>0.019482</td>\n",
       "      <td>0.017002</td>\n",
       "      <td>0.703127</td>\n",
       "      <td>1</td>\n",
       "      <td>True</td>\n",
       "      <td>12</td>\n",
       "    </tr>\n",
       "    <tr>\n",
       "      <th>2</th>\n",
       "      <td>LightGBM</td>\n",
       "      <td>0.822695</td>\n",
       "      <td>0.863636</td>\n",
       "      <td>0.020127</td>\n",
       "      <td>0.017831</td>\n",
       "      <td>0.847258</td>\n",
       "      <td>0.020127</td>\n",
       "      <td>0.017831</td>\n",
       "      <td>0.847258</td>\n",
       "      <td>1</td>\n",
       "      <td>True</td>\n",
       "      <td>7</td>\n",
       "    </tr>\n",
       "    <tr>\n",
       "      <th>3</th>\n",
       "      <td>CatBoost</td>\n",
       "      <td>0.822695</td>\n",
       "      <td>0.863636</td>\n",
       "      <td>0.021599</td>\n",
       "      <td>0.019487</td>\n",
       "      <td>0.448039</td>\n",
       "      <td>0.021599</td>\n",
       "      <td>0.019487</td>\n",
       "      <td>0.448039</td>\n",
       "      <td>1</td>\n",
       "      <td>True</td>\n",
       "      <td>9</td>\n",
       "    </tr>\n",
       "    <tr>\n",
       "      <th>4</th>\n",
       "      <td>WeightedEnsemble_L2</td>\n",
       "      <td>0.822695</td>\n",
       "      <td>0.863636</td>\n",
       "      <td>0.025242</td>\n",
       "      <td>0.023716</td>\n",
       "      <td>0.837128</td>\n",
       "      <td>0.003644</td>\n",
       "      <td>0.004229</td>\n",
       "      <td>0.389089</td>\n",
       "      <td>2</td>\n",
       "      <td>True</td>\n",
       "      <td>13</td>\n",
       "    </tr>\n",
       "    <tr>\n",
       "      <th>5</th>\n",
       "      <td>NeuralNetFastAI</td>\n",
       "      <td>0.822695</td>\n",
       "      <td>0.863636</td>\n",
       "      <td>0.164247</td>\n",
       "      <td>0.105555</td>\n",
       "      <td>6.099910</td>\n",
       "      <td>0.164247</td>\n",
       "      <td>0.105555</td>\n",
       "      <td>6.099910</td>\n",
       "      <td>1</td>\n",
       "      <td>True</td>\n",
       "      <td>11</td>\n",
       "    </tr>\n",
       "    <tr>\n",
       "      <th>6</th>\n",
       "      <td>KNeighborsDist</td>\n",
       "      <td>0.815603</td>\n",
       "      <td>0.803030</td>\n",
       "      <td>0.007434</td>\n",
       "      <td>0.009465</td>\n",
       "      <td>0.004376</td>\n",
       "      <td>0.007434</td>\n",
       "      <td>0.009465</td>\n",
       "      <td>0.004376</td>\n",
       "      <td>1</td>\n",
       "      <td>True</td>\n",
       "      <td>6</td>\n",
       "    </tr>\n",
       "    <tr>\n",
       "      <th>7</th>\n",
       "      <td>KNeighborsUnif</td>\n",
       "      <td>0.815603</td>\n",
       "      <td>0.863636</td>\n",
       "      <td>0.007927</td>\n",
       "      <td>0.006374</td>\n",
       "      <td>0.005564</td>\n",
       "      <td>0.007927</td>\n",
       "      <td>0.006374</td>\n",
       "      <td>0.005564</td>\n",
       "      <td>1</td>\n",
       "      <td>True</td>\n",
       "      <td>5</td>\n",
       "    </tr>\n",
       "    <tr>\n",
       "      <th>8</th>\n",
       "      <td>RandomForestGini</td>\n",
       "      <td>0.808511</td>\n",
       "      <td>0.848485</td>\n",
       "      <td>0.105643</td>\n",
       "      <td>0.096689</td>\n",
       "      <td>0.706650</td>\n",
       "      <td>0.105643</td>\n",
       "      <td>0.096689</td>\n",
       "      <td>0.706650</td>\n",
       "      <td>1</td>\n",
       "      <td>True</td>\n",
       "      <td>1</td>\n",
       "    </tr>\n",
       "    <tr>\n",
       "      <th>9</th>\n",
       "      <td>XGBoost</td>\n",
       "      <td>0.794326</td>\n",
       "      <td>0.863636</td>\n",
       "      <td>0.024870</td>\n",
       "      <td>0.009048</td>\n",
       "      <td>0.252273</td>\n",
       "      <td>0.024870</td>\n",
       "      <td>0.009048</td>\n",
       "      <td>0.252273</td>\n",
       "      <td>1</td>\n",
       "      <td>True</td>\n",
       "      <td>10</td>\n",
       "    </tr>\n",
       "    <tr>\n",
       "      <th>10</th>\n",
       "      <td>RandomForestEntr</td>\n",
       "      <td>0.794326</td>\n",
       "      <td>0.848485</td>\n",
       "      <td>0.109606</td>\n",
       "      <td>0.113108</td>\n",
       "      <td>0.727563</td>\n",
       "      <td>0.109606</td>\n",
       "      <td>0.113108</td>\n",
       "      <td>0.727563</td>\n",
       "      <td>1</td>\n",
       "      <td>True</td>\n",
       "      <td>2</td>\n",
       "    </tr>\n",
       "    <tr>\n",
       "      <th>11</th>\n",
       "      <td>ExtraTreesGini</td>\n",
       "      <td>0.780142</td>\n",
       "      <td>0.818182</td>\n",
       "      <td>0.111034</td>\n",
       "      <td>0.096030</td>\n",
       "      <td>0.564989</td>\n",
       "      <td>0.111034</td>\n",
       "      <td>0.096030</td>\n",
       "      <td>0.564989</td>\n",
       "      <td>1</td>\n",
       "      <td>True</td>\n",
       "      <td>3</td>\n",
       "    </tr>\n",
       "    <tr>\n",
       "      <th>12</th>\n",
       "      <td>ExtraTreesEntr</td>\n",
       "      <td>0.765957</td>\n",
       "      <td>0.848485</td>\n",
       "      <td>0.115304</td>\n",
       "      <td>0.092873</td>\n",
       "      <td>0.503061</td>\n",
       "      <td>0.115304</td>\n",
       "      <td>0.092873</td>\n",
       "      <td>0.503061</td>\n",
       "      <td>1</td>\n",
       "      <td>True</td>\n",
       "      <td>4</td>\n",
       "    </tr>\n",
       "  </tbody>\n",
       "</table>\n",
       "</div>"
      ],
      "text/plain": [
       "                  model  score_test  score_val  pred_time_test  pred_time_val  \\\n",
       "0            LightGBMXT    0.822695   0.863636        0.015985       0.019807   \n",
       "1         LightGBMLarge    0.822695   0.863636        0.019482       0.017002   \n",
       "2              LightGBM    0.822695   0.863636        0.020127       0.017831   \n",
       "3              CatBoost    0.822695   0.863636        0.021599       0.019487   \n",
       "4   WeightedEnsemble_L2    0.822695   0.863636        0.025242       0.023716   \n",
       "5       NeuralNetFastAI    0.822695   0.863636        0.164247       0.105555   \n",
       "6        KNeighborsDist    0.815603   0.803030        0.007434       0.009465   \n",
       "7        KNeighborsUnif    0.815603   0.863636        0.007927       0.006374   \n",
       "8      RandomForestGini    0.808511   0.848485        0.105643       0.096689   \n",
       "9               XGBoost    0.794326   0.863636        0.024870       0.009048   \n",
       "10     RandomForestEntr    0.794326   0.848485        0.109606       0.113108   \n",
       "11       ExtraTreesGini    0.780142   0.818182        0.111034       0.096030   \n",
       "12       ExtraTreesEntr    0.765957   0.848485        0.115304       0.092873   \n",
       "\n",
       "    fit_time  pred_time_test_marginal  pred_time_val_marginal  \\\n",
       "0   0.565477                 0.015985                0.019807   \n",
       "1   0.703127                 0.019482                0.017002   \n",
       "2   0.847258                 0.020127                0.017831   \n",
       "3   0.448039                 0.021599                0.019487   \n",
       "4   0.837128                 0.003644                0.004229   \n",
       "5   6.099910                 0.164247                0.105555   \n",
       "6   0.004376                 0.007434                0.009465   \n",
       "7   0.005564                 0.007927                0.006374   \n",
       "8   0.706650                 0.105643                0.096689   \n",
       "9   0.252273                 0.024870                0.009048   \n",
       "10  0.727563                 0.109606                0.113108   \n",
       "11  0.564989                 0.111034                0.096030   \n",
       "12  0.503061                 0.115304                0.092873   \n",
       "\n",
       "    fit_time_marginal  stack_level  can_infer  fit_order  \n",
       "0            0.565477            1       True          8  \n",
       "1            0.703127            1       True         12  \n",
       "2            0.847258            1       True          7  \n",
       "3            0.448039            1       True          9  \n",
       "4            0.389089            2       True         13  \n",
       "5            6.099910            1       True         11  \n",
       "6            0.004376            1       True          6  \n",
       "7            0.005564            1       True          5  \n",
       "8            0.706650            1       True          1  \n",
       "9            0.252273            1       True         10  \n",
       "10           0.727563            1       True          2  \n",
       "11           0.564989            1       True          3  \n",
       "12           0.503061            1       True          4  "
      ]
     },
     "execution_count": 266,
     "metadata": {},
     "output_type": "execute_result"
    }
   ],
   "source": [
    "## We can evaluate the performance of each individual trained model on our (labeled) test data\n",
    "test_data[\"class\"] = test_labels\n",
    "predictor.leaderboard(test_data, silent=True)"
   ]
  },
  {
   "cell_type": "code",
   "execution_count": 267,
   "metadata": {
    "ExecuteTime": {
     "end_time": "2021-03-26T00:14:49.156211Z",
     "start_time": "2021-03-26T00:14:49.146771Z"
    }
   },
   "outputs": [
    {
     "name": "stderr",
     "output_type": "stream",
     "text": [
      "/home/rupali/.local/lib/python3.8/site-packages/ipykernel/ipkernel.py:283: DeprecationWarning: `should_run_async` will not call `transform_cell` automatically in the future. Please pass the result to `transformed_cell` argument and any exception that happen during thetransform in `preprocessing_exc_tuple` in IPython 7.17 and above.\n",
      "  and should_run_async(code)\n"
     ]
    },
    {
     "data": {
      "text/plain": [
       "OrderedDict([('accuracy', 0.8226950354609929),\n",
       "             ('accuracy_score', 0.8226950354609929),\n",
       "             ('balanced_accuracy_score', 0.5),\n",
       "             ('matthews_corrcoef', 0.0),\n",
       "             ('f1_score', 0.8226950354609928),\n",
       "             ('confusion_matrix',\n",
       "                 1    2\n",
       "              1  0   25\n",
       "              2  0  116),\n",
       "             ('classification_report',\n",
       "              {'1': {'precision': 0.0,\n",
       "                'recall': 0.0,\n",
       "                'f1-score': 0.0,\n",
       "                'support': 25},\n",
       "               '2': {'precision': 0.8226950354609929,\n",
       "                'recall': 1.0,\n",
       "                'f1-score': 0.9027237354085603,\n",
       "                'support': 116},\n",
       "               'accuracy': 0.8226950354609929,\n",
       "               'macro avg': {'precision': 0.41134751773049644,\n",
       "                'recall': 0.5,\n",
       "                'f1-score': 0.45136186770428016,\n",
       "                'support': 141},\n",
       "               'weighted avg': {'precision': 0.6768271213721644,\n",
       "                'recall': 0.8226950354609929,\n",
       "                'f1-score': 0.7426663355134255,\n",
       "                'support': 141}})])"
      ]
     },
     "execution_count": 267,
     "metadata": {},
     "output_type": "execute_result"
    }
   ],
   "source": [
    "perf"
   ]
  },
  {
   "cell_type": "code",
   "execution_count": 268,
   "metadata": {
    "ExecuteTime": {
     "end_time": "2021-03-26T00:14:54.431291Z",
     "start_time": "2021-03-26T00:14:54.423182Z"
    }
   },
   "outputs": [
    {
     "name": "stderr",
     "output_type": "stream",
     "text": [
      "/home/rupali/.local/lib/python3.8/site-packages/ipykernel/ipkernel.py:283: DeprecationWarning: `should_run_async` will not call `transform_cell` automatically in the future. Please pass the result to `transformed_cell` argument and any exception that happen during thetransform in `preprocessing_exc_tuple` in IPython 7.17 and above.\n",
      "  and should_run_async(code)\n"
     ]
    },
    {
     "data": {
      "text/plain": [
       "{'1': {'precision': 0.0, 'recall': 0.0, 'f1-score': 0.0, 'support': 25},\n",
       " '2': {'precision': 0.8226950354609929,\n",
       "  'recall': 1.0,\n",
       "  'f1-score': 0.9027237354085603,\n",
       "  'support': 116},\n",
       " 'accuracy': 0.8226950354609929,\n",
       " 'macro avg': {'precision': 0.41134751773049644,\n",
       "  'recall': 0.5,\n",
       "  'f1-score': 0.45136186770428016,\n",
       "  'support': 141},\n",
       " 'weighted avg': {'precision': 0.6768271213721644,\n",
       "  'recall': 0.8226950354609929,\n",
       "  'f1-score': 0.7426663355134255,\n",
       "  'support': 141}}"
      ]
     },
     "execution_count": 268,
     "metadata": {},
     "output_type": "execute_result"
    }
   ],
   "source": [
    "list(perf.items())[6][1]"
   ]
  },
  {
   "cell_type": "code",
   "execution_count": 269,
   "metadata": {
    "ExecuteTime": {
     "end_time": "2021-03-26T00:14:55.582457Z",
     "start_time": "2021-03-26T00:14:55.487495Z"
    },
    "scrolled": true
   },
   "outputs": [
    {
     "data": {
      "text/plain": [
       "0.5432758620689655"
      ]
     },
     "execution_count": 269,
     "metadata": {},
     "output_type": "execute_result"
    }
   ],
   "source": [
    "from sklearn.metrics import roc_auc_score\n",
    "\n",
    "roc_auc_score(test_labels, np.transpose(predictor.predict_proba(test_data)).to_numpy()[1])"
   ]
  },
  {
   "cell_type": "code",
   "execution_count": 270,
   "metadata": {
    "ExecuteTime": {
     "end_time": "2021-03-26T00:14:58.072569Z",
     "start_time": "2021-03-26T00:14:58.061814Z"
    }
   },
   "outputs": [
    {
     "name": "stderr",
     "output_type": "stream",
     "text": [
      "/home/rupali/.local/lib/python3.8/site-packages/ipykernel/ipkernel.py:283: DeprecationWarning: `should_run_async` will not call `transform_cell` automatically in the future. Please pass the result to `transformed_cell` argument and any exception that happen during thetransform in `preprocessing_exc_tuple` in IPython 7.17 and above.\n",
      "  and should_run_async(code)\n",
      "INFO:autogluon.tabular.learner.abstract_learner:Evaluation: accuracy on test data: 0.8226950354609929\n"
     ]
    },
    {
     "data": {
      "text/plain": [
       "0.8226950354609929"
      ]
     },
     "execution_count": 270,
     "metadata": {},
     "output_type": "execute_result"
    }
   ],
   "source": [
    "perf = predictor.evaluate_predictions(y_true=pd.Series(test_labels), y_pred=y_pred_cleaned, auxiliary_metrics=False)\n",
    "perf"
   ]
  },
  {
   "cell_type": "markdown",
   "metadata": {},
   "source": [
    "## Undefined Model: Default setting: whole process"
   ]
  },
  {
   "cell_type": "code",
   "execution_count": 10,
   "metadata": {
    "ExecuteTime": {
     "end_time": "2021-03-24T22:11:00.120700Z",
     "start_time": "2021-03-24T22:11:00.114839Z"
    },
    "executionInfo": {
     "elapsed": 16053,
     "status": "ok",
     "timestamp": 1605649251308,
     "user": {
      "displayName": "Rupali Sharma",
      "photoUrl": "https://lh3.googleusercontent.com/a-/AOh14GiH6obBahOBk5ezQLBEEgw1DvKRo8haEZvXXnQ83ww=s64",
      "userId": "15074179419258593720"
     },
     "user_tz": -60
    },
    "id": "GabaIbVdZm6o"
   },
   "outputs": [
    {
     "name": "stderr",
     "output_type": "stream",
     "text": [
      "/home/rupali/.local/lib/python3.8/site-packages/ipykernel/ipkernel.py:283: DeprecationWarning: `should_run_async` will not call `transform_cell` automatically in the future. Please pass the result to `transformed_cell` argument and any exception that happen during thetransform in `preprocessing_exc_tuple` in IPython 7.17 and above.\n",
      "  and should_run_async(code)\n"
     ]
    }
   ],
   "source": [
    "from jenga.corruptions.generic import MissingValues, SwappedValues, CategoricalShift\n",
    "from jenga.corruptions.numerical import Scaling, GaussianNoise\n",
    "\n",
    "corruptions = [MissingValues, Scaling, GaussianNoise, CategoricalShift]\n",
    "fraction = 0.5\n",
    "num_repetitions = 5"
   ]
  },
  {
   "cell_type": "code",
   "execution_count": 11,
   "metadata": {
    "ExecuteTime": {
     "end_time": "2021-03-24T22:11:32.267878Z",
     "start_time": "2021-03-24T22:11:01.025372Z"
    },
    "colab": {
     "base_uri": "https://localhost:8080/"
    },
    "executionInfo": {
     "elapsed": 20838,
     "status": "ok",
     "timestamp": 1605649256099,
     "user": {
      "displayName": "Rupali Sharma",
      "photoUrl": "https://lh3.googleusercontent.com/a-/AOh14GiH6obBahOBk5ezQLBEEgw1DvKRo8haEZvXXnQ83ww=s64",
      "userId": "15074179419258593720"
     },
     "user_tz": -60
    },
    "id": "x5D_Ma-Pgodt",
    "outputId": "40fbf28d-b789-4347-df19-eb2390a8f960",
    "scrolled": true
   },
   "outputs": [
    {
     "name": "stderr",
     "output_type": "stream",
     "text": [
      "No path specified. Models will be saved in: \"AutogluonModels/ag-20210324_221101/\"\n",
      "Beginning AutoGluon training ...\n",
      "AutoGluon will save models to \"AutogluonModels/ag-20210324_221101/\"\n",
      "AutoGluon Version:  0.1.0\n",
      "Train Data Rows:    606\n",
      "Train Data Columns: 100\n",
      "Preprocessing data ...\n",
      "AutoGluon infers your prediction problem is: 'binary' (because only two unique label-values observed).\n",
      "\t2 unique label values:  [0, 1]\n",
      "\tIf 'binary' is not the correct problem_type, please manually specify the problem_type argument in fit() (You may specify problem_type as one of: ['binary', 'multiclass', 'regression'])\n",
      "Selected class <--> label mapping:  class 1 = 1, class 0 = 0\n",
      "Using Feature Generators to preprocess the data ...\n",
      "Fitting AutoMLPipelineFeatureGenerator...\n",
      "\tAvailable Memory:                    3047.73 MB\n",
      "\tTrain Data (Original)  Memory Usage: 0.48 MB (0.0% of available memory)\n",
      "\tInferring data type of each feature based on column values. Set feature_metadata_in to manually specify special dtypes of the features.\n",
      "\tStage 1 Generators:\n",
      "\t\tFitting AsTypeFeatureGenerator...\n",
      "\tStage 2 Generators:\n",
      "\t\tFitting FillNaFeatureGenerator...\n",
      "\tStage 3 Generators:\n",
      "\t\tFitting IdentityFeatureGenerator...\n",
      "\tStage 4 Generators:\n",
      "\t\tFitting DropUniqueFeatureGenerator...\n",
      "\tTypes of features in original data (raw dtype, special dtypes):\n",
      "\t\t('float', []) : 100 | ['X1', 'X2', 'X3', 'X4', 'X5', ...]\n",
      "\tTypes of features in processed data (raw dtype, special dtypes):\n",
      "\t\t('float', []) : 100 | ['X1', 'X2', 'X3', 'X4', 'X5', ...]\n",
      "\t0.2s = Fit runtime\n",
      "\t100 features in original data used to generate 100 features in processed data.\n",
      "\tTrain Data (Processed) Memory Usage: 0.48 MB (0.0% of available memory)\n",
      "Data preprocessing and feature engineering runtime = 0.2s ...\n",
      "AutoGluon will gauge predictive performance using evaluation metric: 'accuracy'\n",
      "\tTo change this, specify the eval_metric argument of fit()\n",
      "Automatically generating train/validation split with holdout_frac=0.2, Train Rows: 484, Val Rows: 122\n",
      "Fitting model: RandomForestGini ...\n",
      "\t0.6311\t = Validation accuracy score\n",
      "\t0.84s\t = Training runtime\n",
      "\t0.09s\t = Validation runtime\n",
      "Fitting model: RandomForestEntr ...\n",
      "\t0.6311\t = Validation accuracy score\n",
      "\t1.21s\t = Training runtime\n",
      "\t0.07s\t = Validation runtime\n",
      "Fitting model: ExtraTreesGini ...\n",
      "\t0.623\t = Validation accuracy score\n",
      "\t0.49s\t = Training runtime\n",
      "\t0.08s\t = Validation runtime\n",
      "Fitting model: ExtraTreesEntr ...\n",
      "\t0.6475\t = Validation accuracy score\n",
      "\t0.52s\t = Training runtime\n",
      "\t0.09s\t = Validation runtime\n",
      "Fitting model: KNeighborsUnif ...\n",
      "\t0.582\t = Validation accuracy score\n",
      "\t0.01s\t = Training runtime\n",
      "\t0.01s\t = Validation runtime\n",
      "Fitting model: KNeighborsDist ...\n",
      "\t0.6148\t = Validation accuracy score\n",
      "\t0.0s\t = Training runtime\n",
      "\t0.02s\t = Validation runtime\n",
      "Fitting model: LightGBM ...\n",
      "\t0.6148\t = Validation accuracy score\n",
      "\t2.12s\t = Training runtime\n",
      "\t0.01s\t = Validation runtime\n",
      "Fitting model: LightGBMXT ...\n",
      "\t0.623\t = Validation accuracy score\n",
      "\t0.92s\t = Training runtime\n",
      "\t0.01s\t = Validation runtime\n",
      "Fitting model: CatBoost ...\n",
      "\t0.5984\t = Validation accuracy score\n",
      "\t6.81s\t = Training runtime\n",
      "\t0.0s\t = Validation runtime\n",
      "Fitting model: XGBoost ...\n",
      "\t0.6885\t = Validation accuracy score\n",
      "\t2.08s\t = Training runtime\n",
      "\t0.01s\t = Validation runtime\n",
      "Fitting model: NeuralNetMXNet ...\n",
      "\tWarning: Exception caused NeuralNetMXNet to fail during training... Skipping this model.\n",
      "\t\tlibopenblas.so.0: cannot open shared object file: No such file or directory\n",
      "Detailed Traceback:\n",
      "Traceback (most recent call last):\n",
      "  File \"/home/rupali/.local/lib/python3.8/site-packages/autogluon/tabular/trainer/abstract_trainer.py\", line 911, in _train_and_save\n",
      "    model = self._train_single(X, y, model, X_val, y_val, **model_fit_kwargs)\n",
      "  File \"/home/rupali/.local/lib/python3.8/site-packages/autogluon/tabular/trainer/abstract_trainer.py\", line 883, in _train_single\n",
      "    model.fit(X=X, y=y, X_val=X_val, y_val=y_val, **model_fit_kwargs)\n",
      "  File \"/home/rupali/.local/lib/python3.8/site-packages/autogluon/core/models/abstract/abstract_model.py\", line 405, in fit\n",
      "    self._fit(**kwargs)\n",
      "  File \"/home/rupali/.local/lib/python3.8/site-packages/autogluon/tabular/models/tabular_nn/tabular_nn_model.py\", line 177, in _fit\n",
      "    try_import_mxnet()\n",
      "  File \"/home/rupali/.local/lib/python3.8/site-packages/autogluon/core/utils/try_import.py\", line 29, in try_import_mxnet\n",
      "    import mxnet as mx\n",
      "  File \"/home/rupali/.local/lib/python3.8/site-packages/mxnet/__init__.py\", line 23, in <module>\n",
      "    from .context import Context, current_context, cpu, gpu, cpu_pinned\n",
      "  File \"/home/rupali/.local/lib/python3.8/site-packages/mxnet/context.py\", line 23, in <module>\n",
      "    from .base import classproperty, with_metaclass, _MXClassPropertyMetaClass\n",
      "  File \"/home/rupali/.local/lib/python3.8/site-packages/mxnet/base.py\", line 351, in <module>\n",
      "    _LIB = _load_lib()\n",
      "  File \"/home/rupali/.local/lib/python3.8/site-packages/mxnet/base.py\", line 342, in _load_lib\n",
      "    lib = ctypes.CDLL(lib_path[0], ctypes.RTLD_LOCAL)\n",
      "  File \"/usr/lib/python3.8/ctypes/__init__.py\", line 373, in __init__\n",
      "    self._handle = _dlopen(self._name, mode)\n",
      "OSError: libopenblas.so.0: cannot open shared object file: No such file or directory\n",
      "Fitting model: NeuralNetFastAI ...\n"
     ]
    },
    {
     "name": "stdout",
     "output_type": "stream",
     "text": [
      "█\r"
     ]
    },
    {
     "name": "stderr",
     "output_type": "stream",
     "text": [
      "\t0.6148\t = Validation accuracy score\n",
      "\t7.82s\t = Training runtime\n",
      "\t0.2s\t = Validation runtime\n",
      "Fitting model: LightGBMLarge ...\n",
      "\t0.6393\t = Validation accuracy score\n",
      "\t5.52s\t = Training runtime\n",
      "\t0.01s\t = Validation runtime\n"
     ]
    },
    {
     "name": "stdout",
     "output_type": "stream",
     "text": [
      "█\r"
     ]
    },
    {
     "name": "stderr",
     "output_type": "stream",
     "text": [
      "Fitting model: WeightedEnsemble_L2 ...\n",
      "\t0.6885\t = Validation accuracy score\n",
      "\t0.5s\t = Training runtime\n",
      "\t0.0s\t = Validation runtime\n",
      "AutoGluon training complete, total runtime = 30.87s ...\n",
      "TabularPredictor saved. To load, use: predictor = TabularPredictor.load(\"AutogluonModels/ag-20210324_221101/\")\n"
     ]
    },
    {
     "name": "stdout",
     "output_type": "stream",
     "text": [
      "\n",
      "Generating corrupted training data on 606 rows... \n",
      "\n",
      "\tperturbation: MissingValues: {'column': 'X98', 'fraction': 0.5, 'sampling': 'MAR', 'na_value': nan}\n",
      "\tperturbation: Scaling: {'column': 'X6', 'fraction': 0.5, 'sampling': 'MAR'}\n",
      "\tperturbation: GaussianNoise: {'column': 'X66', 'fraction': 0.5, 'sampling': 'MAR'}\n"
     ]
    },
    {
     "ename": "IndexError",
     "evalue": "Cannot choose from an empty sequence",
     "output_type": "error",
     "traceback": [
      "\u001b[0;31m---------------------------------------------------------------------------\u001b[0m",
      "\u001b[0;31mIndexError\u001b[0m                                Traceback (most recent call last)",
      "\u001b[0;32m<ipython-input-11-ce035b922787>\u001b[0m in \u001b[0;36m<module>\u001b[0;34m\u001b[0m\n\u001b[1;32m      6\u001b[0m \u001b[0;31m## generate corrpted data\u001b[0m\u001b[0;34m\u001b[0m\u001b[0;34m\u001b[0m\u001b[0;34m\u001b[0m\u001b[0m\n\u001b[1;32m      7\u001b[0m \u001b[0;32mfor\u001b[0m \u001b[0m_\u001b[0m \u001b[0;32min\u001b[0m \u001b[0mrange\u001b[0m\u001b[0;34m(\u001b[0m\u001b[0mnum_repetitions\u001b[0m\u001b[0;34m)\u001b[0m\u001b[0;34m:\u001b[0m\u001b[0;34m\u001b[0m\u001b[0;34m\u001b[0m\u001b[0m\n\u001b[0;32m----> 8\u001b[0;31m     \u001b[0mdf_corrupted\u001b[0m\u001b[0;34m,\u001b[0m \u001b[0mperturbations\u001b[0m\u001b[0;34m,\u001b[0m \u001b[0mcols_perturbed\u001b[0m\u001b[0;34m,\u001b[0m \u001b[0msummary_col_corrupt\u001b[0m \u001b[0;34m=\u001b[0m \u001b[0mppp\u001b[0m\u001b[0;34m.\u001b[0m\u001b[0mget_corrupted\u001b[0m\u001b[0;34m(\u001b[0m\u001b[0mtest_data\u001b[0m\u001b[0;34m,\u001b[0m \u001b[0mcorruptions\u001b[0m\u001b[0;34m,\u001b[0m \u001b[0mfraction\u001b[0m\u001b[0;34m,\u001b[0m \u001b[0mnum_repetitions\u001b[0m\u001b[0;34m)\u001b[0m\u001b[0;34m\u001b[0m\u001b[0;34m\u001b[0m\u001b[0m\n\u001b[0m",
      "\u001b[0;32m~/Documents/Master Thesis/jenga/jenga/cleaning/ppp.py\u001b[0m in \u001b[0;36mget_corrupted\u001b[0;34m(self, df, corruptions, fraction, num_repetitions)\u001b[0m\n\u001b[1;32m     76\u001b[0m         \u001b[0mcorr_perturbations\u001b[0m \u001b[0;34m=\u001b[0m \u001b[0mPerturbation\u001b[0m\u001b[0;34m(\u001b[0m\u001b[0mself\u001b[0m\u001b[0;34m.\u001b[0m\u001b[0mcategorical_columns\u001b[0m\u001b[0;34m,\u001b[0m \u001b[0mself\u001b[0m\u001b[0;34m.\u001b[0m\u001b[0mnumerical_columns\u001b[0m\u001b[0;34m)\u001b[0m\u001b[0;34m\u001b[0m\u001b[0;34m\u001b[0m\u001b[0m\n\u001b[1;32m     77\u001b[0m         \u001b[0;31m# for _ in range(num_repetitions):\u001b[0m\u001b[0;34m\u001b[0m\u001b[0;34m\u001b[0m\u001b[0;34m\u001b[0m\u001b[0m\n\u001b[0;32m---> 78\u001b[0;31m         \u001b[0mdf_corrupted\u001b[0m\u001b[0;34m,\u001b[0m \u001b[0mperturbations\u001b[0m\u001b[0;34m,\u001b[0m \u001b[0mcols_perturbed\u001b[0m\u001b[0;34m,\u001b[0m \u001b[0msummary_col_corrupt\u001b[0m \u001b[0;34m=\u001b[0m \u001b[0mcorr_perturbations\u001b[0m\u001b[0;34m.\u001b[0m\u001b[0mapply_perturbation\u001b[0m\u001b[0;34m(\u001b[0m\u001b[0mdf\u001b[0m\u001b[0;34m,\u001b[0m \u001b[0mcorruptions\u001b[0m\u001b[0;34m,\u001b[0m \u001b[0mfraction\u001b[0m\u001b[0;34m)\u001b[0m\u001b[0;34m\u001b[0m\u001b[0;34m\u001b[0m\u001b[0m\n\u001b[0m\u001b[1;32m     79\u001b[0m \u001b[0;34m\u001b[0m\u001b[0m\n\u001b[1;32m     80\u001b[0m         \u001b[0;32mreturn\u001b[0m \u001b[0mdf_corrupted\u001b[0m\u001b[0;34m,\u001b[0m \u001b[0mperturbations\u001b[0m\u001b[0;34m,\u001b[0m \u001b[0mcols_perturbed\u001b[0m\u001b[0;34m,\u001b[0m \u001b[0msummary_col_corrupt\u001b[0m\u001b[0;34m\u001b[0m\u001b[0;34m\u001b[0m\u001b[0m\n",
      "\u001b[0;32m~/Documents/Master Thesis/jenga/jenga/corruptions/perturbations.py\u001b[0m in \u001b[0;36mapply_perturbation\u001b[0;34m(self, df, corruptions, fraction)\u001b[0m\n\u001b[1;32m     34\u001b[0m \u001b[0;34m\u001b[0m\u001b[0m\n\u001b[1;32m     35\u001b[0m         \u001b[0;32mfor\u001b[0m \u001b[0mcorruption\u001b[0m \u001b[0;32min\u001b[0m \u001b[0mcorruptions\u001b[0m\u001b[0;34m:\u001b[0m\u001b[0;34m\u001b[0m\u001b[0;34m\u001b[0m\u001b[0m\n\u001b[0;32m---> 36\u001b[0;31m             \u001b[0mperturbation\u001b[0m\u001b[0;34m,\u001b[0m \u001b[0mcol_perturbed\u001b[0m \u001b[0;34m=\u001b[0m \u001b[0mself\u001b[0m\u001b[0;34m.\u001b[0m\u001b[0mget_perturbation\u001b[0m\u001b[0;34m(\u001b[0m\u001b[0mcorruption\u001b[0m\u001b[0;34m,\u001b[0m \u001b[0mfraction\u001b[0m\u001b[0;34m)\u001b[0m\u001b[0;34m\u001b[0m\u001b[0;34m\u001b[0m\u001b[0m\n\u001b[0m\u001b[1;32m     37\u001b[0m             \u001b[0mprint\u001b[0m\u001b[0;34m(\u001b[0m\u001b[0;34mf\"\\tperturbation: {perturbation}\"\u001b[0m\u001b[0;34m)\u001b[0m\u001b[0;34m\u001b[0m\u001b[0;34m\u001b[0m\u001b[0m\n\u001b[1;32m     38\u001b[0m \u001b[0;34m\u001b[0m\u001b[0m\n",
      "\u001b[0;32m~/Documents/Master Thesis/jenga/jenga/corruptions/perturbations.py\u001b[0m in \u001b[0;36mget_perturbation\u001b[0;34m(self, corruption, fraction)\u001b[0m\n\u001b[1;32m     61\u001b[0m             \u001b[0mcol_to_perturb\u001b[0m \u001b[0;34m=\u001b[0m \u001b[0mrandom\u001b[0m\u001b[0;34m.\u001b[0m\u001b[0mchoice\u001b[0m\u001b[0;34m(\u001b[0m\u001b[0mself\u001b[0m\u001b[0;34m.\u001b[0m\u001b[0mnumerical_columns\u001b[0m\u001b[0;34m)\u001b[0m\u001b[0;34m\u001b[0m\u001b[0;34m\u001b[0m\u001b[0m\n\u001b[1;32m     62\u001b[0m         \u001b[0;32melif\u001b[0m \u001b[0mcorruption\u001b[0m \u001b[0;34m==\u001b[0m \u001b[0mCategoricalShift\u001b[0m\u001b[0;34m:\u001b[0m\u001b[0;34m\u001b[0m\u001b[0;34m\u001b[0m\u001b[0m\n\u001b[0;32m---> 63\u001b[0;31m             \u001b[0mcol_to_perturb\u001b[0m \u001b[0;34m=\u001b[0m \u001b[0mrandom\u001b[0m\u001b[0;34m.\u001b[0m\u001b[0mchoice\u001b[0m\u001b[0;34m(\u001b[0m\u001b[0mself\u001b[0m\u001b[0;34m.\u001b[0m\u001b[0mcategorical_columns\u001b[0m\u001b[0;34m)\u001b[0m\u001b[0;34m\u001b[0m\u001b[0;34m\u001b[0m\u001b[0m\n\u001b[0m\u001b[1;32m     64\u001b[0m         \u001b[0;32melse\u001b[0m\u001b[0;34m:\u001b[0m\u001b[0;34m\u001b[0m\u001b[0;34m\u001b[0m\u001b[0m\n\u001b[1;32m     65\u001b[0m             \u001b[0mcol_to_perturb\u001b[0m \u001b[0;34m=\u001b[0m \u001b[0mrandom\u001b[0m\u001b[0;34m.\u001b[0m\u001b[0mchoice\u001b[0m\u001b[0;34m(\u001b[0m\u001b[0mself\u001b[0m\u001b[0;34m.\u001b[0m\u001b[0mnumerical_columns\u001b[0m \u001b[0;34m+\u001b[0m \u001b[0mself\u001b[0m\u001b[0;34m.\u001b[0m\u001b[0mcategorical_columns\u001b[0m\u001b[0;34m)\u001b[0m\u001b[0;34m\u001b[0m\u001b[0;34m\u001b[0m\u001b[0m\n",
      "\u001b[0;32m/usr/lib/python3.8/random.py\u001b[0m in \u001b[0;36mchoice\u001b[0;34m(self, seq)\u001b[0m\n\u001b[1;32m    288\u001b[0m             \u001b[0mi\u001b[0m \u001b[0;34m=\u001b[0m \u001b[0mself\u001b[0m\u001b[0;34m.\u001b[0m\u001b[0m_randbelow\u001b[0m\u001b[0;34m(\u001b[0m\u001b[0mlen\u001b[0m\u001b[0;34m(\u001b[0m\u001b[0mseq\u001b[0m\u001b[0;34m)\u001b[0m\u001b[0;34m)\u001b[0m\u001b[0;34m\u001b[0m\u001b[0;34m\u001b[0m\u001b[0m\n\u001b[1;32m    289\u001b[0m         \u001b[0;32mexcept\u001b[0m \u001b[0mValueError\u001b[0m\u001b[0;34m:\u001b[0m\u001b[0;34m\u001b[0m\u001b[0;34m\u001b[0m\u001b[0m\n\u001b[0;32m--> 290\u001b[0;31m             \u001b[0;32mraise\u001b[0m \u001b[0mIndexError\u001b[0m\u001b[0;34m(\u001b[0m\u001b[0;34m'Cannot choose from an empty sequence'\u001b[0m\u001b[0;34m)\u001b[0m \u001b[0;32mfrom\u001b[0m \u001b[0;32mNone\u001b[0m\u001b[0;34m\u001b[0m\u001b[0;34m\u001b[0m\u001b[0m\n\u001b[0m\u001b[1;32m    291\u001b[0m         \u001b[0;32mreturn\u001b[0m \u001b[0mseq\u001b[0m\u001b[0;34m[\u001b[0m\u001b[0mi\u001b[0m\u001b[0;34m]\u001b[0m\u001b[0;34m\u001b[0m\u001b[0;34m\u001b[0m\u001b[0m\n\u001b[1;32m    292\u001b[0m \u001b[0;34m\u001b[0m\u001b[0m\n",
      "\u001b[0;31mIndexError\u001b[0m: Cannot choose from an empty sequence"
     ]
    }
   ],
   "source": [
    "from jenga.cleaning.ppp import PipelinePerformancePrediction\n",
    "\n",
    "ppp = PipelinePerformancePrediction(train_data, train_labels, test_data, test_labels, categorical_columns, numerical_columns)\n",
    "ppp_model = ppp.fit_ppp(train_data)\n",
    "\n",
    "## generate corrpted data\n",
    "for _ in range(num_repetitions):\n",
    "    df_corrupted, perturbations, cols_perturbed, summary_col_corrupt = ppp.get_corrupted(test_data, corruptions, fraction, num_repetitions)"
   ]
  },
  {
   "cell_type": "code",
   "execution_count": 12,
   "metadata": {
    "ExecuteTime": {
     "end_time": "2021-03-24T22:11:34.693575Z",
     "start_time": "2021-03-24T22:11:34.686326Z"
    }
   },
   "outputs": [
    {
     "name": "stderr",
     "output_type": "stream",
     "text": [
      "/home/rupali/.local/lib/python3.8/site-packages/ipykernel/ipkernel.py:283: DeprecationWarning: `should_run_async` will not call `transform_cell` automatically in the future. Please pass the result to `transformed_cell` argument and any exception that happen during thetransform in `preprocessing_exc_tuple` in IPython 7.17 and above.\n",
      "  and should_run_async(code)\n"
     ]
    }
   ],
   "source": [
    "from jenga.cleaning.outlier_detection import NoOutlierDetection, PyODKNNOutlierDetection, PyODIsolationForestOutlierDetection, PyODPCAOutlierDetection, PyODCBLOFOutlierDetection, PyODSOSOutlierDetection\n",
    "from jenga.cleaning.imputation import MeanModeImputation\n",
    "\n",
    "cleaners = [\n",
    "    (NoOutlierDetection, MeanModeImputation),\n",
    "    (PyODKNNOutlierDetection, MeanModeImputation),\n",
    "    (PyODIsolationForestOutlierDetection, MeanModeImputation),\n",
    "    (PyODPCAOutlierDetection, MeanModeImputation),\n",
    "    (PyODCBLOFOutlierDetection, MeanModeImputation),\n",
    "    (PyODSOSOutlierDetection, MeanModeImputation)\n",
    "]"
   ]
  },
  {
   "cell_type": "code",
   "execution_count": 13,
   "metadata": {
    "ExecuteTime": {
     "end_time": "2021-03-24T22:15:16.262437Z",
     "start_time": "2021-03-24T22:11:41.543453Z"
    },
    "scrolled": true
   },
   "outputs": [
    {
     "name": "stderr",
     "output_type": "stream",
     "text": [
      "Evaluation: accuracy on test data: 0.5693069306930693\n",
      "Evaluations on test data:\n",
      "{\n",
      "    \"accuracy\": 0.5693069306930693,\n",
      "    \"accuracy_score\": 0.5693069306930693,\n",
      "    \"balanced_accuracy_score\": 0.5685268951986484,\n",
      "    \"matthews_corrcoef\": 0.13727616802960593,\n",
      "    \"f1_score\": 0.5693069306930693\n",
      "}\n",
      "Detailed (per-class) classification report:\n",
      "{\n",
      "    \"0\": {\n",
      "        \"precision\": 0.5598591549295775,\n",
      "        \"recall\": 0.5389830508474577,\n",
      "        \"f1-score\": 0.5492227979274611,\n",
      "        \"support\": 295\n",
      "    },\n",
      "    \"1\": {\n",
      "        \"precision\": 0.577639751552795,\n",
      "        \"recall\": 0.5980707395498392,\n",
      "        \"f1-score\": 0.5876777251184835,\n",
      "        \"support\": 311\n",
      "    },\n",
      "    \"accuracy\": 0.5693069306930693,\n",
      "    \"macro avg\": {\n",
      "        \"precision\": 0.5687494532411863,\n",
      "        \"recall\": 0.5685268951986484,\n",
      "        \"f1-score\": 0.5684502615229723,\n",
      "        \"support\": 606\n",
      "    },\n",
      "    \"weighted avg\": {\n",
      "        \"precision\": 0.5689841805893475,\n",
      "        \"recall\": 0.5693069306930693,\n",
      "        \"f1-score\": 0.5689579173274742,\n",
      "        \"support\": 606\n",
      "    }\n",
      "}\n"
     ]
    },
    {
     "name": "stdout",
     "output_type": "stream",
     "text": [
      "\n",
      "Applying cleaners... \n",
      "\n"
     ]
    },
    {
     "name": "stderr",
     "output_type": "stream",
     "text": [
      "/home/rupali/.local/lib/python3.8/site-packages/sklearn/metrics/_classification.py:1245: UndefinedMetricWarning: Precision and F-score are ill-defined and being set to 0.0 in labels with no predicted samples. Use `zero_division` parameter to control this behavior.\n",
      "  _warn_prf(average, modifier, msg_start, len(result))\n",
      "/home/rupali/.local/lib/python3.8/site-packages/sklearn/metrics/_classification.py:1245: UndefinedMetricWarning: Precision and F-score are ill-defined and being set to 0.0 in labels with no predicted samples. Use `zero_division` parameter to control this behavior.\n",
      "  _warn_prf(average, modifier, msg_start, len(result))\n",
      "/home/rupali/.local/lib/python3.8/site-packages/sklearn/metrics/_classification.py:1245: UndefinedMetricWarning: Precision and F-score are ill-defined and being set to 0.0 in labels with no predicted samples. Use `zero_division` parameter to control this behavior.\n",
      "  _warn_prf(average, modifier, msg_start, len(result))\n",
      "/home/rupali/.local/lib/python3.8/site-packages/sklearn/metrics/_classification.py:1245: UndefinedMetricWarning: Precision and F-score are ill-defined and being set to 0.0 in labels with no predicted samples. Use `zero_division` parameter to control this behavior.\n",
      "  _warn_prf(average, modifier, msg_start, len(result))\n",
      "/home/rupali/.local/lib/python3.8/site-packages/sklearn/metrics/_classification.py:1245: UndefinedMetricWarning: Precision and F-score are ill-defined and being set to 0.0 in labels with no predicted samples. Use `zero_division` parameter to control this behavior.\n",
      "  _warn_prf(average, modifier, msg_start, len(result))\n",
      "/home/rupali/.local/lib/python3.8/site-packages/sklearn/metrics/_classification.py:1245: UndefinedMetricWarning: Precision and F-score are ill-defined and being set to 0.0 in labels with no predicted samples. Use `zero_division` parameter to control this behavior.\n",
      "  _warn_prf(average, modifier, msg_start, len(result))\n",
      "/home/rupali/.local/lib/python3.8/site-packages/sklearn/metrics/_classification.py:1245: UndefinedMetricWarning: Precision and F-score are ill-defined and being set to 0.0 in labels with no predicted samples. Use `zero_division` parameter to control this behavior.\n",
      "  _warn_prf(average, modifier, msg_start, len(result))\n",
      "/home/rupali/.local/lib/python3.8/site-packages/sklearn/metrics/_classification.py:1245: UndefinedMetricWarning: Precision and F-score are ill-defined and being set to 0.0 in labels with no predicted samples. Use `zero_division` parameter to control this behavior.\n",
      "  _warn_prf(average, modifier, msg_start, len(result))\n",
      "/home/rupali/.local/lib/python3.8/site-packages/sklearn/metrics/_classification.py:1245: UndefinedMetricWarning: Precision and F-score are ill-defined and being set to 0.0 in labels with no predicted samples. Use `zero_division` parameter to control this behavior.\n",
      "  _warn_prf(average, modifier, msg_start, len(result))\n",
      "Evaluation: accuracy on test data: 0.5693069306930693\n",
      "Evaluations on test data:\n",
      "{\n",
      "    \"accuracy\": 0.5693069306930693,\n",
      "    \"accuracy_score\": 0.5693069306930693,\n",
      "    \"balanced_accuracy_score\": 0.5685268951986484,\n",
      "    \"matthews_corrcoef\": 0.13727616802960593,\n",
      "    \"f1_score\": 0.5693069306930693\n",
      "}\n"
     ]
    },
    {
     "name": "stdout",
     "output_type": "stream",
     "text": [
      "PPP score no cleaning: {'roc_auc_score': 0.5804458008610823, 'classification_report': {'0': {'precision': 0.5598591549295775, 'recall': 0.5389830508474577, 'f1-score': 0.5492227979274611, 'support': 295}, '1': {'precision': 0.577639751552795, 'recall': 0.5980707395498392, 'f1-score': 0.5876777251184835, 'support': 311}, 'accuracy': 0.5693069306930693, 'macro avg': {'precision': 0.5687494532411863, 'recall': 0.5685268951986484, 'f1-score': 0.5684502615229723, 'support': 606}, 'weighted avg': {'precision': 0.5689841805893475, 'recall': 0.5693069306930693, 'f1-score': 0.5689579173274742, 'support': 606}}}\n",
      "PPP scores with cleaning: \n",
      "\n",
      "Outlier detection method: NoOutlierDetection, Outlier Detection Score: {'Precision': 0.25, 'Recall': 0.5, 'F1-score': 0.3333333333333333, 'Accuracy': 0.5}\n",
      "Imputation method: MeanModeImputation, Imputation Score: {'Precision': nan, 'Recall': nan, 'F1-score': nan, 'Accuracy': nan, 'Mean Squared Error': 82632108746417.0}\n"
     ]
    },
    {
     "name": "stderr",
     "output_type": "stream",
     "text": [
      "Detailed (per-class) classification report:\n",
      "{\n",
      "    \"0\": {\n",
      "        \"precision\": 0.5598591549295775,\n",
      "        \"recall\": 0.5389830508474577,\n",
      "        \"f1-score\": 0.5492227979274611,\n",
      "        \"support\": 295\n",
      "    },\n",
      "    \"1\": {\n",
      "        \"precision\": 0.577639751552795,\n",
      "        \"recall\": 0.5980707395498392,\n",
      "        \"f1-score\": 0.5876777251184835,\n",
      "        \"support\": 311\n",
      "    },\n",
      "    \"accuracy\": 0.5693069306930693,\n",
      "    \"macro avg\": {\n",
      "        \"precision\": 0.5687494532411863,\n",
      "        \"recall\": 0.5685268951986484,\n",
      "        \"f1-score\": 0.5684502615229723,\n",
      "        \"support\": 606\n",
      "    },\n",
      "    \"weighted avg\": {\n",
      "        \"precision\": 0.5689841805893475,\n",
      "        \"recall\": 0.5693069306930693,\n",
      "        \"f1-score\": 0.5689579173274742,\n",
      "        \"support\": 606\n",
      "    }\n",
      "}\n"
     ]
    },
    {
     "name": "stdout",
     "output_type": "stream",
     "text": [
      "Cleaner: (NoOutlierDetection, MeanModeImputation): {'roc_auc_score': 0.5804458008610823, 'classification_report': {'0': {'precision': 0.5598591549295775, 'recall': 0.5389830508474577, 'f1-score': 0.5492227979274611, 'support': 295}, '1': {'precision': 0.577639751552795, 'recall': 0.5980707395498392, 'f1-score': 0.5876777251184835, 'support': 311}, 'accuracy': 0.5693069306930693, 'macro avg': {'precision': 0.5687494532411863, 'recall': 0.5685268951986484, 'f1-score': 0.5684502615229723, 'support': 606}, 'weighted avg': {'precision': 0.5689841805893475, 'recall': 0.5693069306930693, 'f1-score': 0.5689579173274742, 'support': 606}}}\n"
     ]
    },
    {
     "name": "stderr",
     "output_type": "stream",
     "text": [
      "Evaluation: accuracy on test data: 0.5610561056105611\n",
      "Evaluations on test data:\n",
      "{\n",
      "    \"accuracy\": 0.5610561056105611,\n",
      "    \"accuracy_score\": 0.5610561056105611,\n",
      "    \"balanced_accuracy_score\": 0.5613602921140116,\n",
      "    \"matthews_corrcoef\": 0.12270186173615062,\n",
      "    \"f1_score\": 0.5610561056105611\n",
      "}\n",
      "Detailed (per-class) classification report:\n",
      "{\n",
      "    \"0\": {\n",
      "        \"precision\": 0.5469255663430421,\n",
      "        \"recall\": 0.5728813559322034,\n",
      "        \"f1-score\": 0.5596026490066225,\n",
      "        \"support\": 295\n",
      "    },\n",
      "    \"1\": {\n",
      "        \"precision\": 0.5757575757575758,\n",
      "        \"recall\": 0.5498392282958199,\n",
      "        \"f1-score\": 0.5625,\n",
      "        \"support\": 311\n",
      "    },\n",
      "    \"accuracy\": 0.5610561056105611,\n",
      "    \"macro avg\": {\n",
      "        \"precision\": 0.5613415710503089,\n",
      "        \"recall\": 0.5613602921140116,\n",
      "        \"f1-score\": 0.5610513245033113,\n",
      "        \"support\": 606\n",
      "    },\n",
      "    \"weighted avg\": {\n",
      "        \"precision\": 0.5617221916366394,\n",
      "        \"recall\": 0.5610561056105611,\n",
      "        \"f1-score\": 0.5610895733613096,\n",
      "        \"support\": 606\n",
      "    }\n",
      "}\n"
     ]
    },
    {
     "name": "stdout",
     "output_type": "stream",
     "text": [
      "\n",
      "Outlier detection method: PyODKNNOutlierDetection, Outlier Detection Score: {'Precision': 0.8408569300146812, 'Recall': 0.8278327832783279, 'F1-score': 0.8262407435124338, 'Accuracy': 0.8278327832783279}\n",
      "Imputation method: MeanModeImputation, Imputation Score: {'Precision': nan, 'Recall': nan, 'F1-score': nan, 'Accuracy': nan, 'Mean Squared Error': 384872283.31639314}\n",
      "Cleaner: (PyODKNNOutlierDetection, MeanModeImputation): {'roc_auc_score': 0.573137500681236, 'classification_report': {'0': {'precision': 0.5469255663430421, 'recall': 0.5728813559322034, 'f1-score': 0.5596026490066225, 'support': 295}, '1': {'precision': 0.5757575757575758, 'recall': 0.5498392282958199, 'f1-score': 0.5625, 'support': 311}, 'accuracy': 0.5610561056105611, 'macro avg': {'precision': 0.5613415710503089, 'recall': 0.5613602921140116, 'f1-score': 0.5610513245033113, 'support': 606}, 'weighted avg': {'precision': 0.5617221916366394, 'recall': 0.5610561056105611, 'f1-score': 0.5610895733613096, 'support': 606}}}\n"
     ]
    },
    {
     "name": "stderr",
     "output_type": "stream",
     "text": [
      "Evaluation: accuracy on test data: 0.5511551155115512\n",
      "Evaluations on test data:\n",
      "{\n",
      "    \"accuracy\": 0.5511551155115512,\n",
      "    \"accuracy_score\": 0.5511551155115512,\n",
      "    \"balanced_accuracy_score\": 0.5538939451741239,\n",
      "    \"matthews_corrcoef\": 0.11007944236596345,\n",
      "    \"f1_score\": 0.5511551155115512\n",
      "}\n",
      "Detailed (per-class) classification report:\n",
      "{\n",
      "    \"0\": {\n",
      "        \"precision\": 0.5315068493150685,\n",
      "        \"recall\": 0.6576271186440678,\n",
      "        \"f1-score\": 0.5878787878787878,\n",
      "        \"support\": 295\n",
      "    },\n",
      "    \"1\": {\n",
      "        \"precision\": 0.5809128630705395,\n",
      "        \"recall\": 0.45016077170418006,\n",
      "        \"f1-score\": 0.5072463768115942,\n",
      "        \"support\": 311\n",
      "    },\n",
      "    \"accuracy\": 0.5511551155115512,\n",
      "    \"macro avg\": {\n",
      "        \"precision\": 0.5562098561928039,\n",
      "        \"recall\": 0.5538939451741239,\n",
      "        \"f1-score\": 0.5475625823451911,\n",
      "        \"support\": 606\n",
      "    },\n",
      "    \"weighted avg\": {\n",
      "        \"precision\": 0.5568620807968366,\n",
      "        \"recall\": 0.5511551155115512,\n",
      "        \"f1-score\": 0.5464981280736769,\n",
      "        \"support\": 606\n",
      "    }\n",
      "}\n"
     ]
    },
    {
     "name": "stdout",
     "output_type": "stream",
     "text": [
      "\n",
      "Outlier detection method: PyODIsolationForestOutlierDetection, Outlier Detection Score: {'Precision': 0.7322447494913131, 'Recall': 0.7084708470847084, 'F1-score': 0.7039280901824226, 'Accuracy': 0.7084708470847084}\n",
      "Imputation method: MeanModeImputation, Imputation Score: {'Precision': nan, 'Recall': nan, 'F1-score': nan, 'Accuracy': nan, 'Mean Squared Error': 656300362.0999852}\n",
      "Cleaner: (PyODIsolationForestOutlierDetection, MeanModeImputation): {'roc_auc_score': 0.5698893672679711, 'classification_report': {'0': {'precision': 0.5315068493150685, 'recall': 0.6576271186440678, 'f1-score': 0.5878787878787878, 'support': 295}, '1': {'precision': 0.5809128630705395, 'recall': 0.45016077170418006, 'f1-score': 0.5072463768115942, 'support': 311}, 'accuracy': 0.5511551155115512, 'macro avg': {'precision': 0.5562098561928039, 'recall': 0.5538939451741239, 'f1-score': 0.5475625823451911, 'support': 606}, 'weighted avg': {'precision': 0.5568620807968366, 'recall': 0.5511551155115512, 'f1-score': 0.5464981280736769, 'support': 606}}}\n"
     ]
    },
    {
     "name": "stderr",
     "output_type": "stream",
     "text": [
      "Evaluation: accuracy on test data: 0.5412541254125413\n",
      "Evaluations on test data:\n",
      "{\n",
      "    \"accuracy\": 0.5412541254125413,\n",
      "    \"accuracy_score\": 0.5412541254125413,\n",
      "    \"balanced_accuracy_score\": 0.5438116518611369,\n",
      "    \"matthews_corrcoef\": 0.08924300449788912,\n",
      "    \"f1_score\": 0.5412541254125413\n",
      "}\n",
      "Detailed (per-class) classification report:\n",
      "{\n",
      "    \"0\": {\n",
      "        \"precision\": 0.5235457063711911,\n",
      "        \"recall\": 0.6406779661016949,\n",
      "        \"f1-score\": 0.5762195121951219,\n",
      "        \"support\": 295\n",
      "    },\n",
      "    \"1\": {\n",
      "        \"precision\": 0.5673469387755102,\n",
      "        \"recall\": 0.44694533762057875,\n",
      "        \"f1-score\": 0.5,\n",
      "        \"support\": 311\n",
      "    },\n",
      "    \"accuracy\": 0.5412541254125413,\n",
      "    \"macro avg\": {\n",
      "        \"precision\": 0.5454463225733507,\n",
      "        \"recall\": 0.5438116518611369,\n",
      "        \"f1-score\": 0.538109756097561,\n",
      "        \"support\": 606\n",
      "    },\n",
      "    \"weighted avg\": {\n",
      "        \"precision\": 0.5460245566644968,\n",
      "        \"recall\": 0.5412541254125413,\n",
      "        \"f1-score\": 0.5371035579167673,\n",
      "        \"support\": 606\n",
      "    }\n",
      "}\n"
     ]
    },
    {
     "name": "stdout",
     "output_type": "stream",
     "text": [
      "\n",
      "Outlier detection method: PyODPCAOutlierDetection, Outlier Detection Score: {'Precision': 0.70036142691356, 'Recall': 0.6903190319031903, 'F1-score': 0.6869518678156635, 'Accuracy': 0.6903190319031903}\n",
      "Imputation method: MeanModeImputation, Imputation Score: {'Precision': nan, 'Recall': nan, 'F1-score': nan, 'Accuracy': nan, 'Mean Squared Error': 402189918.1321284}\n",
      "Cleaner: (PyODPCAOutlierDetection, MeanModeImputation): {'roc_auc_score': 0.5566134394244917, 'classification_report': {'0': {'precision': 0.5235457063711911, 'recall': 0.6406779661016949, 'f1-score': 0.5762195121951219, 'support': 295}, '1': {'precision': 0.5673469387755102, 'recall': 0.44694533762057875, 'f1-score': 0.5, 'support': 311}, 'accuracy': 0.5412541254125413, 'macro avg': {'precision': 0.5454463225733507, 'recall': 0.5438116518611369, 'f1-score': 0.538109756097561, 'support': 606}, 'weighted avg': {'precision': 0.5460245566644968, 'recall': 0.5412541254125413, 'f1-score': 0.5371035579167673, 'support': 606}}}\n"
     ]
    },
    {
     "name": "stderr",
     "output_type": "stream",
     "text": [
      "/home/rupali/.local/lib/python3.8/site-packages/sklearn/cluster/_kmeans.py:792: FutureWarning: 'n_jobs' was deprecated in version 0.23 and will be removed in 1.0 (renaming of 0.25).\n",
      "  warnings.warn(\"'n_jobs' was deprecated in version 0.23 and will be\"\n",
      "/home/rupali/.local/lib/python3.8/site-packages/sklearn/cluster/_kmeans.py:792: FutureWarning: 'n_jobs' was deprecated in version 0.23 and will be removed in 1.0 (renaming of 0.25).\n",
      "  warnings.warn(\"'n_jobs' was deprecated in version 0.23 and will be\"\n",
      "/home/rupali/.local/lib/python3.8/site-packages/sklearn/cluster/_kmeans.py:792: FutureWarning: 'n_jobs' was deprecated in version 0.23 and will be removed in 1.0 (renaming of 0.25).\n",
      "  warnings.warn(\"'n_jobs' was deprecated in version 0.23 and will be\"\n",
      "/home/rupali/.local/lib/python3.8/site-packages/sklearn/cluster/_kmeans.py:792: FutureWarning: 'n_jobs' was deprecated in version 0.23 and will be removed in 1.0 (renaming of 0.25).\n",
      "  warnings.warn(\"'n_jobs' was deprecated in version 0.23 and will be\"\n",
      "/home/rupali/.local/lib/python3.8/site-packages/sklearn/cluster/_kmeans.py:792: FutureWarning: 'n_jobs' was deprecated in version 0.23 and will be removed in 1.0 (renaming of 0.25).\n",
      "  warnings.warn(\"'n_jobs' was deprecated in version 0.23 and will be\"\n",
      "/home/rupali/.local/lib/python3.8/site-packages/sklearn/cluster/_kmeans.py:792: FutureWarning: 'n_jobs' was deprecated in version 0.23 and will be removed in 1.0 (renaming of 0.25).\n",
      "  warnings.warn(\"'n_jobs' was deprecated in version 0.23 and will be\"\n",
      "/home/rupali/.local/lib/python3.8/site-packages/sklearn/cluster/_kmeans.py:792: FutureWarning: 'n_jobs' was deprecated in version 0.23 and will be removed in 1.0 (renaming of 0.25).\n",
      "  warnings.warn(\"'n_jobs' was deprecated in version 0.23 and will be\"\n",
      "/home/rupali/.local/lib/python3.8/site-packages/sklearn/cluster/_kmeans.py:792: FutureWarning: 'n_jobs' was deprecated in version 0.23 and will be removed in 1.0 (renaming of 0.25).\n",
      "  warnings.warn(\"'n_jobs' was deprecated in version 0.23 and will be\"\n",
      "/home/rupali/.local/lib/python3.8/site-packages/sklearn/cluster/_kmeans.py:792: FutureWarning: 'n_jobs' was deprecated in version 0.23 and will be removed in 1.0 (renaming of 0.25).\n",
      "  warnings.warn(\"'n_jobs' was deprecated in version 0.23 and will be\"\n",
      "/home/rupali/.local/lib/python3.8/site-packages/sklearn/cluster/_kmeans.py:792: FutureWarning: 'n_jobs' was deprecated in version 0.23 and will be removed in 1.0 (renaming of 0.25).\n",
      "  warnings.warn(\"'n_jobs' was deprecated in version 0.23 and will be\"\n",
      "/home/rupali/.local/lib/python3.8/site-packages/sklearn/cluster/_kmeans.py:792: FutureWarning: 'n_jobs' was deprecated in version 0.23 and will be removed in 1.0 (renaming of 0.25).\n",
      "  warnings.warn(\"'n_jobs' was deprecated in version 0.23 and will be\"\n",
      "/home/rupali/.local/lib/python3.8/site-packages/sklearn/cluster/_kmeans.py:792: FutureWarning: 'n_jobs' was deprecated in version 0.23 and will be removed in 1.0 (renaming of 0.25).\n",
      "  warnings.warn(\"'n_jobs' was deprecated in version 0.23 and will be\"\n",
      "/home/rupali/.local/lib/python3.8/site-packages/sklearn/cluster/_kmeans.py:792: FutureWarning: 'n_jobs' was deprecated in version 0.23 and will be removed in 1.0 (renaming of 0.25).\n",
      "  warnings.warn(\"'n_jobs' was deprecated in version 0.23 and will be\"\n",
      "/home/rupali/.local/lib/python3.8/site-packages/sklearn/cluster/_kmeans.py:792: FutureWarning: 'n_jobs' was deprecated in version 0.23 and will be removed in 1.0 (renaming of 0.25).\n",
      "  warnings.warn(\"'n_jobs' was deprecated in version 0.23 and will be\"\n",
      "/home/rupali/.local/lib/python3.8/site-packages/sklearn/cluster/_kmeans.py:792: FutureWarning: 'n_jobs' was deprecated in version 0.23 and will be removed in 1.0 (renaming of 0.25).\n",
      "  warnings.warn(\"'n_jobs' was deprecated in version 0.23 and will be\"\n",
      "/home/rupali/.local/lib/python3.8/site-packages/sklearn/cluster/_kmeans.py:792: FutureWarning: 'n_jobs' was deprecated in version 0.23 and will be removed in 1.0 (renaming of 0.25).\n",
      "  warnings.warn(\"'n_jobs' was deprecated in version 0.23 and will be\"\n",
      "/home/rupali/.local/lib/python3.8/site-packages/sklearn/cluster/_kmeans.py:792: FutureWarning: 'n_jobs' was deprecated in version 0.23 and will be removed in 1.0 (renaming of 0.25).\n",
      "  warnings.warn(\"'n_jobs' was deprecated in version 0.23 and will be\"\n",
      "/home/rupali/.local/lib/python3.8/site-packages/sklearn/cluster/_kmeans.py:792: FutureWarning: 'n_jobs' was deprecated in version 0.23 and will be removed in 1.0 (renaming of 0.25).\n",
      "  warnings.warn(\"'n_jobs' was deprecated in version 0.23 and will be\"\n",
      "/home/rupali/.local/lib/python3.8/site-packages/sklearn/cluster/_kmeans.py:792: FutureWarning: 'n_jobs' was deprecated in version 0.23 and will be removed in 1.0 (renaming of 0.25).\n",
      "  warnings.warn(\"'n_jobs' was deprecated in version 0.23 and will be\"\n",
      "/home/rupali/.local/lib/python3.8/site-packages/sklearn/cluster/_kmeans.py:792: FutureWarning: 'n_jobs' was deprecated in version 0.23 and will be removed in 1.0 (renaming of 0.25).\n",
      "  warnings.warn(\"'n_jobs' was deprecated in version 0.23 and will be\"\n",
      "/home/rupali/.local/lib/python3.8/site-packages/sklearn/cluster/_kmeans.py:792: FutureWarning: 'n_jobs' was deprecated in version 0.23 and will be removed in 1.0 (renaming of 0.25).\n",
      "  warnings.warn(\"'n_jobs' was deprecated in version 0.23 and will be\"\n",
      "/home/rupali/.local/lib/python3.8/site-packages/sklearn/cluster/_kmeans.py:792: FutureWarning: 'n_jobs' was deprecated in version 0.23 and will be removed in 1.0 (renaming of 0.25).\n",
      "  warnings.warn(\"'n_jobs' was deprecated in version 0.23 and will be\"\n",
      "/home/rupali/.local/lib/python3.8/site-packages/sklearn/cluster/_kmeans.py:792: FutureWarning: 'n_jobs' was deprecated in version 0.23 and will be removed in 1.0 (renaming of 0.25).\n",
      "  warnings.warn(\"'n_jobs' was deprecated in version 0.23 and will be\"\n",
      "/home/rupali/.local/lib/python3.8/site-packages/sklearn/cluster/_kmeans.py:792: FutureWarning: 'n_jobs' was deprecated in version 0.23 and will be removed in 1.0 (renaming of 0.25).\n",
      "  warnings.warn(\"'n_jobs' was deprecated in version 0.23 and will be\"\n",
      "/home/rupali/.local/lib/python3.8/site-packages/sklearn/cluster/_kmeans.py:792: FutureWarning: 'n_jobs' was deprecated in version 0.23 and will be removed in 1.0 (renaming of 0.25).\n",
      "  warnings.warn(\"'n_jobs' was deprecated in version 0.23 and will be\"\n",
      "/home/rupali/.local/lib/python3.8/site-packages/sklearn/cluster/_kmeans.py:792: FutureWarning: 'n_jobs' was deprecated in version 0.23 and will be removed in 1.0 (renaming of 0.25).\n",
      "  warnings.warn(\"'n_jobs' was deprecated in version 0.23 and will be\"\n",
      "/home/rupali/.local/lib/python3.8/site-packages/sklearn/cluster/_kmeans.py:792: FutureWarning: 'n_jobs' was deprecated in version 0.23 and will be removed in 1.0 (renaming of 0.25).\n",
      "  warnings.warn(\"'n_jobs' was deprecated in version 0.23 and will be\"\n",
      "/home/rupali/.local/lib/python3.8/site-packages/sklearn/cluster/_kmeans.py:792: FutureWarning: 'n_jobs' was deprecated in version 0.23 and will be removed in 1.0 (renaming of 0.25).\n",
      "  warnings.warn(\"'n_jobs' was deprecated in version 0.23 and will be\"\n",
      "/home/rupali/.local/lib/python3.8/site-packages/sklearn/cluster/_kmeans.py:792: FutureWarning: 'n_jobs' was deprecated in version 0.23 and will be removed in 1.0 (renaming of 0.25).\n",
      "  warnings.warn(\"'n_jobs' was deprecated in version 0.23 and will be\"\n",
      "/home/rupali/.local/lib/python3.8/site-packages/sklearn/cluster/_kmeans.py:792: FutureWarning: 'n_jobs' was deprecated in version 0.23 and will be removed in 1.0 (renaming of 0.25).\n",
      "  warnings.warn(\"'n_jobs' was deprecated in version 0.23 and will be\"\n",
      "/home/rupali/.local/lib/python3.8/site-packages/sklearn/cluster/_kmeans.py:792: FutureWarning: 'n_jobs' was deprecated in version 0.23 and will be removed in 1.0 (renaming of 0.25).\n",
      "  warnings.warn(\"'n_jobs' was deprecated in version 0.23 and will be\"\n",
      "/home/rupali/.local/lib/python3.8/site-packages/sklearn/cluster/_kmeans.py:792: FutureWarning: 'n_jobs' was deprecated in version 0.23 and will be removed in 1.0 (renaming of 0.25).\n",
      "  warnings.warn(\"'n_jobs' was deprecated in version 0.23 and will be\"\n",
      "/home/rupali/.local/lib/python3.8/site-packages/sklearn/cluster/_kmeans.py:792: FutureWarning: 'n_jobs' was deprecated in version 0.23 and will be removed in 1.0 (renaming of 0.25).\n",
      "  warnings.warn(\"'n_jobs' was deprecated in version 0.23 and will be\"\n",
      "/home/rupali/.local/lib/python3.8/site-packages/sklearn/cluster/_kmeans.py:792: FutureWarning: 'n_jobs' was deprecated in version 0.23 and will be removed in 1.0 (renaming of 0.25).\n",
      "  warnings.warn(\"'n_jobs' was deprecated in version 0.23 and will be\"\n"
     ]
    },
    {
     "name": "stderr",
     "output_type": "stream",
     "text": [
      "/home/rupali/.local/lib/python3.8/site-packages/sklearn/cluster/_kmeans.py:792: FutureWarning: 'n_jobs' was deprecated in version 0.23 and will be removed in 1.0 (renaming of 0.25).\n",
      "  warnings.warn(\"'n_jobs' was deprecated in version 0.23 and will be\"\n",
      "/home/rupali/.local/lib/python3.8/site-packages/sklearn/cluster/_kmeans.py:792: FutureWarning: 'n_jobs' was deprecated in version 0.23 and will be removed in 1.0 (renaming of 0.25).\n",
      "  warnings.warn(\"'n_jobs' was deprecated in version 0.23 and will be\"\n",
      "/home/rupali/.local/lib/python3.8/site-packages/sklearn/cluster/_kmeans.py:792: FutureWarning: 'n_jobs' was deprecated in version 0.23 and will be removed in 1.0 (renaming of 0.25).\n",
      "  warnings.warn(\"'n_jobs' was deprecated in version 0.23 and will be\"\n",
      "/home/rupali/.local/lib/python3.8/site-packages/sklearn/cluster/_kmeans.py:792: FutureWarning: 'n_jobs' was deprecated in version 0.23 and will be removed in 1.0 (renaming of 0.25).\n",
      "  warnings.warn(\"'n_jobs' was deprecated in version 0.23 and will be\"\n",
      "/home/rupali/.local/lib/python3.8/site-packages/sklearn/cluster/_kmeans.py:792: FutureWarning: 'n_jobs' was deprecated in version 0.23 and will be removed in 1.0 (renaming of 0.25).\n",
      "  warnings.warn(\"'n_jobs' was deprecated in version 0.23 and will be\"\n",
      "/home/rupali/.local/lib/python3.8/site-packages/sklearn/cluster/_kmeans.py:792: FutureWarning: 'n_jobs' was deprecated in version 0.23 and will be removed in 1.0 (renaming of 0.25).\n",
      "  warnings.warn(\"'n_jobs' was deprecated in version 0.23 and will be\"\n",
      "/home/rupali/.local/lib/python3.8/site-packages/sklearn/cluster/_kmeans.py:792: FutureWarning: 'n_jobs' was deprecated in version 0.23 and will be removed in 1.0 (renaming of 0.25).\n",
      "  warnings.warn(\"'n_jobs' was deprecated in version 0.23 and will be\"\n",
      "/home/rupali/.local/lib/python3.8/site-packages/sklearn/cluster/_kmeans.py:792: FutureWarning: 'n_jobs' was deprecated in version 0.23 and will be removed in 1.0 (renaming of 0.25).\n",
      "  warnings.warn(\"'n_jobs' was deprecated in version 0.23 and will be\"\n",
      "/home/rupali/.local/lib/python3.8/site-packages/sklearn/cluster/_kmeans.py:792: FutureWarning: 'n_jobs' was deprecated in version 0.23 and will be removed in 1.0 (renaming of 0.25).\n",
      "  warnings.warn(\"'n_jobs' was deprecated in version 0.23 and will be\"\n",
      "/home/rupali/.local/lib/python3.8/site-packages/sklearn/cluster/_kmeans.py:792: FutureWarning: 'n_jobs' was deprecated in version 0.23 and will be removed in 1.0 (renaming of 0.25).\n",
      "  warnings.warn(\"'n_jobs' was deprecated in version 0.23 and will be\"\n",
      "/home/rupali/.local/lib/python3.8/site-packages/sklearn/cluster/_kmeans.py:792: FutureWarning: 'n_jobs' was deprecated in version 0.23 and will be removed in 1.0 (renaming of 0.25).\n",
      "  warnings.warn(\"'n_jobs' was deprecated in version 0.23 and will be\"\n",
      "/home/rupali/.local/lib/python3.8/site-packages/sklearn/cluster/_kmeans.py:792: FutureWarning: 'n_jobs' was deprecated in version 0.23 and will be removed in 1.0 (renaming of 0.25).\n",
      "  warnings.warn(\"'n_jobs' was deprecated in version 0.23 and will be\"\n",
      "/home/rupali/.local/lib/python3.8/site-packages/sklearn/cluster/_kmeans.py:792: FutureWarning: 'n_jobs' was deprecated in version 0.23 and will be removed in 1.0 (renaming of 0.25).\n",
      "  warnings.warn(\"'n_jobs' was deprecated in version 0.23 and will be\"\n",
      "/home/rupali/.local/lib/python3.8/site-packages/sklearn/cluster/_kmeans.py:792: FutureWarning: 'n_jobs' was deprecated in version 0.23 and will be removed in 1.0 (renaming of 0.25).\n",
      "  warnings.warn(\"'n_jobs' was deprecated in version 0.23 and will be\"\n",
      "/home/rupali/.local/lib/python3.8/site-packages/sklearn/cluster/_kmeans.py:792: FutureWarning: 'n_jobs' was deprecated in version 0.23 and will be removed in 1.0 (renaming of 0.25).\n",
      "  warnings.warn(\"'n_jobs' was deprecated in version 0.23 and will be\"\n",
      "/home/rupali/.local/lib/python3.8/site-packages/sklearn/cluster/_kmeans.py:792: FutureWarning: 'n_jobs' was deprecated in version 0.23 and will be removed in 1.0 (renaming of 0.25).\n",
      "  warnings.warn(\"'n_jobs' was deprecated in version 0.23 and will be\"\n",
      "/home/rupali/.local/lib/python3.8/site-packages/sklearn/cluster/_kmeans.py:792: FutureWarning: 'n_jobs' was deprecated in version 0.23 and will be removed in 1.0 (renaming of 0.25).\n",
      "  warnings.warn(\"'n_jobs' was deprecated in version 0.23 and will be\"\n",
      "/home/rupali/.local/lib/python3.8/site-packages/sklearn/cluster/_kmeans.py:792: FutureWarning: 'n_jobs' was deprecated in version 0.23 and will be removed in 1.0 (renaming of 0.25).\n",
      "  warnings.warn(\"'n_jobs' was deprecated in version 0.23 and will be\"\n",
      "/home/rupali/.local/lib/python3.8/site-packages/sklearn/cluster/_kmeans.py:792: FutureWarning: 'n_jobs' was deprecated in version 0.23 and will be removed in 1.0 (renaming of 0.25).\n",
      "  warnings.warn(\"'n_jobs' was deprecated in version 0.23 and will be\"\n",
      "/home/rupali/.local/lib/python3.8/site-packages/sklearn/cluster/_kmeans.py:792: FutureWarning: 'n_jobs' was deprecated in version 0.23 and will be removed in 1.0 (renaming of 0.25).\n",
      "  warnings.warn(\"'n_jobs' was deprecated in version 0.23 and will be\"\n",
      "/home/rupali/.local/lib/python3.8/site-packages/sklearn/cluster/_kmeans.py:792: FutureWarning: 'n_jobs' was deprecated in version 0.23 and will be removed in 1.0 (renaming of 0.25).\n",
      "  warnings.warn(\"'n_jobs' was deprecated in version 0.23 and will be\"\n",
      "/home/rupali/.local/lib/python3.8/site-packages/sklearn/cluster/_kmeans.py:792: FutureWarning: 'n_jobs' was deprecated in version 0.23 and will be removed in 1.0 (renaming of 0.25).\n",
      "  warnings.warn(\"'n_jobs' was deprecated in version 0.23 and will be\"\n",
      "/home/rupali/.local/lib/python3.8/site-packages/sklearn/cluster/_kmeans.py:792: FutureWarning: 'n_jobs' was deprecated in version 0.23 and will be removed in 1.0 (renaming of 0.25).\n",
      "  warnings.warn(\"'n_jobs' was deprecated in version 0.23 and will be\"\n",
      "/home/rupali/.local/lib/python3.8/site-packages/sklearn/cluster/_kmeans.py:792: FutureWarning: 'n_jobs' was deprecated in version 0.23 and will be removed in 1.0 (renaming of 0.25).\n",
      "  warnings.warn(\"'n_jobs' was deprecated in version 0.23 and will be\"\n",
      "/home/rupali/.local/lib/python3.8/site-packages/sklearn/cluster/_kmeans.py:792: FutureWarning: 'n_jobs' was deprecated in version 0.23 and will be removed in 1.0 (renaming of 0.25).\n",
      "  warnings.warn(\"'n_jobs' was deprecated in version 0.23 and will be\"\n",
      "/home/rupali/.local/lib/python3.8/site-packages/sklearn/cluster/_kmeans.py:792: FutureWarning: 'n_jobs' was deprecated in version 0.23 and will be removed in 1.0 (renaming of 0.25).\n",
      "  warnings.warn(\"'n_jobs' was deprecated in version 0.23 and will be\"\n",
      "/home/rupali/.local/lib/python3.8/site-packages/sklearn/cluster/_kmeans.py:792: FutureWarning: 'n_jobs' was deprecated in version 0.23 and will be removed in 1.0 (renaming of 0.25).\n",
      "  warnings.warn(\"'n_jobs' was deprecated in version 0.23 and will be\"\n",
      "/home/rupali/.local/lib/python3.8/site-packages/sklearn/cluster/_kmeans.py:792: FutureWarning: 'n_jobs' was deprecated in version 0.23 and will be removed in 1.0 (renaming of 0.25).\n",
      "  warnings.warn(\"'n_jobs' was deprecated in version 0.23 and will be\"\n",
      "/home/rupali/.local/lib/python3.8/site-packages/sklearn/cluster/_kmeans.py:792: FutureWarning: 'n_jobs' was deprecated in version 0.23 and will be removed in 1.0 (renaming of 0.25).\n",
      "  warnings.warn(\"'n_jobs' was deprecated in version 0.23 and will be\"\n",
      "/home/rupali/.local/lib/python3.8/site-packages/sklearn/cluster/_kmeans.py:792: FutureWarning: 'n_jobs' was deprecated in version 0.23 and will be removed in 1.0 (renaming of 0.25).\n",
      "  warnings.warn(\"'n_jobs' was deprecated in version 0.23 and will be\"\n",
      "/home/rupali/.local/lib/python3.8/site-packages/sklearn/cluster/_kmeans.py:792: FutureWarning: 'n_jobs' was deprecated in version 0.23 and will be removed in 1.0 (renaming of 0.25).\n",
      "  warnings.warn(\"'n_jobs' was deprecated in version 0.23 and will be\"\n",
      "/home/rupali/.local/lib/python3.8/site-packages/sklearn/cluster/_kmeans.py:792: FutureWarning: 'n_jobs' was deprecated in version 0.23 and will be removed in 1.0 (renaming of 0.25).\n",
      "  warnings.warn(\"'n_jobs' was deprecated in version 0.23 and will be\"\n",
      "/home/rupali/.local/lib/python3.8/site-packages/sklearn/cluster/_kmeans.py:792: FutureWarning: 'n_jobs' was deprecated in version 0.23 and will be removed in 1.0 (renaming of 0.25).\n",
      "  warnings.warn(\"'n_jobs' was deprecated in version 0.23 and will be\"\n",
      "/home/rupali/.local/lib/python3.8/site-packages/sklearn/cluster/_kmeans.py:792: FutureWarning: 'n_jobs' was deprecated in version 0.23 and will be removed in 1.0 (renaming of 0.25).\n",
      "  warnings.warn(\"'n_jobs' was deprecated in version 0.23 and will be\"\n"
     ]
    },
    {
     "name": "stderr",
     "output_type": "stream",
     "text": [
      "/home/rupali/.local/lib/python3.8/site-packages/sklearn/cluster/_kmeans.py:792: FutureWarning: 'n_jobs' was deprecated in version 0.23 and will be removed in 1.0 (renaming of 0.25).\n",
      "  warnings.warn(\"'n_jobs' was deprecated in version 0.23 and will be\"\n",
      "/home/rupali/.local/lib/python3.8/site-packages/sklearn/cluster/_kmeans.py:792: FutureWarning: 'n_jobs' was deprecated in version 0.23 and will be removed in 1.0 (renaming of 0.25).\n",
      "  warnings.warn(\"'n_jobs' was deprecated in version 0.23 and will be\"\n",
      "/home/rupali/.local/lib/python3.8/site-packages/sklearn/cluster/_kmeans.py:792: FutureWarning: 'n_jobs' was deprecated in version 0.23 and will be removed in 1.0 (renaming of 0.25).\n",
      "  warnings.warn(\"'n_jobs' was deprecated in version 0.23 and will be\"\n",
      "/home/rupali/.local/lib/python3.8/site-packages/sklearn/cluster/_kmeans.py:792: FutureWarning: 'n_jobs' was deprecated in version 0.23 and will be removed in 1.0 (renaming of 0.25).\n",
      "  warnings.warn(\"'n_jobs' was deprecated in version 0.23 and will be\"\n",
      "/home/rupali/.local/lib/python3.8/site-packages/sklearn/cluster/_kmeans.py:792: FutureWarning: 'n_jobs' was deprecated in version 0.23 and will be removed in 1.0 (renaming of 0.25).\n",
      "  warnings.warn(\"'n_jobs' was deprecated in version 0.23 and will be\"\n",
      "/home/rupali/.local/lib/python3.8/site-packages/sklearn/cluster/_kmeans.py:792: FutureWarning: 'n_jobs' was deprecated in version 0.23 and will be removed in 1.0 (renaming of 0.25).\n",
      "  warnings.warn(\"'n_jobs' was deprecated in version 0.23 and will be\"\n",
      "/home/rupali/.local/lib/python3.8/site-packages/sklearn/cluster/_kmeans.py:792: FutureWarning: 'n_jobs' was deprecated in version 0.23 and will be removed in 1.0 (renaming of 0.25).\n",
      "  warnings.warn(\"'n_jobs' was deprecated in version 0.23 and will be\"\n",
      "/home/rupali/.local/lib/python3.8/site-packages/sklearn/cluster/_kmeans.py:792: FutureWarning: 'n_jobs' was deprecated in version 0.23 and will be removed in 1.0 (renaming of 0.25).\n",
      "  warnings.warn(\"'n_jobs' was deprecated in version 0.23 and will be\"\n",
      "/home/rupali/.local/lib/python3.8/site-packages/sklearn/cluster/_kmeans.py:792: FutureWarning: 'n_jobs' was deprecated in version 0.23 and will be removed in 1.0 (renaming of 0.25).\n",
      "  warnings.warn(\"'n_jobs' was deprecated in version 0.23 and will be\"\n",
      "/home/rupali/.local/lib/python3.8/site-packages/sklearn/cluster/_kmeans.py:792: FutureWarning: 'n_jobs' was deprecated in version 0.23 and will be removed in 1.0 (renaming of 0.25).\n",
      "  warnings.warn(\"'n_jobs' was deprecated in version 0.23 and will be\"\n",
      "/home/rupali/.local/lib/python3.8/site-packages/sklearn/cluster/_kmeans.py:792: FutureWarning: 'n_jobs' was deprecated in version 0.23 and will be removed in 1.0 (renaming of 0.25).\n",
      "  warnings.warn(\"'n_jobs' was deprecated in version 0.23 and will be\"\n",
      "/home/rupali/.local/lib/python3.8/site-packages/sklearn/cluster/_kmeans.py:792: FutureWarning: 'n_jobs' was deprecated in version 0.23 and will be removed in 1.0 (renaming of 0.25).\n",
      "  warnings.warn(\"'n_jobs' was deprecated in version 0.23 and will be\"\n",
      "/home/rupali/.local/lib/python3.8/site-packages/sklearn/cluster/_kmeans.py:792: FutureWarning: 'n_jobs' was deprecated in version 0.23 and will be removed in 1.0 (renaming of 0.25).\n",
      "  warnings.warn(\"'n_jobs' was deprecated in version 0.23 and will be\"\n",
      "/home/rupali/.local/lib/python3.8/site-packages/sklearn/cluster/_kmeans.py:792: FutureWarning: 'n_jobs' was deprecated in version 0.23 and will be removed in 1.0 (renaming of 0.25).\n",
      "  warnings.warn(\"'n_jobs' was deprecated in version 0.23 and will be\"\n",
      "/home/rupali/.local/lib/python3.8/site-packages/sklearn/cluster/_kmeans.py:792: FutureWarning: 'n_jobs' was deprecated in version 0.23 and will be removed in 1.0 (renaming of 0.25).\n",
      "  warnings.warn(\"'n_jobs' was deprecated in version 0.23 and will be\"\n",
      "/home/rupali/.local/lib/python3.8/site-packages/sklearn/cluster/_kmeans.py:792: FutureWarning: 'n_jobs' was deprecated in version 0.23 and will be removed in 1.0 (renaming of 0.25).\n",
      "  warnings.warn(\"'n_jobs' was deprecated in version 0.23 and will be\"\n",
      "/home/rupali/.local/lib/python3.8/site-packages/sklearn/cluster/_kmeans.py:792: FutureWarning: 'n_jobs' was deprecated in version 0.23 and will be removed in 1.0 (renaming of 0.25).\n",
      "  warnings.warn(\"'n_jobs' was deprecated in version 0.23 and will be\"\n",
      "/home/rupali/.local/lib/python3.8/site-packages/sklearn/cluster/_kmeans.py:792: FutureWarning: 'n_jobs' was deprecated in version 0.23 and will be removed in 1.0 (renaming of 0.25).\n",
      "  warnings.warn(\"'n_jobs' was deprecated in version 0.23 and will be\"\n",
      "/home/rupali/.local/lib/python3.8/site-packages/sklearn/cluster/_kmeans.py:792: FutureWarning: 'n_jobs' was deprecated in version 0.23 and will be removed in 1.0 (renaming of 0.25).\n",
      "  warnings.warn(\"'n_jobs' was deprecated in version 0.23 and will be\"\n",
      "/home/rupali/.local/lib/python3.8/site-packages/sklearn/cluster/_kmeans.py:792: FutureWarning: 'n_jobs' was deprecated in version 0.23 and will be removed in 1.0 (renaming of 0.25).\n",
      "  warnings.warn(\"'n_jobs' was deprecated in version 0.23 and will be\"\n",
      "/home/rupali/.local/lib/python3.8/site-packages/sklearn/cluster/_kmeans.py:792: FutureWarning: 'n_jobs' was deprecated in version 0.23 and will be removed in 1.0 (renaming of 0.25).\n",
      "  warnings.warn(\"'n_jobs' was deprecated in version 0.23 and will be\"\n",
      "/home/rupali/.local/lib/python3.8/site-packages/sklearn/cluster/_kmeans.py:792: FutureWarning: 'n_jobs' was deprecated in version 0.23 and will be removed in 1.0 (renaming of 0.25).\n",
      "  warnings.warn(\"'n_jobs' was deprecated in version 0.23 and will be\"\n",
      "/home/rupali/.local/lib/python3.8/site-packages/sklearn/cluster/_kmeans.py:792: FutureWarning: 'n_jobs' was deprecated in version 0.23 and will be removed in 1.0 (renaming of 0.25).\n",
      "  warnings.warn(\"'n_jobs' was deprecated in version 0.23 and will be\"\n",
      "/home/rupali/.local/lib/python3.8/site-packages/sklearn/cluster/_kmeans.py:792: FutureWarning: 'n_jobs' was deprecated in version 0.23 and will be removed in 1.0 (renaming of 0.25).\n",
      "  warnings.warn(\"'n_jobs' was deprecated in version 0.23 and will be\"\n",
      "/home/rupali/.local/lib/python3.8/site-packages/sklearn/cluster/_kmeans.py:792: FutureWarning: 'n_jobs' was deprecated in version 0.23 and will be removed in 1.0 (renaming of 0.25).\n",
      "  warnings.warn(\"'n_jobs' was deprecated in version 0.23 and will be\"\n",
      "/home/rupali/.local/lib/python3.8/site-packages/sklearn/cluster/_kmeans.py:792: FutureWarning: 'n_jobs' was deprecated in version 0.23 and will be removed in 1.0 (renaming of 0.25).\n",
      "  warnings.warn(\"'n_jobs' was deprecated in version 0.23 and will be\"\n",
      "/home/rupali/.local/lib/python3.8/site-packages/sklearn/cluster/_kmeans.py:792: FutureWarning: 'n_jobs' was deprecated in version 0.23 and will be removed in 1.0 (renaming of 0.25).\n",
      "  warnings.warn(\"'n_jobs' was deprecated in version 0.23 and will be\"\n",
      "/home/rupali/.local/lib/python3.8/site-packages/sklearn/cluster/_kmeans.py:792: FutureWarning: 'n_jobs' was deprecated in version 0.23 and will be removed in 1.0 (renaming of 0.25).\n",
      "  warnings.warn(\"'n_jobs' was deprecated in version 0.23 and will be\"\n",
      "/home/rupali/.local/lib/python3.8/site-packages/sklearn/cluster/_kmeans.py:792: FutureWarning: 'n_jobs' was deprecated in version 0.23 and will be removed in 1.0 (renaming of 0.25).\n",
      "  warnings.warn(\"'n_jobs' was deprecated in version 0.23 and will be\"\n",
      "/home/rupali/.local/lib/python3.8/site-packages/sklearn/cluster/_kmeans.py:792: FutureWarning: 'n_jobs' was deprecated in version 0.23 and will be removed in 1.0 (renaming of 0.25).\n",
      "  warnings.warn(\"'n_jobs' was deprecated in version 0.23 and will be\"\n",
      "/home/rupali/.local/lib/python3.8/site-packages/sklearn/cluster/_kmeans.py:792: FutureWarning: 'n_jobs' was deprecated in version 0.23 and will be removed in 1.0 (renaming of 0.25).\n",
      "  warnings.warn(\"'n_jobs' was deprecated in version 0.23 and will be\"\n",
      "/home/rupali/.local/lib/python3.8/site-packages/sklearn/cluster/_kmeans.py:792: FutureWarning: 'n_jobs' was deprecated in version 0.23 and will be removed in 1.0 (renaming of 0.25).\n",
      "  warnings.warn(\"'n_jobs' was deprecated in version 0.23 and will be\"\n",
      "Evaluation: accuracy on test data: 0.5561056105610561\n",
      "Evaluations on test data:\n",
      "{\n",
      "    \"accuracy\": 0.5561056105610561,\n",
      "    \"accuracy_score\": 0.5561056105610561,\n",
      "    \"balanced_accuracy_score\": 0.5587170962995258,\n",
      "    \"matthews_corrcoef\": 0.11968413084772356,\n",
      "    \"f1_score\": 0.5561056105610561\n",
      "}\n"
     ]
    },
    {
     "name": "stderr",
     "output_type": "stream",
     "text": [
      "Detailed (per-class) classification report:\n",
      "{\n",
      "    \"0\": {\n",
      "        \"precision\": 0.5359116022099447,\n",
      "        \"recall\": 0.6576271186440678,\n",
      "        \"f1-score\": 0.5905631659056316,\n",
      "        \"support\": 295\n",
      "    },\n",
      "    \"1\": {\n",
      "        \"precision\": 0.5860655737704918,\n",
      "        \"recall\": 0.45980707395498394,\n",
      "        \"f1-score\": 0.5153153153153154,\n",
      "        \"support\": 311\n",
      "    },\n",
      "    \"accuracy\": 0.5561056105610561,\n",
      "    \"macro avg\": {\n",
      "        \"precision\": 0.5609885879902183,\n",
      "        \"recall\": 0.5587170962995258,\n",
      "        \"f1-score\": 0.5529392406104735,\n",
      "        \"support\": 606\n",
      "    },\n",
      "    \"weighted avg\": {\n",
      "        \"precision\": 0.561650686624681,\n",
      "        \"recall\": 0.5561056105610561,\n",
      "        \"f1-score\": 0.5519458696455848,\n",
      "        \"support\": 606\n",
      "    }\n",
      "}\n"
     ]
    },
    {
     "name": "stdout",
     "output_type": "stream",
     "text": [
      "\n",
      "Outlier detection method: PyODCBLOFOutlierDetection, Outlier Detection Score: {'Precision': 0.8187954544245285, 'Recall': 0.7926292629262927, 'F1-score': 0.7882947627871975, 'Accuracy': 0.7926292629262927}\n",
      "Imputation method: MeanModeImputation, Imputation Score: {'Precision': nan, 'Recall': nan, 'F1-score': nan, 'Accuracy': nan, 'Mean Squared Error': 389087104.71174496}\n",
      "Cleaner: (PyODCBLOFOutlierDetection, MeanModeImputation): {'roc_auc_score': 0.5764292332007194, 'classification_report': {'0': {'precision': 0.5359116022099447, 'recall': 0.6576271186440678, 'f1-score': 0.5905631659056316, 'support': 295}, '1': {'precision': 0.5860655737704918, 'recall': 0.45980707395498394, 'f1-score': 0.5153153153153154, 'support': 311}, 'accuracy': 0.5561056105610561, 'macro avg': {'precision': 0.5609885879902183, 'recall': 0.5587170962995258, 'f1-score': 0.5529392406104735, 'support': 606}, 'weighted avg': {'precision': 0.561650686624681, 'recall': 0.5561056105610561, 'f1-score': 0.5519458696455848, 'support': 606}}}\n"
     ]
    },
    {
     "name": "stderr",
     "output_type": "stream",
     "text": [
      "Evaluation: accuracy on test data: 0.5478547854785478\n",
      "Evaluations on test data:\n",
      "{\n",
      "    \"accuracy\": 0.5478547854785478,\n",
      "    \"accuracy_score\": 0.5478547854785478,\n",
      "    \"balanced_accuracy_score\": 0.5459698076189439,\n",
      "    \"matthews_corrcoef\": 0.09289220351441713,\n",
      "    \"f1_score\": 0.5478547854785478\n",
      "}\n",
      "Detailed (per-class) classification report:\n",
      "{\n",
      "    \"0\": {\n",
      "        \"precision\": 0.5405405405405406,\n",
      "        \"recall\": 0.4745762711864407,\n",
      "        \"f1-score\": 0.5054151624548736,\n",
      "        \"support\": 295\n",
      "    },\n",
      "    \"1\": {\n",
      "        \"precision\": 0.553314121037464,\n",
      "        \"recall\": 0.617363344051447,\n",
      "        \"f1-score\": 0.5835866261398177,\n",
      "        \"support\": 311\n",
      "    },\n",
      "    \"accuracy\": 0.5478547854785478,\n",
      "    \"macro avg\": {\n",
      "        \"precision\": 0.5469273307890024,\n",
      "        \"recall\": 0.5459698076189439,\n",
      "        \"f1-score\": 0.5445008942973457,\n",
      "        \"support\": 606\n",
      "    },\n",
      "    \"weighted avg\": {\n",
      "        \"precision\": 0.5470959589143743,\n",
      "        \"recall\": 0.5478547854785478,\n",
      "        \"f1-score\": 0.5455328608146387,\n",
      "        \"support\": 606\n",
      "    }\n",
      "}\n"
     ]
    },
    {
     "name": "stdout",
     "output_type": "stream",
     "text": [
      "\n",
      "Outlier detection method: PyODSOSOutlierDetection, Outlier Detection Score: {'Precision': 0.6360021977299181, 'Recall': 0.6259625962596259, 'F1-score': 0.6050356549950111, 'Accuracy': 0.6259625962596259}\n",
      "Imputation method: MeanModeImputation, Imputation Score: {'Precision': nan, 'Recall': nan, 'F1-score': nan, 'Accuracy': nan, 'Mean Squared Error': 53433142764388.34}\n",
      "Cleaner: (PyODSOSOutlierDetection, MeanModeImputation): {'roc_auc_score': 0.5539484440568968, 'classification_report': {'0': {'precision': 0.5405405405405406, 'recall': 0.4745762711864407, 'f1-score': 0.5054151624548736, 'support': 295}, '1': {'precision': 0.553314121037464, 'recall': 0.617363344051447, 'f1-score': 0.5835866261398177, 'support': 311}, 'accuracy': 0.5478547854785478, 'macro avg': {'precision': 0.5469273307890024, 'recall': 0.5459698076189439, 'f1-score': 0.5445008942973457, 'support': 606}, 'weighted avg': {'precision': 0.5470959589143743, 'recall': 0.5478547854785478, 'f1-score': 0.5455328608146387, 'support': 606}}}\n",
      "\n",
      "Best cleaning method:\n",
      "Cleaning score: Cleaner: (NoOutlierDetection, MeanModeImputation): {'roc_auc_score': 0.5804458008610823, 'classification_report': {'0': {'precision': 0.5598591549295775, 'recall': 0.5389830508474577, 'f1-score': 0.5492227979274611, 'support': 295}, '1': {'precision': 0.577639751552795, 'recall': 0.5980707395498392, 'f1-score': 0.5876777251184835, 'support': 311}, 'accuracy': 0.5693069306930693, 'macro avg': {'precision': 0.5687494532411863, 'recall': 0.5685268951986484, 'f1-score': 0.5684502615229723, 'support': 606}, 'weighted avg': {'precision': 0.5689841805893475, 'recall': 0.5693069306930693, 'f1-score': 0.5689579173274742, 'support': 606}}} \n",
      "\n",
      "Cleaning didnt't improve the overall score \n",
      "\n",
      "\n",
      "\n"
     ]
    }
   ],
   "source": [
    "from jenga.cleaning.clean import Clean\n",
    "\n",
    "categorical_precision_threshold=0.7\n",
    "numerical_std_error_threshold=2.0\n",
    "\n",
    "clean = Clean(train_data, df_corrupted, categorical_columns, numerical_columns, categorical_precision_threshold, numerical_std_error_threshold, ppp, ppp_model, cleaners)\n",
    "df_outliers, df_cleaned, corrupted_score_ppp, best_cleaning_score, cleaner_scores_ppp, summary_cleaners = clean(train_data, test_data, df_corrupted, cols_perturbed)"
   ]
  },
  {
   "cell_type": "markdown",
   "metadata": {},
   "source": [
    "## Try Cleaners"
   ]
  },
  {
   "cell_type": "code",
   "execution_count": 24,
   "metadata": {
    "ExecuteTime": {
     "end_time": "2021-03-25T17:05:03.868802Z",
     "start_time": "2021-03-25T17:05:03.291179Z"
    },
    "executionInfo": {
     "elapsed": 21046,
     "status": "ok",
     "timestamp": 1605649256322,
     "user": {
      "displayName": "Rupali Sharma",
      "photoUrl": "https://lh3.googleusercontent.com/a-/AOh14GiH6obBahOBk5ezQLBEEgw1DvKRo8haEZvXXnQ83ww=s64",
      "userId": "15074179419258593720"
     },
     "user_tz": -60
    },
    "id": "CYsnRBZ6dqRa"
   },
   "outputs": [
    {
     "name": "stderr",
     "output_type": "stream",
     "text": [
      "/home/rupali/.local/lib/python3.8/site-packages/ipykernel/ipkernel.py:283: DeprecationWarning: `should_run_async` will not call `transform_cell` automatically in the future. Please pass the result to `transformed_cell` argument and any exception that happen during thetransform in `preprocessing_exc_tuple` in IPython 7.17 and above.\n",
      "  and should_run_async(code)\n"
     ]
    }
   ],
   "source": [
    "from pyod.models.knn import KNN\n",
    "from sklearn.pipeline import Pipeline\n",
    "from sklearn.preprocessing import OneHotEncoder, StandardScaler\n",
    "from sklearn.impute import SimpleImputer\n",
    "from sklearn.compose import ColumnTransformer"
   ]
  },
  {
   "cell_type": "code",
   "execution_count": 25,
   "metadata": {
    "ExecuteTime": {
     "end_time": "2021-03-25T17:05:04.970062Z",
     "start_time": "2021-03-25T17:05:04.962976Z"
    },
    "executionInfo": {
     "elapsed": 21043,
     "status": "ok",
     "timestamp": 1605649256326,
     "user": {
      "displayName": "Rupali Sharma",
      "photoUrl": "https://lh3.googleusercontent.com/a-/AOh14GiH6obBahOBk5ezQLBEEgw1DvKRo8haEZvXXnQ83ww=s64",
      "userId": "15074179419258593720"
     },
     "user_tz": -60
    },
    "id": "4G5c9Zk5cM4f"
   },
   "outputs": [],
   "source": [
    "## featurizers\n",
    "def build_featurizers(columns):\n",
    "    categorical_preprocessing = Pipeline([\n",
    "        ('mark_missing', SimpleImputer(strategy='constant', fill_value='__NA__')),\n",
    "        ('one_hot_encode', OneHotEncoder(handle_unknown='ignore'))\n",
    "    ])\n",
    "\n",
    "    numeric_preprocessing = Pipeline([\n",
    "        ('mark_missing', SimpleImputer(strategy='constant', fill_value=0)),\n",
    "    ])\n",
    "\n",
    "    cat_cols = [c for c in categorical_columns if c in columns]\n",
    "    num_cols = [c for c in numerical_columns if c in columns]\n",
    "    \n",
    "    feature_transformation = ColumnTransformer(transformers=[\n",
    "        ('categorical_features', categorical_preprocessing, cat_cols),\n",
    "        ('scaled_numeric', numeric_preprocessing, num_cols)\n",
    "    ])\n",
    "\n",
    "    return feature_transformation"
   ]
  },
  {
   "cell_type": "markdown",
   "metadata": {
    "id": "Nco49Ca1_luR"
   },
   "source": [
    "### Pyod Single Column - features"
   ]
  },
  {
   "cell_type": "code",
   "execution_count": 26,
   "metadata": {
    "ExecuteTime": {
     "end_time": "2021-03-25T17:05:08.691775Z",
     "start_time": "2021-03-25T17:05:08.606217Z"
    },
    "executionInfo": {
     "elapsed": 20836,
     "status": "ok",
     "timestamp": 1605649256107,
     "user": {
      "displayName": "Rupali Sharma",
      "photoUrl": "https://lh3.googleusercontent.com/a-/AOh14GiH6obBahOBk5ezQLBEEgw1DvKRo8haEZvXXnQ83ww=s64",
      "userId": "15074179419258593720"
     },
     "user_tz": -60
    },
    "id": "CIvM8LHS9LQt",
    "scrolled": true
   },
   "outputs": [
    {
     "data": {
      "text/html": [
       "<div>\n",
       "<style scoped>\n",
       "    .dataframe tbody tr th:only-of-type {\n",
       "        vertical-align: middle;\n",
       "    }\n",
       "\n",
       "    .dataframe tbody tr th {\n",
       "        vertical-align: top;\n",
       "    }\n",
       "\n",
       "    .dataframe thead th {\n",
       "        text-align: right;\n",
       "    }\n",
       "</style>\n",
       "<table border=\"1\" class=\"dataframe\">\n",
       "  <thead>\n",
       "    <tr style=\"text-align: right;\">\n",
       "      <th></th>\n",
       "      <th>V1</th>\n",
       "      <th>V2</th>\n",
       "      <th>V3</th>\n",
       "      <th>V4</th>\n",
       "      <th>V5</th>\n",
       "      <th>V6</th>\n",
       "      <th>V7</th>\n",
       "      <th>V8</th>\n",
       "      <th>V9</th>\n",
       "      <th>V10</th>\n",
       "      <th>V11</th>\n",
       "      <th>V12</th>\n",
       "      <th>V13</th>\n",
       "      <th>V14</th>\n",
       "      <th>V15</th>\n",
       "      <th>V16</th>\n",
       "    </tr>\n",
       "  </thead>\n",
       "  <tbody>\n",
       "    <tr>\n",
       "      <th>364</th>\n",
       "      <td>3</td>\n",
       "      <td>2320.00</td>\n",
       "      <td>46.773306</td>\n",
       "      <td>3</td>\n",
       "      <td>1</td>\n",
       "      <td>1</td>\n",
       "      <td>1</td>\n",
       "      <td>2</td>\n",
       "      <td>2</td>\n",
       "      <td>1</td>\n",
       "      <td>1</td>\n",
       "      <td>1</td>\n",
       "      <td>1</td>\n",
       "      <td>2</td>\n",
       "      <td>1</td>\n",
       "      <td>56.0</td>\n",
       "    </tr>\n",
       "    <tr>\n",
       "      <th>357</th>\n",
       "      <td>6</td>\n",
       "      <td>2000.00</td>\n",
       "      <td>NaN</td>\n",
       "      <td>1</td>\n",
       "      <td>1</td>\n",
       "      <td>1</td>\n",
       "      <td>1</td>\n",
       "      <td>1</td>\n",
       "      <td>1</td>\n",
       "      <td>2</td>\n",
       "      <td>1</td>\n",
       "      <td>1</td>\n",
       "      <td>1</td>\n",
       "      <td>2</td>\n",
       "      <td>1</td>\n",
       "      <td>70.0</td>\n",
       "    </tr>\n",
       "    <tr>\n",
       "      <th>333</th>\n",
       "      <td>7</td>\n",
       "      <td>2200.00</td>\n",
       "      <td>NaN</td>\n",
       "      <td>1</td>\n",
       "      <td>1</td>\n",
       "      <td>1</td>\n",
       "      <td>1</td>\n",
       "      <td>1</td>\n",
       "      <td>1</td>\n",
       "      <td>1</td>\n",
       "      <td>1</td>\n",
       "      <td>1</td>\n",
       "      <td>1</td>\n",
       "      <td>1</td>\n",
       "      <td>1</td>\n",
       "      <td>71.0</td>\n",
       "    </tr>\n",
       "    <tr>\n",
       "      <th>111</th>\n",
       "      <td>3</td>\n",
       "      <td>4.00</td>\n",
       "      <td>NaN</td>\n",
       "      <td>2</td>\n",
       "      <td>1</td>\n",
       "      <td>1</td>\n",
       "      <td>1</td>\n",
       "      <td>2</td>\n",
       "      <td>1</td>\n",
       "      <td>2</td>\n",
       "      <td>2</td>\n",
       "      <td>1</td>\n",
       "      <td>1</td>\n",
       "      <td>2</td>\n",
       "      <td>1</td>\n",
       "      <td>58.0</td>\n",
       "    </tr>\n",
       "    <tr>\n",
       "      <th>453</th>\n",
       "      <td>3</td>\n",
       "      <td>2840.00</td>\n",
       "      <td>NaN</td>\n",
       "      <td>2</td>\n",
       "      <td>1</td>\n",
       "      <td>2</td>\n",
       "      <td>1</td>\n",
       "      <td>2</td>\n",
       "      <td>2</td>\n",
       "      <td>1</td>\n",
       "      <td>1</td>\n",
       "      <td>1</td>\n",
       "      <td>1</td>\n",
       "      <td>2</td>\n",
       "      <td>1</td>\n",
       "      <td>72.0</td>\n",
       "    </tr>\n",
       "    <tr>\n",
       "      <th>...</th>\n",
       "      <td>...</td>\n",
       "      <td>...</td>\n",
       "      <td>...</td>\n",
       "      <td>...</td>\n",
       "      <td>...</td>\n",
       "      <td>...</td>\n",
       "      <td>...</td>\n",
       "      <td>...</td>\n",
       "      <td>...</td>\n",
       "      <td>...</td>\n",
       "      <td>...</td>\n",
       "      <td>...</td>\n",
       "      <td>...</td>\n",
       "      <td>...</td>\n",
       "      <td>...</td>\n",
       "      <td>...</td>\n",
       "    </tr>\n",
       "    <tr>\n",
       "      <th>243</th>\n",
       "      <td>3</td>\n",
       "      <td>4.36</td>\n",
       "      <td>NaN</td>\n",
       "      <td>2</td>\n",
       "      <td>1</td>\n",
       "      <td>1</td>\n",
       "      <td>1</td>\n",
       "      <td>1</td>\n",
       "      <td>1</td>\n",
       "      <td>1</td>\n",
       "      <td>1</td>\n",
       "      <td>1</td>\n",
       "      <td>1</td>\n",
       "      <td>2</td>\n",
       "      <td>1</td>\n",
       "      <td>47.0</td>\n",
       "    </tr>\n",
       "    <tr>\n",
       "      <th>207</th>\n",
       "      <td>6</td>\n",
       "      <td>2600.00</td>\n",
       "      <td>NaN</td>\n",
       "      <td>2</td>\n",
       "      <td>1</td>\n",
       "      <td>1</td>\n",
       "      <td>1</td>\n",
       "      <td>2</td>\n",
       "      <td>1</td>\n",
       "      <td>1</td>\n",
       "      <td>1</td>\n",
       "      <td>1</td>\n",
       "      <td>1</td>\n",
       "      <td>2</td>\n",
       "      <td>1</td>\n",
       "      <td>66.0</td>\n",
       "    </tr>\n",
       "    <tr>\n",
       "      <th>446</th>\n",
       "      <td>7</td>\n",
       "      <td>5.20</td>\n",
       "      <td>NaN</td>\n",
       "      <td>1</td>\n",
       "      <td>1</td>\n",
       "      <td>1</td>\n",
       "      <td>1</td>\n",
       "      <td>1</td>\n",
       "      <td>1</td>\n",
       "      <td>2</td>\n",
       "      <td>1</td>\n",
       "      <td>1</td>\n",
       "      <td>1</td>\n",
       "      <td>1</td>\n",
       "      <td>1</td>\n",
       "      <td>49.0</td>\n",
       "    </tr>\n",
       "    <tr>\n",
       "      <th>268</th>\n",
       "      <td>3</td>\n",
       "      <td>2520.00</td>\n",
       "      <td>-13.627679</td>\n",
       "      <td>3</td>\n",
       "      <td>1</td>\n",
       "      <td>1</td>\n",
       "      <td>2</td>\n",
       "      <td>2</td>\n",
       "      <td>2</td>\n",
       "      <td>2</td>\n",
       "      <td>1</td>\n",
       "      <td>1</td>\n",
       "      <td>1</td>\n",
       "      <td>2</td>\n",
       "      <td>1</td>\n",
       "      <td>74.0</td>\n",
       "    </tr>\n",
       "    <tr>\n",
       "      <th>203</th>\n",
       "      <td>2</td>\n",
       "      <td>3.60</td>\n",
       "      <td>3.920000</td>\n",
       "      <td>1</td>\n",
       "      <td>1</td>\n",
       "      <td>1</td>\n",
       "      <td>1</td>\n",
       "      <td>1</td>\n",
       "      <td>1</td>\n",
       "      <td>2</td>\n",
       "      <td>1</td>\n",
       "      <td>1</td>\n",
       "      <td>1</td>\n",
       "      <td>2</td>\n",
       "      <td>1</td>\n",
       "      <td>56.0</td>\n",
       "    </tr>\n",
       "  </tbody>\n",
       "</table>\n",
       "<p>141 rows × 16 columns</p>\n",
       "</div>"
      ],
      "text/plain": [
       "    V1       V2         V3 V4 V5 V6 V7 V8 V9 V10 V11 V12 V13 V14 V15   V16\n",
       "364  3  2320.00  46.773306  3  1  1  1  2  2   1   1   1   1   2   1  56.0\n",
       "357  6  2000.00        NaN  1  1  1  1  1  1   2   1   1   1   2   1  70.0\n",
       "333  7  2200.00        NaN  1  1  1  1  1  1   1   1   1   1   1   1  71.0\n",
       "111  3     4.00        NaN  2  1  1  1  2  1   2   2   1   1   2   1  58.0\n",
       "453  3  2840.00        NaN  2  1  2  1  2  2   1   1   1   1   2   1  72.0\n",
       "..  ..      ...        ... .. .. .. .. .. ..  ..  ..  ..  ..  ..  ..   ...\n",
       "243  3     4.36        NaN  2  1  1  1  1  1   1   1   1   1   2   1  47.0\n",
       "207  6  2600.00        NaN  2  1  1  1  2  1   1   1   1   1   2   1  66.0\n",
       "446  7     5.20        NaN  1  1  1  1  1  1   2   1   1   1   1   1  49.0\n",
       "268  3  2520.00 -13.627679  3  1  1  2  2  2   2   1   1   1   2   1  74.0\n",
       "203  2     3.60   3.920000  1  1  1  1  1  1   2   1   1   1   2   1  56.0\n",
       "\n",
       "[141 rows x 16 columns]"
      ]
     },
     "execution_count": 26,
     "metadata": {},
     "output_type": "execute_result"
    }
   ],
   "source": [
    "df_outliers = df_corrupted.copy(deep=True)\n",
    "df_outliers"
   ]
  },
  {
   "cell_type": "code",
   "execution_count": 27,
   "metadata": {
    "ExecuteTime": {
     "end_time": "2021-03-25T17:05:10.556865Z",
     "start_time": "2021-03-25T17:05:10.542379Z"
    },
    "executionInfo": {
     "elapsed": 21042,
     "status": "ok",
     "timestamp": 1605649256328,
     "user": {
      "displayName": "Rupali Sharma",
      "photoUrl": "https://lh3.googleusercontent.com/a-/AOh14GiH6obBahOBk5ezQLBEEgw1DvKRo8haEZvXXnQ83ww=s64",
      "userId": "15074179419258593720"
     },
     "user_tz": -60
    },
    "id": "b2S_KxehdqeL"
   },
   "outputs": [
    {
     "name": "stderr",
     "output_type": "stream",
     "text": [
      "/home/rupali/.local/lib/python3.8/site-packages/ipykernel/ipkernel.py:283: DeprecationWarning: `should_run_async` will not call `transform_cell` automatically in the future. Please pass the result to `transformed_cell` argument and any exception that happen during thetransform in `preprocessing_exc_tuple` in IPython 7.17 and above.\n",
      "  and should_run_async(code)\n"
     ]
    },
    {
     "data": {
      "text/plain": [
       "16"
      ]
     },
     "execution_count": 27,
     "metadata": {},
     "output_type": "execute_result"
    }
   ],
   "source": [
    "predictors = {}\n",
    "\n",
    "for col in categorical_columns + numerical_columns:\n",
    "    predictors[col] = Pipeline(\n",
    "        [('features', build_featurizers([col])),\n",
    "         ('outlier_detector', KNN())\n",
    "        ])\n",
    "    \n",
    "len(predictors)"
   ]
  },
  {
   "cell_type": "code",
   "execution_count": 28,
   "metadata": {
    "ExecuteTime": {
     "end_time": "2021-03-25T17:05:13.151298Z",
     "start_time": "2021-03-25T17:05:13.086366Z"
    },
    "executionInfo": {
     "elapsed": 21485,
     "status": "ok",
     "timestamp": 1605649256777,
     "user": {
      "displayName": "Rupali Sharma",
      "photoUrl": "https://lh3.googleusercontent.com/a-/AOh14GiH6obBahOBk5ezQLBEEgw1DvKRo8haEZvXXnQ83ww=s64",
      "userId": "15074179419258593720"
     },
     "user_tz": -60
    },
    "id": "krGbMkicdqZZ",
    "scrolled": true
   },
   "outputs": [
    {
     "ename": "TypeError",
     "evalue": "A sparse matrix was passed, but dense data is required. Use X.toarray() to convert to a dense numpy array.",
     "output_type": "error",
     "traceback": [
      "\u001b[0;31m---------------------------------------------------------------------------\u001b[0m",
      "\u001b[0;31mTypeError\u001b[0m                                 Traceback (most recent call last)",
      "\u001b[0;32m<ipython-input-28-2d2f478f2ef1>\u001b[0m in \u001b[0;36m<module>\u001b[0;34m\u001b[0m\n\u001b[1;32m      1\u001b[0m \u001b[0;32mfor\u001b[0m \u001b[0mcol\u001b[0m \u001b[0;32min\u001b[0m \u001b[0mcategorical_columns\u001b[0m \u001b[0;34m+\u001b[0m \u001b[0mnumerical_columns\u001b[0m\u001b[0;34m:\u001b[0m\u001b[0;34m\u001b[0m\u001b[0;34m\u001b[0m\u001b[0m\n\u001b[0;32m----> 2\u001b[0;31m     \u001b[0mpredictors\u001b[0m\u001b[0;34m[\u001b[0m\u001b[0mcol\u001b[0m\u001b[0;34m]\u001b[0m\u001b[0;34m.\u001b[0m\u001b[0mfit\u001b[0m\u001b[0;34m(\u001b[0m\u001b[0mdf_outliers\u001b[0m\u001b[0;34m)\u001b[0m\u001b[0;34m\u001b[0m\u001b[0;34m\u001b[0m\u001b[0m\n\u001b[0m",
      "\u001b[0;32m~/.local/lib/python3.8/site-packages/sklearn/pipeline.py\u001b[0m in \u001b[0;36mfit\u001b[0;34m(self, X, y, **fit_params)\u001b[0m\n\u001b[1;32m    344\u001b[0m             \u001b[0;32mif\u001b[0m \u001b[0mself\u001b[0m\u001b[0;34m.\u001b[0m\u001b[0m_final_estimator\u001b[0m \u001b[0;34m!=\u001b[0m \u001b[0;34m'passthrough'\u001b[0m\u001b[0;34m:\u001b[0m\u001b[0;34m\u001b[0m\u001b[0;34m\u001b[0m\u001b[0m\n\u001b[1;32m    345\u001b[0m                 \u001b[0mfit_params_last_step\u001b[0m \u001b[0;34m=\u001b[0m \u001b[0mfit_params_steps\u001b[0m\u001b[0;34m[\u001b[0m\u001b[0mself\u001b[0m\u001b[0;34m.\u001b[0m\u001b[0msteps\u001b[0m\u001b[0;34m[\u001b[0m\u001b[0;34m-\u001b[0m\u001b[0;36m1\u001b[0m\u001b[0;34m]\u001b[0m\u001b[0;34m[\u001b[0m\u001b[0;36m0\u001b[0m\u001b[0;34m]\u001b[0m\u001b[0;34m]\u001b[0m\u001b[0;34m\u001b[0m\u001b[0;34m\u001b[0m\u001b[0m\n\u001b[0;32m--> 346\u001b[0;31m                 \u001b[0mself\u001b[0m\u001b[0;34m.\u001b[0m\u001b[0m_final_estimator\u001b[0m\u001b[0;34m.\u001b[0m\u001b[0mfit\u001b[0m\u001b[0;34m(\u001b[0m\u001b[0mXt\u001b[0m\u001b[0;34m,\u001b[0m \u001b[0my\u001b[0m\u001b[0;34m,\u001b[0m \u001b[0;34m**\u001b[0m\u001b[0mfit_params_last_step\u001b[0m\u001b[0;34m)\u001b[0m\u001b[0;34m\u001b[0m\u001b[0;34m\u001b[0m\u001b[0m\n\u001b[0m\u001b[1;32m    347\u001b[0m \u001b[0;34m\u001b[0m\u001b[0m\n\u001b[1;32m    348\u001b[0m         \u001b[0;32mreturn\u001b[0m \u001b[0mself\u001b[0m\u001b[0;34m\u001b[0m\u001b[0;34m\u001b[0m\u001b[0m\n",
      "\u001b[0;32m~/.local/lib/python3.8/site-packages/pyod/models/knn.py\u001b[0m in \u001b[0;36mfit\u001b[0;34m(self, X, y)\u001b[0m\n\u001b[1;32m    188\u001b[0m \u001b[0;34m\u001b[0m\u001b[0m\n\u001b[1;32m    189\u001b[0m         \u001b[0;31m# validate inputs X and y (optional)\u001b[0m\u001b[0;34m\u001b[0m\u001b[0;34m\u001b[0m\u001b[0;34m\u001b[0m\u001b[0m\n\u001b[0;32m--> 190\u001b[0;31m         \u001b[0mX\u001b[0m \u001b[0;34m=\u001b[0m \u001b[0mcheck_array\u001b[0m\u001b[0;34m(\u001b[0m\u001b[0mX\u001b[0m\u001b[0;34m)\u001b[0m\u001b[0;34m\u001b[0m\u001b[0;34m\u001b[0m\u001b[0m\n\u001b[0m\u001b[1;32m    191\u001b[0m         \u001b[0mself\u001b[0m\u001b[0;34m.\u001b[0m\u001b[0m_set_n_classes\u001b[0m\u001b[0;34m(\u001b[0m\u001b[0my\u001b[0m\u001b[0;34m)\u001b[0m\u001b[0;34m\u001b[0m\u001b[0;34m\u001b[0m\u001b[0m\n\u001b[1;32m    192\u001b[0m \u001b[0;34m\u001b[0m\u001b[0m\n",
      "\u001b[0;32m~/.local/lib/python3.8/site-packages/sklearn/utils/validation.py\u001b[0m in \u001b[0;36minner_f\u001b[0;34m(*args, **kwargs)\u001b[0m\n\u001b[1;32m     61\u001b[0m             \u001b[0mextra_args\u001b[0m \u001b[0;34m=\u001b[0m \u001b[0mlen\u001b[0m\u001b[0;34m(\u001b[0m\u001b[0margs\u001b[0m\u001b[0;34m)\u001b[0m \u001b[0;34m-\u001b[0m \u001b[0mlen\u001b[0m\u001b[0;34m(\u001b[0m\u001b[0mall_args\u001b[0m\u001b[0;34m)\u001b[0m\u001b[0;34m\u001b[0m\u001b[0;34m\u001b[0m\u001b[0m\n\u001b[1;32m     62\u001b[0m             \u001b[0;32mif\u001b[0m \u001b[0mextra_args\u001b[0m \u001b[0;34m<=\u001b[0m \u001b[0;36m0\u001b[0m\u001b[0;34m:\u001b[0m\u001b[0;34m\u001b[0m\u001b[0;34m\u001b[0m\u001b[0m\n\u001b[0;32m---> 63\u001b[0;31m                 \u001b[0;32mreturn\u001b[0m \u001b[0mf\u001b[0m\u001b[0;34m(\u001b[0m\u001b[0;34m*\u001b[0m\u001b[0margs\u001b[0m\u001b[0;34m,\u001b[0m \u001b[0;34m**\u001b[0m\u001b[0mkwargs\u001b[0m\u001b[0;34m)\u001b[0m\u001b[0;34m\u001b[0m\u001b[0;34m\u001b[0m\u001b[0m\n\u001b[0m\u001b[1;32m     64\u001b[0m \u001b[0;34m\u001b[0m\u001b[0m\n\u001b[1;32m     65\u001b[0m             \u001b[0;31m# extra_args > 0\u001b[0m\u001b[0;34m\u001b[0m\u001b[0;34m\u001b[0m\u001b[0;34m\u001b[0m\u001b[0m\n",
      "\u001b[0;32m~/.local/lib/python3.8/site-packages/sklearn/utils/validation.py\u001b[0m in \u001b[0;36mcheck_array\u001b[0;34m(array, accept_sparse, accept_large_sparse, dtype, order, copy, force_all_finite, ensure_2d, allow_nd, ensure_min_samples, ensure_min_features, estimator)\u001b[0m\n\u001b[1;32m    591\u001b[0m     \u001b[0;32mif\u001b[0m \u001b[0msp\u001b[0m\u001b[0;34m.\u001b[0m\u001b[0missparse\u001b[0m\u001b[0;34m(\u001b[0m\u001b[0marray\u001b[0m\u001b[0;34m)\u001b[0m\u001b[0;34m:\u001b[0m\u001b[0;34m\u001b[0m\u001b[0;34m\u001b[0m\u001b[0m\n\u001b[1;32m    592\u001b[0m         \u001b[0m_ensure_no_complex_data\u001b[0m\u001b[0;34m(\u001b[0m\u001b[0marray\u001b[0m\u001b[0;34m)\u001b[0m\u001b[0;34m\u001b[0m\u001b[0;34m\u001b[0m\u001b[0m\n\u001b[0;32m--> 593\u001b[0;31m         array = _ensure_sparse_format(array, accept_sparse=accept_sparse,\n\u001b[0m\u001b[1;32m    594\u001b[0m                                       \u001b[0mdtype\u001b[0m\u001b[0;34m=\u001b[0m\u001b[0mdtype\u001b[0m\u001b[0;34m,\u001b[0m \u001b[0mcopy\u001b[0m\u001b[0;34m=\u001b[0m\u001b[0mcopy\u001b[0m\u001b[0;34m,\u001b[0m\u001b[0;34m\u001b[0m\u001b[0;34m\u001b[0m\u001b[0m\n\u001b[1;32m    595\u001b[0m                                       \u001b[0mforce_all_finite\u001b[0m\u001b[0;34m=\u001b[0m\u001b[0mforce_all_finite\u001b[0m\u001b[0;34m,\u001b[0m\u001b[0;34m\u001b[0m\u001b[0;34m\u001b[0m\u001b[0m\n",
      "\u001b[0;32m~/.local/lib/python3.8/site-packages/sklearn/utils/validation.py\u001b[0m in \u001b[0;36m_ensure_sparse_format\u001b[0;34m(spmatrix, accept_sparse, dtype, copy, force_all_finite, accept_large_sparse)\u001b[0m\n\u001b[1;32m    358\u001b[0m \u001b[0;34m\u001b[0m\u001b[0m\n\u001b[1;32m    359\u001b[0m     \u001b[0;32mif\u001b[0m \u001b[0maccept_sparse\u001b[0m \u001b[0;32mis\u001b[0m \u001b[0;32mFalse\u001b[0m\u001b[0;34m:\u001b[0m\u001b[0;34m\u001b[0m\u001b[0;34m\u001b[0m\u001b[0m\n\u001b[0;32m--> 360\u001b[0;31m         raise TypeError('A sparse matrix was passed, but dense '\n\u001b[0m\u001b[1;32m    361\u001b[0m                         \u001b[0;34m'data is required. Use X.toarray() to '\u001b[0m\u001b[0;34m\u001b[0m\u001b[0;34m\u001b[0m\u001b[0m\n\u001b[1;32m    362\u001b[0m                         'convert to a dense numpy array.')\n",
      "\u001b[0;31mTypeError\u001b[0m: A sparse matrix was passed, but dense data is required. Use X.toarray() to convert to a dense numpy array."
     ]
    }
   ],
   "source": [
    "for col in categorical_columns + numerical_columns:\n",
    "    predictors[col].fit(df_outliers)"
   ]
  },
  {
   "cell_type": "code",
   "execution_count": 29,
   "metadata": {
    "ExecuteTime": {
     "end_time": "2021-03-24T21:19:52.096508Z",
     "start_time": "2021-03-24T21:19:46.835367Z"
    },
    "colab": {
     "base_uri": "https://localhost:8080/"
    },
    "executionInfo": {
     "elapsed": 21481,
     "status": "ok",
     "timestamp": 1605649256778,
     "user": {
      "displayName": "Rupali Sharma",
      "photoUrl": "https://lh3.googleusercontent.com/a-/AOh14GiH6obBahOBk5ezQLBEEgw1DvKRo8haEZvXXnQ83ww=s64",
      "userId": "15074179419258593720"
     },
     "user_tz": -60
    },
    "id": "hQ3zWMUxdqUx",
    "outputId": "93b5b4de-730b-436d-e167-8824b7d78dca"
   },
   "outputs": [
    {
     "name": "stderr",
     "output_type": "stream",
     "text": [
      "/home/rupali/.local/lib/python3.8/site-packages/ipykernel/ipkernel.py:283: DeprecationWarning: `should_run_async` will not call `transform_cell` automatically in the future. Please pass the result to `transformed_cell` argument and any exception that happen during thetransform in `preprocessing_exc_tuple` in IPython 7.17 and above.\n",
      "  and should_run_async(code)\n"
     ]
    }
   ],
   "source": [
    "for col in categorical_columns + numerical_columns:\n",
    "    df_outliers[col + \"_outlier\"] = predictors[col].predict(df_corrupted)"
   ]
  },
  {
   "cell_type": "code",
   "execution_count": 30,
   "metadata": {
    "ExecuteTime": {
     "end_time": "2021-03-24T21:19:54.029713Z",
     "start_time": "2021-03-24T21:19:53.994664Z"
    },
    "colab": {
     "base_uri": "https://localhost:8080/",
     "height": 1000
    },
    "executionInfo": {
     "elapsed": 21471,
     "status": "ok",
     "timestamp": 1605649256780,
     "user": {
      "displayName": "Rupali Sharma",
      "photoUrl": "https://lh3.googleusercontent.com/a-/AOh14GiH6obBahOBk5ezQLBEEgw1DvKRo8haEZvXXnQ83ww=s64",
      "userId": "15074179419258593720"
     },
     "user_tz": -60
    },
    "id": "YAA1DEfWdqQC",
    "outputId": "5fa10682-ddce-4803-addb-1d02c5d022af",
    "scrolled": true
   },
   "outputs": [
    {
     "name": "stderr",
     "output_type": "stream",
     "text": [
      "/home/rupali/.local/lib/python3.8/site-packages/ipykernel/ipkernel.py:283: DeprecationWarning: `should_run_async` will not call `transform_cell` automatically in the future. Please pass the result to `transformed_cell` argument and any exception that happen during thetransform in `preprocessing_exc_tuple` in IPython 7.17 and above.\n",
      "  and should_run_async(code)\n"
     ]
    },
    {
     "data": {
      "text/html": [
       "<div>\n",
       "<style scoped>\n",
       "    .dataframe tbody tr th:only-of-type {\n",
       "        vertical-align: middle;\n",
       "    }\n",
       "\n",
       "    .dataframe tbody tr th {\n",
       "        vertical-align: top;\n",
       "    }\n",
       "\n",
       "    .dataframe thead th {\n",
       "        text-align: right;\n",
       "    }\n",
       "</style>\n",
       "<table border=\"1\" class=\"dataframe\">\n",
       "  <thead>\n",
       "    <tr style=\"text-align: right;\">\n",
       "      <th></th>\n",
       "      <th>X1</th>\n",
       "      <th>X2</th>\n",
       "      <th>X3</th>\n",
       "      <th>X4</th>\n",
       "      <th>X5</th>\n",
       "      <th>X6</th>\n",
       "      <th>X7</th>\n",
       "      <th>X8</th>\n",
       "      <th>X9</th>\n",
       "      <th>X10</th>\n",
       "      <th>...</th>\n",
       "      <th>X91_outlier</th>\n",
       "      <th>X92_outlier</th>\n",
       "      <th>X93_outlier</th>\n",
       "      <th>X94_outlier</th>\n",
       "      <th>X95_outlier</th>\n",
       "      <th>X96_outlier</th>\n",
       "      <th>X97_outlier</th>\n",
       "      <th>X98_outlier</th>\n",
       "      <th>X99_outlier</th>\n",
       "      <th>X100_outlier</th>\n",
       "    </tr>\n",
       "  </thead>\n",
       "  <tbody>\n",
       "    <tr>\n",
       "      <th>0</th>\n",
       "      <td>1041.990593</td>\n",
       "      <td>1039.850024</td>\n",
       "      <td>1037.136237</td>\n",
       "      <td>1033.695733</td>\n",
       "      <td>1029.333904</td>\n",
       "      <td>1023.804033</td>\n",
       "      <td>1016.793331</td>\n",
       "      <td>NaN</td>\n",
       "      <td>996.637055</td>\n",
       "      <td>982.351378</td>\n",
       "      <td>...</td>\n",
       "      <td>0</td>\n",
       "      <td>0</td>\n",
       "      <td>0</td>\n",
       "      <td>0</td>\n",
       "      <td>0</td>\n",
       "      <td>0</td>\n",
       "      <td>0</td>\n",
       "      <td>0</td>\n",
       "      <td>0</td>\n",
       "      <td>0</td>\n",
       "    </tr>\n",
       "    <tr>\n",
       "      <th>1</th>\n",
       "      <td>62.191641</td>\n",
       "      <td>62.191641</td>\n",
       "      <td>62.191640</td>\n",
       "      <td>62.191640</td>\n",
       "      <td>62.191640</td>\n",
       "      <td>62.191639</td>\n",
       "      <td>62.191639</td>\n",
       "      <td>NaN</td>\n",
       "      <td>62.191637</td>\n",
       "      <td>62.191636</td>\n",
       "      <td>...</td>\n",
       "      <td>0</td>\n",
       "      <td>0</td>\n",
       "      <td>0</td>\n",
       "      <td>0</td>\n",
       "      <td>0</td>\n",
       "      <td>0</td>\n",
       "      <td>0</td>\n",
       "      <td>0</td>\n",
       "      <td>0</td>\n",
       "      <td>0</td>\n",
       "    </tr>\n",
       "    <tr>\n",
       "      <th>2</th>\n",
       "      <td>3216.305785</td>\n",
       "      <td>3216.305745</td>\n",
       "      <td>3216.305698</td>\n",
       "      <td>3216.305642</td>\n",
       "      <td>3216.305575</td>\n",
       "      <td>3216.305494</td>\n",
       "      <td>3216.305398</td>\n",
       "      <td>NaN</td>\n",
       "      <td>3216.305147</td>\n",
       "      <td>3216.304983</td>\n",
       "      <td>...</td>\n",
       "      <td>0</td>\n",
       "      <td>0</td>\n",
       "      <td>0</td>\n",
       "      <td>0</td>\n",
       "      <td>0</td>\n",
       "      <td>0</td>\n",
       "      <td>0</td>\n",
       "      <td>0</td>\n",
       "      <td>0</td>\n",
       "      <td>0</td>\n",
       "    </tr>\n",
       "    <tr>\n",
       "      <th>3</th>\n",
       "      <td>6373.569435</td>\n",
       "      <td>6373.015068</td>\n",
       "      <td>6372.300869</td>\n",
       "      <td>6371.380752</td>\n",
       "      <td>6370.195350</td>\n",
       "      <td>6368.668175</td>\n",
       "      <td>6366.700689</td>\n",
       "      <td>6364.165942</td>\n",
       "      <td>6360.900382</td>\n",
       "      <td>6356.693303</td>\n",
       "      <td>...</td>\n",
       "      <td>0</td>\n",
       "      <td>0</td>\n",
       "      <td>0</td>\n",
       "      <td>0</td>\n",
       "      <td>0</td>\n",
       "      <td>0</td>\n",
       "      <td>0</td>\n",
       "      <td>0</td>\n",
       "      <td>0</td>\n",
       "      <td>0</td>\n",
       "    </tr>\n",
       "    <tr>\n",
       "      <th>4</th>\n",
       "      <td>16.680583</td>\n",
       "      <td>16.699414</td>\n",
       "      <td>16.723735</td>\n",
       "      <td>16.755150</td>\n",
       "      <td>16.795726</td>\n",
       "      <td>16.848135</td>\n",
       "      <td>16.915828</td>\n",
       "      <td>NaN</td>\n",
       "      <td>17.116196</td>\n",
       "      <td>17.262063</td>\n",
       "      <td>...</td>\n",
       "      <td>0</td>\n",
       "      <td>0</td>\n",
       "      <td>0</td>\n",
       "      <td>0</td>\n",
       "      <td>0</td>\n",
       "      <td>0</td>\n",
       "      <td>0</td>\n",
       "      <td>0</td>\n",
       "      <td>0</td>\n",
       "      <td>0</td>\n",
       "    </tr>\n",
       "    <tr>\n",
       "      <th>...</th>\n",
       "      <td>...</td>\n",
       "      <td>...</td>\n",
       "      <td>...</td>\n",
       "      <td>...</td>\n",
       "      <td>...</td>\n",
       "      <td>...</td>\n",
       "      <td>...</td>\n",
       "      <td>...</td>\n",
       "      <td>...</td>\n",
       "      <td>...</td>\n",
       "      <td>...</td>\n",
       "      <td>...</td>\n",
       "      <td>...</td>\n",
       "      <td>...</td>\n",
       "      <td>...</td>\n",
       "      <td>...</td>\n",
       "      <td>...</td>\n",
       "      <td>...</td>\n",
       "      <td>...</td>\n",
       "      <td>...</td>\n",
       "      <td>...</td>\n",
       "    </tr>\n",
       "    <tr>\n",
       "      <th>601</th>\n",
       "      <td>847.498845</td>\n",
       "      <td>847.498704</td>\n",
       "      <td>847.498525</td>\n",
       "      <td>847.498297</td>\n",
       "      <td>847.498008</td>\n",
       "      <td>847.497640</td>\n",
       "      <td>847.497173</td>\n",
       "      <td>NaN</td>\n",
       "      <td>847.495824</td>\n",
       "      <td>847.494865</td>\n",
       "      <td>...</td>\n",
       "      <td>0</td>\n",
       "      <td>0</td>\n",
       "      <td>0</td>\n",
       "      <td>0</td>\n",
       "      <td>0</td>\n",
       "      <td>0</td>\n",
       "      <td>0</td>\n",
       "      <td>0</td>\n",
       "      <td>0</td>\n",
       "      <td>0</td>\n",
       "    </tr>\n",
       "    <tr>\n",
       "      <th>602</th>\n",
       "      <td>24724.565870</td>\n",
       "      <td>24728.692710</td>\n",
       "      <td>24733.760610</td>\n",
       "      <td>24739.984180</td>\n",
       "      <td>24747.626940</td>\n",
       "      <td>24757.012520</td>\n",
       "      <td>24768.538360</td>\n",
       "      <td>24782.692490</td>\n",
       "      <td>24800.074270</td>\n",
       "      <td>24821.419720</td>\n",
       "      <td>...</td>\n",
       "      <td>0</td>\n",
       "      <td>0</td>\n",
       "      <td>1</td>\n",
       "      <td>0</td>\n",
       "      <td>0</td>\n",
       "      <td>0</td>\n",
       "      <td>0</td>\n",
       "      <td>0</td>\n",
       "      <td>0</td>\n",
       "      <td>1</td>\n",
       "    </tr>\n",
       "    <tr>\n",
       "      <th>603</th>\n",
       "      <td>797.931966</td>\n",
       "      <td>797.931974</td>\n",
       "      <td>797.931983</td>\n",
       "      <td>797.931995</td>\n",
       "      <td>797.932010</td>\n",
       "      <td>797.932029</td>\n",
       "      <td>797.932051</td>\n",
       "      <td>NaN</td>\n",
       "      <td>797.932114</td>\n",
       "      <td>797.932157</td>\n",
       "      <td>...</td>\n",
       "      <td>0</td>\n",
       "      <td>0</td>\n",
       "      <td>0</td>\n",
       "      <td>0</td>\n",
       "      <td>0</td>\n",
       "      <td>0</td>\n",
       "      <td>0</td>\n",
       "      <td>0</td>\n",
       "      <td>0</td>\n",
       "      <td>0</td>\n",
       "    </tr>\n",
       "    <tr>\n",
       "      <th>604</th>\n",
       "      <td>906.837107</td>\n",
       "      <td>906.950491</td>\n",
       "      <td>907.094634</td>\n",
       "      <td>907.277881</td>\n",
       "      <td>907.510841</td>\n",
       "      <td>907.807000</td>\n",
       "      <td>908.183503</td>\n",
       "      <td>NaN</td>\n",
       "      <td>909.270640</td>\n",
       "      <td>910.044210</td>\n",
       "      <td>...</td>\n",
       "      <td>0</td>\n",
       "      <td>0</td>\n",
       "      <td>0</td>\n",
       "      <td>0</td>\n",
       "      <td>0</td>\n",
       "      <td>0</td>\n",
       "      <td>0</td>\n",
       "      <td>0</td>\n",
       "      <td>0</td>\n",
       "      <td>0</td>\n",
       "    </tr>\n",
       "    <tr>\n",
       "      <th>605</th>\n",
       "      <td>190.398712</td>\n",
       "      <td>190.363454</td>\n",
       "      <td>190.318707</td>\n",
       "      <td>190.261918</td>\n",
       "      <td>190.189845</td>\n",
       "      <td>190.098375</td>\n",
       "      <td>189.982288</td>\n",
       "      <td>NaN</td>\n",
       "      <td>189.647979</td>\n",
       "      <td>189.410678</td>\n",
       "      <td>...</td>\n",
       "      <td>0</td>\n",
       "      <td>0</td>\n",
       "      <td>0</td>\n",
       "      <td>0</td>\n",
       "      <td>0</td>\n",
       "      <td>0</td>\n",
       "      <td>0</td>\n",
       "      <td>0</td>\n",
       "      <td>0</td>\n",
       "      <td>0</td>\n",
       "    </tr>\n",
       "  </tbody>\n",
       "</table>\n",
       "<p>606 rows × 200 columns</p>\n",
       "</div>"
      ],
      "text/plain": [
       "               X1            X2            X3            X4            X5  \\\n",
       "0     1041.990593   1039.850024   1037.136237   1033.695733   1029.333904   \n",
       "1       62.191641     62.191641     62.191640     62.191640     62.191640   \n",
       "2     3216.305785   3216.305745   3216.305698   3216.305642   3216.305575   \n",
       "3     6373.569435   6373.015068   6372.300869   6371.380752   6370.195350   \n",
       "4       16.680583     16.699414     16.723735     16.755150     16.795726   \n",
       "..            ...           ...           ...           ...           ...   \n",
       "601    847.498845    847.498704    847.498525    847.498297    847.498008   \n",
       "602  24724.565870  24728.692710  24733.760610  24739.984180  24747.626940   \n",
       "603    797.931966    797.931974    797.931983    797.931995    797.932010   \n",
       "604    906.837107    906.950491    907.094634    907.277881    907.510841   \n",
       "605    190.398712    190.363454    190.318707    190.261918    190.189845   \n",
       "\n",
       "               X6            X7            X8            X9           X10  \\\n",
       "0     1023.804033   1016.793331           NaN    996.637055    982.351378   \n",
       "1       62.191639     62.191639           NaN     62.191637     62.191636   \n",
       "2     3216.305494   3216.305398           NaN   3216.305147   3216.304983   \n",
       "3     6368.668175   6366.700689   6364.165942   6360.900382   6356.693303   \n",
       "4       16.848135     16.915828           NaN     17.116196     17.262063   \n",
       "..            ...           ...           ...           ...           ...   \n",
       "601    847.497640    847.497173           NaN    847.495824    847.494865   \n",
       "602  24757.012520  24768.538360  24782.692490  24800.074270  24821.419720   \n",
       "603    797.932029    797.932051           NaN    797.932114    797.932157   \n",
       "604    907.807000    908.183503           NaN    909.270640    910.044210   \n",
       "605    190.098375    189.982288           NaN    189.647979    189.410678   \n",
       "\n",
       "     ...  X91_outlier  X92_outlier  X93_outlier  X94_outlier  X95_outlier  \\\n",
       "0    ...            0            0            0            0            0   \n",
       "1    ...            0            0            0            0            0   \n",
       "2    ...            0            0            0            0            0   \n",
       "3    ...            0            0            0            0            0   \n",
       "4    ...            0            0            0            0            0   \n",
       "..   ...          ...          ...          ...          ...          ...   \n",
       "601  ...            0            0            0            0            0   \n",
       "602  ...            0            0            1            0            0   \n",
       "603  ...            0            0            0            0            0   \n",
       "604  ...            0            0            0            0            0   \n",
       "605  ...            0            0            0            0            0   \n",
       "\n",
       "     X96_outlier  X97_outlier  X98_outlier  X99_outlier  X100_outlier  \n",
       "0              0            0            0            0             0  \n",
       "1              0            0            0            0             0  \n",
       "2              0            0            0            0             0  \n",
       "3              0            0            0            0             0  \n",
       "4              0            0            0            0             0  \n",
       "..           ...          ...          ...          ...           ...  \n",
       "601            0            0            0            0             0  \n",
       "602            0            0            0            0             1  \n",
       "603            0            0            0            0             0  \n",
       "604            0            0            0            0             0  \n",
       "605            0            0            0            0             0  \n",
       "\n",
       "[606 rows x 200 columns]"
      ]
     },
     "execution_count": 30,
     "metadata": {},
     "output_type": "execute_result"
    }
   ],
   "source": [
    "df_outliers"
   ]
  },
  {
   "cell_type": "markdown",
   "metadata": {
    "id": "tUEBIFCS_xaA"
   },
   "source": [
    "### Pyod Multiple Columns - features"
   ]
  },
  {
   "cell_type": "code",
   "execution_count": 29,
   "metadata": {
    "ExecuteTime": {
     "end_time": "2021-03-25T17:05:24.473856Z",
     "start_time": "2021-03-25T17:05:24.464333Z"
    }
   },
   "outputs": [
    {
     "name": "stderr",
     "output_type": "stream",
     "text": [
      "/home/rupali/.local/lib/python3.8/site-packages/ipykernel/ipkernel.py:283: DeprecationWarning: `should_run_async` will not call `transform_cell` automatically in the future. Please pass the result to `transformed_cell` argument and any exception that happen during thetransform in `preprocessing_exc_tuple` in IPython 7.17 and above.\n",
      "  and should_run_async(code)\n"
     ]
    }
   ],
   "source": [
    "df_outliers = df_corrupted.copy(deep=True)"
   ]
  },
  {
   "cell_type": "code",
   "execution_count": 30,
   "metadata": {
    "ExecuteTime": {
     "end_time": "2021-03-25T17:05:25.263509Z",
     "start_time": "2021-03-25T17:05:25.112751Z"
    },
    "colab": {
     "base_uri": "https://localhost:8080/"
    },
    "executionInfo": {
     "elapsed": 21463,
     "status": "ok",
     "timestamp": 1605649256782,
     "user": {
      "displayName": "Rupali Sharma",
      "photoUrl": "https://lh3.googleusercontent.com/a-/AOh14GiH6obBahOBk5ezQLBEEgw1DvKRo8haEZvXXnQ83ww=s64",
      "userId": "15074179419258593720"
     },
     "user_tz": -60
    },
    "id": "JhFS2Q4i-7vi",
    "outputId": "1026b5ff-9ad5-471d-f575-f9d34b2b8fb3"
   },
   "outputs": [
    {
     "data": {
      "text/plain": [
       "Pipeline(steps=[('features',\n",
       "                 ColumnTransformer(transformers=[('categorical_features',\n",
       "                                                  Pipeline(steps=[('mark_missing',\n",
       "                                                                   SimpleImputer(fill_value='__NA__',\n",
       "                                                                                 strategy='constant')),\n",
       "                                                                  ('one_hot_encode',\n",
       "                                                                   OneHotEncoder(handle_unknown='ignore'))]),\n",
       "                                                  ['V1', 'V4', 'V5', 'V6', 'V7',\n",
       "                                                   'V8', 'V9', 'V10', 'V11',\n",
       "                                                   'V12', 'V13', 'V14',\n",
       "                                                   'V15']),\n",
       "                                                 ('scaled_numeric',\n",
       "                                                  Pipeline(steps=[('mark_missing',\n",
       "                                                                   SimpleImputer(fill_value=0,\n",
       "                                                                                 strategy='constant'))]),\n",
       "                                                  ['V2', 'V3', 'V16'])])),\n",
       "                ('outlier_detector',\n",
       "                 KNN(algorithm='auto', contamination=0.1, leaf_size=30, method='largest',\n",
       "  metric='minkowski', metric_params=None, n_jobs=1, n_neighbors=5, p=2,\n",
       "  radius=1.0))])"
      ]
     },
     "execution_count": 30,
     "metadata": {},
     "output_type": "execute_result"
    }
   ],
   "source": [
    "predictors = Pipeline(\n",
    "    [('features', build_featurizers(numerical_columns + categorical_columns)),\n",
    "     ('outlier_detector', KNN())\n",
    "    ])\n",
    "predictors.fit(df_outliers)"
   ]
  },
  {
   "cell_type": "code",
   "execution_count": 31,
   "metadata": {
    "ExecuteTime": {
     "end_time": "2021-03-25T17:05:27.367867Z",
     "start_time": "2021-03-25T17:05:27.309760Z"
    },
    "colab": {
     "base_uri": "https://localhost:8080/"
    },
    "executionInfo": {
     "elapsed": 21454,
     "status": "ok",
     "timestamp": 1605649256784,
     "user": {
      "displayName": "Rupali Sharma",
      "photoUrl": "https://lh3.googleusercontent.com/a-/AOh14GiH6obBahOBk5ezQLBEEgw1DvKRo8haEZvXXnQ83ww=s64",
      "userId": "15074179419258593720"
     },
     "user_tz": -60
    },
    "id": "qDzNUg7T-76Z",
    "outputId": "228072b8-0e87-4842-ccd8-90e3e6fa3f20"
   },
   "outputs": [
    {
     "name": "stderr",
     "output_type": "stream",
     "text": [
      "/home/rupali/.local/lib/python3.8/site-packages/ipykernel/ipkernel.py:283: DeprecationWarning: `should_run_async` will not call `transform_cell` automatically in the future. Please pass the result to `transformed_cell` argument and any exception that happen during thetransform in `preprocessing_exc_tuple` in IPython 7.17 and above.\n",
      "  and should_run_async(code)\n"
     ]
    },
    {
     "data": {
      "text/plain": [
       "array([0, 0, 0, 0, 0, 0, 0, 0, 0, 0, 0, 0, 0, 0, 0, 0, 0, 0, 0, 0, 0, 0,\n",
       "       0, 0, 0, 0, 0, 0, 0, 0, 0, 0, 1, 0, 0, 0, 0, 0, 0, 0, 1, 0, 0, 1,\n",
       "       1, 0, 0, 0, 0, 0, 0, 0, 0, 0, 0, 0, 0, 0, 0, 0, 0, 0, 0, 0, 0, 0,\n",
       "       0, 0, 0, 0, 0, 0, 0, 0, 0, 0, 0, 0, 0, 0, 0, 0, 0, 0, 0, 0, 0, 0,\n",
       "       1, 0, 0, 0, 0, 0, 0, 0, 0, 0, 0, 1, 0, 0, 0, 0, 0, 0, 0, 0, 0, 0,\n",
       "       0, 0, 0, 0, 0, 0, 0, 0, 0, 0, 0, 0, 0, 0, 0, 0, 0, 0, 0, 0, 0, 0,\n",
       "       0, 0, 0, 0, 0, 0, 0, 0, 0])"
      ]
     },
     "execution_count": 31,
     "metadata": {},
     "output_type": "execute_result"
    }
   ],
   "source": [
    "outliers = predictors.predict(df_outliers)\n",
    "outliers"
   ]
  },
  {
   "cell_type": "code",
   "execution_count": 17,
   "metadata": {
    "executionInfo": {
     "elapsed": 21451,
     "status": "ok",
     "timestamp": 1605649256787,
     "user": {
      "displayName": "Rupali Sharma",
      "photoUrl": "https://lh3.googleusercontent.com/a-/AOh14GiH6obBahOBk5ezQLBEEgw1DvKRo8haEZvXXnQ83ww=s64",
      "userId": "15074179419258593720"
     },
     "user_tz": -60
    },
    "id": "uTpTdm93-79e"
   },
   "outputs": [],
   "source": []
  },
  {
   "cell_type": "markdown",
   "metadata": {
    "id": "p6cea4Lo_0au"
   },
   "source": [
    "### Categorical from train, numerical from pyod"
   ]
  },
  {
   "cell_type": "code",
   "execution_count": 18,
   "metadata": {
    "executionInfo": {
     "elapsed": 21451,
     "status": "ok",
     "timestamp": 1605649256788,
     "user": {
      "displayName": "Rupali Sharma",
      "photoUrl": "https://lh3.googleusercontent.com/a-/AOh14GiH6obBahOBk5ezQLBEEgw1DvKRo8haEZvXXnQ83ww=s64",
      "userId": "15074179419258593720"
     },
     "user_tz": -60
    },
    "id": "VCKQkEdZFsz5"
   },
   "outputs": [],
   "source": [
    "## single column based"
   ]
  },
  {
   "cell_type": "code",
   "execution_count": 32,
   "metadata": {
    "ExecuteTime": {
     "end_time": "2021-03-25T17:05:31.410863Z",
     "start_time": "2021-03-25T17:05:31.401502Z"
    },
    "executionInfo": {
     "elapsed": 21449,
     "status": "ok",
     "timestamp": 1605649256790,
     "user": {
      "displayName": "Rupali Sharma",
      "photoUrl": "https://lh3.googleusercontent.com/a-/AOh14GiH6obBahOBk5ezQLBEEgw1DvKRo8haEZvXXnQ83ww=s64",
      "userId": "15074179419258593720"
     },
     "user_tz": -60
    },
    "id": "a8wUxSuyCFfj"
   },
   "outputs": [
    {
     "name": "stderr",
     "output_type": "stream",
     "text": [
      "/home/rupali/.local/lib/python3.8/site-packages/ipykernel/ipkernel.py:283: DeprecationWarning: `should_run_async` will not call `transform_cell` automatically in the future. Please pass the result to `transformed_cell` argument and any exception that happen during thetransform in `preprocessing_exc_tuple` in IPython 7.17 and above.\n",
      "  and should_run_async(code)\n"
     ]
    }
   ],
   "source": [
    "def cat_out_detect(df_train, df_corrupted):\n",
    "    df_outliers = df_corrupted[categorical_columns].copy()\n",
    "    \n",
    "    for col in df_train.columns:\n",
    "        if col in categorical_columns:\n",
    "            vals_train_unique = df_train[col].unique()\n",
    "            \n",
    "            ## add a respective outlier col for each col\n",
    "            df_outliers[col + \"_outlier\"] = ''\n",
    "            \n",
    "            for i in df_corrupted[col].index:\n",
    "                if df_corrupted.loc[i, col] in vals_train_unique:\n",
    "                    df_outliers.loc[i, col + \"_outlier\"] = 0\n",
    "                else:\n",
    "                    df_outliers.loc[i, col + \"_outlier\"] = 1\n",
    "                    \n",
    "    return df_outliers"
   ]
  },
  {
   "cell_type": "code",
   "execution_count": 33,
   "metadata": {
    "ExecuteTime": {
     "end_time": "2021-03-25T17:05:32.092097Z",
     "start_time": "2021-03-25T17:05:32.084617Z"
    },
    "executionInfo": {
     "elapsed": 21731,
     "status": "ok",
     "timestamp": 1605649257077,
     "user": {
      "displayName": "Rupali Sharma",
      "photoUrl": "https://lh3.googleusercontent.com/a-/AOh14GiH6obBahOBk5ezQLBEEgw1DvKRo8haEZvXXnQ83ww=s64",
      "userId": "15074179419258593720"
     },
     "user_tz": -60
    },
    "id": "pwecEbCYDTGF"
   },
   "outputs": [],
   "source": [
    "def num_out_detect(df_train, df_corrupted, pyod_model):\n",
    "    df_outliers = df_corrupted[numerical_columns].copy()\n",
    "    \n",
    "    for col in df_train.columns:\n",
    "        if col in numerical_columns:\n",
    "            ## find indices of records with NaNs in col in df_corrupted\n",
    "            nan_idx = df_corrupted[df_corrupted[col].isnull()].index\n",
    "            non_nan_idx = df_corrupted.loc[set(df_corrupted.index) - set(nan_idx)].index\n",
    "            \n",
    "            ## pd series -> np column, needs to be 2D array\n",
    "            ## taking only the non-NaN records in the corrupted data\n",
    "            col_tr_arr = np.array(df_train[col]).reshape(-1,1)\n",
    "            col_corr_arr = np.array(df_corrupted.loc[non_nan_idx][col]).reshape(-1,1)\n",
    "            \n",
    "            ## fit the dataset to the model\n",
    "            model = pyod_model\n",
    "            model.fit(col_tr_arr)\n",
    "            \n",
    "            ## predict raw anomaly score\n",
    "            scores_pred = model.decision_function(col_corr_arr) * -1\n",
    "            \n",
    "            ## prediction of a datapoint category outlier or inlier\n",
    "            y_pred = model.predict(col_corr_arr)\n",
    "            \n",
    "            ## add a respective outlier col for each col\n",
    "            df_outliers[col + \"_outlier\"] = ''\n",
    "            df_outliers.loc[non_nan_idx, col + \"_outlier\"] = y_pred ## 0: inlier, 1: outlier\n",
    "            df_outliers.loc[nan_idx, col + \"_outlier\"] = 1\n",
    "            \n",
    "    return df_outliers"
   ]
  },
  {
   "cell_type": "code",
   "execution_count": 34,
   "metadata": {
    "ExecuteTime": {
     "end_time": "2021-03-25T17:05:35.091737Z",
     "start_time": "2021-03-25T17:05:34.373639Z"
    },
    "executionInfo": {
     "elapsed": 21729,
     "status": "ok",
     "timestamp": 1605649257078,
     "user": {
      "displayName": "Rupali Sharma",
      "photoUrl": "https://lh3.googleusercontent.com/a-/AOh14GiH6obBahOBk5ezQLBEEgw1DvKRo8haEZvXXnQ83ww=s64",
      "userId": "15074179419258593720"
     },
     "user_tz": -60
    },
    "id": "jB_sQYQ1DTJT",
    "scrolled": true
   },
   "outputs": [
    {
     "data": {
      "text/html": [
       "<div>\n",
       "<style scoped>\n",
       "    .dataframe tbody tr th:only-of-type {\n",
       "        vertical-align: middle;\n",
       "    }\n",
       "\n",
       "    .dataframe tbody tr th {\n",
       "        vertical-align: top;\n",
       "    }\n",
       "\n",
       "    .dataframe thead th {\n",
       "        text-align: right;\n",
       "    }\n",
       "</style>\n",
       "<table border=\"1\" class=\"dataframe\">\n",
       "  <thead>\n",
       "    <tr style=\"text-align: right;\">\n",
       "      <th></th>\n",
       "      <th>V2</th>\n",
       "      <th>V3</th>\n",
       "      <th>V16</th>\n",
       "      <th>V2_outlier</th>\n",
       "      <th>V3_outlier</th>\n",
       "      <th>V16_outlier</th>\n",
       "      <th>V1</th>\n",
       "      <th>V4</th>\n",
       "      <th>V5</th>\n",
       "      <th>V6</th>\n",
       "      <th>...</th>\n",
       "      <th>V6_outlier</th>\n",
       "      <th>V7_outlier</th>\n",
       "      <th>V8_outlier</th>\n",
       "      <th>V9_outlier</th>\n",
       "      <th>V10_outlier</th>\n",
       "      <th>V11_outlier</th>\n",
       "      <th>V12_outlier</th>\n",
       "      <th>V13_outlier</th>\n",
       "      <th>V14_outlier</th>\n",
       "      <th>V15_outlier</th>\n",
       "    </tr>\n",
       "  </thead>\n",
       "  <tbody>\n",
       "    <tr>\n",
       "      <th>364</th>\n",
       "      <td>2320.00</td>\n",
       "      <td>46.773306</td>\n",
       "      <td>56.0</td>\n",
       "      <td>1</td>\n",
       "      <td>1</td>\n",
       "      <td>0</td>\n",
       "      <td>3</td>\n",
       "      <td>3</td>\n",
       "      <td>1</td>\n",
       "      <td>1</td>\n",
       "      <td>...</td>\n",
       "      <td>0</td>\n",
       "      <td>0</td>\n",
       "      <td>0</td>\n",
       "      <td>0</td>\n",
       "      <td>0</td>\n",
       "      <td>0</td>\n",
       "      <td>0</td>\n",
       "      <td>0</td>\n",
       "      <td>0</td>\n",
       "      <td>0</td>\n",
       "    </tr>\n",
       "    <tr>\n",
       "      <th>357</th>\n",
       "      <td>2000.00</td>\n",
       "      <td>NaN</td>\n",
       "      <td>70.0</td>\n",
       "      <td>1</td>\n",
       "      <td>1</td>\n",
       "      <td>0</td>\n",
       "      <td>6</td>\n",
       "      <td>1</td>\n",
       "      <td>1</td>\n",
       "      <td>1</td>\n",
       "      <td>...</td>\n",
       "      <td>0</td>\n",
       "      <td>0</td>\n",
       "      <td>0</td>\n",
       "      <td>0</td>\n",
       "      <td>0</td>\n",
       "      <td>0</td>\n",
       "      <td>0</td>\n",
       "      <td>0</td>\n",
       "      <td>0</td>\n",
       "      <td>0</td>\n",
       "    </tr>\n",
       "    <tr>\n",
       "      <th>333</th>\n",
       "      <td>2200.00</td>\n",
       "      <td>NaN</td>\n",
       "      <td>71.0</td>\n",
       "      <td>1</td>\n",
       "      <td>1</td>\n",
       "      <td>0</td>\n",
       "      <td>7</td>\n",
       "      <td>1</td>\n",
       "      <td>1</td>\n",
       "      <td>1</td>\n",
       "      <td>...</td>\n",
       "      <td>0</td>\n",
       "      <td>0</td>\n",
       "      <td>0</td>\n",
       "      <td>0</td>\n",
       "      <td>0</td>\n",
       "      <td>0</td>\n",
       "      <td>0</td>\n",
       "      <td>0</td>\n",
       "      <td>0</td>\n",
       "      <td>0</td>\n",
       "    </tr>\n",
       "    <tr>\n",
       "      <th>111</th>\n",
       "      <td>4.00</td>\n",
       "      <td>NaN</td>\n",
       "      <td>58.0</td>\n",
       "      <td>0</td>\n",
       "      <td>1</td>\n",
       "      <td>0</td>\n",
       "      <td>3</td>\n",
       "      <td>2</td>\n",
       "      <td>1</td>\n",
       "      <td>1</td>\n",
       "      <td>...</td>\n",
       "      <td>0</td>\n",
       "      <td>0</td>\n",
       "      <td>0</td>\n",
       "      <td>0</td>\n",
       "      <td>0</td>\n",
       "      <td>0</td>\n",
       "      <td>0</td>\n",
       "      <td>0</td>\n",
       "      <td>0</td>\n",
       "      <td>0</td>\n",
       "    </tr>\n",
       "    <tr>\n",
       "      <th>453</th>\n",
       "      <td>2840.00</td>\n",
       "      <td>NaN</td>\n",
       "      <td>72.0</td>\n",
       "      <td>1</td>\n",
       "      <td>1</td>\n",
       "      <td>0</td>\n",
       "      <td>3</td>\n",
       "      <td>2</td>\n",
       "      <td>1</td>\n",
       "      <td>2</td>\n",
       "      <td>...</td>\n",
       "      <td>0</td>\n",
       "      <td>0</td>\n",
       "      <td>0</td>\n",
       "      <td>0</td>\n",
       "      <td>0</td>\n",
       "      <td>0</td>\n",
       "      <td>0</td>\n",
       "      <td>0</td>\n",
       "      <td>0</td>\n",
       "      <td>0</td>\n",
       "    </tr>\n",
       "    <tr>\n",
       "      <th>...</th>\n",
       "      <td>...</td>\n",
       "      <td>...</td>\n",
       "      <td>...</td>\n",
       "      <td>...</td>\n",
       "      <td>...</td>\n",
       "      <td>...</td>\n",
       "      <td>...</td>\n",
       "      <td>...</td>\n",
       "      <td>...</td>\n",
       "      <td>...</td>\n",
       "      <td>...</td>\n",
       "      <td>...</td>\n",
       "      <td>...</td>\n",
       "      <td>...</td>\n",
       "      <td>...</td>\n",
       "      <td>...</td>\n",
       "      <td>...</td>\n",
       "      <td>...</td>\n",
       "      <td>...</td>\n",
       "      <td>...</td>\n",
       "      <td>...</td>\n",
       "    </tr>\n",
       "    <tr>\n",
       "      <th>243</th>\n",
       "      <td>4.36</td>\n",
       "      <td>NaN</td>\n",
       "      <td>47.0</td>\n",
       "      <td>0</td>\n",
       "      <td>1</td>\n",
       "      <td>0</td>\n",
       "      <td>3</td>\n",
       "      <td>2</td>\n",
       "      <td>1</td>\n",
       "      <td>1</td>\n",
       "      <td>...</td>\n",
       "      <td>0</td>\n",
       "      <td>0</td>\n",
       "      <td>0</td>\n",
       "      <td>0</td>\n",
       "      <td>0</td>\n",
       "      <td>0</td>\n",
       "      <td>0</td>\n",
       "      <td>0</td>\n",
       "      <td>0</td>\n",
       "      <td>0</td>\n",
       "    </tr>\n",
       "    <tr>\n",
       "      <th>207</th>\n",
       "      <td>2600.00</td>\n",
       "      <td>NaN</td>\n",
       "      <td>66.0</td>\n",
       "      <td>1</td>\n",
       "      <td>1</td>\n",
       "      <td>0</td>\n",
       "      <td>6</td>\n",
       "      <td>2</td>\n",
       "      <td>1</td>\n",
       "      <td>1</td>\n",
       "      <td>...</td>\n",
       "      <td>0</td>\n",
       "      <td>0</td>\n",
       "      <td>0</td>\n",
       "      <td>0</td>\n",
       "      <td>0</td>\n",
       "      <td>0</td>\n",
       "      <td>0</td>\n",
       "      <td>0</td>\n",
       "      <td>0</td>\n",
       "      <td>0</td>\n",
       "    </tr>\n",
       "    <tr>\n",
       "      <th>446</th>\n",
       "      <td>5.20</td>\n",
       "      <td>NaN</td>\n",
       "      <td>49.0</td>\n",
       "      <td>1</td>\n",
       "      <td>1</td>\n",
       "      <td>0</td>\n",
       "      <td>7</td>\n",
       "      <td>1</td>\n",
       "      <td>1</td>\n",
       "      <td>1</td>\n",
       "      <td>...</td>\n",
       "      <td>0</td>\n",
       "      <td>0</td>\n",
       "      <td>0</td>\n",
       "      <td>0</td>\n",
       "      <td>0</td>\n",
       "      <td>0</td>\n",
       "      <td>0</td>\n",
       "      <td>0</td>\n",
       "      <td>0</td>\n",
       "      <td>0</td>\n",
       "    </tr>\n",
       "    <tr>\n",
       "      <th>268</th>\n",
       "      <td>2520.00</td>\n",
       "      <td>-13.627679</td>\n",
       "      <td>74.0</td>\n",
       "      <td>1</td>\n",
       "      <td>1</td>\n",
       "      <td>0</td>\n",
       "      <td>3</td>\n",
       "      <td>3</td>\n",
       "      <td>1</td>\n",
       "      <td>1</td>\n",
       "      <td>...</td>\n",
       "      <td>0</td>\n",
       "      <td>0</td>\n",
       "      <td>0</td>\n",
       "      <td>0</td>\n",
       "      <td>0</td>\n",
       "      <td>0</td>\n",
       "      <td>0</td>\n",
       "      <td>0</td>\n",
       "      <td>0</td>\n",
       "      <td>0</td>\n",
       "    </tr>\n",
       "    <tr>\n",
       "      <th>203</th>\n",
       "      <td>3.60</td>\n",
       "      <td>3.920000</td>\n",
       "      <td>56.0</td>\n",
       "      <td>0</td>\n",
       "      <td>0</td>\n",
       "      <td>0</td>\n",
       "      <td>2</td>\n",
       "      <td>1</td>\n",
       "      <td>1</td>\n",
       "      <td>1</td>\n",
       "      <td>...</td>\n",
       "      <td>0</td>\n",
       "      <td>0</td>\n",
       "      <td>0</td>\n",
       "      <td>0</td>\n",
       "      <td>0</td>\n",
       "      <td>0</td>\n",
       "      <td>0</td>\n",
       "      <td>0</td>\n",
       "      <td>0</td>\n",
       "      <td>0</td>\n",
       "    </tr>\n",
       "  </tbody>\n",
       "</table>\n",
       "<p>141 rows × 32 columns</p>\n",
       "</div>"
      ],
      "text/plain": [
       "          V2         V3   V16  V2_outlier V3_outlier  V16_outlier V1 V4 V5 V6  \\\n",
       "364  2320.00  46.773306  56.0           1          1            0  3  3  1  1   \n",
       "357  2000.00        NaN  70.0           1          1            0  6  1  1  1   \n",
       "333  2200.00        NaN  71.0           1          1            0  7  1  1  1   \n",
       "111     4.00        NaN  58.0           0          1            0  3  2  1  1   \n",
       "453  2840.00        NaN  72.0           1          1            0  3  2  1  2   \n",
       "..       ...        ...   ...         ...        ...          ... .. .. .. ..   \n",
       "243     4.36        NaN  47.0           0          1            0  3  2  1  1   \n",
       "207  2600.00        NaN  66.0           1          1            0  6  2  1  1   \n",
       "446     5.20        NaN  49.0           1          1            0  7  1  1  1   \n",
       "268  2520.00 -13.627679  74.0           1          1            0  3  3  1  1   \n",
       "203     3.60   3.920000  56.0           0          0            0  2  1  1  1   \n",
       "\n",
       "     ... V6_outlier V7_outlier V8_outlier V9_outlier V10_outlier V11_outlier  \\\n",
       "364  ...          0          0          0          0           0           0   \n",
       "357  ...          0          0          0          0           0           0   \n",
       "333  ...          0          0          0          0           0           0   \n",
       "111  ...          0          0          0          0           0           0   \n",
       "453  ...          0          0          0          0           0           0   \n",
       "..   ...        ...        ...        ...        ...         ...         ...   \n",
       "243  ...          0          0          0          0           0           0   \n",
       "207  ...          0          0          0          0           0           0   \n",
       "446  ...          0          0          0          0           0           0   \n",
       "268  ...          0          0          0          0           0           0   \n",
       "203  ...          0          0          0          0           0           0   \n",
       "\n",
       "    V12_outlier V13_outlier V14_outlier V15_outlier  \n",
       "364           0           0           0           0  \n",
       "357           0           0           0           0  \n",
       "333           0           0           0           0  \n",
       "111           0           0           0           0  \n",
       "453           0           0           0           0  \n",
       "..          ...         ...         ...         ...  \n",
       "243           0           0           0           0  \n",
       "207           0           0           0           0  \n",
       "446           0           0           0           0  \n",
       "268           0           0           0           0  \n",
       "203           0           0           0           0  \n",
       "\n",
       "[141 rows x 32 columns]"
      ]
     },
     "execution_count": 34,
     "metadata": {},
     "output_type": "execute_result"
    }
   ],
   "source": [
    "pyod_model = KNN()\n",
    "    \n",
    "df_outliers_num = num_out_detect(train_data, df_corrupted, pyod_model)\n",
    "df_outliers_cat = cat_out_detect(train_data, df_corrupted)\n",
    "\n",
    "df_outliers = df_outliers_num.join(df_outliers_cat, how='inner')\n",
    "df_outliers"
   ]
  },
  {
   "cell_type": "code",
   "execution_count": 35,
   "metadata": {
    "ExecuteTime": {
     "end_time": "2021-03-25T17:05:36.308618Z",
     "start_time": "2021-03-25T17:05:35.620107Z"
    }
   },
   "outputs": [
    {
     "name": "stderr",
     "output_type": "stream",
     "text": [
      "/home/rupali/.local/lib/python3.8/site-packages/ipykernel/ipkernel.py:283: DeprecationWarning: `should_run_async` will not call `transform_cell` automatically in the future. Please pass the result to `transformed_cell` argument and any exception that happen during thetransform in `preprocessing_exc_tuple` in IPython 7.17 and above.\n",
      "  and should_run_async(code)\n"
     ]
    },
    {
     "data": {
      "text/html": [
       "<div>\n",
       "<style scoped>\n",
       "    .dataframe tbody tr th:only-of-type {\n",
       "        vertical-align: middle;\n",
       "    }\n",
       "\n",
       "    .dataframe tbody tr th {\n",
       "        vertical-align: top;\n",
       "    }\n",
       "\n",
       "    .dataframe thead th {\n",
       "        text-align: right;\n",
       "    }\n",
       "</style>\n",
       "<table border=\"1\" class=\"dataframe\">\n",
       "  <thead>\n",
       "    <tr style=\"text-align: right;\">\n",
       "      <th></th>\n",
       "      <th>V2</th>\n",
       "      <th>V3</th>\n",
       "      <th>V16</th>\n",
       "      <th>V2_outlier</th>\n",
       "      <th>V3_outlier</th>\n",
       "      <th>V16_outlier</th>\n",
       "      <th>V1</th>\n",
       "      <th>V4</th>\n",
       "      <th>V5</th>\n",
       "      <th>V6</th>\n",
       "      <th>...</th>\n",
       "      <th>V6_outlier</th>\n",
       "      <th>V7_outlier</th>\n",
       "      <th>V8_outlier</th>\n",
       "      <th>V9_outlier</th>\n",
       "      <th>V10_outlier</th>\n",
       "      <th>V11_outlier</th>\n",
       "      <th>V12_outlier</th>\n",
       "      <th>V13_outlier</th>\n",
       "      <th>V14_outlier</th>\n",
       "      <th>V15_outlier</th>\n",
       "    </tr>\n",
       "  </thead>\n",
       "  <tbody>\n",
       "    <tr>\n",
       "      <th>364</th>\n",
       "      <td>2320.00</td>\n",
       "      <td>46.773306</td>\n",
       "      <td>56.0</td>\n",
       "      <td>1</td>\n",
       "      <td>1</td>\n",
       "      <td>0</td>\n",
       "      <td>3</td>\n",
       "      <td>3</td>\n",
       "      <td>1</td>\n",
       "      <td>1</td>\n",
       "      <td>...</td>\n",
       "      <td>0</td>\n",
       "      <td>0</td>\n",
       "      <td>0</td>\n",
       "      <td>0</td>\n",
       "      <td>0</td>\n",
       "      <td>0</td>\n",
       "      <td>0</td>\n",
       "      <td>0</td>\n",
       "      <td>0</td>\n",
       "      <td>0</td>\n",
       "    </tr>\n",
       "    <tr>\n",
       "      <th>357</th>\n",
       "      <td>2000.00</td>\n",
       "      <td>NaN</td>\n",
       "      <td>70.0</td>\n",
       "      <td>1</td>\n",
       "      <td>1</td>\n",
       "      <td>0</td>\n",
       "      <td>6</td>\n",
       "      <td>1</td>\n",
       "      <td>1</td>\n",
       "      <td>1</td>\n",
       "      <td>...</td>\n",
       "      <td>0</td>\n",
       "      <td>0</td>\n",
       "      <td>0</td>\n",
       "      <td>0</td>\n",
       "      <td>0</td>\n",
       "      <td>0</td>\n",
       "      <td>0</td>\n",
       "      <td>0</td>\n",
       "      <td>0</td>\n",
       "      <td>0</td>\n",
       "    </tr>\n",
       "    <tr>\n",
       "      <th>333</th>\n",
       "      <td>2200.00</td>\n",
       "      <td>NaN</td>\n",
       "      <td>71.0</td>\n",
       "      <td>1</td>\n",
       "      <td>1</td>\n",
       "      <td>0</td>\n",
       "      <td>7</td>\n",
       "      <td>1</td>\n",
       "      <td>1</td>\n",
       "      <td>1</td>\n",
       "      <td>...</td>\n",
       "      <td>0</td>\n",
       "      <td>0</td>\n",
       "      <td>0</td>\n",
       "      <td>0</td>\n",
       "      <td>0</td>\n",
       "      <td>0</td>\n",
       "      <td>0</td>\n",
       "      <td>0</td>\n",
       "      <td>0</td>\n",
       "      <td>0</td>\n",
       "    </tr>\n",
       "    <tr>\n",
       "      <th>111</th>\n",
       "      <td>4.00</td>\n",
       "      <td>NaN</td>\n",
       "      <td>58.0</td>\n",
       "      <td>0</td>\n",
       "      <td>1</td>\n",
       "      <td>0</td>\n",
       "      <td>3</td>\n",
       "      <td>2</td>\n",
       "      <td>1</td>\n",
       "      <td>1</td>\n",
       "      <td>...</td>\n",
       "      <td>0</td>\n",
       "      <td>0</td>\n",
       "      <td>0</td>\n",
       "      <td>0</td>\n",
       "      <td>0</td>\n",
       "      <td>0</td>\n",
       "      <td>0</td>\n",
       "      <td>0</td>\n",
       "      <td>0</td>\n",
       "      <td>0</td>\n",
       "    </tr>\n",
       "    <tr>\n",
       "      <th>453</th>\n",
       "      <td>2840.00</td>\n",
       "      <td>NaN</td>\n",
       "      <td>72.0</td>\n",
       "      <td>1</td>\n",
       "      <td>1</td>\n",
       "      <td>0</td>\n",
       "      <td>3</td>\n",
       "      <td>2</td>\n",
       "      <td>1</td>\n",
       "      <td>2</td>\n",
       "      <td>...</td>\n",
       "      <td>0</td>\n",
       "      <td>0</td>\n",
       "      <td>0</td>\n",
       "      <td>0</td>\n",
       "      <td>0</td>\n",
       "      <td>0</td>\n",
       "      <td>0</td>\n",
       "      <td>0</td>\n",
       "      <td>0</td>\n",
       "      <td>0</td>\n",
       "    </tr>\n",
       "    <tr>\n",
       "      <th>...</th>\n",
       "      <td>...</td>\n",
       "      <td>...</td>\n",
       "      <td>...</td>\n",
       "      <td>...</td>\n",
       "      <td>...</td>\n",
       "      <td>...</td>\n",
       "      <td>...</td>\n",
       "      <td>...</td>\n",
       "      <td>...</td>\n",
       "      <td>...</td>\n",
       "      <td>...</td>\n",
       "      <td>...</td>\n",
       "      <td>...</td>\n",
       "      <td>...</td>\n",
       "      <td>...</td>\n",
       "      <td>...</td>\n",
       "      <td>...</td>\n",
       "      <td>...</td>\n",
       "      <td>...</td>\n",
       "      <td>...</td>\n",
       "      <td>...</td>\n",
       "    </tr>\n",
       "    <tr>\n",
       "      <th>243</th>\n",
       "      <td>4.36</td>\n",
       "      <td>NaN</td>\n",
       "      <td>47.0</td>\n",
       "      <td>0</td>\n",
       "      <td>1</td>\n",
       "      <td>0</td>\n",
       "      <td>3</td>\n",
       "      <td>2</td>\n",
       "      <td>1</td>\n",
       "      <td>1</td>\n",
       "      <td>...</td>\n",
       "      <td>0</td>\n",
       "      <td>0</td>\n",
       "      <td>0</td>\n",
       "      <td>0</td>\n",
       "      <td>0</td>\n",
       "      <td>0</td>\n",
       "      <td>0</td>\n",
       "      <td>0</td>\n",
       "      <td>0</td>\n",
       "      <td>0</td>\n",
       "    </tr>\n",
       "    <tr>\n",
       "      <th>207</th>\n",
       "      <td>2600.00</td>\n",
       "      <td>NaN</td>\n",
       "      <td>66.0</td>\n",
       "      <td>1</td>\n",
       "      <td>1</td>\n",
       "      <td>0</td>\n",
       "      <td>6</td>\n",
       "      <td>2</td>\n",
       "      <td>1</td>\n",
       "      <td>1</td>\n",
       "      <td>...</td>\n",
       "      <td>0</td>\n",
       "      <td>0</td>\n",
       "      <td>0</td>\n",
       "      <td>0</td>\n",
       "      <td>0</td>\n",
       "      <td>0</td>\n",
       "      <td>0</td>\n",
       "      <td>0</td>\n",
       "      <td>0</td>\n",
       "      <td>0</td>\n",
       "    </tr>\n",
       "    <tr>\n",
       "      <th>446</th>\n",
       "      <td>5.20</td>\n",
       "      <td>NaN</td>\n",
       "      <td>49.0</td>\n",
       "      <td>0</td>\n",
       "      <td>1</td>\n",
       "      <td>0</td>\n",
       "      <td>7</td>\n",
       "      <td>1</td>\n",
       "      <td>1</td>\n",
       "      <td>1</td>\n",
       "      <td>...</td>\n",
       "      <td>0</td>\n",
       "      <td>0</td>\n",
       "      <td>0</td>\n",
       "      <td>0</td>\n",
       "      <td>0</td>\n",
       "      <td>0</td>\n",
       "      <td>0</td>\n",
       "      <td>0</td>\n",
       "      <td>0</td>\n",
       "      <td>0</td>\n",
       "    </tr>\n",
       "    <tr>\n",
       "      <th>268</th>\n",
       "      <td>2520.00</td>\n",
       "      <td>-13.627679</td>\n",
       "      <td>74.0</td>\n",
       "      <td>1</td>\n",
       "      <td>1</td>\n",
       "      <td>0</td>\n",
       "      <td>3</td>\n",
       "      <td>3</td>\n",
       "      <td>1</td>\n",
       "      <td>1</td>\n",
       "      <td>...</td>\n",
       "      <td>0</td>\n",
       "      <td>0</td>\n",
       "      <td>0</td>\n",
       "      <td>0</td>\n",
       "      <td>0</td>\n",
       "      <td>0</td>\n",
       "      <td>0</td>\n",
       "      <td>0</td>\n",
       "      <td>0</td>\n",
       "      <td>0</td>\n",
       "    </tr>\n",
       "    <tr>\n",
       "      <th>203</th>\n",
       "      <td>3.60</td>\n",
       "      <td>3.920000</td>\n",
       "      <td>56.0</td>\n",
       "      <td>0</td>\n",
       "      <td>0</td>\n",
       "      <td>0</td>\n",
       "      <td>2</td>\n",
       "      <td>1</td>\n",
       "      <td>1</td>\n",
       "      <td>1</td>\n",
       "      <td>...</td>\n",
       "      <td>0</td>\n",
       "      <td>0</td>\n",
       "      <td>0</td>\n",
       "      <td>0</td>\n",
       "      <td>0</td>\n",
       "      <td>0</td>\n",
       "      <td>0</td>\n",
       "      <td>0</td>\n",
       "      <td>0</td>\n",
       "      <td>0</td>\n",
       "    </tr>\n",
       "  </tbody>\n",
       "</table>\n",
       "<p>141 rows × 32 columns</p>\n",
       "</div>"
      ],
      "text/plain": [
       "          V2         V3   V16  V2_outlier V3_outlier  V16_outlier V1 V4 V5 V6  \\\n",
       "364  2320.00  46.773306  56.0           1          1            0  3  3  1  1   \n",
       "357  2000.00        NaN  70.0           1          1            0  6  1  1  1   \n",
       "333  2200.00        NaN  71.0           1          1            0  7  1  1  1   \n",
       "111     4.00        NaN  58.0           0          1            0  3  2  1  1   \n",
       "453  2840.00        NaN  72.0           1          1            0  3  2  1  2   \n",
       "..       ...        ...   ...         ...        ...          ... .. .. .. ..   \n",
       "243     4.36        NaN  47.0           0          1            0  3  2  1  1   \n",
       "207  2600.00        NaN  66.0           1          1            0  6  2  1  1   \n",
       "446     5.20        NaN  49.0           0          1            0  7  1  1  1   \n",
       "268  2520.00 -13.627679  74.0           1          1            0  3  3  1  1   \n",
       "203     3.60   3.920000  56.0           0          0            0  2  1  1  1   \n",
       "\n",
       "     ... V6_outlier V7_outlier V8_outlier V9_outlier V10_outlier V11_outlier  \\\n",
       "364  ...          0          0          0          0           0           0   \n",
       "357  ...          0          0          0          0           0           0   \n",
       "333  ...          0          0          0          0           0           0   \n",
       "111  ...          0          0          0          0           0           0   \n",
       "453  ...          0          0          0          0           0           0   \n",
       "..   ...        ...        ...        ...        ...         ...         ...   \n",
       "243  ...          0          0          0          0           0           0   \n",
       "207  ...          0          0          0          0           0           0   \n",
       "446  ...          0          0          0          0           0           0   \n",
       "268  ...          0          0          0          0           0           0   \n",
       "203  ...          0          0          0          0           0           0   \n",
       "\n",
       "    V12_outlier V13_outlier V14_outlier V15_outlier  \n",
       "364           0           0           0           0  \n",
       "357           0           0           0           0  \n",
       "333           0           0           0           0  \n",
       "111           0           0           0           0  \n",
       "453           0           0           0           0  \n",
       "..          ...         ...         ...         ...  \n",
       "243           0           0           0           0  \n",
       "207           0           0           0           0  \n",
       "446           0           0           0           0  \n",
       "268           0           0           0           0  \n",
       "203           0           0           0           0  \n",
       "\n",
       "[141 rows x 32 columns]"
      ]
     },
     "execution_count": 35,
     "metadata": {},
     "output_type": "execute_result"
    }
   ],
   "source": [
    "from pyod.models.pca import PCA\n",
    "\n",
    "pyod_model = PCA() # n_components = min(n_samples, n_features) default  # n_selected_components = None\n",
    "    \n",
    "df_outliers_num = num_out_detect(train_data, df_corrupted, pyod_model)\n",
    "df_outliers_cat = cat_out_detect(train_data, df_corrupted)\n",
    "\n",
    "df_outliers = df_outliers_num.join(df_outliers_cat, how='inner')\n",
    "df_outliers"
   ]
  },
  {
   "cell_type": "code",
   "execution_count": 36,
   "metadata": {
    "ExecuteTime": {
     "end_time": "2021-03-25T17:05:40.904181Z",
     "start_time": "2021-03-25T17:05:38.223227Z"
    }
   },
   "outputs": [
    {
     "name": "stderr",
     "output_type": "stream",
     "text": [
      "/home/rupali/.local/lib/python3.8/site-packages/ipykernel/ipkernel.py:283: DeprecationWarning: `should_run_async` will not call `transform_cell` automatically in the future. Please pass the result to `transformed_cell` argument and any exception that happen during thetransform in `preprocessing_exc_tuple` in IPython 7.17 and above.\n",
      "  and should_run_async(code)\n",
      "/home/rupali/.local/lib/python3.8/site-packages/sklearn/cluster/_kmeans.py:792: FutureWarning: 'n_jobs' was deprecated in version 0.23 and will be removed in 1.0 (renaming of 0.25).\n",
      "  warnings.warn(\"'n_jobs' was deprecated in version 0.23 and will be\"\n",
      "/home/rupali/.local/lib/python3.8/site-packages/sklearn/cluster/_kmeans.py:792: FutureWarning: 'n_jobs' was deprecated in version 0.23 and will be removed in 1.0 (renaming of 0.25).\n",
      "  warnings.warn(\"'n_jobs' was deprecated in version 0.23 and will be\"\n",
      "/home/rupali/.local/lib/python3.8/site-packages/sklearn/cluster/_kmeans.py:792: FutureWarning: 'n_jobs' was deprecated in version 0.23 and will be removed in 1.0 (renaming of 0.25).\n",
      "  warnings.warn(\"'n_jobs' was deprecated in version 0.23 and will be\"\n"
     ]
    },
    {
     "data": {
      "text/html": [
       "<div>\n",
       "<style scoped>\n",
       "    .dataframe tbody tr th:only-of-type {\n",
       "        vertical-align: middle;\n",
       "    }\n",
       "\n",
       "    .dataframe tbody tr th {\n",
       "        vertical-align: top;\n",
       "    }\n",
       "\n",
       "    .dataframe thead th {\n",
       "        text-align: right;\n",
       "    }\n",
       "</style>\n",
       "<table border=\"1\" class=\"dataframe\">\n",
       "  <thead>\n",
       "    <tr style=\"text-align: right;\">\n",
       "      <th></th>\n",
       "      <th>V2</th>\n",
       "      <th>V3</th>\n",
       "      <th>V16</th>\n",
       "      <th>V2_outlier</th>\n",
       "      <th>V3_outlier</th>\n",
       "      <th>V16_outlier</th>\n",
       "      <th>V1</th>\n",
       "      <th>V4</th>\n",
       "      <th>V5</th>\n",
       "      <th>V6</th>\n",
       "      <th>...</th>\n",
       "      <th>V6_outlier</th>\n",
       "      <th>V7_outlier</th>\n",
       "      <th>V8_outlier</th>\n",
       "      <th>V9_outlier</th>\n",
       "      <th>V10_outlier</th>\n",
       "      <th>V11_outlier</th>\n",
       "      <th>V12_outlier</th>\n",
       "      <th>V13_outlier</th>\n",
       "      <th>V14_outlier</th>\n",
       "      <th>V15_outlier</th>\n",
       "    </tr>\n",
       "  </thead>\n",
       "  <tbody>\n",
       "    <tr>\n",
       "      <th>364</th>\n",
       "      <td>2320.00</td>\n",
       "      <td>46.773306</td>\n",
       "      <td>56.0</td>\n",
       "      <td>1</td>\n",
       "      <td>1</td>\n",
       "      <td>0</td>\n",
       "      <td>3</td>\n",
       "      <td>3</td>\n",
       "      <td>1</td>\n",
       "      <td>1</td>\n",
       "      <td>...</td>\n",
       "      <td>0</td>\n",
       "      <td>0</td>\n",
       "      <td>0</td>\n",
       "      <td>0</td>\n",
       "      <td>0</td>\n",
       "      <td>0</td>\n",
       "      <td>0</td>\n",
       "      <td>0</td>\n",
       "      <td>0</td>\n",
       "      <td>0</td>\n",
       "    </tr>\n",
       "    <tr>\n",
       "      <th>357</th>\n",
       "      <td>2000.00</td>\n",
       "      <td>NaN</td>\n",
       "      <td>70.0</td>\n",
       "      <td>1</td>\n",
       "      <td>1</td>\n",
       "      <td>0</td>\n",
       "      <td>6</td>\n",
       "      <td>1</td>\n",
       "      <td>1</td>\n",
       "      <td>1</td>\n",
       "      <td>...</td>\n",
       "      <td>0</td>\n",
       "      <td>0</td>\n",
       "      <td>0</td>\n",
       "      <td>0</td>\n",
       "      <td>0</td>\n",
       "      <td>0</td>\n",
       "      <td>0</td>\n",
       "      <td>0</td>\n",
       "      <td>0</td>\n",
       "      <td>0</td>\n",
       "    </tr>\n",
       "    <tr>\n",
       "      <th>333</th>\n",
       "      <td>2200.00</td>\n",
       "      <td>NaN</td>\n",
       "      <td>71.0</td>\n",
       "      <td>1</td>\n",
       "      <td>1</td>\n",
       "      <td>0</td>\n",
       "      <td>7</td>\n",
       "      <td>1</td>\n",
       "      <td>1</td>\n",
       "      <td>1</td>\n",
       "      <td>...</td>\n",
       "      <td>0</td>\n",
       "      <td>0</td>\n",
       "      <td>0</td>\n",
       "      <td>0</td>\n",
       "      <td>0</td>\n",
       "      <td>0</td>\n",
       "      <td>0</td>\n",
       "      <td>0</td>\n",
       "      <td>0</td>\n",
       "      <td>0</td>\n",
       "    </tr>\n",
       "    <tr>\n",
       "      <th>111</th>\n",
       "      <td>4.00</td>\n",
       "      <td>NaN</td>\n",
       "      <td>58.0</td>\n",
       "      <td>0</td>\n",
       "      <td>1</td>\n",
       "      <td>0</td>\n",
       "      <td>3</td>\n",
       "      <td>2</td>\n",
       "      <td>1</td>\n",
       "      <td>1</td>\n",
       "      <td>...</td>\n",
       "      <td>0</td>\n",
       "      <td>0</td>\n",
       "      <td>0</td>\n",
       "      <td>0</td>\n",
       "      <td>0</td>\n",
       "      <td>0</td>\n",
       "      <td>0</td>\n",
       "      <td>0</td>\n",
       "      <td>0</td>\n",
       "      <td>0</td>\n",
       "    </tr>\n",
       "    <tr>\n",
       "      <th>453</th>\n",
       "      <td>2840.00</td>\n",
       "      <td>NaN</td>\n",
       "      <td>72.0</td>\n",
       "      <td>1</td>\n",
       "      <td>1</td>\n",
       "      <td>0</td>\n",
       "      <td>3</td>\n",
       "      <td>2</td>\n",
       "      <td>1</td>\n",
       "      <td>2</td>\n",
       "      <td>...</td>\n",
       "      <td>0</td>\n",
       "      <td>0</td>\n",
       "      <td>0</td>\n",
       "      <td>0</td>\n",
       "      <td>0</td>\n",
       "      <td>0</td>\n",
       "      <td>0</td>\n",
       "      <td>0</td>\n",
       "      <td>0</td>\n",
       "      <td>0</td>\n",
       "    </tr>\n",
       "    <tr>\n",
       "      <th>...</th>\n",
       "      <td>...</td>\n",
       "      <td>...</td>\n",
       "      <td>...</td>\n",
       "      <td>...</td>\n",
       "      <td>...</td>\n",
       "      <td>...</td>\n",
       "      <td>...</td>\n",
       "      <td>...</td>\n",
       "      <td>...</td>\n",
       "      <td>...</td>\n",
       "      <td>...</td>\n",
       "      <td>...</td>\n",
       "      <td>...</td>\n",
       "      <td>...</td>\n",
       "      <td>...</td>\n",
       "      <td>...</td>\n",
       "      <td>...</td>\n",
       "      <td>...</td>\n",
       "      <td>...</td>\n",
       "      <td>...</td>\n",
       "      <td>...</td>\n",
       "    </tr>\n",
       "    <tr>\n",
       "      <th>243</th>\n",
       "      <td>4.36</td>\n",
       "      <td>NaN</td>\n",
       "      <td>47.0</td>\n",
       "      <td>1</td>\n",
       "      <td>1</td>\n",
       "      <td>0</td>\n",
       "      <td>3</td>\n",
       "      <td>2</td>\n",
       "      <td>1</td>\n",
       "      <td>1</td>\n",
       "      <td>...</td>\n",
       "      <td>0</td>\n",
       "      <td>0</td>\n",
       "      <td>0</td>\n",
       "      <td>0</td>\n",
       "      <td>0</td>\n",
       "      <td>0</td>\n",
       "      <td>0</td>\n",
       "      <td>0</td>\n",
       "      <td>0</td>\n",
       "      <td>0</td>\n",
       "    </tr>\n",
       "    <tr>\n",
       "      <th>207</th>\n",
       "      <td>2600.00</td>\n",
       "      <td>NaN</td>\n",
       "      <td>66.0</td>\n",
       "      <td>1</td>\n",
       "      <td>1</td>\n",
       "      <td>0</td>\n",
       "      <td>6</td>\n",
       "      <td>2</td>\n",
       "      <td>1</td>\n",
       "      <td>1</td>\n",
       "      <td>...</td>\n",
       "      <td>0</td>\n",
       "      <td>0</td>\n",
       "      <td>0</td>\n",
       "      <td>0</td>\n",
       "      <td>0</td>\n",
       "      <td>0</td>\n",
       "      <td>0</td>\n",
       "      <td>0</td>\n",
       "      <td>0</td>\n",
       "      <td>0</td>\n",
       "    </tr>\n",
       "    <tr>\n",
       "      <th>446</th>\n",
       "      <td>5.20</td>\n",
       "      <td>NaN</td>\n",
       "      <td>49.0</td>\n",
       "      <td>1</td>\n",
       "      <td>1</td>\n",
       "      <td>1</td>\n",
       "      <td>7</td>\n",
       "      <td>1</td>\n",
       "      <td>1</td>\n",
       "      <td>1</td>\n",
       "      <td>...</td>\n",
       "      <td>0</td>\n",
       "      <td>0</td>\n",
       "      <td>0</td>\n",
       "      <td>0</td>\n",
       "      <td>0</td>\n",
       "      <td>0</td>\n",
       "      <td>0</td>\n",
       "      <td>0</td>\n",
       "      <td>0</td>\n",
       "      <td>0</td>\n",
       "    </tr>\n",
       "    <tr>\n",
       "      <th>268</th>\n",
       "      <td>2520.00</td>\n",
       "      <td>-13.627679</td>\n",
       "      <td>74.0</td>\n",
       "      <td>1</td>\n",
       "      <td>1</td>\n",
       "      <td>0</td>\n",
       "      <td>3</td>\n",
       "      <td>3</td>\n",
       "      <td>1</td>\n",
       "      <td>1</td>\n",
       "      <td>...</td>\n",
       "      <td>0</td>\n",
       "      <td>0</td>\n",
       "      <td>0</td>\n",
       "      <td>0</td>\n",
       "      <td>0</td>\n",
       "      <td>0</td>\n",
       "      <td>0</td>\n",
       "      <td>0</td>\n",
       "      <td>0</td>\n",
       "      <td>0</td>\n",
       "    </tr>\n",
       "    <tr>\n",
       "      <th>203</th>\n",
       "      <td>3.60</td>\n",
       "      <td>3.920000</td>\n",
       "      <td>56.0</td>\n",
       "      <td>0</td>\n",
       "      <td>0</td>\n",
       "      <td>0</td>\n",
       "      <td>2</td>\n",
       "      <td>1</td>\n",
       "      <td>1</td>\n",
       "      <td>1</td>\n",
       "      <td>...</td>\n",
       "      <td>0</td>\n",
       "      <td>0</td>\n",
       "      <td>0</td>\n",
       "      <td>0</td>\n",
       "      <td>0</td>\n",
       "      <td>0</td>\n",
       "      <td>0</td>\n",
       "      <td>0</td>\n",
       "      <td>0</td>\n",
       "      <td>0</td>\n",
       "    </tr>\n",
       "  </tbody>\n",
       "</table>\n",
       "<p>141 rows × 32 columns</p>\n",
       "</div>"
      ],
      "text/plain": [
       "          V2         V3   V16  V2_outlier V3_outlier  V16_outlier V1 V4 V5 V6  \\\n",
       "364  2320.00  46.773306  56.0           1          1            0  3  3  1  1   \n",
       "357  2000.00        NaN  70.0           1          1            0  6  1  1  1   \n",
       "333  2200.00        NaN  71.0           1          1            0  7  1  1  1   \n",
       "111     4.00        NaN  58.0           0          1            0  3  2  1  1   \n",
       "453  2840.00        NaN  72.0           1          1            0  3  2  1  2   \n",
       "..       ...        ...   ...         ...        ...          ... .. .. .. ..   \n",
       "243     4.36        NaN  47.0           1          1            0  3  2  1  1   \n",
       "207  2600.00        NaN  66.0           1          1            0  6  2  1  1   \n",
       "446     5.20        NaN  49.0           1          1            1  7  1  1  1   \n",
       "268  2520.00 -13.627679  74.0           1          1            0  3  3  1  1   \n",
       "203     3.60   3.920000  56.0           0          0            0  2  1  1  1   \n",
       "\n",
       "     ... V6_outlier V7_outlier V8_outlier V9_outlier V10_outlier V11_outlier  \\\n",
       "364  ...          0          0          0          0           0           0   \n",
       "357  ...          0          0          0          0           0           0   \n",
       "333  ...          0          0          0          0           0           0   \n",
       "111  ...          0          0          0          0           0           0   \n",
       "453  ...          0          0          0          0           0           0   \n",
       "..   ...        ...        ...        ...        ...         ...         ...   \n",
       "243  ...          0          0          0          0           0           0   \n",
       "207  ...          0          0          0          0           0           0   \n",
       "446  ...          0          0          0          0           0           0   \n",
       "268  ...          0          0          0          0           0           0   \n",
       "203  ...          0          0          0          0           0           0   \n",
       "\n",
       "    V12_outlier V13_outlier V14_outlier V15_outlier  \n",
       "364           0           0           0           0  \n",
       "357           0           0           0           0  \n",
       "333           0           0           0           0  \n",
       "111           0           0           0           0  \n",
       "453           0           0           0           0  \n",
       "..          ...         ...         ...         ...  \n",
       "243           0           0           0           0  \n",
       "207           0           0           0           0  \n",
       "446           0           0           0           0  \n",
       "268           0           0           0           0  \n",
       "203           0           0           0           0  \n",
       "\n",
       "[141 rows x 32 columns]"
      ]
     },
     "execution_count": 36,
     "metadata": {},
     "output_type": "execute_result"
    }
   ],
   "source": [
    "from pyod.models.cblof import CBLOF\n",
    "\n",
    "pyod_model = CBLOF() # n_clusters = 8 default\n",
    "    \n",
    "df_outliers_num = num_out_detect(train_data, df_corrupted, pyod_model)\n",
    "df_outliers_cat = cat_out_detect(train_data, df_corrupted)\n",
    "\n",
    "df_outliers = df_outliers_num.join(df_outliers_cat, how='inner')\n",
    "df_outliers"
   ]
  },
  {
   "cell_type": "code",
   "execution_count": 37,
   "metadata": {
    "ExecuteTime": {
     "end_time": "2021-03-25T17:06:31.706648Z",
     "start_time": "2021-03-25T17:05:43.589563Z"
    }
   },
   "outputs": [
    {
     "name": "stderr",
     "output_type": "stream",
     "text": [
      "/home/rupali/.local/lib/python3.8/site-packages/ipykernel/ipkernel.py:283: DeprecationWarning: `should_run_async` will not call `transform_cell` automatically in the future. Please pass the result to `transformed_cell` argument and any exception that happen during thetransform in `preprocessing_exc_tuple` in IPython 7.17 and above.\n",
      "  and should_run_async(code)\n"
     ]
    },
    {
     "data": {
      "text/html": [
       "<div>\n",
       "<style scoped>\n",
       "    .dataframe tbody tr th:only-of-type {\n",
       "        vertical-align: middle;\n",
       "    }\n",
       "\n",
       "    .dataframe tbody tr th {\n",
       "        vertical-align: top;\n",
       "    }\n",
       "\n",
       "    .dataframe thead th {\n",
       "        text-align: right;\n",
       "    }\n",
       "</style>\n",
       "<table border=\"1\" class=\"dataframe\">\n",
       "  <thead>\n",
       "    <tr style=\"text-align: right;\">\n",
       "      <th></th>\n",
       "      <th>V2</th>\n",
       "      <th>V3</th>\n",
       "      <th>V16</th>\n",
       "      <th>V2_outlier</th>\n",
       "      <th>V3_outlier</th>\n",
       "      <th>V16_outlier</th>\n",
       "      <th>V1</th>\n",
       "      <th>V4</th>\n",
       "      <th>V5</th>\n",
       "      <th>V6</th>\n",
       "      <th>...</th>\n",
       "      <th>V6_outlier</th>\n",
       "      <th>V7_outlier</th>\n",
       "      <th>V8_outlier</th>\n",
       "      <th>V9_outlier</th>\n",
       "      <th>V10_outlier</th>\n",
       "      <th>V11_outlier</th>\n",
       "      <th>V12_outlier</th>\n",
       "      <th>V13_outlier</th>\n",
       "      <th>V14_outlier</th>\n",
       "      <th>V15_outlier</th>\n",
       "    </tr>\n",
       "  </thead>\n",
       "  <tbody>\n",
       "    <tr>\n",
       "      <th>364</th>\n",
       "      <td>2320.00</td>\n",
       "      <td>46.773306</td>\n",
       "      <td>56.0</td>\n",
       "      <td>0</td>\n",
       "      <td>0</td>\n",
       "      <td>0</td>\n",
       "      <td>3</td>\n",
       "      <td>3</td>\n",
       "      <td>1</td>\n",
       "      <td>1</td>\n",
       "      <td>...</td>\n",
       "      <td>0</td>\n",
       "      <td>0</td>\n",
       "      <td>0</td>\n",
       "      <td>0</td>\n",
       "      <td>0</td>\n",
       "      <td>0</td>\n",
       "      <td>0</td>\n",
       "      <td>0</td>\n",
       "      <td>0</td>\n",
       "      <td>0</td>\n",
       "    </tr>\n",
       "    <tr>\n",
       "      <th>357</th>\n",
       "      <td>2000.00</td>\n",
       "      <td>NaN</td>\n",
       "      <td>70.0</td>\n",
       "      <td>0</td>\n",
       "      <td>1</td>\n",
       "      <td>0</td>\n",
       "      <td>6</td>\n",
       "      <td>1</td>\n",
       "      <td>1</td>\n",
       "      <td>1</td>\n",
       "      <td>...</td>\n",
       "      <td>0</td>\n",
       "      <td>0</td>\n",
       "      <td>0</td>\n",
       "      <td>0</td>\n",
       "      <td>0</td>\n",
       "      <td>0</td>\n",
       "      <td>0</td>\n",
       "      <td>0</td>\n",
       "      <td>0</td>\n",
       "      <td>0</td>\n",
       "    </tr>\n",
       "    <tr>\n",
       "      <th>333</th>\n",
       "      <td>2200.00</td>\n",
       "      <td>NaN</td>\n",
       "      <td>71.0</td>\n",
       "      <td>0</td>\n",
       "      <td>1</td>\n",
       "      <td>0</td>\n",
       "      <td>7</td>\n",
       "      <td>1</td>\n",
       "      <td>1</td>\n",
       "      <td>1</td>\n",
       "      <td>...</td>\n",
       "      <td>0</td>\n",
       "      <td>0</td>\n",
       "      <td>0</td>\n",
       "      <td>0</td>\n",
       "      <td>0</td>\n",
       "      <td>0</td>\n",
       "      <td>0</td>\n",
       "      <td>0</td>\n",
       "      <td>0</td>\n",
       "      <td>0</td>\n",
       "    </tr>\n",
       "    <tr>\n",
       "      <th>111</th>\n",
       "      <td>4.00</td>\n",
       "      <td>NaN</td>\n",
       "      <td>58.0</td>\n",
       "      <td>0</td>\n",
       "      <td>1</td>\n",
       "      <td>0</td>\n",
       "      <td>3</td>\n",
       "      <td>2</td>\n",
       "      <td>1</td>\n",
       "      <td>1</td>\n",
       "      <td>...</td>\n",
       "      <td>0</td>\n",
       "      <td>0</td>\n",
       "      <td>0</td>\n",
       "      <td>0</td>\n",
       "      <td>0</td>\n",
       "      <td>0</td>\n",
       "      <td>0</td>\n",
       "      <td>0</td>\n",
       "      <td>0</td>\n",
       "      <td>0</td>\n",
       "    </tr>\n",
       "    <tr>\n",
       "      <th>453</th>\n",
       "      <td>2840.00</td>\n",
       "      <td>NaN</td>\n",
       "      <td>72.0</td>\n",
       "      <td>0</td>\n",
       "      <td>1</td>\n",
       "      <td>0</td>\n",
       "      <td>3</td>\n",
       "      <td>2</td>\n",
       "      <td>1</td>\n",
       "      <td>2</td>\n",
       "      <td>...</td>\n",
       "      <td>0</td>\n",
       "      <td>0</td>\n",
       "      <td>0</td>\n",
       "      <td>0</td>\n",
       "      <td>0</td>\n",
       "      <td>0</td>\n",
       "      <td>0</td>\n",
       "      <td>0</td>\n",
       "      <td>0</td>\n",
       "      <td>0</td>\n",
       "    </tr>\n",
       "    <tr>\n",
       "      <th>...</th>\n",
       "      <td>...</td>\n",
       "      <td>...</td>\n",
       "      <td>...</td>\n",
       "      <td>...</td>\n",
       "      <td>...</td>\n",
       "      <td>...</td>\n",
       "      <td>...</td>\n",
       "      <td>...</td>\n",
       "      <td>...</td>\n",
       "      <td>...</td>\n",
       "      <td>...</td>\n",
       "      <td>...</td>\n",
       "      <td>...</td>\n",
       "      <td>...</td>\n",
       "      <td>...</td>\n",
       "      <td>...</td>\n",
       "      <td>...</td>\n",
       "      <td>...</td>\n",
       "      <td>...</td>\n",
       "      <td>...</td>\n",
       "      <td>...</td>\n",
       "    </tr>\n",
       "    <tr>\n",
       "      <th>243</th>\n",
       "      <td>4.36</td>\n",
       "      <td>NaN</td>\n",
       "      <td>47.0</td>\n",
       "      <td>0</td>\n",
       "      <td>1</td>\n",
       "      <td>0</td>\n",
       "      <td>3</td>\n",
       "      <td>2</td>\n",
       "      <td>1</td>\n",
       "      <td>1</td>\n",
       "      <td>...</td>\n",
       "      <td>0</td>\n",
       "      <td>0</td>\n",
       "      <td>0</td>\n",
       "      <td>0</td>\n",
       "      <td>0</td>\n",
       "      <td>0</td>\n",
       "      <td>0</td>\n",
       "      <td>0</td>\n",
       "      <td>0</td>\n",
       "      <td>0</td>\n",
       "    </tr>\n",
       "    <tr>\n",
       "      <th>207</th>\n",
       "      <td>2600.00</td>\n",
       "      <td>NaN</td>\n",
       "      <td>66.0</td>\n",
       "      <td>0</td>\n",
       "      <td>1</td>\n",
       "      <td>0</td>\n",
       "      <td>6</td>\n",
       "      <td>2</td>\n",
       "      <td>1</td>\n",
       "      <td>1</td>\n",
       "      <td>...</td>\n",
       "      <td>0</td>\n",
       "      <td>0</td>\n",
       "      <td>0</td>\n",
       "      <td>0</td>\n",
       "      <td>0</td>\n",
       "      <td>0</td>\n",
       "      <td>0</td>\n",
       "      <td>0</td>\n",
       "      <td>0</td>\n",
       "      <td>0</td>\n",
       "    </tr>\n",
       "    <tr>\n",
       "      <th>446</th>\n",
       "      <td>5.20</td>\n",
       "      <td>NaN</td>\n",
       "      <td>49.0</td>\n",
       "      <td>0</td>\n",
       "      <td>1</td>\n",
       "      <td>0</td>\n",
       "      <td>7</td>\n",
       "      <td>1</td>\n",
       "      <td>1</td>\n",
       "      <td>1</td>\n",
       "      <td>...</td>\n",
       "      <td>0</td>\n",
       "      <td>0</td>\n",
       "      <td>0</td>\n",
       "      <td>0</td>\n",
       "      <td>0</td>\n",
       "      <td>0</td>\n",
       "      <td>0</td>\n",
       "      <td>0</td>\n",
       "      <td>0</td>\n",
       "      <td>0</td>\n",
       "    </tr>\n",
       "    <tr>\n",
       "      <th>268</th>\n",
       "      <td>2520.00</td>\n",
       "      <td>-13.627679</td>\n",
       "      <td>74.0</td>\n",
       "      <td>0</td>\n",
       "      <td>0</td>\n",
       "      <td>0</td>\n",
       "      <td>3</td>\n",
       "      <td>3</td>\n",
       "      <td>1</td>\n",
       "      <td>1</td>\n",
       "      <td>...</td>\n",
       "      <td>0</td>\n",
       "      <td>0</td>\n",
       "      <td>0</td>\n",
       "      <td>0</td>\n",
       "      <td>0</td>\n",
       "      <td>0</td>\n",
       "      <td>0</td>\n",
       "      <td>0</td>\n",
       "      <td>0</td>\n",
       "      <td>0</td>\n",
       "    </tr>\n",
       "    <tr>\n",
       "      <th>203</th>\n",
       "      <td>3.60</td>\n",
       "      <td>3.920000</td>\n",
       "      <td>56.0</td>\n",
       "      <td>0</td>\n",
       "      <td>0</td>\n",
       "      <td>0</td>\n",
       "      <td>2</td>\n",
       "      <td>1</td>\n",
       "      <td>1</td>\n",
       "      <td>1</td>\n",
       "      <td>...</td>\n",
       "      <td>0</td>\n",
       "      <td>0</td>\n",
       "      <td>0</td>\n",
       "      <td>0</td>\n",
       "      <td>0</td>\n",
       "      <td>0</td>\n",
       "      <td>0</td>\n",
       "      <td>0</td>\n",
       "      <td>0</td>\n",
       "      <td>0</td>\n",
       "    </tr>\n",
       "  </tbody>\n",
       "</table>\n",
       "<p>141 rows × 32 columns</p>\n",
       "</div>"
      ],
      "text/plain": [
       "          V2         V3   V16  V2_outlier V3_outlier  V16_outlier V1 V4 V5 V6  \\\n",
       "364  2320.00  46.773306  56.0           0          0            0  3  3  1  1   \n",
       "357  2000.00        NaN  70.0           0          1            0  6  1  1  1   \n",
       "333  2200.00        NaN  71.0           0          1            0  7  1  1  1   \n",
       "111     4.00        NaN  58.0           0          1            0  3  2  1  1   \n",
       "453  2840.00        NaN  72.0           0          1            0  3  2  1  2   \n",
       "..       ...        ...   ...         ...        ...          ... .. .. .. ..   \n",
       "243     4.36        NaN  47.0           0          1            0  3  2  1  1   \n",
       "207  2600.00        NaN  66.0           0          1            0  6  2  1  1   \n",
       "446     5.20        NaN  49.0           0          1            0  7  1  1  1   \n",
       "268  2520.00 -13.627679  74.0           0          0            0  3  3  1  1   \n",
       "203     3.60   3.920000  56.0           0          0            0  2  1  1  1   \n",
       "\n",
       "     ... V6_outlier V7_outlier V8_outlier V9_outlier V10_outlier V11_outlier  \\\n",
       "364  ...          0          0          0          0           0           0   \n",
       "357  ...          0          0          0          0           0           0   \n",
       "333  ...          0          0          0          0           0           0   \n",
       "111  ...          0          0          0          0           0           0   \n",
       "453  ...          0          0          0          0           0           0   \n",
       "..   ...        ...        ...        ...        ...         ...         ...   \n",
       "243  ...          0          0          0          0           0           0   \n",
       "207  ...          0          0          0          0           0           0   \n",
       "446  ...          0          0          0          0           0           0   \n",
       "268  ...          0          0          0          0           0           0   \n",
       "203  ...          0          0          0          0           0           0   \n",
       "\n",
       "    V12_outlier V13_outlier V14_outlier V15_outlier  \n",
       "364           0           0           0           0  \n",
       "357           0           0           0           0  \n",
       "333           0           0           0           0  \n",
       "111           0           0           0           0  \n",
       "453           0           0           0           0  \n",
       "..          ...         ...         ...         ...  \n",
       "243           0           0           0           0  \n",
       "207           0           0           0           0  \n",
       "446           0           0           0           0  \n",
       "268           0           0           0           0  \n",
       "203           0           0           0           0  \n",
       "\n",
       "[141 rows x 32 columns]"
      ]
     },
     "execution_count": 37,
     "metadata": {},
     "output_type": "execute_result"
    }
   ],
   "source": [
    "from pyod.models.sos import SOS\n",
    "\n",
    "pyod_model = SOS()\n",
    "    \n",
    "df_outliers_num = num_out_detect(train_data, df_corrupted, pyod_model)\n",
    "df_outliers_cat = cat_out_detect(train_data, df_corrupted)\n",
    "\n",
    "df_outliers = df_outliers_num.join(df_outliers_cat, how='inner')\n",
    "df_outliers"
   ]
  },
  {
   "cell_type": "code",
   "execution_count": null,
   "metadata": {},
   "outputs": [],
   "source": []
  },
  {
   "cell_type": "code",
   "execution_count": null,
   "metadata": {},
   "outputs": [],
   "source": []
  },
  {
   "cell_type": "code",
   "execution_count": null,
   "metadata": {},
   "outputs": [],
   "source": []
  },
  {
   "cell_type": "code",
   "execution_count": null,
   "metadata": {},
   "outputs": [],
   "source": []
  },
  {
   "cell_type": "markdown",
   "metadata": {},
   "source": [
    "### Sklearn"
   ]
  },
  {
   "cell_type": "code",
   "execution_count": 6,
   "metadata": {
    "ExecuteTime": {
     "end_time": "2021-03-29T23:58:24.145261Z",
     "start_time": "2021-03-29T23:58:24.132547Z"
    }
   },
   "outputs": [
    {
     "name": "stderr",
     "output_type": "stream",
     "text": [
      "/home/rupali/.local/lib/python3.8/site-packages/ipykernel/ipkernel.py:283: DeprecationWarning: `should_run_async` will not call `transform_cell` automatically in the future. Please pass the result to `transformed_cell` argument and any exception that happen during thetransform in `preprocessing_exc_tuple` in IPython 7.17 and above.\n",
      "  and should_run_async(code)\n"
     ]
    }
   ],
   "source": [
    "from sklearn.pipeline import Pipeline\n",
    "from sklearn.impute import SimpleImputer\n",
    "from sklearn.preprocessing import OneHotEncoder, StandardScaler\n",
    "from sklearn.compose import ColumnTransformer\n",
    "from sklearn.ensemble import GradientBoostingClassifier, GradientBoostingRegressor\n",
    "from sklearn.model_selection import GridSearchCV\n",
    "from sklearn.metrics import classification_report, precision_recall_curve"
   ]
  },
  {
   "cell_type": "code",
   "execution_count": 7,
   "metadata": {
    "ExecuteTime": {
     "end_time": "2021-03-29T23:58:24.936976Z",
     "start_time": "2021-03-29T23:58:24.929415Z"
    }
   },
   "outputs": [],
   "source": [
    "df_outliers = df_corrupted.copy(deep=True)"
   ]
  },
  {
   "cell_type": "code",
   "execution_count": 8,
   "metadata": {
    "ExecuteTime": {
     "end_time": "2021-03-29T23:58:25.527033Z",
     "start_time": "2021-03-29T23:58:25.520968Z"
    }
   },
   "outputs": [],
   "source": [
    "categorical_precision_threshold = 0.85\n",
    "numeric_error_percentile = 0.9\n",
    "\n",
    "predictors = {}\n",
    "predictable_cols = []"
   ]
  },
  {
   "cell_type": "code",
   "execution_count": 9,
   "metadata": {
    "ExecuteTime": {
     "end_time": "2021-03-29T23:58:26.205172Z",
     "start_time": "2021-03-29T23:58:26.198291Z"
    }
   },
   "outputs": [],
   "source": [
    "categorical_preprocessing = Pipeline([\n",
    "    ('mark-missing', SimpleImputer(strategy='constant', fill_value='__NA__')),\n",
    "    ('one_hot_encode', OneHotEncoder(handle_unknown='ignore'))\n",
    "])\n",
    "\n",
    "numeric_preprocessing = Pipeline([\n",
    "    ('mark_missing', SimpleImputer(strategy='median')),\n",
    "    ('scaling', StandardScaler())\n",
    "])"
   ]
  },
  {
   "cell_type": "code",
   "execution_count": 207,
   "metadata": {
    "ExecuteTime": {
     "end_time": "2021-03-26T00:01:09.839643Z",
     "start_time": "2021-03-26T00:01:09.809997Z"
    }
   },
   "outputs": [],
   "source": [
    "## cat to string"
   ]
  },
  {
   "cell_type": "markdown",
   "metadata": {},
   "source": [
    "#### Categoric"
   ]
  },
  {
   "cell_type": "code",
   "execution_count": 10,
   "metadata": {
    "ExecuteTime": {
     "end_time": "2021-03-29T23:24:37.962395Z",
     "start_time": "2021-03-29T23:24:37.957373Z"
    }
   },
   "outputs": [],
   "source": [
    "col = \"V14\""
   ]
  },
  {
   "cell_type": "code",
   "execution_count": 11,
   "metadata": {
    "ExecuteTime": {
     "end_time": "2021-03-29T23:24:38.718698Z",
     "start_time": "2021-03-29T23:24:38.708172Z"
    }
   },
   "outputs": [
    {
     "data": {
      "text/plain": [
       "2"
      ]
     },
     "execution_count": 11,
     "metadata": {},
     "output_type": "execute_result"
    }
   ],
   "source": [
    "len(train_data[col].unique())"
   ]
  },
  {
   "cell_type": "code",
   "execution_count": 12,
   "metadata": {
    "ExecuteTime": {
     "end_time": "2021-03-29T23:24:39.830748Z",
     "start_time": "2021-03-29T23:24:39.827030Z"
    }
   },
   "outputs": [],
   "source": [
    "feature_transform = ColumnTransformer(transformers=[\n",
    "    ('categorical_features', categorical_preprocessing, list(set(categorical_columns) - {col})),\n",
    "    ('numeric_features', numeric_preprocessing, numerical_columns)\n",
    "])"
   ]
  },
  {
   "cell_type": "code",
   "execution_count": 13,
   "metadata": {
    "ExecuteTime": {
     "end_time": "2021-03-29T23:24:40.805177Z",
     "start_time": "2021-03-29T23:24:40.801742Z"
    }
   },
   "outputs": [],
   "source": [
    "param_grid = {\n",
    "    'learner__n_estimators': [10, 50, 100, 200],\n",
    "}"
   ]
  },
  {
   "cell_type": "code",
   "execution_count": 14,
   "metadata": {
    "ExecuteTime": {
     "end_time": "2021-03-29T23:24:41.521163Z",
     "start_time": "2021-03-29T23:24:41.517575Z"
    }
   },
   "outputs": [],
   "source": [
    "pipeline = Pipeline([\n",
    "    ('features', feature_transform),\n",
    "    ('learner', GradientBoostingClassifier())\n",
    "])"
   ]
  },
  {
   "cell_type": "code",
   "execution_count": 15,
   "metadata": {
    "ExecuteTime": {
     "end_time": "2021-03-29T23:24:45.012029Z",
     "start_time": "2021-03-29T23:24:42.178896Z"
    }
   },
   "outputs": [
    {
     "name": "stdout",
     "output_type": "stream",
     "text": [
      "Classifier for col: V14 reached 0.8206762749445676\n"
     ]
    }
   ],
   "source": [
    "search = GridSearchCV(pipeline, param_grid, cv=2, verbose=0, n_jobs=-1)\n",
    "predictors[col] = search.fit(train_data, train_data[col])\n",
    "\n",
    "print(f'Classifier for col: {col} reached {search.best_score_}')"
   ]
  },
  {
   "cell_type": "code",
   "execution_count": 20,
   "metadata": {
    "ExecuteTime": {
     "end_time": "2021-03-29T23:28:13.199604Z",
     "start_time": "2021-03-29T23:28:13.111133Z"
    }
   },
   "outputs": [
    {
     "name": "stderr",
     "output_type": "stream",
     "text": [
      "/home/rupali/.local/lib/python3.8/site-packages/ipykernel/ipkernel.py:283: DeprecationWarning: `should_run_async` will not call `transform_cell` automatically in the future. Please pass the result to `transformed_cell` argument and any exception that happen during thetransform in `preprocessing_exc_tuple` in IPython 7.17 and above.\n",
      "  and should_run_async(code)\n"
     ]
    },
    {
     "data": {
      "text/html": [
       "<div>\n",
       "<style scoped>\n",
       "    .dataframe tbody tr th:only-of-type {\n",
       "        vertical-align: middle;\n",
       "    }\n",
       "\n",
       "    .dataframe tbody tr th {\n",
       "        vertical-align: top;\n",
       "    }\n",
       "\n",
       "    .dataframe thead th {\n",
       "        text-align: right;\n",
       "    }\n",
       "</style>\n",
       "<table border=\"1\" class=\"dataframe\">\n",
       "  <thead>\n",
       "    <tr style=\"text-align: right;\">\n",
       "      <th></th>\n",
       "      <th>V1</th>\n",
       "      <th>V2</th>\n",
       "      <th>V3</th>\n",
       "      <th>V4</th>\n",
       "      <th>V5</th>\n",
       "      <th>V6</th>\n",
       "      <th>V7</th>\n",
       "      <th>V8</th>\n",
       "      <th>V9</th>\n",
       "      <th>V10</th>\n",
       "      <th>V11</th>\n",
       "      <th>V12</th>\n",
       "      <th>V13</th>\n",
       "      <th>V14</th>\n",
       "      <th>V15</th>\n",
       "      <th>V16</th>\n",
       "      <th>class</th>\n",
       "    </tr>\n",
       "  </thead>\n",
       "  <tbody>\n",
       "    <tr>\n",
       "      <th>454</th>\n",
       "      <td>3</td>\n",
       "      <td>3.24</td>\n",
       "      <td>2.76</td>\n",
       "      <td>1</td>\n",
       "      <td>1</td>\n",
       "      <td>1</td>\n",
       "      <td>1</td>\n",
       "      <td>1</td>\n",
       "      <td>1</td>\n",
       "      <td>1</td>\n",
       "      <td>1</td>\n",
       "      <td>1</td>\n",
       "      <td>1</td>\n",
       "      <td>2</td>\n",
       "      <td>1</td>\n",
       "      <td>70.0</td>\n",
       "      <td>2</td>\n",
       "    </tr>\n",
       "    <tr>\n",
       "      <th>459</th>\n",
       "      <td>3</td>\n",
       "      <td>4.28</td>\n",
       "      <td>3.16</td>\n",
       "      <td>1</td>\n",
       "      <td>1</td>\n",
       "      <td>1</td>\n",
       "      <td>1</td>\n",
       "      <td>2</td>\n",
       "      <td>1</td>\n",
       "      <td>2</td>\n",
       "      <td>1</td>\n",
       "      <td>1</td>\n",
       "      <td>1</td>\n",
       "      <td>1</td>\n",
       "      <td>1</td>\n",
       "      <td>66.0</td>\n",
       "      <td>2</td>\n",
       "    </tr>\n",
       "    <tr>\n",
       "      <th>283</th>\n",
       "      <td>2</td>\n",
       "      <td>2.32</td>\n",
       "      <td>1.68</td>\n",
       "      <td>2</td>\n",
       "      <td>1</td>\n",
       "      <td>2</td>\n",
       "      <td>1</td>\n",
       "      <td>2</td>\n",
       "      <td>1</td>\n",
       "      <td>2</td>\n",
       "      <td>1</td>\n",
       "      <td>1</td>\n",
       "      <td>1</td>\n",
       "      <td>2</td>\n",
       "      <td>1</td>\n",
       "      <td>64.0</td>\n",
       "      <td>2</td>\n",
       "    </tr>\n",
       "    <tr>\n",
       "      <th>276</th>\n",
       "      <td>3</td>\n",
       "      <td>3.04</td>\n",
       "      <td>2.04</td>\n",
       "      <td>2</td>\n",
       "      <td>1</td>\n",
       "      <td>1</td>\n",
       "      <td>1</td>\n",
       "      <td>2</td>\n",
       "      <td>1</td>\n",
       "      <td>2</td>\n",
       "      <td>1</td>\n",
       "      <td>1</td>\n",
       "      <td>1</td>\n",
       "      <td>2</td>\n",
       "      <td>1</td>\n",
       "      <td>67.0</td>\n",
       "      <td>2</td>\n",
       "    </tr>\n",
       "    <tr>\n",
       "      <th>86</th>\n",
       "      <td>3</td>\n",
       "      <td>4.90</td>\n",
       "      <td>4.19</td>\n",
       "      <td>1</td>\n",
       "      <td>1</td>\n",
       "      <td>1</td>\n",
       "      <td>2</td>\n",
       "      <td>2</td>\n",
       "      <td>1</td>\n",
       "      <td>2</td>\n",
       "      <td>1</td>\n",
       "      <td>1</td>\n",
       "      <td>1</td>\n",
       "      <td>1</td>\n",
       "      <td>1</td>\n",
       "      <td>52.0</td>\n",
       "      <td>2</td>\n",
       "    </tr>\n",
       "    <tr>\n",
       "      <th>...</th>\n",
       "      <td>...</td>\n",
       "      <td>...</td>\n",
       "      <td>...</td>\n",
       "      <td>...</td>\n",
       "      <td>...</td>\n",
       "      <td>...</td>\n",
       "      <td>...</td>\n",
       "      <td>...</td>\n",
       "      <td>...</td>\n",
       "      <td>...</td>\n",
       "      <td>...</td>\n",
       "      <td>...</td>\n",
       "      <td>...</td>\n",
       "      <td>...</td>\n",
       "      <td>...</td>\n",
       "      <td>...</td>\n",
       "      <td>...</td>\n",
       "    </tr>\n",
       "    <tr>\n",
       "      <th>114</th>\n",
       "      <td>3</td>\n",
       "      <td>4.52</td>\n",
       "      <td>3.32</td>\n",
       "      <td>1</td>\n",
       "      <td>1</td>\n",
       "      <td>1</td>\n",
       "      <td>1</td>\n",
       "      <td>2</td>\n",
       "      <td>1</td>\n",
       "      <td>2</td>\n",
       "      <td>1</td>\n",
       "      <td>1</td>\n",
       "      <td>1</td>\n",
       "      <td>2</td>\n",
       "      <td>1</td>\n",
       "      <td>58.0</td>\n",
       "      <td>2</td>\n",
       "    </tr>\n",
       "    <tr>\n",
       "      <th>270</th>\n",
       "      <td>3</td>\n",
       "      <td>2.52</td>\n",
       "      <td>1.72</td>\n",
       "      <td>2</td>\n",
       "      <td>1</td>\n",
       "      <td>1</td>\n",
       "      <td>1</td>\n",
       "      <td>2</td>\n",
       "      <td>2</td>\n",
       "      <td>2</td>\n",
       "      <td>1</td>\n",
       "      <td>1</td>\n",
       "      <td>1</td>\n",
       "      <td>2</td>\n",
       "      <td>1</td>\n",
       "      <td>71.0</td>\n",
       "      <td>1</td>\n",
       "    </tr>\n",
       "    <tr>\n",
       "      <th>53</th>\n",
       "      <td>4</td>\n",
       "      <td>3.76</td>\n",
       "      <td>2.52</td>\n",
       "      <td>2</td>\n",
       "      <td>1</td>\n",
       "      <td>1</td>\n",
       "      <td>1</td>\n",
       "      <td>2</td>\n",
       "      <td>1</td>\n",
       "      <td>2</td>\n",
       "      <td>1</td>\n",
       "      <td>1</td>\n",
       "      <td>1</td>\n",
       "      <td>2</td>\n",
       "      <td>1</td>\n",
       "      <td>75.0</td>\n",
       "      <td>2</td>\n",
       "    </tr>\n",
       "    <tr>\n",
       "      <th>152</th>\n",
       "      <td>3</td>\n",
       "      <td>2.72</td>\n",
       "      <td>2.04</td>\n",
       "      <td>2</td>\n",
       "      <td>2</td>\n",
       "      <td>1</td>\n",
       "      <td>1</td>\n",
       "      <td>1</td>\n",
       "      <td>1</td>\n",
       "      <td>2</td>\n",
       "      <td>1</td>\n",
       "      <td>1</td>\n",
       "      <td>1</td>\n",
       "      <td>1</td>\n",
       "      <td>1</td>\n",
       "      <td>76.0</td>\n",
       "      <td>1</td>\n",
       "    </tr>\n",
       "    <tr>\n",
       "      <th>303</th>\n",
       "      <td>3</td>\n",
       "      <td>4.16</td>\n",
       "      <td>3.44</td>\n",
       "      <td>2</td>\n",
       "      <td>1</td>\n",
       "      <td>2</td>\n",
       "      <td>1</td>\n",
       "      <td>2</td>\n",
       "      <td>2</td>\n",
       "      <td>2</td>\n",
       "      <td>1</td>\n",
       "      <td>1</td>\n",
       "      <td>1</td>\n",
       "      <td>2</td>\n",
       "      <td>1</td>\n",
       "      <td>67.0</td>\n",
       "      <td>2</td>\n",
       "    </tr>\n",
       "  </tbody>\n",
       "</table>\n",
       "<p>329 rows × 17 columns</p>\n",
       "</div>"
      ],
      "text/plain": [
       "    V1    V2    V3 V4 V5 V6 V7 V8 V9 V10 V11 V12 V13 V14 V15   V16 class\n",
       "454  3  3.24  2.76  1  1  1  1  1  1   1   1   1   1   2   1  70.0     2\n",
       "459  3  4.28  3.16  1  1  1  1  2  1   2   1   1   1   1   1  66.0     2\n",
       "283  2  2.32  1.68  2  1  2  1  2  1   2   1   1   1   2   1  64.0     2\n",
       "276  3  3.04  2.04  2  1  1  1  2  1   2   1   1   1   2   1  67.0     2\n",
       "86   3  4.90  4.19  1  1  1  2  2  1   2   1   1   1   1   1  52.0     2\n",
       "..  ..   ...   ... .. .. .. .. .. ..  ..  ..  ..  ..  ..  ..   ...   ...\n",
       "114  3  4.52  3.32  1  1  1  1  2  1   2   1   1   1   2   1  58.0     2\n",
       "270  3  2.52  1.72  2  1  1  1  2  2   2   1   1   1   2   1  71.0     1\n",
       "53   4  3.76  2.52  2  1  1  1  2  1   2   1   1   1   2   1  75.0     2\n",
       "152  3  2.72  2.04  2  2  1  1  1  1   2   1   1   1   1   1  76.0     1\n",
       "303  3  4.16  3.44  2  1  2  1  2  2   2   1   1   1   2   1  67.0     2\n",
       "\n",
       "[329 rows x 17 columns]"
      ]
     },
     "execution_count": 20,
     "metadata": {},
     "output_type": "execute_result"
    }
   ],
   "source": [
    "train_data"
   ]
  },
  {
   "cell_type": "code",
   "execution_count": 18,
   "metadata": {
    "ExecuteTime": {
     "end_time": "2021-03-29T23:26:41.381395Z",
     "start_time": "2021-03-29T23:26:41.262655Z"
    }
   },
   "outputs": [
    {
     "name": "stderr",
     "output_type": "stream",
     "text": [
      "/home/rupali/.local/lib/python3.8/site-packages/ipykernel/ipkernel.py:283: DeprecationWarning: `should_run_async` will not call `transform_cell` automatically in the future. Please pass the result to `transformed_cell` argument and any exception that happen during thetransform in `preprocessing_exc_tuple` in IPython 7.17 and above.\n",
      "  and should_run_async(code)\n"
     ]
    },
    {
     "data": {
      "text/html": [
       "<div>\n",
       "<style scoped>\n",
       "    .dataframe tbody tr th:only-of-type {\n",
       "        vertical-align: middle;\n",
       "    }\n",
       "\n",
       "    .dataframe tbody tr th {\n",
       "        vertical-align: top;\n",
       "    }\n",
       "\n",
       "    .dataframe thead th {\n",
       "        text-align: right;\n",
       "    }\n",
       "</style>\n",
       "<table border=\"1\" class=\"dataframe\">\n",
       "  <thead>\n",
       "    <tr style=\"text-align: right;\">\n",
       "      <th></th>\n",
       "      <th>V1</th>\n",
       "      <th>V2</th>\n",
       "      <th>V3</th>\n",
       "      <th>V4</th>\n",
       "      <th>V5</th>\n",
       "      <th>V6</th>\n",
       "      <th>V7</th>\n",
       "      <th>V8</th>\n",
       "      <th>V9</th>\n",
       "      <th>V10</th>\n",
       "      <th>V11</th>\n",
       "      <th>V12</th>\n",
       "      <th>V13</th>\n",
       "      <th>V14</th>\n",
       "      <th>V15</th>\n",
       "      <th>V16</th>\n",
       "    </tr>\n",
       "  </thead>\n",
       "  <tbody>\n",
       "    <tr>\n",
       "      <th>22</th>\n",
       "      <td>3</td>\n",
       "      <td>2.36</td>\n",
       "      <td>1.68</td>\n",
       "      <td>1</td>\n",
       "      <td>1</td>\n",
       "      <td>1</td>\n",
       "      <td>1</td>\n",
       "      <td>1</td>\n",
       "      <td>1</td>\n",
       "      <td>2</td>\n",
       "      <td>1</td>\n",
       "      <td>1</td>\n",
       "      <td>1</td>\n",
       "      <td>2</td>\n",
       "      <td>1</td>\n",
       "      <td>62.0</td>\n",
       "    </tr>\n",
       "    <tr>\n",
       "      <th>134</th>\n",
       "      <td>3</td>\n",
       "      <td>4.84</td>\n",
       "      <td>3.48</td>\n",
       "      <td>2</td>\n",
       "      <td>1</td>\n",
       "      <td>1</td>\n",
       "      <td>1</td>\n",
       "      <td>2</td>\n",
       "      <td>1</td>\n",
       "      <td>2</td>\n",
       "      <td>1</td>\n",
       "      <td>1</td>\n",
       "      <td>1</td>\n",
       "      <td>2</td>\n",
       "      <td>1</td>\n",
       "      <td>56.0</td>\n",
       "    </tr>\n",
       "    <tr>\n",
       "      <th>2</th>\n",
       "      <td>3</td>\n",
       "      <td>2.76</td>\n",
       "      <td>2.08</td>\n",
       "      <td>2</td>\n",
       "      <td>1</td>\n",
       "      <td>1</td>\n",
       "      <td>1</td>\n",
       "      <td>2</td>\n",
       "      <td>1</td>\n",
       "      <td>1</td>\n",
       "      <td>1</td>\n",
       "      <td>1</td>\n",
       "      <td>1</td>\n",
       "      <td>2</td>\n",
       "      <td>1</td>\n",
       "      <td>59.0</td>\n",
       "    </tr>\n",
       "    <tr>\n",
       "      <th>95</th>\n",
       "      <td>3</td>\n",
       "      <td>4.56</td>\n",
       "      <td>3.60</td>\n",
       "      <td>2</td>\n",
       "      <td>1</td>\n",
       "      <td>1</td>\n",
       "      <td>1</td>\n",
       "      <td>2</td>\n",
       "      <td>1</td>\n",
       "      <td>1</td>\n",
       "      <td>1</td>\n",
       "      <td>1</td>\n",
       "      <td>1</td>\n",
       "      <td>2</td>\n",
       "      <td>1</td>\n",
       "      <td>54.0</td>\n",
       "    </tr>\n",
       "    <tr>\n",
       "      <th>42</th>\n",
       "      <td>3</td>\n",
       "      <td>3.20</td>\n",
       "      <td>2.82</td>\n",
       "      <td>2</td>\n",
       "      <td>1</td>\n",
       "      <td>1</td>\n",
       "      <td>1</td>\n",
       "      <td>2</td>\n",
       "      <td>1</td>\n",
       "      <td>2</td>\n",
       "      <td>1</td>\n",
       "      <td>1</td>\n",
       "      <td>1</td>\n",
       "      <td>2</td>\n",
       "      <td>1</td>\n",
       "      <td>68.0</td>\n",
       "    </tr>\n",
       "    <tr>\n",
       "      <th>...</th>\n",
       "      <td>...</td>\n",
       "      <td>...</td>\n",
       "      <td>...</td>\n",
       "      <td>...</td>\n",
       "      <td>...</td>\n",
       "      <td>...</td>\n",
       "      <td>...</td>\n",
       "      <td>...</td>\n",
       "      <td>...</td>\n",
       "      <td>...</td>\n",
       "      <td>...</td>\n",
       "      <td>...</td>\n",
       "      <td>...</td>\n",
       "      <td>...</td>\n",
       "      <td>...</td>\n",
       "      <td>...</td>\n",
       "    </tr>\n",
       "    <tr>\n",
       "      <th>3</th>\n",
       "      <td>3</td>\n",
       "      <td>3.68</td>\n",
       "      <td>3.04</td>\n",
       "      <td>1</td>\n",
       "      <td>1</td>\n",
       "      <td>1</td>\n",
       "      <td>1</td>\n",
       "      <td>1</td>\n",
       "      <td>1</td>\n",
       "      <td>1</td>\n",
       "      <td>1</td>\n",
       "      <td>1</td>\n",
       "      <td>1</td>\n",
       "      <td>1</td>\n",
       "      <td>1</td>\n",
       "      <td>54.0</td>\n",
       "    </tr>\n",
       "    <tr>\n",
       "      <th>428</th>\n",
       "      <td>3</td>\n",
       "      <td>3.12</td>\n",
       "      <td>2.12</td>\n",
       "      <td>2</td>\n",
       "      <td>1</td>\n",
       "      <td>1</td>\n",
       "      <td>1</td>\n",
       "      <td>2</td>\n",
       "      <td>2</td>\n",
       "      <td>2</td>\n",
       "      <td>1</td>\n",
       "      <td>1</td>\n",
       "      <td>1</td>\n",
       "      <td>2</td>\n",
       "      <td>1</td>\n",
       "      <td>62.0</td>\n",
       "    </tr>\n",
       "    <tr>\n",
       "      <th>215</th>\n",
       "      <td>2</td>\n",
       "      <td>2.66</td>\n",
       "      <td>8.56</td>\n",
       "      <td>2</td>\n",
       "      <td>1</td>\n",
       "      <td>2</td>\n",
       "      <td>1</td>\n",
       "      <td>2</td>\n",
       "      <td>1</td>\n",
       "      <td>2</td>\n",
       "      <td>1</td>\n",
       "      <td>1</td>\n",
       "      <td>1</td>\n",
       "      <td>2</td>\n",
       "      <td>1</td>\n",
       "      <td>61.0</td>\n",
       "    </tr>\n",
       "    <tr>\n",
       "      <th>298</th>\n",
       "      <td>3</td>\n",
       "      <td>4.32</td>\n",
       "      <td>2.72</td>\n",
       "      <td>3</td>\n",
       "      <td>1</td>\n",
       "      <td>2</td>\n",
       "      <td>1</td>\n",
       "      <td>2</td>\n",
       "      <td>2</td>\n",
       "      <td>1</td>\n",
       "      <td>1</td>\n",
       "      <td>1</td>\n",
       "      <td>1</td>\n",
       "      <td>2</td>\n",
       "      <td>1</td>\n",
       "      <td>77.0</td>\n",
       "    </tr>\n",
       "    <tr>\n",
       "      <th>64</th>\n",
       "      <td>2</td>\n",
       "      <td>3.15</td>\n",
       "      <td>2.76</td>\n",
       "      <td>2</td>\n",
       "      <td>1</td>\n",
       "      <td>2</td>\n",
       "      <td>1</td>\n",
       "      <td>2</td>\n",
       "      <td>1</td>\n",
       "      <td>2</td>\n",
       "      <td>1</td>\n",
       "      <td>1</td>\n",
       "      <td>1</td>\n",
       "      <td>2</td>\n",
       "      <td>1</td>\n",
       "      <td>59.0</td>\n",
       "    </tr>\n",
       "  </tbody>\n",
       "</table>\n",
       "<p>141 rows × 16 columns</p>\n",
       "</div>"
      ],
      "text/plain": [
       "    V1    V2    V3 V4 V5 V6 V7 V8 V9 V10 V11 V12 V13 V14 V15   V16\n",
       "22   3  2.36  1.68  1  1  1  1  1  1   2   1   1   1   2   1  62.0\n",
       "134  3  4.84  3.48  2  1  1  1  2  1   2   1   1   1   2   1  56.0\n",
       "2    3  2.76  2.08  2  1  1  1  2  1   1   1   1   1   2   1  59.0\n",
       "95   3  4.56  3.60  2  1  1  1  2  1   1   1   1   1   2   1  54.0\n",
       "42   3  3.20  2.82  2  1  1  1  2  1   2   1   1   1   2   1  68.0\n",
       "..  ..   ...   ... .. .. .. .. .. ..  ..  ..  ..  ..  ..  ..   ...\n",
       "3    3  3.68  3.04  1  1  1  1  1  1   1   1   1   1   1   1  54.0\n",
       "428  3  3.12  2.12  2  1  1  1  2  2   2   1   1   1   2   1  62.0\n",
       "215  2  2.66  8.56  2  1  2  1  2  1   2   1   1   1   2   1  61.0\n",
       "298  3  4.32  2.72  3  1  2  1  2  2   1   1   1   1   2   1  77.0\n",
       "64   2  3.15  2.76  2  1  2  1  2  1   2   1   1   1   2   1  59.0\n",
       "\n",
       "[141 rows x 16 columns]"
      ]
     },
     "execution_count": 18,
     "metadata": {},
     "output_type": "execute_result"
    }
   ],
   "source": [
    "test_data"
   ]
  },
  {
   "cell_type": "code",
   "execution_count": 16,
   "metadata": {
    "ExecuteTime": {
     "end_time": "2021-03-29T23:24:45.529662Z",
     "start_time": "2021-03-29T23:24:45.014585Z"
    }
   },
   "outputs": [
    {
     "name": "stderr",
     "output_type": "stream",
     "text": [
      "/home/rupali/.local/lib/python3.8/site-packages/ipykernel/ipkernel.py:283: DeprecationWarning: `should_run_async` will not call `transform_cell` automatically in the future. Please pass the result to `transformed_cell` argument and any exception that happen during thetransform in `preprocessing_exc_tuple` in IPython 7.17 and above.\n",
      "  and should_run_async(code)\n"
     ]
    },
    {
     "ename": "ValueError",
     "evalue": "X has 16 features, but ColumnTransformer is expecting 17 features as input.",
     "output_type": "error",
     "traceback": [
      "\u001b[0;31m---------------------------------------------------------------------------\u001b[0m",
      "\u001b[0;31mValueError\u001b[0m                                Traceback (most recent call last)",
      "\u001b[0;32m<ipython-input-16-eef19bab6439>\u001b[0m in \u001b[0;36m<module>\u001b[0;34m\u001b[0m\n\u001b[1;32m      1\u001b[0m \u001b[0;31m## precision-recall curves for finding the likelihood thresholds for minimal precision\u001b[0m\u001b[0;34m\u001b[0m\u001b[0;34m\u001b[0m\u001b[0;34m\u001b[0m\u001b[0m\n\u001b[1;32m      2\u001b[0m \u001b[0mpredictors\u001b[0m\u001b[0;34m[\u001b[0m\u001b[0mcol\u001b[0m\u001b[0;34m]\u001b[0m\u001b[0;34m.\u001b[0m\u001b[0mthresholds\u001b[0m \u001b[0;34m=\u001b[0m \u001b[0;34m{\u001b[0m\u001b[0;34m}\u001b[0m\u001b[0;34m\u001b[0m\u001b[0;34m\u001b[0m\u001b[0m\n\u001b[0;32m----> 3\u001b[0;31m \u001b[0mprobas\u001b[0m \u001b[0;34m=\u001b[0m \u001b[0mpredictors\u001b[0m\u001b[0;34m[\u001b[0m\u001b[0mcol\u001b[0m\u001b[0;34m]\u001b[0m\u001b[0;34m.\u001b[0m\u001b[0mpredict_proba\u001b[0m\u001b[0;34m(\u001b[0m\u001b[0mtest_data\u001b[0m\u001b[0;34m)\u001b[0m\u001b[0;34m\u001b[0m\u001b[0;34m\u001b[0m\u001b[0m\n\u001b[0m\u001b[1;32m      4\u001b[0m \u001b[0;34m\u001b[0m\u001b[0m\n\u001b[1;32m      5\u001b[0m \u001b[0;32mfor\u001b[0m \u001b[0mlabel_idx\u001b[0m\u001b[0;34m,\u001b[0m \u001b[0mlabel\u001b[0m \u001b[0;32min\u001b[0m \u001b[0menumerate\u001b[0m\u001b[0;34m(\u001b[0m\u001b[0mpredictors\u001b[0m\u001b[0;34m[\u001b[0m\u001b[0mcol\u001b[0m\u001b[0;34m]\u001b[0m\u001b[0;34m.\u001b[0m\u001b[0mclasses_\u001b[0m\u001b[0;34m)\u001b[0m\u001b[0;34m:\u001b[0m\u001b[0;34m\u001b[0m\u001b[0;34m\u001b[0m\u001b[0m\n",
      "\u001b[0;32m~/.local/lib/python3.8/site-packages/sklearn/utils/metaestimators.py\u001b[0m in \u001b[0;36m<lambda>\u001b[0;34m(*args, **kwargs)\u001b[0m\n\u001b[1;32m    118\u001b[0m \u001b[0;34m\u001b[0m\u001b[0m\n\u001b[1;32m    119\u001b[0m         \u001b[0;31m# lambda, but not partial, allows help() to work with update_wrapper\u001b[0m\u001b[0;34m\u001b[0m\u001b[0;34m\u001b[0m\u001b[0;34m\u001b[0m\u001b[0m\n\u001b[0;32m--> 120\u001b[0;31m         \u001b[0mout\u001b[0m \u001b[0;34m=\u001b[0m \u001b[0;32mlambda\u001b[0m \u001b[0;34m*\u001b[0m\u001b[0margs\u001b[0m\u001b[0;34m,\u001b[0m \u001b[0;34m**\u001b[0m\u001b[0mkwargs\u001b[0m\u001b[0;34m:\u001b[0m \u001b[0mself\u001b[0m\u001b[0;34m.\u001b[0m\u001b[0mfn\u001b[0m\u001b[0;34m(\u001b[0m\u001b[0mobj\u001b[0m\u001b[0;34m,\u001b[0m \u001b[0;34m*\u001b[0m\u001b[0margs\u001b[0m\u001b[0;34m,\u001b[0m \u001b[0;34m**\u001b[0m\u001b[0mkwargs\u001b[0m\u001b[0;34m)\u001b[0m\u001b[0;34m\u001b[0m\u001b[0;34m\u001b[0m\u001b[0m\n\u001b[0m\u001b[1;32m    121\u001b[0m         \u001b[0;31m# update the docstring of the returned function\u001b[0m\u001b[0;34m\u001b[0m\u001b[0;34m\u001b[0m\u001b[0;34m\u001b[0m\u001b[0m\n\u001b[1;32m    122\u001b[0m         \u001b[0mupdate_wrapper\u001b[0m\u001b[0;34m(\u001b[0m\u001b[0mout\u001b[0m\u001b[0;34m,\u001b[0m \u001b[0mself\u001b[0m\u001b[0;34m.\u001b[0m\u001b[0mfn\u001b[0m\u001b[0;34m)\u001b[0m\u001b[0;34m\u001b[0m\u001b[0;34m\u001b[0m\u001b[0m\n",
      "\u001b[0;32m~/.local/lib/python3.8/site-packages/sklearn/model_selection/_search.py\u001b[0m in \u001b[0;36mpredict_proba\u001b[0;34m(self, X)\u001b[0m\n\u001b[1;32m    555\u001b[0m         \"\"\"\n\u001b[1;32m    556\u001b[0m         \u001b[0mself\u001b[0m\u001b[0;34m.\u001b[0m\u001b[0m_check_is_fitted\u001b[0m\u001b[0;34m(\u001b[0m\u001b[0;34m'predict_proba'\u001b[0m\u001b[0;34m)\u001b[0m\u001b[0;34m\u001b[0m\u001b[0;34m\u001b[0m\u001b[0m\n\u001b[0;32m--> 557\u001b[0;31m         \u001b[0;32mreturn\u001b[0m \u001b[0mself\u001b[0m\u001b[0;34m.\u001b[0m\u001b[0mbest_estimator_\u001b[0m\u001b[0;34m.\u001b[0m\u001b[0mpredict_proba\u001b[0m\u001b[0;34m(\u001b[0m\u001b[0mX\u001b[0m\u001b[0;34m)\u001b[0m\u001b[0;34m\u001b[0m\u001b[0;34m\u001b[0m\u001b[0m\n\u001b[0m\u001b[1;32m    558\u001b[0m \u001b[0;34m\u001b[0m\u001b[0m\n\u001b[1;32m    559\u001b[0m     \u001b[0;34m@\u001b[0m\u001b[0mif_delegate_has_method\u001b[0m\u001b[0;34m(\u001b[0m\u001b[0mdelegate\u001b[0m\u001b[0;34m=\u001b[0m\u001b[0;34m(\u001b[0m\u001b[0;34m'best_estimator_'\u001b[0m\u001b[0;34m,\u001b[0m \u001b[0;34m'estimator'\u001b[0m\u001b[0;34m)\u001b[0m\u001b[0;34m)\u001b[0m\u001b[0;34m\u001b[0m\u001b[0;34m\u001b[0m\u001b[0m\n",
      "\u001b[0;32m~/.local/lib/python3.8/site-packages/sklearn/utils/metaestimators.py\u001b[0m in \u001b[0;36m<lambda>\u001b[0;34m(*args, **kwargs)\u001b[0m\n\u001b[1;32m    118\u001b[0m \u001b[0;34m\u001b[0m\u001b[0m\n\u001b[1;32m    119\u001b[0m         \u001b[0;31m# lambda, but not partial, allows help() to work with update_wrapper\u001b[0m\u001b[0;34m\u001b[0m\u001b[0;34m\u001b[0m\u001b[0;34m\u001b[0m\u001b[0m\n\u001b[0;32m--> 120\u001b[0;31m         \u001b[0mout\u001b[0m \u001b[0;34m=\u001b[0m \u001b[0;32mlambda\u001b[0m \u001b[0;34m*\u001b[0m\u001b[0margs\u001b[0m\u001b[0;34m,\u001b[0m \u001b[0;34m**\u001b[0m\u001b[0mkwargs\u001b[0m\u001b[0;34m:\u001b[0m \u001b[0mself\u001b[0m\u001b[0;34m.\u001b[0m\u001b[0mfn\u001b[0m\u001b[0;34m(\u001b[0m\u001b[0mobj\u001b[0m\u001b[0;34m,\u001b[0m \u001b[0;34m*\u001b[0m\u001b[0margs\u001b[0m\u001b[0;34m,\u001b[0m \u001b[0;34m**\u001b[0m\u001b[0mkwargs\u001b[0m\u001b[0;34m)\u001b[0m\u001b[0;34m\u001b[0m\u001b[0;34m\u001b[0m\u001b[0m\n\u001b[0m\u001b[1;32m    121\u001b[0m         \u001b[0;31m# update the docstring of the returned function\u001b[0m\u001b[0;34m\u001b[0m\u001b[0;34m\u001b[0m\u001b[0;34m\u001b[0m\u001b[0m\n\u001b[1;32m    122\u001b[0m         \u001b[0mupdate_wrapper\u001b[0m\u001b[0;34m(\u001b[0m\u001b[0mout\u001b[0m\u001b[0;34m,\u001b[0m \u001b[0mself\u001b[0m\u001b[0;34m.\u001b[0m\u001b[0mfn\u001b[0m\u001b[0;34m)\u001b[0m\u001b[0;34m\u001b[0m\u001b[0;34m\u001b[0m\u001b[0m\n",
      "\u001b[0;32m~/.local/lib/python3.8/site-packages/sklearn/pipeline.py\u001b[0m in \u001b[0;36mpredict_proba\u001b[0;34m(self, X)\u001b[0m\n\u001b[1;32m    472\u001b[0m         \u001b[0mXt\u001b[0m \u001b[0;34m=\u001b[0m \u001b[0mX\u001b[0m\u001b[0;34m\u001b[0m\u001b[0;34m\u001b[0m\u001b[0m\n\u001b[1;32m    473\u001b[0m         \u001b[0;32mfor\u001b[0m \u001b[0m_\u001b[0m\u001b[0;34m,\u001b[0m \u001b[0mname\u001b[0m\u001b[0;34m,\u001b[0m \u001b[0mtransform\u001b[0m \u001b[0;32min\u001b[0m \u001b[0mself\u001b[0m\u001b[0;34m.\u001b[0m\u001b[0m_iter\u001b[0m\u001b[0;34m(\u001b[0m\u001b[0mwith_final\u001b[0m\u001b[0;34m=\u001b[0m\u001b[0;32mFalse\u001b[0m\u001b[0;34m)\u001b[0m\u001b[0;34m:\u001b[0m\u001b[0;34m\u001b[0m\u001b[0;34m\u001b[0m\u001b[0m\n\u001b[0;32m--> 474\u001b[0;31m             \u001b[0mXt\u001b[0m \u001b[0;34m=\u001b[0m \u001b[0mtransform\u001b[0m\u001b[0;34m.\u001b[0m\u001b[0mtransform\u001b[0m\u001b[0;34m(\u001b[0m\u001b[0mXt\u001b[0m\u001b[0;34m)\u001b[0m\u001b[0;34m\u001b[0m\u001b[0;34m\u001b[0m\u001b[0m\n\u001b[0m\u001b[1;32m    475\u001b[0m         \u001b[0;32mreturn\u001b[0m \u001b[0mself\u001b[0m\u001b[0;34m.\u001b[0m\u001b[0msteps\u001b[0m\u001b[0;34m[\u001b[0m\u001b[0;34m-\u001b[0m\u001b[0;36m1\u001b[0m\u001b[0;34m]\u001b[0m\u001b[0;34m[\u001b[0m\u001b[0;34m-\u001b[0m\u001b[0;36m1\u001b[0m\u001b[0;34m]\u001b[0m\u001b[0;34m.\u001b[0m\u001b[0mpredict_proba\u001b[0m\u001b[0;34m(\u001b[0m\u001b[0mXt\u001b[0m\u001b[0;34m)\u001b[0m\u001b[0;34m\u001b[0m\u001b[0;34m\u001b[0m\u001b[0m\n\u001b[1;32m    476\u001b[0m \u001b[0;34m\u001b[0m\u001b[0m\n",
      "\u001b[0;32m~/.local/lib/python3.8/site-packages/sklearn/compose/_column_transformer.py\u001b[0m in \u001b[0;36mtransform\u001b[0;34m(self, X)\u001b[0m\n\u001b[1;32m    555\u001b[0m             \u001b[0mX_feature_names\u001b[0m \u001b[0;34m=\u001b[0m \u001b[0;32mNone\u001b[0m\u001b[0;34m\u001b[0m\u001b[0;34m\u001b[0m\u001b[0m\n\u001b[1;32m    556\u001b[0m \u001b[0;34m\u001b[0m\u001b[0m\n\u001b[0;32m--> 557\u001b[0;31m         \u001b[0mself\u001b[0m\u001b[0;34m.\u001b[0m\u001b[0m_check_n_features\u001b[0m\u001b[0;34m(\u001b[0m\u001b[0mX\u001b[0m\u001b[0;34m,\u001b[0m \u001b[0mreset\u001b[0m\u001b[0;34m=\u001b[0m\u001b[0;32mFalse\u001b[0m\u001b[0;34m)\u001b[0m\u001b[0;34m\u001b[0m\u001b[0;34m\u001b[0m\u001b[0m\n\u001b[0m\u001b[1;32m    558\u001b[0m         if (self._feature_names_in is not None and\n\u001b[1;32m    559\u001b[0m             \u001b[0mX_feature_names\u001b[0m \u001b[0;32mis\u001b[0m \u001b[0;32mnot\u001b[0m \u001b[0;32mNone\u001b[0m \u001b[0;32mand\u001b[0m\u001b[0;34m\u001b[0m\u001b[0;34m\u001b[0m\u001b[0m\n",
      "\u001b[0;32m~/.local/lib/python3.8/site-packages/sklearn/base.py\u001b[0m in \u001b[0;36m_check_n_features\u001b[0;34m(self, X, reset)\u001b[0m\n\u001b[1;32m    363\u001b[0m \u001b[0;34m\u001b[0m\u001b[0m\n\u001b[1;32m    364\u001b[0m         \u001b[0;32mif\u001b[0m \u001b[0mn_features\u001b[0m \u001b[0;34m!=\u001b[0m \u001b[0mself\u001b[0m\u001b[0;34m.\u001b[0m\u001b[0mn_features_in_\u001b[0m\u001b[0;34m:\u001b[0m\u001b[0;34m\u001b[0m\u001b[0;34m\u001b[0m\u001b[0m\n\u001b[0;32m--> 365\u001b[0;31m             raise ValueError(\n\u001b[0m\u001b[1;32m    366\u001b[0m                 \u001b[0;34mf\"X has {n_features} features, but {self.__class__.__name__} \"\u001b[0m\u001b[0;34m\u001b[0m\u001b[0;34m\u001b[0m\u001b[0m\n\u001b[1;32m    367\u001b[0m                 f\"is expecting {self.n_features_in_} features as input.\")\n",
      "\u001b[0;31mValueError\u001b[0m: X has 16 features, but ColumnTransformer is expecting 17 features as input."
     ]
    }
   ],
   "source": [
    "## precision-recall curves for finding the likelihood thresholds for minimal precision\n",
    "predictors[col].thresholds = {}\n",
    "probas = predictors[col].predict_proba(test_data)\n",
    "\n",
    "for label_idx, label in enumerate(predictors[col].classes_):\n",
    "    prec, rec, threshold = precision_recall_curve(test_data[col]==label, probas[:,label_idx], pos_label=True)\n",
    "    prec = prec.tolist(); rec = rec.tolist(); threshold = threshold.tolist()\n",
    "    threshold_for_min_prec = np.array([elem >= categorical_precision_threshold for elem in prec]).nonzero()[0][0] - 1\n",
    "    predictors[col].thresholds[label] = threshold_for_min_prec"
   ]
  },
  {
   "cell_type": "code",
   "execution_count": 17,
   "metadata": {
    "ExecuteTime": {
     "end_time": "2021-03-27T22:45:49.594983Z",
     "start_time": "2021-03-27T22:45:49.574954Z"
    }
   },
   "outputs": [
    {
     "name": "stderr",
     "output_type": "stream",
     "text": [
      "/home/rupali/.local/lib/python3.8/site-packages/ipykernel/ipkernel.py:283: DeprecationWarning: `should_run_async` will not call `transform_cell` automatically in the future. Please pass the result to `transformed_cell` argument and any exception that happen during thetransform in `preprocessing_exc_tuple` in IPython 7.17 and above.\n",
      "  and should_run_async(code)\n"
     ]
    }
   ],
   "source": [
    "##############################"
   ]
  },
  {
   "cell_type": "code",
   "execution_count": 51,
   "metadata": {
    "ExecuteTime": {
     "end_time": "2021-03-27T22:57:34.270014Z",
     "start_time": "2021-03-27T22:57:34.263112Z"
    },
    "scrolled": true
   },
   "outputs": [
    {
     "name": "stderr",
     "output_type": "stream",
     "text": [
      "/home/rupali/.local/lib/python3.8/site-packages/ipykernel/ipkernel.py:283: DeprecationWarning: `should_run_async` will not call `transform_cell` automatically in the future. Please pass the result to `transformed_cell` argument and any exception that happen during thetransform in `preprocessing_exc_tuple` in IPython 7.17 and above.\n",
      "  and should_run_async(code)\n"
     ]
    },
    {
     "data": {
      "text/plain": [
       "[0.03012201661014794,\n",
       " 0.03050123498776688,\n",
       " 0.03158356066656846,\n",
       " 0.031709162347652906,\n",
       " 0.03210770047538078,\n",
       " 0.033849608590779554,\n",
       " 0.0356259486438884,\n",
       " 0.03633772606087792,\n",
       " 0.03823946823752761,\n",
       " 0.04076569144894624,\n",
       " 0.04292713185877126,\n",
       " 0.04527985187419503,\n",
       " 0.04955516247940076,\n",
       " 0.05016664736014147,\n",
       " 0.051514178704560855,\n",
       " 0.053510230793460525,\n",
       " 0.05703361522060735,\n",
       " 0.06073320794387913,\n",
       " 0.06158133634222757,\n",
       " 0.06327249391345484,\n",
       " 0.06843614549737498,\n",
       " 0.069921596411387,\n",
       " 0.07614065602044606,\n",
       " 0.07759958999829031,\n",
       " 0.07961783870537059,\n",
       " 0.08251649411468776,\n",
       " 0.09333101998710487,\n",
       " 0.09934027766552114,\n",
       " 0.1009942342553614,\n",
       " 0.13300991291919195,\n",
       " 0.17415787192476936,\n",
       " 0.19452130019967168,\n",
       " 0.19508875784534918,\n",
       " 0.2514445943694819,\n",
       " 0.33511692579128577,\n",
       " 0.3552663731858969,\n",
       " 0.35689031640496754]"
      ]
     },
     "execution_count": 51,
     "metadata": {},
     "output_type": "execute_result"
    }
   ],
   "source": [
    "threshold"
   ]
  },
  {
   "cell_type": "code",
   "execution_count": 52,
   "metadata": {
    "ExecuteTime": {
     "end_time": "2021-03-27T22:57:39.976373Z",
     "start_time": "2021-03-27T22:57:39.971989Z"
    }
   },
   "outputs": [
    {
     "data": {
      "text/plain": [
       "36"
      ]
     },
     "execution_count": 52,
     "metadata": {},
     "output_type": "execute_result"
    }
   ],
   "source": [
    "np.array([elem >= categorical_precision_threshold for elem in prec]).nonzero()[0][0] - 1"
   ]
  },
  {
   "cell_type": "code",
   "execution_count": 53,
   "metadata": {
    "ExecuteTime": {
     "end_time": "2021-03-27T22:57:46.091587Z",
     "start_time": "2021-03-27T22:57:46.087709Z"
    }
   },
   "outputs": [
    {
     "data": {
      "text/plain": [
       "0.35689031640496754"
      ]
     },
     "execution_count": 53,
     "metadata": {},
     "output_type": "execute_result"
    }
   ],
   "source": [
    "threshold[36]"
   ]
  },
  {
   "cell_type": "code",
   "execution_count": 54,
   "metadata": {
    "ExecuteTime": {
     "end_time": "2021-03-27T22:57:46.837597Z",
     "start_time": "2021-03-27T22:57:46.832892Z"
    }
   },
   "outputs": [
    {
     "data": {
      "text/plain": [
       "37"
      ]
     },
     "execution_count": 54,
     "metadata": {},
     "output_type": "execute_result"
    }
   ],
   "source": [
    "len(threshold)"
   ]
  },
  {
   "cell_type": "code",
   "execution_count": null,
   "metadata": {
    "ExecuteTime": {
     "end_time": "2021-03-27T22:45:49.986502Z",
     "start_time": "2021-03-27T22:45:48.855Z"
    }
   },
   "outputs": [],
   "source": [
    "##############################"
   ]
  },
  {
   "cell_type": "code",
   "execution_count": 55,
   "metadata": {
    "ExecuteTime": {
     "end_time": "2021-03-27T22:57:48.715744Z",
     "start_time": "2021-03-27T22:57:48.710586Z"
    }
   },
   "outputs": [
    {
     "data": {
      "text/plain": [
       "{'1': -1, '2': 36}"
      ]
     },
     "execution_count": 55,
     "metadata": {},
     "output_type": "execute_result"
    }
   ],
   "source": [
    "predictors[col].thresholds"
   ]
  },
  {
   "cell_type": "code",
   "execution_count": null,
   "metadata": {},
   "outputs": [],
   "source": []
  },
  {
   "cell_type": "code",
   "execution_count": 24,
   "metadata": {
    "ExecuteTime": {
     "end_time": "2021-03-27T22:46:17.867515Z",
     "start_time": "2021-03-27T22:46:17.854271Z"
    }
   },
   "outputs": [],
   "source": [
    "## outlier detection"
   ]
  },
  {
   "cell_type": "code",
   "execution_count": 56,
   "metadata": {
    "ExecuteTime": {
     "end_time": "2021-03-27T22:58:58.604881Z",
     "start_time": "2021-03-27T22:58:58.553880Z"
    }
   },
   "outputs": [
    {
     "name": "stderr",
     "output_type": "stream",
     "text": [
      "/home/rupali/.local/lib/python3.8/site-packages/ipykernel/ipkernel.py:283: DeprecationWarning: `should_run_async` will not call `transform_cell` automatically in the future. Please pass the result to `transformed_cell` argument and any exception that happen during thetransform in `preprocessing_exc_tuple` in IPython 7.17 and above.\n",
      "  and should_run_async(code)\n"
     ]
    }
   ],
   "source": [
    "y_pred = predictors[col].predict(df_corrupted)\n",
    "y_proba = predictors[col].predict_proba(df_corrupted)\n",
    "\n",
    "for label_idx, label in enumerate(predictors[col].classes_):\n",
    "    precision_pred = predictors[col].thresholds[label] <= y_proba[:,label_idx]\n",
    "    outliers = precision_pred & (df_corrupted[col] != y_pred)"
   ]
  },
  {
   "cell_type": "code",
   "execution_count": 57,
   "metadata": {
    "ExecuteTime": {
     "end_time": "2021-03-27T22:59:00.317712Z",
     "start_time": "2021-03-27T22:59:00.307564Z"
    }
   },
   "outputs": [
    {
     "name": "stderr",
     "output_type": "stream",
     "text": [
      "/home/rupali/.local/lib/python3.8/site-packages/ipykernel/ipkernel.py:283: DeprecationWarning: `should_run_async` will not call `transform_cell` automatically in the future. Please pass the result to `transformed_cell` argument and any exception that happen during thetransform in `preprocessing_exc_tuple` in IPython 7.17 and above.\n",
      "  and should_run_async(code)\n"
     ]
    },
    {
     "data": {
      "text/plain": [
       "399    False\n",
       "120    False\n",
       "114    False\n",
       "170    False\n",
       "163    False\n",
       "       ...  \n",
       "270    False\n",
       "257    False\n",
       "339    False\n",
       "421    False\n",
       "71     False\n",
       "Name: V11, Length: 141, dtype: bool"
      ]
     },
     "execution_count": 57,
     "metadata": {},
     "output_type": "execute_result"
    }
   ],
   "source": [
    "outliers"
   ]
  },
  {
   "cell_type": "code",
   "execution_count": 58,
   "metadata": {
    "ExecuteTime": {
     "end_time": "2021-03-27T22:59:13.722015Z",
     "start_time": "2021-03-27T22:59:13.709016Z"
    }
   },
   "outputs": [],
   "source": [
    "## find indices of records with NaNs in col in df_corrupted\n",
    "nan_idx = df_corrupted[df_corrupted[col].isnull()].index\n",
    "non_nan_idx = df_corrupted.loc[set(df_corrupted.index) - set(nan_idx)].index\n",
    "        \n",
    "## add a respective outlier col for each col\n",
    "df_outliers[col + \"_outlier\"] = ''\n",
    "df_outliers.loc[non_nan_idx, col + \"_outlier\"] = outliers.astype('int') ## 0: inlier, 1: outlier\n",
    "df_outliers.loc[nan_idx, col + \"_outlier\"] = 1"
   ]
  },
  {
   "cell_type": "code",
   "execution_count": 59,
   "metadata": {
    "ExecuteTime": {
     "end_time": "2021-03-27T22:59:15.009495Z",
     "start_time": "2021-03-27T22:59:14.947239Z"
    }
   },
   "outputs": [
    {
     "data": {
      "text/html": [
       "<div>\n",
       "<style scoped>\n",
       "    .dataframe tbody tr th:only-of-type {\n",
       "        vertical-align: middle;\n",
       "    }\n",
       "\n",
       "    .dataframe tbody tr th {\n",
       "        vertical-align: top;\n",
       "    }\n",
       "\n",
       "    .dataframe thead th {\n",
       "        text-align: right;\n",
       "    }\n",
       "</style>\n",
       "<table border=\"1\" class=\"dataframe\">\n",
       "  <thead>\n",
       "    <tr style=\"text-align: right;\">\n",
       "      <th></th>\n",
       "      <th>V1</th>\n",
       "      <th>V2</th>\n",
       "      <th>V3</th>\n",
       "      <th>V4</th>\n",
       "      <th>V5</th>\n",
       "      <th>V6</th>\n",
       "      <th>V7</th>\n",
       "      <th>V8</th>\n",
       "      <th>V9</th>\n",
       "      <th>V10</th>\n",
       "      <th>V11</th>\n",
       "      <th>V12</th>\n",
       "      <th>V13</th>\n",
       "      <th>V14</th>\n",
       "      <th>V15</th>\n",
       "      <th>V16</th>\n",
       "      <th>V11_outlier</th>\n",
       "    </tr>\n",
       "  </thead>\n",
       "  <tbody>\n",
       "    <tr>\n",
       "      <th>399</th>\n",
       "      <td>3</td>\n",
       "      <td>2.861579</td>\n",
       "      <td>1.90</td>\n",
       "      <td>2</td>\n",
       "      <td>1</td>\n",
       "      <td>1</td>\n",
       "      <td>1</td>\n",
       "      <td>2</td>\n",
       "      <td>1</td>\n",
       "      <td>NaN</td>\n",
       "      <td>1</td>\n",
       "      <td>1</td>\n",
       "      <td>1</td>\n",
       "      <td>2</td>\n",
       "      <td>1</td>\n",
       "      <td>65.0</td>\n",
       "      <td>0</td>\n",
       "    </tr>\n",
       "    <tr>\n",
       "      <th>120</th>\n",
       "      <td>2</td>\n",
       "      <td>3.840000</td>\n",
       "      <td>2.56</td>\n",
       "      <td>2</td>\n",
       "      <td>1</td>\n",
       "      <td>1</td>\n",
       "      <td>1</td>\n",
       "      <td>2</td>\n",
       "      <td>1</td>\n",
       "      <td>NaN</td>\n",
       "      <td>2</td>\n",
       "      <td>1</td>\n",
       "      <td>1</td>\n",
       "      <td>1</td>\n",
       "      <td>1</td>\n",
       "      <td>59000.0</td>\n",
       "      <td>0</td>\n",
       "    </tr>\n",
       "    <tr>\n",
       "      <th>114</th>\n",
       "      <td>3</td>\n",
       "      <td>4.520000</td>\n",
       "      <td>3.32</td>\n",
       "      <td>1</td>\n",
       "      <td>1</td>\n",
       "      <td>1</td>\n",
       "      <td>1</td>\n",
       "      <td>2</td>\n",
       "      <td>1</td>\n",
       "      <td>2</td>\n",
       "      <td>2</td>\n",
       "      <td>1</td>\n",
       "      <td>1</td>\n",
       "      <td>2</td>\n",
       "      <td>1</td>\n",
       "      <td>58000.0</td>\n",
       "      <td>0</td>\n",
       "    </tr>\n",
       "    <tr>\n",
       "      <th>170</th>\n",
       "      <td>3</td>\n",
       "      <td>4.040000</td>\n",
       "      <td>1.88</td>\n",
       "      <td>2</td>\n",
       "      <td>1</td>\n",
       "      <td>1</td>\n",
       "      <td>1</td>\n",
       "      <td>2</td>\n",
       "      <td>1</td>\n",
       "      <td>2</td>\n",
       "      <td>1</td>\n",
       "      <td>1</td>\n",
       "      <td>1</td>\n",
       "      <td>2</td>\n",
       "      <td>1</td>\n",
       "      <td>66000.0</td>\n",
       "      <td>0</td>\n",
       "    </tr>\n",
       "    <tr>\n",
       "      <th>163</th>\n",
       "      <td>2</td>\n",
       "      <td>1.420914</td>\n",
       "      <td>1.96</td>\n",
       "      <td>2</td>\n",
       "      <td>1</td>\n",
       "      <td>1</td>\n",
       "      <td>1</td>\n",
       "      <td>2</td>\n",
       "      <td>1</td>\n",
       "      <td>2</td>\n",
       "      <td>2</td>\n",
       "      <td>1</td>\n",
       "      <td>1</td>\n",
       "      <td>1</td>\n",
       "      <td>1</td>\n",
       "      <td>73.0</td>\n",
       "      <td>0</td>\n",
       "    </tr>\n",
       "    <tr>\n",
       "      <th>...</th>\n",
       "      <td>...</td>\n",
       "      <td>...</td>\n",
       "      <td>...</td>\n",
       "      <td>...</td>\n",
       "      <td>...</td>\n",
       "      <td>...</td>\n",
       "      <td>...</td>\n",
       "      <td>...</td>\n",
       "      <td>...</td>\n",
       "      <td>...</td>\n",
       "      <td>...</td>\n",
       "      <td>...</td>\n",
       "      <td>...</td>\n",
       "      <td>...</td>\n",
       "      <td>...</td>\n",
       "      <td>...</td>\n",
       "      <td>...</td>\n",
       "    </tr>\n",
       "    <tr>\n",
       "      <th>270</th>\n",
       "      <td>3</td>\n",
       "      <td>4.670157</td>\n",
       "      <td>1.72</td>\n",
       "      <td>2</td>\n",
       "      <td>1</td>\n",
       "      <td>1</td>\n",
       "      <td>1</td>\n",
       "      <td>2</td>\n",
       "      <td>2</td>\n",
       "      <td>NaN</td>\n",
       "      <td>1</td>\n",
       "      <td>1</td>\n",
       "      <td>1</td>\n",
       "      <td>2</td>\n",
       "      <td>1</td>\n",
       "      <td>71000.0</td>\n",
       "      <td>0</td>\n",
       "    </tr>\n",
       "    <tr>\n",
       "      <th>257</th>\n",
       "      <td>3</td>\n",
       "      <td>3.588486</td>\n",
       "      <td>2.32</td>\n",
       "      <td>1</td>\n",
       "      <td>1</td>\n",
       "      <td>1</td>\n",
       "      <td>1</td>\n",
       "      <td>1</td>\n",
       "      <td>1</td>\n",
       "      <td>NaN</td>\n",
       "      <td>1</td>\n",
       "      <td>1</td>\n",
       "      <td>1</td>\n",
       "      <td>2</td>\n",
       "      <td>1</td>\n",
       "      <td>54.0</td>\n",
       "      <td>0</td>\n",
       "    </tr>\n",
       "    <tr>\n",
       "      <th>339</th>\n",
       "      <td>3</td>\n",
       "      <td>2.909306</td>\n",
       "      <td>2.00</td>\n",
       "      <td>2</td>\n",
       "      <td>1</td>\n",
       "      <td>1</td>\n",
       "      <td>1</td>\n",
       "      <td>2</td>\n",
       "      <td>1</td>\n",
       "      <td>NaN</td>\n",
       "      <td>1</td>\n",
       "      <td>1</td>\n",
       "      <td>1</td>\n",
       "      <td>2</td>\n",
       "      <td>1</td>\n",
       "      <td>59000.0</td>\n",
       "      <td>0</td>\n",
       "    </tr>\n",
       "    <tr>\n",
       "      <th>421</th>\n",
       "      <td>2</td>\n",
       "      <td>3.760000</td>\n",
       "      <td>2.96</td>\n",
       "      <td>2</td>\n",
       "      <td>1</td>\n",
       "      <td>1</td>\n",
       "      <td>1</td>\n",
       "      <td>2</td>\n",
       "      <td>1</td>\n",
       "      <td>4</td>\n",
       "      <td>2</td>\n",
       "      <td>1</td>\n",
       "      <td>1</td>\n",
       "      <td>1</td>\n",
       "      <td>1</td>\n",
       "      <td>64000.0</td>\n",
       "      <td>0</td>\n",
       "    </tr>\n",
       "    <tr>\n",
       "      <th>71</th>\n",
       "      <td>3</td>\n",
       "      <td>3.600000</td>\n",
       "      <td>2.60</td>\n",
       "      <td>2</td>\n",
       "      <td>1</td>\n",
       "      <td>1</td>\n",
       "      <td>1</td>\n",
       "      <td>2</td>\n",
       "      <td>1</td>\n",
       "      <td>2</td>\n",
       "      <td>2</td>\n",
       "      <td>1</td>\n",
       "      <td>1</td>\n",
       "      <td>2</td>\n",
       "      <td>1</td>\n",
       "      <td>71.0</td>\n",
       "      <td>0</td>\n",
       "    </tr>\n",
       "  </tbody>\n",
       "</table>\n",
       "<p>141 rows × 17 columns</p>\n",
       "</div>"
      ],
      "text/plain": [
       "    V1        V2    V3 V4 V5 V6 V7 V8 V9  V10 V11 V12 V13 V14 V15      V16  \\\n",
       "399  3  2.861579  1.90  2  1  1  1  2  1  NaN   1   1   1   2   1     65.0   \n",
       "120  2  3.840000  2.56  2  1  1  1  2  1  NaN   2   1   1   1   1  59000.0   \n",
       "114  3  4.520000  3.32  1  1  1  1  2  1    2   2   1   1   2   1  58000.0   \n",
       "170  3  4.040000  1.88  2  1  1  1  2  1    2   1   1   1   2   1  66000.0   \n",
       "163  2  1.420914  1.96  2  1  1  1  2  1    2   2   1   1   1   1     73.0   \n",
       "..  ..       ...   ... .. .. .. .. .. ..  ...  ..  ..  ..  ..  ..      ...   \n",
       "270  3  4.670157  1.72  2  1  1  1  2  2  NaN   1   1   1   2   1  71000.0   \n",
       "257  3  3.588486  2.32  1  1  1  1  1  1  NaN   1   1   1   2   1     54.0   \n",
       "339  3  2.909306  2.00  2  1  1  1  2  1  NaN   1   1   1   2   1  59000.0   \n",
       "421  2  3.760000  2.96  2  1  1  1  2  1    4   2   1   1   1   1  64000.0   \n",
       "71   3  3.600000  2.60  2  1  1  1  2  1    2   2   1   1   2   1     71.0   \n",
       "\n",
       "     V11_outlier  \n",
       "399            0  \n",
       "120            0  \n",
       "114            0  \n",
       "170            0  \n",
       "163            0  \n",
       "..           ...  \n",
       "270            0  \n",
       "257            0  \n",
       "339            0  \n",
       "421            0  \n",
       "71             0  \n",
       "\n",
       "[141 rows x 17 columns]"
      ]
     },
     "execution_count": 59,
     "metadata": {},
     "output_type": "execute_result"
    }
   ],
   "source": [
    "df_outliers"
   ]
  },
  {
   "cell_type": "code",
   "execution_count": 60,
   "metadata": {
    "ExecuteTime": {
     "end_time": "2021-03-27T23:05:57.143031Z",
     "start_time": "2021-03-27T23:05:57.134679Z"
    }
   },
   "outputs": [
    {
     "name": "stderr",
     "output_type": "stream",
     "text": [
      "/home/rupali/.local/lib/python3.8/site-packages/ipykernel/ipkernel.py:283: DeprecationWarning: `should_run_async` will not call `transform_cell` automatically in the future. Please pass the result to `transformed_cell` argument and any exception that happen during thetransform in `preprocessing_exc_tuple` in IPython 7.17 and above.\n",
      "  and should_run_async(code)\n"
     ]
    }
   ],
   "source": [
    "for i in df_outliers.index:\n",
    "    if df_outliers.loc[i, col + \"_outlier\"] == 1:\n",
    "        df_outliers.loc[i, col] = np.nan"
   ]
  },
  {
   "cell_type": "code",
   "execution_count": 61,
   "metadata": {
    "ExecuteTime": {
     "end_time": "2021-03-27T23:05:58.944001Z",
     "start_time": "2021-03-27T23:05:58.937715Z"
    }
   },
   "outputs": [
    {
     "name": "stdout",
     "output_type": "stream",
     "text": [
      "Column V11 contained 0 nans before, now 0\n"
     ]
    }
   ],
   "source": [
    "print(f'Column {col} contained {len(nan_idx)} nans before, now {df_outliers[col].isnull().sum()}')"
   ]
  },
  {
   "cell_type": "code",
   "execution_count": null,
   "metadata": {},
   "outputs": [],
   "source": [
    "## imputation"
   ]
  },
  {
   "cell_type": "code",
   "execution_count": 226,
   "metadata": {
    "ExecuteTime": {
     "end_time": "2021-03-26T00:04:05.309301Z",
     "start_time": "2021-03-26T00:04:05.302405Z"
    }
   },
   "outputs": [
    {
     "name": "stdout",
     "output_type": "stream",
     "text": [
      "Imputed 0 values in column V8\n"
     ]
    },
    {
     "name": "stderr",
     "output_type": "stream",
     "text": [
      "/home/rupali/.local/lib/python3.8/site-packages/ipykernel/ipkernel.py:283: DeprecationWarning: `should_run_async` will not call `transform_cell` automatically in the future. Please pass the result to `transformed_cell` argument and any exception that happen during thetransform in `preprocessing_exc_tuple` in IPython 7.17 and above.\n",
      "  and should_run_async(code)\n"
     ]
    }
   ],
   "source": [
    "prior_missing = df_outliers[col].isnull().sum()\n",
    "\n",
    "if prior_missing > 0:\n",
    "    df_outliers.loc[df_outliers[col].isnull(), col] = predictors[col].predict(df_outliers[df_outliers[col].isnull()])\n",
    "    \n",
    "print(f'Imputed {prior_missing} values in column {col}')"
   ]
  },
  {
   "cell_type": "code",
   "execution_count": null,
   "metadata": {},
   "outputs": [],
   "source": []
  },
  {
   "cell_type": "code",
   "execution_count": null,
   "metadata": {},
   "outputs": [],
   "source": []
  },
  {
   "cell_type": "code",
   "execution_count": null,
   "metadata": {},
   "outputs": [],
   "source": []
  },
  {
   "cell_type": "markdown",
   "metadata": {},
   "source": [
    "#### Numeric"
   ]
  },
  {
   "cell_type": "code",
   "execution_count": 62,
   "metadata": {
    "ExecuteTime": {
     "end_time": "2021-03-27T23:10:18.371665Z",
     "start_time": "2021-03-27T23:10:18.368149Z"
    }
   },
   "outputs": [],
   "source": [
    "col = \"V16\""
   ]
  },
  {
   "cell_type": "code",
   "execution_count": 63,
   "metadata": {
    "ExecuteTime": {
     "end_time": "2021-03-27T23:10:19.254922Z",
     "start_time": "2021-03-27T23:10:19.249793Z"
    }
   },
   "outputs": [],
   "source": [
    "feature_transform = ColumnTransformer(transformers=[\n",
    "    ('categorical_features', categorical_preprocessing, categorical_columns),\n",
    "    ('numeric_features', numeric_preprocessing, list(set(numerical_columns) - {col}))\n",
    "])"
   ]
  },
  {
   "cell_type": "code",
   "execution_count": 64,
   "metadata": {
    "ExecuteTime": {
     "end_time": "2021-03-27T23:10:19.966871Z",
     "start_time": "2021-03-27T23:10:19.962664Z"
    }
   },
   "outputs": [],
   "source": [
    "param_grid = {\n",
    "    'learner__n_estimators': [10, 50, 100],\n",
    "}"
   ]
  },
  {
   "cell_type": "code",
   "execution_count": 65,
   "metadata": {
    "ExecuteTime": {
     "end_time": "2021-03-27T23:10:45.561911Z",
     "start_time": "2021-03-27T23:10:41.834556Z"
    }
   },
   "outputs": [
    {
     "name": "stdout",
     "output_type": "stream",
     "text": [
      "Regressor for col: V16/lower reached -0.8029324297508953\n",
      "Regressor for col: V16/median reached 0.0352035499816713\n",
      "Regressor for col: V16/upper reached -1.0026775445793135\n"
     ]
    }
   ],
   "source": [
    "predictors[col] = {}\n",
    "\n",
    "for perc_name, percentile, in zip(['lower', 'median', 'upper'], [1.0 - numeric_error_percentile, 0.5, numeric_error_percentile]):\n",
    "    pipeline = Pipeline([\n",
    "        ('features', feature_transform),\n",
    "        ('learner', GradientBoostingRegressor(loss='quantile', alpha=percentile))\n",
    "    ])\n",
    "    \n",
    "    search = GridSearchCV(pipeline, param_grid, cv=2, verbose=0, n_jobs=-1)\n",
    "    predictors[col][perc_name] = search.fit(train_data, train_data[col])\n",
    "    print(f'Regressor for col: {col}/{perc_name} reached {search.best_score_}')"
   ]
  },
  {
   "cell_type": "code",
   "execution_count": null,
   "metadata": {},
   "outputs": [],
   "source": []
  },
  {
   "cell_type": "code",
   "execution_count": 35,
   "metadata": {
    "ExecuteTime": {
     "end_time": "2021-03-27T22:46:40.312241Z",
     "start_time": "2021-03-27T22:46:40.307973Z"
    }
   },
   "outputs": [
    {
     "name": "stderr",
     "output_type": "stream",
     "text": [
      "/home/rupali/.local/lib/python3.8/site-packages/ipykernel/ipkernel.py:283: DeprecationWarning: `should_run_async` will not call `transform_cell` automatically in the future. Please pass the result to `transformed_cell` argument and any exception that happen during thetransform in `preprocessing_exc_tuple` in IPython 7.17 and above.\n",
      "  and should_run_async(code)\n"
     ]
    }
   ],
   "source": [
    "## outlier detection"
   ]
  },
  {
   "cell_type": "code",
   "execution_count": 66,
   "metadata": {
    "ExecuteTime": {
     "end_time": "2021-03-27T23:11:52.696570Z",
     "start_time": "2021-03-27T23:11:52.660136Z"
    }
   },
   "outputs": [
    {
     "name": "stderr",
     "output_type": "stream",
     "text": [
      "/home/rupali/.local/lib/python3.8/site-packages/ipykernel/ipkernel.py:283: DeprecationWarning: `should_run_async` will not call `transform_cell` automatically in the future. Please pass the result to `transformed_cell` argument and any exception that happen during thetransform in `preprocessing_exc_tuple` in IPython 7.17 and above.\n",
      "  and should_run_async(code)\n"
     ]
    }
   ],
   "source": [
    "lower_percentile = predictors[col]['lower'].predict(df_corrupted)\n",
    "upper_percentile = predictors[col]['upper'].predict(df_corrupted)\n",
    "\n",
    "outliers = (df_corrupted[col] < lower_percentile) | (df_corrupted[col] > upper_percentile)"
   ]
  },
  {
   "cell_type": "code",
   "execution_count": 67,
   "metadata": {
    "ExecuteTime": {
     "end_time": "2021-03-27T23:11:54.767122Z",
     "start_time": "2021-03-27T23:11:54.759498Z"
    }
   },
   "outputs": [
    {
     "name": "stderr",
     "output_type": "stream",
     "text": [
      "/home/rupali/.local/lib/python3.8/site-packages/ipykernel/ipkernel.py:283: DeprecationWarning: `should_run_async` will not call `transform_cell` automatically in the future. Please pass the result to `transformed_cell` argument and any exception that happen during thetransform in `preprocessing_exc_tuple` in IPython 7.17 and above.\n",
      "  and should_run_async(code)\n"
     ]
    },
    {
     "data": {
      "text/plain": [
       "399    False\n",
       "120     True\n",
       "114     True\n",
       "170     True\n",
       "163    False\n",
       "       ...  \n",
       "270     True\n",
       "257    False\n",
       "339     True\n",
       "421     True\n",
       "71     False\n",
       "Name: V16, Length: 141, dtype: bool"
      ]
     },
     "execution_count": 67,
     "metadata": {},
     "output_type": "execute_result"
    }
   ],
   "source": [
    "outliers"
   ]
  },
  {
   "cell_type": "code",
   "execution_count": 234,
   "metadata": {
    "ExecuteTime": {
     "end_time": "2021-03-26T00:04:28.005225Z",
     "start_time": "2021-03-26T00:04:27.988856Z"
    }
   },
   "outputs": [],
   "source": [
    "num_nans = df_outliers[col].isnull().sum()\n",
    "df_outliers.loc[outliers, col] = np.nan"
   ]
  },
  {
   "cell_type": "code",
   "execution_count": 68,
   "metadata": {
    "ExecuteTime": {
     "end_time": "2021-03-27T23:12:05.678947Z",
     "start_time": "2021-03-27T23:12:05.668918Z"
    }
   },
   "outputs": [],
   "source": [
    "## find indices of records with NaNs in col in df_corrupted\n",
    "nan_idx = df_corrupted[df_corrupted[col].isnull()].index\n",
    "non_nan_idx = df_corrupted.loc[set(df_corrupted.index) - set(nan_idx)].index\n",
    "        \n",
    "## add a respective outlier col for each col\n",
    "df_outliers[col + \"_outlier\"] = ''\n",
    "df_outliers.loc[non_nan_idx, col + \"_outlier\"] = outliers.astype('int') ## 0: inlier, 1: outlier\n",
    "df_outliers.loc[nan_idx, col + \"_outlier\"] = 1"
   ]
  },
  {
   "cell_type": "code",
   "execution_count": 69,
   "metadata": {
    "ExecuteTime": {
     "end_time": "2021-03-27T23:12:07.051610Z",
     "start_time": "2021-03-27T23:12:06.972394Z"
    }
   },
   "outputs": [
    {
     "data": {
      "text/html": [
       "<div>\n",
       "<style scoped>\n",
       "    .dataframe tbody tr th:only-of-type {\n",
       "        vertical-align: middle;\n",
       "    }\n",
       "\n",
       "    .dataframe tbody tr th {\n",
       "        vertical-align: top;\n",
       "    }\n",
       "\n",
       "    .dataframe thead th {\n",
       "        text-align: right;\n",
       "    }\n",
       "</style>\n",
       "<table border=\"1\" class=\"dataframe\">\n",
       "  <thead>\n",
       "    <tr style=\"text-align: right;\">\n",
       "      <th></th>\n",
       "      <th>V1</th>\n",
       "      <th>V2</th>\n",
       "      <th>V3</th>\n",
       "      <th>V4</th>\n",
       "      <th>V5</th>\n",
       "      <th>V6</th>\n",
       "      <th>V7</th>\n",
       "      <th>V8</th>\n",
       "      <th>V9</th>\n",
       "      <th>V10</th>\n",
       "      <th>V11</th>\n",
       "      <th>V12</th>\n",
       "      <th>V13</th>\n",
       "      <th>V14</th>\n",
       "      <th>V15</th>\n",
       "      <th>V16</th>\n",
       "      <th>V11_outlier</th>\n",
       "      <th>V16_outlier</th>\n",
       "    </tr>\n",
       "  </thead>\n",
       "  <tbody>\n",
       "    <tr>\n",
       "      <th>399</th>\n",
       "      <td>3</td>\n",
       "      <td>2.861579</td>\n",
       "      <td>1.90</td>\n",
       "      <td>2</td>\n",
       "      <td>1</td>\n",
       "      <td>1</td>\n",
       "      <td>1</td>\n",
       "      <td>2</td>\n",
       "      <td>1</td>\n",
       "      <td>NaN</td>\n",
       "      <td>1</td>\n",
       "      <td>1</td>\n",
       "      <td>1</td>\n",
       "      <td>2</td>\n",
       "      <td>1</td>\n",
       "      <td>65.0</td>\n",
       "      <td>0</td>\n",
       "      <td>0</td>\n",
       "    </tr>\n",
       "    <tr>\n",
       "      <th>120</th>\n",
       "      <td>2</td>\n",
       "      <td>3.840000</td>\n",
       "      <td>2.56</td>\n",
       "      <td>2</td>\n",
       "      <td>1</td>\n",
       "      <td>1</td>\n",
       "      <td>1</td>\n",
       "      <td>2</td>\n",
       "      <td>1</td>\n",
       "      <td>NaN</td>\n",
       "      <td>2</td>\n",
       "      <td>1</td>\n",
       "      <td>1</td>\n",
       "      <td>1</td>\n",
       "      <td>1</td>\n",
       "      <td>59000.0</td>\n",
       "      <td>0</td>\n",
       "      <td>1</td>\n",
       "    </tr>\n",
       "    <tr>\n",
       "      <th>114</th>\n",
       "      <td>3</td>\n",
       "      <td>4.520000</td>\n",
       "      <td>3.32</td>\n",
       "      <td>1</td>\n",
       "      <td>1</td>\n",
       "      <td>1</td>\n",
       "      <td>1</td>\n",
       "      <td>2</td>\n",
       "      <td>1</td>\n",
       "      <td>2</td>\n",
       "      <td>2</td>\n",
       "      <td>1</td>\n",
       "      <td>1</td>\n",
       "      <td>2</td>\n",
       "      <td>1</td>\n",
       "      <td>58000.0</td>\n",
       "      <td>0</td>\n",
       "      <td>1</td>\n",
       "    </tr>\n",
       "    <tr>\n",
       "      <th>170</th>\n",
       "      <td>3</td>\n",
       "      <td>4.040000</td>\n",
       "      <td>1.88</td>\n",
       "      <td>2</td>\n",
       "      <td>1</td>\n",
       "      <td>1</td>\n",
       "      <td>1</td>\n",
       "      <td>2</td>\n",
       "      <td>1</td>\n",
       "      <td>2</td>\n",
       "      <td>1</td>\n",
       "      <td>1</td>\n",
       "      <td>1</td>\n",
       "      <td>2</td>\n",
       "      <td>1</td>\n",
       "      <td>66000.0</td>\n",
       "      <td>0</td>\n",
       "      <td>1</td>\n",
       "    </tr>\n",
       "    <tr>\n",
       "      <th>163</th>\n",
       "      <td>2</td>\n",
       "      <td>1.420914</td>\n",
       "      <td>1.96</td>\n",
       "      <td>2</td>\n",
       "      <td>1</td>\n",
       "      <td>1</td>\n",
       "      <td>1</td>\n",
       "      <td>2</td>\n",
       "      <td>1</td>\n",
       "      <td>2</td>\n",
       "      <td>2</td>\n",
       "      <td>1</td>\n",
       "      <td>1</td>\n",
       "      <td>1</td>\n",
       "      <td>1</td>\n",
       "      <td>73.0</td>\n",
       "      <td>0</td>\n",
       "      <td>0</td>\n",
       "    </tr>\n",
       "    <tr>\n",
       "      <th>...</th>\n",
       "      <td>...</td>\n",
       "      <td>...</td>\n",
       "      <td>...</td>\n",
       "      <td>...</td>\n",
       "      <td>...</td>\n",
       "      <td>...</td>\n",
       "      <td>...</td>\n",
       "      <td>...</td>\n",
       "      <td>...</td>\n",
       "      <td>...</td>\n",
       "      <td>...</td>\n",
       "      <td>...</td>\n",
       "      <td>...</td>\n",
       "      <td>...</td>\n",
       "      <td>...</td>\n",
       "      <td>...</td>\n",
       "      <td>...</td>\n",
       "      <td>...</td>\n",
       "    </tr>\n",
       "    <tr>\n",
       "      <th>270</th>\n",
       "      <td>3</td>\n",
       "      <td>4.670157</td>\n",
       "      <td>1.72</td>\n",
       "      <td>2</td>\n",
       "      <td>1</td>\n",
       "      <td>1</td>\n",
       "      <td>1</td>\n",
       "      <td>2</td>\n",
       "      <td>2</td>\n",
       "      <td>NaN</td>\n",
       "      <td>1</td>\n",
       "      <td>1</td>\n",
       "      <td>1</td>\n",
       "      <td>2</td>\n",
       "      <td>1</td>\n",
       "      <td>71000.0</td>\n",
       "      <td>0</td>\n",
       "      <td>1</td>\n",
       "    </tr>\n",
       "    <tr>\n",
       "      <th>257</th>\n",
       "      <td>3</td>\n",
       "      <td>3.588486</td>\n",
       "      <td>2.32</td>\n",
       "      <td>1</td>\n",
       "      <td>1</td>\n",
       "      <td>1</td>\n",
       "      <td>1</td>\n",
       "      <td>1</td>\n",
       "      <td>1</td>\n",
       "      <td>NaN</td>\n",
       "      <td>1</td>\n",
       "      <td>1</td>\n",
       "      <td>1</td>\n",
       "      <td>2</td>\n",
       "      <td>1</td>\n",
       "      <td>54.0</td>\n",
       "      <td>0</td>\n",
       "      <td>0</td>\n",
       "    </tr>\n",
       "    <tr>\n",
       "      <th>339</th>\n",
       "      <td>3</td>\n",
       "      <td>2.909306</td>\n",
       "      <td>2.00</td>\n",
       "      <td>2</td>\n",
       "      <td>1</td>\n",
       "      <td>1</td>\n",
       "      <td>1</td>\n",
       "      <td>2</td>\n",
       "      <td>1</td>\n",
       "      <td>NaN</td>\n",
       "      <td>1</td>\n",
       "      <td>1</td>\n",
       "      <td>1</td>\n",
       "      <td>2</td>\n",
       "      <td>1</td>\n",
       "      <td>59000.0</td>\n",
       "      <td>0</td>\n",
       "      <td>1</td>\n",
       "    </tr>\n",
       "    <tr>\n",
       "      <th>421</th>\n",
       "      <td>2</td>\n",
       "      <td>3.760000</td>\n",
       "      <td>2.96</td>\n",
       "      <td>2</td>\n",
       "      <td>1</td>\n",
       "      <td>1</td>\n",
       "      <td>1</td>\n",
       "      <td>2</td>\n",
       "      <td>1</td>\n",
       "      <td>4</td>\n",
       "      <td>2</td>\n",
       "      <td>1</td>\n",
       "      <td>1</td>\n",
       "      <td>1</td>\n",
       "      <td>1</td>\n",
       "      <td>64000.0</td>\n",
       "      <td>0</td>\n",
       "      <td>1</td>\n",
       "    </tr>\n",
       "    <tr>\n",
       "      <th>71</th>\n",
       "      <td>3</td>\n",
       "      <td>3.600000</td>\n",
       "      <td>2.60</td>\n",
       "      <td>2</td>\n",
       "      <td>1</td>\n",
       "      <td>1</td>\n",
       "      <td>1</td>\n",
       "      <td>2</td>\n",
       "      <td>1</td>\n",
       "      <td>2</td>\n",
       "      <td>2</td>\n",
       "      <td>1</td>\n",
       "      <td>1</td>\n",
       "      <td>2</td>\n",
       "      <td>1</td>\n",
       "      <td>71.0</td>\n",
       "      <td>0</td>\n",
       "      <td>0</td>\n",
       "    </tr>\n",
       "  </tbody>\n",
       "</table>\n",
       "<p>141 rows × 18 columns</p>\n",
       "</div>"
      ],
      "text/plain": [
       "    V1        V2    V3 V4 V5 V6 V7 V8 V9  V10 V11 V12 V13 V14 V15      V16  \\\n",
       "399  3  2.861579  1.90  2  1  1  1  2  1  NaN   1   1   1   2   1     65.0   \n",
       "120  2  3.840000  2.56  2  1  1  1  2  1  NaN   2   1   1   1   1  59000.0   \n",
       "114  3  4.520000  3.32  1  1  1  1  2  1    2   2   1   1   2   1  58000.0   \n",
       "170  3  4.040000  1.88  2  1  1  1  2  1    2   1   1   1   2   1  66000.0   \n",
       "163  2  1.420914  1.96  2  1  1  1  2  1    2   2   1   1   1   1     73.0   \n",
       "..  ..       ...   ... .. .. .. .. .. ..  ...  ..  ..  ..  ..  ..      ...   \n",
       "270  3  4.670157  1.72  2  1  1  1  2  2  NaN   1   1   1   2   1  71000.0   \n",
       "257  3  3.588486  2.32  1  1  1  1  1  1  NaN   1   1   1   2   1     54.0   \n",
       "339  3  2.909306  2.00  2  1  1  1  2  1  NaN   1   1   1   2   1  59000.0   \n",
       "421  2  3.760000  2.96  2  1  1  1  2  1    4   2   1   1   1   1  64000.0   \n",
       "71   3  3.600000  2.60  2  1  1  1  2  1    2   2   1   1   2   1     71.0   \n",
       "\n",
       "     V11_outlier  V16_outlier  \n",
       "399            0            0  \n",
       "120            0            1  \n",
       "114            0            1  \n",
       "170            0            1  \n",
       "163            0            0  \n",
       "..           ...          ...  \n",
       "270            0            1  \n",
       "257            0            0  \n",
       "339            0            1  \n",
       "421            0            1  \n",
       "71             0            0  \n",
       "\n",
       "[141 rows x 18 columns]"
      ]
     },
     "execution_count": 69,
     "metadata": {},
     "output_type": "execute_result"
    }
   ],
   "source": [
    "df_outliers"
   ]
  },
  {
   "cell_type": "code",
   "execution_count": 70,
   "metadata": {
    "ExecuteTime": {
     "end_time": "2021-03-27T23:12:15.163868Z",
     "start_time": "2021-03-27T23:12:15.128950Z"
    }
   },
   "outputs": [
    {
     "name": "stderr",
     "output_type": "stream",
     "text": [
      "/home/rupali/.local/lib/python3.8/site-packages/ipykernel/ipkernel.py:283: DeprecationWarning: `should_run_async` will not call `transform_cell` automatically in the future. Please pass the result to `transformed_cell` argument and any exception that happen during thetransform in `preprocessing_exc_tuple` in IPython 7.17 and above.\n",
      "  and should_run_async(code)\n"
     ]
    }
   ],
   "source": [
    "for i in df_outliers.index:\n",
    "    if df_outliers.loc[i, col + \"_outlier\"] == 1:\n",
    "        df_outliers.loc[i, col] = np.nan"
   ]
  },
  {
   "cell_type": "code",
   "execution_count": 72,
   "metadata": {
    "ExecuteTime": {
     "end_time": "2021-03-27T23:13:02.112818Z",
     "start_time": "2021-03-27T23:13:02.108372Z"
    }
   },
   "outputs": [
    {
     "name": "stdout",
     "output_type": "stream",
     "text": [
      "Column V16 contained 0 nans before, now 86\n"
     ]
    }
   ],
   "source": [
    "print(f'Column {col} contained {len(nan_idx)} nans before, now {df_outliers[col].isnull().sum()}')"
   ]
  },
  {
   "cell_type": "code",
   "execution_count": null,
   "metadata": {},
   "outputs": [],
   "source": [
    "## imputation"
   ]
  },
  {
   "cell_type": "code",
   "execution_count": 236,
   "metadata": {
    "ExecuteTime": {
     "end_time": "2021-03-26T00:05:03.836508Z",
     "start_time": "2021-03-26T00:05:03.814635Z"
    }
   },
   "outputs": [
    {
     "name": "stdout",
     "output_type": "stream",
     "text": [
      "Imputed 86 values in column V3\n"
     ]
    }
   ],
   "source": [
    "prior_missing = df_outliers[col].isnull().sum()\n",
    "\n",
    "if prior_missing > 0:\n",
    "    df_outliers.loc[df_outliers[col].isnull(), col] = predictors[col]['median'].predict(df_outliers[df_outliers[col].isnull()])\n",
    "    \n",
    "print(f'Imputed {prior_missing} values in column {col}')"
   ]
  },
  {
   "cell_type": "code",
   "execution_count": null,
   "metadata": {},
   "outputs": [],
   "source": []
  },
  {
   "cell_type": "markdown",
   "metadata": {},
   "source": [
    "#### Together"
   ]
  },
  {
   "cell_type": "code",
   "execution_count": 10,
   "metadata": {
    "ExecuteTime": {
     "end_time": "2021-03-29T23:58:57.507770Z",
     "start_time": "2021-03-29T23:58:30.607135Z"
    }
   },
   "outputs": [
    {
     "name": "stdout",
     "output_type": "stream",
     "text": [
      "Classifier for col: V1 reached 0.7142830746489284\n",
      "Classifier for col: V4 reached 0.8510716925351072\n",
      "Classifier for col: V5 reached 0.9392091648189209\n",
      "Classifier for col: V6 reached 0.8450480413895047\n",
      "Classifier for col: V7 reached 0.9148928307464893\n",
      "Classifier for col: V8 reached 0.8571692535107169\n",
      "Classifier for col: V9 reached 0.8602549889135255\n",
      "Classifier for col: V10 reached 0.4953621581670362\n",
      "Classifier for col: V11 reached 0.9148928307464893\n",
      "Classifier for col: V12 reached 0.9939209164818921\n",
      "Classifier for col: V13 reached 0.9787324464153733\n",
      "Classifier for col: V14 reached 0.8024020694752403\n"
     ]
    },
    {
     "name": "stderr",
     "output_type": "stream",
     "text": [
      "/home/rupali/.local/lib/python3.8/site-packages/sklearn/model_selection/_split.py:666: UserWarning: The least populated class in y has only 1 members, which is less than n_splits=2.\n",
      "  warnings.warn((\"The least populated class in y has only %d\"\n",
      "/home/rupali/.local/lib/python3.8/site-packages/sklearn/model_selection/_search.py:918: UserWarning: One or more of the test scores are non-finite: [nan nan nan nan]\n",
      "  warnings.warn(\n"
     ]
    },
    {
     "name": "stdout",
     "output_type": "stream",
     "text": [
      "Classifier for col: V15 reached nan\n",
      "Regressor for col: V2/lower reached 0.42247845008381973\n",
      "Regressor for col: V2/median reached 0.6761842978886956\n",
      "Regressor for col: V2/upper reached 0.3598218774628331\n",
      "Regressor for col: V3/lower reached -0.04636896571902205\n",
      "Regressor for col: V3/median reached -0.24942995195533335\n",
      "Regressor for col: V3/upper reached -0.7342921674559149\n",
      "Regressor for col: V16/lower reached -0.8601092448790603\n",
      "Regressor for col: V16/median reached 0.09354994585735976\n",
      "Regressor for col: V16/upper reached -0.9287553494544648\n"
     ]
    }
   ],
   "source": [
    "for col in categorical_columns + numerical_columns:\n",
    "    if col in categorical_columns:\n",
    "        if len(train_data[col].unique()) > 1:\n",
    "            feature_transform = ColumnTransformer(transformers=[\n",
    "                ('categorical_features', categorical_preprocessing, list(set(categorical_columns) - {col})),\n",
    "                ('numeric_features', numeric_preprocessing, numerical_columns)\n",
    "            ])\n",
    "\n",
    "            param_grid = {\n",
    "                'learner__n_estimators': [10, 50, 100, 200],\n",
    "            }\n",
    "\n",
    "            pipeline = Pipeline([\n",
    "                ('features', feature_transform),\n",
    "                ('learner', GradientBoostingClassifier())\n",
    "            ])\n",
    "\n",
    "            search = GridSearchCV(pipeline, param_grid, cv=2, verbose=0, n_jobs=-1)\n",
    "            predictors[col] = search.fit(train_data, train_data[col])\n",
    "\n",
    "            print(f'Classifier for col: {col} reached {search.best_score_}')\n",
    "\n",
    "            ## precision-recall curves for finding the likelihood thresholds for minimal precision\n",
    "            predictors[col].thresholds = {}\n",
    "            probas = predictors[col].predict_proba(test_data)\n",
    "\n",
    "            for label_idx, label in enumerate(predictors[col].classes_):\n",
    "                prec, rec, threshold = precision_recall_curve(test_data[col]==label, probas[:,label_idx], pos_label=True)\n",
    "                prec = prec.tolist(); rec = rec.tolist(); threshold = threshold.tolist()\n",
    "                threshold_for_min_prec = np.array([elem >= categorical_precision_threshold for elem in prec]).nonzero()[0][0] - 1\n",
    "                predictors[col].thresholds[label] = threshold_for_min_prec\n",
    "\n",
    "    elif col in numerical_columns:\n",
    "        feature_transform = ColumnTransformer(transformers=[\n",
    "            ('categorical_features', categorical_preprocessing, categorical_columns),\n",
    "            ('numeric_features', numeric_preprocessing, list(set(numerical_columns) - {col}))\n",
    "        ])\n",
    "        \n",
    "        param_grid = {\n",
    "            'learner__n_estimators': [10, 50, 100],\n",
    "        }\n",
    "        \n",
    "        predictors[col] = {}\n",
    "        \n",
    "        for perc_name, percentile, in zip(['lower', 'median', 'upper'], [1.0 - numeric_error_percentile, 0.5, numeric_error_percentile]):\n",
    "            pipeline = Pipeline([\n",
    "                ('features', feature_transform),\n",
    "                ('learner', GradientBoostingRegressor(loss='quantile', alpha=percentile))\n",
    "            ])\n",
    "            \n",
    "            search = GridSearchCV(pipeline, param_grid, cv=2, verbose=0, n_jobs=-1)\n",
    "            predictors[col][perc_name] = search.fit(train_data, train_data[col])\n",
    "            \n",
    "            print(f'Regressor for col: {col}/{perc_name} reached {search.best_score_}')"
   ]
  },
  {
   "cell_type": "code",
   "execution_count": 11,
   "metadata": {
    "ExecuteTime": {
     "end_time": "2021-03-29T23:59:01.768037Z",
     "start_time": "2021-03-29T23:59:01.749969Z"
    }
   },
   "outputs": [
    {
     "name": "stderr",
     "output_type": "stream",
     "text": [
      "/home/rupali/.local/lib/python3.8/site-packages/ipykernel/ipkernel.py:283: DeprecationWarning: `should_run_async` will not call `transform_cell` automatically in the future. Please pass the result to `transformed_cell` argument and any exception that happen during thetransform in `preprocessing_exc_tuple` in IPython 7.17 and above.\n",
      "  and should_run_async(code)\n"
     ]
    },
    {
     "data": {
      "text/plain": [
       "dict_keys(['V1', 'V4', 'V5', 'V6', 'V7', 'V8', 'V9', 'V10', 'V11', 'V12', 'V13', 'V14', 'V15', 'V2', 'V3', 'V16'])"
      ]
     },
     "execution_count": 11,
     "metadata": {},
     "output_type": "execute_result"
    }
   ],
   "source": [
    "predictors.keys()"
   ]
  },
  {
   "cell_type": "code",
   "execution_count": 12,
   "metadata": {
    "ExecuteTime": {
     "end_time": "2021-03-29T23:59:02.803322Z",
     "start_time": "2021-03-29T23:59:02.800151Z"
    }
   },
   "outputs": [],
   "source": [
    "## outlier detection and removal"
   ]
  },
  {
   "cell_type": "code",
   "execution_count": 13,
   "metadata": {
    "ExecuteTime": {
     "end_time": "2021-03-29T23:59:05.644244Z",
     "start_time": "2021-03-29T23:59:04.118500Z"
    }
   },
   "outputs": [
    {
     "name": "stdout",
     "output_type": "stream",
     "text": [
      "Column V1 contained 0 nans before, now 59\n",
      "Column V4 contained 0 nans before, now 0\n",
      "Column V5 contained 0 nans before, now 0\n",
      "Column V6 contained 0 nans before, now 0\n",
      "Column V7 contained 0 nans before, now 0\n",
      "Column V8 contained 0 nans before, now 0\n",
      "Column V9 contained 0 nans before, now 0\n",
      "Column V10 contained 0 nans before, now 0\n",
      "Column V11 contained 0 nans before, now 0\n",
      "Column V12 contained 0 nans before, now 0\n",
      "Column V13 contained 0 nans before, now 0\n",
      "Column V14 contained 70 nans before, now 70\n",
      "Column V15 contained 0 nans before, now 3\n",
      "Column V2 contained 0 nans before, now 65\n",
      "Column V3 contained 0 nans before, now 91\n",
      "Column V16 contained 0 nans before, now 97\n"
     ]
    }
   ],
   "source": [
    "for col in categorical_columns + numerical_columns:\n",
    "    if col in categorical_columns:\n",
    "        if col in predictors.keys():\n",
    "            y_pred = predictors[col].predict(df_corrupted)\n",
    "            y_proba = predictors[col].predict_proba(df_corrupted)\n",
    "\n",
    "            for label_idx, label in enumerate(predictors[col].classes_):\n",
    "                precision_pred = predictors[col].thresholds[label] <= y_proba[:,label_idx]\n",
    "                outliers = precision_pred & (df_corrupted[col] != y_pred)\n",
    "            \n",
    "    elif col in numerical_columns:\n",
    "        lower_percentile = predictors[col]['lower'].predict(df_corrupted)\n",
    "        upper_percentile = predictors[col]['upper'].predict(df_corrupted)\n",
    "        outliers = (df_corrupted[col] < lower_percentile) | (df_corrupted[col] > upper_percentile)\n",
    "        \n",
    "    ## find indices of records with NaNs in col in df_corrupted\n",
    "    nan_idx = df_corrupted[df_corrupted[col].isnull()].index\n",
    "    non_nan_idx = df_corrupted.loc[set(df_corrupted.index) - set(nan_idx)].index\n",
    "    \n",
    "    ## add a respective outlier col for each col\n",
    "    df_outliers[col + \"_outlier\"] = ''\n",
    "    df_outliers.loc[non_nan_idx, col + \"_outlier\"] = outliers.astype('int') ## 0: inlier, 1: outlier\n",
    "    df_outliers.loc[nan_idx, col + \"_outlier\"] = 1\n",
    "    \n",
    "    for i in df_outliers.index:\n",
    "        if df_outliers.loc[i, col + \"_outlier\"] == 1:\n",
    "            df_outliers.loc[i, col] = np.nan\n",
    "    \n",
    "    print(f'Column {col} contained {len(nan_idx)} nans before, now {df_outliers[col].isnull().sum()}')"
   ]
  },
  {
   "cell_type": "code",
   "execution_count": null,
   "metadata": {},
   "outputs": [],
   "source": []
  },
  {
   "cell_type": "code",
   "execution_count": 18,
   "metadata": {
    "ExecuteTime": {
     "end_time": "2021-03-29T22:37:24.929260Z",
     "start_time": "2021-03-29T22:37:24.926395Z"
    }
   },
   "outputs": [
    {
     "name": "stderr",
     "output_type": "stream",
     "text": [
      "/home/rupali/.local/lib/python3.8/site-packages/ipykernel/ipkernel.py:283: DeprecationWarning: `should_run_async` will not call `transform_cell` automatically in the future. Please pass the result to `transformed_cell` argument and any exception that happen during thetransform in `preprocessing_exc_tuple` in IPython 7.17 and above.\n",
      "  and should_run_async(code)\n"
     ]
    }
   ],
   "source": [
    "## imputation"
   ]
  },
  {
   "cell_type": "code",
   "execution_count": 14,
   "metadata": {
    "ExecuteTime": {
     "end_time": "2021-03-29T23:59:11.474533Z",
     "start_time": "2021-03-29T23:59:11.466245Z"
    }
   },
   "outputs": [
    {
     "name": "stderr",
     "output_type": "stream",
     "text": [
      "/home/rupali/.local/lib/python3.8/site-packages/ipykernel/ipkernel.py:283: DeprecationWarning: `should_run_async` will not call `transform_cell` automatically in the future. Please pass the result to `transformed_cell` argument and any exception that happen during thetransform in `preprocessing_exc_tuple` in IPython 7.17 and above.\n",
      "  and should_run_async(code)\n"
     ]
    }
   ],
   "source": [
    "df_cleaned = df_outliers[df_corrupted.columns].copy(deep=True)"
   ]
  },
  {
   "cell_type": "code",
   "execution_count": 15,
   "metadata": {
    "ExecuteTime": {
     "end_time": "2021-03-29T23:59:13.449521Z",
     "start_time": "2021-03-29T23:59:13.302919Z"
    }
   },
   "outputs": [
    {
     "name": "stdout",
     "output_type": "stream",
     "text": [
      "Imputed 59 values in column V1\n",
      "Imputed 70 values in column V14\n",
      "Imputed 3 values in column V15\n",
      "Imputed 65 values in column V2\n",
      "Imputed 91 values in column V3\n",
      "Imputed 97 values in column V16\n"
     ]
    }
   ],
   "source": [
    "for col in categorical_columns + numerical_columns:\n",
    "    prior_missing = df_cleaned[col].isnull().sum()\n",
    "    \n",
    "    if prior_missing > 0:\n",
    "        if col in categorical_columns:\n",
    "            df_cleaned.loc[df_cleaned[col].isnull(), col] = predictors[col].predict(df_cleaned[df_cleaned[col].isnull()])\n",
    "        elif col in numerical_columns:\n",
    "            df_cleaned.loc[df_cleaned[col].isnull(), col] = predictors[col]['median'].predict(df_cleaned[df_cleaned[col].isnull()])\n",
    "        \n",
    "        print(f'Imputed {prior_missing} values in column {col}')"
   ]
  },
  {
   "cell_type": "code",
   "execution_count": null,
   "metadata": {},
   "outputs": [],
   "source": []
  },
  {
   "cell_type": "code",
   "execution_count": null,
   "metadata": {},
   "outputs": [],
   "source": []
  },
  {
   "cell_type": "code",
   "execution_count": null,
   "metadata": {},
   "outputs": [],
   "source": []
  },
  {
   "cell_type": "code",
   "execution_count": null,
   "metadata": {},
   "outputs": [],
   "source": []
  },
  {
   "cell_type": "code",
   "execution_count": null,
   "metadata": {},
   "outputs": [],
   "source": []
  },
  {
   "cell_type": "code",
   "execution_count": null,
   "metadata": {},
   "outputs": [],
   "source": []
  }
 ],
 "metadata": {
  "colab": {
   "authorship_tag": "ABX9TyPlDrqqa4XecUToPYAnlb+Z",
   "collapsed_sections": [],
   "name": "experimental_setup_revise_ind_od_imp.ipynb",
   "provenance": []
  },
  "kernelspec": {
   "display_name": "Python 3",
   "language": "python",
   "name": "python3"
  },
  "language_info": {
   "codemirror_mode": {
    "name": "ipython",
    "version": 3
   },
   "file_extension": ".py",
   "mimetype": "text/x-python",
   "name": "python",
   "nbconvert_exporter": "python",
   "pygments_lexer": "ipython3",
   "version": "3.8.5"
  },
  "toc": {
   "base_numbering": 1,
   "nav_menu": {},
   "number_sections": true,
   "sideBar": true,
   "skip_h1_title": false,
   "title_cell": "Table of Contents",
   "title_sidebar": "Contents",
   "toc_cell": false,
   "toc_position": {
    "height": "calc(100% - 180px)",
    "left": "10px",
    "top": "150px",
    "width": "165px"
   },
   "toc_section_display": true,
   "toc_window_display": true
  }
 },
 "nbformat": 4,
 "nbformat_minor": 4
}
