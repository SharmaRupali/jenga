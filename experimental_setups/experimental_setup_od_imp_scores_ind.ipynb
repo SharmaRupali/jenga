{
 "cells": [
  {
   "cell_type": "code",
   "execution_count": 1,
   "metadata": {
    "ExecuteTime": {
     "end_time": "2021-03-21T21:37:03.935263Z",
     "start_time": "2021-03-21T21:37:03.922608Z"
    },
    "colab": {
     "base_uri": "https://localhost:8080/",
     "height": 35
    },
    "colab_type": "code",
    "executionInfo": {
     "elapsed": 814,
     "status": "ok",
     "timestamp": 1599348580533,
     "user": {
      "displayName": "Rupali Sharma",
      "photoUrl": "https://lh3.googleusercontent.com/a-/AOh14GiH6obBahOBk5ezQLBEEgw1DvKRo8haEZvXXnQ83ww=s64",
      "userId": "15074179419258593720"
     },
     "user_tz": -120
    },
    "id": "DCP7WtvCp3OR",
    "outputId": "6b6b7ec4-1c64-4fa7-a757-7c0972089931"
   },
   "outputs": [],
   "source": [
    "import warnings\n",
    "warnings.filterwarnings('ignore')\n",
    "\n",
    "import sys\n",
    "sys.path.append('/home/rupali/Documents/Master Thesis/jenga')"
   ]
  },
  {
   "cell_type": "markdown",
   "metadata": {
    "colab": {
     "base_uri": "https://localhost:8080/",
     "height": 1000
    },
    "colab_type": "code",
    "executionInfo": {
     "elapsed": 12177,
     "status": "ok",
     "timestamp": 1599345858631,
     "user": {
      "displayName": "Rupali Sharma",
      "photoUrl": "https://lh3.googleusercontent.com/a-/AOh14GiH6obBahOBk5ezQLBEEgw1DvKRo8haEZvXXnQ83ww=s64",
      "userId": "15074179419258593720"
     },
     "user_tz": -120
    },
    "id": "cMx9LqYZp3Yi",
    "outputId": "22a2608c-c943-4fe0-8d57-c3c7a208f456"
   },
   "source": [
    "## Dataset"
   ]
  },
  {
   "cell_type": "code",
   "execution_count": 2,
   "metadata": {
    "ExecuteTime": {
     "end_time": "2021-03-21T21:37:06.583948Z",
     "start_time": "2021-03-21T21:37:03.940246Z"
    },
    "colab": {},
    "colab_type": "code",
    "id": "TPW2EpMWpOIl"
   },
   "outputs": [],
   "source": [
    "import pandas as pd\n",
    "import numpy as np\n",
    "import seaborn as sns\n",
    "import matplotlib.pyplot as plt\n",
    "\n",
    "from jenga.basis import Dataset"
   ]
  },
  {
   "cell_type": "code",
   "execution_count": 3,
   "metadata": {
    "ExecuteTime": {
     "end_time": "2021-03-21T21:37:06.839952Z",
     "start_time": "2021-03-21T21:37:06.586765Z"
    },
    "colab": {
     "base_uri": "https://localhost:8080/",
     "height": 72
    },
    "colab_type": "code",
    "executionInfo": {
     "elapsed": 3244,
     "status": "ok",
     "timestamp": 1599348586007,
     "user": {
      "displayName": "Rupali Sharma",
      "photoUrl": "https://lh3.googleusercontent.com/a-/AOh14GiH6obBahOBk5ezQLBEEgw1DvKRo8haEZvXXnQ83ww=s64",
      "userId": "15074179419258593720"
     },
     "user_tz": -120
    },
    "id": "tFT2wyO1pOJG",
    "outputId": "8d5c7135-23a5-41e8-a936-03c3f396a463"
   },
   "outputs": [
    {
     "name": "stdout",
     "output_type": "stream",
     "text": [
      "Dataset: parkinsons\n",
      "Found 0 categorical and 22 numeric features \n",
      "\n"
     ]
    }
   ],
   "source": [
    "dataset = Dataset(\"parkinsons\")\n",
    "\n",
    "all_data = dataset.all_data\n",
    "attribute_names = dataset.attribute_names\n",
    "attribute_types = dataset.attribute_types\n",
    "\n",
    "categorical_columns = dataset.categorical_columns\n",
    "numerical_columns = dataset.numerical_columns\n",
    "\n",
    "print(f\"Found {len(categorical_columns)} categorical and {len(numerical_columns)} numeric features \\n\")"
   ]
  },
  {
   "cell_type": "markdown",
   "metadata": {
    "colab_type": "text",
    "id": "8svnusk-Ixe2"
   },
   "source": [
    "### Get training and test sets"
   ]
  },
  {
   "cell_type": "code",
   "execution_count": 4,
   "metadata": {
    "ExecuteTime": {
     "end_time": "2021-03-21T21:37:06.854021Z",
     "start_time": "2021-03-21T21:37:06.844040Z"
    },
    "colab": {},
    "colab_type": "code",
    "id": "5abd0EiGpOJU"
   },
   "outputs": [],
   "source": [
    "train_data, train_labels, test_data, test_labels = dataset.get_train_test_data(0.3)"
   ]
  },
  {
   "cell_type": "markdown",
   "metadata": {
    "colab_type": "text",
    "id": "LlqGYzOaIxe_"
   },
   "source": [
    "## Model"
   ]
  },
  {
   "cell_type": "code",
   "execution_count": 5,
   "metadata": {
    "ExecuteTime": {
     "end_time": "2021-03-21T21:37:06.912555Z",
     "start_time": "2021-03-21T21:37:06.857166Z"
    },
    "colab": {},
    "colab_type": "code",
    "id": "GCe3-Ao8pOJe"
   },
   "outputs": [],
   "source": [
    "from sklearn.linear_model import SGDClassifier\n",
    "\n",
    "learner = SGDClassifier(loss='log')\n",
    "param_grid = {\n",
    "    'learner__max_iter': [500, 1000, 5000],\n",
    "    'learner__penalty': ['l2', 'l1', 'elasticnet'], \n",
    "    'learner__alpha': [0.0001, 0.001, 0.01, 0.1]\n",
    "}"
   ]
  },
  {
   "cell_type": "markdown",
   "metadata": {
    "colab_type": "text",
    "id": "MIp1Ik7Vb4xT"
   },
   "source": [
    "## Corruptions"
   ]
  },
  {
   "cell_type": "code",
   "execution_count": 6,
   "metadata": {
    "ExecuteTime": {
     "end_time": "2021-03-21T21:37:06.927694Z",
     "start_time": "2021-03-21T21:37:06.918589Z"
    },
    "colab": {},
    "colab_type": "code",
    "id": "rebVqZS_pOJp"
   },
   "outputs": [],
   "source": [
    "from jenga.corruptions.generic import MissingValues, SwappedValues, CategoricalShift\n",
    "from jenga.corruptions.numerical import Scaling, GaussianNoise\n",
    "\n",
    "corruptions = [MissingValues, SwappedValues, CategoricalShift, Scaling, GaussianNoise]\n",
    "fraction = 0.5\n",
    "num_repetitions = 5"
   ]
  },
  {
   "cell_type": "code",
   "execution_count": 12,
   "metadata": {
    "ExecuteTime": {
     "end_time": "2021-03-21T21:37:29.775040Z",
     "start_time": "2021-03-21T21:37:28.267579Z"
    },
    "colab": {
     "base_uri": "https://localhost:8080/",
     "height": 476
    },
    "colab_type": "code",
    "executionInfo": {
     "elapsed": 4713,
     "status": "ok",
     "timestamp": 1599348593528,
     "user": {
      "displayName": "Rupali Sharma",
      "photoUrl": "https://lh3.googleusercontent.com/a-/AOh14GiH6obBahOBk5ezQLBEEgw1DvKRo8haEZvXXnQ83ww=s64",
      "userId": "15074179419258593720"
     },
     "user_tz": -120
    },
    "id": "X37vA9WepOJ0",
    "outputId": "9fa6d71f-e79d-49ac-c192-42a6913dc294",
    "scrolled": true
   },
   "outputs": [
    {
     "name": "stdout",
     "output_type": "stream",
     "text": [
      "Fitting 5 folds for each of 36 candidates, totalling 180 fits\n",
      "\n",
      "Generating corrupted training data on 59 rows... \n",
      "\n",
      "\tperturbation: MissingValues: {'column': 'V22', 'fraction': 0.5, 'sampling': 'MCAR', 'na_value': nan}\n",
      "\tperturbation: SwappedValues: {'column': 'V13', 'fraction': 0.5, 'sampling': 'MAR', 'swap_with': None}\n",
      "\tperturbation: CategoricalShift: {'column': 'V4', 'fraction': 0.5, 'sampling': 'MCAR'}\n",
      "CategoricalShift implemented only for categorical variables\n",
      "\tperturbation: Scaling: {'column': 'V18', 'fraction': 0.5, 'sampling': 'MAR'}\n",
      "\tperturbation: GaussianNoise: {'column': 'V9', 'fraction': 0.5, 'sampling': 'MAR'}\n",
      "\n",
      "Generating corrupted training data on 59 rows... \n",
      "\n",
      "\tperturbation: MissingValues: {'column': 'V13', 'fraction': 0.5, 'sampling': 'MNAR', 'na_value': nan}\n",
      "\tperturbation: SwappedValues: {'column': 'V17', 'fraction': 0.5, 'sampling': 'MCAR', 'swap_with': None}\n",
      "\tperturbation: CategoricalShift: {'column': 'V22', 'fraction': 0.5, 'sampling': 'MAR'}\n",
      "CategoricalShift implemented only for categorical variables\n",
      "\tperturbation: Scaling: {'column': 'V18', 'fraction': 0.5, 'sampling': 'MCAR'}\n",
      "\tperturbation: GaussianNoise: {'column': 'V13', 'fraction': 0.5, 'sampling': 'MNAR'}\n",
      "\n",
      "Generating corrupted training data on 59 rows... \n",
      "\n",
      "\tperturbation: MissingValues: {'column': 'V19', 'fraction': 0.5, 'sampling': 'MCAR', 'na_value': nan}\n",
      "\tperturbation: SwappedValues: {'column': 'V21', 'fraction': 0.5, 'sampling': 'MAR', 'swap_with': None}\n",
      "\tperturbation: CategoricalShift: {'column': 'V20', 'fraction': 0.5, 'sampling': 'MAR'}\n",
      "CategoricalShift implemented only for categorical variables\n",
      "\tperturbation: Scaling: {'column': 'V8', 'fraction': 0.5, 'sampling': 'MAR'}\n",
      "\tperturbation: GaussianNoise: {'column': 'V3', 'fraction': 0.5, 'sampling': 'MAR'}\n",
      "\n",
      "Generating corrupted training data on 59 rows... \n",
      "\n",
      "\tperturbation: MissingValues: {'column': 'V8', 'fraction': 0.5, 'sampling': 'MAR', 'na_value': nan}\n",
      "\tperturbation: SwappedValues: {'column': 'V6', 'fraction': 0.5, 'sampling': 'MAR', 'swap_with': None}\n",
      "\tperturbation: CategoricalShift: {'column': 'V18', 'fraction': 0.5, 'sampling': 'MNAR'}\n",
      "CategoricalShift implemented only for categorical variables\n",
      "\tperturbation: Scaling: {'column': 'V15', 'fraction': 0.5, 'sampling': 'MNAR'}\n",
      "\tperturbation: GaussianNoise: {'column': 'V5', 'fraction': 0.5, 'sampling': 'MNAR'}\n",
      "\n",
      "Generating corrupted training data on 59 rows... \n",
      "\n",
      "\tperturbation: MissingValues: {'column': 'V15', 'fraction': 0.5, 'sampling': 'MAR', 'na_value': nan}\n",
      "\tperturbation: SwappedValues: {'column': 'V4', 'fraction': 0.5, 'sampling': 'MAR', 'swap_with': None}\n",
      "\tperturbation: CategoricalShift: {'column': 'V13', 'fraction': 0.5, 'sampling': 'MCAR'}\n",
      "CategoricalShift implemented only for categorical variables\n",
      "\tperturbation: Scaling: {'column': 'V9', 'fraction': 0.5, 'sampling': 'MCAR'}\n",
      "\tperturbation: GaussianNoise: {'column': 'V4', 'fraction': 0.5, 'sampling': 'MNAR'}\n"
     ]
    }
   ],
   "source": [
    "from jenga.cleaning.ppp import PipelinePerformancePrediction\n",
    "\n",
    "ppp = PipelinePerformancePrediction(train_data, train_labels, test_data, test_labels, categorical_columns, numerical_columns, learner, param_grid)\n",
    "ppp_model = ppp.fit_ppp(train_data)\n",
    "\n",
    "## generate corrpted data\n",
    "for _ in range(num_repetitions):\n",
    "    df_corrupted, perturbations, cols_perturbed, summary_col_corrupt = ppp.get_corrupted(test_data, corruptions, fraction, num_repetitions)"
   ]
  },
  {
   "cell_type": "markdown",
   "metadata": {
    "colab_type": "text",
    "id": "WDW22dB1cIHZ"
   },
   "source": [
    "## Cleaning"
   ]
  },
  {
   "cell_type": "code",
   "execution_count": 13,
   "metadata": {
    "ExecuteTime": {
     "end_time": "2021-03-21T21:37:33.397709Z",
     "start_time": "2021-03-21T21:37:33.393767Z"
    },
    "colab": {},
    "colab_type": "code",
    "id": "KlbzyTmOcLCb"
   },
   "outputs": [],
   "source": [
    "from jenga.cleaning.outlier_detection import NoOutlierDetection, PyODKNNOutlierDetection, PyODIsolationForestOutlierDetection#, AutoGluonOutlierDetection\n",
    "from jenga.cleaning.imputation import MeanModeImputation#, AutoGluonImputation\n",
    "\n",
    "cleaners = [\n",
    "    (NoOutlierDetection, MeanModeImputation),\n",
    "    (PyODKNNOutlierDetection, MeanModeImputation),\n",
    "    # (PyODKNNOutlierDetection, AutoGluonImputation),\n",
    "    (PyODIsolationForestOutlierDetection, MeanModeImputation),\n",
    "    # (PyODIsolationForestOutlierDetection, AutoGluonImputation),\n",
    "    # (AutoGluonOutlierDetection, MeanModeImputation)\n",
    "    # (AutoGluonOutlierDetection, AutoGluonImputation)\n",
    "]"
   ]
  },
  {
   "cell_type": "code",
   "execution_count": 14,
   "metadata": {
    "ExecuteTime": {
     "end_time": "2021-03-21T21:37:42.098419Z",
     "start_time": "2021-03-21T21:37:34.051811Z"
    },
    "colab": {
     "base_uri": "https://localhost:8080/",
     "height": 827
    },
    "colab_type": "code",
    "executionInfo": {
     "elapsed": 8621,
     "status": "ok",
     "timestamp": 1599348607005,
     "user": {
      "displayName": "Rupali Sharma",
      "photoUrl": "https://lh3.googleusercontent.com/a-/AOh14GiH6obBahOBk5ezQLBEEgw1DvKRo8haEZvXXnQ83ww=s64",
      "userId": "15074179419258593720"
     },
     "user_tz": -120
    },
    "id": "7B-xBYmicOTI",
    "outputId": "ca55ad78-2048-4af8-e31b-efdefa0397a3",
    "scrolled": true
   },
   "outputs": [
    {
     "name": "stdout",
     "output_type": "stream",
     "text": [
      "\n",
      "Applying cleaners... \n",
      "\n",
      "PPP score no cleaning: {'roc_auc_acore': 0.5987179487179487, 'classification_report': {'1': {'precision': 0.42857142857142855, 'recall': 0.15, 'f1-score': 0.2222222222222222, 'support': 20}, '2': {'precision': 0.6730769230769231, 'recall': 0.8974358974358975, 'f1-score': 0.7692307692307692, 'support': 39}, 'accuracy': 0.6440677966101694, 'macro avg': {'precision': 0.5508241758241759, 'recall': 0.5237179487179487, 'f1-score': 0.4957264957264957, 'support': 59}, 'weighted avg': {'precision': 0.5901937046004844, 'recall': 0.6440677966101694, 'f1-score': 0.583804143126177, 'support': 59}}}\n",
      "PPP scores with cleaning: \n",
      "\n",
      "Outlier detection method: NoOutlierDetection, Outlier Detection Score: {'Precision': 0.30847457627118646, 'Recall': 0.6, 'F1-score': 0.3619301711201761, 'Accuracy': 0.4169491525423729}\n",
      "Imputation method: MeanModeImputation, Imputation Score: {'Precision': nan, 'Recall': nan, 'F1-score': nan, 'Accuracy': nan, 'Mean Squared Error': 0.9416702953595013}\n",
      "Cleaner: (NoOutlierDetection, MeanModeImputation): {'roc_auc_acore': 0.5980769230769231, 'classification_report': {'1': {'precision': 0.5454545454545454, 'recall': 0.3, 'f1-score': 0.3870967741935483, 'support': 20}, '2': {'precision': 0.7083333333333334, 'recall': 0.8717948717948718, 'f1-score': 0.7816091954022988, 'support': 39}, 'accuracy': 0.6779661016949152, 'macro avg': {'precision': 0.6268939393939394, 'recall': 0.5858974358974359, 'f1-score': 0.5843529847979235, 'support': 59}, 'weighted avg': {'precision': 0.6531201848998459, 'recall': 0.6779661016949152, 'f1-score': 0.6478761712637393, 'support': 59}}}\n",
      "\n",
      "Outlier detection method: PyODKNNOutlierDetection, Outlier Detection Score: {'Precision': 0.6819531753707286, 'Recall': 0.6999678606457052, 'F1-score': 0.6474658486052427, 'Accuracy': 0.793220338983051}\n",
      "Imputation method: MeanModeImputation, Imputation Score: {'Precision': nan, 'Recall': nan, 'F1-score': nan, 'Accuracy': nan, 'Mean Squared Error': 0.0004445112543636385}\n",
      "Cleaner: (PyODKNNOutlierDetection, MeanModeImputation): {'roc_auc_acore': 0.6794871794871795, 'classification_report': {'1': {'precision': 0.7, 'recall': 0.35, 'f1-score': 0.4666666666666667, 'support': 20}, '2': {'precision': 0.7346938775510204, 'recall': 0.9230769230769231, 'f1-score': 0.8181818181818182, 'support': 39}, 'accuracy': 0.7288135593220338, 'macro avg': {'precision': 0.7173469387755103, 'recall': 0.6365384615384615, 'f1-score': 0.6424242424242425, 'support': 59}, 'weighted avg': {'precision': 0.7229332410930474, 'recall': 0.7288135593220338, 'f1-score': 0.6990241397021058, 'support': 59}}}\n",
      "\n",
      "Outlier detection method: PyODIsolationForestOutlierDetection, Outlier Detection Score: {'Precision': 0.5754996575751292, 'Recall': 0.529313428278849, 'F1-score': 0.5332801822376635, 'Accuracy': 0.7050847457627119}\n",
      "Imputation method: MeanModeImputation, Imputation Score: {'Precision': nan, 'Recall': nan, 'F1-score': nan, 'Accuracy': nan, 'Mean Squared Error': 0.0004938107274557031}\n",
      "Cleaner: (PyODIsolationForestOutlierDetection, MeanModeImputation): {'roc_auc_acore': 0.5358974358974359, 'classification_report': {'1': {'precision': 0.5, 'recall': 0.05, 'f1-score': 0.09090909090909091, 'support': 20}, '2': {'precision': 0.6666666666666666, 'recall': 0.9743589743589743, 'f1-score': 0.7916666666666666, 'support': 39}, 'accuracy': 0.6610169491525424, 'macro avg': {'precision': 0.5833333333333333, 'recall': 0.5121794871794871, 'f1-score': 0.4412878787878788, 'support': 59}, 'weighted avg': {'precision': 0.6101694915254238, 'recall': 0.6610169491525424, 'f1-score': 0.5541217257318952, 'support': 59}}}\n",
      "\n",
      "Best cleaning method:\n",
      "Cleaning score: Cleaner: (PyODKNNOutlierDetection, MeanModeImputation): {'roc_auc_acore': 0.6794871794871795, 'classification_report': {'1': {'precision': 0.7, 'recall': 0.35, 'f1-score': 0.4666666666666667, 'support': 20}, '2': {'precision': 0.7346938775510204, 'recall': 0.9230769230769231, 'f1-score': 0.8181818181818182, 'support': 39}, 'accuracy': 0.7288135593220338, 'macro avg': {'precision': 0.7173469387755103, 'recall': 0.6365384615384615, 'f1-score': 0.6424242424242425, 'support': 59}, 'weighted avg': {'precision': 0.7229332410930474, 'recall': 0.7288135593220338, 'f1-score': 0.6990241397021058, 'support': 59}}} \n",
      "\n",
      "Cleaning improved the overall score \n",
      "\n",
      "\n",
      "\n"
     ]
    }
   ],
   "source": [
    "from jenga.cleaning.clean import Clean\n",
    "\n",
    "categorical_precision_threshold=0.7\n",
    "numerical_std_error_threshold=2.0\n",
    "\n",
    "clean = Clean(train_data, df_corrupted, categorical_columns, numerical_columns, categorical_precision_threshold, numerical_std_error_threshold, ppp, ppp_model, cleaners)\n",
    "df_outliers, df_cleaned, corrupted_score_ppp, best_cleaning_score, cleaner_scores_ppp, summary_cleaners = clean(train_data, test_data, df_corrupted, cols_perturbed)"
   ]
  },
  {
   "cell_type": "markdown",
   "metadata": {
    "colab_type": "text",
    "id": "TkLn8OXAbJZ0"
   },
   "source": [
    "## Outlier and Imputation scores"
   ]
  },
  {
   "cell_type": "code",
   "execution_count": null,
   "metadata": {
    "ExecuteTime": {
     "end_time": "2021-03-21T21:24:10.974144Z",
     "start_time": "2021-03-21T21:24:10.898044Z"
    },
    "colab": {
     "base_uri": "https://localhost:8080/",
     "height": 1000
    },
    "colab_type": "code",
    "executionInfo": {
     "elapsed": 1217,
     "status": "ok",
     "timestamp": 1599348163508,
     "user": {
      "displayName": "Rupali Sharma",
      "photoUrl": "https://lh3.googleusercontent.com/a-/AOh14GiH6obBahOBk5ezQLBEEgw1DvKRo8haEZvXXnQ83ww=s64",
      "userId": "15074179419258593720"
     },
     "user_tz": -120
    },
    "id": "qd-omOWzPvBB",
    "outputId": "caf19fe8-13e2-4004-f1ce-3177abadbbed",
    "scrolled": true
   },
   "outputs": [],
   "source": [
    "df_outliers"
   ]
  },
  {
   "cell_type": "code",
   "execution_count": null,
   "metadata": {
    "ExecuteTime": {
     "end_time": "2021-03-21T21:24:12.910485Z",
     "start_time": "2021-03-21T21:24:12.842209Z"
    },
    "colab": {
     "base_uri": "https://localhost:8080/",
     "height": 548
    },
    "colab_type": "code",
    "executionInfo": {
     "elapsed": 787,
     "status": "ok",
     "timestamp": 1599234168140,
     "user": {
      "displayName": "Rupali Sharma",
      "photoUrl": "https://lh3.googleusercontent.com/a-/AOh14GiH6obBahOBk5ezQLBEEgw1DvKRo8haEZvXXnQ83ww=s64",
      "userId": "15074179419258593720"
     },
     "user_tz": -120
    },
    "id": "3LAIGrRFPvWz",
    "outputId": "ff2511a3-ecb0-4e2a-896c-38ca1fee17b2",
    "scrolled": true
   },
   "outputs": [],
   "source": [
    "df_cleaned"
   ]
  },
  {
   "cell_type": "code",
   "execution_count": null,
   "metadata": {
    "ExecuteTime": {
     "end_time": "2021-03-21T21:24:54.427455Z",
     "start_time": "2021-03-21T21:24:54.415954Z"
    },
    "colab": {
     "base_uri": "https://localhost:8080/",
     "height": 54
    },
    "colab_type": "code",
    "executionInfo": {
     "elapsed": 848,
     "status": "ok",
     "timestamp": 1599173757348,
     "user": {
      "displayName": "Rupali Sharma",
      "photoUrl": "https://lh3.googleusercontent.com/a-/AOh14GiH6obBahOBk5ezQLBEEgw1DvKRo8haEZvXXnQ83ww=s64",
      "userId": "15074179419258593720"
     },
     "user_tz": -120
    },
    "id": "DyrLfONzJExf",
    "outputId": "cb34c98d-44d9-4dc3-c86f-d58352832fe1"
   },
   "outputs": [],
   "source": [
    "from sklearn.metrics import mean_squared_error\n",
    "\n",
    "mse = []\n",
    "for col in cols_perturbed:\n",
    "    if col in numerical_columns:\n",
    "        mse.append(mean_squared_error(test_data[col], df_cleaned[col]))\n",
    "\n",
    "print(mse)\n",
    "np.mean(mse)"
   ]
  },
  {
   "cell_type": "code",
   "execution_count": null,
   "metadata": {
    "colab": {
     "base_uri": "https://localhost:8080/",
     "height": 55
    },
    "colab_type": "code",
    "executionInfo": {
     "elapsed": 764,
     "status": "ok",
     "timestamp": 1599156531695,
     "user": {
      "displayName": "Rupali Sharma",
      "photoUrl": "https://lh3.googleusercontent.com/a-/AOh14GiH6obBahOBk5ezQLBEEgw1DvKRo8haEZvXXnQ83ww=s64",
      "userId": "15074179419258593720"
     },
     "user_tz": -120
    },
    "id": "J1INaWN_E5Q4",
    "outputId": "e1a5a192-92b7-4ed2-e746-afaddfa3e555"
   },
   "outputs": [],
   "source": [
    "from sklearn.metrics import classification_report\n",
    "print(classification_report(test_data[\"savings_status\"], df_cleaned[\"savings_status\"], output_dict=True))"
   ]
  },
  {
   "cell_type": "code",
   "execution_count": null,
   "metadata": {
    "colab": {
     "base_uri": "https://localhost:8080/",
     "height": 1000
    },
    "colab_type": "code",
    "executionInfo": {
     "elapsed": 841,
     "status": "ok",
     "timestamp": 1599160390211,
     "user": {
      "displayName": "Rupali Sharma",
      "photoUrl": "https://lh3.googleusercontent.com/a-/AOh14GiH6obBahOBk5ezQLBEEgw1DvKRo8haEZvXXnQ83ww=s64",
      "userId": "15074179419258593720"
     },
     "user_tz": -120
    },
    "id": "Czk7l-6JKXLb",
    "outputId": "6268d7c1-1526-4287-a2f9-599d3f2f5ddd"
   },
   "outputs": [],
   "source": [
    "f1socres = []\n",
    "for col in categorical_columns:\n",
    "  print(col)\n",
    "  labels = [k for k in classif_reports[col] if k not in ['accuracy', 'macro avg', 'weighted avg']]\n",
    "  print(labels)\n",
    "\n",
    "  f1s = []\n",
    "  for label in labels:\n",
    "    f1s.append(classif_reports[col][label]['f1-score'])\n",
    "  print(f1s)\n",
    "  \n",
    "  print(np.mean(f1s))\n",
    "  f1socres.append(np.mean(f1s))\n",
    "\n",
    "print(f1socres)\n",
    "np.mean(f1socres)"
   ]
  },
  {
   "cell_type": "code",
   "execution_count": null,
   "metadata": {
    "colab": {},
    "colab_type": "code",
    "id": "ZODkKXvEMAWM"
   },
   "outputs": [],
   "source": []
  },
  {
   "cell_type": "code",
   "execution_count": null,
   "metadata": {
    "colab": {},
    "colab_type": "code",
    "id": "qNSiPB3bE5lF"
   },
   "outputs": [],
   "source": [
    "from sklearn.metrics import classification_report, accuracy_score, mean_squared_error\n",
    "\n",
    "classif_reports = {}\n",
    "acc_scores = []\n",
    "mse = []\n",
    "\n",
    "for col in cols_perturbed:\n",
    "  if col in categorical_columns:\n",
    "    classif_reports[col] = classification_report(test_data[col], df_cleaned[col], output_dict=True)\n",
    "    acc_scores.append(accuracy_score(test_data[col], df_cleaned[col]))\n",
    "  else:\n",
    "    mse.append(mean_squared_error(test_data[col], df_cleaned[col]))"
   ]
  },
  {
   "cell_type": "code",
   "execution_count": null,
   "metadata": {
    "colab": {
     "base_uri": "https://localhost:8080/",
     "height": 35
    },
    "colab_type": "code",
    "executionInfo": {
     "elapsed": 816,
     "status": "ok",
     "timestamp": 1599159779993,
     "user": {
      "displayName": "Rupali Sharma",
      "photoUrl": "https://lh3.googleusercontent.com/a-/AOh14GiH6obBahOBk5ezQLBEEgw1DvKRo8haEZvXXnQ83ww=s64",
      "userId": "15074179419258593720"
     },
     "user_tz": -120
    },
    "id": "K6HrycvwVtT9",
    "outputId": "df602fa5-f971-4832-f10f-617f1b77d028"
   },
   "outputs": [],
   "source": [
    "classif_reports['checking_status']['<0']['f1-score']"
   ]
  },
  {
   "cell_type": "code",
   "execution_count": null,
   "metadata": {
    "colab": {
     "base_uri": "https://localhost:8080/",
     "height": 127
    },
    "colab_type": "code",
    "executionInfo": {
     "elapsed": 562,
     "status": "ok",
     "timestamp": 1599255303062,
     "user": {
      "displayName": "Rupali Sharma",
      "photoUrl": "https://lh3.googleusercontent.com/a-/AOh14GiH6obBahOBk5ezQLBEEgw1DvKRo8haEZvXXnQ83ww=s64",
      "userId": "15074179419258593720"
     },
     "user_tz": -120
    },
    "id": "BOIBIv-9KYAV",
    "outputId": "19d3249f-09ab-4f63-aa5a-137371e8dcd2"
   },
   "outputs": [],
   "source": [
    "f1socres = []\n",
    "recallscores = []\n",
    "precisionscores = []\n",
    "\n",
    "for col in cols_perturbed:\n",
    "  if col in categorical_columns:\n",
    "    labels = [k for k in classif_reports[col] if k not in ['accuracy', 'macro avg', 'weighted avg']]\n",
    "\n",
    "    f1s = []\n",
    "    res = []\n",
    "    pres = []\n",
    "\n",
    "    for label in labels:\n",
    "      f1s.append(classif_reports[col][label]['f1-score'])\n",
    "      res.append(classif_reports[col][label]['recall'])\n",
    "      pres.append(classif_reports[col][label]['precision'])\n",
    "    \n",
    "    f1socres.append(np.mean(f1s))\n",
    "    recallscores.append(np.mean(res))\n",
    "    precisionscores.append(np.mean(pres))\n",
    "\n",
    "print(f\"Mean f1-score: {np.mean(f1socres)}\")\n",
    "print(f\"Mean Recall: {np.mean(recallscores)}\")\n",
    "print(f\"Mean Precision: {np.mean(precisionscores)}\")\n",
    "print(f\"Mean Accuracy: {np.mean(acc_scores)}\\n\")\n",
    "\n",
    "print(f\"Mean MSE: {np.mean(mse)}\")"
   ]
  },
  {
   "cell_type": "code",
   "execution_count": null,
   "metadata": {
    "colab": {},
    "colab_type": "code",
    "id": "4Q7W_aCbKXXI"
   },
   "outputs": [],
   "source": [
    "from sklearn.metrics import classification_report, accuracy_score, mean_squared_error\n",
    "\n",
    "def imputation_scores(df_test, df_cleaned, cols_perturbed, categorical_columns):\n",
    "  classif_reports = {}\n",
    "\n",
    "  acc_scores = []\n",
    "  f1socres = []\n",
    "  recallscores = []\n",
    "  precisionscores = []\n",
    "\n",
    "  mse = []\n",
    "\n",
    "  for col in cols_perturbed:\n",
    "    if col in categorical_columns:\n",
    "      classif_reports[col] = classification_report(df_test[col], df_cleaned[col], output_dict=True)\n",
    "\n",
    "      labels = [k for k in classif_reports[col] if k not in ['accuracy', 'macro avg', 'weighted avg']]\n",
    "\n",
    "      f1s = []\n",
    "      res = []\n",
    "      pres = []\n",
    "\n",
    "      for label in labels:\n",
    "        f1s.append(classif_reports[col][label]['f1-score'])\n",
    "        res.append(classif_reports[col][label]['recall'])\n",
    "        pres.append(classif_reports[col][label]['precision'])\n",
    "      \n",
    "      f1socres.append(np.mean(f1s))\n",
    "      recallscores.append(np.mean(res))\n",
    "      precisionscores.append(np.mean(pres))\n",
    "\n",
    "      acc_scores.append(accuracy_score(df_test[col], df_cleaned[col]))\n",
    "    else:\n",
    "      mse.append(mean_squared_error(df_test[col], df_cleaned[col]))\n",
    "\n",
    "  imputation_scores_summ = {\n",
    "      \"Precision\": np.mean(precisionscores),\n",
    "      \"Recall\": np.mean(recallscores),\n",
    "      \"F1-score\": np.mean(f1socres),\n",
    "      \"Accuracy\": np.mean(acc_scores),\n",
    "      \"Mean Squared Error\": np.mean(mse)\n",
    "  }\n",
    "\n",
    "  return imputation_scores_summ"
   ]
  },
  {
   "cell_type": "code",
   "execution_count": null,
   "metadata": {
    "colab": {
     "base_uri": "https://localhost:8080/",
     "height": 109
    },
    "colab_type": "code",
    "executionInfo": {
     "elapsed": 542,
     "status": "ok",
     "timestamp": 1599257950436,
     "user": {
      "displayName": "Rupali Sharma",
      "photoUrl": "https://lh3.googleusercontent.com/a-/AOh14GiH6obBahOBk5ezQLBEEgw1DvKRo8haEZvXXnQ83ww=s64",
      "userId": "15074179419258593720"
     },
     "user_tz": -120
    },
    "id": "F243HWDfW925",
    "outputId": "f7dc7a89-dc96-4b94-9e32-d1eeefc2702c"
   },
   "outputs": [],
   "source": [
    "imputation_scores(test_data, df_cleaned, cols_perturbed, categorical_columns)"
   ]
  },
  {
   "cell_type": "code",
   "execution_count": null,
   "metadata": {
    "colab": {},
    "colab_type": "code",
    "id": "MIT5CCDaW9u3"
   },
   "outputs": [],
   "source": []
  },
  {
   "cell_type": "code",
   "execution_count": null,
   "metadata": {
    "colab": {
     "base_uri": "https://localhost:8080/",
     "height": 548
    },
    "colab_type": "code",
    "executionInfo": {
     "elapsed": 625,
     "status": "ok",
     "timestamp": 1599255308329,
     "user": {
      "displayName": "Rupali Sharma",
      "photoUrl": "https://lh3.googleusercontent.com/a-/AOh14GiH6obBahOBk5ezQLBEEgw1DvKRo8haEZvXXnQ83ww=s64",
      "userId": "15074179419258593720"
     },
     "user_tz": -120
    },
    "id": "WwLNPCdEWZKH",
    "outputId": "2e4c995f-894e-427b-db5c-8e3377151a68"
   },
   "outputs": [],
   "source": [
    "test_data_out = test_data.copy()\n",
    "test_data_out"
   ]
  },
  {
   "cell_type": "code",
   "execution_count": null,
   "metadata": {
    "colab": {},
    "colab_type": "code",
    "id": "HP1fcEu_KXd7"
   },
   "outputs": [],
   "source": [
    "## compare the corrupted and original column values for manual outlier detection: add binary column, compare with df_outlier _outlier columns"
   ]
  },
  {
   "cell_type": "code",
   "execution_count": null,
   "metadata": {
    "colab": {
     "base_uri": "https://localhost:8080/",
     "height": 237
    },
    "colab_type": "code",
    "executionInfo": {
     "elapsed": 1088,
     "status": "ok",
     "timestamp": 1599255315021,
     "user": {
      "displayName": "Rupali Sharma",
      "photoUrl": "https://lh3.googleusercontent.com/a-/AOh14GiH6obBahOBk5ezQLBEEgw1DvKRo8haEZvXXnQ83ww=s64",
      "userId": "15074179419258593720"
     },
     "user_tz": -120
    },
    "id": "pZQ-vlF1aVL-",
    "outputId": "ef0ef606-dc52-4fb1-d93e-44e4005c3b3e"
   },
   "outputs": [],
   "source": [
    "test_data[\"residence_since\"]"
   ]
  },
  {
   "cell_type": "code",
   "execution_count": null,
   "metadata": {
    "colab": {
     "base_uri": "https://localhost:8080/",
     "height": 237
    },
    "colab_type": "code",
    "executionInfo": {
     "elapsed": 559,
     "status": "ok",
     "timestamp": 1599255317821,
     "user": {
      "displayName": "Rupali Sharma",
      "photoUrl": "https://lh3.googleusercontent.com/a-/AOh14GiH6obBahOBk5ezQLBEEgw1DvKRo8haEZvXXnQ83ww=s64",
      "userId": "15074179419258593720"
     },
     "user_tz": -120
    },
    "id": "V7g2Dbh7aVEv",
    "outputId": "b4f1cbc5-9a2c-4377-f703-558d1b8333e4"
   },
   "outputs": [],
   "source": [
    "df_corrupted[\"residence_since\"]"
   ]
  },
  {
   "cell_type": "code",
   "execution_count": null,
   "metadata": {
    "colab": {
     "base_uri": "https://localhost:8080/",
     "height": 424
    },
    "colab_type": "code",
    "executionInfo": {
     "elapsed": 536,
     "status": "ok",
     "timestamp": 1599255322808,
     "user": {
      "displayName": "Rupali Sharma",
      "photoUrl": "https://lh3.googleusercontent.com/a-/AOh14GiH6obBahOBk5ezQLBEEgw1DvKRo8haEZvXXnQ83ww=s64",
      "userId": "15074179419258593720"
     },
     "user_tz": -120
    },
    "id": "K9oFWlAQae2g",
    "outputId": "0619a6bd-a365-4c25-f5f6-7c40d3788d4a"
   },
   "outputs": [],
   "source": [
    "df_outliers[[\"residence_since\", \"residence_since_outlier\"]]"
   ]
  },
  {
   "cell_type": "code",
   "execution_count": null,
   "metadata": {
    "colab": {},
    "colab_type": "code",
    "id": "Ayd5jXYsae85"
   },
   "outputs": [],
   "source": []
  },
  {
   "cell_type": "code",
   "execution_count": null,
   "metadata": {
    "colab": {
     "base_uri": "https://localhost:8080/",
     "height": 219
    },
    "colab_type": "code",
    "executionInfo": {
     "elapsed": 544,
     "status": "ok",
     "timestamp": 1599255346854,
     "user": {
      "displayName": "Rupali Sharma",
      "photoUrl": "https://lh3.googleusercontent.com/a-/AOh14GiH6obBahOBk5ezQLBEEgw1DvKRo8haEZvXXnQ83ww=s64",
      "userId": "15074179419258593720"
     },
     "user_tz": -120
    },
    "id": "luqWd0Vjae7P",
    "outputId": "33e5eb2c-eaf9-45c3-8894-bc806428d064"
   },
   "outputs": [],
   "source": [
    "outiers_man = np.equal(test_data[\"residence_since\"], df_corrupted[\"residence_since\"])\n",
    "outiers_man_ind = outiers_man.index[outiers_man == False]\n",
    "print(outiers_man_ind)\n",
    "\n",
    "non_outliers_man_ind = test_data_out.loc[set(test_data_out.index) - set(outiers_man_ind)].index\n",
    "print(non_outliers_man_ind)"
   ]
  },
  {
   "cell_type": "code",
   "execution_count": null,
   "metadata": {
    "colab": {},
    "colab_type": "code",
    "id": "0sIpqMSJgTT3"
   },
   "outputs": [],
   "source": [
    "test_data_out.loc[outiers_man_ind, \"residence_since_outlier\"] = 1 ## outliers\n",
    "test_data_out.loc[non_outliers_man_ind, \"residence_since_outlier\"] = 0 ## not outliers"
   ]
  },
  {
   "cell_type": "code",
   "execution_count": null,
   "metadata": {
    "colab": {
     "base_uri": "https://localhost:8080/",
     "height": 424
    },
    "colab_type": "code",
    "executionInfo": {
     "elapsed": 544,
     "status": "ok",
     "timestamp": 1599255543710,
     "user": {
      "displayName": "Rupali Sharma",
      "photoUrl": "https://lh3.googleusercontent.com/a-/AOh14GiH6obBahOBk5ezQLBEEgw1DvKRo8haEZvXXnQ83ww=s64",
      "userId": "15074179419258593720"
     },
     "user_tz": -120
    },
    "id": "eJbftMjsileo",
    "outputId": "5bc3f9de-62e6-4e45-fdea-e02e7494e771"
   },
   "outputs": [],
   "source": [
    "pd.concat([df_corrupted[\"residence_since\"], test_data_out[[\"residence_since\", \"residence_since_outlier\"]], df_outliers[\"residence_since_outlier\"]], axis=1)"
   ]
  },
  {
   "cell_type": "code",
   "execution_count": null,
   "metadata": {
    "colab": {
     "base_uri": "https://localhost:8080/",
     "height": 182
    },
    "colab_type": "code",
    "executionInfo": {
     "elapsed": 535,
     "status": "ok",
     "timestamp": 1599255508547,
     "user": {
      "displayName": "Rupali Sharma",
      "photoUrl": "https://lh3.googleusercontent.com/a-/AOh14GiH6obBahOBk5ezQLBEEgw1DvKRo8haEZvXXnQ83ww=s64",
      "userId": "15074179419258593720"
     },
     "user_tz": -120
    },
    "id": "dhddt5G-gTlz",
    "outputId": "d38719e4-23d6-4bfd-8c6d-bc0000430ba8"
   },
   "outputs": [],
   "source": [
    "from sklearn.metrics import classification_report\n",
    "print(classification_report(test_data_out[\"residence_since_outlier\"], df_outliers[\"residence_since_outlier\"]))"
   ]
  },
  {
   "cell_type": "code",
   "execution_count": null,
   "metadata": {
    "colab": {
     "base_uri": "https://localhost:8080/",
     "height": 1000
    },
    "colab_type": "code",
    "executionInfo": {
     "elapsed": 783,
     "status": "ok",
     "timestamp": 1599259642877,
     "user": {
      "displayName": "Rupali Sharma",
      "photoUrl": "https://lh3.googleusercontent.com/a-/AOh14GiH6obBahOBk5ezQLBEEgw1DvKRo8haEZvXXnQ83ww=s64",
      "userId": "15074179419258593720"
     },
     "user_tz": -120
    },
    "id": "VJy8aDS2gTiC",
    "outputId": "a428890f-ff98-4ebf-b6c7-e5527bb51641"
   },
   "outputs": [],
   "source": [
    "from sklearn.metrics import classification_report\n",
    "\n",
    "test_data_out = test_data.copy()\n",
    "\n",
    "classif_reports = {}\n",
    "acc_scores = []\n",
    "f1socres = []\n",
    "recallscores = []\n",
    "precisionscores = []\n",
    "\n",
    "for col in cols_perturbed:\n",
    "  print(col)\n",
    "  outiers_man = np.equal(test_data[col], df_corrupted[col])\n",
    "  outiers_man_ind = outiers_man.index[outiers_man == False]\n",
    "  print(outiers_man_ind)\n",
    "\n",
    "  non_outliers_man_ind = test_data_out.loc[set(test_data_out.index) - set(outiers_man_ind)].index\n",
    "  print(non_outliers_man_ind)\n",
    "\n",
    "  test_data_out.loc[outiers_man_ind, col + \"_outlier\"] = 1 ## outliers\n",
    "  test_data_out.loc[non_outliers_man_ind, col + \"_outlier\"] = 0 ## not outliers\n",
    "\n",
    "  print(classification_report(test_data_out[col + \"_outlier\"], df_outliers[col + \"_outlier\"]))\n",
    "  classif_reports[col] = classification_report(test_data_out[col + \"_outlier\"], df_outliers[col + \"_outlier\"], output_dict=True)\n",
    "\n",
    "  labels = [k for k in classif_reports[col] if k not in ['accuracy', 'macro avg', 'weighted avg']]\n",
    "\n",
    "  f1s = []\n",
    "  res = []\n",
    "  pres = []\n",
    "\n",
    "  for label in labels:\n",
    "    f1s.append(classif_reports[col][label]['f1-score'])\n",
    "    res.append(classif_reports[col][label]['recall'])\n",
    "    pres.append(classif_reports[col][label]['precision'])\n",
    "  \n",
    "  f1socres.append(np.mean(f1s))\n",
    "  recallscores.append(np.mean(res))\n",
    "  precisionscores.append(np.mean(pres))\n",
    "\n",
    "  acc_scores.append(accuracy_score(test_data_out[col + \"_outlier\"], df_outliers[col + \"_outlier\"]))\n",
    "\n",
    "print(f\"Mean f1-score: {np.mean(f1socres)}\")\n",
    "print(f\"Mean Recall: {np.mean(recallscores)}\")\n",
    "print(f\"Mean Precision: {np.mean(precisionscores)}\")\n",
    "print(f\"Mean Accuracy: {np.mean(acc_scores)}\\n\")\n"
   ]
  },
  {
   "cell_type": "code",
   "execution_count": null,
   "metadata": {
    "colab": {
     "base_uri": "https://localhost:8080/",
     "height": 548
    },
    "colab_type": "code",
    "executionInfo": {
     "elapsed": 824,
     "status": "ok",
     "timestamp": 1599258628546,
     "user": {
      "displayName": "Rupali Sharma",
      "photoUrl": "https://lh3.googleusercontent.com/a-/AOh14GiH6obBahOBk5ezQLBEEgw1DvKRo8haEZvXXnQ83ww=s64",
      "userId": "15074179419258593720"
     },
     "user_tz": -120
    },
    "id": "NrOFh4kBPgQy",
    "outputId": "547a42c7-0f9d-4265-9717-f1da9fb5f8d0"
   },
   "outputs": [],
   "source": [
    "test_data_out"
   ]
  },
  {
   "cell_type": "code",
   "execution_count": null,
   "metadata": {
    "colab": {},
    "colab_type": "code",
    "id": "nvgPvXdzOTAV"
   },
   "outputs": [],
   "source": [
    "def outlier_detection_scores(df_test, df_corrupted, df_outliers, cols_perturbed):\n",
    "  df_test_out = df_test.copy()\n",
    "\n",
    "  classif_reports = {}\n",
    "  acc_scores = []\n",
    "  f1socres = []\n",
    "  recallscores = []\n",
    "  precisionscores = []\n",
    "\n",
    "  for col in cols_perturbed:\n",
    "    outiers_man = np.equal(df_test[col], df_corrupted[col])\n",
    "    outiers_man_ind = outiers_man.index[outiers_man == False]\n",
    "\n",
    "    non_outliers_man_ind = df_test_out.loc[set(df_test_out.index) - set(outiers_man_ind)].index\n",
    "\n",
    "    df_test_out.loc[outiers_man_ind, col + \"_outlier\"] = 1 ## outliers\n",
    "    df_test_out.loc[non_outliers_man_ind, col + \"_outlier\"] = 0 ## not outliers\n",
    "\n",
    "    classif_reports[col] = classification_report(df_test_out[col + \"_outlier\"], df_outliers[col + \"_outlier\"], output_dict=True)\n",
    "\n",
    "    labels = [k for k in classif_reports[col] if k not in ['accuracy', 'macro avg', 'weighted avg']]\n",
    "\n",
    "    f1s = []\n",
    "    res = []\n",
    "    pres = []\n",
    "\n",
    "    for label in labels:\n",
    "      f1s.append(classif_reports[col][label]['f1-score'])\n",
    "      res.append(classif_reports[col][label]['recall'])\n",
    "      pres.append(classif_reports[col][label]['precision'])\n",
    "    \n",
    "    f1socres.append(np.mean(f1s))\n",
    "    recallscores.append(np.mean(res))\n",
    "    precisionscores.append(np.mean(pres))\n",
    "\n",
    "    acc_scores.append(accuracy_score(df_test_out[col + \"_outlier\"], df_outliers[col + \"_outlier\"]))\n",
    "\n",
    "  od_scores_summ = {\n",
    "      \"Precision\": np.mean(precisionscores),\n",
    "      \"Recall\": np.mean(recallscores),\n",
    "      \"F1-score\": np.mean(f1socres),\n",
    "      \"Accuracy\": np.mean(acc_scores)\n",
    "  }\n",
    "\n",
    "  return od_scores_summ"
   ]
  },
  {
   "cell_type": "code",
   "execution_count": null,
   "metadata": {
    "colab": {
     "base_uri": "https://localhost:8080/",
     "height": 90
    },
    "colab_type": "code",
    "executionInfo": {
     "elapsed": 557,
     "status": "ok",
     "timestamp": 1599260027897,
     "user": {
      "displayName": "Rupali Sharma",
      "photoUrl": "https://lh3.googleusercontent.com/a-/AOh14GiH6obBahOBk5ezQLBEEgw1DvKRo8haEZvXXnQ83ww=s64",
      "userId": "15074179419258593720"
     },
     "user_tz": -120
    },
    "id": "3gmuwoT9UmB9",
    "outputId": "a493561d-1702-41c1-c88c-3d4ac7d10ea1"
   },
   "outputs": [],
   "source": [
    "outlier_detection_scores(test_data, df_corrupted, df_outliers, cols_perturbed)"
   ]
  }
 ],
 "metadata": {
  "colab": {
   "collapsed_sections": [
    "TkLn8OXAbJZ0"
   ],
   "name": "experimental_setup_od_imp_scores_ind.ipynb",
   "provenance": []
  },
  "kernelspec": {
   "display_name": "Python 3",
   "language": "python",
   "name": "python3"
  },
  "language_info": {
   "codemirror_mode": {
    "name": "ipython",
    "version": 3
   },
   "file_extension": ".py",
   "mimetype": "text/x-python",
   "name": "python",
   "nbconvert_exporter": "python",
   "pygments_lexer": "ipython3",
   "version": "3.8.5"
  },
  "toc": {
   "base_numbering": 1,
   "nav_menu": {},
   "number_sections": true,
   "sideBar": true,
   "skip_h1_title": false,
   "title_cell": "Table of Contents",
   "title_sidebar": "Contents",
   "toc_cell": false,
   "toc_position": {
    "height": "calc(100% - 180px)",
    "left": "10px",
    "top": "150px",
    "width": "310.5px"
   },
   "toc_section_display": true,
   "toc_window_display": true
  }
 },
 "nbformat": 4,
 "nbformat_minor": 1
}
