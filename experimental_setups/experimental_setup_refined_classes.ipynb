{
 "cells": [
  {
   "cell_type": "markdown",
   "metadata": {
    "id": "5J3YuFydIxdZ"
   },
   "source": [
    "## Dataset"
   ]
  },
  {
   "cell_type": "code",
   "execution_count": 1,
   "metadata": {
    "ExecuteTime": {
     "end_time": "2021-03-21T22:23:16.663897Z",
     "start_time": "2021-03-21T22:23:16.655176Z"
    },
    "colab": {
     "base_uri": "https://localhost:8080/",
     "height": 201
    },
    "executionInfo": {
     "elapsed": 890,
     "status": "ok",
     "timestamp": 1602200906998,
     "user": {
      "displayName": "Rupali Sharma",
      "photoUrl": "https://lh3.googleusercontent.com/a-/AOh14GiH6obBahOBk5ezQLBEEgw1DvKRo8haEZvXXnQ83ww=s64",
      "userId": "15074179419258593720"
     },
     "user_tz": -120
    },
    "id": "fayndmIqCkMZ",
    "outputId": "1abf3bdb-4da6-4f49-a259-7d16a6301bf4",
    "scrolled": true,
    "tags": []
   },
   "outputs": [],
   "source": [
    "import warnings\n",
    "warnings.filterwarnings('ignore')\n",
    "\n",
    "import sys\n",
    "sys.path.append('/home/rupali/Documents/Master Thesis/jenga')"
   ]
  },
  {
   "cell_type": "code",
   "execution_count": 2,
   "metadata": {
    "ExecuteTime": {
     "end_time": "2021-03-21T22:23:19.596871Z",
     "start_time": "2021-03-21T22:23:16.666924Z"
    },
    "executionInfo": {
     "elapsed": 2933,
     "status": "ok",
     "timestamp": 1602200928350,
     "user": {
      "displayName": "Rupali Sharma",
      "photoUrl": "https://lh3.googleusercontent.com/a-/AOh14GiH6obBahOBk5ezQLBEEgw1DvKRo8haEZvXXnQ83ww=s64",
      "userId": "15074179419258593720"
     },
     "user_tz": -120
    },
    "id": "2Ag3FZmFIxdb",
    "tags": []
   },
   "outputs": [],
   "source": [
    "import pandas as pd\n",
    "import numpy as np\n",
    "import seaborn as sns\n",
    "import matplotlib.pyplot as plt\n",
    "\n",
    "from jenga.basis import Dataset"
   ]
  },
  {
   "cell_type": "code",
   "execution_count": 3,
   "metadata": {
    "ExecuteTime": {
     "end_time": "2021-03-21T22:23:20.099765Z",
     "start_time": "2021-03-21T22:23:19.599516Z"
    },
    "colab": {
     "base_uri": "https://localhost:8080/",
     "height": 72
    },
    "executionInfo": {
     "elapsed": 1931,
     "status": "ok",
     "timestamp": 1602200931653,
     "user": {
      "displayName": "Rupali Sharma",
      "photoUrl": "https://lh3.googleusercontent.com/a-/AOh14GiH6obBahOBk5ezQLBEEgw1DvKRo8haEZvXXnQ83ww=s64",
      "userId": "15074179419258593720"
     },
     "user_tz": -120
    },
    "id": "btvkVjkhIxeB",
    "outputId": "cf836a29-78fc-4651-e5d7-3f8554bd81db",
    "scrolled": true,
    "tags": []
   },
   "outputs": [
    {
     "name": "stdout",
     "output_type": "stream",
     "text": [
      "Dataset: acute-inflammations\n",
      "Found 5 categorical and 1 numeric features \n",
      "\n"
     ]
    }
   ],
   "source": [
    "dataset = Dataset(\"acute-inflammations\")\n",
    "\n",
    "all_data = dataset.all_data\n",
    "attribute_names = dataset.attribute_names\n",
    "attribute_types = dataset.attribute_types\n",
    "\n",
    "categorical_columns = dataset.categorical_columns\n",
    "numerical_columns = dataset.numerical_columns\n",
    "\n",
    "print(f\"Found {len(categorical_columns)} categorical and {len(numerical_columns)} numeric features \\n\")"
   ]
  },
  {
   "cell_type": "markdown",
   "metadata": {
    "heading_collapsed": true,
    "id": "zAftqPZ3Ixel"
   },
   "source": [
    "### Visualize the dataset"
   ]
  },
  {
   "cell_type": "code",
   "execution_count": 13,
   "metadata": {
    "ExecuteTime": {
     "end_time": "2021-03-21T21:27:12.272510Z",
     "start_time": "2021-03-21T21:27:12.266685Z"
    },
    "hidden": true,
    "id": "ngMsX7a_Ixem",
    "jupyter": {
     "source_hidden": true
    }
   },
   "outputs": [],
   "source": [
    "## plot the original dataset\n",
    "def hide_current_axis(*args, **kwds):\n",
    "        plt.gca().set_visible(False)\n",
    "        \n",
    "def plot_data(data):\n",
    "    sns.set_style(\"white\") # grid/no grid style: darkgrid, whitegrid, dark, white, ticks\n",
    "    \n",
    "    plot = sns.pairplot(data, hue=\"class\")\n",
    "    plot.map_upper(hide_current_axis)\n",
    "    plt.show()"
   ]
  },
  {
   "cell_type": "code",
   "execution_count": 14,
   "metadata": {
    "ExecuteTime": {
     "end_time": "2021-03-21T21:27:13.036455Z",
     "start_time": "2021-03-21T21:27:12.276721Z"
    },
    "hidden": true,
    "id": "gvPzUqAgIxev",
    "jupyter": {
     "source_hidden": true
    }
   },
   "outputs": [
    {
     "data": {
      "image/png": "[encoded data removed]",
      "text/plain": [
       "<Figure size 213x180 with 2 Axes>"
      ]
     },
     "metadata": {},
     "output_type": "display_data"
    }
   ],
   "source": [
    "plot_data(all_data)"
   ]
  },
  {
   "cell_type": "markdown",
   "metadata": {
    "id": "8svnusk-Ixe2"
   },
   "source": [
    "### Get training and test sets"
   ]
  },
  {
   "cell_type": "code",
   "execution_count": 4,
   "metadata": {
    "ExecuteTime": {
     "end_time": "2021-03-21T22:23:20.300617Z",
     "start_time": "2021-03-21T22:23:20.288302Z"
    },
    "executionInfo": {
     "elapsed": 832,
     "status": "ok",
     "timestamp": 1602200935662,
     "user": {
      "displayName": "Rupali Sharma",
      "photoUrl": "https://lh3.googleusercontent.com/a-/AOh14GiH6obBahOBk5ezQLBEEgw1DvKRo8haEZvXXnQ83ww=s64",
      "userId": "15074179419258593720"
     },
     "user_tz": -120
    },
    "id": "773WHs-7Ixe3",
    "scrolled": true,
    "tags": []
   },
   "outputs": [],
   "source": [
    "train_data, train_labels, test_data, test_labels = dataset.get_train_test_data(0.3)"
   ]
  },
  {
   "cell_type": "code",
   "execution_count": 30,
   "metadata": {
    "ExecuteTime": {
     "end_time": "2021-03-21T22:19:34.247470Z",
     "start_time": "2021-03-21T22:19:34.236413Z"
    }
   },
   "outputs": [],
   "source": [
    "## use categorical columns as strings\n",
    "def cat_cols_to_str(df):\n",
    "    for col in df.columns:\n",
    "        if pd.api.types.is_categorical_dtype(df[col]):\n",
    "            df[col] = df[col].astype(str)\n",
    "\n",
    "    return df"
   ]
  },
  {
   "cell_type": "code",
   "execution_count": 31,
   "metadata": {
    "ExecuteTime": {
     "end_time": "2021-03-21T22:19:34.278903Z",
     "start_time": "2021-03-21T22:19:34.249797Z"
    }
   },
   "outputs": [],
   "source": [
    "train_data = cat_cols_to_str(train_data)\n",
    "test_data = cat_cols_to_str(test_data)"
   ]
  },
  {
   "cell_type": "markdown",
   "metadata": {
    "heading_collapsed": true,
    "id": "LlqGYzOaIxe_"
   },
   "source": [
    "## Model"
   ]
  },
  {
   "cell_type": "markdown",
   "metadata": {
    "hidden": true,
    "id": "sQJP7miCXMIu"
   },
   "source": [
    "### Model using AutoGluon"
   ]
  },
  {
   "cell_type": "code",
   "execution_count": 16,
   "metadata": {
    "ExecuteTime": {
     "end_time": "2021-03-21T21:27:13.603637Z",
     "start_time": "2021-03-21T21:27:13.053048Z"
    },
    "colab": {
     "base_uri": "https://localhost:8080/",
     "height": 393
    },
    "executionInfo": {
     "elapsed": 634,
     "status": "error",
     "timestamp": 1595325657850,
     "user": {
      "displayName": "Rupali Sharma",
      "photoUrl": "https://lh3.googleusercontent.com/a-/AOh14GiH6obBahOBk5ezQLBEEgw1DvKRo8haEZvXXnQ83ww=s64",
      "userId": "15074179419258593720"
     },
     "user_tz": -120
    },
    "hidden": true,
    "id": "FDwGJP9PR1T5",
    "jupyter": {
     "source_hidden": true
    },
    "outputId": "e2d6f123-4a0a-4866-d00d-2d2a58cea0b4"
   },
   "outputs": [
    {
     "ename": "ModuleNotFoundError",
     "evalue": "No module named 'autogluon'",
     "output_type": "error",
     "traceback": [
      "\u001b[0;31m---------------------------------------------------------------------------\u001b[0m",
      "\u001b[0;31mModuleNotFoundError\u001b[0m                       Traceback (most recent call last)",
      "\u001b[0;32m<ipython-input-16-9fd5b28213c0>\u001b[0m in \u001b[0;36m<module>\u001b[0;34m\u001b[0m\n\u001b[0;32m----> 1\u001b[0;31m \u001b[0;32mimport\u001b[0m \u001b[0mautogluon\u001b[0m \u001b[0;32mas\u001b[0m \u001b[0mag\u001b[0m\u001b[0;34m\u001b[0m\u001b[0;34m\u001b[0m\u001b[0m\n\u001b[0m\u001b[1;32m      2\u001b[0m \u001b[0;32mfrom\u001b[0m \u001b[0mautogluon\u001b[0m \u001b[0;32mimport\u001b[0m \u001b[0mTabularPrediction\u001b[0m \u001b[0;32mas\u001b[0m \u001b[0mtask\u001b[0m\u001b[0;34m\u001b[0m\u001b[0;34m\u001b[0m\u001b[0m\n\u001b[1;32m      3\u001b[0m \u001b[0;34m\u001b[0m\u001b[0m\n\u001b[1;32m      4\u001b[0m \u001b[0mlabel_col\u001b[0m \u001b[0;34m=\u001b[0m \u001b[0;34m'class'\u001b[0m\u001b[0;34m\u001b[0m\u001b[0;34m\u001b[0m\u001b[0m\n\u001b[1;32m      5\u001b[0m \u001b[0;34m\u001b[0m\u001b[0m\n",
      "\u001b[0;31mModuleNotFoundError\u001b[0m: No module named 'autogluon'"
     ]
    }
   ],
   "source": [
    "import autogluon as ag\n",
    "from autogluon import TabularPrediction as task\n",
    "\n",
    "label_col = 'class'\n",
    "\n",
    "tr_data = train_data\n",
    "tr_data[label_col] = train_labels\n",
    "\n",
    "model = task.fit(train_data=tr_data, label=label_col)\n",
    "\n",
    "# predictions\n",
    "y_pred = model.predict(test_data)\n",
    "\n",
    "# predictor performance\n",
    "perf = model.evaluate_predictions(y_true=test_labels, y_pred=y_pred, auxiliary_metrics=True)"
   ]
  },
  {
   "cell_type": "code",
   "execution_count": null,
   "metadata": {
    "hidden": true,
    "id": "eIRpKXhARXVK",
    "jupyter": {
     "source_hidden": true
    }
   },
   "outputs": [],
   "source": []
  },
  {
   "cell_type": "code",
   "execution_count": null,
   "metadata": {
    "ExecuteTime": {
     "end_time": "2021-03-21T21:27:13.609100Z",
     "start_time": "2021-03-21T21:27:12.032Z"
    },
    "hidden": true,
    "id": "f7JbgMFdIxfQ",
    "jupyter": {
     "source_hidden": true
    }
   },
   "outputs": [],
   "source": [
    "import random\n",
    "import numpy as np\n",
    "\n",
    "from sklearn.model_selection import GridSearchCV\n",
    "from sklearn.metrics import roc_auc_score\n",
    "\n",
    "import autogluon as ag\n",
    "from autogluon import TabularPrediction as task\n",
    "\n",
    "\n",
    "class Model:\n",
    "\n",
    "  def __init__(self, seed, train_data, train_labels, test_data, test_labels, pipeline, learner, param_grid):\n",
    "\n",
    "    ## fix random seeds for reproducibility\n",
    "    random.seed(seed)\n",
    "    np.random.seed(seed)\n",
    "    \n",
    "    ## train and test data and labels\n",
    "    self.train_data = train_data\n",
    "    self.train_labels = train_labels\n",
    "    self.test_data = test_data\n",
    "    self.test_labels = test_labels\n",
    "    \n",
    "    ## preprocessing pipeline\n",
    "    self.pipeline = pipeline\n",
    "    \n",
    "    ## information for model parameters\n",
    "    self.learner = learner\n",
    "    self.param_grid = param_grid\n",
    "    \n",
    "  \n",
    "  def __repr__(self):\n",
    "    return f\"{self.__class__.__name__}: {self.__dict__}\"\n",
    "  \n",
    "  \n",
    "  # method for training a model on the raw data with preprocessing\n",
    "  def fit_model(self):\n",
    "\n",
    "    if self.learner == 'autogluon':\n",
    "      label_col = 'class'\n",
    "      \n",
    "      tr_data = self.train_data\n",
    "      tr_data[label_col] = self.train_labels\n",
    "      \n",
    "      model = task.fit(train_data=tr_data, label=label_col)\n",
    "\n",
    "      return model\n",
    "    else:\n",
    "      grid_search = GridSearchCV(self.pipeline, self.param_grid, scoring='roc_auc', cv=5, verbose=1, n_jobs=-1)\n",
    "      model = grid_search.fit(self.train_data, self.train_labels)\n",
    "\n",
    "      return model\n",
    "\n",
    "  # method for computing evaluation scores\n",
    "  def eval_scores(self, model):\n",
    "    if self.learner == 'autogluon':\n",
    "      # predictions\n",
    "      y_pred = model.predict(self.test_data)\n",
    "      \n",
    "      # predictor performance\n",
    "      perf = model.evaluate_predictions(y_true=self.test_labels, y_pred=y_pred, auxiliary_metrics=True)\n",
    "      \n",
    "      return perf\n",
    "    else:\n",
    "      pred_prob = model.predict_proba(self.test_data)\n",
    "      roc_auc_acore = roc_auc_score(self.test_labels, np.transpose(pred_prob)[1])\n",
    "      \n",
    "      return roc_auc_acore\n",
    "    "
   ]
  },
  {
   "cell_type": "code",
   "execution_count": null,
   "metadata": {
    "ExecuteTime": {
     "end_time": "2021-03-21T21:27:13.611437Z",
     "start_time": "2021-03-21T21:27:12.039Z"
    },
    "hidden": true,
    "id": "23O_n-STbg9h",
    "jupyter": {
     "source_hidden": true
    }
   },
   "outputs": [],
   "source": [
    "## define preprocessing pipeline if not given\n",
    "from sklearn.pipeline import Pipeline\n",
    "from sklearn.impute import SimpleImputer\n",
    "from sklearn.preprocessing import OneHotEncoder, StandardScaler\n",
    "from sklearn.compose import ColumnTransformer\n",
    "\n",
    "def get_pipeline(learner):\n",
    "  # preprocessing pipeline for numerical columns\n",
    "  transformer_numeric = Pipeline([\n",
    "      ('imputer', SimpleImputer(strategy='constant', fill_value=0)),\n",
    "      ('standard_scale', StandardScaler())\n",
    "  ])\n",
    "\n",
    "  # preprocessing pipeline for categorical columns\n",
    "  transformer_categorical = Pipeline([\n",
    "      ('imputer', SimpleImputer(strategy='constant', fill_value='__NA__')),\n",
    "      ('one_hot_encode', OneHotEncoder(handle_unknown='ignore'))\n",
    "  ])\n",
    "\n",
    "  # preprocessor\n",
    "  feature_transform = ColumnTransformer(transformers=[\n",
    "      ('categorical_features', transformer_categorical, categorical_columns),\n",
    "      ('numerical_features', transformer_numeric, numerical_columns)\n",
    "  ])\n",
    "\n",
    "  ## prediction pipeline: append classifier (learner) to the preprocessing pipeline\n",
    "  pipeline = Pipeline([\n",
    "      ('features', feature_transform),\n",
    "      ('learner', learner)\n",
    "  ])\n",
    "\n",
    "  return pipeline"
   ]
  },
  {
   "cell_type": "code",
   "execution_count": null,
   "metadata": {
    "ExecuteTime": {
     "end_time": "2021-03-21T21:27:13.613412Z",
     "start_time": "2021-03-21T21:27:12.045Z"
    },
    "colab": {
     "base_uri": "https://localhost:8080/",
     "height": 1000
    },
    "executionInfo": {
     "elapsed": 13487,
     "status": "ok",
     "timestamp": 1595253621537,
     "user": {
      "displayName": "Rupali Sharma",
      "photoUrl": "https://lh3.googleusercontent.com/a-/AOh14GiH6obBahOBk5ezQLBEEgw1DvKRo8haEZvXXnQ83ww=s64",
      "userId": "15074179419258593720"
     },
     "user_tz": -120
    },
    "hidden": true,
    "id": "ibrM4t6SXPpg",
    "jupyter": {
     "source_hidden": true
    },
    "outputId": "fa77f58e-f350-4aa4-f092-62255e312d91"
   },
   "outputs": [],
   "source": [
    "# test autogluon\n",
    "# pipeline in the case of autogluon is not used so anything is given\n",
    "model_obj = Model(seed, train_data, train_labels, test_data, test_labels, get_pipeline(SGDClassifier(loss='log')), learner=\"autogluon\", param_grid={})\n",
    "model = model_obj.fit_model()\n",
    "scores = model_obj.eval_scores(model)"
   ]
  },
  {
   "cell_type": "code",
   "execution_count": null,
   "metadata": {
    "hidden": true,
    "id": "S_A1OmXVXQFX",
    "jupyter": {
     "source_hidden": true
    }
   },
   "outputs": [],
   "source": []
  },
  {
   "cell_type": "code",
   "execution_count": null,
   "metadata": {
    "ExecuteTime": {
     "end_time": "2021-03-21T21:27:13.615551Z",
     "start_time": "2021-03-21T21:27:12.053Z"
    },
    "hidden": true,
    "id": "0WjjwzBPdWRh",
    "jupyter": {
     "source_hidden": true
    }
   },
   "outputs": [],
   "source": [
    "## model parameters\n",
    "## models is a dict where key = leaner & value = param_grid\n",
    "from sklearn.linear_model import SGDClassifier\n",
    "from sklearn.ensemble import RandomForestClassifier\n",
    "\n",
    "models = {SGDClassifier(loss='log'): {'learner__max_iter': [500, 1000, 5000], \n",
    "                                         'learner__penalty': ['l2', 'l1', 'elasticnet'], \n",
    "                                         'learner__alpha': [0.0001, 0.001, 0.01, 0.1]\n",
    "                                        }, \n",
    "          RandomForestClassifier():{'learner__n_estimators': [100, 200, 500], \n",
    "                                    'learner__max_depth': [5, 10, 15]\n",
    "                                   },\n",
    "          \"autogluon\": {}\n",
    "         }"
   ]
  },
  {
   "cell_type": "code",
   "execution_count": null,
   "metadata": {
    "ExecuteTime": {
     "end_time": "2021-03-21T21:27:13.617793Z",
     "start_time": "2021-03-21T21:27:12.058Z"
    },
    "colab": {
     "base_uri": "https://localhost:8080/",
     "height": 313
    },
    "executionInfo": {
     "elapsed": 681,
     "status": "ok",
     "timestamp": 1595254127331,
     "user": {
      "displayName": "Rupali Sharma",
      "photoUrl": "https://lh3.googleusercontent.com/a-/AOh14GiH6obBahOBk5ezQLBEEgw1DvKRo8haEZvXXnQ83ww=s64",
      "userId": "15074179419258593720"
     },
     "user_tz": -120
    },
    "hidden": true,
    "id": "JxA98LJwgups",
    "jupyter": {
     "source_hidden": true
    },
    "outputId": "893f3e3a-c5c2-47c6-ec1a-2ecd4ff1c179"
   },
   "outputs": [],
   "source": [
    "for learner, param_grid in models.items():\n",
    "  print(learner, param_grid)"
   ]
  },
  {
   "cell_type": "code",
   "execution_count": null,
   "metadata": {
    "ExecuteTime": {
     "end_time": "2021-03-21T21:27:13.620301Z",
     "start_time": "2021-03-21T21:27:12.063Z"
    },
    "colab": {
     "base_uri": "https://localhost:8080/",
     "height": 1000
    },
    "executionInfo": {
     "elapsed": 50236,
     "status": "ok",
     "timestamp": 1595254185181,
     "user": {
      "displayName": "Rupali Sharma",
      "photoUrl": "https://lh3.googleusercontent.com/a-/AOh14GiH6obBahOBk5ezQLBEEgw1DvKRo8haEZvXXnQ83ww=s64",
      "userId": "15074179419258593720"
     },
     "user_tz": -120
    },
    "hidden": true,
    "id": "TUNxH6LGezKu",
    "jupyter": {
     "source_hidden": true
    },
    "outputId": "3be2f599-172b-4a74-d6f0-747c2cf8f70e"
   },
   "outputs": [],
   "source": [
    "model_summary = []\n",
    "scores_summary = []\n",
    "\n",
    "for learner, param_grid in models.items():\n",
    "  pipeline = None\n",
    "  \n",
    "  if learner == 'autogluon':\n",
    "    pipeline = get_pipeline(SGDClassifier(loss='log'))\n",
    "  else:\n",
    "    pipeline = get_pipeline(learner)\n",
    "  \n",
    "  model_obj = Model(seed, train_data, train_labels, test_data, test_labels, pipeline, learner, param_grid)\n",
    "  \n",
    "  model = model_obj.fit_model()\n",
    "  model_summary.append(model)\n",
    "\n",
    "  scores = model_obj.eval_scores(model)\n",
    "  scores_summary.append(scores)"
   ]
  },
  {
   "cell_type": "code",
   "execution_count": null,
   "metadata": {
    "ExecuteTime": {
     "end_time": "2021-03-21T21:27:13.622678Z",
     "start_time": "2021-03-21T21:27:12.067Z"
    },
    "colab": {
     "base_uri": "https://localhost:8080/",
     "height": 1000
    },
    "executionInfo": {
     "elapsed": 921,
     "status": "ok",
     "timestamp": 1595254199098,
     "user": {
      "displayName": "Rupali Sharma",
      "photoUrl": "https://lh3.googleusercontent.com/a-/AOh14GiH6obBahOBk5ezQLBEEgw1DvKRo8haEZvXXnQ83ww=s64",
      "userId": "15074179419258593720"
     },
     "user_tz": -120
    },
    "hidden": true,
    "id": "EK3By9r5goN0",
    "jupyter": {
     "source_hidden": true
    },
    "outputId": "c1c2bdc2-527f-426b-8af5-fe3e2e2b8a35"
   },
   "outputs": [],
   "source": [
    "model_summary"
   ]
  },
  {
   "cell_type": "code",
   "execution_count": null,
   "metadata": {
    "ExecuteTime": {
     "end_time": "2021-03-21T21:27:13.624571Z",
     "start_time": "2021-03-21T21:27:12.072Z"
    },
    "colab": {
     "base_uri": "https://localhost:8080/",
     "height": 476
    },
    "executionInfo": {
     "elapsed": 681,
     "status": "ok",
     "timestamp": 1595254236371,
     "user": {
      "displayName": "Rupali Sharma",
      "photoUrl": "https://lh3.googleusercontent.com/a-/AOh14GiH6obBahOBk5ezQLBEEgw1DvKRo8haEZvXXnQ83ww=s64",
      "userId": "15074179419258593720"
     },
     "user_tz": -120
    },
    "hidden": true,
    "id": "IBv5ityEgoSf",
    "jupyter": {
     "source_hidden": true
    },
    "outputId": "91da8953-44f6-4de0-eff4-287cbf5b4326"
   },
   "outputs": [],
   "source": [
    "scores_summary"
   ]
  },
  {
   "cell_type": "code",
   "execution_count": null,
   "metadata": {
    "hidden": true,
    "id": "EZ3-djAoIxic",
    "jupyter": {
     "source_hidden": true
    }
   },
   "outputs": [],
   "source": []
  },
  {
   "cell_type": "code",
   "execution_count": null,
   "metadata": {
    "hidden": true,
    "id": "jISQLqLngoRF",
    "jupyter": {
     "source_hidden": true
    }
   },
   "outputs": [],
   "source": []
  },
  {
   "cell_type": "markdown",
   "metadata": {
    "heading_collapsed": true,
    "id": "LcrP1MEBIxfd"
   },
   "source": [
    "## Corruptions"
   ]
  },
  {
   "cell_type": "code",
   "execution_count": null,
   "metadata": {
    "ExecuteTime": {
     "end_time": "2021-03-21T21:27:13.627051Z",
     "start_time": "2021-03-21T21:27:12.086Z"
    },
    "hidden": true,
    "id": "XEJ3aPB6kmT-",
    "jupyter": {
     "source_hidden": true
    }
   },
   "outputs": [],
   "source": [
    "from jenga.corruptions.perturbations import Perturbation"
   ]
  },
  {
   "cell_type": "code",
   "execution_count": null,
   "metadata": {
    "ExecuteTime": {
     "end_time": "2021-03-21T21:27:13.629465Z",
     "start_time": "2021-03-21T21:27:12.091Z"
    },
    "hidden": true,
    "id": "xZm7x75Nlv8V",
    "jupyter": {
     "source_hidden": true
    }
   },
   "outputs": [],
   "source": [
    "from jenga.corruptions.generic import MissingValues, SwappedValues, CategoricalShift\n",
    "from jenga.corruptions.numerical import Scaling, GaussianNoise"
   ]
  },
  {
   "cell_type": "code",
   "execution_count": null,
   "metadata": {
    "ExecuteTime": {
     "end_time": "2021-03-21T21:27:13.634211Z",
     "start_time": "2021-03-21T21:27:12.096Z"
    },
    "hidden": true,
    "jupyter": {
     "source_hidden": true
    }
   },
   "outputs": [],
   "source": [
    "fraction = 0.5"
   ]
  },
  {
   "cell_type": "code",
   "execution_count": null,
   "metadata": {
    "ExecuteTime": {
     "end_time": "2021-03-21T21:27:13.637625Z",
     "start_time": "2021-03-21T21:27:12.102Z"
    },
    "hidden": true,
    "jupyter": {
     "source_hidden": true
    }
   },
   "outputs": [],
   "source": [
    "# corruption perturbations to apply\n",
    "corr_perturbations = Perturbation(categorical_columns, numerical_columns)"
   ]
  },
  {
   "cell_type": "markdown",
   "metadata": {
    "hidden": true
   },
   "source": [
    "### Testing Corruptions Individually"
   ]
  },
  {
   "cell_type": "code",
   "execution_count": null,
   "metadata": {
    "ExecuteTime": {
     "end_time": "2021-03-21T21:27:13.640248Z",
     "start_time": "2021-03-21T21:27:12.110Z"
    },
    "colab": {
     "base_uri": "https://localhost:8080/",
     "height": 127
    },
    "executionInfo": {
     "elapsed": 524,
     "status": "ok",
     "timestamp": 1595254763537,
     "user": {
      "displayName": "Rupali Sharma",
      "photoUrl": "https://lh3.googleusercontent.com/a-/AOh14GiH6obBahOBk5ezQLBEEgw1DvKRo8haEZvXXnQ83ww=s64",
      "userId": "15074179419258593720"
     },
     "user_tz": -120
    },
    "hidden": true,
    "id": "RGtVQXRcIxfj",
    "jupyter": {
     "source_hidden": true
    },
    "outputId": "a215b7ab-31bc-4233-d7cf-54efee8cadf9",
    "scrolled": true
   },
   "outputs": [],
   "source": [
    "corruption = [MissingValues]\n",
    "test_data_corrupted, perturbations, cols_perturbed, summary_col_corrupt = corr_perturbations.apply_perturbation(test_data, corruption, fraction)"
   ]
  },
  {
   "cell_type": "code",
   "execution_count": null,
   "metadata": {
    "ExecuteTime": {
     "end_time": "2021-03-21T21:27:13.642669Z",
     "start_time": "2021-03-21T21:27:12.117Z"
    },
    "hidden": true,
    "jupyter": {
     "source_hidden": true
    }
   },
   "outputs": [],
   "source": [
    "corruption = [SwappedValues]\n",
    "test_data_corrupted, perturbations, cols_perturbed, summary_col_corrupt = corr_perturbations.apply_perturbation(test_data, corruption, fraction)"
   ]
  },
  {
   "cell_type": "code",
   "execution_count": null,
   "metadata": {
    "ExecuteTime": {
     "end_time": "2021-03-21T21:27:13.645393Z",
     "start_time": "2021-03-21T21:27:12.122Z"
    },
    "hidden": true,
    "jupyter": {
     "source_hidden": true
    }
   },
   "outputs": [],
   "source": [
    "corruption = [CategoricalShift]\n",
    "test_data_corrupted, perturbations, cols_perturbed, summary_col_corrupt = corr_perturbations.apply_perturbation(test_data, corruption, fraction)"
   ]
  },
  {
   "cell_type": "code",
   "execution_count": null,
   "metadata": {
    "ExecuteTime": {
     "end_time": "2021-03-21T21:27:13.647312Z",
     "start_time": "2021-03-21T21:27:12.128Z"
    },
    "hidden": true,
    "jupyter": {
     "source_hidden": true
    }
   },
   "outputs": [],
   "source": [
    "corruption = [Scaling]\n",
    "test_data_corrupted, perturbations, cols_perturbed, summary_col_corrupt = corr_perturbations.apply_perturbation(test_data, corruption, fraction)"
   ]
  },
  {
   "cell_type": "code",
   "execution_count": null,
   "metadata": {
    "ExecuteTime": {
     "end_time": "2021-03-21T21:27:13.649364Z",
     "start_time": "2021-03-21T21:27:12.134Z"
    },
    "hidden": true,
    "jupyter": {
     "source_hidden": true
    }
   },
   "outputs": [],
   "source": [
    "corruption = [GaussianNoise]\n",
    "test_data_corrupted, perturbations, cols_perturbed, summary_col_corrupt = corr_perturbations.apply_perturbation(test_data, corruption, fraction)"
   ]
  },
  {
   "cell_type": "markdown",
   "metadata": {
    "hidden": true
   },
   "source": [
    "### Together"
   ]
  },
  {
   "cell_type": "code",
   "execution_count": null,
   "metadata": {
    "ExecuteTime": {
     "end_time": "2021-03-21T21:27:13.652024Z",
     "start_time": "2021-03-21T21:27:12.140Z"
    },
    "hidden": true,
    "id": "q7xPKZuFl2mA",
    "jupyter": {
     "source_hidden": true
    }
   },
   "outputs": [],
   "source": [
    "corruptions = [MissingValues, SwappedValues, CategoricalShift, Scaling, GaussianNoise]\n",
    "fraction = 0.5"
   ]
  },
  {
   "cell_type": "code",
   "execution_count": null,
   "metadata": {
    "ExecuteTime": {
     "end_time": "2021-03-21T21:27:13.655257Z",
     "start_time": "2021-03-21T21:27:12.146Z"
    },
    "hidden": true,
    "jupyter": {
     "source_hidden": true
    }
   },
   "outputs": [],
   "source": [
    "corruption = [MissingValues]\n",
    "test_data_corrupted, perturbations, cols_perturbed, summary_col_corrupt = corr_perturbations.apply_perturbation(test_data, corruptions, fraction)"
   ]
  },
  {
   "cell_type": "markdown",
   "metadata": {
    "hidden": true,
    "id": "gLZUJSdkIxf0"
   },
   "source": [
    "### Visualize the original and corrupted test set"
   ]
  },
  {
   "cell_type": "code",
   "execution_count": null,
   "metadata": {
    "ExecuteTime": {
     "end_time": "2021-03-21T21:27:13.657588Z",
     "start_time": "2021-03-21T21:27:12.153Z"
    },
    "hidden": true,
    "id": "hCepLGGDIxf1",
    "jupyter": {
     "source_hidden": true
    }
   },
   "outputs": [],
   "source": [
    "## original test data\n",
    "plot_data(pd.concat([test_data, pd.Series(test_labels, name='class')], axis=1))"
   ]
  },
  {
   "cell_type": "code",
   "execution_count": null,
   "metadata": {
    "ExecuteTime": {
     "end_time": "2021-03-21T21:27:13.659869Z",
     "start_time": "2021-03-21T21:27:12.159Z"
    },
    "hidden": true,
    "id": "TDy7xiLeIxf8",
    "jupyter": {
     "source_hidden": true
    }
   },
   "outputs": [],
   "source": [
    "## corrupted test data\n",
    "plot_data(pd.concat([test_data_corrupted, pd.Series(test_labels, name='class')], axis=1))"
   ]
  },
  {
   "cell_type": "markdown",
   "metadata": {
    "id": "bLgN-QerYrcl"
   },
   "source": [
    "## Model & Corruptions using PPP"
   ]
  },
  {
   "cell_type": "code",
   "execution_count": 5,
   "metadata": {
    "ExecuteTime": {
     "end_time": "2021-03-21T22:23:26.095039Z",
     "start_time": "2021-03-21T22:23:26.047415Z"
    },
    "executionInfo": {
     "elapsed": 856,
     "status": "ok",
     "timestamp": 1602200938807,
     "user": {
      "displayName": "Rupali Sharma",
      "photoUrl": "https://lh3.googleusercontent.com/a-/AOh14GiH6obBahOBk5ezQLBEEgw1DvKRo8haEZvXXnQ83ww=s64",
      "userId": "15074179419258593720"
     },
     "user_tz": -120
    },
    "id": "1AniZHnJZP66",
    "tags": []
   },
   "outputs": [],
   "source": [
    "from sklearn.linear_model import SGDClassifier\n",
    "\n",
    "learner = SGDClassifier(loss='log')\n",
    "param_grid = {\n",
    "    'learner__max_iter': [500, 1000, 5000],\n",
    "    'learner__penalty': ['l2', 'l1', 'elasticnet'], \n",
    "    'learner__alpha': [0.0001, 0.001, 0.01, 0.1]\n",
    "}"
   ]
  },
  {
   "cell_type": "code",
   "execution_count": 6,
   "metadata": {
    "ExecuteTime": {
     "end_time": "2021-03-21T22:23:26.101303Z",
     "start_time": "2021-03-21T22:23:26.096927Z"
    },
    "executionInfo": {
     "elapsed": 822,
     "status": "ok",
     "timestamp": 1602200941469,
     "user": {
      "displayName": "Rupali Sharma",
      "photoUrl": "https://lh3.googleusercontent.com/a-/AOh14GiH6obBahOBk5ezQLBEEgw1DvKRo8haEZvXXnQ83ww=s64",
      "userId": "15074179419258593720"
     },
     "user_tz": -120
    },
    "id": "GabaIbVdZm6o",
    "tags": []
   },
   "outputs": [],
   "source": [
    "from jenga.corruptions.generic import MissingValues, SwappedValues, CategoricalShift\n",
    "from jenga.corruptions.numerical import Scaling, GaussianNoise\n",
    "\n",
    "## Always place SwappedValues corruption after the numeric ones (Scaling, Gaussian) because the column that was selected for Swapping Values could also be used for Scaling later, but when this happens, the categorical valus can't be scaled\n",
    "corruptions = [MissingValues, CategoricalShift, Scaling, GaussianNoise, SwappedValues]\n",
    "fraction = 0.5\n",
    "num_repetitions = 5"
   ]
  },
  {
   "cell_type": "code",
   "execution_count": 7,
   "metadata": {
    "ExecuteTime": {
     "end_time": "2021-03-21T22:23:30.926475Z",
     "start_time": "2021-03-21T22:23:26.103373Z"
    },
    "colab": {
     "base_uri": "https://localhost:8080/",
     "height": 458
    },
    "executionInfo": {
     "elapsed": 5434,
     "status": "ok",
     "timestamp": 1602200949457,
     "user": {
      "displayName": "Rupali Sharma",
      "photoUrl": "https://lh3.googleusercontent.com/a-/AOh14GiH6obBahOBk5ezQLBEEgw1DvKRo8haEZvXXnQ83ww=s64",
      "userId": "15074179419258593720"
     },
     "user_tz": -120
    },
    "id": "x5D_Ma-Pgodt",
    "outputId": "36d6526d-c594-4577-c3a1-37e03277707f",
    "scrolled": true,
    "tags": []
   },
   "outputs": [
    {
     "name": "stdout",
     "output_type": "stream",
     "text": [
      "Fitting 5 folds for each of 36 candidates, totalling 180 fits\n",
      "\n",
      "Generating corrupted training data on 36 rows... \n",
      "\n",
      "\tperturbation: MissingValues: {'column': 'V4', 'fraction': 0.5, 'sampling': 'MCAR', 'na_value': nan}\n",
      "\tperturbation: CategoricalShift: {'column': 'V5', 'fraction': 0.5, 'sampling': 'MCAR'}\n",
      "\tperturbation: Scaling: {'column': 'V1', 'fraction': 0.5, 'sampling': 'MCAR'}\n",
      "\tperturbation: GaussianNoise: {'column': 'V1', 'fraction': 0.5, 'sampling': 'MAR'}\n",
      "\tperturbation: SwappedValues: {'column': 'V1', 'fraction': 0.5, 'sampling': 'MNAR', 'swap_with': None}\n"
     ]
    },
    {
     "ename": "ValueError",
     "evalue": "Cannot setitem on a Categorical with a new category, set the categories first",
     "output_type": "error",
     "traceback": [
      "\u001b[0;31m---------------------------------------------------------------------------\u001b[0m",
      "\u001b[0;31mValueError\u001b[0m                                Traceback (most recent call last)",
      "\u001b[0;32m<ipython-input-7-5dd7e1aed76d>\u001b[0m in \u001b[0;36m<module>\u001b[0;34m\u001b[0m\n\u001b[1;32m      6\u001b[0m \u001b[0;31m## generate corrpted data\u001b[0m\u001b[0;34m\u001b[0m\u001b[0;34m\u001b[0m\u001b[0;34m\u001b[0m\u001b[0m\n\u001b[1;32m      7\u001b[0m \u001b[0;32mfor\u001b[0m \u001b[0m_\u001b[0m \u001b[0;32min\u001b[0m \u001b[0mrange\u001b[0m\u001b[0;34m(\u001b[0m\u001b[0mnum_repetitions\u001b[0m\u001b[0;34m)\u001b[0m\u001b[0;34m:\u001b[0m\u001b[0;34m\u001b[0m\u001b[0;34m\u001b[0m\u001b[0m\n\u001b[0;32m----> 8\u001b[0;31m     \u001b[0mdf_corrupted\u001b[0m\u001b[0;34m,\u001b[0m \u001b[0mperturbations\u001b[0m\u001b[0;34m,\u001b[0m \u001b[0mcols_perturbed\u001b[0m\u001b[0;34m,\u001b[0m \u001b[0msummary_col_corrupt\u001b[0m \u001b[0;34m=\u001b[0m \u001b[0mppp\u001b[0m\u001b[0;34m.\u001b[0m\u001b[0mget_corrupted\u001b[0m\u001b[0;34m(\u001b[0m\u001b[0mtest_data\u001b[0m\u001b[0;34m,\u001b[0m \u001b[0mcorruptions\u001b[0m\u001b[0;34m,\u001b[0m \u001b[0mfraction\u001b[0m\u001b[0;34m,\u001b[0m \u001b[0mnum_repetitions\u001b[0m\u001b[0;34m)\u001b[0m\u001b[0;34m\u001b[0m\u001b[0;34m\u001b[0m\u001b[0m\n\u001b[0m",
      "\u001b[0;32m~/Documents/Master Thesis/jenga/jenga/cleaning/ppp.py\u001b[0m in \u001b[0;36mget_corrupted\u001b[0;34m(self, df, corruptions, fraction, num_repetitions)\u001b[0m\n\u001b[1;32m     76\u001b[0m         \u001b[0mcorr_perturbations\u001b[0m \u001b[0;34m=\u001b[0m \u001b[0mPerturbation\u001b[0m\u001b[0;34m(\u001b[0m\u001b[0mself\u001b[0m\u001b[0;34m.\u001b[0m\u001b[0mcategorical_columns\u001b[0m\u001b[0;34m,\u001b[0m \u001b[0mself\u001b[0m\u001b[0;34m.\u001b[0m\u001b[0mnumerical_columns\u001b[0m\u001b[0;34m)\u001b[0m\u001b[0;34m\u001b[0m\u001b[0;34m\u001b[0m\u001b[0m\n\u001b[1;32m     77\u001b[0m         \u001b[0;31m# for _ in range(num_repetitions):\u001b[0m\u001b[0;34m\u001b[0m\u001b[0;34m\u001b[0m\u001b[0;34m\u001b[0m\u001b[0m\n\u001b[0;32m---> 78\u001b[0;31m         \u001b[0mdf_corrupted\u001b[0m\u001b[0;34m,\u001b[0m \u001b[0mperturbations\u001b[0m\u001b[0;34m,\u001b[0m \u001b[0mcols_perturbed\u001b[0m\u001b[0;34m,\u001b[0m \u001b[0msummary_col_corrupt\u001b[0m \u001b[0;34m=\u001b[0m \u001b[0mcorr_perturbations\u001b[0m\u001b[0;34m.\u001b[0m\u001b[0mapply_perturbation\u001b[0m\u001b[0;34m(\u001b[0m\u001b[0mdf\u001b[0m\u001b[0;34m,\u001b[0m \u001b[0mcorruptions\u001b[0m\u001b[0;34m,\u001b[0m \u001b[0mfraction\u001b[0m\u001b[0;34m)\u001b[0m\u001b[0;34m\u001b[0m\u001b[0;34m\u001b[0m\u001b[0m\n\u001b[0m\u001b[1;32m     79\u001b[0m \u001b[0;34m\u001b[0m\u001b[0m\n\u001b[1;32m     80\u001b[0m         \u001b[0;32mreturn\u001b[0m \u001b[0mdf_corrupted\u001b[0m\u001b[0;34m,\u001b[0m \u001b[0mperturbations\u001b[0m\u001b[0;34m,\u001b[0m \u001b[0mcols_perturbed\u001b[0m\u001b[0;34m,\u001b[0m \u001b[0msummary_col_corrupt\u001b[0m\u001b[0;34m\u001b[0m\u001b[0;34m\u001b[0m\u001b[0m\n",
      "\u001b[0;32m~/Documents/Master Thesis/jenga/jenga/corruptions/perturbations.py\u001b[0m in \u001b[0;36mapply_perturbation\u001b[0;34m(self, df, corruptions, fraction)\u001b[0m\n\u001b[1;32m     45\u001b[0m             \u001b[0mcols_perturbed\u001b[0m\u001b[0;34m.\u001b[0m\u001b[0mappend\u001b[0m\u001b[0;34m(\u001b[0m\u001b[0mcol_perturbed\u001b[0m\u001b[0;34m)\u001b[0m\u001b[0;34m\u001b[0m\u001b[0;34m\u001b[0m\u001b[0m\n\u001b[1;32m     46\u001b[0m \u001b[0;34m\u001b[0m\u001b[0m\n\u001b[0;32m---> 47\u001b[0;31m             \u001b[0mdf_corrupted\u001b[0m \u001b[0;34m=\u001b[0m \u001b[0mperturbation\u001b[0m\u001b[0;34m.\u001b[0m\u001b[0mtransform\u001b[0m\u001b[0;34m(\u001b[0m\u001b[0mdf_corrupted\u001b[0m\u001b[0;34m)\u001b[0m\u001b[0;34m\u001b[0m\u001b[0;34m\u001b[0m\u001b[0m\n\u001b[0m\u001b[1;32m     48\u001b[0m \u001b[0;34m\u001b[0m\u001b[0m\n\u001b[1;32m     49\u001b[0m         \u001b[0;31m## cols_perturbed is a list of lists, flattening it here\u001b[0m\u001b[0;34m\u001b[0m\u001b[0;34m\u001b[0m\u001b[0;34m\u001b[0m\u001b[0m\n",
      "\u001b[0;32m~/Documents/Master Thesis/jenga/jenga/corruptions/generic.py\u001b[0m in \u001b[0;36mtransform\u001b[0;34m(self, data)\u001b[0m\n\u001b[1;32m     81\u001b[0m \u001b[0;34m\u001b[0m\u001b[0m\n\u001b[1;32m     82\u001b[0m         \u001b[0mtmp_vals\u001b[0m \u001b[0;34m=\u001b[0m \u001b[0mdf\u001b[0m\u001b[0;34m.\u001b[0m\u001b[0mloc\u001b[0m\u001b[0;34m[\u001b[0m\u001b[0mrows\u001b[0m\u001b[0;34m,\u001b[0m\u001b[0mself\u001b[0m\u001b[0;34m.\u001b[0m\u001b[0mswap_with\u001b[0m\u001b[0;34m]\u001b[0m\u001b[0;34m.\u001b[0m\u001b[0mcopy\u001b[0m\u001b[0;34m(\u001b[0m\u001b[0mdeep\u001b[0m\u001b[0;34m=\u001b[0m\u001b[0;32mTrue\u001b[0m\u001b[0;34m)\u001b[0m\u001b[0;34m\u001b[0m\u001b[0;34m\u001b[0m\u001b[0m\n\u001b[0;32m---> 83\u001b[0;31m         \u001b[0mdf\u001b[0m\u001b[0;34m.\u001b[0m\u001b[0mloc\u001b[0m\u001b[0;34m[\u001b[0m\u001b[0mrows\u001b[0m\u001b[0;34m,\u001b[0m \u001b[0mself\u001b[0m\u001b[0;34m.\u001b[0m\u001b[0mswap_with\u001b[0m\u001b[0;34m]\u001b[0m \u001b[0;34m=\u001b[0m \u001b[0mdf\u001b[0m\u001b[0;34m.\u001b[0m\u001b[0mloc\u001b[0m\u001b[0;34m[\u001b[0m\u001b[0mrows\u001b[0m\u001b[0;34m,\u001b[0m \u001b[0mself\u001b[0m\u001b[0;34m.\u001b[0m\u001b[0mcolumn\u001b[0m\u001b[0;34m]\u001b[0m\u001b[0;34m\u001b[0m\u001b[0;34m\u001b[0m\u001b[0m\n\u001b[0m\u001b[1;32m     84\u001b[0m         \u001b[0mdf\u001b[0m\u001b[0;34m.\u001b[0m\u001b[0mloc\u001b[0m\u001b[0;34m[\u001b[0m\u001b[0mrows\u001b[0m\u001b[0;34m,\u001b[0m \u001b[0mself\u001b[0m\u001b[0;34m.\u001b[0m\u001b[0mcolumn\u001b[0m\u001b[0;34m]\u001b[0m \u001b[0;34m=\u001b[0m \u001b[0mtmp_vals\u001b[0m\u001b[0;34m\u001b[0m\u001b[0;34m\u001b[0m\u001b[0m\n\u001b[1;32m     85\u001b[0m \u001b[0;34m\u001b[0m\u001b[0m\n",
      "\u001b[0;32m~/.local/lib/python3.8/site-packages/pandas/core/indexing.py\u001b[0m in \u001b[0;36m__setitem__\u001b[0;34m(self, key, value)\u001b[0m\n\u001b[1;32m    690\u001b[0m \u001b[0;34m\u001b[0m\u001b[0m\n\u001b[1;32m    691\u001b[0m         \u001b[0miloc\u001b[0m \u001b[0;34m=\u001b[0m \u001b[0mself\u001b[0m \u001b[0;32mif\u001b[0m \u001b[0mself\u001b[0m\u001b[0;34m.\u001b[0m\u001b[0mname\u001b[0m \u001b[0;34m==\u001b[0m \u001b[0;34m\"iloc\"\u001b[0m \u001b[0;32melse\u001b[0m \u001b[0mself\u001b[0m\u001b[0;34m.\u001b[0m\u001b[0mobj\u001b[0m\u001b[0;34m.\u001b[0m\u001b[0miloc\u001b[0m\u001b[0;34m\u001b[0m\u001b[0;34m\u001b[0m\u001b[0m\n\u001b[0;32m--> 692\u001b[0;31m         \u001b[0miloc\u001b[0m\u001b[0;34m.\u001b[0m\u001b[0m_setitem_with_indexer\u001b[0m\u001b[0;34m(\u001b[0m\u001b[0mindexer\u001b[0m\u001b[0;34m,\u001b[0m \u001b[0mvalue\u001b[0m\u001b[0;34m,\u001b[0m \u001b[0mself\u001b[0m\u001b[0;34m.\u001b[0m\u001b[0mname\u001b[0m\u001b[0;34m)\u001b[0m\u001b[0;34m\u001b[0m\u001b[0;34m\u001b[0m\u001b[0m\n\u001b[0m\u001b[1;32m    693\u001b[0m \u001b[0;34m\u001b[0m\u001b[0m\n\u001b[1;32m    694\u001b[0m     \u001b[0;32mdef\u001b[0m \u001b[0m_validate_key\u001b[0m\u001b[0;34m(\u001b[0m\u001b[0mself\u001b[0m\u001b[0;34m,\u001b[0m \u001b[0mkey\u001b[0m\u001b[0;34m,\u001b[0m \u001b[0maxis\u001b[0m\u001b[0;34m:\u001b[0m \u001b[0mint\u001b[0m\u001b[0;34m)\u001b[0m\u001b[0;34m:\u001b[0m\u001b[0;34m\u001b[0m\u001b[0;34m\u001b[0m\u001b[0m\n",
      "\u001b[0;32m~/.local/lib/python3.8/site-packages/pandas/core/indexing.py\u001b[0m in \u001b[0;36m_setitem_with_indexer\u001b[0;34m(self, indexer, value, name)\u001b[0m\n\u001b[1;32m   1633\u001b[0m         \u001b[0;32mif\u001b[0m \u001b[0mtake_split_path\u001b[0m\u001b[0;34m:\u001b[0m\u001b[0;34m\u001b[0m\u001b[0;34m\u001b[0m\u001b[0m\n\u001b[1;32m   1634\u001b[0m             \u001b[0;31m# We have to operate column-wise\u001b[0m\u001b[0;34m\u001b[0m\u001b[0;34m\u001b[0m\u001b[0;34m\u001b[0m\u001b[0m\n\u001b[0;32m-> 1635\u001b[0;31m             \u001b[0mself\u001b[0m\u001b[0;34m.\u001b[0m\u001b[0m_setitem_with_indexer_split_path\u001b[0m\u001b[0;34m(\u001b[0m\u001b[0mindexer\u001b[0m\u001b[0;34m,\u001b[0m \u001b[0mvalue\u001b[0m\u001b[0;34m,\u001b[0m \u001b[0mname\u001b[0m\u001b[0;34m)\u001b[0m\u001b[0;34m\u001b[0m\u001b[0;34m\u001b[0m\u001b[0m\n\u001b[0m\u001b[1;32m   1636\u001b[0m         \u001b[0;32melse\u001b[0m\u001b[0;34m:\u001b[0m\u001b[0;34m\u001b[0m\u001b[0;34m\u001b[0m\u001b[0m\n\u001b[1;32m   1637\u001b[0m             \u001b[0mself\u001b[0m\u001b[0;34m.\u001b[0m\u001b[0m_setitem_single_block\u001b[0m\u001b[0;34m(\u001b[0m\u001b[0mindexer\u001b[0m\u001b[0;34m,\u001b[0m \u001b[0mvalue\u001b[0m\u001b[0;34m,\u001b[0m \u001b[0mname\u001b[0m\u001b[0;34m)\u001b[0m\u001b[0;34m\u001b[0m\u001b[0;34m\u001b[0m\u001b[0m\n",
      "\u001b[0;32m~/.local/lib/python3.8/site-packages/pandas/core/indexing.py\u001b[0m in \u001b[0;36m_setitem_with_indexer_split_path\u001b[0;34m(self, indexer, value, name)\u001b[0m\n\u001b[1;32m   1674\u001b[0m             \u001b[0;32melif\u001b[0m \u001b[0mlen\u001b[0m\u001b[0;34m(\u001b[0m\u001b[0milocs\u001b[0m\u001b[0;34m)\u001b[0m \u001b[0;34m==\u001b[0m \u001b[0;36m1\u001b[0m \u001b[0;32mand\u001b[0m \u001b[0mlplane_indexer\u001b[0m \u001b[0;34m==\u001b[0m \u001b[0mlen\u001b[0m\u001b[0;34m(\u001b[0m\u001b[0mvalue\u001b[0m\u001b[0;34m)\u001b[0m \u001b[0;32mand\u001b[0m \u001b[0;32mnot\u001b[0m \u001b[0mis_scalar\u001b[0m\u001b[0;34m(\u001b[0m\u001b[0mpi\u001b[0m\u001b[0;34m)\u001b[0m\u001b[0;34m:\u001b[0m\u001b[0;34m\u001b[0m\u001b[0;34m\u001b[0m\u001b[0m\n\u001b[1;32m   1675\u001b[0m                 \u001b[0;31m# We are setting multiple rows in a single column.\u001b[0m\u001b[0;34m\u001b[0m\u001b[0;34m\u001b[0m\u001b[0;34m\u001b[0m\u001b[0m\n\u001b[0;32m-> 1676\u001b[0;31m                 \u001b[0mself\u001b[0m\u001b[0;34m.\u001b[0m\u001b[0m_setitem_single_column\u001b[0m\u001b[0;34m(\u001b[0m\u001b[0milocs\u001b[0m\u001b[0;34m[\u001b[0m\u001b[0;36m0\u001b[0m\u001b[0;34m]\u001b[0m\u001b[0;34m,\u001b[0m \u001b[0mvalue\u001b[0m\u001b[0;34m,\u001b[0m \u001b[0mpi\u001b[0m\u001b[0;34m)\u001b[0m\u001b[0;34m\u001b[0m\u001b[0;34m\u001b[0m\u001b[0m\n\u001b[0m\u001b[1;32m   1677\u001b[0m \u001b[0;34m\u001b[0m\u001b[0m\n\u001b[1;32m   1678\u001b[0m             \u001b[0;32melif\u001b[0m \u001b[0mlen\u001b[0m\u001b[0;34m(\u001b[0m\u001b[0milocs\u001b[0m\u001b[0;34m)\u001b[0m \u001b[0;34m==\u001b[0m \u001b[0;36m1\u001b[0m \u001b[0;32mand\u001b[0m \u001b[0;36m0\u001b[0m \u001b[0;34m!=\u001b[0m \u001b[0mlplane_indexer\u001b[0m \u001b[0;34m!=\u001b[0m \u001b[0mlen\u001b[0m\u001b[0;34m(\u001b[0m\u001b[0mvalue\u001b[0m\u001b[0;34m)\u001b[0m\u001b[0;34m:\u001b[0m\u001b[0;34m\u001b[0m\u001b[0;34m\u001b[0m\u001b[0m\n",
      "\u001b[0;32m~/.local/lib/python3.8/site-packages/pandas/core/indexing.py\u001b[0m in \u001b[0;36m_setitem_single_column\u001b[0;34m(self, loc, value, plane_indexer)\u001b[0m\n\u001b[1;32m   1811\u001b[0m             \u001b[0;31m# set the item, possibly having a dtype change\u001b[0m\u001b[0;34m\u001b[0m\u001b[0;34m\u001b[0m\u001b[0;34m\u001b[0m\u001b[0m\n\u001b[1;32m   1812\u001b[0m             \u001b[0mser\u001b[0m \u001b[0;34m=\u001b[0m \u001b[0mser\u001b[0m\u001b[0;34m.\u001b[0m\u001b[0mcopy\u001b[0m\u001b[0;34m(\u001b[0m\u001b[0;34m)\u001b[0m\u001b[0;34m\u001b[0m\u001b[0;34m\u001b[0m\u001b[0m\n\u001b[0;32m-> 1813\u001b[0;31m             \u001b[0mser\u001b[0m\u001b[0;34m.\u001b[0m\u001b[0m_mgr\u001b[0m \u001b[0;34m=\u001b[0m \u001b[0mser\u001b[0m\u001b[0;34m.\u001b[0m\u001b[0m_mgr\u001b[0m\u001b[0;34m.\u001b[0m\u001b[0msetitem\u001b[0m\u001b[0;34m(\u001b[0m\u001b[0mindexer\u001b[0m\u001b[0;34m=\u001b[0m\u001b[0;34m(\u001b[0m\u001b[0mpi\u001b[0m\u001b[0;34m,\u001b[0m\u001b[0;34m)\u001b[0m\u001b[0;34m,\u001b[0m \u001b[0mvalue\u001b[0m\u001b[0;34m=\u001b[0m\u001b[0mvalue\u001b[0m\u001b[0;34m)\u001b[0m\u001b[0;34m\u001b[0m\u001b[0;34m\u001b[0m\u001b[0m\n\u001b[0m\u001b[1;32m   1814\u001b[0m             \u001b[0mser\u001b[0m\u001b[0;34m.\u001b[0m\u001b[0m_maybe_update_cacher\u001b[0m\u001b[0;34m(\u001b[0m\u001b[0mclear\u001b[0m\u001b[0;34m=\u001b[0m\u001b[0;32mTrue\u001b[0m\u001b[0;34m)\u001b[0m\u001b[0;34m\u001b[0m\u001b[0;34m\u001b[0m\u001b[0m\n\u001b[1;32m   1815\u001b[0m \u001b[0;34m\u001b[0m\u001b[0m\n",
      "\u001b[0;32m~/.local/lib/python3.8/site-packages/pandas/core/internals/managers.py\u001b[0m in \u001b[0;36msetitem\u001b[0;34m(self, indexer, value)\u001b[0m\n\u001b[1;32m    566\u001b[0m \u001b[0;34m\u001b[0m\u001b[0m\n\u001b[1;32m    567\u001b[0m     \u001b[0;32mdef\u001b[0m \u001b[0msetitem\u001b[0m\u001b[0;34m(\u001b[0m\u001b[0mself\u001b[0m\u001b[0;34m,\u001b[0m \u001b[0mindexer\u001b[0m\u001b[0;34m,\u001b[0m \u001b[0mvalue\u001b[0m\u001b[0;34m)\u001b[0m \u001b[0;34m->\u001b[0m \u001b[0;34m\"BlockManager\"\u001b[0m\u001b[0;34m:\u001b[0m\u001b[0;34m\u001b[0m\u001b[0;34m\u001b[0m\u001b[0m\n\u001b[0;32m--> 568\u001b[0;31m         \u001b[0;32mreturn\u001b[0m \u001b[0mself\u001b[0m\u001b[0;34m.\u001b[0m\u001b[0mapply\u001b[0m\u001b[0;34m(\u001b[0m\u001b[0;34m\"setitem\"\u001b[0m\u001b[0;34m,\u001b[0m \u001b[0mindexer\u001b[0m\u001b[0;34m=\u001b[0m\u001b[0mindexer\u001b[0m\u001b[0;34m,\u001b[0m \u001b[0mvalue\u001b[0m\u001b[0;34m=\u001b[0m\u001b[0mvalue\u001b[0m\u001b[0;34m)\u001b[0m\u001b[0;34m\u001b[0m\u001b[0;34m\u001b[0m\u001b[0m\n\u001b[0m\u001b[1;32m    569\u001b[0m \u001b[0;34m\u001b[0m\u001b[0m\n\u001b[1;32m    570\u001b[0m     \u001b[0;32mdef\u001b[0m \u001b[0mputmask\u001b[0m\u001b[0;34m(\u001b[0m\u001b[0mself\u001b[0m\u001b[0;34m,\u001b[0m \u001b[0mmask\u001b[0m\u001b[0;34m,\u001b[0m \u001b[0mnew\u001b[0m\u001b[0;34m,\u001b[0m \u001b[0malign\u001b[0m\u001b[0;34m:\u001b[0m \u001b[0mbool\u001b[0m \u001b[0;34m=\u001b[0m \u001b[0;32mTrue\u001b[0m\u001b[0;34m,\u001b[0m \u001b[0maxis\u001b[0m\u001b[0;34m:\u001b[0m \u001b[0mint\u001b[0m \u001b[0;34m=\u001b[0m \u001b[0;36m0\u001b[0m\u001b[0;34m)\u001b[0m\u001b[0;34m:\u001b[0m\u001b[0;34m\u001b[0m\u001b[0;34m\u001b[0m\u001b[0m\n",
      "\u001b[0;32m~/.local/lib/python3.8/site-packages/pandas/core/internals/managers.py\u001b[0m in \u001b[0;36mapply\u001b[0;34m(self, f, align_keys, ignore_failures, **kwargs)\u001b[0m\n\u001b[1;32m    425\u001b[0m                     \u001b[0mapplied\u001b[0m \u001b[0;34m=\u001b[0m \u001b[0mb\u001b[0m\u001b[0;34m.\u001b[0m\u001b[0mapply\u001b[0m\u001b[0;34m(\u001b[0m\u001b[0mf\u001b[0m\u001b[0;34m,\u001b[0m \u001b[0;34m**\u001b[0m\u001b[0mkwargs\u001b[0m\u001b[0;34m)\u001b[0m\u001b[0;34m\u001b[0m\u001b[0;34m\u001b[0m\u001b[0m\n\u001b[1;32m    426\u001b[0m                 \u001b[0;32melse\u001b[0m\u001b[0;34m:\u001b[0m\u001b[0;34m\u001b[0m\u001b[0;34m\u001b[0m\u001b[0m\n\u001b[0;32m--> 427\u001b[0;31m                     \u001b[0mapplied\u001b[0m \u001b[0;34m=\u001b[0m \u001b[0mgetattr\u001b[0m\u001b[0;34m(\u001b[0m\u001b[0mb\u001b[0m\u001b[0;34m,\u001b[0m \u001b[0mf\u001b[0m\u001b[0;34m)\u001b[0m\u001b[0;34m(\u001b[0m\u001b[0;34m**\u001b[0m\u001b[0mkwargs\u001b[0m\u001b[0;34m)\u001b[0m\u001b[0;34m\u001b[0m\u001b[0;34m\u001b[0m\u001b[0m\n\u001b[0m\u001b[1;32m    428\u001b[0m             \u001b[0;32mexcept\u001b[0m \u001b[0;34m(\u001b[0m\u001b[0mTypeError\u001b[0m\u001b[0;34m,\u001b[0m \u001b[0mNotImplementedError\u001b[0m\u001b[0;34m)\u001b[0m\u001b[0;34m:\u001b[0m\u001b[0;34m\u001b[0m\u001b[0;34m\u001b[0m\u001b[0m\n\u001b[1;32m    429\u001b[0m                 \u001b[0;32mif\u001b[0m \u001b[0;32mnot\u001b[0m \u001b[0mignore_failures\u001b[0m\u001b[0;34m:\u001b[0m\u001b[0;34m\u001b[0m\u001b[0;34m\u001b[0m\u001b[0m\n",
      "\u001b[0;32m~/.local/lib/python3.8/site-packages/pandas/core/internals/blocks.py\u001b[0m in \u001b[0;36msetitem\u001b[0;34m(self, indexer, value)\u001b[0m\n\u001b[1;32m   1825\u001b[0m \u001b[0;34m\u001b[0m\u001b[0m\n\u001b[1;32m   1826\u001b[0m         \u001b[0mcheck_setitem_lengths\u001b[0m\u001b[0;34m(\u001b[0m\u001b[0mindexer\u001b[0m\u001b[0;34m,\u001b[0m \u001b[0mvalue\u001b[0m\u001b[0;34m,\u001b[0m \u001b[0mself\u001b[0m\u001b[0;34m.\u001b[0m\u001b[0mvalues\u001b[0m\u001b[0;34m)\u001b[0m\u001b[0;34m\u001b[0m\u001b[0;34m\u001b[0m\u001b[0m\n\u001b[0;32m-> 1827\u001b[0;31m         \u001b[0mself\u001b[0m\u001b[0;34m.\u001b[0m\u001b[0mvalues\u001b[0m\u001b[0;34m[\u001b[0m\u001b[0mindexer\u001b[0m\u001b[0;34m]\u001b[0m \u001b[0;34m=\u001b[0m \u001b[0mvalue\u001b[0m\u001b[0;34m\u001b[0m\u001b[0;34m\u001b[0m\u001b[0m\n\u001b[0m\u001b[1;32m   1828\u001b[0m         \u001b[0;32mreturn\u001b[0m \u001b[0mself\u001b[0m\u001b[0;34m\u001b[0m\u001b[0;34m\u001b[0m\u001b[0m\n\u001b[1;32m   1829\u001b[0m \u001b[0;34m\u001b[0m\u001b[0m\n",
      "\u001b[0;32m~/.local/lib/python3.8/site-packages/pandas/core/arrays/_mixins.py\u001b[0m in \u001b[0;36m__setitem__\u001b[0;34m(self, key, value)\u001b[0m\n\u001b[1;32m    209\u001b[0m     \u001b[0;32mdef\u001b[0m \u001b[0m__setitem__\u001b[0m\u001b[0;34m(\u001b[0m\u001b[0mself\u001b[0m\u001b[0;34m,\u001b[0m \u001b[0mkey\u001b[0m\u001b[0;34m,\u001b[0m \u001b[0mvalue\u001b[0m\u001b[0;34m)\u001b[0m\u001b[0;34m:\u001b[0m\u001b[0;34m\u001b[0m\u001b[0;34m\u001b[0m\u001b[0m\n\u001b[1;32m    210\u001b[0m         \u001b[0mkey\u001b[0m \u001b[0;34m=\u001b[0m \u001b[0mcheck_array_indexer\u001b[0m\u001b[0;34m(\u001b[0m\u001b[0mself\u001b[0m\u001b[0;34m,\u001b[0m \u001b[0mkey\u001b[0m\u001b[0;34m)\u001b[0m\u001b[0;34m\u001b[0m\u001b[0;34m\u001b[0m\u001b[0m\n\u001b[0;32m--> 211\u001b[0;31m         \u001b[0mvalue\u001b[0m \u001b[0;34m=\u001b[0m \u001b[0mself\u001b[0m\u001b[0;34m.\u001b[0m\u001b[0m_validate_setitem_value\u001b[0m\u001b[0;34m(\u001b[0m\u001b[0mvalue\u001b[0m\u001b[0;34m)\u001b[0m\u001b[0;34m\u001b[0m\u001b[0;34m\u001b[0m\u001b[0m\n\u001b[0m\u001b[1;32m    212\u001b[0m         \u001b[0mself\u001b[0m\u001b[0;34m.\u001b[0m\u001b[0m_ndarray\u001b[0m\u001b[0;34m[\u001b[0m\u001b[0mkey\u001b[0m\u001b[0;34m]\u001b[0m \u001b[0;34m=\u001b[0m \u001b[0mvalue\u001b[0m\u001b[0;34m\u001b[0m\u001b[0;34m\u001b[0m\u001b[0m\n\u001b[1;32m    213\u001b[0m \u001b[0;34m\u001b[0m\u001b[0m\n",
      "\u001b[0;32m~/.local/lib/python3.8/site-packages/pandas/core/arrays/categorical.py\u001b[0m in \u001b[0;36m_validate_setitem_value\u001b[0;34m(self, value)\u001b[0m\n\u001b[1;32m   1891\u001b[0m         \u001b[0;31m# something to np.nan\u001b[0m\u001b[0;34m\u001b[0m\u001b[0;34m\u001b[0m\u001b[0;34m\u001b[0m\u001b[0m\n\u001b[1;32m   1892\u001b[0m         \u001b[0;32mif\u001b[0m \u001b[0mlen\u001b[0m\u001b[0;34m(\u001b[0m\u001b[0mto_add\u001b[0m\u001b[0;34m)\u001b[0m \u001b[0;32mand\u001b[0m \u001b[0;32mnot\u001b[0m \u001b[0misna\u001b[0m\u001b[0;34m(\u001b[0m\u001b[0mto_add\u001b[0m\u001b[0;34m)\u001b[0m\u001b[0;34m.\u001b[0m\u001b[0mall\u001b[0m\u001b[0;34m(\u001b[0m\u001b[0;34m)\u001b[0m\u001b[0;34m:\u001b[0m\u001b[0;34m\u001b[0m\u001b[0;34m\u001b[0m\u001b[0m\n\u001b[0;32m-> 1893\u001b[0;31m             raise ValueError(\n\u001b[0m\u001b[1;32m   1894\u001b[0m                 \u001b[0;34m\"Cannot setitem on a Categorical with a new \"\u001b[0m\u001b[0;34m\u001b[0m\u001b[0;34m\u001b[0m\u001b[0m\n\u001b[1;32m   1895\u001b[0m                 \u001b[0;34m\"category, set the categories first\"\u001b[0m\u001b[0;34m\u001b[0m\u001b[0;34m\u001b[0m\u001b[0m\n",
      "\u001b[0;31mValueError\u001b[0m: Cannot setitem on a Categorical with a new category, set the categories first"
     ]
    }
   ],
   "source": [
    "from jenga.cleaning.ppp import PipelinePerformancePrediction\n",
    "\n",
    "ppp = PipelinePerformancePrediction(train_data, train_labels, test_data, test_labels, categorical_columns, numerical_columns, learner, param_grid)\n",
    "ppp_model = ppp.fit_ppp(train_data)\n",
    "\n",
    "## generate corrpted data\n",
    "for _ in range(num_repetitions):\n",
    "    df_corrupted, perturbations, cols_perturbed, summary_col_corrupt = ppp.get_corrupted(test_data, corruptions, fraction, num_repetitions)"
   ]
  },
  {
   "cell_type": "markdown",
   "metadata": {
    "id": "AjsysJeNIxgD"
   },
   "source": [
    "## Cleaning"
   ]
  },
  {
   "cell_type": "markdown",
   "metadata": {
    "heading_collapsed": true,
    "id": "zZHLhu9i7PDA"
   },
   "source": [
    "### Cleaning using AutoEncoders?"
   ]
  },
  {
   "cell_type": "code",
   "execution_count": null,
   "metadata": {
    "colab": {
     "base_uri": "https://localhost:8080/",
     "height": 366
    },
    "executionInfo": {
     "elapsed": 4408,
     "status": "ok",
     "timestamp": 1596216915617,
     "user": {
      "displayName": "Rupali Sharma",
      "photoUrl": "https://lh3.googleusercontent.com/a-/AOh14GiH6obBahOBk5ezQLBEEgw1DvKRo8haEZvXXnQ83ww=s64",
      "userId": "15074179419258593720"
     },
     "user_tz": -120
    },
    "hidden": true,
    "id": "cjrB6Xim7MKG",
    "jupyter": {
     "source_hidden": true
    },
    "outputId": "8a37b5d0-18f7-41fc-b911-0b1a7f5bc29f"
   },
   "outputs": [],
   "source": [
    "!pip install dfencoder"
   ]
  },
  {
   "cell_type": "code",
   "execution_count": null,
   "metadata": {
    "hidden": true,
    "id": "Go1M60er7ZgO",
    "jupyter": {
     "source_hidden": true
    }
   },
   "outputs": [],
   "source": [
    "from dfencoder import AutoEncoder"
   ]
  },
  {
   "cell_type": "code",
   "execution_count": null,
   "metadata": {
    "hidden": true,
    "id": "ODRIeb687Zit",
    "jupyter": {
     "source_hidden": true
    }
   },
   "outputs": [],
   "source": [
    "model = AutoEncoder(encoder_layers=[512, 512, 512], \n",
    "                    decoder_layers=[], \n",
    "                    activation='relu', \n",
    "                    lr=0.01, \n",
    "                    lr_decay=0.99, \n",
    "                    batch_size=512, \n",
    "                    logger='ipnyb', \n",
    "                    verbose=False, \n",
    "                    optimizer='sgd', \n",
    "                    scaler='gauss_rank', \n",
    "                    min_cats=3)"
   ]
  },
  {
   "cell_type": "code",
   "execution_count": null,
   "metadata": {
    "colab": {
     "base_uri": "https://localhost:8080/",
     "height": 896
    },
    "executionInfo": {
     "elapsed": 792,
     "status": "error",
     "timestamp": 1596217501977,
     "user": {
      "displayName": "Rupali Sharma",
      "photoUrl": "https://lh3.googleusercontent.com/a-/AOh14GiH6obBahOBk5ezQLBEEgw1DvKRo8haEZvXXnQ83ww=s64",
      "userId": "15074179419258593720"
     },
     "user_tz": -120
    },
    "hidden": true,
    "id": "eRrN6fpU7Zme",
    "jupyter": {
     "source_hidden": true
    },
    "outputId": "1d95c4c2-8d26-440d-a2c9-d6b7a39ac354"
   },
   "outputs": [],
   "source": [
    "model.fit(train_data, epochs=1000, val=test_data)"
   ]
  },
  {
   "cell_type": "code",
   "execution_count": null,
   "metadata": {
    "hidden": true,
    "id": "KLMrASqh7ZqB",
    "jupyter": {
     "source_hidden": true
    }
   },
   "outputs": [],
   "source": []
  },
  {
   "cell_type": "code",
   "execution_count": null,
   "metadata": {
    "hidden": true,
    "id": "i7vAXPKF7Zdj",
    "jupyter": {
     "source_hidden": true
    }
   },
   "outputs": [],
   "source": []
  },
  {
   "cell_type": "markdown",
   "metadata": {
    "heading_collapsed": true,
    "id": "PImEbsk5akIP"
   },
   "source": [
    "### Cleaning using AutoGluon"
   ]
  },
  {
   "cell_type": "code",
   "execution_count": null,
   "metadata": {
    "hidden": true,
    "id": "yY21QXpJai0z",
    "jupyter": {
     "source_hidden": true
    }
   },
   "outputs": [],
   "source": [
    "from autogluon import TabularPrediction as task"
   ]
  },
  {
   "cell_type": "code",
   "execution_count": null,
   "metadata": {
    "hidden": true,
    "id": "b3fmz9ZtlwTT",
    "jupyter": {
     "source_hidden": true
    }
   },
   "outputs": [],
   "source": [
    "def cat_cols_to_str(df):\n",
    "  for col in df.columns:\n",
    "    if pd.api.types.is_categorical_dtype(df[col]):\n",
    "      df[col] = df[col].astype(str)\n",
    "\n",
    "  return df"
   ]
  },
  {
   "cell_type": "code",
   "execution_count": null,
   "metadata": {
    "hidden": true,
    "id": "m6Q9XHQFlwex",
    "jupyter": {
     "source_hidden": true
    }
   },
   "outputs": [],
   "source": [
    "train_data = cat_cols_to_str(train_data)\n",
    "df_corrupted = cat_cols_to_str(df_corrupted)\n",
    "test_data = cat_cols_to_str(test_data)"
   ]
  },
  {
   "cell_type": "code",
   "execution_count": null,
   "metadata": {
    "hidden": true,
    "id": "0-44B_24uiFG",
    "jupyter": {
     "source_hidden": true
    }
   },
   "outputs": [],
   "source": [
    "categorical_precision_threshold = 0.7\n",
    "numerical_std_error_threshold = 2"
   ]
  },
  {
   "cell_type": "markdown",
   "metadata": {
    "hidden": true,
    "id": "i7W23QLKdIVY"
   },
   "source": [
    "#### Training"
   ]
  },
  {
   "cell_type": "code",
   "execution_count": null,
   "metadata": {
    "hidden": true,
    "id": "EWDg2xhAwRej",
    "jupyter": {
     "source_hidden": true
    }
   },
   "outputs": [],
   "source": [
    "predictors = {}\n",
    "predictable_cols = {}"
   ]
  },
  {
   "cell_type": "code",
   "execution_count": null,
   "metadata": {
    "colab": {
     "base_uri": "https://localhost:8080/",
     "height": 1000
    },
    "executionInfo": {
     "elapsed": 344608,
     "status": "ok",
     "timestamp": 1599313344471,
     "user": {
      "displayName": "Rupali Sharma",
      "photoUrl": "https://lh3.googleusercontent.com/a-/AOh14GiH6obBahOBk5ezQLBEEgw1DvKRo8haEZvXXnQ83ww=s64",
      "userId": "15074179419258593720"
     },
     "user_tz": -120
    },
    "hidden": true,
    "id": "zQvkr9kdajFH",
    "jupyter": {
     "source_hidden": true
    },
    "outputId": "71c2d87b-1e7f-4e22-9954-58df576bedf7"
   },
   "outputs": [],
   "source": [
    "for col in categorical_columns:\n",
    "  predictors[col] = task.fit(train_data=train_data, label=col, problem_type='multiclass')\n",
    "\n",
    "  y_test = test_data[col].dropna() # take only the non-nan records # test_data? OR split the train_data again into train and test\n",
    "  y_pred = predictors[col].predict(test_data.drop([col], axis=1)) # drop the actual column before predicting\n",
    "\n",
    "  perf = predictors[col].evaluate_predictions(y_test, y_pred, auxiliary_metrics=True)\n",
    "\n",
    "  labels = [k for k in perf['classification_report'].keys() if k not in ['accuracy', 'macro avg', 'weighted avg']]\n",
    "\n",
    "  high_precision_labels = []\n",
    "  for label in labels:\n",
    "    if perf['classification_report'][label]['precision'] > categorical_precision_threshold:\n",
    "      high_precision_labels.append(label)\n",
    "\n",
    "  if high_precision_labels:\n",
    "    # predictable_cols.append(col)\n",
    "    # predictors[col].high_precision_labels = high_precision_labels\n",
    "    predictable_cols[col] = high_precision_labels\n"
   ]
  },
  {
   "cell_type": "code",
   "execution_count": null,
   "metadata": {
    "colab": {
     "base_uri": "https://localhost:8080/",
     "height": 1000
    },
    "executionInfo": {
     "elapsed": 443703,
     "status": "ok",
     "timestamp": 1599313447552,
     "user": {
      "displayName": "Rupali Sharma",
      "photoUrl": "https://lh3.googleusercontent.com/a-/AOh14GiH6obBahOBk5ezQLBEEgw1DvKRo8haEZvXXnQ83ww=s64",
      "userId": "15074179419258593720"
     },
     "user_tz": -120
    },
    "hidden": true,
    "id": "I6Lro5_8qevu",
    "jupyter": {
     "source_hidden": true
    },
    "outputId": "a6758618-5c1a-464d-dacd-25e76551619e"
   },
   "outputs": [],
   "source": [
    "for col in numerical_columns:\n",
    "  predictors[col] = task.fit(train_data=train_data, label=col, problem_type='regression')\n",
    "\n",
    "  y_test = test_data[col].dropna() # take only the non-nan records # test_data? OR split the train_data again into train and test\n",
    "  y_pred = predictors[col].predict(test_data.drop([col], axis=1)) # drop the actual column before predicting\n",
    "\n",
    "  perf = predictors[col].evaluate_predictions(y_test, y_pred, auxiliary_metrics=True)\n",
    "\n",
    "  if perf['root_mean_squared_error'] < numerical_std_error_threshold * y_test.std():\n",
    "    # predictable_cols.append(col)\n",
    "    # predictors[col].root_mean_squared_error = perf['root_mean_squared_error']\n",
    "    predictable_cols[col] = perf['root_mean_squared_error']"
   ]
  },
  {
   "cell_type": "code",
   "execution_count": null,
   "metadata": {
    "colab": {
     "base_uri": "https://localhost:8080/",
     "height": 274
    },
    "executionInfo": {
     "elapsed": 986,
     "status": "ok",
     "timestamp": 1599313461059,
     "user": {
      "displayName": "Rupali Sharma",
      "photoUrl": "https://lh3.googleusercontent.com/a-/AOh14GiH6obBahOBk5ezQLBEEgw1DvKRo8haEZvXXnQ83ww=s64",
      "userId": "15074179419258593720"
     },
     "user_tz": -120
    },
    "hidden": true,
    "id": "-O5OfVbhBmUB",
    "jupyter": {
     "source_hidden": true
    },
    "outputId": "79c0a13b-b883-4fd2-f129-730c543f0052"
   },
   "outputs": [],
   "source": [
    "predictable_cols"
   ]
  },
  {
   "cell_type": "code",
   "execution_count": null,
   "metadata": {
    "colab": {
     "base_uri": "https://localhost:8080/",
     "height": 384
    },
    "executionInfo": {
     "elapsed": 1004,
     "status": "ok",
     "timestamp": 1599313462815,
     "user": {
      "displayName": "Rupali Sharma",
      "photoUrl": "https://lh3.googleusercontent.com/a-/AOh14GiH6obBahOBk5ezQLBEEgw1DvKRo8haEZvXXnQ83ww=s64",
      "userId": "15074179419258593720"
     },
     "user_tz": -120
    },
    "hidden": true,
    "id": "fu1eA6RDbiGe",
    "jupyter": {
     "source_hidden": true
    },
    "outputId": "8542b3d7-0e4e-49e8-973f-13c9ff3e2616"
   },
   "outputs": [],
   "source": [
    "predictors"
   ]
  },
  {
   "cell_type": "code",
   "execution_count": null,
   "metadata": {
    "colab": {
     "base_uri": "https://localhost:8080/",
     "height": 55
    },
    "executionInfo": {
     "elapsed": 1221,
     "status": "ok",
     "timestamp": 1599313469205,
     "user": {
      "displayName": "Rupali Sharma",
      "photoUrl": "https://lh3.googleusercontent.com/a-/AOh14GiH6obBahOBk5ezQLBEEgw1DvKRo8haEZvXXnQ83ww=s64",
      "userId": "15074179419258593720"
     },
     "user_tz": -120
    },
    "hidden": true,
    "id": "zGi228NywMRF",
    "jupyter": {
     "source_hidden": true
    },
    "outputId": "1e8c86c0-8741-45bf-deb6-d3464e1a2c29"
   },
   "outputs": [],
   "source": [
    "print(f\"Found {len(predictable_cols.keys())} predictable columns: {predictable_cols.keys()}\")"
   ]
  },
  {
   "cell_type": "markdown",
   "metadata": {
    "hidden": true,
    "id": "Vfe3Xg9-dIhJ"
   },
   "source": [
    "#### Outlier Detection/Removal"
   ]
  },
  {
   "cell_type": "code",
   "execution_count": null,
   "metadata": {
    "hidden": true,
    "id": "wgtbawKxEaZN",
    "jupyter": {
     "source_hidden": true
    }
   },
   "outputs": [],
   "source": [
    "col = \"age\""
   ]
  },
  {
   "cell_type": "code",
   "execution_count": null,
   "metadata": {
    "colab": {
     "base_uri": "https://localhost:8080/",
     "height": 1000
    },
    "executionInfo": {
     "elapsed": 1128,
     "status": "ok",
     "timestamp": 1595974990262,
     "user": {
      "displayName": "Rupali Sharma",
      "photoUrl": "https://lh3.googleusercontent.com/a-/AOh14GiH6obBahOBk5ezQLBEEgw1DvKRo8haEZvXXnQ83ww=s64",
      "userId": "15074179419258593720"
     },
     "user_tz": -120
    },
    "hidden": true,
    "id": "Jdx5W-ewEbks",
    "jupyter": {
     "source_hidden": true
    },
    "outputId": "100f6ada-c589-4175-ff53-33a444a8ec29"
   },
   "outputs": [],
   "source": [
    "y_pred = predictors[col].predict(df_corrupted)\n",
    "y_pred"
   ]
  },
  {
   "cell_type": "code",
   "execution_count": null,
   "metadata": {
    "colab": {
     "base_uri": "https://localhost:8080/",
     "height": 237
    },
    "executionInfo": {
     "elapsed": 554,
     "status": "ok",
     "timestamp": 1595974992846,
     "user": {
      "displayName": "Rupali Sharma",
      "photoUrl": "https://lh3.googleusercontent.com/a-/AOh14GiH6obBahOBk5ezQLBEEgw1DvKRo8haEZvXXnQ83ww=s64",
      "userId": "15074179419258593720"
     },
     "user_tz": -120
    },
    "hidden": true,
    "id": "DLVNXlkVEb2K",
    "jupyter": {
     "source_hidden": true
    },
    "outputId": "d4fa1609-76f4-43f1-89ae-ab8644681675"
   },
   "outputs": [],
   "source": [
    "y_test = df_corrupted[col]\n",
    "y_test"
   ]
  },
  {
   "cell_type": "code",
   "execution_count": null,
   "metadata": {
    "colab": {
     "base_uri": "https://localhost:8080/",
     "height": 35
    },
    "executionInfo": {
     "elapsed": 661,
     "status": "ok",
     "timestamp": 1595974995708,
     "user": {
      "displayName": "Rupali Sharma",
      "photoUrl": "https://lh3.googleusercontent.com/a-/AOh14GiH6obBahOBk5ezQLBEEgw1DvKRo8haEZvXXnQ83ww=s64",
      "userId": "15074179419258593720"
     },
     "user_tz": -120
    },
    "hidden": true,
    "id": "l6SzSW_vEkI2",
    "jupyter": {
     "source_hidden": true
    },
    "outputId": "08855848-00b1-4de1-a005-d550da03e4f5"
   },
   "outputs": [],
   "source": [
    "df_corrupted[col].isnull().sum()"
   ]
  },
  {
   "cell_type": "code",
   "execution_count": null,
   "metadata": {
    "colab": {
     "base_uri": "https://localhost:8080/",
     "height": 35
    },
    "executionInfo": {
     "elapsed": 537,
     "status": "ok",
     "timestamp": 1595974997110,
     "user": {
      "displayName": "Rupali Sharma",
      "photoUrl": "https://lh3.googleusercontent.com/a-/AOh14GiH6obBahOBk5ezQLBEEgw1DvKRo8haEZvXXnQ83ww=s64",
      "userId": "15074179419258593720"
     },
     "user_tz": -120
    },
    "hidden": true,
    "id": "3RNHTTN-HS_L",
    "jupyter": {
     "source_hidden": true
    },
    "outputId": "55bac4b4-c610-4a15-d720-387f2c49f5fb"
   },
   "outputs": [],
   "source": [
    "predictable_cols[col]"
   ]
  },
  {
   "cell_type": "code",
   "execution_count": null,
   "metadata": {
    "colab": {
     "base_uri": "https://localhost:8080/",
     "height": 424
    },
    "executionInfo": {
     "elapsed": 506,
     "status": "ok",
     "timestamp": 1595975155773,
     "user": {
      "displayName": "Rupali Sharma",
      "photoUrl": "https://lh3.googleusercontent.com/a-/AOh14GiH6obBahOBk5ezQLBEEgw1DvKRo8haEZvXXnQ83ww=s64",
      "userId": "15074179419258593720"
     },
     "user_tz": -120
    },
    "hidden": true,
    "id": "yFarkjP9I5Ar",
    "jupyter": {
     "source_hidden": true
    },
    "outputId": "3d5dbfaf-58cb-4108-f4d3-51693c4db0ad"
   },
   "outputs": [],
   "source": [
    "auxiliary_df_test_pred = pd.DataFrame(y_test)\n",
    "auxiliary_df_test_pred[\"pred\"] = y_pred\n",
    "\n",
    "auxiliary_df_test_pred"
   ]
  },
  {
   "cell_type": "code",
   "execution_count": null,
   "metadata": {
    "colab": {
     "base_uri": "https://localhost:8080/",
     "height": 35
    },
    "executionInfo": {
     "elapsed": 859,
     "status": "ok",
     "timestamp": 1595970211855,
     "user": {
      "displayName": "Rupali Sharma",
      "photoUrl": "https://lh3.googleusercontent.com/a-/AOh14GiH6obBahOBk5ezQLBEEgw1DvKRo8haEZvXXnQ83ww=s64",
      "userId": "15074179419258593720"
     },
     "user_tz": -120
    },
    "hidden": true,
    "id": "EGYb3QZFL3wi",
    "jupyter": {
     "source_hidden": true
    },
    "outputId": "abf8a9db-2c32-415e-b70f-3d6ce1008acb"
   },
   "outputs": [],
   "source": [
    "auxiliary_df_test_pred.loc[173, col] != auxiliary_df_test_pred.loc[173, \"pred\"]"
   ]
  },
  {
   "cell_type": "code",
   "execution_count": null,
   "metadata": {
    "colab": {
     "base_uri": "https://localhost:8080/",
     "height": 35
    },
    "executionInfo": {
     "elapsed": 504,
     "status": "ok",
     "timestamp": 1595975581437,
     "user": {
      "displayName": "Rupali Sharma",
      "photoUrl": "https://lh3.googleusercontent.com/a-/AOh14GiH6obBahOBk5ezQLBEEgw1DvKRo8haEZvXXnQ83ww=s64",
      "userId": "15074179419258593720"
     },
     "user_tz": -120
    },
    "hidden": true,
    "id": "qcF4FB6siFMS",
    "jupyter": {
     "source_hidden": true
    },
    "outputId": "86245618-af40-4fef-e504-32a6ff5c7216"
   },
   "outputs": [],
   "source": [
    "np.sqrt((auxiliary_df_test_pred.loc[330, \"pred\"] - auxiliary_df_test_pred.loc[330, col]) ** 2)"
   ]
  },
  {
   "cell_type": "code",
   "execution_count": null,
   "metadata": {
    "colab": {
     "base_uri": "https://localhost:8080/",
     "height": 35
    },
    "executionInfo": {
     "elapsed": 535,
     "status": "ok",
     "timestamp": 1595975610106,
     "user": {
      "displayName": "Rupali Sharma",
      "photoUrl": "https://lh3.googleusercontent.com/a-/AOh14GiH6obBahOBk5ezQLBEEgw1DvKRo8haEZvXXnQ83ww=s64",
      "userId": "15074179419258593720"
     },
     "user_tz": -120
    },
    "hidden": true,
    "id": "pq7lfMjZifjf",
    "jupyter": {
     "source_hidden": true
    },
    "outputId": "2d52cccd-6a9d-46c7-d7d0-1ad8c7032a1d"
   },
   "outputs": [],
   "source": [
    "np.sqrt((auxiliary_df_test_pred.loc[330, \"pred\"] - auxiliary_df_test_pred.loc[330, col]) ** 2) > predictable_cols[col] * numerical_std_error_threshold"
   ]
  },
  {
   "cell_type": "code",
   "execution_count": null,
   "metadata": {
    "colab": {
     "base_uri": "https://localhost:8080/",
     "height": 237
    },
    "executionInfo": {
     "elapsed": 723,
     "status": "ok",
     "timestamp": 1595970418681,
     "user": {
      "displayName": "Rupali Sharma",
      "photoUrl": "https://lh3.googleusercontent.com/a-/AOh14GiH6obBahOBk5ezQLBEEgw1DvKRo8haEZvXXnQ83ww=s64",
      "userId": "15074179419258593720"
     },
     "user_tz": -120
    },
    "hidden": true,
    "id": "4WUIVrEBEkEO",
    "jupyter": {
     "source_hidden": true
    },
    "outputId": "e532c8da-321e-43af-eb8f-d636074a803d"
   },
   "outputs": [],
   "source": [
    "presumably_wrong = {}\n",
    "\n",
    "if col in categorical_columns:\n",
    "  presumably_wrong_aux = []\n",
    "  for i in auxiliary_df_test_pred.index:\n",
    "    if any(np.isin(predictable_cols[col], auxiliary_df_test_pred.loc[i, \"pred\"])) & (auxiliary_df_test_pred.loc[i, col] != auxiliary_df_test_pred.loc[i, \"pred\"]):\n",
    "      presumably_wrong_aux.append(i)\n",
    "\n",
    "  presumably_wrong[col] = np.array(presumably_wrong_aux)\n",
    "\n",
    "presumably_wrong"
   ]
  },
  {
   "cell_type": "code",
   "execution_count": null,
   "metadata": {
    "colab": {
     "base_uri": "https://localhost:8080/",
     "height": 35
    },
    "executionInfo": {
     "elapsed": 553,
     "status": "ok",
     "timestamp": 1595975529786,
     "user": {
      "displayName": "Rupali Sharma",
      "photoUrl": "https://lh3.googleusercontent.com/a-/AOh14GiH6obBahOBk5ezQLBEEgw1DvKRo8haEZvXXnQ83ww=s64",
      "userId": "15074179419258593720"
     },
     "user_tz": -120
    },
    "hidden": true,
    "id": "-wWmxEs2Ej9a",
    "jupyter": {
     "source_hidden": true
    },
    "outputId": "e6ec2798-a4ca-4c17-fe60-2ef6d3beb7df"
   },
   "outputs": [],
   "source": [
    "presumably_wrong = {}\n",
    "\n",
    "if col in numerical_columns:\n",
    "  presumably_wrong_aux = []\n",
    "  predictor_rmse = predictable_cols[col]\n",
    "  for i in auxiliary_df_test_pred.index:\n",
    "    rmse = np.sqrt((auxiliary_df_test_pred.loc[i, \"pred\"] - auxiliary_df_test_pred.loc[i, col]) ** 2)\n",
    "    if rmse > predictor_rmse * numerical_std_error_threshold:\n",
    "      presumably_wrong_aux.append(i)\n",
    "\n",
    "  presumably_wrong[col] = np.array(presumably_wrong_aux)\n",
    "\n",
    "presumably_wrong"
   ]
  },
  {
   "cell_type": "code",
   "execution_count": null,
   "metadata": {
    "hidden": true,
    "id": "URu8AvtIEbx9",
    "jupyter": {
     "source_hidden": true
    }
   },
   "outputs": [],
   "source": []
  },
  {
   "cell_type": "code",
   "execution_count": null,
   "metadata": {
    "colab": {
     "base_uri": "https://localhost:8080/",
     "height": 330
    },
    "executionInfo": {
     "elapsed": 575,
     "status": "ok",
     "timestamp": 1595976150914,
     "user": {
      "displayName": "Rupali Sharma",
      "photoUrl": "https://lh3.googleusercontent.com/a-/AOh14GiH6obBahOBk5ezQLBEEgw1DvKRo8haEZvXXnQ83ww=s64",
      "userId": "15074179419258593720"
     },
     "user_tz": -120
    },
    "hidden": true,
    "id": "CSIyYqNnkMfo",
    "jupyter": {
     "source_hidden": true
    },
    "outputId": "1433a649-55b9-4948-d1fc-367c98399fe5"
   },
   "outputs": [],
   "source": [
    "for i in presumably_wrong[col]:\n",
    "  df_corrupted.loc[i, col] = np.nan\n",
    "\n",
    "df_corrupted.loc[presumably_wrong[col]]"
   ]
  },
  {
   "cell_type": "code",
   "execution_count": null,
   "metadata": {
    "colab": {
     "base_uri": "https://localhost:8080/",
     "height": 35
    },
    "executionInfo": {
     "elapsed": 588,
     "status": "ok",
     "timestamp": 1595976192636,
     "user": {
      "displayName": "Rupali Sharma",
      "photoUrl": "https://lh3.googleusercontent.com/a-/AOh14GiH6obBahOBk5ezQLBEEgw1DvKRo8haEZvXXnQ83ww=s64",
      "userId": "15074179419258593720"
     },
     "user_tz": -120
    },
    "hidden": true,
    "id": "n8DbwwozkMdW",
    "jupyter": {
     "source_hidden": true
    },
    "outputId": "a7ab7dae-6aed-4954-e519-a06c64e5b649"
   },
   "outputs": [],
   "source": [
    "df_corrupted[col].isnull().sum()"
   ]
  },
  {
   "cell_type": "code",
   "execution_count": null,
   "metadata": {
    "hidden": true,
    "id": "w8emD5nfmCGJ",
    "jupyter": {
     "source_hidden": true
    }
   },
   "outputs": [],
   "source": []
  },
  {
   "cell_type": "code",
   "execution_count": null,
   "metadata": {
    "colab": {
     "base_uri": "https://localhost:8080/",
     "height": 274
    },
    "executionInfo": {
     "elapsed": 4819,
     "status": "ok",
     "timestamp": 1599314243347,
     "user": {
      "displayName": "Rupali Sharma",
      "photoUrl": "https://lh3.googleusercontent.com/a-/AOh14GiH6obBahOBk5ezQLBEEgw1DvKRo8haEZvXXnQ83ww=s64",
      "userId": "15074179419258593720"
     },
     "user_tz": -120
    },
    "hidden": true,
    "id": "zxil2xgpdaQb",
    "jupyter": {
     "source_hidden": true
    },
    "outputId": "c2a4db3f-621c-4ba7-ccc6-4e67acd40705"
   },
   "outputs": [],
   "source": [
    "df_outliers = df_corrupted.copy()\n",
    "\n",
    "presumably_wrong = {}\n",
    "\n",
    "for col in predictable_cols:\n",
    "  y_pred = predictors[col].predict(df_outliers)\n",
    "  y_test = df_outliers[col]\n",
    "\n",
    "  auxiliary_df_test_pred = pd.DataFrame(y_test)\n",
    "  auxiliary_df_test_pred[\"pred\"] = y_pred\n",
    "\n",
    "  num_nans = df_outliers[col].isnull().sum()\n",
    "\n",
    "  if col in categorical_columns:\n",
    "    presumably_wrong_aux = []\n",
    "    for i in auxiliary_df_test_pred.index:\n",
    "      if any(np.isin(predictable_cols[col], auxiliary_df_test_pred.loc[i, \"pred\"])) & (auxiliary_df_test_pred.loc[i, col] != auxiliary_df_test_pred.loc[i, \"pred\"]):\n",
    "        presumably_wrong_aux.append(i)\n",
    "\n",
    "    presumably_wrong[col] = np.array(presumably_wrong_aux)\n",
    "\n",
    "  if col in numerical_columns:\n",
    "    presumably_wrong_aux = []\n",
    "    predictor_rmse = predictable_cols[col]\n",
    "    for i in auxiliary_df_test_pred.index:\n",
    "      rmse = np.sqrt((auxiliary_df_test_pred.loc[i, \"pred\"] - auxiliary_df_test_pred.loc[i, col]) ** 2)\n",
    "      if rmse > predictor_rmse * numerical_std_error_threshold:\n",
    "        presumably_wrong_aux.append(i)\n",
    "\n",
    "    presumably_wrong[col] = np.array(presumably_wrong_aux)\n",
    "\n",
    "  for i in presumably_wrong[col]:\n",
    "    df_outliers.loc[i, col] = np.nan\n",
    "\n",
    "  print(f\"Column {col}: Num NaNs: Before: {num_nans}, Now: {df_outliers[col].isnull().sum()}\")\n",
    "\n",
    "for col in df_corrupted.columns:\n",
    "  df_outliers[col + \"_outlier\"] = 0\n",
    "\n",
    "for col in predictable_cols:\n",
    "  for i in presumably_wrong[col]:\n",
    "    df_outliers.loc[i, col + \"_outlier\"] = 1"
   ]
  },
  {
   "cell_type": "code",
   "execution_count": null,
   "metadata": {
    "colab": {
     "base_uri": "https://localhost:8080/",
     "height": 1000
    },
    "executionInfo": {
     "elapsed": 1462,
     "status": "ok",
     "timestamp": 1599313508147,
     "user": {
      "displayName": "Rupali Sharma",
      "photoUrl": "https://lh3.googleusercontent.com/a-/AOh14GiH6obBahOBk5ezQLBEEgw1DvKRo8haEZvXXnQ83ww=s64",
      "userId": "15074179419258593720"
     },
     "user_tz": -120
    },
    "hidden": true,
    "id": "m-8m2U6gkEHT",
    "jupyter": {
     "source_hidden": true
    },
    "outputId": "6fdd5ef0-764c-487d-b833-5c1cc479eca5"
   },
   "outputs": [],
   "source": [
    "presumably_wrong"
   ]
  },
  {
   "cell_type": "code",
   "execution_count": null,
   "metadata": {
    "hidden": true,
    "id": "mrTXwSYghCWW",
    "jupyter": {
     "source_hidden": true
    }
   },
   "outputs": [],
   "source": [
    "for col in df_corrupted.columns:\n",
    "  df_outliers[col + \"_outlier\"] = 0\n",
    "\n",
    "for col in predictable_cols:\n",
    "  for i in presumably_wrong[col]:\n",
    "    df_outliers.loc[i, col + \"_outlier\"] = 1"
   ]
  },
  {
   "cell_type": "code",
   "execution_count": null,
   "metadata": {
    "colab": {
     "base_uri": "https://localhost:8080/",
     "height": 496
    },
    "executionInfo": {
     "elapsed": 995,
     "status": "ok",
     "timestamp": 1599314250112,
     "user": {
      "displayName": "Rupali Sharma",
      "photoUrl": "https://lh3.googleusercontent.com/a-/AOh14GiH6obBahOBk5ezQLBEEgw1DvKRo8haEZvXXnQ83ww=s64",
      "userId": "15074179419258593720"
     },
     "user_tz": -120
    },
    "hidden": true,
    "id": "v9Azen8NkMZU",
    "jupyter": {
     "source_hidden": true
    },
    "outputId": "81d78ea9-8087-4639-deb4-71a4fdc4bc36"
   },
   "outputs": [],
   "source": [
    "df_outliers"
   ]
  },
  {
   "cell_type": "code",
   "execution_count": null,
   "metadata": {
    "hidden": true,
    "id": "dkaG-ScYjv26",
    "jupyter": {
     "source_hidden": true
    }
   },
   "outputs": [],
   "source": []
  },
  {
   "cell_type": "markdown",
   "metadata": {
    "hidden": true,
    "id": "nX3TiaEcdIdy"
   },
   "source": [
    "#### Imputation"
   ]
  },
  {
   "cell_type": "markdown",
   "metadata": {
    "hidden": true,
    "id": "nsPyzYw97uco"
   },
   "source": [
    "##### Autogluon directly for imputation"
   ]
  },
  {
   "cell_type": "code",
   "execution_count": null,
   "metadata": {
    "hidden": true,
    "id": "rFlxEOEdMtpE",
    "jupyter": {
     "source_hidden": true
    }
   },
   "outputs": [],
   "source": [
    "from autogluon import TabularPrediction as task"
   ]
  },
  {
   "cell_type": "code",
   "execution_count": null,
   "metadata": {
    "hidden": true,
    "id": "9UwjcgAdMtrT",
    "jupyter": {
     "source_hidden": true
    }
   },
   "outputs": [],
   "source": [
    "def cat_cols_to_str(df):\n",
    "  for col in df.columns:\n",
    "    if pd.api.types.is_categorical_dtype(df[col]):\n",
    "      df[col] = df[col].astype(str)\n",
    "\n",
    "  return df"
   ]
  },
  {
   "cell_type": "code",
   "execution_count": null,
   "metadata": {
    "hidden": true,
    "id": "NPUVbZ6uM-Vn",
    "jupyter": {
     "source_hidden": true
    }
   },
   "outputs": [],
   "source": [
    "train_data = cat_cols_to_str(train_data)\n",
    "df_corrupted = cat_cols_to_str(df_corrupted)"
   ]
  },
  {
   "cell_type": "code",
   "execution_count": null,
   "metadata": {
    "colab": {
     "base_uri": "https://localhost:8080/",
     "height": 1000
    },
    "executionInfo": {
     "elapsed": 536212,
     "status": "ok",
     "timestamp": 1595589416358,
     "user": {
      "displayName": "Rupali Sharma",
      "photoUrl": "https://lh3.googleusercontent.com/a-/AOh14GiH6obBahOBk5ezQLBEEgw1DvKRo8haEZvXXnQ83ww=s64",
      "userId": "15074179419258593720"
     },
     "user_tz": -120
    },
    "hidden": true,
    "id": "Ehqe2PnnM1fc",
    "jupyter": {
     "source_hidden": true
    },
    "outputId": "8377c621-5f0c-46ab-edb1-516a00b2d9fd"
   },
   "outputs": [],
   "source": [
    "predictors = {}\n",
    "\n",
    "for col in categorical_columns:\n",
    "  predictors[col] = task.fit(train_data=train_data, label=col, problem_type='multiclass')\n",
    "  \n",
    "for col in numerical_columns:\n",
    "  predictors[col] = task.fit(train_data=train_data, label=col, problem_type='regression')"
   ]
  },
  {
   "cell_type": "code",
   "execution_count": null,
   "metadata": {
    "hidden": true,
    "id": "QbmWFQsgzOAF",
    "jupyter": {
     "source_hidden": true
    }
   },
   "outputs": [],
   "source": [
    "df_imputed = df_corrupted.copy()"
   ]
  },
  {
   "cell_type": "code",
   "execution_count": null,
   "metadata": {
    "hidden": true,
    "id": "IvaOYaSVTmqp",
    "jupyter": {
     "source_hidden": true
    }
   },
   "outputs": [],
   "source": [
    "for col in df_corrupted.columns:\n",
    "  df_imputed[col + '_imputed'] = predictors[col].predict(df_imputed.drop([col], axis=1)) # drop the actual column before predicting\n",
    "  perf = predictors[col].evaluate_predictions(df_imputed[col], df_imputed[col + '_imputed'], auxiliary_metrics=True)\n",
    "\n",
    "  df_imputed[col].fillna(df_imputed[col + '_imputed'], inplace=True)"
   ]
  },
  {
   "cell_type": "code",
   "execution_count": null,
   "metadata": {
    "hidden": true,
    "id": "fkFFWmaA8NWJ",
    "jupyter": {
     "source_hidden": true
    }
   },
   "outputs": [],
   "source": [
    "df_imputed"
   ]
  },
  {
   "cell_type": "code",
   "execution_count": null,
   "metadata": {
    "hidden": true,
    "id": "40lCjyq8zet2",
    "jupyter": {
     "source_hidden": true
    }
   },
   "outputs": [],
   "source": []
  },
  {
   "cell_type": "code",
   "execution_count": null,
   "metadata": {
    "hidden": true,
    "id": "T8SXvrxRdoDz",
    "jupyter": {
     "source_hidden": true
    }
   },
   "outputs": [],
   "source": []
  },
  {
   "cell_type": "markdown",
   "metadata": {
    "hidden": true,
    "id": "N04S1v4J7-9b"
   },
   "source": [
    "##### Predictors from AutoGluon Outlier Detection"
   ]
  },
  {
   "cell_type": "code",
   "execution_count": null,
   "metadata": {
    "hidden": true,
    "id": "ctn4ZDquR0CD",
    "jupyter": {
     "source_hidden": true
    }
   },
   "outputs": [],
   "source": [
    "df_imputed = df_outliers.copy()"
   ]
  },
  {
   "cell_type": "code",
   "execution_count": null,
   "metadata": {
    "colab": {
     "base_uri": "https://localhost:8080/",
     "height": 625
    },
    "executionInfo": {
     "elapsed": 5795,
     "status": "ok",
     "timestamp": 1596064656359,
     "user": {
      "displayName": "Rupali Sharma",
      "photoUrl": "https://lh3.googleusercontent.com/a-/AOh14GiH6obBahOBk5ezQLBEEgw1DvKRo8haEZvXXnQ83ww=s64",
      "userId": "15074179419258593720"
     },
     "user_tz": -120
    },
    "hidden": true,
    "id": "k_hkL7hf0hDO",
    "jupyter": {
     "source_hidden": true
    },
    "outputId": "ddbce5fa-b37a-47b0-c4a3-cc97c5ed3408"
   },
   "outputs": [],
   "source": [
    "for col in df_outliers.columns:\n",
    "  df_imputed[col + '_imputed'] = predictors[col].predict(df_imputed.drop([col], axis=1)) # drop the actual column before predicting\n",
    "  perf = predictors[col].evaluate_predictions(df_imputed[col], df_imputed[col + '_imputed'], auxiliary_metrics=False) ## True gives error\n",
    "\n",
    "  df_imputed[col].fillna(df_imputed[col + '_imputed'], inplace=True)"
   ]
  },
  {
   "cell_type": "code",
   "execution_count": null,
   "metadata": {
    "colab": {
     "base_uri": "https://localhost:8080/",
     "height": 531
    },
    "executionInfo": {
     "elapsed": 2705,
     "status": "ok",
     "timestamp": 1596064656363,
     "user": {
      "displayName": "Rupali Sharma",
      "photoUrl": "https://lh3.googleusercontent.com/a-/AOh14GiH6obBahOBk5ezQLBEEgw1DvKRo8haEZvXXnQ83ww=s64",
      "userId": "15074179419258593720"
     },
     "user_tz": -120
    },
    "hidden": true,
    "id": "NG9JooQGUIt3",
    "jupyter": {
     "source_hidden": true
    },
    "outputId": "2925a73c-b4a3-47e1-b17e-742d0c4b8da2"
   },
   "outputs": [],
   "source": [
    "df_imputed"
   ]
  },
  {
   "cell_type": "code",
   "execution_count": null,
   "metadata": {
    "colab": {
     "base_uri": "https://localhost:8080/",
     "height": 496
    },
    "executionInfo": {
     "elapsed": 882,
     "status": "ok",
     "timestamp": 1596064659232,
     "user": {
      "displayName": "Rupali Sharma",
      "photoUrl": "https://lh3.googleusercontent.com/a-/AOh14GiH6obBahOBk5ezQLBEEgw1DvKRo8haEZvXXnQ83ww=s64",
      "userId": "15074179419258593720"
     },
     "user_tz": -120
    },
    "hidden": true,
    "id": "KKK_Yqg4UWLz",
    "jupyter": {
     "source_hidden": true
    },
    "outputId": "83d75c5c-0d72-42a3-9e0d-71116f6e394f"
   },
   "outputs": [],
   "source": [
    "df_imputed = df_imputed[df_outliers.columns]\n",
    "df_imputed"
   ]
  },
  {
   "cell_type": "markdown",
   "metadata": {
    "id": "SDpX8H8cXUUX"
   },
   "source": [
    "### Using class cleaner"
   ]
  },
  {
   "cell_type": "code",
   "execution_count": 35,
   "metadata": {
    "ExecuteTime": {
     "end_time": "2021-03-21T22:19:59.846035Z",
     "start_time": "2021-03-21T22:19:59.842046Z"
    },
    "executionInfo": {
     "elapsed": 2788,
     "status": "ok",
     "timestamp": 1602200958897,
     "user": {
      "displayName": "Rupali Sharma",
      "photoUrl": "https://lh3.googleusercontent.com/a-/AOh14GiH6obBahOBk5ezQLBEEgw1DvKRo8haEZvXXnQ83ww=s64",
      "userId": "15074179419258593720"
     },
     "user_tz": -120
    },
    "id": "F6TdyIAFXz24",
    "tags": []
   },
   "outputs": [],
   "source": [
    "from jenga.cleaning.outlier_detection import PyODKNNOutlierDetection, PyODIsolationForestOutlierDetection\n",
    "from jenga.cleaning.imputation import MeanModeImputation\n",
    "\n",
    "cleaners = [\n",
    "    (PyODKNNOutlierDetection, MeanModeImputation),\n",
    "    (PyODIsolationForestOutlierDetection, MeanModeImputation)\n",
    "]"
   ]
  },
  {
   "cell_type": "code",
   "execution_count": 36,
   "metadata": {
    "ExecuteTime": {
     "end_time": "2021-03-21T22:20:00.891024Z",
     "start_time": "2021-03-21T22:19:59.853743Z"
    },
    "colab": {
     "base_uri": "https://localhost:8080/",
     "height": 473
    },
    "executionInfo": {
     "elapsed": 1611,
     "status": "error",
     "timestamp": 1602200965303,
     "user": {
      "displayName": "Rupali Sharma",
      "photoUrl": "https://lh3.googleusercontent.com/a-/AOh14GiH6obBahOBk5ezQLBEEgw1DvKRo8haEZvXXnQ83ww=s64",
      "userId": "15074179419258593720"
     },
     "user_tz": -120
    },
    "id": "g2Xbk91II1X5",
    "outputId": "c62e15ce-7a4f-4262-f0f4-d2f098d69ba9",
    "scrolled": true,
    "tags": []
   },
   "outputs": [
    {
     "name": "stdout",
     "output_type": "stream",
     "text": [
      "\n",
      "Applying cleaners... \n",
      "\n",
      "PPP score no cleaning: {'roc_auc_acore': 0.4740259740259741, 'classification_report': {'no': {'precision': 0.7142857142857143, 'recall': 0.45454545454545453, 'f1-score': 0.5555555555555556, 'support': 22}, 'yes': {'precision': 0.45454545454545453, 'recall': 0.7142857142857143, 'f1-score': 0.5555555555555556, 'support': 14}, 'accuracy': 0.5555555555555556, 'macro avg': {'precision': 0.5844155844155844, 'recall': 0.5844155844155844, 'f1-score': 0.5555555555555556, 'support': 36}, 'weighted avg': {'precision': 0.6132756132756133, 'recall': 0.5555555555555556, 'f1-score': 0.5555555555555556, 'support': 36}}}\n",
      "PPP scores with cleaning: \n",
      "\n",
      "Outlier detection method: PyODKNNOutlierDetection, Outlier Detection Score: {'Precision': 0.8054376657824933, 'Recall': 0.7984126984126985, 'F1-score': 0.7845238095238096, 'Accuracy': 0.8333333333333333}\n",
      "Imputation method: MeanModeImputation, Imputation Score: {'Precision': 0.6802350427350428, 'Recall': 0.7334872742200327, 'F1-score': 0.6963330786860199, 'Accuracy': 0.7407407407407408, 'Mean Squared Error': 2.273871882086163}\n",
      "Cleaner: (PyODKNNOutlierDetection, MeanModeImputation): {'roc_auc_acore': 0.9821428571428571, 'classification_report': {'no': {'precision': 1.0, 'recall': 0.7272727272727273, 'f1-score': 0.8421052631578948, 'support': 22}, 'yes': {'precision': 0.7, 'recall': 1.0, 'f1-score': 0.8235294117647058, 'support': 14}, 'accuracy': 0.8333333333333334, 'macro avg': {'precision': 0.85, 'recall': 0.8636363636363636, 'f1-score': 0.8328173374613004, 'support': 36}, 'weighted avg': {'precision': 0.8833333333333333, 'recall': 0.8333333333333334, 'f1-score': 0.8348813209494325, 'support': 36}}}\n",
      "\n",
      "Outlier detection method: PyODIsolationForestOutlierDetection, Outlier Detection Score: {'Precision': 0.7992307692307692, 'Recall': 0.7761904761904762, 'F1-score': 0.766140350877193, 'Accuracy': 0.8222222222222222}\n",
      "Imputation method: MeanModeImputation, Imputation Score: {'Precision': 0.6802350427350428, 'Recall': 0.7334872742200327, 'F1-score': 0.6963330786860199, 'Accuracy': 0.7407407407407408, 'Mean Squared Error': 2.472108843537411}\n",
      "Cleaner: (PyODIsolationForestOutlierDetection, MeanModeImputation): {'roc_auc_acore': 0.9707792207792209, 'classification_report': {'no': {'precision': 1.0, 'recall': 0.7272727272727273, 'f1-score': 0.8421052631578948, 'support': 22}, 'yes': {'precision': 0.7, 'recall': 1.0, 'f1-score': 0.8235294117647058, 'support': 14}, 'accuracy': 0.8333333333333334, 'macro avg': {'precision': 0.85, 'recall': 0.8636363636363636, 'f1-score': 0.8328173374613004, 'support': 36}, 'weighted avg': {'precision': 0.8833333333333333, 'recall': 0.8333333333333334, 'f1-score': 0.8348813209494325, 'support': 36}}}\n",
      "\n",
      "Best cleaning method:\n",
      "Cleaning score: Cleaner: (PyODKNNOutlierDetection, MeanModeImputation): {'roc_auc_acore': 0.9821428571428571, 'classification_report': {'no': {'precision': 1.0, 'recall': 0.7272727272727273, 'f1-score': 0.8421052631578948, 'support': 22}, 'yes': {'precision': 0.7, 'recall': 1.0, 'f1-score': 0.8235294117647058, 'support': 14}, 'accuracy': 0.8333333333333334, 'macro avg': {'precision': 0.85, 'recall': 0.8636363636363636, 'f1-score': 0.8328173374613004, 'support': 36}, 'weighted avg': {'precision': 0.8833333333333333, 'recall': 0.8333333333333334, 'f1-score': 0.8348813209494325, 'support': 36}}} \n",
      "\n",
      "Cleaning improved the overall score \n",
      "\n",
      "\n",
      "\n"
     ]
    }
   ],
   "source": [
    "from jenga.cleaning.clean import Clean\n",
    "\n",
    "categorical_precision_threshold=0.7\n",
    "numerical_std_error_threshold=2.0\n",
    "\n",
    "clean = Clean(train_data, df_corrupted, categorical_columns, numerical_columns, categorical_precision_threshold, numerical_std_error_threshold, ppp, ppp_model, cleaners)\n",
    "df_outliers, df_cleaned, corrupted_score_ppp, best_cleaning_score, cleaner_scores_ppp, summary_cleaners = clean(train_data, test_data, df_corrupted, cols_perturbed)"
   ]
  },
  {
   "cell_type": "markdown",
   "metadata": {
    "heading_collapsed": true,
    "id": "a60vmKbOIxgE"
   },
   "source": [
    "### Imputation"
   ]
  },
  {
   "cell_type": "code",
   "execution_count": null,
   "metadata": {
    "hidden": true,
    "id": "TGmzMceiIHHA",
    "jupyter": {
     "source_hidden": true
    }
   },
   "outputs": [],
   "source": [
    "df_cleaned = df_outliers.copy()\n"
   ]
  },
  {
   "cell_type": "code",
   "execution_count": null,
   "metadata": {
    "hidden": true,
    "id": "zJ1enb79IHJJ",
    "jupyter": {
     "source_hidden": true
    }
   },
   "outputs": [],
   "source": []
  },
  {
   "cell_type": "code",
   "execution_count": null,
   "metadata": {
    "hidden": true,
    "id": "hkKVpcjiIHLi",
    "jupyter": {
     "source_hidden": true
    }
   },
   "outputs": [],
   "source": []
  },
  {
   "cell_type": "code",
   "execution_count": null,
   "metadata": {
    "hidden": true,
    "id": "TagzEPnZIHOu",
    "jupyter": {
     "source_hidden": true
    }
   },
   "outputs": [],
   "source": []
  },
  {
   "cell_type": "code",
   "execution_count": null,
   "metadata": {
    "hidden": true,
    "id": "t3_u36jiIxgG",
    "jupyter": {
     "source_hidden": true
    },
    "scrolled": true
   },
   "outputs": [],
   "source": [
    "mean_mode_imputer = MeanModeImputation(train_data, test_data_corrupted, categorical_columns, numerical_columns)\n",
    "\n",
    "test_data_mm_imputed = mean_mode_imputer.fit_transform(train_data, test_data_corrupted)\n",
    "test_data_mm_imputed"
   ]
  },
  {
   "cell_type": "code",
   "execution_count": null,
   "metadata": {
    "hidden": true,
    "id": "6DcKFbr2IxgY",
    "jupyter": {
     "source_hidden": true
    }
   },
   "outputs": [],
   "source": [
    "datawig_imputer = DatawigImputation(train_data, test_data_corrupted, categorical_columns, numerical_columms)\n",
    "\n",
    "test_data_dw_imputed = datawig_imputer.fit_transform(train_data, test_data_corrupted)\n",
    "test_data_dw_imputed"
   ]
  },
  {
   "cell_type": "markdown",
   "metadata": {
    "hidden": true,
    "id": "MmGlCZSmIxge"
   },
   "source": [
    "##### Using PPP"
   ]
  },
  {
   "cell_type": "code",
   "execution_count": null,
   "metadata": {
    "hidden": true,
    "id": "PQ1ZGFjLIxgf",
    "jupyter": {
     "source_hidden": true
    }
   },
   "outputs": [],
   "source": [
    "# for all imputers return scores, take best\n",
    "# using ppp"
   ]
  },
  {
   "cell_type": "code",
   "execution_count": null,
   "metadata": {
    "hidden": true,
    "id": "GbwAr7RIIxgi",
    "jupyter": {
     "source_hidden": true
    }
   },
   "outputs": [],
   "source": [
    "from jenga.cleaning.imputation import MeanModeImputation, DatawigImputation\n",
    "from jenga.cleaning.ppp import PipelinePerformancePrediction"
   ]
  },
  {
   "cell_type": "code",
   "execution_count": null,
   "metadata": {
    "hidden": true,
    "id": "m85gO-9wIxgp",
    "jupyter": {
     "source_hidden": true
    }
   },
   "outputs": [],
   "source": [
    "learner = SGDClassifier(max_iter=1000)\n",
    "param_grid = {\n",
    "    'learner__loss': ['log'],\n",
    "    'learner__penalty': ['l2', 'l1', 'elasticnet'],\n",
    "    'learner__alpha': [0.0001, 0.001, 0.01, 0.1]\n",
    "}"
   ]
  },
  {
   "cell_type": "code",
   "execution_count": null,
   "metadata": {
    "hidden": true,
    "id": "--5LXVPBIxgs",
    "jupyter": {
     "source_hidden": true
    }
   },
   "outputs": [],
   "source": [
    "ppp = PipelinePerformancePrediction(seed, train_data, train_labels, test_data, test_labels, categorical_columns, numerical_columns, learner, param_grid)"
   ]
  },
  {
   "cell_type": "code",
   "execution_count": null,
   "metadata": {
    "hidden": true,
    "id": "Q2dm7M3NIxgy",
    "jupyter": {
     "source_hidden": true
    }
   },
   "outputs": [],
   "source": [
    "# generate corrpted test data\n",
    "test_data_corrupted, perturbations, cols_perturbed = ppp.get_corrupted(test_data)"
   ]
  },
  {
   "cell_type": "code",
   "execution_count": null,
   "metadata": {
    "hidden": true,
    "id": "TNXavjuTIxg3",
    "jupyter": {
     "source_hidden": true
    }
   },
   "outputs": [],
   "source": [
    "imputer_candidates = [MeanModeImputation, DatawigImputation]"
   ]
  },
  {
   "cell_type": "code",
   "execution_count": null,
   "metadata": {
    "hidden": true,
    "id": "06A5iTlUIxg8",
    "jupyter": {
     "source_hidden": true
    }
   },
   "outputs": [],
   "source": [
    "imputers = []\n",
    "for imputer in imputer_candidates:\n",
    "    imputers.append(imputer(train_data, test_data_corrupted, categorical_columns, numerical_columns))"
   ]
  },
  {
   "cell_type": "code",
   "execution_count": null,
   "metadata": {
    "hidden": true,
    "id": "oY0vQKE8IxhA",
    "jupyter": {
     "source_hidden": true
    }
   },
   "outputs": [],
   "source": [
    "imputers"
   ]
  },
  {
   "cell_type": "code",
   "execution_count": null,
   "metadata": {
    "hidden": true,
    "id": "7UyZby9SIxhC",
    "jupyter": {
     "source_hidden": true
    }
   },
   "outputs": [],
   "source": [
    "ppp_model = ppp.fit_ppp(train_data)"
   ]
  },
  {
   "cell_type": "code",
   "execution_count": null,
   "metadata": {
    "hidden": true,
    "id": "pZJ7YjjfIxhH",
    "jupyter": {
     "source_hidden": true
    }
   },
   "outputs": [],
   "source": [
    "score_no_cleaning = ppp.predict_score_ppp(ppp_model, test_data)\n",
    "score_no_cleaning"
   ]
  },
  {
   "cell_type": "code",
   "execution_count": null,
   "metadata": {
    "hidden": true,
    "id": "V5g7ZToxIxhK",
    "jupyter": {
     "source_hidden": true
    },
    "scrolled": true
   },
   "outputs": [],
   "source": [
    "imputed_scores_ppp = []\n",
    "for imputer in imputers:\n",
    "    test_data_imputed = imputer.fit_transform(train_data, test_data_corrupted)\n",
    "    imputed_score = ppp.predict_score_ppp(ppp_model, test_data_imputed)\n",
    "    print(f\"PPP score with {imputer}: {imputed_score}\")\n",
    "    imputed_scores_ppp.append(imputed_score)"
   ]
  },
  {
   "cell_type": "code",
   "execution_count": null,
   "metadata": {
    "hidden": true,
    "id": "7SHiTdg2IxhQ",
    "jupyter": {
     "source_hidden": true
    }
   },
   "outputs": [],
   "source": [
    "imputed_scores_ppp"
   ]
  },
  {
   "cell_type": "code",
   "execution_count": null,
   "metadata": {
    "hidden": true,
    "id": "96skIfBSIxhS",
    "jupyter": {
     "source_hidden": true
    }
   },
   "outputs": [],
   "source": []
  },
  {
   "cell_type": "markdown",
   "metadata": {
    "hidden": true,
    "id": "0P4waPRvIxhU"
   },
   "source": [
    "##### Using PPP and Cleaner classes"
   ]
  },
  {
   "cell_type": "code",
   "execution_count": null,
   "metadata": {
    "hidden": true,
    "id": "59bCPn_GIxhW",
    "jupyter": {
     "source_hidden": true
    }
   },
   "outputs": [],
   "source": [
    "from jenga.cleaning.ppp import PipelinePerformancePrediction\n",
    "from jenga.cleaning.cleaner import Cleaner\n",
    "from jenga.cleaning.outlier_detection import NoOutlierDetection, PyODKNN, PyODIsolationForest\n",
    "from jenga.cleaning.imputation import NoImputation, MeanModeImputation, DatawigImputation\n",
    "from jenga.cleaning.clean import Clean"
   ]
  },
  {
   "cell_type": "code",
   "execution_count": null,
   "metadata": {
    "hidden": true,
    "id": "FSVCF_JIIxhd",
    "jupyter": {
     "source_hidden": true
    }
   },
   "outputs": [],
   "source": [
    "learner = SGDClassifier(max_iter=1000)\n",
    "param_grid = {\n",
    "    'learner__loss': ['log'],\n",
    "    'learner__penalty': ['l2', 'l1', 'elasticnet'],\n",
    "    'learner__alpha': [0.0001, 0.001, 0.01, 0.1]\n",
    "}"
   ]
  },
  {
   "cell_type": "code",
   "execution_count": null,
   "metadata": {
    "hidden": true,
    "id": "3Nm8W449Ixhh",
    "jupyter": {
     "source_hidden": true
    }
   },
   "outputs": [],
   "source": [
    "ppp = PipelinePerformancePrediction(seed, train_data, train_labels, test_data, test_labels, categorical_columns, numerical_columns, learner, param_grid)"
   ]
  },
  {
   "cell_type": "code",
   "execution_count": null,
   "metadata": {
    "hidden": true,
    "id": "rxxY7KqbIxhk",
    "jupyter": {
     "source_hidden": true
    },
    "scrolled": true
   },
   "outputs": [],
   "source": [
    "ppp_model = ppp.fit_ppp(train_data)"
   ]
  },
  {
   "cell_type": "code",
   "execution_count": null,
   "metadata": {
    "hidden": true,
    "id": "OSrYKsdhIxhp",
    "jupyter": {
     "source_hidden": true
    }
   },
   "outputs": [],
   "source": [
    "ppp_model_score = ppp.predict_score_ppp(ppp_model, test_data)\n",
    "ppp_model_score"
   ]
  },
  {
   "cell_type": "code",
   "execution_count": null,
   "metadata": {
    "hidden": true,
    "id": "dlWzuI7cNmj8",
    "jupyter": {
     "source_hidden": true
    }
   },
   "outputs": [],
   "source": [
    "# generate corrpted test data\n",
    "test_data_corrupted, perturbations, cols_perturbed = ppp.get_corrupted(test_data)"
   ]
  },
  {
   "cell_type": "code",
   "execution_count": null,
   "metadata": {
    "hidden": true,
    "id": "k9yKicuLNmj-",
    "jupyter": {
     "source_hidden": true
    }
   },
   "outputs": [],
   "source": []
  },
  {
   "cell_type": "code",
   "execution_count": null,
   "metadata": {
    "hidden": true,
    "id": "c1Su7q2BNmkD",
    "jupyter": {
     "source_hidden": true
    }
   },
   "outputs": [],
   "source": []
  },
  {
   "cell_type": "code",
   "execution_count": null,
   "metadata": {
    "hidden": true,
    "id": "t1-UhcDNNmkF",
    "jupyter": {
     "source_hidden": true
    }
   },
   "outputs": [],
   "source": []
  },
  {
   "cell_type": "code",
   "execution_count": null,
   "metadata": {
    "hidden": true,
    "id": "KDkRKDo0NmkH",
    "jupyter": {
     "source_hidden": true
    }
   },
   "outputs": [],
   "source": [
    "score_no_cleaning = ppp.predict_score_ppp(ppp_model, test_data_corrupted)\n",
    "score_no_cleaning"
   ]
  },
  {
   "cell_type": "code",
   "execution_count": null,
   "metadata": {
    "hidden": true,
    "id": "Tx1mpY5eNmkL",
    "jupyter": {
     "source_hidden": true
    }
   },
   "outputs": [],
   "source": []
  },
  {
   "cell_type": "code",
   "execution_count": null,
   "metadata": {
    "hidden": true,
    "id": "4kZ1EjNbNmkM",
    "jupyter": {
     "source_hidden": true
    }
   },
   "outputs": [],
   "source": []
  },
  {
   "cell_type": "code",
   "execution_count": null,
   "metadata": {
    "hidden": true,
    "id": "Kn-xq4CWIxhY",
    "jupyter": {
     "source_hidden": true
    }
   },
   "outputs": [],
   "source": [
    "cleaner_candidates = [\n",
    "    (NoOutlierDetection, NoImputation),\n",
    "    (NoOutlierDetection, MeanModeImputation),\n",
    "    (NoOutlierDetection, DatawigImputation),\n",
    "    (PyODKNN, NoImputation),\n",
    "    (PyODKNN, MeanModeImputation),\n",
    "    (PyODKNN, DatawigImputation),\n",
    "    (PyODIsolationForest, NoImputation),\n",
    "    (PyODIsolationForest, MeanModeImputation),\n",
    "    (PyODIsolationForest, DatawigImputation)\n",
    "]"
   ]
  },
  {
   "cell_type": "code",
   "execution_count": null,
   "metadata": {
    "hidden": true,
    "id": "rzDvtkcNIxha",
    "jupyter": {
     "source_hidden": true
    }
   },
   "outputs": [],
   "source": [
    "cleaners = []\n",
    "for outd, imp in cleaner_candidates:\n",
    "    cleaners.append(Cleaner(train_data, \n",
    "                            test_data_corrupted, \n",
    "                            categorical_columns, \n",
    "                            numerical_columns, \n",
    "                            outlier_detection = outd(train_data, \n",
    "                                                     test_data_corrupted, \n",
    "                                                     categorical_columns, \n",
    "                                                     numerical_columns), \n",
    "                            imputation = imp(train_data, \n",
    "                                             test_data_corrupted, \n",
    "                                             categorical_columns, \n",
    "                                             numerical_columns)\n",
    "                           ))"
   ]
  },
  {
   "cell_type": "code",
   "execution_count": null,
   "metadata": {
    "hidden": true,
    "id": "Yt21AxY3Ixhv",
    "jupyter": {
     "source_hidden": true
    },
    "scrolled": true
   },
   "outputs": [],
   "source": [
    "cleaner_scores_ppp = []\n",
    "for cleaner in cleaners:\n",
    "    test_data_cleaned = cleaner.apply_cleaner(train_data, test_data_corrupted, categorical_columns, numerical_columns)\n",
    "    cleaner_score = ppp.predict_score_ppp(ppp_model, test_data_cleaned)\n",
    "    print(f\"PPP score with {cleaner}: {cleaner_score}\")\n",
    "    cleaner_scores_ppp.append(cleaner_score)"
   ]
  },
  {
   "cell_type": "code",
   "execution_count": null,
   "metadata": {
    "hidden": true,
    "id": "KjyJVghTIxh1",
    "jupyter": {
     "source_hidden": true
    }
   },
   "outputs": [],
   "source": [
    "cleaner_scores_ppp"
   ]
  },
  {
   "cell_type": "code",
   "execution_count": null,
   "metadata": {
    "hidden": true,
    "id": "MJK0V45GNmkc",
    "jupyter": {
     "source_hidden": true
    }
   },
   "outputs": [],
   "source": [
    "best_cleaning_idx = pd.Series(cleaner_scores_ppp).idxmax()\n",
    "best_cleaning_idx"
   ]
  },
  {
   "cell_type": "code",
   "execution_count": null,
   "metadata": {
    "hidden": true,
    "id": "WVY4ilIRNmkf",
    "jupyter": {
     "source_hidden": true
    }
   },
   "outputs": [],
   "source": [
    "best_cleaning_score = cleaner_scores_ppp[best_cleaning_idx]\n",
    "best_cleaning_score"
   ]
  },
  {
   "cell_type": "code",
   "execution_count": null,
   "metadata": {
    "hidden": true,
    "id": "5P2Wilv2Nmkj",
    "jupyter": {
     "source_hidden": true
    }
   },
   "outputs": [],
   "source": [
    "if best_cleaning_score > score_no_cleaning:\n",
    "    test_data_cleaned = cleaners[best_cleaning_idx].apply_cleaner(train_data, test_data_corrupted, categorical_columns, numerical_columns)\n",
    "    print(f\"Best cleaning method: {cleaners[best_cleaning_idx]}: {best_cleaning_score}\")\n",
    "else:\n",
    "    print(\"Cleaning didnt't improve the score\")"
   ]
  },
  {
   "cell_type": "code",
   "execution_count": null,
   "metadata": {
    "hidden": true,
    "id": "FYoaodyeNmkk",
    "jupyter": {
     "source_hidden": true
    }
   },
   "outputs": [],
   "source": []
  },
  {
   "cell_type": "code",
   "execution_count": null,
   "metadata": {
    "hidden": true,
    "id": "iZI2vQbLNmkn",
    "jupyter": {
     "source_hidden": true
    }
   },
   "outputs": [],
   "source": [
    "## using clean class"
   ]
  },
  {
   "cell_type": "code",
   "execution_count": null,
   "metadata": {
    "hidden": true,
    "id": "bfMpiAGPNmko",
    "jupyter": {
     "source_hidden": true
    }
   },
   "outputs": [],
   "source": [
    "clean = Clean(train_data, test_data_corrupted, categorical_columns, numerical_columns, ppp, ppp_model)"
   ]
  },
  {
   "cell_type": "code",
   "execution_count": null,
   "metadata": {
    "hidden": true,
    "id": "JuL33YwsNmkr",
    "jupyter": {
     "source_hidden": true
    }
   },
   "outputs": [],
   "source": [
    "test_data_cleaned, score_no_cleaning, cleaner_scores_ppp = clean(train_data, test_data_corrupted)"
   ]
  },
  {
   "cell_type": "code",
   "execution_count": null,
   "metadata": {
    "hidden": true,
    "id": "ZHGIAOtiNmks",
    "jupyter": {
     "source_hidden": true
    }
   },
   "outputs": [],
   "source": []
  },
  {
   "cell_type": "code",
   "execution_count": null,
   "metadata": {
    "hidden": true,
    "id": "KM2n48eMNmku",
    "jupyter": {
     "source_hidden": true
    }
   },
   "outputs": [],
   "source": []
  },
  {
   "cell_type": "code",
   "execution_count": null,
   "metadata": {
    "hidden": true,
    "id": "Lk0Kv_gSNmkw",
    "jupyter": {
     "source_hidden": true
    }
   },
   "outputs": [],
   "source": []
  },
  {
   "cell_type": "code",
   "execution_count": null,
   "metadata": {
    "hidden": true,
    "id": "LvuTbgS5Nmky",
    "jupyter": {
     "source_hidden": true
    }
   },
   "outputs": [],
   "source": [
    "from jenga.cleaning.outlier_detection import NoOutlierDetection\n",
    "from jenga.cleaning.imputation import NoImputation\n",
    "\n",
    "\n",
    "class Cleaner:\n",
    "    \n",
    "    def __init__(self, \n",
    "                 df_train,\n",
    "                 df_corrupted,\n",
    "                 categorical_columns,\n",
    "                 numerical_columns,\n",
    "                 outlier_detection=NoOutlierDetection, \n",
    "                 imputation=NoImputation):\n",
    "        self.outlier_detection = outlier_detection\n",
    "        self.imputation = imputation\n",
    "        \n",
    "    \n",
    "    def apply_cleaner(self, df_train, df_corrupted, categorical_columns, numerical_columns):\n",
    "        df_cleaned = self.outlier_detection(df_train, df_corrupted)\n",
    "        \n",
    "        # do something for fixing/removing the outliers\n",
    "        if 'outlier' in df_cleaned.columns:\n",
    "            ### TODO \n",
    "            df_cleaned = df_cleaned.drop('outlier', axis=1)\n",
    "            \n",
    "        # impute\n",
    "        df_cleaned = self.imputation(df_train, df_cleaned)\n",
    "        \n",
    "        return df_cleaned"
   ]
  },
  {
   "cell_type": "code",
   "execution_count": null,
   "metadata": {
    "hidden": true,
    "id": "67RWftc5Nmk1",
    "jupyter": {
     "source_hidden": true
    }
   },
   "outputs": [],
   "source": []
  },
  {
   "cell_type": "code",
   "execution_count": null,
   "metadata": {
    "hidden": true,
    "id": "VKGKBDeiIxiS",
    "jupyter": {
     "source_hidden": true
    }
   },
   "outputs": [],
   "source": [
    "import pandas as pd\n",
    "\n",
    "from jenga.cleaning.ppp import PipelinePerformancePrediction\n",
    "from jenga.cleaning.cleaner import Cleaner\n",
    "from jenga.cleaning.outlier_detection import NoOutlierDetection, PyODKNN, PyODIsolationForest\n",
    "from jenga.cleaning.imputation import NoImputation, MeanModeImputation, DatawigImputation\n",
    "\n",
    "\n",
    "DEFAULT_CLEANERS = [\n",
    "    (NoOutlierDetection, NoImputation),\n",
    "    (NoOutlierDetection, MeanModeImputation),\n",
    "    (NoOutlierDetection, DatawigImputation),\n",
    "    (PyODKNN, NoImputation),\n",
    "    (PyODKNN, MeanModeImputation),\n",
    "    (PyODKNN, DatawigImputation),\n",
    "    (PyODIsolationForest, NoImputation),\n",
    "    (PyODIsolationForest, MeanModeImputation),\n",
    "    (PyODIsolationForest, DatawigImputation)\n",
    "]\n",
    "\n",
    "\n",
    "class Clean:\n",
    "    \n",
    "    def __init__(self, \n",
    "                 df_train, \n",
    "                 df_corrupted, \n",
    "                 categorical_columns, \n",
    "                 numerical_columns,\n",
    "                 ppp,\n",
    "                 ppp_model,\n",
    "                 cleaners=DEFAULT_CLEANERS):\n",
    "\n",
    "        self.categorical_columns = categorical_columns\n",
    "        self.numerical_columns = numerical_columns\n",
    "        \n",
    "        self.ppp = ppp\n",
    "        self.ppp_model = ppp_model\n",
    "        \n",
    "        self.cleaners = []\n",
    "        for outd, imp in cleaners:\n",
    "            self.cleaners.append(Cleaner(df_train,\n",
    "                                         df_corrupted,\n",
    "                                         self.categorical_columns,\n",
    "                                         self.numerical_columns,\n",
    "                                         outlier_detection = outd(df_train,\n",
    "                                                                  df_corrupted,\n",
    "                                                                  self.categorical_columns,\n",
    "                                                                  self.numerical_columns),\n",
    "                                         imputation = imp(df_train,\n",
    "                                                          df_corrupted,\n",
    "                                                          self.categorical_columns,\n",
    "                                                          self.numerical_columns)\n",
    "                                        )\n",
    "                                )\n",
    "            \n",
    "        \n",
    "    def get_cleaned(self, df_train, df_corrupted):\n",
    "        \n",
    "        score_no_cleaning = self.ppp.predict_score_ppp(self.ppp_model, df_corrupted)\n",
    "        print(f\"PPP score no cleaning: {score_no_cleaning}\")\n",
    "        \n",
    "        cleaner_scores_ppp = []\n",
    "        for cleaner in self.cleaners:\n",
    "            df_cleaned = cleaner.apply_cleaner(df_train, df_corrupted, self.categorical_columns, self.numerical_columns)\n",
    "            cleaner_score = self.ppp.predict_score_ppp(self.ppp_model, df_cleaned)\n",
    "            print(f\"PPP score with cleaning: {cleaner}: {cleaner_score}\")\n",
    "            cleaner_scores_ppp.append(cleaner_score)\n",
    "            \n",
    "        best_cleaning_idx = pd.Series(cleaner_scores_ppp).idxmax()\n",
    "        best_cleaning_score = cleaner_scores_ppp[best_cleaning_idx]\n",
    "        if best_cleaning_score > score_no_cleaning:\n",
    "            df_cleaned = self.cleaners[best_cleaning_idx].apply_cleaner(df_train, df_corrupted, self.categorical_columns, self.numerical_columns)\n",
    "            print(f\"Best cleaning method: {self.cleaners[best_cleaning_idx]}: {best_cleaning_score}\")\n",
    "        else:\n",
    "            print(\"Cleaning didnt't improve the score\")\n",
    "            \n",
    "        return df_cleaned, score_no_cleaning, cleaner_scores_ppp\n",
    "    \n",
    "    \n",
    "    def __call__(self, df_train, df_corrupted):\n",
    "        return self.get_cleaned(df_train, df_corrupted)"
   ]
  },
  {
   "cell_type": "code",
   "execution_count": null,
   "metadata": {
    "hidden": true,
    "id": "-bBVejn2IxiV",
    "jupyter": {
     "source_hidden": true
    }
   },
   "outputs": [],
   "source": []
  },
  {
   "cell_type": "code",
   "execution_count": null,
   "metadata": {
    "hidden": true,
    "id": "qX4ctIZbIxiZ",
    "jupyter": {
     "source_hidden": true
    }
   },
   "outputs": [],
   "source": []
  },
  {
   "cell_type": "code",
   "execution_count": null,
   "metadata": {
    "hidden": true,
    "id": "4N0YiD4jXeWj",
    "jupyter": {
     "source_hidden": true
    }
   },
   "outputs": [],
   "source": []
  },
  {
   "cell_type": "code",
   "execution_count": null,
   "metadata": {
    "hidden": true,
    "id": "petF8M4sXea_",
    "jupyter": {
     "source_hidden": true
    }
   },
   "outputs": [],
   "source": []
  },
  {
   "cell_type": "code",
   "execution_count": null,
   "metadata": {
    "hidden": true,
    "id": "2HNEYfMDXeho",
    "jupyter": {
     "source_hidden": true
    }
   },
   "outputs": [],
   "source": []
  },
  {
   "cell_type": "code",
   "execution_count": null,
   "metadata": {
    "hidden": true,
    "id": "Pix5dU-AXef9",
    "jupyter": {
     "source_hidden": true
    }
   },
   "outputs": [],
   "source": []
  },
  {
   "cell_type": "markdown",
   "metadata": {
    "heading_collapsed": true,
    "id": "giUQLah_Ixii"
   },
   "source": [
    "### Outlier Detection"
   ]
  },
  {
   "cell_type": "code",
   "execution_count": null,
   "metadata": {
    "hidden": true,
    "id": "kdF9cfx8Ixik",
    "jupyter": {
     "source_hidden": true
    }
   },
   "outputs": [],
   "source": [
    "# detection using KNN from PyOD\n",
    "outlier = PyODKNN(train_data, test_data_corrupted, categorical_columns, numerical_columms)"
   ]
  },
  {
   "cell_type": "code",
   "execution_count": null,
   "metadata": {
    "hidden": true,
    "id": "IAC7CVcUIxin",
    "jupyter": {
     "source_hidden": true
    },
    "scrolled": true
   },
   "outputs": [],
   "source": [
    "test_data_corrupted_outliers = outlier.fit_transform(train_data, test_data_corrupted)\n",
    "test_data_corrupted_outliers.head(10)"
   ]
  },
  {
   "cell_type": "code",
   "execution_count": null,
   "metadata": {
    "hidden": true,
    "id": "NK849TnbIxir",
    "jupyter": {
     "source_hidden": true
    }
   },
   "outputs": [],
   "source": [
    "# detection using Isolation Forest from PyOD\n",
    "outlier_if = PyODIsolationForest(train_data, test_data_corrupted, categorical_columns, numerical_columms)"
   ]
  },
  {
   "cell_type": "code",
   "execution_count": null,
   "metadata": {
    "hidden": true,
    "id": "s8sxdokFIxiu",
    "jupyter": {
     "source_hidden": true
    },
    "scrolled": true
   },
   "outputs": [],
   "source": [
    "test_data_corrupted_outliers_if = outlier_if.fit_transform(train_data, test_data_corrupted)\n",
    "test_data_corrupted_outliers_if.head(10)"
   ]
  },
  {
   "cell_type": "markdown",
   "metadata": {
    "hidden": true,
    "id": "sLY3PU0mIxiz"
   },
   "source": [
    "#### Preparing the outliers for imputation"
   ]
  },
  {
   "cell_type": "code",
   "execution_count": null,
   "metadata": {
    "hidden": true,
    "id": "vKW5cQUCIxiz",
    "jupyter": {
     "source_hidden": true
    },
    "scrolled": true
   },
   "outputs": [],
   "source": [
    "if \"outlier\" in test_data_corrupted_outliers.columns:\n",
    "    print(f'Setting {test_data_corrupted_outliers[\"outlier\"].sum()} to Nan')\n",
    "    test_data_corrupted_outliers.loc[test_data_corrupted_outliers[\"outlier\"], :] = np.nan\n",
    "    test_data_corrupted_outliers = test_data_corrupted_outliers.drop('outlier', axis=1)"
   ]
  },
  {
   "cell_type": "code",
   "execution_count": null,
   "metadata": {
    "hidden": true,
    "id": "NyaQVtKxIxi2",
    "jupyter": {
     "source_hidden": true
    }
   },
   "outputs": [],
   "source": []
  },
  {
   "cell_type": "code",
   "execution_count": null,
   "metadata": {
    "hidden": true,
    "id": "jBl_oQIOIxi5",
    "jupyter": {
     "source_hidden": true
    }
   },
   "outputs": [],
   "source": [
    "## train_data, test_data_corrupted, \n",
    "## check values in column in the training data -> check for outliers in the same column in the corrupted data\n",
    "## store .loc \n",
    "## convert those .loc for those column into nan\n",
    "## impute"
   ]
  },
  {
   "cell_type": "code",
   "execution_count": null,
   "metadata": {
    "hidden": true,
    "id": "ttxqXzEyIxi8",
    "jupyter": {
     "source_hidden": true
    }
   },
   "outputs": [],
   "source": [
    "numerical_columms"
   ]
  },
  {
   "cell_type": "code",
   "execution_count": null,
   "metadata": {
    "hidden": true,
    "id": "tH09weY3Ixi-",
    "jupyter": {
     "source_hidden": true
    }
   },
   "outputs": [],
   "source": [
    "test_data_corrupted"
   ]
  },
  {
   "cell_type": "code",
   "execution_count": null,
   "metadata": {
    "hidden": true,
    "id": "j52Dm8-9IxjB",
    "jupyter": {
     "source_hidden": true
    }
   },
   "outputs": [],
   "source": []
  },
  {
   "cell_type": "code",
   "execution_count": null,
   "metadata": {
    "hidden": true,
    "id": "-7mi-wm7IxjK",
    "jupyter": {
     "source_hidden": true
    }
   },
   "outputs": [],
   "source": [
    "from abc import abstractmethod\n",
    "\n",
    "from sklearn.impute import SimpleImputer\n",
    "from sklearn.preprocessing import OneHotEncoder, StandardScaler\n",
    "from sklearn.compose import ColumnTransformer\n",
    "from sklearn.pipeline import Pipeline\n",
    "\n",
    "from pyod.models.knn import KNN\n",
    "from pyod.models.iforest import IForest\n",
    "\n",
    "\n",
    "class OutlierDetection:\n",
    "    \n",
    "    def __init__(self, df_train, df_corrupted, categorical_columns, numerical_columns):\n",
    "        \n",
    "        self.df_train = df_train\n",
    "        self.df_corrupted = df_corrupted\n",
    "        \n",
    "        self.categorical_columns = categorical_columns\n",
    "        self.numerical_columns = numerical_columns\n",
    "        \n",
    "        \n",
    "        # preprocessing pipeline for numerical columns\n",
    "        transformer_numeric = Pipeline([\n",
    "            ('imputer', SimpleImputer(strategy='constant', fill_value=0)),\n",
    "            ('standard_scale', StandardScaler())\n",
    "        ])\n",
    "\n",
    "        # preprocessing pipeline for categorical columns\n",
    "        transformer_categorical = Pipeline([\n",
    "            ('imputer', SimpleImputer(strategy='constant', fill_value='__NA__')),\n",
    "            ('one_hot_encode', OneHotEncoder(handle_unknown='ignore'))\n",
    "        ])\n",
    "\n",
    "        # preprocessor\n",
    "        self.feature_transform = ColumnTransformer(transformers=[\n",
    "            ('categorical_features', transformer_categorical, self.categorical_columns),\n",
    "            ('numerical_features', transformer_numeric, self.numerical_columns)\n",
    "        ], sparse_threshold=1.0)\n",
    "        \n",
    "        \n",
    "        @abstractmethod\n",
    "        def fit_transform(self, df_train, df_corrupted):\n",
    "            pass\n",
    "\n",
    "\n",
    "\n",
    "class NoOutlierDetection(OutlierDetection):\n",
    "    \n",
    "    def fit_transform(self, df_train, df_corrupted):\n",
    "        df_outliers = df_corrupted.copy()\n",
    "        \n",
    "        return df_outliers\n",
    "    \n",
    "    \n",
    "    def __call__(self, df_train, df_corrupted):\n",
    "        return self.fit_transform(df_train, df_corrupted)\n",
    "\n",
    "\n",
    "        \n",
    "class PyODKNN(OutlierDetection):\n",
    "    \n",
    "    def fit_transform(self, df_train, df_corrupted):\n",
    "        df_outliers = df_corrupted.copy()\n",
    "        \n",
    "        feature_transformation = self.feature_transform.fit(df_train)\n",
    "        x = feature_transformation.transform(df_train).toarray()\n",
    "        \n",
    "        model = KNN()\n",
    "        model.fit(x)\n",
    "        \n",
    "        xx = feature_transformation.transform(df_outliers).toarray()\n",
    "\n",
    "        df_outliers[\"outlier\"] = model.predict(xx) ## 0: inlier, 1: outlier\n",
    "        \n",
    "        return df_outliers\n",
    "    \n",
    "    \n",
    "    def __call__(self, df_train, df_corrupted):\n",
    "        return self.fit_transform(df_train, df_corrupted)\n",
    "\n",
    "    \n",
    "    \n",
    "class PyODIsolationForest(OutlierDetection):\n",
    "    \n",
    "    def fit_transform(self, df_train, df_corrupted):\n",
    "        df_outliers = df_corrupted.copy()\n",
    "        \n",
    "        feature_transformation = self.feature_transform.fit(df_train)\n",
    "        x = feature_transformation.transform(df_train).toarray()\n",
    "        \n",
    "        model = IForest(contamination=0.25)\n",
    "        model.fit(x)\n",
    "        \n",
    "        xx = feature_transformation.transform(df_outliers).toarray()\n",
    "\n",
    "        df_outliers[\"outlier\"] = model.predict(xx) ## 0: inlier, 1: outlier\n",
    "        \n",
    "        return df_outliers\n",
    "    \n",
    "    \n",
    "    def __call__(self, df_train, df_corrupted):\n",
    "        return self.fit_transform(df_train, df_corrupted)\n"
   ]
  },
  {
   "cell_type": "code",
   "execution_count": null,
   "metadata": {
    "hidden": true,
    "id": "05f9KFx7IxjN",
    "jupyter": {
     "source_hidden": true
    }
   },
   "outputs": [],
   "source": []
  },
  {
   "cell_type": "code",
   "execution_count": null,
   "metadata": {
    "hidden": true,
    "id": "u69nHssRIxjQ",
    "jupyter": {
     "source_hidden": true
    }
   },
   "outputs": [],
   "source": [
    "from abc import abstractmethod\n",
    "import numpy as np\n",
    "import pandas as pd\n",
    "\n",
    "import datawig\n",
    "\n",
    "\n",
    "\n",
    "class Imputation:\n",
    "    \n",
    "    def __init__(self, df_train, df_corrupted, categorical_columns, numerical_columns):\n",
    "        self.df_train = df_train\n",
    "        self.df_corrupted = df_corrupted\n",
    "        \n",
    "        self.categorical_columns = categorical_columns\n",
    "        self.numerical_columns = numerical_columns\n",
    "        \n",
    "    \n",
    "    @abstractmethod\n",
    "    def fit_transform(self, df_train, df_corrupted):\n",
    "        pass\n",
    "\n",
    "    \n",
    "    \n",
    "class NoImputation(Imputation):    \n",
    "    \n",
    "    def __init__(self, df_train, df_corrupted, categorical_columns, numerical_columns):        \n",
    "        Imputation.__init__(self, df_train, df_corrupted, categorical_columns, numerical_columns)\n",
    "    \n",
    "    \n",
    "    def fit_transform(self, df_train, df_corrupted):\n",
    "        df_imputed = df_corrupted.copy()\n",
    "        return df_imputed\n",
    "    \n",
    "    \n",
    "    def __call__(self, df_train, df_corrupted):\n",
    "        return self.fit_transform(df_train, df_corrupted)\n",
    "    \n",
    "    \n",
    "    \n",
    "class MeanModeImputation(Imputation):\n",
    "    \n",
    "    def __init__(self, df_train, df_corrupted, categorical_columns, numerical_columns):\n",
    "        self.means = {}\n",
    "        self.modes = {}\n",
    "    \n",
    "        Imputation.__init__(self, df_train, df_corrupted, categorical_columns, numerical_columns)\n",
    "    \n",
    "    \n",
    "    def fit_transform(self, df_train, df_corrupted):\n",
    "        df_imputed = df_corrupted.copy()\n",
    "        \n",
    "        for col in df_train.columns:\n",
    "            if col in self.numerical_columns:\n",
    "                # mean imputer\n",
    "                mean = np.mean(df_train[col])\n",
    "                self.means[col] = mean\n",
    "            elif col in self.categorical_columns:\n",
    "                # mode imputer\n",
    "                mode = df_train[col].value_counts().index[0]\n",
    "                self.modes[col] = mode\n",
    "                \n",
    "                \n",
    "        for col in df_corrupted.columns:\n",
    "            if col in self.numerical_columns:\n",
    "                # mean imputer\n",
    "                df_imputed[col].fillna(self.means[col], inplace=True)\n",
    "            elif col in self.categorical_columns:\n",
    "                # mode imputer\n",
    "                df_imputed[col].fillna(self.modes[col], inplace=True)\n",
    "                \n",
    "        return df_imputed\n",
    "    \n",
    "    \n",
    "    def __call__(self, df_train, df_corrupted):\n",
    "        return self.fit_transform(df_train, df_corrupted)\n",
    "\n",
    "    \n",
    "\n",
    "class DatawigImputation(Imputation):\n",
    "    \n",
    "    def __init__(self, df_train, df_corrupted, categorical_columns, numerical_columns):        \n",
    "        Imputation.__init__(self, df_train, df_corrupted, categorical_columns, numerical_columns)\n",
    "    \n",
    "    \n",
    "    def fit_transform(self, df_train, df_corrupted):\n",
    "        df_imputed = df_corrupted.copy()\n",
    "\n",
    "        for col in df_train.columns:\n",
    "            if pd.api.types.is_categorical_dtype(df_train[col]):\n",
    "                df_train[col] = df_train[col].astype(str)\n",
    "\n",
    "        for col in df_corrupted.columns:\n",
    "            if pd.api.types.is_categorical_dtype(df_corrupted[col]):\n",
    "                df_corrupted[col] = df_corrupted[col].astype(str)\n",
    "\n",
    "\n",
    "        for col in self.categorical_columns + self.numerical_columns:\n",
    "            output_column = col\n",
    "            input_columns = list(set(df_train.columns) - set([output_column]))\n",
    "\n",
    "            print(f\"Fitting model for column: {col}\")\n",
    "            model = datawig.SimpleImputer(input_columns, output_column, 'imputer_model')\n",
    "            model.fit(df_train)\n",
    "\n",
    "            df_imputed = model.predict(df_imputed)\n",
    "            df_imputed[col].fillna(df_imputed[col + '_imputed'], inplace=True)\n",
    "            df_imputed = df_imputed[df_corrupted.columns]\n",
    "\n",
    "        return df_imputed\n",
    "    \n",
    "    \n",
    "    def __call__(self, df_train, df_corrupted):\n",
    "        return self.fit_transform(df_train, df_corrupted)"
   ]
  },
  {
   "cell_type": "code",
   "execution_count": null,
   "metadata": {
    "hidden": true,
    "id": "kjEBP-v3IxjT",
    "jupyter": {
     "source_hidden": true
    }
   },
   "outputs": [],
   "source": []
  },
  {
   "cell_type": "code",
   "execution_count": null,
   "metadata": {
    "hidden": true,
    "id": "cEep7nPKXw9U",
    "jupyter": {
     "source_hidden": true
    }
   },
   "outputs": [],
   "source": []
  },
  {
   "cell_type": "code",
   "execution_count": null,
   "metadata": {
    "hidden": true,
    "id": "J3hb-hx2Xz1h",
    "jupyter": {
     "source_hidden": true
    }
   },
   "outputs": [],
   "source": []
  },
  {
   "cell_type": "code",
   "execution_count": null,
   "metadata": {
    "hidden": true,
    "id": "woTCDL46Xz7Y",
    "jupyter": {
     "source_hidden": true
    }
   },
   "outputs": [],
   "source": []
  },
  {
   "cell_type": "markdown",
   "metadata": {
    "heading_collapsed": true,
    "id": "LynEGFxXIxjU"
   },
   "source": [
    "## Evaluation"
   ]
  },
  {
   "cell_type": "code",
   "execution_count": null,
   "metadata": {
    "ExecuteTime": {
     "end_time": "2021-03-21T14:45:58.973730Z",
     "start_time": "2021-03-21T14:45:58.726563Z"
    },
    "hidden": true,
    "id": "X4-165s0IxjV",
    "jupyter": {
     "source_hidden": true
    }
   },
   "outputs": [],
   "source": [
    "# score without cleaning\n",
    "model_obj.score_on_test_data(model.predict_proba(test_data))"
   ]
  },
  {
   "cell_type": "code",
   "execution_count": null,
   "metadata": {
    "hidden": true,
    "id": "VeCnv0oDIxjY",
    "jupyter": {
     "source_hidden": true
    }
   },
   "outputs": [],
   "source": [
    "# score with corruptions\n",
    "model_obj.score_on_test_data(model.predict_proba(test_data_corrupted))"
   ]
  },
  {
   "cell_type": "code",
   "execution_count": null,
   "metadata": {
    "hidden": true,
    "id": "j0NNNNLAIxjc",
    "jupyter": {
     "source_hidden": true
    }
   },
   "outputs": [],
   "source": [
    "# score with mean/mode imputation\n",
    "model_obj.score_on_test_data(model.predict_proba(test_data_mm_imputed))"
   ]
  },
  {
   "cell_type": "code",
   "execution_count": null,
   "metadata": {
    "hidden": true,
    "id": "Woo7_55yIxje",
    "jupyter": {
     "source_hidden": true
    }
   },
   "outputs": [],
   "source": [
    "# score with datawig imputation\n",
    "model_obj.score_on_test_data(model.predict_proba(test_data_dw_imputed))"
   ]
  }
 ],
 "metadata": {
  "colab": {
   "collapsed_sections": [
    "zAftqPZ3Ixel",
    "sQJP7miCXMIu",
    "LcrP1MEBIxfd",
    "gLZUJSdkIxf0",
    "zZHLhu9i7PDA",
    "PImEbsk5akIP",
    "i7W23QLKdIVY",
    "Vfe3Xg9-dIhJ",
    "nX3TiaEcdIdy",
    "nsPyzYw97uco",
    "N04S1v4J7-9b",
    "MmGlCZSmIxge",
    "0P4waPRvIxhU",
    "giUQLah_Ixii",
    "sLY3PU0mIxiz",
    "LynEGFxXIxjU"
   ],
   "name": "experimental_setup_refined_classes.ipynb",
   "provenance": []
  },
  "kernelspec": {
   "display_name": "Python 3",
   "language": "python",
   "name": "python3"
  },
  "language_info": {
   "codemirror_mode": {
    "name": "ipython",
    "version": 3
   },
   "file_extension": ".py",
   "mimetype": "text/x-python",
   "name": "python",
   "nbconvert_exporter": "python",
   "pygments_lexer": "ipython3",
   "version": "3.8.5"
  },
  "toc": {
   "base_numbering": 1,
   "nav_menu": {},
   "number_sections": true,
   "sideBar": true,
   "skip_h1_title": false,
   "title_cell": "Table of Contents",
   "title_sidebar": "Contents",
   "toc_cell": false,
   "toc_position": {},
   "toc_section_display": true,
   "toc_window_display": true
  }
 },
 "nbformat": 4,
 "nbformat_minor": 4
}
