{
 "cells": [
  {
   "cell_type": "code",
   "execution_count": 4,
   "metadata": {},
   "outputs": [],
   "source": [
    "from jenga.tasks.movies import PredictMovieRatingsTask"
   ]
  },
  {
   "cell_type": "markdown",
   "metadata": {},
   "source": [
    "## Our task is to predict future movie ratings based on past ratings and genre information"
   ]
  },
  {
   "cell_type": "code",
   "execution_count": 5,
   "metadata": {},
   "outputs": [],
   "source": [
    "task = PredictMovieRatingsTask()"
   ]
  },
  {
   "cell_type": "markdown",
   "metadata": {},
   "source": [
    "The training data comprises of past user/item interactions, the corresponding ratings and genre information"
   ]
  },
  {
   "cell_type": "code",
   "execution_count": 6,
   "metadata": {},
   "outputs": [
    {
     "data": {
      "text/html": [
       "<div>\n",
       "<style scoped>\n",
       "    .dataframe tbody tr th:only-of-type {\n",
       "        vertical-align: middle;\n",
       "    }\n",
       "\n",
       "    .dataframe tbody tr th {\n",
       "        vertical-align: top;\n",
       "    }\n",
       "\n",
       "    .dataframe thead th {\n",
       "        text-align: right;\n",
       "    }\n",
       "</style>\n",
       "<table border=\"1\" class=\"dataframe\">\n",
       "  <thead>\n",
       "    <tr style=\"text-align: right;\">\n",
       "      <th></th>\n",
       "      <th>genres</th>\n",
       "      <th>year</th>\n",
       "      <th>user</th>\n",
       "      <th>movie</th>\n",
       "    </tr>\n",
       "  </thead>\n",
       "  <tbody>\n",
       "    <tr>\n",
       "      <th>0</th>\n",
       "      <td>Adventure|Children|Fantasy</td>\n",
       "      <td>2000</td>\n",
       "      <td>0</td>\n",
       "      <td>0</td>\n",
       "    </tr>\n",
       "    <tr>\n",
       "      <th>1</th>\n",
       "      <td>Comedy|Drama|Romance</td>\n",
       "      <td>2000</td>\n",
       "      <td>0</td>\n",
       "      <td>2</td>\n",
       "    </tr>\n",
       "    <tr>\n",
       "      <th>2</th>\n",
       "      <td>Comedy|Romance</td>\n",
       "      <td>2000</td>\n",
       "      <td>0</td>\n",
       "      <td>5</td>\n",
       "    </tr>\n",
       "    <tr>\n",
       "      <th>3</th>\n",
       "      <td>Comedy|Drama|Romance</td>\n",
       "      <td>2000</td>\n",
       "      <td>0</td>\n",
       "      <td>43</td>\n",
       "    </tr>\n",
       "    <tr>\n",
       "      <th>4</th>\n",
       "      <td>Drama</td>\n",
       "      <td>2000</td>\n",
       "      <td>0</td>\n",
       "      <td>46</td>\n",
       "    </tr>\n",
       "    <tr>\n",
       "      <th>...</th>\n",
       "      <td>...</td>\n",
       "      <td>...</td>\n",
       "      <td>...</td>\n",
       "      <td>...</td>\n",
       "    </tr>\n",
       "    <tr>\n",
       "      <th>100831</th>\n",
       "      <td></td>\n",
       "      <td>2017</td>\n",
       "      <td>609</td>\n",
       "      <td>9416</td>\n",
       "    </tr>\n",
       "    <tr>\n",
       "      <th>100832</th>\n",
       "      <td></td>\n",
       "      <td>2017</td>\n",
       "      <td>609</td>\n",
       "      <td>9443</td>\n",
       "    </tr>\n",
       "    <tr>\n",
       "      <th>100833</th>\n",
       "      <td></td>\n",
       "      <td>2017</td>\n",
       "      <td>609</td>\n",
       "      <td>9444</td>\n",
       "    </tr>\n",
       "    <tr>\n",
       "      <th>100834</th>\n",
       "      <td></td>\n",
       "      <td>2017</td>\n",
       "      <td>609</td>\n",
       "      <td>9445</td>\n",
       "    </tr>\n",
       "    <tr>\n",
       "      <th>100835</th>\n",
       "      <td></td>\n",
       "      <td>2017</td>\n",
       "      <td>609</td>\n",
       "      <td>9485</td>\n",
       "    </tr>\n",
       "  </tbody>\n",
       "</table>\n",
       "<p>94418 rows × 4 columns</p>\n",
       "</div>"
      ],
      "text/plain": [
       "                            genres  year  user  movie\n",
       "0       Adventure|Children|Fantasy  2000     0      0\n",
       "1             Comedy|Drama|Romance  2000     0      2\n",
       "2                   Comedy|Romance  2000     0      5\n",
       "3             Comedy|Drama|Romance  2000     0     43\n",
       "4                            Drama  2000     0     46\n",
       "...                            ...   ...   ...    ...\n",
       "100831                              2017   609   9416\n",
       "100832                              2017   609   9443\n",
       "100833                              2017   609   9444\n",
       "100834                              2017   609   9445\n",
       "100835                              2017   609   9485\n",
       "\n",
       "[94418 rows x 4 columns]"
      ]
     },
     "execution_count": 6,
     "metadata": {},
     "output_type": "execute_result"
    }
   ],
   "source": [
    "task.train_data"
   ]
  },
  {
   "cell_type": "code",
   "execution_count": 7,
   "metadata": {},
   "outputs": [
    {
     "data": {
      "text/plain": [
       "0         4.0\n",
       "1         4.0\n",
       "2         4.0\n",
       "3         5.0\n",
       "4         5.0\n",
       "         ... \n",
       "100831    4.0\n",
       "100832    5.0\n",
       "100833    5.0\n",
       "100834    5.0\n",
       "100835    3.0\n",
       "Name: rating, Length: 94418, dtype: float32"
      ]
     },
     "execution_count": 7,
     "metadata": {},
     "output_type": "execute_result"
    }
   ],
   "source": [
    "task.train_ratings"
   ]
  },
  {
   "cell_type": "markdown",
   "metadata": {},
   "source": [
    "We provide a baseline model which computes embeddings of users and items"
   ]
  },
  {
   "cell_type": "code",
   "execution_count": 8,
   "metadata": {},
   "outputs": [
    {
     "name": "stdout",
     "output_type": "stream",
     "text": [
      "WARNING:tensorflow:From /home/ssc/Entwicklung/projects/jenga/env/lib/python3.6/site-packages/keras/backend/tensorflow_backend.py:422: The name tf.global_variables is deprecated. Please use tf.compat.v1.global_variables instead.\n",
      "\n",
      "Epoch 1/15\n",
      "94418/94418 [==============================] - 11s 122us/step - loss: 0.9084\n",
      "Epoch 2/15\n",
      "94418/94418 [==============================] - 11s 118us/step - loss: 0.7656\n",
      "Epoch 3/15\n",
      "94418/94418 [==============================] - 11s 118us/step - loss: 0.7300\n",
      "Epoch 4/15\n",
      "94418/94418 [==============================] - 11s 119us/step - loss: 0.7176\n",
      "Epoch 5/15\n",
      "94418/94418 [==============================] - 11s 119us/step - loss: 0.7060\n",
      "Epoch 6/15\n",
      "94418/94418 [==============================] - 11s 119us/step - loss: 0.7015\n",
      "Epoch 7/15\n",
      "94418/94418 [==============================] - 11s 119us/step - loss: 0.6954\n",
      "Epoch 8/15\n",
      "94418/94418 [==============================] - 11s 119us/step - loss: 0.6925\n",
      "Epoch 9/15\n",
      "94418/94418 [==============================] - 11s 119us/step - loss: 0.6860\n",
      "Epoch 10/15\n",
      "94418/94418 [==============================] - 11s 120us/step - loss: 0.6852\n",
      "Epoch 11/15\n",
      "94418/94418 [==============================] - 11s 120us/step - loss: 0.6831\n",
      "Epoch 12/15\n",
      "94418/94418 [==============================] - 11s 121us/step - loss: 0.6796\n",
      "Epoch 13/15\n",
      "94418/94418 [==============================] - 11s 121us/step - loss: 0.6798\n",
      "Epoch 14/15\n",
      "94418/94418 [==============================] - 12s 124us/step - loss: 0.6783\n",
      "Epoch 15/15\n",
      "94418/94418 [==============================] - 12s 124us/step - loss: 0.6742\n"
     ]
    }
   ],
   "source": [
    "model = task.fit_baseline_model(task.train_data, task.train_ratings)"
   ]
  },
  {
   "cell_type": "markdown",
   "metadata": {},
   "source": [
    "The test data comprises of held out ratings from the future"
   ]
  },
  {
   "cell_type": "code",
   "execution_count": 9,
   "metadata": {},
   "outputs": [
    {
     "data": {
      "text/html": [
       "<div>\n",
       "<style scoped>\n",
       "    .dataframe tbody tr th:only-of-type {\n",
       "        vertical-align: middle;\n",
       "    }\n",
       "\n",
       "    .dataframe tbody tr th {\n",
       "        vertical-align: top;\n",
       "    }\n",
       "\n",
       "    .dataframe thead th {\n",
       "        text-align: right;\n",
       "    }\n",
       "</style>\n",
       "<table border=\"1\" class=\"dataframe\">\n",
       "  <thead>\n",
       "    <tr style=\"text-align: right;\">\n",
       "      <th></th>\n",
       "      <th>genres</th>\n",
       "      <th>year</th>\n",
       "      <th>user</th>\n",
       "      <th>movie</th>\n",
       "    </tr>\n",
       "  </thead>\n",
       "  <tbody>\n",
       "    <tr>\n",
       "      <th>1839</th>\n",
       "      <td>Film-Noir|Mystery|Thriller</td>\n",
       "      <td>2018</td>\n",
       "      <td>17</td>\n",
       "      <td>695</td>\n",
       "    </tr>\n",
       "    <tr>\n",
       "      <th>1852</th>\n",
       "      <td>Horror|Sci-Fi|Thriller</td>\n",
       "      <td>2018</td>\n",
       "      <td>17</td>\n",
       "      <td>895</td>\n",
       "    </tr>\n",
       "    <tr>\n",
       "      <th>1980</th>\n",
       "      <td>Crime|Drama</td>\n",
       "      <td>2018</td>\n",
       "      <td>17</td>\n",
       "      <td>3706</td>\n",
       "    </tr>\n",
       "    <tr>\n",
       "      <th>2012</th>\n",
       "      <td>Comedy|Musical|Romance</td>\n",
       "      <td>2018</td>\n",
       "      <td>17</td>\n",
       "      <td>4561</td>\n",
       "    </tr>\n",
       "    <tr>\n",
       "      <th>2053</th>\n",
       "      <td></td>\n",
       "      <td>2018</td>\n",
       "      <td>17</td>\n",
       "      <td>5712</td>\n",
       "    </tr>\n",
       "    <tr>\n",
       "      <th>...</th>\n",
       "      <td>...</td>\n",
       "      <td>...</td>\n",
       "      <td>...</td>\n",
       "      <td>...</td>\n",
       "    </tr>\n",
       "    <tr>\n",
       "      <th>95960</th>\n",
       "      <td></td>\n",
       "      <td>2018</td>\n",
       "      <td>600</td>\n",
       "      <td>9479</td>\n",
       "    </tr>\n",
       "    <tr>\n",
       "      <th>95961</th>\n",
       "      <td></td>\n",
       "      <td>2018</td>\n",
       "      <td>600</td>\n",
       "      <td>9523</td>\n",
       "    </tr>\n",
       "    <tr>\n",
       "      <th>95962</th>\n",
       "      <td></td>\n",
       "      <td>2018</td>\n",
       "      <td>600</td>\n",
       "      <td>9553</td>\n",
       "    </tr>\n",
       "    <tr>\n",
       "      <th>95963</th>\n",
       "      <td></td>\n",
       "      <td>2018</td>\n",
       "      <td>600</td>\n",
       "      <td>9586</td>\n",
       "    </tr>\n",
       "    <tr>\n",
       "      <th>95964</th>\n",
       "      <td></td>\n",
       "      <td>2018</td>\n",
       "      <td>600</td>\n",
       "      <td>9603</td>\n",
       "    </tr>\n",
       "  </tbody>\n",
       "</table>\n",
       "<p>6418 rows × 4 columns</p>\n",
       "</div>"
      ],
      "text/plain": [
       "                           genres  year  user  movie\n",
       "1839   Film-Noir|Mystery|Thriller  2018    17    695\n",
       "1852       Horror|Sci-Fi|Thriller  2018    17    895\n",
       "1980                  Crime|Drama  2018    17   3706\n",
       "2012       Comedy|Musical|Romance  2018    17   4561\n",
       "2053                               2018    17   5712\n",
       "...                           ...   ...   ...    ...\n",
       "95960                              2018   600   9479\n",
       "95961                              2018   600   9523\n",
       "95962                              2018   600   9553\n",
       "95963                              2018   600   9586\n",
       "95964                              2018   600   9603\n",
       "\n",
       "[6418 rows x 4 columns]"
      ]
     },
     "execution_count": 9,
     "metadata": {},
     "output_type": "execute_result"
    }
   ],
   "source": [
    "task.test_data"
   ]
  },
  {
   "cell_type": "code",
   "execution_count": 15,
   "metadata": {},
   "outputs": [
    {
     "data": {
      "text/plain": [
       "1.0435545"
      ]
     },
     "execution_count": 15,
     "metadata": {},
     "output_type": "execute_result"
    }
   ],
   "source": [
    "predicted_ratings = model.predict(task.test_data)\n",
    "task.score_on_test_ratings(predicted_ratings)"
   ]
  },
  {
   "cell_type": "markdown",
   "metadata": {},
   "source": [
    "We can check what happens when a large portion of the genre data is missing"
   ]
  },
  {
   "cell_type": "code",
   "execution_count": 17,
   "metadata": {},
   "outputs": [
    {
     "data": {
      "text/html": [
       "<div>\n",
       "<style scoped>\n",
       "    .dataframe tbody tr th:only-of-type {\n",
       "        vertical-align: middle;\n",
       "    }\n",
       "\n",
       "    .dataframe tbody tr th {\n",
       "        vertical-align: top;\n",
       "    }\n",
       "\n",
       "    .dataframe thead th {\n",
       "        text-align: right;\n",
       "    }\n",
       "</style>\n",
       "<table border=\"1\" class=\"dataframe\">\n",
       "  <thead>\n",
       "    <tr style=\"text-align: right;\">\n",
       "      <th></th>\n",
       "      <th>genres</th>\n",
       "      <th>year</th>\n",
       "      <th>user</th>\n",
       "      <th>movie</th>\n",
       "    </tr>\n",
       "  </thead>\n",
       "  <tbody>\n",
       "    <tr>\n",
       "      <th>1839</th>\n",
       "      <td></td>\n",
       "      <td>2018</td>\n",
       "      <td>17</td>\n",
       "      <td>695</td>\n",
       "    </tr>\n",
       "    <tr>\n",
       "      <th>1852</th>\n",
       "      <td></td>\n",
       "      <td>2018</td>\n",
       "      <td>17</td>\n",
       "      <td>895</td>\n",
       "    </tr>\n",
       "    <tr>\n",
       "      <th>1980</th>\n",
       "      <td></td>\n",
       "      <td>2018</td>\n",
       "      <td>17</td>\n",
       "      <td>3706</td>\n",
       "    </tr>\n",
       "    <tr>\n",
       "      <th>2012</th>\n",
       "      <td></td>\n",
       "      <td>2018</td>\n",
       "      <td>17</td>\n",
       "      <td>4561</td>\n",
       "    </tr>\n",
       "    <tr>\n",
       "      <th>2053</th>\n",
       "      <td></td>\n",
       "      <td>2018</td>\n",
       "      <td>17</td>\n",
       "      <td>5712</td>\n",
       "    </tr>\n",
       "    <tr>\n",
       "      <th>...</th>\n",
       "      <td>...</td>\n",
       "      <td>...</td>\n",
       "      <td>...</td>\n",
       "      <td>...</td>\n",
       "    </tr>\n",
       "    <tr>\n",
       "      <th>95960</th>\n",
       "      <td></td>\n",
       "      <td>2018</td>\n",
       "      <td>600</td>\n",
       "      <td>9479</td>\n",
       "    </tr>\n",
       "    <tr>\n",
       "      <th>95961</th>\n",
       "      <td></td>\n",
       "      <td>2018</td>\n",
       "      <td>600</td>\n",
       "      <td>9523</td>\n",
       "    </tr>\n",
       "    <tr>\n",
       "      <th>95962</th>\n",
       "      <td></td>\n",
       "      <td>2018</td>\n",
       "      <td>600</td>\n",
       "      <td>9553</td>\n",
       "    </tr>\n",
       "    <tr>\n",
       "      <th>95963</th>\n",
       "      <td></td>\n",
       "      <td>2018</td>\n",
       "      <td>600</td>\n",
       "      <td>9586</td>\n",
       "    </tr>\n",
       "    <tr>\n",
       "      <th>95964</th>\n",
       "      <td></td>\n",
       "      <td>2018</td>\n",
       "      <td>600</td>\n",
       "      <td>9603</td>\n",
       "    </tr>\n",
       "  </tbody>\n",
       "</table>\n",
       "<p>6418 rows × 4 columns</p>\n",
       "</div>"
      ],
      "text/plain": [
       "      genres  year  user  movie\n",
       "1839          2018    17    695\n",
       "1852          2018    17    895\n",
       "1980          2018    17   3706\n",
       "2012          2018    17   4561\n",
       "2053          2018    17   5712\n",
       "...      ...   ...   ...    ...\n",
       "95960         2018   600   9479\n",
       "95961         2018   600   9523\n",
       "95962         2018   600   9553\n",
       "95963         2018   600   9586\n",
       "95964         2018   600   9603\n",
       "\n",
       "[6418 rows x 4 columns]"
      ]
     },
     "execution_count": 17,
     "metadata": {},
     "output_type": "execute_result"
    }
   ],
   "source": [
    "from jenga.corruptions.text import MissingValues\n",
    "\n",
    "missing_values_corruption = MissingValues(column='genres', fraction=0.8, na_value='')\n",
    "\n",
    "corrupted_test_data = missing_values_corruption.transform(task.test_data)\n",
    "corrupted_test_data"
   ]
  },
  {
   "cell_type": "code",
   "execution_count": 14,
   "metadata": {},
   "outputs": [
    {
     "data": {
      "text/plain": [
       "1.0435599"
      ]
     },
     "execution_count": 14,
     "metadata": {},
     "output_type": "execute_result"
    }
   ],
   "source": [
    "predicted_ratings = model.predict(corrupted_test_data)\n",
    "task.score_on_test_ratings(predicted_ratings)"
   ]
  }
 ],
 "metadata": {
  "kernelspec": {
   "display_name": "Python 3",
   "language": "python",
   "name": "python3"
  },
  "language_info": {
   "codemirror_mode": {
    "name": "ipython",
    "version": 3
   },
   "file_extension": ".py",
   "mimetype": "text/x-python",
   "name": "python",
   "nbconvert_exporter": "python",
   "pygments_lexer": "ipython3",
   "version": "3.6.10"
  }
 },
 "nbformat": 4,
 "nbformat_minor": 4
}
