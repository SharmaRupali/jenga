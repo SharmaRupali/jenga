{
 "cells": [
  {
   "cell_type": "code",
   "execution_count": 1,
   "metadata": {},
   "outputs": [],
   "source": [
    "from jenga.tasks.income import IncomeEstimationTask\n",
    "from jenga.corruptions.generic import MissingValues\n",
    "from jenga.evaluation.corruption_impact import CorruptionImpactEvaluator\n",
    "import matplotlib.pyplot as plt\n",
    "\n",
    "import numpy as np\n",
    "import datawig "
   ]
  },
  {
   "cell_type": "markdown",
   "metadata": {},
   "source": [
    "### Instantiate the income estimation task, make it ignore incomplete records for model training"
   ]
  },
  {
   "cell_type": "code",
   "execution_count": 2,
   "metadata": {},
   "outputs": [],
   "source": [
    "task = IncomeEstimationTask(seed=42, ignore_incomplete_records_for_training=True)"
   ]
  },
  {
   "cell_type": "markdown",
   "metadata": {},
   "source": [
    "### A missing value imputer which imputes the most frequent value per column"
   ]
  },
  {
   "cell_type": "code",
   "execution_count": 3,
   "metadata": {},
   "outputs": [],
   "source": [
    "class ModeImputer:\n",
    "    def __init__(self, columns):\n",
    "        self.columns = columns\n",
    "        self.modes = {}\n",
    "        \n",
    "    def fit(self, data):\n",
    "        for column in self.columns:\n",
    "            mode = data[column].value_counts().index[0]\n",
    "            self.modes[column] = mode\n",
    "            \n",
    "    def transform(self, data):\n",
    "        imputed = data.copy(deep=True)\n",
    "        for column in self.columns:\n",
    "            imputed[column].fillna(self.modes[column], inplace=True) \n",
    "        return imputed\n",
    "            \n",
    "imputer = ModeImputer(['education', 'workclass', 'marital_status', 'occupation'])\n",
    "imputer.fit(task.train_data)"
   ]
  },
  {
   "cell_type": "markdown",
   "metadata": {},
   "source": [
    "### A missing value which learns an imputation model via the datawig library"
   ]
  },
  {
   "cell_type": "code",
   "execution_count": 5,
   "metadata": {},
   "outputs": [],
   "source": [
    "class DatawigImputer:\n",
    "    def __init__(self, input_columns, target_column):\n",
    "        self.input_columns = input_columns\n",
    "        self.target_column = target_column\n",
    "        self.model = None\n",
    "        \n",
    "    def fit(self, data):\n",
    "        self.model = datawig.SimpleImputer(\n",
    "            input_columns=self.input_columns,\n",
    "            output_column=self.target_column,\n",
    "            output_path = f'imputer_model_{self.target_column}',\n",
    "            is_explainable=False).fit(data)\n",
    "        self.model = self.model.load(f'imputer_model_{self.target_column}')\n",
    "            \n",
    "    def transform(self, data):\n",
    "        imputed = data\n",
    "        imputed = self.model.predict(imputed, inplace=True)\n",
    "        imputed.loc[imputed[self.target_column].isnull(), self.target_column] = \\\n",
    "            imputed[self.target_column + '_imputed']\n",
    "        \n",
    "        return imputed"
   ]
  },
  {
   "cell_type": "markdown",
   "metadata": {},
   "source": [
    "### We train imputation models for each column of interest"
   ]
  },
  {
   "cell_type": "code",
   "execution_count": 6,
   "metadata": {},
   "outputs": [
    {
     "name": "stderr",
     "output_type": "stream",
     "text": [
      "2020-10-19 19:39:05,883 [INFO]  CategoricalEncoder for column education                                found only 34 occurrences of value Preschool\n",
      "2020-10-19 19:39:09,922 [INFO]  \n",
      "========== start: fit model\n",
      "2020-10-19 19:39:09,923 [WARNING]  Already bound, ignoring bind()\n",
      "2020-10-19 19:39:13,999 [INFO]  Epoch[0] Batch [0-680]\tSpeed: 2679.75 samples/sec\tcross-entropy=1.743749\teducation-accuracy=0.389776\n",
      "2020-10-19 19:39:18,054 [INFO]  Epoch[0] Train-cross-entropy=1.680336\n",
      "2020-10-19 19:39:18,055 [INFO]  Epoch[0] Train-education-accuracy=0.394543\n",
      "2020-10-19 19:39:18,056 [INFO]  Epoch[0] Time cost=8.131\n",
      "2020-10-19 19:39:18,072 [INFO]  Saved checkpoint to \"imputer_model_education/model-0000.params\"\n",
      "2020-10-19 19:39:18,711 [INFO]  Epoch[0] Validation-cross-entropy=1.691406\n",
      "2020-10-19 19:39:18,712 [INFO]  Epoch[0] Validation-education-accuracy=0.393626\n",
      "2020-10-19 19:39:22,807 [INFO]  Epoch[1] Batch [0-680]\tSpeed: 2660.46 samples/sec\tcross-entropy=1.664310\teducation-accuracy=0.396659\n",
      "2020-10-19 19:39:26,873 [INFO]  Epoch[1] Train-cross-entropy=1.670714\n",
      "2020-10-19 19:39:26,874 [INFO]  Epoch[1] Train-education-accuracy=0.396018\n",
      "2020-10-19 19:39:26,875 [INFO]  Epoch[1] Time cost=8.163\n",
      "2020-10-19 19:39:26,882 [INFO]  Saved checkpoint to \"imputer_model_education/model-0001.params\"\n",
      "2020-10-19 19:39:27,527 [INFO]  Epoch[1] Validation-cross-entropy=1.689636\n",
      "2020-10-19 19:39:27,528 [INFO]  Epoch[1] Validation-education-accuracy=0.393626\n",
      "2020-10-19 19:39:31,642 [INFO]  Epoch[2] Batch [0-680]\tSpeed: 2647.92 samples/sec\tcross-entropy=1.661553\teducation-accuracy=0.395833\n",
      "2020-10-19 19:39:35,777 [INFO]  Epoch[2] Train-cross-entropy=1.668964\n",
      "2020-10-19 19:39:35,778 [INFO]  Epoch[2] Train-education-accuracy=0.395465\n",
      "2020-10-19 19:39:35,779 [INFO]  Epoch[2] Time cost=8.250\n",
      "2020-10-19 19:39:35,788 [INFO]  Saved checkpoint to \"imputer_model_education/model-0002.params\"\n",
      "2020-10-19 19:39:36,433 [INFO]  Epoch[2] Validation-cross-entropy=1.690100\n",
      "2020-10-19 19:39:36,434 [INFO]  Epoch[2] Validation-education-accuracy=0.397351\n",
      "2020-10-19 19:39:40,534 [INFO]  Epoch[3] Batch [0-680]\tSpeed: 2657.71 samples/sec\tcross-entropy=1.660772\teducation-accuracy=0.395742\n",
      "2020-10-19 19:39:44,626 [INFO]  Epoch[3] Train-cross-entropy=1.668417\n",
      "2020-10-19 19:39:44,627 [INFO]  Epoch[3] Train-education-accuracy=0.394912\n",
      "2020-10-19 19:39:44,627 [INFO]  Epoch[3] Time cost=8.192\n",
      "2020-10-19 19:39:44,637 [INFO]  Saved checkpoint to \"imputer_model_education/model-0003.params\"\n",
      "2020-10-19 19:39:45,271 [INFO]  Epoch[3] Validation-cross-entropy=1.690723\n",
      "2020-10-19 19:39:45,272 [INFO]  Epoch[3] Validation-education-accuracy=0.397351\n",
      "2020-10-19 19:39:49,396 [INFO]  Epoch[4] Batch [0-680]\tSpeed: 2641.44 samples/sec\tcross-entropy=1.660451\teducation-accuracy=0.395925\n",
      "2020-10-19 19:39:53,719 [INFO]  Epoch[4] Train-cross-entropy=1.668202\n",
      "2020-10-19 19:39:53,720 [INFO]  Epoch[4] Train-education-accuracy=0.394819\n",
      "2020-10-19 19:39:53,721 [INFO]  Epoch[4] Time cost=8.449\n",
      "2020-10-19 19:39:53,731 [INFO]  Saved checkpoint to \"imputer_model_education/model-0004.params\"\n",
      "2020-10-19 19:39:54,391 [INFO]  Epoch[4] Validation-cross-entropy=1.691281\n",
      "2020-10-19 19:39:54,391 [INFO]  Epoch[4] Validation-education-accuracy=0.397351\n",
      "2020-10-19 19:39:58,818 [INFO]  Epoch[5] Batch [0-680]\tSpeed: 2460.79 samples/sec\tcross-entropy=1.660292\teducation-accuracy=0.396200\n",
      "2020-10-19 19:40:03,191 [INFO]  Epoch[5] Train-cross-entropy=1.668102\n",
      "2020-10-19 19:40:03,192 [INFO]  Epoch[5] Train-education-accuracy=0.394451\n",
      "2020-10-19 19:40:03,193 [INFO]  Epoch[5] Time cost=8.801\n",
      "2020-10-19 19:40:03,201 [INFO]  Saved checkpoint to \"imputer_model_education/model-0005.params\"\n",
      "2020-10-19 19:40:03,863 [INFO]  Epoch[5] Validation-cross-entropy=1.691768\n",
      "2020-10-19 19:40:03,864 [INFO]  Epoch[5] Validation-education-accuracy=0.397351\n",
      "2020-10-19 19:40:08,004 [INFO]  Epoch[6] Batch [0-680]\tSpeed: 2631.51 samples/sec\tcross-entropy=1.660203\teducation-accuracy=0.396017\n",
      "2020-10-19 19:40:12,095 [INFO]  Epoch[6] Train-cross-entropy=1.668051\n",
      "2020-10-19 19:40:12,096 [INFO]  Epoch[6] Train-education-accuracy=0.394451\n",
      "2020-10-19 19:40:12,097 [INFO]  Epoch[6] Time cost=8.232\n",
      "2020-10-19 19:40:12,106 [INFO]  Saved checkpoint to \"imputer_model_education/model-0006.params\"\n",
      "2020-10-19 19:40:12,740 [INFO]  No improvement detected for 5 epochs compared to 1.6896359636294132 last error obtained: 1.692201592274849, stopping here\n",
      "2020-10-19 19:40:12,741 [INFO]  \n",
      "========== done (62.819414138793945 s) fit model\n",
      "/Users/felix/code/jenga/yacl_env/lib/python3.7/site-packages/sklearn/metrics/classification.py:1437: UndefinedMetricWarning: Precision is ill-defined and being set to 0.0 in labels with no predicted samples.\n",
      "  'precision', 'predicted', average, warn_for)\n",
      "/Users/felix/code/jenga/yacl_env/lib/python3.7/site-packages/sklearn/metrics/classification.py:1437: UndefinedMetricWarning: F-score is ill-defined and being set to 0.0 in labels with no predicted samples.\n",
      "  'precision', 'predicted', average, warn_for)\n"
     ]
    }
   ],
   "source": [
    "education_imputer = DatawigImputer(['occupation', 'marital_status', 'workclass'], 'education')\n",
    "education_imputer.fit(task.train_data)"
   ]
  },
  {
   "cell_type": "code",
   "execution_count": null,
   "metadata": {},
   "outputs": [],
   "source": [
    "occupation_imputer = DatawigImputer(['education', 'marital_status', 'workclass'], 'occupation')\n",
    "occupation_imputer.fit(task.train_data)"
   ]
  },
  {
   "cell_type": "code",
   "execution_count": null,
   "metadata": {},
   "outputs": [],
   "source": [
    "marital_status_imputer = DatawigImputer(['education', 'occupation', 'workclass'], 'marital_status')\n",
    "marital_status_imputer.fit(task.train_data)"
   ]
  },
  {
   "cell_type": "code",
   "execution_count": null,
   "metadata": {},
   "outputs": [],
   "source": [
    "workclass_imputer = DatawigImputer(['education', 'occupation', 'marital_status'], 'workclass')\n",
    "workclass_imputer.fit(task.train_data)"
   ]
  },
  {
   "cell_type": "markdown",
   "metadata": {},
   "source": [
    "### Some glue code (decorators) to be able to apply the imputers in our task"
   ]
  },
  {
   "cell_type": "code",
   "execution_count": null,
   "metadata": {},
   "outputs": [],
   "source": [
    "class ChainedModelDecorator:\n",
    "    def __init__(self, model, imputers):\n",
    "        self.model = model\n",
    "        self.imputers = imputers\n",
    "        \n",
    "    def predict_proba(self, data):\n",
    "        imputed = data\n",
    "        for imputer in self.imputers:\n",
    "            imputed = imputer.transform(imputed)\n",
    "        \n",
    "        return self.model.predict_proba(imputed)"
   ]
  },
  {
   "cell_type": "code",
   "execution_count": null,
   "metadata": {},
   "outputs": [],
   "source": [
    "class ModelDecorator:\n",
    "    def __init__(self, model, imputer):\n",
    "        self.model = model\n",
    "        self.imputer = imputer\n",
    "        \n",
    "    def predict_proba(self, data):\n",
    "        return self.model.predict_proba(self.imputer.transform(data))"
   ]
  },
  {
   "cell_type": "markdown",
   "metadata": {},
   "source": [
    "### We generate the data corruptions to evaluate: missing values of different kinds and strengths for the columns of interest"
   ]
  },
  {
   "cell_type": "code",
   "execution_count": 11,
   "metadata": {},
   "outputs": [],
   "source": [
    "evaluator = CorruptionImpactEvaluator(task)\n",
    "\n",
    "corruptions = []\n",
    "for impacted_column in ['education', 'workclass', 'marital_status', 'occupation']:\n",
    "    for fraction in [0.99, 0.5, 0.25, 0.1, 0.01]:\n",
    "        for missingness in ['MCAR', 'MAR', 'MNAR']:\n",
    "            corruption = MissingValues(impacted_column, fraction, missingness=missingness, na_value=np.nan)\n",
    "            corruptions.append(corruption)"
   ]
  },
  {
   "cell_type": "markdown",
   "metadata": {},
   "source": [
    "### Train the baseline model"
   ]
  },
  {
   "cell_type": "code",
   "execution_count": 12,
   "metadata": {},
   "outputs": [
    {
     "name": "stdout",
     "output_type": "stream",
     "text": [
      "Fitting 5 folds for each of 12 candidates, totalling 60 fits\n"
     ]
    },
    {
     "name": "stderr",
     "output_type": "stream",
     "text": [
      "[Parallel(n_jobs=-1)]: Using backend LokyBackend with 8 concurrent workers.\n",
      "[Parallel(n_jobs=-1)]: Done  34 tasks      | elapsed:    2.5s\n",
      "[Parallel(n_jobs=-1)]: Done  60 out of  60 | elapsed:    2.8s finished\n"
     ]
    }
   ],
   "source": [
    "model = task.fit_baseline_model(task.train_data, task.train_labels)"
   ]
  },
  {
   "cell_type": "markdown",
   "metadata": {},
   "source": [
    "### We create two additional models, one that uses the datawig imputers and another one that uses the  mode imputer"
   ]
  },
  {
   "cell_type": "code",
   "execution_count": 13,
   "metadata": {},
   "outputs": [],
   "source": [
    "datawig_model = ChainedModelDecorator(model, [education_imputer, workclass_imputer, \n",
    "                                                        marital_status_imputer, occupation_imputer])\n",
    "mode_model = ModelDecorator(model, imputer)"
   ]
  },
  {
   "cell_type": "markdown",
   "metadata": {},
   "source": [
    "### Evaluate the impact of the corruptions on the baseline model and the model with mode imputation"
   ]
  },
  {
   "cell_type": "code",
   "execution_count": 14,
   "metadata": {},
   "outputs": [
    {
     "name": "stdout",
     "output_type": "stream",
     "text": [
      "0/600 (0.018067999999971107)\n",
      "10/600 (0.18157499999995252)\n",
      "20/600 (0.37378000000001066)\n",
      "30/600 (0.571939000000043)\n",
      "40/600 (0.7400380000000268)\n",
      "50/600 (0.9264269999999897)\n",
      "60/600 (1.1226120000000037)\n",
      "70/600 (1.2921609999999646)\n",
      "80/600 (1.4886249999999563)\n",
      "90/600 (1.6762169999999514)\n",
      "100/600 (1.8550400000000309)\n",
      "110/600 (2.0449240000000373)\n",
      "120/600 (2.225684000000001)\n",
      "130/600 (2.391795000000002)\n",
      "140/600 (2.574662999999987)\n",
      "150/600 (2.7638130000000274)\n",
      "160/600 (2.92689699999994)\n",
      "170/600 (3.121667000000002)\n",
      "180/600 (3.308360999999991)\n",
      "190/600 (3.4760880000000043)\n",
      "200/600 (3.659656000000041)\n",
      "210/600 (3.8413570000000163)\n",
      "220/600 (4.005374999999958)\n",
      "230/600 (4.188624000000004)\n",
      "240/600 (4.371089999999981)\n",
      "250/600 (4.543155999999954)\n",
      "260/600 (4.731244999999944)\n",
      "270/600 (4.907306999999946)\n",
      "280/600 (5.071069999999963)\n",
      "290/600 (5.256968000000029)\n",
      "300/600 (5.436839999999961)\n",
      "310/600 (5.6028219999999465)\n",
      "320/600 (5.793888000000038)\n",
      "330/600 (5.985816999999997)\n",
      "340/600 (6.155250000000024)\n",
      "350/600 (6.346122000000037)\n",
      "360/600 (6.542408000000023)\n",
      "370/600 (6.706868999999983)\n",
      "380/600 (6.899511999999959)\n",
      "390/600 (7.097021000000041)\n",
      "400/600 (7.272051000000033)\n",
      "410/600 (7.4637709999999515)\n",
      "420/600 (7.650170000000003)\n",
      "430/600 (7.8132060000000365)\n",
      "440/600 (8.002296999999999)\n",
      "450/600 (8.186973999999964)\n",
      "460/600 (8.346529000000032)\n",
      "470/600 (8.544209000000023)\n",
      "480/600 (8.736957999999959)\n",
      "490/600 (8.900903999999969)\n",
      "500/600 (9.091199999999958)\n",
      "510/600 (9.278759000000036)\n",
      "520/600 (9.439880000000016)\n",
      "530/600 (9.634183000000007)\n",
      "540/600 (9.81777599999998)\n",
      "550/600 (9.995694999999955)\n",
      "560/600 (10.184056999999939)\n",
      "570/600 (10.358652000000006)\n",
      "580/600 (10.522441999999955)\n",
      "590/600 (10.701734999999985)\n",
      "0/600 (0.018120999999950982)\n",
      "10/600 (0.2006900000000087)\n",
      "20/600 (0.4083610000000135)\n",
      "30/600 (0.6079559999999447)\n",
      "40/600 (0.7862350000000333)\n",
      "50/600 (1.0002940000000535)\n",
      "60/600 (1.2036970000000338)\n",
      "70/600 (1.3794060000000172)\n",
      "80/600 (1.5870680000000448)\n",
      "90/600 (1.7826350000000275)\n",
      "100/600 (1.9661180000000513)\n",
      "110/600 (2.159102999999959)\n",
      "120/600 (2.3510539999999764)\n",
      "130/600 (2.5215309999999818)\n",
      "140/600 (2.722851999999989)\n",
      "150/600 (2.9170820000000504)\n",
      "160/600 (3.1023229999999558)\n",
      "170/600 (3.31231200000002)\n",
      "180/600 (3.51729899999998)\n",
      "190/600 (3.6933989999999994)\n",
      "200/600 (3.8963129999999637)\n",
      "210/600 (4.101211000000035)\n",
      "220/600 (4.27342299999998)\n",
      "230/600 (4.466996999999992)\n",
      "240/600 (4.663390000000049)\n",
      "250/600 (4.846767)\n",
      "260/600 (5.0463379999999916)\n",
      "270/600 (5.244549000000006)\n",
      "280/600 (5.415923000000021)\n",
      "290/600 (5.614220000000046)\n",
      "300/600 (5.8036990000000515)\n",
      "310/600 (5.980098999999996)\n",
      "320/600 (6.191917999999987)\n",
      "330/600 (6.428027000000043)\n",
      "340/600 (6.620150999999964)\n",
      "350/600 (6.8446219999999585)\n",
      "360/600 (7.059822000000054)\n",
      "370/600 (7.262691000000018)\n",
      "380/600 (7.464240000000018)\n",
      "390/600 (7.668294999999944)\n",
      "400/600 (7.863332000000014)\n",
      "410/600 (8.066697999999974)\n",
      "420/600 (8.257117999999991)\n",
      "430/600 (8.434908999999948)\n",
      "440/600 (8.637802999999963)\n",
      "450/600 (8.86886800000002)\n",
      "460/600 (9.06553299999996)\n",
      "470/600 (9.28471300000001)\n",
      "480/600 (9.489995000000022)\n",
      "490/600 (9.672150999999985)\n",
      "500/600 (9.881079)\n",
      "510/600 (10.096034000000031)\n",
      "520/600 (10.278963999999974)\n",
      "530/600 (10.481623000000013)\n",
      "540/600 (10.68660699999998)\n",
      "550/600 (10.876137999999969)\n",
      "560/600 (11.105128000000036)\n",
      "570/600 (11.316790999999967)\n",
      "580/600 (11.486856999999986)\n",
      "590/600 (11.680926)\n"
     ]
    }
   ],
   "source": [
    "results = evaluator.evaluate(model, 10, *corruptions)\n",
    "decorated_results = evaluator.evaluate(mode_model, 10, *corruptions)"
   ]
  },
  {
   "cell_type": "markdown",
   "metadata": {},
   "source": [
    "### Evaluate the impact of the corruptions on the model with datawig imputation"
   ]
  },
  {
   "cell_type": "code",
   "execution_count": 15,
   "metadata": {},
   "outputs": [
    {
     "name": "stdout",
     "output_type": "stream",
     "text": [
      "0/600 (11.86254299999996)\n",
      "10/600 (128.9645129999999)\n",
      "20/600 (246.4008859999999)\n",
      "30/600 (366.53010300000005)\n",
      "40/600 (482.4960040000001)\n",
      "50/600 (600.3487640000001)\n",
      "60/600 (716.725077)\n",
      "70/600 (832.312702)\n",
      "80/600 (947.9203749999999)\n",
      "90/600 (1065.9548650000002)\n",
      "100/600 (1181.7533119999998)\n",
      "110/600 (1297.347561)\n",
      "120/600 (1413.7665379999999)\n",
      "130/600 (1529.893301)\n",
      "140/600 (1646.086065)\n",
      "150/600 (1762.0853940000002)\n",
      "160/600 (1875.9627460000002)\n",
      "170/600 (1989.705394)\n",
      "180/600 (2103.590079)\n",
      "190/600 (2217.573888)\n",
      "200/600 (2330.545918)\n",
      "210/600 (2444.363561)\n",
      "220/600 (2557.689918)\n",
      "230/600 (2670.972827)\n",
      "240/600 (2784.29665)\n",
      "250/600 (2896.343718)\n",
      "260/600 (3008.512935)\n",
      "270/600 (3120.6813859999997)\n",
      "280/600 (3232.7115980000003)\n",
      "290/600 (3344.94825)\n",
      "300/600 (3456.9909599999996)\n",
      "310/600 (3565.049216)\n",
      "320/600 (3673.431373)\n",
      "330/600 (3781.2083070000003)\n",
      "340/600 (3890.7381840000003)\n",
      "350/600 (4000.4320970000003)\n",
      "360/600 (4111.335174)\n",
      "370/600 (4228.531938)\n",
      "380/600 (4348.022967000001)\n",
      "390/600 (4467.6074100000005)\n",
      "400/600 (4589.407471)\n",
      "410/600 (4708.736843999999)\n",
      "420/600 (4827.306988)\n",
      "430/600 (4945.860414000001)\n",
      "440/600 (5064.913444)\n",
      "450/600 (5183.076211)\n",
      "460/600 (5295.958649)\n",
      "470/600 (5411.101602999999)\n",
      "480/600 (5525.182957000001)\n"
     ]
    },
    {
     "ename": "KeyboardInterrupt",
     "evalue": "",
     "output_type": "error",
     "traceback": [
      "\u001b[0;31m---------------------------------------------------------------------------\u001b[0m",
      "\u001b[0;31mKeyboardInterrupt\u001b[0m                         Traceback (most recent call last)",
      "\u001b[0;32m<ipython-input-15-5416ec92b2ed>\u001b[0m in \u001b[0;36m<module>\u001b[0;34m\u001b[0m\n\u001b[0;32m----> 1\u001b[0;31m \u001b[0mdatawig_results\u001b[0m \u001b[0;34m=\u001b[0m \u001b[0mevaluator\u001b[0m\u001b[0;34m.\u001b[0m\u001b[0mevaluate\u001b[0m\u001b[0;34m(\u001b[0m\u001b[0mdatawig_model\u001b[0m\u001b[0;34m,\u001b[0m \u001b[0;36m10\u001b[0m\u001b[0;34m,\u001b[0m \u001b[0;34m*\u001b[0m\u001b[0mcorruptions\u001b[0m\u001b[0;34m)\u001b[0m\u001b[0;34m\u001b[0m\u001b[0;34m\u001b[0m\u001b[0m\n\u001b[0m",
      "\u001b[0;32m~/code/jenga/jenga/evaluation/corruption_impact.py\u001b[0m in \u001b[0;36mevaluate\u001b[0;34m(self, model, num_repetitions, *corruptions)\u001b[0m\n\u001b[1;32m     46\u001b[0m                 \u001b[0mcorrupted_data\u001b[0m \u001b[0;34m=\u001b[0m \u001b[0mcorruption\u001b[0m\u001b[0;34m.\u001b[0m\u001b[0mtransform\u001b[0m\u001b[0;34m(\u001b[0m\u001b[0mtest_data_copy\u001b[0m\u001b[0;34m)\u001b[0m\u001b[0;34m\u001b[0m\u001b[0;34m\u001b[0m\u001b[0m\n\u001b[1;32m     47\u001b[0m \u001b[0;34m\u001b[0m\u001b[0m\n\u001b[0;32m---> 48\u001b[0;31m                 \u001b[0mcorrupted_predictions\u001b[0m \u001b[0;34m=\u001b[0m \u001b[0mmodel\u001b[0m\u001b[0;34m.\u001b[0m\u001b[0mpredict_proba\u001b[0m\u001b[0;34m(\u001b[0m\u001b[0mcorrupted_data\u001b[0m\u001b[0;34m)\u001b[0m\u001b[0;34m\u001b[0m\u001b[0;34m\u001b[0m\u001b[0m\n\u001b[0m\u001b[1;32m     49\u001b[0m                 \u001b[0mcorrupted_score\u001b[0m \u001b[0;34m=\u001b[0m \u001b[0mself\u001b[0m\u001b[0;34m.\u001b[0m\u001b[0m__task\u001b[0m\u001b[0;34m.\u001b[0m\u001b[0mscore_on_test_data\u001b[0m\u001b[0;34m(\u001b[0m\u001b[0mcorrupted_predictions\u001b[0m\u001b[0;34m)\u001b[0m\u001b[0;34m\u001b[0m\u001b[0;34m\u001b[0m\u001b[0m\n\u001b[1;32m     50\u001b[0m \u001b[0;34m\u001b[0m\u001b[0m\n",
      "\u001b[0;32m<ipython-input-9-b5d82174b62c>\u001b[0m in \u001b[0;36mpredict_proba\u001b[0;34m(self, data)\u001b[0m\n\u001b[1;32m      7\u001b[0m         \u001b[0mimputed\u001b[0m \u001b[0;34m=\u001b[0m \u001b[0mdata\u001b[0m\u001b[0;34m\u001b[0m\u001b[0;34m\u001b[0m\u001b[0m\n\u001b[1;32m      8\u001b[0m         \u001b[0;32mfor\u001b[0m \u001b[0mimputer\u001b[0m \u001b[0;32min\u001b[0m \u001b[0mself\u001b[0m\u001b[0;34m.\u001b[0m\u001b[0mimputers\u001b[0m\u001b[0;34m:\u001b[0m\u001b[0;34m\u001b[0m\u001b[0;34m\u001b[0m\u001b[0m\n\u001b[0;32m----> 9\u001b[0;31m             \u001b[0mimputed\u001b[0m \u001b[0;34m=\u001b[0m \u001b[0mimputer\u001b[0m\u001b[0;34m.\u001b[0m\u001b[0mtransform\u001b[0m\u001b[0;34m(\u001b[0m\u001b[0mimputed\u001b[0m\u001b[0;34m)\u001b[0m\u001b[0;34m\u001b[0m\u001b[0;34m\u001b[0m\u001b[0m\n\u001b[0m\u001b[1;32m     10\u001b[0m \u001b[0;34m\u001b[0m\u001b[0m\n\u001b[1;32m     11\u001b[0m         \u001b[0;32mreturn\u001b[0m \u001b[0mself\u001b[0m\u001b[0;34m.\u001b[0m\u001b[0mmodel\u001b[0m\u001b[0;34m.\u001b[0m\u001b[0mpredict_proba\u001b[0m\u001b[0;34m(\u001b[0m\u001b[0mimputed\u001b[0m\u001b[0;34m)\u001b[0m\u001b[0;34m\u001b[0m\u001b[0;34m\u001b[0m\u001b[0m\n",
      "\u001b[0;32m<ipython-input-4-431a4be768b6>\u001b[0m in \u001b[0;36mtransform\u001b[0;34m(self, data)\u001b[0m\n\u001b[1;32m     15\u001b[0m     \u001b[0;32mdef\u001b[0m \u001b[0mtransform\u001b[0m\u001b[0;34m(\u001b[0m\u001b[0mself\u001b[0m\u001b[0;34m,\u001b[0m \u001b[0mdata\u001b[0m\u001b[0;34m)\u001b[0m\u001b[0;34m:\u001b[0m\u001b[0;34m\u001b[0m\u001b[0;34m\u001b[0m\u001b[0m\n\u001b[1;32m     16\u001b[0m         \u001b[0mimputed\u001b[0m \u001b[0;34m=\u001b[0m \u001b[0mdata\u001b[0m\u001b[0;34m\u001b[0m\u001b[0;34m\u001b[0m\u001b[0m\n\u001b[0;32m---> 17\u001b[0;31m         \u001b[0mimputed\u001b[0m \u001b[0;34m=\u001b[0m \u001b[0mself\u001b[0m\u001b[0;34m.\u001b[0m\u001b[0mmodel\u001b[0m\u001b[0;34m.\u001b[0m\u001b[0mpredict\u001b[0m\u001b[0;34m(\u001b[0m\u001b[0mimputed\u001b[0m\u001b[0;34m,\u001b[0m \u001b[0minplace\u001b[0m\u001b[0;34m=\u001b[0m\u001b[0;32mTrue\u001b[0m\u001b[0;34m)\u001b[0m\u001b[0;34m\u001b[0m\u001b[0;34m\u001b[0m\u001b[0m\n\u001b[0m\u001b[1;32m     18\u001b[0m         \u001b[0mimputed\u001b[0m\u001b[0;34m.\u001b[0m\u001b[0mloc\u001b[0m\u001b[0;34m[\u001b[0m\u001b[0mimputed\u001b[0m\u001b[0;34m[\u001b[0m\u001b[0mself\u001b[0m\u001b[0;34m.\u001b[0m\u001b[0mtarget_column\u001b[0m\u001b[0;34m]\u001b[0m\u001b[0;34m.\u001b[0m\u001b[0misnull\u001b[0m\u001b[0;34m(\u001b[0m\u001b[0;34m)\u001b[0m\u001b[0;34m,\u001b[0m \u001b[0mself\u001b[0m\u001b[0;34m.\u001b[0m\u001b[0mtarget_column\u001b[0m\u001b[0;34m]\u001b[0m \u001b[0;34m=\u001b[0m\u001b[0;31m \u001b[0m\u001b[0;31m\\\u001b[0m\u001b[0;34m\u001b[0m\u001b[0;34m\u001b[0m\u001b[0m\n\u001b[1;32m     19\u001b[0m             \u001b[0mimputed\u001b[0m\u001b[0;34m[\u001b[0m\u001b[0mself\u001b[0m\u001b[0;34m.\u001b[0m\u001b[0mtarget_column\u001b[0m \u001b[0;34m+\u001b[0m \u001b[0;34m'_imputed'\u001b[0m\u001b[0;34m]\u001b[0m\u001b[0;34m\u001b[0m\u001b[0;34m\u001b[0m\u001b[0m\n",
      "\u001b[0;32m~/code/datawig/datawig/simple_imputer.py\u001b[0m in \u001b[0;36mpredict\u001b[0;34m(self, data_frame, precision_threshold, imputation_suffix, score_suffix, inplace)\u001b[0m\n\u001b[1;32m    418\u001b[0m         \"\"\"\n\u001b[1;32m    419\u001b[0m         imputations = self.imputer.predict(data_frame, precision_threshold, imputation_suffix,\n\u001b[0;32m--> 420\u001b[0;31m                                            score_suffix, inplace=inplace)\n\u001b[0m\u001b[1;32m    421\u001b[0m \u001b[0;34m\u001b[0m\u001b[0m\n\u001b[1;32m    422\u001b[0m         \u001b[0;32mreturn\u001b[0m \u001b[0mimputations\u001b[0m\u001b[0;34m\u001b[0m\u001b[0;34m\u001b[0m\u001b[0m\n",
      "\u001b[0;32m~/code/datawig/datawig/imputer.py\u001b[0m in \u001b[0;36mpredict\u001b[0;34m(self, data_frame, precision_threshold, imputation_suffix, score_suffix, inplace)\u001b[0m\n\u001b[1;32m    827\u001b[0m                 *[c.input_columns for c in self.label_encoders if isinstance(c, NumericalEncoder)]))\n\u001b[1;32m    828\u001b[0m \u001b[0;34m\u001b[0m\u001b[0m\n\u001b[0;32m--> 829\u001b[0;31m         \u001b[0mpredictions\u001b[0m \u001b[0;34m=\u001b[0m \u001b[0mself\u001b[0m\u001b[0;34m.\u001b[0m\u001b[0mpredict_above_precision\u001b[0m\u001b[0;34m(\u001b[0m\u001b[0mdata_frame\u001b[0m\u001b[0;34m,\u001b[0m \u001b[0mprecision_threshold\u001b[0m\u001b[0;34m)\u001b[0m\u001b[0;34m.\u001b[0m\u001b[0mitems\u001b[0m\u001b[0;34m(\u001b[0m\u001b[0;34m)\u001b[0m\u001b[0;34m\u001b[0m\u001b[0;34m\u001b[0m\u001b[0m\n\u001b[0m\u001b[1;32m    830\u001b[0m         \u001b[0;32mfor\u001b[0m \u001b[0mlabel\u001b[0m\u001b[0;34m,\u001b[0m \u001b[0mimputations\u001b[0m \u001b[0;32min\u001b[0m \u001b[0mpredictions\u001b[0m\u001b[0;34m:\u001b[0m\u001b[0;34m\u001b[0m\u001b[0;34m\u001b[0m\u001b[0m\n\u001b[1;32m    831\u001b[0m             \u001b[0mimputation_col\u001b[0m \u001b[0;34m=\u001b[0m \u001b[0mlabel\u001b[0m \u001b[0;34m+\u001b[0m \u001b[0mimputation_suffix\u001b[0m\u001b[0;34m\u001b[0m\u001b[0;34m\u001b[0m\u001b[0m\n",
      "\u001b[0;32m~/code/datawig/datawig/imputer.py\u001b[0m in \u001b[0;36mpredict_above_precision\u001b[0;34m(self, data_frame, precision_threshold)\u001b[0m\n\u001b[1;32m    880\u001b[0m         \u001b[0mmxnet_iter\u001b[0m \u001b[0;34m=\u001b[0m \u001b[0mself\u001b[0m\u001b[0;34m.\u001b[0m\u001b[0m__mxnet_iter_from_df\u001b[0m\u001b[0;34m(\u001b[0m\u001b[0mdata_frame\u001b[0m\u001b[0;34m)\u001b[0m\u001b[0;34m\u001b[0m\u001b[0;34m\u001b[0m\u001b[0m\n\u001b[1;32m    881\u001b[0m         return self.__predict_above_precision_mxnet_iter(mxnet_iter,\n\u001b[0;32m--> 882\u001b[0;31m                                                          precision_threshold=precision_threshold)\n\u001b[0m\u001b[1;32m    883\u001b[0m \u001b[0;34m\u001b[0m\u001b[0m\n\u001b[1;32m    884\u001b[0m     \u001b[0;32mdef\u001b[0m \u001b[0mpredict_proba_top_k\u001b[0m\u001b[0;34m(\u001b[0m\u001b[0mself\u001b[0m\u001b[0;34m,\u001b[0m \u001b[0mdata_frame\u001b[0m\u001b[0;34m:\u001b[0m \u001b[0mpd\u001b[0m\u001b[0;34m.\u001b[0m\u001b[0mDataFrame\u001b[0m\u001b[0;34m,\u001b[0m \u001b[0mtop_k\u001b[0m\u001b[0;34m:\u001b[0m \u001b[0mint\u001b[0m \u001b[0;34m=\u001b[0m \u001b[0;36m5\u001b[0m\u001b[0;34m)\u001b[0m \u001b[0;34m->\u001b[0m \u001b[0mdict\u001b[0m\u001b[0;34m:\u001b[0m\u001b[0;34m\u001b[0m\u001b[0;34m\u001b[0m\u001b[0m\n",
      "\u001b[0;32m~/code/datawig/datawig/imputer.py\u001b[0m in \u001b[0;36m__predict_above_precision_mxnet_iter\u001b[0;34m(self, mxnet_iter, precision_threshold)\u001b[0m\n\u001b[1;32m    657\u001b[0m \u001b[0;34m\u001b[0m\u001b[0m\n\u001b[1;32m    658\u001b[0m         \"\"\"\n\u001b[0;32m--> 659\u001b[0;31m         \u001b[0mpredictions\u001b[0m \u001b[0;34m=\u001b[0m \u001b[0mself\u001b[0m\u001b[0;34m.\u001b[0m\u001b[0m__predict_top_k_mxnet_iter\u001b[0m\u001b[0;34m(\u001b[0m\u001b[0mmxnet_iter\u001b[0m\u001b[0;34m,\u001b[0m \u001b[0mtop_k\u001b[0m\u001b[0;34m=\u001b[0m\u001b[0;36m1\u001b[0m\u001b[0;34m)\u001b[0m\u001b[0;34m\u001b[0m\u001b[0;34m\u001b[0m\u001b[0m\n\u001b[0m\u001b[1;32m    660\u001b[0m         \u001b[0;32mfor\u001b[0m \u001b[0mcol_enc\u001b[0m\u001b[0;34m,\u001b[0m \u001b[0matt\u001b[0m \u001b[0;32min\u001b[0m \u001b[0mzip\u001b[0m\u001b[0;34m(\u001b[0m\u001b[0mself\u001b[0m\u001b[0;34m.\u001b[0m\u001b[0mlabel_encoders\u001b[0m\u001b[0;34m,\u001b[0m \u001b[0mpredictions\u001b[0m\u001b[0;34m.\u001b[0m\u001b[0mkeys\u001b[0m\u001b[0;34m(\u001b[0m\u001b[0;34m)\u001b[0m\u001b[0;34m)\u001b[0m\u001b[0;34m:\u001b[0m\u001b[0;34m\u001b[0m\u001b[0;34m\u001b[0m\u001b[0m\n\u001b[1;32m    661\u001b[0m             \u001b[0;32mif\u001b[0m \u001b[0misinstance\u001b[0m\u001b[0;34m(\u001b[0m\u001b[0mcol_enc\u001b[0m\u001b[0;34m,\u001b[0m \u001b[0mCategoricalEncoder\u001b[0m\u001b[0;34m)\u001b[0m\u001b[0;34m:\u001b[0m\u001b[0;34m\u001b[0m\u001b[0;34m\u001b[0m\u001b[0m\n",
      "\u001b[0;32m~/code/datawig/datawig/imputer.py\u001b[0m in \u001b[0;36m__predict_top_k_mxnet_iter\u001b[0;34m(self, mxnet_iter, top_k)\u001b[0m\n\u001b[1;32m    712\u001b[0m                     \u001b[0mtop_k_pred_idx\u001b[0m \u001b[0;34m=\u001b[0m \u001b[0mpred\u001b[0m\u001b[0;34m.\u001b[0m\u001b[0margsort\u001b[0m\u001b[0;34m(\u001b[0m\u001b[0;34m)\u001b[0m\u001b[0;34m[\u001b[0m\u001b[0;34m-\u001b[0m\u001b[0mtop_k\u001b[0m\u001b[0;34m:\u001b[0m\u001b[0;34m]\u001b[0m\u001b[0;34m[\u001b[0m\u001b[0;34m:\u001b[0m\u001b[0;34m:\u001b[0m\u001b[0;34m-\u001b[0m\u001b[0;36m1\u001b[0m\u001b[0;34m]\u001b[0m\u001b[0;34m\u001b[0m\u001b[0;34m\u001b[0m\u001b[0m\n\u001b[1;32m    713\u001b[0m                     label_proba_tuples = [(col_enc.decode_token(idx), pred[idx]) for idx in\n\u001b[0;32m--> 714\u001b[0;31m                                           top_k_pred_idx]\n\u001b[0m\u001b[1;32m    715\u001b[0m                     \u001b[0mtop_k_predictions\u001b[0m\u001b[0;34m[\u001b[0m\u001b[0matt\u001b[0m\u001b[0;34m]\u001b[0m\u001b[0;34m.\u001b[0m\u001b[0mappend\u001b[0m\u001b[0;34m(\u001b[0m\u001b[0mlabel_proba_tuples\u001b[0m\u001b[0;34m)\u001b[0m\u001b[0;34m\u001b[0m\u001b[0;34m\u001b[0m\u001b[0m\n\u001b[1;32m    716\u001b[0m             \u001b[0;32melse\u001b[0m\u001b[0;34m:\u001b[0m\u001b[0;34m\u001b[0m\u001b[0;34m\u001b[0m\u001b[0m\n",
      "\u001b[0;32m~/code/datawig/datawig/imputer.py\u001b[0m in \u001b[0;36m<listcomp>\u001b[0;34m(.0)\u001b[0m\n\u001b[1;32m    711\u001b[0m                 \u001b[0;32mfor\u001b[0m \u001b[0mpred\u001b[0m \u001b[0;32min\u001b[0m \u001b[0mprobas\u001b[0m\u001b[0;34m:\u001b[0m\u001b[0;34m\u001b[0m\u001b[0;34m\u001b[0m\u001b[0m\n\u001b[1;32m    712\u001b[0m                     \u001b[0mtop_k_pred_idx\u001b[0m \u001b[0;34m=\u001b[0m \u001b[0mpred\u001b[0m\u001b[0;34m.\u001b[0m\u001b[0margsort\u001b[0m\u001b[0;34m(\u001b[0m\u001b[0;34m)\u001b[0m\u001b[0;34m[\u001b[0m\u001b[0;34m-\u001b[0m\u001b[0mtop_k\u001b[0m\u001b[0;34m:\u001b[0m\u001b[0;34m]\u001b[0m\u001b[0;34m[\u001b[0m\u001b[0;34m:\u001b[0m\u001b[0;34m:\u001b[0m\u001b[0;34m-\u001b[0m\u001b[0;36m1\u001b[0m\u001b[0;34m]\u001b[0m\u001b[0;34m\u001b[0m\u001b[0;34m\u001b[0m\u001b[0m\n\u001b[0;32m--> 713\u001b[0;31m                     label_proba_tuples = [(col_enc.decode_token(idx), pred[idx]) for idx in\n\u001b[0m\u001b[1;32m    714\u001b[0m                                           top_k_pred_idx]\n\u001b[1;32m    715\u001b[0m                     \u001b[0mtop_k_predictions\u001b[0m\u001b[0;34m[\u001b[0m\u001b[0matt\u001b[0m\u001b[0;34m]\u001b[0m\u001b[0;34m.\u001b[0m\u001b[0mappend\u001b[0m\u001b[0;34m(\u001b[0m\u001b[0mlabel_proba_tuples\u001b[0m\u001b[0;34m)\u001b[0m\u001b[0;34m\u001b[0m\u001b[0;34m\u001b[0m\u001b[0m\n",
      "\u001b[0;31mKeyboardInterrupt\u001b[0m: "
     ]
    }
   ],
   "source": [
    "datawig_results = evaluator.evaluate(datawig_model, 10, *corruptions)"
   ]
  },
  {
   "cell_type": "markdown",
   "metadata": {},
   "source": [
    "### Code to plot the results"
   ]
  },
  {
   "cell_type": "code",
   "execution_count": null,
   "metadata": {},
   "outputs": [],
   "source": [
    "def find_result(column, fraction, missingness, results):\n",
    "    for result in results:\n",
    "        corr = result.corruption\n",
    "        if corr.column == column and corr.fraction == fraction and corr.missingness == missingness:\n",
    "            return result"
   ]
  },
  {
   "cell_type": "code",
   "execution_count": null,
   "metadata": {},
   "outputs": [],
   "source": [
    "def plot_impact(column, plt, results, suffix=''):\n",
    "    ax = plt.gca()\n",
    "    \n",
    "    scores = []\n",
    "    labels = []\n",
    "\n",
    "    for impacted_column in [column]:\n",
    "        for fraction in [0.01, 0.1, 0.5, 0.99]:  \n",
    "            for missingness in ['MNAR', 'MAR', 'MCAR']:                    \n",
    "                result = find_result(impacted_column, fraction, missingness, results)\n",
    "                scores.append(result.corrupted_scores)\n",
    "                labels.append(f\"{missingness} {int(fraction*100)}%\")\n",
    "\n",
    "    baseline_score = result.baseline_score            \n",
    "\n",
    "    ax.axhline(baseline_score, linestyle='--', color='red')\n",
    "    bplot = ax.boxplot(scores, showfliers=False, patch_artist=True, medianprops={'color':'black'})\n",
    "\n",
    "    colors = ['#1e4052', '#dc6082', '#e1a677',\n",
    "              '#1e4052', '#dc6082', '#e1a677', \n",
    "              '#1e4052', '#dc6082', '#e1a677', \n",
    "              '#1e4052', '#dc6082', '#e1a677']\n",
    "    \n",
    "    for patch, color in zip(bplot['boxes'], colors):\n",
    "        patch.set_facecolor(color)\n",
    "        \n",
    "    ax.yaxis.grid(True)\n",
    "\n",
    "    ax.set_xticklabels(labels)\n",
    "    for tick in ax.get_xticklabels():\n",
    "        tick.set_rotation(90)\n",
    "    \n",
    "    ax.set_ylim((0.79, 0.895))\n",
    "    ax.set_title(f\"Missing values in '{column}'\", fontsize=24)\n",
    "    ax.tick_params(axis='both', which='major', labelsize=22)\n",
    "    ax.tick_params(axis='both', which='minor', labelsize=22)    \n",
    "    ax.set_ylabel('AUC', fontsize=24)\n",
    "    \n",
    "    plt.gcf().set_size_inches(8, 6)\n",
    "    plt.tight_layout()\n",
    "    plt.show()"
   ]
  },
  {
   "cell_type": "code",
   "execution_count": null,
   "metadata": {},
   "outputs": [],
   "source": [
    "plot_impact('education', plt, results)"
   ]
  },
  {
   "cell_type": "code",
   "execution_count": null,
   "metadata": {},
   "outputs": [],
   "source": [
    "plot_impact('education', plt, decorated_results, '-mode')"
   ]
  },
  {
   "cell_type": "code",
   "execution_count": null,
   "metadata": {},
   "outputs": [],
   "source": [
    "plot_impact('education', plt, datawig_results, '-datawig')"
   ]
  },
  {
   "cell_type": "code",
   "execution_count": null,
   "metadata": {},
   "outputs": [],
   "source": [
    "plot_impact('workclass', plt, results)"
   ]
  },
  {
   "cell_type": "code",
   "execution_count": null,
   "metadata": {},
   "outputs": [],
   "source": [
    "plot_impact('workclass', plt, decorated_results, '-mode')"
   ]
  },
  {
   "cell_type": "code",
   "execution_count": null,
   "metadata": {},
   "outputs": [],
   "source": [
    "plot_impact('workclass', plt, datawig_results, '-datawig')"
   ]
  },
  {
   "cell_type": "code",
   "execution_count": null,
   "metadata": {},
   "outputs": [],
   "source": [
    "plot_impact('marital_status', plt, results)"
   ]
  },
  {
   "cell_type": "code",
   "execution_count": null,
   "metadata": {},
   "outputs": [],
   "source": [
    "plot_impact('marital_status', plt, decorated_results, '-mode')"
   ]
  },
  {
   "cell_type": "code",
   "execution_count": null,
   "metadata": {},
   "outputs": [],
   "source": [
    "plot_impact('marital_status', plt, datawig_results, '-datawig')"
   ]
  },
  {
   "cell_type": "code",
   "execution_count": null,
   "metadata": {},
   "outputs": [],
   "source": [
    "plot_impact('occupation', plt, results)"
   ]
  },
  {
   "cell_type": "code",
   "execution_count": null,
   "metadata": {},
   "outputs": [],
   "source": [
    "plot_impact('occupation', plt, decorated_results, '-mode')"
   ]
  },
  {
   "cell_type": "code",
   "execution_count": null,
   "metadata": {},
   "outputs": [],
   "source": [
    "plot_impact('occupation', plt, datawig_results, '-datawig')"
   ]
  },
  {
   "cell_type": "markdown",
   "metadata": {},
   "source": [
    "### Save the results for later analysis"
   ]
  },
  {
   "cell_type": "code",
   "execution_count": null,
   "metadata": {},
   "outputs": [],
   "source": [
    "import jsonpickle\n",
    "\n",
    "with open(\"datawig-results.jsonpickle\", \"w\") as text_file:\n",
    "    text_file.write(jsonpickle.encode(datawig_results))  \n",
    "    \n",
    "with open(\"mode-results.jsonpickle\", \"w\") as text_file:\n",
    "    text_file.write(jsonpickle.encode(decorated_results))    \n",
    "    \n",
    "with open(\"no-results.jsonpickle\", \"w\") as text_file:\n",
    "    text_file.write(jsonpickle.encode(results))        "
   ]
  },
  {
   "cell_type": "code",
   "execution_count": null,
   "metadata": {},
   "outputs": [],
   "source": []
  }
 ],
 "metadata": {
  "kernelspec": {
   "display_name": "Python 3",
   "language": "python",
   "name": "python3"
  },
  "language_info": {
   "codemirror_mode": {
    "name": "ipython",
    "version": 3
   },
   "file_extension": ".py",
   "mimetype": "text/x-python",
   "name": "python",
   "nbconvert_exporter": "python",
   "pygments_lexer": "ipython3",
   "version": "3.7.8"
  }
 },
 "nbformat": 4,
 "nbformat_minor": 4
}
