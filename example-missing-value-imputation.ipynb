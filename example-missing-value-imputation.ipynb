{
 "cells": [
  {
   "cell_type": "code",
   "execution_count": 1,
   "metadata": {},
   "outputs": [],
   "source": [
    "from jenga.tasks.income import IncomeEstimationTask\n",
    "from jenga.corruptions.generic import MissingValues\n",
    "from jenga.evaluation.corruption_impact import CorruptionImpactEvaluator\n",
    "import matplotlib.pyplot as plt\n",
    "\n",
    "import numpy as np\n",
    "import datawig "
   ]
  },
  {
   "cell_type": "markdown",
   "metadata": {},
   "source": [
    "### Instantiate the income estimation task, make it ignore incomplete records for model training"
   ]
  },
  {
   "cell_type": "code",
   "execution_count": 2,
   "metadata": {},
   "outputs": [],
   "source": [
    "task = IncomeEstimationTask(seed=42, ignore_incomplete_records_for_training=True)"
   ]
  },
  {
   "cell_type": "markdown",
   "metadata": {},
   "source": [
    "### A missing value imputer which imputes the most frequent value per column"
   ]
  },
  {
   "cell_type": "code",
   "execution_count": 3,
   "metadata": {},
   "outputs": [],
   "source": [
    "class ModeImputer:\n",
    "    def __init__(self, columns):\n",
    "        self.columns = columns\n",
    "        self.modes = {}\n",
    "        \n",
    "    def fit(self, data):\n",
    "        for column in self.columns:\n",
    "            mode = data[column].value_counts().index[0]\n",
    "            self.modes[column] = mode\n",
    "            \n",
    "    def transform(self, data):\n",
    "        imputed = data.copy(deep=True)\n",
    "        for column in self.columns:\n",
    "            imputed[column].fillna(self.modes[column], inplace=True) \n",
    "        return imputed\n",
    "            \n",
    "imputer = ModeImputer(['education', 'workclass', 'marital_status', 'occupation'])\n",
    "imputer.fit(task.train_data)"
   ]
  },
  {
   "cell_type": "markdown",
   "metadata": {},
   "source": [
    "### A missing value which learns an imputation model via the datawig library"
   ]
  },
  {
   "cell_type": "code",
   "execution_count": 5,
   "metadata": {},
   "outputs": [],
   "source": [
    "class DatawigImputer:\n",
    "    def __init__(self, input_columns, target_column):\n",
    "        self.input_columns = input_columns\n",
    "        self.target_column = target_column\n",
    "        self.model = None\n",
    "        \n",
    "    def fit(self, data):\n",
    "        self.model = datawig.SimpleImputer(\n",
    "            input_columns=self.input_columns,\n",
    "            output_column=self.target_column,\n",
    "            output_path = f'imputer_model_{self.target_column}',\n",
    "            is_explainable=False).fit(data)\n",
    "        self.model = self.model.load(f'imputer_model_{self.target_column}')\n",
    "            \n",
    "    def transform(self, data):\n",
    "        imputed = data\n",
    "        imputed = self.model.predict(imputed, inplace=True)\n",
    "        imputed.loc[imputed[self.target_column].isnull(), self.target_column] = \\\n",
    "            imputed[self.target_column + '_imputed']\n",
    "        \n",
    "        return imputed"
   ]
  },
  {
   "cell_type": "markdown",
   "metadata": {},
   "source": [
    "### We train imputation models for each column of interest"
   ]
  },
  {
   "cell_type": "code",
   "execution_count": 6,
   "metadata": {},
   "outputs": [
    {
     "name": "stderr",
     "output_type": "stream",
     "text": [
      "2020-10-19 19:39:05,883 [INFO]  CategoricalEncoder for column education                                found only 34 occurrences of value Preschool\n",
      "2020-10-19 19:39:09,922 [INFO]  \n",
      "========== start: fit model\n",
      "2020-10-19 19:39:09,923 [WARNING]  Already bound, ignoring bind()\n",
      "2020-10-19 19:39:13,999 [INFO]  Epoch[0] Batch [0-680]\tSpeed: 2679.75 samples/sec\tcross-entropy=1.743749\teducation-accuracy=0.389776\n",
      "2020-10-19 19:39:18,054 [INFO]  Epoch[0] Train-cross-entropy=1.680336\n",
      "2020-10-19 19:39:18,055 [INFO]  Epoch[0] Train-education-accuracy=0.394543\n",
      "2020-10-19 19:39:18,056 [INFO]  Epoch[0] Time cost=8.131\n",
      "2020-10-19 19:39:18,072 [INFO]  Saved checkpoint to \"imputer_model_education/model-0000.params\"\n",
      "2020-10-19 19:39:18,711 [INFO]  Epoch[0] Validation-cross-entropy=1.691406\n",
      "2020-10-19 19:39:18,712 [INFO]  Epoch[0] Validation-education-accuracy=0.393626\n",
      "2020-10-19 19:39:22,807 [INFO]  Epoch[1] Batch [0-680]\tSpeed: 2660.46 samples/sec\tcross-entropy=1.664310\teducation-accuracy=0.396659\n",
      "2020-10-19 19:39:26,873 [INFO]  Epoch[1] Train-cross-entropy=1.670714\n",
      "2020-10-19 19:39:26,874 [INFO]  Epoch[1] Train-education-accuracy=0.396018\n",
      "2020-10-19 19:39:26,875 [INFO]  Epoch[1] Time cost=8.163\n",
      "2020-10-19 19:39:26,882 [INFO]  Saved checkpoint to \"imputer_model_education/model-0001.params\"\n",
      "2020-10-19 19:39:27,527 [INFO]  Epoch[1] Validation-cross-entropy=1.689636\n",
      "2020-10-19 19:39:27,528 [INFO]  Epoch[1] Validation-education-accuracy=0.393626\n",
      "2020-10-19 19:39:31,642 [INFO]  Epoch[2] Batch [0-680]\tSpeed: 2647.92 samples/sec\tcross-entropy=1.661553\teducation-accuracy=0.395833\n",
      "2020-10-19 19:39:35,777 [INFO]  Epoch[2] Train-cross-entropy=1.668964\n",
      "2020-10-19 19:39:35,778 [INFO]  Epoch[2] Train-education-accuracy=0.395465\n",
      "2020-10-19 19:39:35,779 [INFO]  Epoch[2] Time cost=8.250\n",
      "2020-10-19 19:39:35,788 [INFO]  Saved checkpoint to \"imputer_model_education/model-0002.params\"\n",
      "2020-10-19 19:39:36,433 [INFO]  Epoch[2] Validation-cross-entropy=1.690100\n",
      "2020-10-19 19:39:36,434 [INFO]  Epoch[2] Validation-education-accuracy=0.397351\n",
      "2020-10-19 19:39:40,534 [INFO]  Epoch[3] Batch [0-680]\tSpeed: 2657.71 samples/sec\tcross-entropy=1.660772\teducation-accuracy=0.395742\n",
      "2020-10-19 19:39:44,626 [INFO]  Epoch[3] Train-cross-entropy=1.668417\n",
      "2020-10-19 19:39:44,627 [INFO]  Epoch[3] Train-education-accuracy=0.394912\n",
      "2020-10-19 19:39:44,627 [INFO]  Epoch[3] Time cost=8.192\n",
      "2020-10-19 19:39:44,637 [INFO]  Saved checkpoint to \"imputer_model_education/model-0003.params\"\n",
      "2020-10-19 19:39:45,271 [INFO]  Epoch[3] Validation-cross-entropy=1.690723\n",
      "2020-10-19 19:39:45,272 [INFO]  Epoch[3] Validation-education-accuracy=0.397351\n",
      "2020-10-19 19:39:49,396 [INFO]  Epoch[4] Batch [0-680]\tSpeed: 2641.44 samples/sec\tcross-entropy=1.660451\teducation-accuracy=0.395925\n",
      "2020-10-19 19:39:53,719 [INFO]  Epoch[4] Train-cross-entropy=1.668202\n",
      "2020-10-19 19:39:53,720 [INFO]  Epoch[4] Train-education-accuracy=0.394819\n",
      "2020-10-19 19:39:53,721 [INFO]  Epoch[4] Time cost=8.449\n",
      "2020-10-19 19:39:53,731 [INFO]  Saved checkpoint to \"imputer_model_education/model-0004.params\"\n",
      "2020-10-19 19:39:54,391 [INFO]  Epoch[4] Validation-cross-entropy=1.691281\n",
      "2020-10-19 19:39:54,391 [INFO]  Epoch[4] Validation-education-accuracy=0.397351\n",
      "2020-10-19 19:39:58,818 [INFO]  Epoch[5] Batch [0-680]\tSpeed: 2460.79 samples/sec\tcross-entropy=1.660292\teducation-accuracy=0.396200\n",
      "2020-10-19 19:40:03,191 [INFO]  Epoch[5] Train-cross-entropy=1.668102\n",
      "2020-10-19 19:40:03,192 [INFO]  Epoch[5] Train-education-accuracy=0.394451\n",
      "2020-10-19 19:40:03,193 [INFO]  Epoch[5] Time cost=8.801\n",
      "2020-10-19 19:40:03,201 [INFO]  Saved checkpoint to \"imputer_model_education/model-0005.params\"\n",
      "2020-10-19 19:40:03,863 [INFO]  Epoch[5] Validation-cross-entropy=1.691768\n",
      "2020-10-19 19:40:03,864 [INFO]  Epoch[5] Validation-education-accuracy=0.397351\n",
      "2020-10-19 19:40:08,004 [INFO]  Epoch[6] Batch [0-680]\tSpeed: 2631.51 samples/sec\tcross-entropy=1.660203\teducation-accuracy=0.396017\n",
      "2020-10-19 19:40:12,095 [INFO]  Epoch[6] Train-cross-entropy=1.668051\n",
      "2020-10-19 19:40:12,096 [INFO]  Epoch[6] Train-education-accuracy=0.394451\n",
      "2020-10-19 19:40:12,097 [INFO]  Epoch[6] Time cost=8.232\n",
      "2020-10-19 19:40:12,106 [INFO]  Saved checkpoint to \"imputer_model_education/model-0006.params\"\n",
      "2020-10-19 19:40:12,740 [INFO]  No improvement detected for 5 epochs compared to 1.6896359636294132 last error obtained: 1.692201592274849, stopping here\n",
      "2020-10-19 19:40:12,741 [INFO]  \n",
      "========== done (62.819414138793945 s) fit model\n",
      "/Users/felix/code/jenga/yacl_env/lib/python3.7/site-packages/sklearn/metrics/classification.py:1437: UndefinedMetricWarning: Precision is ill-defined and being set to 0.0 in labels with no predicted samples.\n",
      "  'precision', 'predicted', average, warn_for)\n",
      "/Users/felix/code/jenga/yacl_env/lib/python3.7/site-packages/sklearn/metrics/classification.py:1437: UndefinedMetricWarning: F-score is ill-defined and being set to 0.0 in labels with no predicted samples.\n",
      "  'precision', 'predicted', average, warn_for)\n"
     ]
    }
   ],
   "source": [
    "education_imputer = DatawigImputer(['occupation', 'marital_status', 'workclass'], 'education')\n",
    "education_imputer.fit(task.train_data)"
   ]
  },
  {
   "cell_type": "code",
   "execution_count": 7,
   "metadata": {},
   "outputs": [],
   "source": [
    "occupation_imputer = DatawigImputer(['education', 'marital_status', 'workclass'], 'occupation')\n",
    "occupation_imputer.fit(task.train_data)"
   ]
  },
  {
   "cell_type": "code",
   "execution_count": 8,
   "metadata": {},
   "outputs": [],
   "source": [
    "marital_status_imputer = DatawigImputer(['education', 'occupation', 'workclass'], 'marital_status')\n",
    "marital_status_imputer.fit(task.train_data)"
   ]
  },
  {
   "cell_type": "code",
   "execution_count": 9,
   "metadata": {},
   "outputs": [],
   "source": [
    "workclass_imputer = DatawigImputer(['education', 'occupation', 'marital_status'], 'workclass')\n",
    "workclass_imputer.fit(task.train_data)"
   ]
  },
  {
   "cell_type": "markdown",
   "metadata": {},
   "source": [
    "### Some glue code (decorators) to be able to apply the imputers in our task"
   ]
  },
  {
   "cell_type": "code",
   "execution_count": 10,
   "metadata": {},
   "outputs": [],
   "source": [
    "class ChainedModelDecorator:\n",
    "    def __init__(self, model, imputers):\n",
    "        self.model = model\n",
    "        self.imputers = imputers\n",
    "        \n",
    "    def predict_proba(self, data):\n",
    "        imputed = data\n",
    "        for imputer in self.imputers:\n",
    "            imputed = imputer.transform(imputed)\n",
    "        \n",
    "        return self.model.predict_proba(imputed)"
   ]
  },
  {
   "cell_type": "code",
   "execution_count": 11,
   "metadata": {},
   "outputs": [],
   "source": [
    "class ModelDecorator:\n",
    "    def __init__(self, model, imputer):\n",
    "        self.model = model\n",
    "        self.imputer = imputer\n",
    "        \n",
    "    def predict_proba(self, data):\n",
    "        return self.model.predict_proba(self.imputer.transform(data))"
   ]
  },
  {
   "cell_type": "markdown",
   "metadata": {},
   "source": [
    "### We generate the data corruptions to evaluate: missing values of different kinds and strengths for the columns of interest"
   ]
  },
  {
   "cell_type": "code",
   "execution_count": 18,
   "metadata": {},
   "outputs": [],
   "source": [
    "evaluator = CorruptionImpactEvaluator(task)\n",
    "\n",
    "corruptions = []\n",
    "for impacted_column in ['education', 'workclass', 'marital_status', 'occupation']:\n",
    "    for fraction in [0.99, 0.5, 0.25, 0.1, 0.01]:\n",
    "        for missingness in ['MCAR', 'MAR', 'MNAR']:\n",
    "            corruption = MissingValues(impacted_column, fraction, missingness=missingness, na_value=np.nan)\n",
    "            corruptions.append(corruption)"
   ]
  },
  {
   "cell_type": "markdown",
   "metadata": {},
   "source": [
    "### Train the baseline model"
   ]
  },
  {
   "cell_type": "code",
   "execution_count": 19,
   "metadata": {},
   "outputs": [
    {
     "name": "stdout",
     "output_type": "stream",
     "text": [
      "Fitting 5 folds for each of 12 candidates, totalling 60 fits\n"
     ]
    },
    {
     "name": "stderr",
     "output_type": "stream",
     "text": [
      "[Parallel(n_jobs=-1)]: Using backend LokyBackend with 8 concurrent workers.\n",
      "[Parallel(n_jobs=-1)]: Done  34 tasks      | elapsed:    2.7s\n",
      "[Parallel(n_jobs=-1)]: Done  60 out of  60 | elapsed:    3.1s finished\n"
     ]
    }
   ],
   "source": [
    "model = task.fit_baseline_model(task.train_data, task.train_labels)"
   ]
  },
  {
   "cell_type": "markdown",
   "metadata": {},
   "source": [
    "### We create two additional models, one that uses the datawig imputers and another one that uses the  mode imputer"
   ]
  },
  {
   "cell_type": "code",
   "execution_count": 20,
   "metadata": {},
   "outputs": [],
   "source": [
    "datawig_model = ChainedModelDecorator(model, [education_imputer, workclass_imputer, \n",
    "                                                        marital_status_imputer, occupation_imputer])\n",
    "mode_model = ModelDecorator(model, imputer)"
   ]
  },
  {
   "cell_type": "markdown",
   "metadata": {},
   "source": [
    "### Evaluate the impact of the corruptions on the baseline model and the model with mode imputation"
   ]
  },
  {
   "cell_type": "code",
   "execution_count": 21,
   "metadata": {},
   "outputs": [
    {
     "name": "stdout",
     "output_type": "stream",
     "text": [
      "0/600 (0.018958999999995285)\n",
      "10/600 (0.1908939999998438)\n",
      "20/600 (0.39341399999989335)\n",
      "30/600 (0.5894269999998869)\n",
      "40/600 (0.768291999999974)\n",
      "50/600 (0.9796839999999065)\n",
      "60/600 (1.1884759999998096)\n",
      "70/600 (1.3675479999999425)\n",
      "80/600 (1.5585579999999482)\n",
      "90/600 (1.757327000000032)\n",
      "100/600 (1.9471199999998134)\n",
      "110/600 (2.1367669999999634)\n",
      "120/600 (2.3312049999999545)\n",
      "130/600 (2.5115359999999782)\n",
      "140/600 (2.7168389999999363)\n",
      "150/600 (2.904880999999932)\n",
      "160/600 (3.071954000000005)\n",
      "170/600 (3.2657729999998537)\n",
      "180/600 (3.4666879999999765)\n",
      "190/600 (3.6373519999999644)\n",
      "200/600 (3.8401779999999235)\n",
      "210/600 (4.040876000000026)\n",
      "220/600 (4.221401999999898)\n",
      "230/600 (4.408975999999939)\n",
      "240/600 (4.598799999999983)\n",
      "250/600 (4.790009999999938)\n",
      "260/600 (4.995473999999831)\n",
      "270/600 (5.184755999999879)\n",
      "280/600 (5.357086999999865)\n",
      "290/600 (5.538969999999836)\n",
      "300/600 (5.74452499999984)\n",
      "310/600 (5.921030999999857)\n",
      "320/600 (6.117923000000019)\n",
      "330/600 (6.314012999999932)\n",
      "340/600 (6.496251999999913)\n",
      "350/600 (6.692238999999972)\n",
      "360/600 (6.900142999999844)\n",
      "370/600 (7.073151999999936)\n",
      "380/600 (7.283463999999867)\n",
      "390/600 (7.48445300000003)\n",
      "400/600 (7.663878999999952)\n",
      "410/600 (7.864323999999897)\n",
      "420/600 (8.074449999999842)\n",
      "430/600 (8.261029000000008)\n",
      "440/600 (8.476637999999866)\n",
      "450/600 (8.676662999999962)\n",
      "460/600 (8.855958999999984)\n",
      "470/600 (9.097663999999895)\n",
      "480/600 (9.30408199999988)\n",
      "490/600 (9.499389999999948)\n",
      "500/600 (9.69453999999996)\n",
      "510/600 (9.896092999999837)\n",
      "520/600 (10.057836999999836)\n",
      "530/600 (10.253080999999838)\n",
      "540/600 (10.432720000000018)\n",
      "550/600 (10.608760999999959)\n",
      "560/600 (10.807513999999856)\n",
      "570/600 (10.98799599999984)\n",
      "580/600 (11.150351)\n",
      "590/600 (11.336250999999947)\n",
      "0/600 (0.020414999999957217)\n",
      "10/600 (0.21169499999996333)\n",
      "20/600 (0.42033999999989646)\n",
      "30/600 (0.6487329999999929)\n",
      "40/600 (0.8386279999999715)\n",
      "50/600 (1.0537600000000111)\n",
      "60/600 (1.2535659999998643)\n",
      "70/600 (1.445788999999877)\n",
      "80/600 (1.6637430000000677)\n",
      "90/600 (1.8774809999999889)\n",
      "100/600 (2.0670370000000275)\n",
      "110/600 (2.2757930000000215)\n",
      "120/600 (2.470448000000033)\n",
      "130/600 (2.652170000000069)\n",
      "140/600 (2.859118999999964)\n",
      "150/600 (3.0552789999999277)\n",
      "160/600 (3.239753999999948)\n",
      "170/600 (3.4501020000000153)\n",
      "180/600 (3.659611000000041)\n",
      "190/600 (3.849179000000049)\n",
      "200/600 (4.095593000000008)\n",
      "210/600 (4.307900000000018)\n",
      "220/600 (4.4881410000000415)\n",
      "230/600 (4.708210999999892)\n",
      "240/600 (4.913142999999991)\n",
      "250/600 (5.099725000000035)\n",
      "260/600 (5.318786999999929)\n",
      "270/600 (5.541699999999992)\n",
      "280/600 (5.728567999999996)\n",
      "290/600 (5.93122500000004)\n",
      "300/600 (6.138071000000082)\n",
      "310/600 (6.318641999999954)\n",
      "320/600 (6.527231999999913)\n",
      "330/600 (6.742307999999866)\n",
      "340/600 (6.933041999999887)\n",
      "350/600 (7.15395599999988)\n",
      "360/600 (7.352427000000034)\n",
      "370/600 (7.535846999999876)\n",
      "380/600 (7.751643000000058)\n",
      "390/600 (7.948591999999962)\n",
      "400/600 (8.14049399999999)\n",
      "410/600 (8.348340000000007)\n",
      "420/600 (8.58195899999987)\n",
      "430/600 (8.760273999999981)\n",
      "440/600 (8.974338999999873)\n",
      "450/600 (9.180012000000033)\n",
      "460/600 (9.384806000000026)\n",
      "470/600 (9.610971000000063)\n",
      "480/600 (9.839365999999927)\n",
      "490/600 (10.025132999999869)\n",
      "500/600 (10.251549000000068)\n",
      "510/600 (10.468270000000075)\n",
      "520/600 (10.66258599999992)\n",
      "530/600 (10.873481999999967)\n",
      "540/600 (11.0759579999999)\n",
      "550/600 (11.2691769999999)\n",
      "560/600 (11.49751399999991)\n",
      "570/600 (11.731184999999869)\n",
      "580/600 (11.949166999999989)\n",
      "590/600 (12.164201999999932)\n"
     ]
    }
   ],
   "source": [
    "results = evaluator.evaluate(model, 10, *corruptions)\n",
    "decorated_results = evaluator.evaluate(mode_model, 10, *corruptions)"
   ]
  },
  {
   "cell_type": "markdown",
   "metadata": {},
   "source": [
    "### Evaluate the impact of the corruptions on the model with datawig imputation"
   ]
  },
  {
   "cell_type": "code",
   "execution_count": null,
   "metadata": {},
   "outputs": [
    {
     "name": "stdout",
     "output_type": "stream",
     "text": [
      "0/600 (11.728351999999859)\n",
      "10/600 (128.95038399999999)\n",
      "20/600 (247.1644859999999)\n",
      "30/600 (364.05828299999985)\n",
      "40/600 (481.7746539999998)\n"
     ]
    }
   ],
   "source": [
    "datawig_results = evaluator.evaluate(datawig_model, 10, *corruptions)"
   ]
  },
  {
   "cell_type": "markdown",
   "metadata": {},
   "source": [
    "### Code to plot the results"
   ]
  },
  {
   "cell_type": "code",
   "execution_count": null,
   "metadata": {},
   "outputs": [],
   "source": [
    "def find_result(column, fraction, missingness, results):\n",
    "    for result in results:\n",
    "        corr = result.corruption\n",
    "        if corr.column == column and corr.fraction == fraction and corr.missingness == missingness:\n",
    "            return result"
   ]
  },
  {
   "cell_type": "code",
   "execution_count": null,
   "metadata": {},
   "outputs": [],
   "source": [
    "def plot_impact(column, plt, results, suffix=''):\n",
    "    ax = plt.gca()\n",
    "    \n",
    "    scores = []\n",
    "    labels = []\n",
    "\n",
    "    for impacted_column in [column]:\n",
    "        for fraction in [0.01, 0.1, 0.5, 0.99]:  \n",
    "            for missingness in ['MNAR', 'MAR', 'MCAR']:                    \n",
    "                result = find_result(impacted_column, fraction, missingness, results)\n",
    "                scores.append(result.corrupted_scores)\n",
    "                labels.append(f\"{missingness} {int(fraction*100)}%\")\n",
    "\n",
    "    baseline_score = result.baseline_score            \n",
    "\n",
    "    ax.axhline(baseline_score, linestyle='--', color='red')\n",
    "    bplot = ax.boxplot(scores, showfliers=False, patch_artist=True, medianprops={'color':'black'})\n",
    "\n",
    "    colors = ['#1e4052', '#dc6082', '#e1a677',\n",
    "              '#1e4052', '#dc6082', '#e1a677', \n",
    "              '#1e4052', '#dc6082', '#e1a677', \n",
    "              '#1e4052', '#dc6082', '#e1a677']\n",
    "    \n",
    "    for patch, color in zip(bplot['boxes'], colors):\n",
    "        patch.set_facecolor(color)\n",
    "        \n",
    "    ax.yaxis.grid(True)\n",
    "\n",
    "    ax.set_xticklabels(labels)\n",
    "    for tick in ax.get_xticklabels():\n",
    "        tick.set_rotation(90)\n",
    "    \n",
    "    ax.set_ylim((0.79, 0.895))\n",
    "    ax.set_title(f\"Missing values in '{column}'\", fontsize=24)\n",
    "    ax.tick_params(axis='both', which='major', labelsize=22)\n",
    "    ax.tick_params(axis='both', which='minor', labelsize=22)    \n",
    "    ax.set_ylabel('AUC', fontsize=24)\n",
    "    \n",
    "    plt.gcf().set_size_inches(8, 6)\n",
    "    plt.tight_layout()\n",
    "    plt.show()"
   ]
  },
  {
   "cell_type": "code",
   "execution_count": null,
   "metadata": {},
   "outputs": [],
   "source": [
    "plot_impact('education', plt, results)"
   ]
  },
  {
   "cell_type": "code",
   "execution_count": null,
   "metadata": {},
   "outputs": [],
   "source": [
    "plot_impact('education', plt, decorated_results, '-mode')"
   ]
  },
  {
   "cell_type": "code",
   "execution_count": null,
   "metadata": {},
   "outputs": [],
   "source": [
    "plot_impact('education', plt, datawig_results, '-datawig')"
   ]
  },
  {
   "cell_type": "code",
   "execution_count": null,
   "metadata": {},
   "outputs": [],
   "source": [
    "plot_impact('workclass', plt, results)"
   ]
  },
  {
   "cell_type": "code",
   "execution_count": null,
   "metadata": {},
   "outputs": [],
   "source": [
    "plot_impact('workclass', plt, decorated_results, '-mode')"
   ]
  },
  {
   "cell_type": "code",
   "execution_count": null,
   "metadata": {},
   "outputs": [],
   "source": [
    "plot_impact('workclass', plt, datawig_results, '-datawig')"
   ]
  },
  {
   "cell_type": "code",
   "execution_count": null,
   "metadata": {},
   "outputs": [],
   "source": [
    "plot_impact('marital_status', plt, results)"
   ]
  },
  {
   "cell_type": "code",
   "execution_count": null,
   "metadata": {},
   "outputs": [],
   "source": [
    "plot_impact('marital_status', plt, decorated_results, '-mode')"
   ]
  },
  {
   "cell_type": "code",
   "execution_count": null,
   "metadata": {},
   "outputs": [],
   "source": [
    "plot_impact('marital_status', plt, datawig_results, '-datawig')"
   ]
  },
  {
   "cell_type": "code",
   "execution_count": null,
   "metadata": {},
   "outputs": [],
   "source": [
    "plot_impact('occupation', plt, results)"
   ]
  },
  {
   "cell_type": "code",
   "execution_count": null,
   "metadata": {},
   "outputs": [],
   "source": [
    "plot_impact('occupation', plt, decorated_results, '-mode')"
   ]
  },
  {
   "cell_type": "code",
   "execution_count": null,
   "metadata": {},
   "outputs": [],
   "source": [
    "plot_impact('occupation', plt, datawig_results, '-datawig')"
   ]
  },
  {
   "cell_type": "markdown",
   "metadata": {},
   "source": [
    "### Save the results for later analysis"
   ]
  },
  {
   "cell_type": "code",
   "execution_count": null,
   "metadata": {},
   "outputs": [],
   "source": [
    "import jsonpickle\n",
    "\n",
    "with open(\"datawig-results.jsonpickle\", \"w\") as text_file:\n",
    "    text_file.write(jsonpickle.encode(datawig_results))  \n",
    "    \n",
    "with open(\"mode-results.jsonpickle\", \"w\") as text_file:\n",
    "    text_file.write(jsonpickle.encode(decorated_results))    \n",
    "    \n",
    "with open(\"no-results.jsonpickle\", \"w\") as text_file:\n",
    "    text_file.write(jsonpickle.encode(results))        "
   ]
  }
 ],
 "metadata": {
  "kernelspec": {
   "display_name": "Python 3",
   "language": "python",
   "name": "python3"
  },
  "language_info": {
   "codemirror_mode": {
    "name": "ipython",
    "version": 3
   },
   "file_extension": ".py",
   "mimetype": "text/x-python",
   "name": "python",
   "nbconvert_exporter": "python",
   "pygments_lexer": "ipython3",
   "version": "3.7.8"
  }
 },
 "nbformat": 4,
 "nbformat_minor": 4
}
