{
 "cells": [
  {
   "cell_type": "code",
   "execution_count": 1,
   "metadata": {},
   "outputs": [
    {
     "name": "stderr",
     "output_type": "stream",
     "text": [
      "Using TensorFlow backend.\n"
     ]
    }
   ],
   "source": [
    "from jenga.tasks.shoes import ShoeCategorizationTask\n",
    "from jenga.corruptions.image import GaussianNoiseCorruption, MotionBlurCorruption, FogCorruption, BrightnessCorruption\n",
    "\n",
    "from jenga.evaluation.corruption_impact import CorruptionImpactEvaluator\n",
    "\n",
    "import matplotlib.pyplot as plt\n",
    "\n",
    "import imgaug.augmenters as iaa"
   ]
  },
  {
   "cell_type": "markdown",
   "metadata": {},
   "source": [
    "### Instantiate the shoe categorization task and train a baseline model"
   ]
  },
  {
   "cell_type": "code",
   "execution_count": 2,
   "metadata": {},
   "outputs": [
    {
     "name": "stdout",
     "output_type": "stream",
     "text": [
      "Downloading data from https://storage.googleapis.com/tensorflow/tf-keras-datasets/train-labels-idx1-ubyte.gz\n",
      "32768/29515 [=================================] - 0s 1us/step\n",
      "Downloading data from https://storage.googleapis.com/tensorflow/tf-keras-datasets/train-images-idx3-ubyte.gz\n",
      "26427392/26421880 [==============================] - 4s 0us/step\n",
      "Downloading data from https://storage.googleapis.com/tensorflow/tf-keras-datasets/t10k-labels-idx1-ubyte.gz\n",
      "8192/5148 [===============================================] - 0s 0us/step\n",
      "Downloading data from https://storage.googleapis.com/tensorflow/tf-keras-datasets/t10k-images-idx3-ubyte.gz\n",
      "4423680/4422102 [==============================] - 1s 0us/step\n",
      "WARNING:tensorflow:From /Users/felix/code/jenga/yacl_env/lib/python3.7/site-packages/tensorflow/python/ops/resource_variable_ops.py:435: colocate_with (from tensorflow.python.framework.ops) is deprecated and will be removed in a future version.\n",
      "Instructions for updating:\n",
      "Colocations handled automatically by placer.\n",
      "WARNING:tensorflow:From /Users/felix/code/jenga/yacl_env/lib/python3.7/site-packages/tensorflow/python/keras/layers/core.py:143: calling dropout (from tensorflow.python.ops.nn_ops) with keep_prob is deprecated and will be removed in a future version.\n",
      "Instructions for updating:\n",
      "Please use `rate` instead of `keep_prob`. Rate should be set to `rate = 1 - keep_prob`.\n",
      "WARNING:tensorflow:From /Users/felix/code/jenga/yacl_env/lib/python3.7/site-packages/tensorflow/python/ops/math_ops.py:3066: to_int32 (from tensorflow.python.ops.math_ops) is deprecated and will be removed in a future version.\n",
      "Instructions for updating:\n",
      "Use tf.cast instead.\n",
      "12000/12000 [==============================] - 10s 833us/sample - loss: 0.1644 - acc: 0.9372\n"
     ]
    }
   ],
   "source": [
    "task = ShoeCategorizationTask(seed=42)\n",
    "\n",
    "baseline_model = task.fit_baseline_model(task.train_data, task.train_labels)"
   ]
  },
  {
   "cell_type": "markdown",
   "metadata": {},
   "source": [
    "### Train another model on data augmented with gaussian noise corruptions "
   ]
  },
  {
   "cell_type": "code",
   "execution_count": 3,
   "metadata": {},
   "outputs": [
    {
     "name": "stdout",
     "output_type": "stream",
     "text": [
      "24000/24000 [==============================] - 20s 823us/sample - loss: 0.1712 - acc: 0.9312\n"
     ]
    }
   ],
   "source": [
    "import numpy as np\n",
    "\n",
    "augmented_data = [task.train_data]\n",
    "augmented_labels= [task.train_labels]\n",
    "\n",
    "for severity in range(1, 6):\n",
    "    indexes = np.random.choice(range(0, len(task.train_data)), 2400)\n",
    "    sample = task.train_data[indexes, :, :].copy()\n",
    "    corrupted_sample = GaussianNoiseCorruption(fraction=1.0, severity=severity).transform(sample)\n",
    "    augmented_data.append(corrupted_sample)\n",
    "    augmented_labels.append(task.train_labels[indexes].copy())\n",
    "\n",
    "gaussian_noise_model = task.fit_baseline_model(np.concatenate(augmented_data), \n",
    "                                               np.concatenate(augmented_labels))\n"
   ]
  },
  {
   "cell_type": "markdown",
   "metadata": {},
   "source": [
    "### Evaluate how well both models can handle corrupted test data"
   ]
  },
  {
   "cell_type": "code",
   "execution_count": 4,
   "metadata": {},
   "outputs": [
    {
     "name": "stdout",
     "output_type": "stream",
     "text": [
      "0/70 (0.6609609999999861)\n",
      "10/70 (7.375179000000003)\n",
      "20/70 (14.353520000000003)\n",
      "30/70 (21.894346999999982)\n",
      "40/70 (31.181786999999986)\n",
      "50/70 (42.78151199999999)\n",
      "60/70 (56.650476999999995)\n",
      "0/70 (0.6054120000000012)\n",
      "10/70 (7.062217000000004)\n",
      "20/70 (14.940179)\n",
      "30/70 (22.67990599999999)\n",
      "40/70 (32.379549)\n",
      "50/70 (44.063777999999985)\n",
      "60/70 (57.755416999999994)\n"
     ]
    }
   ],
   "source": [
    "evaluator = CorruptionImpactEvaluator(task)\n",
    "\n",
    "corruptions  = []\n",
    "for fraction in [0.01, 0.05, 0.1, 0.25, 0.5, 0.75, 0.99]:\n",
    "    corruptions.append(GaussianNoiseCorruption(fraction=fraction, severity=4))\n",
    "    \n",
    "gaussian_noise_results = evaluator.evaluate(baseline_model, 10, *corruptions)        \n",
    "gaussian_noise_results_aug = evaluator.evaluate(gaussian_noise_model, 10, *corruptions)    "
   ]
  },
  {
   "cell_type": "markdown",
   "metadata": {},
   "source": [
    "### Train another model on data augmented with motion blur corruptions "
   ]
  },
  {
   "cell_type": "code",
   "execution_count": 5,
   "metadata": {},
   "outputs": [
    {
     "name": "stdout",
     "output_type": "stream",
     "text": [
      "24000/24000 [==============================] - 21s 857us/sample - loss: 0.1858 - acc: 0.9303\n"
     ]
    }
   ],
   "source": [
    "import numpy as np\n",
    "\n",
    "augmented_data = [task.train_data]\n",
    "augmented_labels= [task.train_labels]\n",
    "\n",
    "for severity in range(1, 6):\n",
    "    indexes = np.random.choice(range(0, len(task.train_data)), 2400)\n",
    "    sample = task.train_data[indexes, :, :].copy()\n",
    "    corrupted_sample = MotionBlurCorruption(fraction=1.0, severity=severity).transform(sample)\n",
    "    augmented_data.append(corrupted_sample)\n",
    "    augmented_labels.append(task.train_labels[indexes].copy())\n",
    "\n",
    "motion_blur_model = task.fit_baseline_model(np.concatenate(augmented_data), \n",
    "                                            np.concatenate(augmented_labels))"
   ]
  },
  {
   "cell_type": "markdown",
   "metadata": {},
   "source": [
    "### Evaluate how well both models can handle corrupted test data"
   ]
  },
  {
   "cell_type": "code",
   "execution_count": 6,
   "metadata": {},
   "outputs": [
    {
     "name": "stdout",
     "output_type": "stream",
     "text": [
      "0/70 (0.7180569999999875)\n",
      "10/70 (8.176355000000001)\n",
      "20/70 (17.893361000000027)\n",
      "30/70 (30.939771000000007)\n",
      "40/70 (50.148056999999994)\n",
      "50/70 (80.53554300000002)\n",
      "60/70 (121.69533600000005)\n",
      "0/70 (0.7250739999999496)\n",
      "10/70 (8.000704999999925)\n",
      "20/70 (18.423169999999914)\n",
      "30/70 (31.898855000000026)\n",
      "40/70 (51.26669700000002)\n",
      "50/70 (82.34317799999997)\n",
      "60/70 (122.81741199999999)\n"
     ]
    }
   ],
   "source": [
    "evaluator = CorruptionImpactEvaluator(task)\n",
    "\n",
    "corruptions  = []\n",
    "for fraction in [0.01, 0.05, 0.1, 0.25, 0.5, 0.75, 0.99]:\n",
    "    corruptions.append(MotionBlurCorruption(fraction=fraction, severity=4))\n",
    "    \n",
    "motion_blur_results = evaluator.evaluate(baseline_model, 10, *corruptions)        \n",
    "motion_blur_results_aug = evaluator.evaluate(motion_blur_model, 10, *corruptions)    "
   ]
  },
  {
   "cell_type": "markdown",
   "metadata": {},
   "source": [
    "### Train another model on data augmented with fog corruptions "
   ]
  },
  {
   "cell_type": "code",
   "execution_count": 7,
   "metadata": {},
   "outputs": [
    {
     "name": "stdout",
     "output_type": "stream",
     "text": [
      "24000/24000 [==============================] - 19s 798us/sample - loss: 0.2096 - acc: 0.9173\n"
     ]
    }
   ],
   "source": [
    "import numpy as np\n",
    "\n",
    "augmented_data = [task.train_data]\n",
    "augmented_labels= [task.train_labels]\n",
    "\n",
    "for severity in range(1, 6):\n",
    "    indexes = np.random.choice(range(0, len(task.train_data)), 2400)\n",
    "    sample = task.train_data[indexes, :, :].copy()\n",
    "    corrupted_sample = FogCorruption(fraction=1.0, severity=severity).transform(sample)\n",
    "    augmented_data.append(corrupted_sample)\n",
    "    augmented_labels.append(task.train_labels[indexes].copy())\n",
    "\n",
    "fog_model = task.fit_baseline_model(np.concatenate(augmented_data), \n",
    "                                    np.concatenate(augmented_labels))"
   ]
  },
  {
   "cell_type": "markdown",
   "metadata": {},
   "source": [
    "### Evaluate how well both models can handle corrupted test data"
   ]
  },
  {
   "cell_type": "code",
   "execution_count": 8,
   "metadata": {},
   "outputs": [
    {
     "name": "stdout",
     "output_type": "stream",
     "text": [
      "0/70 (0.7553169999999909)\n",
      "10/70 (8.355723000000012)\n",
      "20/70 (17.19362799999999)\n",
      "30/70 (27.806149000000005)\n",
      "40/70 (42.206969999999956)\n",
      "50/70 (62.35116699999992)\n",
      "60/70 (88.37097199999994)\n",
      "0/70 (0.6459979999999632)\n",
      "10/70 (7.607313999999974)\n",
      "20/70 (16.238458000000037)\n",
      "30/70 (26.43098599999996)\n",
      "40/70 (40.998852000000056)\n",
      "50/70 (65.730503)\n",
      "60/70 (105.20918100000006)\n"
     ]
    }
   ],
   "source": [
    "evaluator = CorruptionImpactEvaluator(task)\n",
    "\n",
    "corruptions  = []\n",
    "for fraction in [0.01, 0.05, 0.1, 0.25, 0.5, 0.75, 0.99]:\n",
    "    corruptions.append(FogCorruption(fraction=fraction, severity=4))\n",
    "    \n",
    "fog_results = evaluator.evaluate(baseline_model, 10, *corruptions)        \n",
    "fog_results_aug = evaluator.evaluate(fog_model, 10, *corruptions)   "
   ]
  },
  {
   "cell_type": "markdown",
   "metadata": {},
   "source": [
    "### Plot the results"
   ]
  },
  {
   "cell_type": "code",
   "execution_count": 9,
   "metadata": {},
   "outputs": [
    {
     "data": {
      "image/png": "[encoded data removed]",
      "text/plain": [
       "<Figure size 504x360 with 1 Axes>"
      ]
     },
     "metadata": {
      "needs_background": "light"
     },
     "output_type": "display_data"
    }
   ],
   "source": [
    "def as_series(results):\n",
    "    medians = []\n",
    "    for result in results:\n",
    "        medians.append(np.median(result.corrupted_scores))\n",
    "    return medians\n",
    "\n",
    "ax = plt.gca()        \n",
    "\n",
    "fractions = [0.01, 0.05, 0.1, 0.25, 0.5, 0.75, 0.99]\n",
    "markersize=6\n",
    "\n",
    "l = ax.axhline(gaussian_noise_results[0].baseline_score, linestyle='--', color='black')    \n",
    "\n",
    "plt.plot(fractions, as_series(gaussian_noise_results_aug), color='#dc6082', linestyle='dotted', \n",
    "         marker='^', markersize=markersize, fillstyle='none')\n",
    "plt.plot(fractions, as_series(gaussian_noise_results), color='#dc6082', \n",
    "         marker='o', markersize=markersize)\n",
    "\n",
    "plt.plot(fractions, as_series(motion_blur_results_aug), color='#1e4052', linestyle='dotted', \n",
    "         marker='^', markersize=markersize, fillstyle='none')\n",
    "plt.plot(fractions, as_series(motion_blur_results), color='#1e4052', \n",
    "         marker='o', markersize=markersize)\n",
    "\n",
    "plt.plot(fractions, as_series(fog_results_aug), color='#e1a677', linestyle='dotted', \n",
    "         marker='^', markersize=markersize, fillstyle='none')\n",
    "plt.plot(fractions, as_series(fog_results), color='#e1a677', \n",
    "         marker='o', markersize=markersize)\n",
    "\n",
    "\n",
    "ax.set_ylim((0.9, 0.999))\n",
    "ax.tick_params(axis='both', which='major', labelsize=22)\n",
    "ax.tick_params(axis='both', which='minor', labelsize=22)    \n",
    "ax.set_ylabel('AUC', fontsize=24)\n",
    "ax.set_xlabel('fraction', fontsize=24)\n",
    "    \n",
    "ax.legend(['clean', 'noise (aug)', 'noise', 'motion (aug)', 'motion', 'fog (aug)', 'fog'], \n",
    "          fontsize=12)    \n",
    "    \n",
    "plt.tight_layout()\n",
    "plt.gcf().set_size_inches(7, 5)\n",
    "\n",
    "plt.show()"
   ]
  }
 ],
 "metadata": {
  "kernelspec": {
   "display_name": "Python 3",
   "language": "python",
   "name": "python3"
  },
  "language_info": {
   "codemirror_mode": {
    "name": "ipython",
    "version": 3
   },
   "file_extension": ".py",
   "mimetype": "text/x-python",
   "name": "python",
   "nbconvert_exporter": "python",
   "pygments_lexer": "ipython3",
   "version": "3.7.8"
  }
 },
 "nbformat": 4,
 "nbformat_minor": 4
}
