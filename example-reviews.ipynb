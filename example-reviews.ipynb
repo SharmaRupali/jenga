{
 "cells": [
  {
   "cell_type": "code",
   "execution_count": 1,
   "metadata": {},
   "outputs": [],
   "source": [
    "from jenga.tasks.reviews import VideogameReviewsTask\n",
    "from jenga.corruptions.text import MissingValues, BrokenCharacters"
   ]
  },
  {
   "cell_type": "markdown",
   "metadata": {},
   "source": [
    "## Predicting the helpfulness of reviews on video games\n",
    "\n",
    "We have a dataset of weekly reviews for video games, and need to predict whether a given review will be deemed helpful by the users"
   ]
  },
  {
   "cell_type": "code",
   "execution_count": 7,
   "metadata": {},
   "outputs": [],
   "source": [
    "task = VideogameReviewsTask()"
   ]
  },
  {
   "cell_type": "markdown",
   "metadata": {},
   "source": [
    "Lets jump tp the first week of data"
   ]
  },
  {
   "cell_type": "code",
   "execution_count": 8,
   "metadata": {},
   "outputs": [
    {
     "data": {
      "text/plain": [
       "True"
      ]
     },
     "execution_count": 8,
     "metadata": {},
     "output_type": "execute_result"
    }
   ],
   "source": [
    "task.advance_current_week()"
   ]
  },
  {
   "cell_type": "code",
   "execution_count": 13,
   "metadata": {},
   "outputs": [
    {
     "data": {
      "text/html": [
       "<div>\n",
       "<style scoped>\n",
       "    .dataframe tbody tr th:only-of-type {\n",
       "        vertical-align: middle;\n",
       "    }\n",
       "\n",
       "    .dataframe tbody tr th {\n",
       "        vertical-align: top;\n",
       "    }\n",
       "\n",
       "    .dataframe thead th {\n",
       "        text-align: right;\n",
       "    }\n",
       "</style>\n",
       "<table border=\"1\" class=\"dataframe\">\n",
       "  <thead>\n",
       "    <tr style=\"text-align: right;\">\n",
       "      <th></th>\n",
       "      <th>star_rating</th>\n",
       "      <th>title_and_review_text</th>\n",
       "    </tr>\n",
       "  </thead>\n",
       "  <tbody>\n",
       "    <tr>\n",
       "      <th>21596</th>\n",
       "      <td>5</td>\n",
       "      <td>Shin Megami Tensei: Persona 3 FES A classic A ...</td>\n",
       "    </tr>\n",
       "    <tr>\n",
       "      <th>21597</th>\n",
       "      <td>4</td>\n",
       "      <td>Classic USB NES Controller for PC / Mac - (Not...</td>\n",
       "    </tr>\n",
       "    <tr>\n",
       "      <th>21598</th>\n",
       "      <td>3</td>\n",
       "      <td>Falcon 4.0: Allied Force - PC Compatibility No...</td>\n",
       "    </tr>\n",
       "    <tr>\n",
       "      <th>21599</th>\n",
       "      <td>5</td>\n",
       "      <td>Star Wars: The Force Unleashed Five Stars good</td>\n",
       "    </tr>\n",
       "    <tr>\n",
       "      <th>21600</th>\n",
       "      <td>5</td>\n",
       "      <td>The Evil Within Five Stars Was a gift.&lt;br /&gt;Ve...</td>\n",
       "    </tr>\n",
       "    <tr>\n",
       "      <th>...</th>\n",
       "      <td>...</td>\n",
       "      <td>...</td>\n",
       "    </tr>\n",
       "    <tr>\n",
       "      <th>29389</th>\n",
       "      <td>1</td>\n",
       "      <td>Sims 4 I'm really sad that ea ruined my favori...</td>\n",
       "    </tr>\n",
       "    <tr>\n",
       "      <th>29390</th>\n",
       "      <td>5</td>\n",
       "      <td>The Legend of Zelda: Majora's Mask Five Stars ...</td>\n",
       "    </tr>\n",
       "    <tr>\n",
       "      <th>29391</th>\n",
       "      <td>5</td>\n",
       "      <td>The Elder Scrolls V: Skyrim Legendary Edition ...</td>\n",
       "    </tr>\n",
       "    <tr>\n",
       "      <th>29392</th>\n",
       "      <td>4</td>\n",
       "      <td>Star Trek Voyager: Elite Force Four Stars good...</td>\n",
       "    </tr>\n",
       "    <tr>\n",
       "      <th>29393</th>\n",
       "      <td>5</td>\n",
       "      <td>Grand Theft Auto V Five Stars Love it</td>\n",
       "    </tr>\n",
       "  </tbody>\n",
       "</table>\n",
       "<p>7798 rows × 2 columns</p>\n",
       "</div>"
      ],
      "text/plain": [
       "       star_rating                              title_and_review_text\n",
       "21596            5  Shin Megami Tensei: Persona 3 FES A classic A ...\n",
       "21597            4  Classic USB NES Controller for PC / Mac - (Not...\n",
       "21598            3  Falcon 4.0: Allied Force - PC Compatibility No...\n",
       "21599            5     Star Wars: The Force Unleashed Five Stars good\n",
       "21600            5  The Evil Within Five Stars Was a gift.<br />Ve...\n",
       "...            ...                                                ...\n",
       "29389            1  Sims 4 I'm really sad that ea ruined my favori...\n",
       "29390            5  The Legend of Zelda: Majora's Mask Five Stars ...\n",
       "29391            5  The Elder Scrolls V: Skyrim Legendary Edition ...\n",
       "29392            4  Star Trek Voyager: Elite Force Four Stars good...\n",
       "29393            5              Grand Theft Auto V Five Stars Love it\n",
       "\n",
       "[7798 rows x 2 columns]"
      ]
     },
     "execution_count": 13,
     "metadata": {},
     "output_type": "execute_result"
    }
   ],
   "source": [
    "train_data = task.current_new_train_data()\n",
    "train_labels = task.current_new_train_labels()\n",
    "\n",
    "train_data[['star_rating', 'title_and_review_text']]"
   ]
  },
  {
   "cell_type": "markdown",
   "metadata": {},
   "source": [
    "### Fit a baseline model (logistic regression) on the current train data"
   ]
  },
  {
   "cell_type": "code",
   "execution_count": 14,
   "metadata": {},
   "outputs": [],
   "source": [
    "model = task.fit_baseline_model(train_data, train_labels)"
   ]
  },
  {
   "cell_type": "markdown",
   "metadata": {},
   "source": [
    "### Measure its prediction quality on unseen data"
   ]
  },
  {
   "cell_type": "code",
   "execution_count": 15,
   "metadata": {},
   "outputs": [
    {
     "data": {
      "text/html": [
       "<div>\n",
       "<style scoped>\n",
       "    .dataframe tbody tr th:only-of-type {\n",
       "        vertical-align: middle;\n",
       "    }\n",
       "\n",
       "    .dataframe tbody tr th {\n",
       "        vertical-align: top;\n",
       "    }\n",
       "\n",
       "    .dataframe thead th {\n",
       "        text-align: right;\n",
       "    }\n",
       "</style>\n",
       "<table border=\"1\" class=\"dataframe\">\n",
       "  <thead>\n",
       "    <tr style=\"text-align: right;\">\n",
       "      <th></th>\n",
       "      <th>star_rating</th>\n",
       "      <th>title_and_review_text</th>\n",
       "    </tr>\n",
       "  </thead>\n",
       "  <tbody>\n",
       "    <tr>\n",
       "      <th>13864</th>\n",
       "      <td>5</td>\n",
       "      <td>Dark Souls Five Stars Grandson likes it</td>\n",
       "    </tr>\n",
       "    <tr>\n",
       "      <th>13865</th>\n",
       "      <td>4</td>\n",
       "      <td>GoldenEye 007 Four Stars It doesn't always sta...</td>\n",
       "    </tr>\n",
       "    <tr>\n",
       "      <th>13866</th>\n",
       "      <td>1</td>\n",
       "      <td>Wolfenstein: The New Order I thought it sucked...</td>\n",
       "    </tr>\n",
       "    <tr>\n",
       "      <th>13867</th>\n",
       "      <td>5</td>\n",
       "      <td>Far Cry 4 but the storyline is great and the c...</td>\n",
       "    </tr>\n",
       "    <tr>\n",
       "      <th>13868</th>\n",
       "      <td>1</td>\n",
       "      <td>Mortal Kombat X Fight Pad for Xbox One and Xbo...</td>\n",
       "    </tr>\n",
       "    <tr>\n",
       "      <th>...</th>\n",
       "      <td>...</td>\n",
       "      <td>...</td>\n",
       "    </tr>\n",
       "    <tr>\n",
       "      <th>21591</th>\n",
       "      <td>5</td>\n",
       "      <td>Need for Speed Rivals Buy it! This game is awe...</td>\n",
       "    </tr>\n",
       "    <tr>\n",
       "      <th>21592</th>\n",
       "      <td>5</td>\n",
       "      <td>BLADESTORM: Nightmare Bladestorm: Nightmare I ...</td>\n",
       "    </tr>\n",
       "    <tr>\n",
       "      <th>21593</th>\n",
       "      <td>5</td>\n",
       "      <td>Xbox 360 Black Play and Charge Kit Awesome bat...</td>\n",
       "    </tr>\n",
       "    <tr>\n",
       "      <th>21594</th>\n",
       "      <td>5</td>\n",
       "      <td>Turtle Beach Ear Force : Premium Xbox One Surr...</td>\n",
       "    </tr>\n",
       "    <tr>\n",
       "      <th>21595</th>\n",
       "      <td>5</td>\n",
       "      <td>Kirby's Adventure Five Stars GREAT</td>\n",
       "    </tr>\n",
       "  </tbody>\n",
       "</table>\n",
       "<p>7732 rows × 2 columns</p>\n",
       "</div>"
      ],
      "text/plain": [
       "       star_rating                              title_and_review_text\n",
       "13864            5            Dark Souls Five Stars Grandson likes it\n",
       "13865            4  GoldenEye 007 Four Stars It doesn't always sta...\n",
       "13866            1  Wolfenstein: The New Order I thought it sucked...\n",
       "13867            5  Far Cry 4 but the storyline is great and the c...\n",
       "13868            1  Mortal Kombat X Fight Pad for Xbox One and Xbo...\n",
       "...            ...                                                ...\n",
       "21591            5  Need for Speed Rivals Buy it! This game is awe...\n",
       "21592            5  BLADESTORM: Nightmare Bladestorm: Nightmare I ...\n",
       "21593            5  Xbox 360 Black Play and Charge Kit Awesome bat...\n",
       "21594            5  Turtle Beach Ear Force : Premium Xbox One Surr...\n",
       "21595            5                 Kirby's Adventure Five Stars GREAT\n",
       "\n",
       "[7732 rows x 2 columns]"
      ]
     },
     "execution_count": 15,
     "metadata": {},
     "output_type": "execute_result"
    }
   ],
   "source": [
    "test_data = task.current_test_data()\n",
    "test_data[['star_rating', 'title_and_review_text']]"
   ]
  },
  {
   "cell_type": "code",
   "execution_count": 16,
   "metadata": {},
   "outputs": [
    {
     "data": {
      "text/plain": [
       "0.7903856534502519"
      ]
     },
     "execution_count": 16,
     "metadata": {},
     "output_type": "execute_result"
    }
   ],
   "source": [
    "predicted_helpfulness = model.predict_proba(test_data)\n",
    "task.score_on_current_test_data(predicted_helpfulness)"
   ]
  },
  {
   "cell_type": "markdown",
   "metadata": {},
   "source": [
    "### Investigate the effect of data corruptions on the prediction quality of our baselineline model"
   ]
  },
  {
   "cell_type": "code",
   "execution_count": 19,
   "metadata": {},
   "outputs": [
    {
     "data": {
      "text/html": [
       "<div>\n",
       "<style scoped>\n",
       "    .dataframe tbody tr th:only-of-type {\n",
       "        vertical-align: middle;\n",
       "    }\n",
       "\n",
       "    .dataframe tbody tr th {\n",
       "        vertical-align: top;\n",
       "    }\n",
       "\n",
       "    .dataframe thead th {\n",
       "        text-align: right;\n",
       "    }\n",
       "</style>\n",
       "<table border=\"1\" class=\"dataframe\">\n",
       "  <thead>\n",
       "    <tr style=\"text-align: right;\">\n",
       "      <th></th>\n",
       "      <th>star_rating</th>\n",
       "      <th>title_and_review_text</th>\n",
       "    </tr>\n",
       "  </thead>\n",
       "  <tbody>\n",
       "    <tr>\n",
       "      <th>13864</th>\n",
       "      <td>5</td>\n",
       "      <td>Dárk Sớúls Fivé Stárs Grándsớn likés it</td>\n",
       "    </tr>\n",
       "    <tr>\n",
       "      <th>13865</th>\n",
       "      <td>4</td>\n",
       "      <td>GoldenEye 007 Four Stars It doesn't always sta...</td>\n",
       "    </tr>\n",
       "    <tr>\n",
       "      <th>13866</th>\n",
       "      <td>1</td>\n",
       "      <td>Wớlfénstéin: Thé Néw Ớrdér I thớúght it súckéd...</td>\n",
       "    </tr>\n",
       "    <tr>\n",
       "      <th>13867</th>\n",
       "      <td>5</td>\n",
       "      <td>Far Cry 4 but the storyline is great and the c...</td>\n",
       "    </tr>\n",
       "    <tr>\n",
       "      <th>13868</th>\n",
       "      <td>1</td>\n",
       "      <td>Mớrtál Kớmbát X Fight Pád fớr Xbớx Ớné ánd Xbớ...</td>\n",
       "    </tr>\n",
       "    <tr>\n",
       "      <th>...</th>\n",
       "      <td>...</td>\n",
       "      <td>...</td>\n",
       "    </tr>\n",
       "    <tr>\n",
       "      <th>21591</th>\n",
       "      <td>5</td>\n",
       "      <td>Nééd fớr Spééd Riváls Búy it! This gámé is áwé...</td>\n",
       "    </tr>\n",
       "    <tr>\n",
       "      <th>21592</th>\n",
       "      <td>5</td>\n",
       "      <td>BLÁDÉSTỚRM: Nightmáré Bládéstớrm: Nightmáré I ...</td>\n",
       "    </tr>\n",
       "    <tr>\n",
       "      <th>21593</th>\n",
       "      <td>5</td>\n",
       "      <td>Xbớx 360 Bláck Pláy ánd Chárgé Kit Áwésớmé bát...</td>\n",
       "    </tr>\n",
       "    <tr>\n",
       "      <th>21594</th>\n",
       "      <td>5</td>\n",
       "      <td>Túrtlé Béách Éár Fớrcé : Prémiúm Xbớx Ớné Súrr...</td>\n",
       "    </tr>\n",
       "    <tr>\n",
       "      <th>21595</th>\n",
       "      <td>5</td>\n",
       "      <td>Kirby's Ádvéntúré Fivé Stárs GRÉÁT</td>\n",
       "    </tr>\n",
       "  </tbody>\n",
       "</table>\n",
       "<p>7732 rows × 2 columns</p>\n",
       "</div>"
      ],
      "text/plain": [
       "       star_rating                              title_and_review_text\n",
       "13864            5            Dárk Sớúls Fivé Stárs Grándsớn likés it\n",
       "13865            4  GoldenEye 007 Four Stars It doesn't always sta...\n",
       "13866            1  Wớlfénstéin: Thé Néw Ớrdér I thớúght it súckéd...\n",
       "13867            5  Far Cry 4 but the storyline is great and the c...\n",
       "13868            1  Mớrtál Kớmbát X Fight Pád fớr Xbớx Ớné ánd Xbớ...\n",
       "...            ...                                                ...\n",
       "21591            5  Nééd fớr Spééd Riváls Búy it! This gámé is áwé...\n",
       "21592            5  BLÁDÉSTỚRM: Nightmáré Bládéstớrm: Nightmáré I ...\n",
       "21593            5  Xbớx 360 Bláck Pláy ánd Chárgé Kit Áwésớmé bát...\n",
       "21594            5  Túrtlé Béách Éár Fớrcé : Prémiúm Xbớx Ớné Súrr...\n",
       "21595            5                 Kirby's Ádvéntúré Fivé Stárs GRÉÁT\n",
       "\n",
       "[7732 rows x 2 columns]"
      ]
     },
     "execution_count": 19,
     "metadata": {},
     "output_type": "execute_result"
    }
   ],
   "source": [
    "broken_characters_corruption = BrokenCharacters(column='title_and_review_text', fraction=0.8)\n",
    "\n",
    "corrupted_test_data = broken_characters_corruption.transform(test_data)\n",
    "corrupted_test_data[['star_rating', 'title_and_review_text']]"
   ]
  },
  {
   "cell_type": "code",
   "execution_count": 20,
   "metadata": {},
   "outputs": [
    {
     "data": {
      "text/plain": [
       "0.7193418965980516"
      ]
     },
     "execution_count": 20,
     "metadata": {},
     "output_type": "execute_result"
    }
   ],
   "source": [
    "predicted_helpfulness = model.predict_proba(corrupted_test_data)\n",
    "task.score_on_current_test_data(predicted_helpfulness)"
   ]
  },
  {
   "cell_type": "markdown",
   "metadata": {},
   "source": [
    "### Run a full Evaluation on the all the weeks covered in the task"
   ]
  },
  {
   "cell_type": "code",
   "execution_count": 6,
   "metadata": {},
   "outputs": [
    {
     "name": "stdout",
     "output_type": "stream",
     "text": [
      "----- Week 0 -----\n",
      "\tAUC on test data 0.7925661439396734\n",
      "\tAUC on corrupted test data (missing values) 0.6828580159428461\n",
      "\tAUC on corrupted test data (characters) 0.7259952065131646\n",
      "----- Week 1 -----\n",
      "\tAUC on test data 0.7943801183397029\n",
      "\tAUC on corrupted test data (missing values) 0.6488744448215313\n",
      "\tAUC on corrupted test data (characters) 0.7110671231057533\n",
      "----- Week 2 -----\n",
      "\tAUC on test data 0.8103957418631155\n",
      "\tAUC on corrupted test data (missing values) 0.6716894824455545\n",
      "\tAUC on corrupted test data (characters) 0.7271906814004152\n"
     ]
    }
   ],
   "source": [
    "task = VideogameReviewsTask()\n",
    "while task.advance_current_week():\n",
    "\n",
    "    print(\"----- Week\", task.current_week(), \"-----\")\n",
    "\n",
    "    train_data = task.current_accumulated_train_data()\n",
    "    train_labels = task.current_accumulated_train_labels()\n",
    "\n",
    "    model = task.fit_baseline_model(train_data, train_labels)\n",
    "\n",
    "    test_data = task.current_test_data()\n",
    "    predictions = model.predict_proba(task.current_test_data())\n",
    "\n",
    "    print(\"\\tAUC on test data\", task.score_on_current_test_data(predictions))\n",
    "\n",
    "    corrupted_test_data = missing_values_corruption.transform(test_data)\n",
    "    predictions = model.predict_proba(corrupted_test_data)\n",
    "    print(\"\\tAUC on corrupted test data (missing values)\", task.score_on_current_test_data(predictions))\n",
    "\n",
    "    corrupted_test_data = broken_characters_corruption.transform(test_data)\n",
    "    predictions = model.predict_proba(corrupted_test_data)\n",
    "    print(\"\\tAUC on corrupted test data (characters)\", task.score_on_current_test_data(predictions))"
   ]
  },
  {
   "cell_type": "code",
   "execution_count": null,
   "metadata": {},
   "outputs": [],
   "source": []
  }
 ],
 "metadata": {
  "kernelspec": {
   "display_name": "Python 3",
   "language": "python",
   "name": "python3"
  },
  "language_info": {
   "codemirror_mode": {
    "name": "ipython",
    "version": 3
   },
   "file_extension": ".py",
   "mimetype": "text/x-python",
   "name": "python",
   "nbconvert_exporter": "python",
   "pygments_lexer": "ipython3",
   "version": "3.6.10"
  }
 },
 "nbformat": 4,
 "nbformat_minor": 4
}
